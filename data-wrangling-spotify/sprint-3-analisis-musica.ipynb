{
 "cells": [
  {
   "cell_type": "markdown",
   "metadata": {},
   "source": [
    "Hola Natalia!\n",
    "\n",
    "Soy **Patricio Requena** 👋. Es un placer ser el revisor de tu proyecto el día de hoy!\n",
    "\n",
    "Revisaré tu proyecto detenidamente con el objetivo de ayudarte a mejorar y perfeccionar tus habilidades. Durante mi revisión, identificaré áreas donde puedas hacer mejoras en tu código, señalando específicamente qué y cómo podrías ajustar para optimizar el rendimiento y la claridad de tu proyecto. Además, es importante para mí destacar los aspectos que has manejado excepcionalmente bien. Reconocer tus fortalezas te ayudará a entender qué técnicas y métodos están funcionando a tu favor y cómo puedes aplicarlos en futuras tareas. \n",
    "\n",
    "_**Recuerda que al final de este notebook encontrarás un comentario general de mi parte**_, empecemos!\n",
    "\n",
    "Encontrarás mis comentarios dentro de cajas verdes, amarillas o rojas, ⚠️ **por favor, no muevas, modifiques o borres mis comentarios** ⚠️:\n",
    "\n",
    "\n",
    "<div class=\"alert alert-block alert-success\">\n",
    "<b>Comentario del revisor</b> <a class=“tocSkip”></a>\n",
    "Si todo está perfecto.\n",
    "</div>\n",
    "\n",
    "<div class=\"alert alert-block alert-warning\">\n",
    "<b>Comentario del revisor</b> <a class=“tocSkip”></a>\n",
    "Si tu código está bien pero se puede mejorar o hay algún detalle que le hace falta.\n",
    "</div>\n",
    "\n",
    "<div class=\"alert alert-block alert-danger\">\n",
    "<b>Comentario del revisor</b> <a class=“tocSkip”></a>\n",
    "Si de pronto hace falta algo o existe algún problema con tu código o conclusiones.\n",
    "</div>\n",
    "\n",
    "Puedes responderme de esta forma:\n",
    "<div class=\"alert alert-block alert-info\">\n",
    "<b>Respuesta del estudiante</b> <a class=“tocSkip”></a>\n",
    "</div>"
   ]
  },
  {
   "cell_type": "markdown",
   "metadata": {
    "id": "E0vqbgi9ay0H"
   },
   "source": [
    "# Déjame escuchar la música"
   ]
  },
  {
   "cell_type": "markdown",
   "metadata": {
    "id": "fhq_eyov_Zcs"
   },
   "source": [
    "# Contenido <a id='back'></a>\n",
    "\n",
    "* [Introducción](#intro)\n",
    "* [Etapa 1. Descripción de los datos](#data_review)\n",
    "    * [Conclusiones](#data_review_conclusions)\n",
    "* [Etapa 2. Preprocesamiento de datos](#data_preprocessing)\n",
    "    * [2.1 Estilo del encabezado](#header_style)\n",
    "    * [2.2 Valores ausentes](#missing_values)\n",
    "    * [2.3 Duplicados](#duplicates)\n",
    "    * [2.4 Conclusiones](#data_preprocessing_conclusions)\n",
    "* [Etapa 3. Prueba de hipótesis](#hypothesis)\n",
    "    * [3.1 Hipótesis 1: actividad de los usuarios y las usuarias en las dos ciudades](#activity)\n",
    "* [Conclusiones](#end)"
   ]
  },
  {
   "cell_type": "markdown",
   "metadata": {
    "id": "VUC88oWjTJw2"
   },
   "source": [
    "## Introducción <a id='intro'></a>\n",
    "Como analista de datos, tu trabajo consiste en analizar datos para extraer información valiosa y tomar decisiones basadas en ellos. Esto implica diferentes etapas, como la descripción general de los datos, el preprocesamiento y la prueba de hipótesis.\n",
    "\n",
    "Siempre que investigamos, necesitamos formular hipótesis que después podamos probar. A veces aceptamos estas hipótesis; otras veces, las rechazamos. Para tomar las decisiones correctas, una empresa debe ser capaz de entender si está haciendo las suposiciones correctas.\n",
    "\n",
    "En este proyecto, compararás las preferencias musicales de las ciudades de Springfield y Shelbyville. Estudiarás datos reales de transmisión de música online para probar la hipótesis a continuación y comparar el comportamiento de los usuarios y las usuarias de estas dos ciudades.\n",
    "\n",
    "### Objetivo:\n",
    "Prueba la hipótesis:\n",
    "1. La actividad de los usuarios y las usuarias difiere según el día de la semana y dependiendo de la ciudad.\n",
    "\n",
    "\n",
    "### Etapas\n",
    "Los datos del comportamiento del usuario se almacenan en el archivo `/datasets/music_project_en.csv`. No hay ninguna información sobre la calidad de los datos, así que necesitarás examinarlos antes de probar la hipótesis.\n",
    "\n",
    "Primero, evaluarás la calidad de los datos y verás si los problemas son significativos. Entonces, durante el preprocesamiento de datos, tomarás en cuenta los problemas más críticos.\n",
    "\n",
    "Tu proyecto consistirá en tres etapas:\n",
    " 1. Descripción de los datos.\n",
    " 2. Preprocesamiento de datos.\n",
    " 3. Prueba de hipótesis.\n",
    "\n",
    "\n",
    "\n",
    "\n",
    "\n",
    "\n"
   ]
  },
  {
   "cell_type": "markdown",
   "metadata": {
    "id": "hDt6pg-Rw-1U"
   },
   "source": [
    "[Volver a Contenidos](#back)"
   ]
  },
  {
   "cell_type": "markdown",
   "metadata": {
    "id": "Ml1hmfXC_Zcs"
   },
   "source": [
    "## Etapa 1. Descripción de los datos <a id='data_review'></a>\n",
    "\n",
    "Abre los datos y examínalos."
   ]
  },
  {
   "cell_type": "markdown",
   "metadata": {
    "id": "57eAOGIz_Zcs"
   },
   "source": [
    "Necesitarás `pandas`, así que impórtalo."
   ]
  },
  {
   "cell_type": "code",
   "execution_count": 1,
   "metadata": {
    "id": "AXN7PHPN_Zcs"
   },
   "outputs": [],
   "source": [
    "# Importar pandas\n",
    "import pandas as pd"
   ]
  },
  {
   "cell_type": "markdown",
   "metadata": {
    "id": "SG23P8tt_Zcs"
   },
   "source": [
    "Lee el archivo `music_project_en.csv` de la carpeta `/datasets/` y guárdalo en la variable `df`:"
   ]
  },
  {
   "cell_type": "code",
   "execution_count": 2,
   "metadata": {
    "id": "fFVu7vqh_Zct"
   },
   "outputs": [],
   "source": [
    "# Leer el archivo y almacenarlo en df\n",
    "df = pd.read_csv('/datasets/music_project_en.csv')"
   ]
  },
  {
   "cell_type": "markdown",
   "metadata": {},
   "source": [
    "<div class=\"alert alert-block alert-success\">\n",
    "<b>Comentario del revisor (1ra Iteracion)</b> <a class=“tocSkip”></a>\n",
    "\n",
    "Buen trabajo importando las liberías y cargando los datos en celdas separadas esto ayuda a que la lectura de tu código sea más cómoda\n",
    "</div>"
   ]
  },
  {
   "cell_type": "markdown",
   "metadata": {
    "id": "rDoOMd3uTqnZ"
   },
   "source": [
    "Muestra las 10 primeras filas de la tabla:"
   ]
  },
  {
   "cell_type": "code",
   "execution_count": 3,
   "metadata": {
    "id": "oWTVX3gW_Zct"
   },
   "outputs": [
    {
     "name": "stdout",
     "output_type": "stream",
     "text": [
      "     userID                        Track            artist   genre  \\\n",
      "0  FFB692EC            Kamigata To Boots  The Mass Missile    rock   \n",
      "1  55204538  Delayed Because of Accident  Andreas Rönnberg    rock   \n",
      "2    20EC38            Funiculì funiculà       Mario Lanza     pop   \n",
      "3  A3DD03C9        Dragons in the Sunset        Fire + Ice    folk   \n",
      "4  E2DC1FAE                  Soul People        Space Echo   dance   \n",
      "5  842029A1                       Chains          Obladaet  rusrap   \n",
      "6  4CB90AA5                         True      Roman Messer   dance   \n",
      "7  F03E1C1F             Feeling This Way   Polina Griffith   dance   \n",
      "8  8FA1D3BE                     L’estate       Julia Dalia  ruspop   \n",
      "9  E772D5C0                    Pessimist               NaN   dance   \n",
      "\n",
      "        City        time        Day  \n",
      "0  Shelbyville  20:28:33  Wednesday  \n",
      "1  Springfield  14:07:09     Friday  \n",
      "2  Shelbyville  20:58:07  Wednesday  \n",
      "3  Shelbyville  08:37:09     Monday  \n",
      "4  Springfield  08:34:34     Monday  \n",
      "5  Shelbyville  13:09:41     Friday  \n",
      "6  Springfield  13:00:07  Wednesday  \n",
      "7  Springfield  20:47:49  Wednesday  \n",
      "8  Springfield  09:17:40     Friday  \n",
      "9  Shelbyville  21:20:49  Wednesday  \n"
     ]
    }
   ],
   "source": [
    "# Obtener las 10 primeras filas de la tabla df\n",
    "print(df.head(10))"
   ]
  },
  {
   "cell_type": "markdown",
   "metadata": {},
   "source": [
    "<div class=\"alert alert-block alert-warning\">\n",
    "<b>Comentario del revisor (1ra Iteracion)</b> <a class=“tocSkip”></a>\n",
    "\n",
    "Cuando estés mostrando resultados de un DataFrame como el que devuelve `.head()` no es recomendable usar `print` ya que como puedes observar te muestra el resultado como si fuese un texto, en lugar de print puedes usar `display()` y así verás el resultado en formato de tabla\n",
    "</div>"
   ]
  },
  {
   "cell_type": "markdown",
   "metadata": {
    "id": "EO73Kwic_Zct"
   },
   "source": [
    "Obtén la información general sobre la tabla con un comando. Conoces el método que muestra la información general que necesitamos."
   ]
  },
  {
   "cell_type": "code",
   "execution_count": 4,
   "metadata": {
    "id": "DSf2kIb-_Zct"
   },
   "outputs": [
    {
     "name": "stdout",
     "output_type": "stream",
     "text": [
      "<class 'pandas.core.frame.DataFrame'>\n",
      "RangeIndex: 65079 entries, 0 to 65078\n",
      "Data columns (total 7 columns):\n",
      " #   Column    Non-Null Count  Dtype \n",
      "---  ------    --------------  ----- \n",
      " 0     userID  65079 non-null  object\n",
      " 1   Track     63736 non-null  object\n",
      " 2   artist    57512 non-null  object\n",
      " 3   genre     63881 non-null  object\n",
      " 4     City    65079 non-null  object\n",
      " 5   time      65079 non-null  object\n",
      " 6   Day       65079 non-null  object\n",
      "dtypes: object(7)\n",
      "memory usage: 3.5+ MB\n"
     ]
    }
   ],
   "source": [
    "# Obtener la información general sobre nuestros datos\n",
    "df.info()"
   ]
  },
  {
   "cell_type": "markdown",
   "metadata": {
    "id": "TaQ2Iwbr_Zct"
   },
   "source": [
    "Estas son nuestras observaciones sobre la tabla. Contiene siete columnas. Almacenan los mismos tipos de datos: `object`.\n",
    "\n",
    "Según la documentación:\n",
    "- `' userID'`: identificador del usuario o la usuaria;\n",
    "- `'Track'`: título de la canción;\n",
    "- `'artist'`: nombre del artista;\n",
    "- `'genre'`: género de la pista;\n",
    "- `'City'`: ciudad del usuario o la usuaria;\n",
    "- `'time'`: la hora exacta en la que se reprodujo la canción;\n",
    "- `'Day'`: día de la semana.\n",
    "\n",
    "Podemos ver tres problemas con el estilo en los encabezados de la tabla:\n",
    "1. Algunos encabezados están en mayúsculas, otros en minúsculas.\n",
    "2. Hay espacios en algunos encabezados.\n",
    "3. La variabe userID debería estar en snake_case, como user_id.\n",
    "\n",
    "\n"
   ]
  },
  {
   "cell_type": "markdown",
   "metadata": {
    "id": "MCB6-dXG_Zct"
   },
   "source": [
    "### Escribe observaciones de tu parte. Estas son algunas de las preguntas que pueden ser útiles: <a id='data_review_conclusions'></a>\n",
    "\n",
    "`1.   ¿Qué tipo de datos tenemos a nuestra disposición en las filas? ¿Y cómo podemos entender lo que almacenan las columnas?` Cada fila representa una reproducción de una canción por un usuario, especificando el género de la canción y proporcionando datos sobre el usuario como su ciudad, así como el día y la hora en la que se reprodujo la canción. Cada columna representa el conjunto de estos datos, todos descriptivos. En la información sobre el DataFrame podemos ver los nombres de las columnas, lo que nos ayuda a saber qué información está representada en acda una de ellas. \n",
    "\n",
    "\n",
    "`2.   ¿Hay suficientes datos para proporcionar respuestas a nuestra hipótesis o necesitamos más información?` La hipótesis nos dice que hay que analizar a los usuarios y su actividad dependiendo de su ciudad y el día de la semana. En este conjunto de datos tenemos el userID para identificar al usuario, City para identificar su ciudad y Day para identificar el día de la semana; es por esto que sí tenemos los datos necesarios para proporcionar las respuestas, aunque pueden surgir dudas en el análisis en las que necesitemos más información.\n",
    "\n",
    "`3.   ¿Notaste algún problema en los datos, como valores ausentes, duplicados o tipos de datos incorrectos?` Hay datos ausentes en las columnas de Track, Artist y Genre, ya que en la información nos indica que hay 65079 filas, pero Track tiene 63736 non-null, artist 57512 non-null, y genre 63881 non-null. También hay un errores en los nombres de las columnas ya que no están en el formato correcto(espacios extras, mayusculas y minúsculas mezcladas). En cuanto a datos duplicados, se tiene que aplicar el método .duplicates() para comprobar si hay entradas iguales o no."
   ]
  },
  {
   "cell_type": "markdown",
   "metadata": {
    "id": "3eL__vcwViOi"
   },
   "source": [
    "[Volver a Contenidos](#back)"
   ]
  },
  {
   "cell_type": "markdown",
   "metadata": {
    "id": "SjYF6Ub9_Zct"
   },
   "source": [
    "## Etapa 2. Preprocesamiento de datos <a id='data_preprocessing'></a>\n",
    "\n",
    "El objetivo aquí es preparar los datos para que sean analizados.\n",
    "El primer paso es resolver cualquier problema con los encabezados. Luego podemos avanzar a los valores ausentes y duplicados. Empecemos.\n",
    "\n",
    "Corrige el formato en los encabezados de la tabla.\n"
   ]
  },
  {
   "cell_type": "markdown",
   "metadata": {
    "id": "dIaKXr29_Zct"
   },
   "source": [
    "### Estilo del encabezado <a id='header_style'></a>\n",
    "Muestra los encabezados de la tabla (los nombres de las columnas):"
   ]
  },
  {
   "cell_type": "code",
   "execution_count": 5,
   "metadata": {
    "id": "oKOTdF_Q_Zct"
   },
   "outputs": [
    {
     "name": "stdout",
     "output_type": "stream",
     "text": [
      "Index(['  userID', 'Track', 'artist', 'genre', '  City  ', 'time', 'Day'], dtype='object')\n"
     ]
    }
   ],
   "source": [
    "# Muestra los nombres de las columnas\n",
    "print(df.columns)"
   ]
  },
  {
   "cell_type": "markdown",
   "metadata": {
    "id": "zj5534cv_Zct"
   },
   "source": [
    "Cambia los encabezados de la tabla de acuerdo con las reglas del buen estilo:\n",
    "* Todos los caracteres deben ser minúsculas.\n",
    "* Elimina los espacios.\n",
    "* Si el nombre tiene varias palabras, utiliza snake_case."
   ]
  },
  {
   "cell_type": "markdown",
   "metadata": {
    "id": "Xu0zkfe5zNJe"
   },
   "source": [
    "Anteriormente, aprendiste acerca de la forma automática de cambiar el nombre de las columnas. Vamos a aplicarla ahora. Utiliza el bucle for para iterar sobre los nombres de las columnas y poner todos los caracteres en minúsculas. Cuando hayas terminado, vuelve a mostrar los encabezados de la tabla:"
   ]
  },
  {
   "cell_type": "code",
   "execution_count": 6,
   "metadata": {
    "id": "6I_RwwMhzM4e"
   },
   "outputs": [
    {
     "name": "stdout",
     "output_type": "stream",
     "text": [
      "Index(['  userid', 'track', 'artist', 'genre', '  city  ', 'time', 'day'], dtype='object')\n"
     ]
    }
   ],
   "source": [
    "# Bucle en los encabezados poniendo todo en minúsculas\n",
    "\n",
    "lower_names = []\n",
    "\n",
    "for name in df.columns:\n",
    "    lower_name = name.lower()\n",
    "    lower_names.append(lower_name)\n",
    "    \n",
    "df.columns = lower_names\n",
    "print(df.columns)\n"
   ]
  },
  {
   "cell_type": "markdown",
   "metadata": {
    "id": "pweIRxjSzPYW"
   },
   "source": [
    "Ahora, utilizando el mismo método, elimina los espacios al principio y al final de los nombres de las columnas e imprime los nombres de las columnas nuevamente:"
   ]
  },
  {
   "cell_type": "code",
   "execution_count": 7,
   "metadata": {
    "id": "vVQXbFyJzSYl"
   },
   "outputs": [
    {
     "name": "stdout",
     "output_type": "stream",
     "text": [
      "Index(['userid', 'track', 'artist', 'genre', 'city', 'time', 'day'], dtype='object')\n"
     ]
    }
   ],
   "source": [
    "# Bucle en los encabezados eliminando los espacios\n",
    "\n",
    "clean_names = []\n",
    "\n",
    "for name in df.columns:\n",
    "    clean_name = name.strip()\n",
    "    clean_names.append(clean_name)\n",
    "    \n",
    "df.columns = clean_names\n",
    "print(df.columns)\n"
   ]
  },
  {
   "cell_type": "markdown",
   "metadata": {
    "id": "yCb8MW1JzURd"
   },
   "source": [
    "Necesitamos aplicar la regla de snake_case a la columna `userid`. Debe ser `user_id`. Cambia el nombre de esta columna y muestra los nombres de todas las columnas cuando hayas terminado."
   ]
  },
  {
   "cell_type": "code",
   "execution_count": 8,
   "metadata": {
    "id": "ISlFqs5y_Zct"
   },
   "outputs": [
    {
     "name": "stdout",
     "output_type": "stream",
     "text": [
      "Index(['user_id', 'track', 'artist', 'genre', 'city', 'time', 'day'], dtype='object')\n"
     ]
    }
   ],
   "source": [
    "# Cambiar el nombre de la columna \"userid\"\n",
    "\n",
    "df = df.rename(columns={'userid': 'user_id'})\n",
    "\n",
    "print(df.columns)"
   ]
  },
  {
   "cell_type": "markdown",
   "metadata": {},
   "source": [
    "<div class=\"alert alert-block alert-success\">\n",
    "<b>Comentario del revisor (1ra Iteracion)</b> <a class=“tocSkip”></a>\n",
    "\n",
    "Excelente! La limpieza y facilidad de acceso a las columnas de tu dataset agiliza el proceso de análisis por lo que es importante siempre realizar estos procesos previos a ello\n",
    "</div>"
   ]
  },
  {
   "cell_type": "markdown",
   "metadata": {
    "id": "1dqbh00J_Zct"
   },
   "source": [
    "Comprueba el resultado. Muestra los encabezados una vez más:"
   ]
  },
  {
   "cell_type": "code",
   "execution_count": 9,
   "metadata": {
    "id": "d4NOAmTW_Zct"
   },
   "outputs": [
    {
     "name": "stdout",
     "output_type": "stream",
     "text": [
      "    user_id                        track            artist   genre  \\\n",
      "0  FFB692EC            Kamigata To Boots  The Mass Missile    rock   \n",
      "1  55204538  Delayed Because of Accident  Andreas Rönnberg    rock   \n",
      "2    20EC38            Funiculì funiculà       Mario Lanza     pop   \n",
      "3  A3DD03C9        Dragons in the Sunset        Fire + Ice    folk   \n",
      "4  E2DC1FAE                  Soul People        Space Echo   dance   \n",
      "5  842029A1                       Chains          Obladaet  rusrap   \n",
      "6  4CB90AA5                         True      Roman Messer   dance   \n",
      "7  F03E1C1F             Feeling This Way   Polina Griffith   dance   \n",
      "8  8FA1D3BE                     L’estate       Julia Dalia  ruspop   \n",
      "9  E772D5C0                    Pessimist               NaN   dance   \n",
      "\n",
      "          city      time        day  \n",
      "0  Shelbyville  20:28:33  Wednesday  \n",
      "1  Springfield  14:07:09     Friday  \n",
      "2  Shelbyville  20:58:07  Wednesday  \n",
      "3  Shelbyville  08:37:09     Monday  \n",
      "4  Springfield  08:34:34     Monday  \n",
      "5  Shelbyville  13:09:41     Friday  \n",
      "6  Springfield  13:00:07  Wednesday  \n",
      "7  Springfield  20:47:49  Wednesday  \n",
      "8  Springfield  09:17:40     Friday  \n",
      "9  Shelbyville  21:20:49  Wednesday  \n"
     ]
    }
   ],
   "source": [
    "# Comprobar el resultado: la lista de encabezados\n",
    "print(df.head(10))"
   ]
  },
  {
   "cell_type": "markdown",
   "metadata": {
    "id": "xYJk6ksJVpOl"
   },
   "source": [
    "[Volver a Contenidos](#back)"
   ]
  },
  {
   "cell_type": "markdown",
   "metadata": {
    "id": "5ISfbcfY_Zct"
   },
   "source": [
    "### Valores ausentes <a id='missing_values'></a>\n",
    " Primero, encuentra el número de valores ausentes en la tabla. Debes utilizar dos métodos en una secuencia para obtener el número de valores ausentes."
   ]
  },
  {
   "cell_type": "code",
   "execution_count": 10,
   "metadata": {
    "id": "RskX29qr_Zct"
   },
   "outputs": [
    {
     "name": "stdout",
     "output_type": "stream",
     "text": [
      "user_id       0\n",
      "track      1343\n",
      "artist     7567\n",
      "genre      1198\n",
      "city          0\n",
      "time          0\n",
      "day           0\n",
      "dtype: int64\n"
     ]
    }
   ],
   "source": [
    "# Calcular el número de valores ausentes\n",
    "\n",
    "print(df.isna().sum())\n"
   ]
  },
  {
   "cell_type": "markdown",
   "metadata": {
    "id": "qubhgnlO_Zct"
   },
   "source": [
    "No todos los valores ausentes afectan a la investigación. Por ejemplo, los valores ausentes en `track` y `artist` no son cruciales. Simplemente puedes reemplazarlos con valores predeterminados como el string `'unknown'` (desconocido).\n",
    "\n",
    "Pero los valores ausentes en `'genre'` pueden afectar la comparación entre las preferencias musicales de Springfield y Shelbyville. En la vida real, sería útil saber las razones por las cuales hay datos ausentes e intentar recuperarlos. Pero no tenemos esa oportunidad en este proyecto. Así que tendrás que:\n",
    "* rellenar estos valores ausentes con un valor predeterminado;\n",
    "* evaluar cuánto podrían afectar los valores ausentes a tus cómputos;"
   ]
  },
  {
   "cell_type": "markdown",
   "metadata": {
    "id": "fSv2laPA_Zct"
   },
   "source": [
    "Reemplazar los valores ausentes en las columnas `'track'`, `'artist'` y `'genre'` con el string `'unknown'`. Como mostramos anteriormente en las lecciones, la mejor forma de hacerlo es crear una lista que almacene los nombres de las columnas donde se necesita el reemplazo. Luego, utiliza esta lista e itera sobre las columnas donde se necesita el reemplazo haciendo el propio reemplazo."
   ]
  },
  {
   "cell_type": "code",
   "execution_count": 11,
   "metadata": {
    "id": "KplB5qWs_Zct"
   },
   "outputs": [],
   "source": [
    "# Bucle en los encabezados reemplazando los valores ausentes con 'unknown'\n",
    "\n",
    "columns_to_clean = ['track' , 'artist' , 'genre']\n",
    "\n",
    "for column in columns_to_clean:\n",
    "    df[column] = df[column].fillna('unknown')"
   ]
  },
  {
   "cell_type": "markdown",
   "metadata": {
    "id": "Ilsm-MZo_Zct"
   },
   "source": [
    "Ahora comprueba el resultado para asegurarte de que después del reemplazo no haya valores ausentes en el conjunto de datos. Para hacer esto, cuenta los valores ausentes nuevamente."
   ]
  },
  {
   "cell_type": "code",
   "execution_count": 12,
   "metadata": {
    "id": "Tq4nYRX4_Zct"
   },
   "outputs": [
    {
     "name": "stdout",
     "output_type": "stream",
     "text": [
      "user_id    0\n",
      "track      0\n",
      "artist     0\n",
      "genre      0\n",
      "city       0\n",
      "time       0\n",
      "day        0\n",
      "dtype: int64\n"
     ]
    }
   ],
   "source": [
    "# Contar valores ausentes\n",
    "\n",
    "print(df.isna().sum())"
   ]
  },
  {
   "cell_type": "markdown",
   "metadata": {},
   "source": [
    "<div class=\"alert alert-block alert-success\">\n",
    "<b>Comentario del revisor (1ra Iteracion)</b> <a class=“tocSkip”></a>\n",
    "\n",
    "Genial! Trabajaste muy bien los datos ausentes, recuerda que antes de un análisis se debe procurar tener tu dataset limpio y estos valores ausentes pueden alterar los resultados por lo que es importante tratarlos\n",
    "</div>"
   ]
  },
  {
   "cell_type": "markdown",
   "metadata": {
    "id": "74ZIBmq9VrsK"
   },
   "source": [
    "[Volver a Contenidos](#back)"
   ]
  },
  {
   "cell_type": "markdown",
   "metadata": {
    "id": "BWKRtBJ3_Zct"
   },
   "source": [
    "### Duplicados <a id='duplicates'></a>\n",
    "Encuentra el número de duplicados explícitos en la tabla. Una vez más, debes aplicar dos métodos en una secuencia para obtener la cantidad de duplicados explícitos."
   ]
  },
  {
   "cell_type": "code",
   "execution_count": 13,
   "metadata": {
    "id": "36eES_S0_Zct"
   },
   "outputs": [
    {
     "name": "stdout",
     "output_type": "stream",
     "text": [
      "3826\n"
     ]
    }
   ],
   "source": [
    "# Contar duplicados explícitos\n",
    "\n",
    "print(df.duplicated().sum())\n"
   ]
  },
  {
   "cell_type": "markdown",
   "metadata": {
    "id": "Ot25h6XR_Zct"
   },
   "source": [
    "Ahora, elimina todos los duplicados. Para ello, llama al método que hace exactamente esto."
   ]
  },
  {
   "cell_type": "code",
   "execution_count": 14,
   "metadata": {
    "id": "exFHq6tt_Zct"
   },
   "outputs": [],
   "source": [
    "# Eliminar duplicados explícitos\n",
    "\n",
    "df = df.drop_duplicates()\n",
    "\n"
   ]
  },
  {
   "cell_type": "markdown",
   "metadata": {
    "id": "Im2YwBEG_Zct"
   },
   "source": [
    "Comprobemos ahora si eliminamos con éxito todos los duplicados. Cuenta los duplicados explícitos una vez más para asegurarte de haberlos eliminado todos:"
   ]
  },
  {
   "cell_type": "code",
   "execution_count": 15,
   "metadata": {
    "id": "-8PuNWQ0_Zct"
   },
   "outputs": [
    {
     "name": "stdout",
     "output_type": "stream",
     "text": [
      "0\n"
     ]
    }
   ],
   "source": [
    "# Comprobar de nuevo si hay duplicados\n",
    "\n",
    "print(df.duplicated().sum())"
   ]
  },
  {
   "cell_type": "markdown",
   "metadata": {},
   "source": [
    "<div class=\"alert alert-block alert-success\">\n",
    "<b>Comentario del revisor (1ra Iteracion)</b> <a class=“tocSkip”></a>\n",
    "\n",
    "Buen trabajo con los valores duplicados\n",
    "\n",
    "</div>"
   ]
  },
  {
   "cell_type": "markdown",
   "metadata": {
    "id": "QlFBsxAr_Zct"
   },
   "source": [
    "Ahora queremos deshacernos de los duplicados implícitos en la columna `genre`. Por ejemplo, el nombre de un género se puede escribir de varias formas. Dichos errores también pueden afectar al resultado."
   ]
  },
  {
   "cell_type": "markdown",
   "metadata": {
    "id": "eSjWwsOh_Zct"
   },
   "source": [
    "Para hacerlo, primero mostremos una lista de nombres de género únicos, ordenados en orden alfabético. Para ello:\n",
    "* Extrae la columna `genre` del DataFrame.\n",
    "* Llama al método que devolverá todos los valores únicos en la columna extraída.\n"
   ]
  },
  {
   "cell_type": "code",
   "execution_count": 16,
   "metadata": {
    "id": "JIUcqzZN_Zct"
   },
   "outputs": [
    {
     "name": "stdout",
     "output_type": "stream",
     "text": [
      "['acid' 'acoustic' 'action' 'adult' 'africa' 'afrikaans' 'alternative'\n",
      " 'ambient' 'americana' 'animated' 'anime' 'arabesk' 'arabic' 'arena'\n",
      " 'argentinetango' 'art' 'audiobook' 'avantgarde' 'axé' 'baile' 'balkan'\n",
      " 'beats' 'bigroom' 'black' 'bluegrass' 'blues' 'bollywood' 'bossa'\n",
      " 'brazilian' 'breakbeat' 'breaks' 'broadway' 'cantautori' 'cantopop'\n",
      " 'canzone' 'caribbean' 'caucasian' 'celtic' 'chamber' 'children' 'chill'\n",
      " 'chinese' 'choral' 'christian' 'christmas' 'classical' 'classicmetal'\n",
      " 'club' 'colombian' 'comedy' 'conjazz' 'contemporary' 'country' 'cuban'\n",
      " 'dance' 'dancehall' 'dancepop' 'dark' 'death' 'deep' 'deutschrock'\n",
      " 'deutschspr' 'dirty' 'disco' 'dnb' 'documentary' 'downbeat' 'downtempo'\n",
      " 'drum' 'dub' 'dubstep' 'eastern' 'easy' 'electronic' 'electropop' 'emo'\n",
      " 'entehno' 'epicmetal' 'estrada' 'ethnic' 'eurofolk' 'european'\n",
      " 'experimental' 'extrememetal' 'fado' 'film' 'fitness' 'flamenco' 'folk'\n",
      " 'folklore' 'folkmetal' 'folkrock' 'folktronica' 'forró' 'frankreich'\n",
      " 'französisch' 'french' 'funk' 'future' 'gangsta' 'garage' 'german'\n",
      " 'ghazal' 'gitarre' 'glitch' 'gospel' 'gothic' 'grime' 'grunge' 'gypsy'\n",
      " 'handsup' \"hard'n'heavy\" 'hardcore' 'hardstyle' 'hardtechno' 'hip'\n",
      " 'hip-hop' 'hiphop' 'historisch' 'holiday' 'hop' 'horror' 'house' 'idm'\n",
      " 'independent' 'indian' 'indie' 'indipop' 'industrial' 'inspirational'\n",
      " 'instrumental' 'international' 'irish' 'jam' 'japanese' 'jazz' 'jewish'\n",
      " 'jpop' 'jungle' 'k-pop' 'karadeniz' 'karaoke' 'kayokyoku' 'korean'\n",
      " 'laiko' 'latin' 'latino' 'leftfield' 'local' 'lounge' 'loungeelectronic'\n",
      " 'lovers' 'malaysian' 'mandopop' 'marschmusik' 'meditative'\n",
      " 'mediterranean' 'melodic' 'metal' 'metalcore' 'mexican' 'middle'\n",
      " 'minimal' 'miscellaneous' 'modern' 'mood' 'mpb' 'muslim' 'native'\n",
      " 'neoklassik' 'neue' 'new' 'newage' 'newwave' 'nu' 'nujazz' 'numetal'\n",
      " 'oceania' 'old' 'opera' 'orchestral' 'other' 'piano' 'pop'\n",
      " 'popelectronic' 'popeurodance' 'post' 'posthardcore' 'postrock' 'power'\n",
      " 'progmetal' 'progressive' 'psychedelic' 'punjabi' 'punk' 'quebecois'\n",
      " 'ragga' 'ram' 'rancheras' 'rap' 'rave' 'reggae' 'reggaeton' 'regional'\n",
      " 'relax' 'religious' 'retro' 'rhythm' 'rnb' 'rnr' 'rock' 'rockabilly'\n",
      " 'romance' 'roots' 'ruspop' 'rusrap' 'rusrock' 'salsa' 'samba' 'schlager'\n",
      " 'self' 'sertanejo' 'shoegazing' 'showtunes' 'singer' 'ska' 'slow'\n",
      " 'smooth' 'soul' 'soulful' 'sound' 'soundtrack' 'southern' 'specialty'\n",
      " 'speech' 'spiritual' 'sport' 'stonerrock' 'surf' 'swing' 'synthpop'\n",
      " 'sängerportrait' 'tango' 'tanzorchester' 'taraftar' 'tech' 'techno'\n",
      " 'thrash' 'top' 'traditional' 'tradjazz' 'trance' 'tribal' 'trip'\n",
      " 'triphop' 'tropical' 'türk' 'türkçe' 'unknown' 'urban' 'uzbek' 'variété'\n",
      " 'vi' 'videogame' 'vocal' 'western' 'world' 'worldbeat' 'ïîï']\n"
     ]
    }
   ],
   "source": [
    "# Inspeccionar los nombres de géneros únicos\n",
    "\n",
    "print(df['genre'].sort_values().unique())\n"
   ]
  },
  {
   "cell_type": "markdown",
   "metadata": {
    "id": "qej-Qmuo_Zct"
   },
   "source": [
    "Busca en la lista para encontrar duplicados implícitos del género `hiphop`. Estos pueden ser nombres escritos incorrectamente o nombres alternativos para el mismo género.\n",
    "\n",
    "Verás los siguientes duplicados implícitos:\n",
    "* `hip`\n",
    "* `hop`\n",
    "* `hip-hop`\n",
    "\n",
    "Para deshacerte de ellos, crea una función llamada `replace_wrong_genres()` con dos parámetros:\n",
    "* `wrong_genres=`: esta es una lista que contiene todos los valores que necesitas reemplazar.\n",
    "* `correct_genre=`: este es un string que vas a utilizar como reemplazo.\n",
    "\n",
    "Como resultado, la función debería corregir los nombres en la columna `'genre'` de la tabla `df`, es decir, remplazar cada valor de la lista `wrong_genres` por el valor en `correct_genre`.\n",
    "\n",
    "Dentro del cuerpo de la función, utiliza un bucle `'for'` para iterar sobre la lista de géneros incorrectos, extrae la columna `'genre'` y aplica el método `replace` para hacer correcciones."
   ]
  },
  {
   "cell_type": "code",
   "execution_count": 17,
   "metadata": {
    "id": "ErNDkmns_Zct"
   },
   "outputs": [],
   "source": [
    "# Función para reemplazar duplicados implícitos\n",
    "\n",
    "def replace_wrong_genres(df, wrong_genres, correct_genre):\n",
    "    \n",
    "    for wrong_genre in wrong_genres:\n",
    "        df['genre'] = df['genre'].replace(wrong_genre, correct_genre)\n",
    "    \n",
    "    return df\n"
   ]
  },
  {
   "cell_type": "markdown",
   "metadata": {
    "id": "aDoBJxbA_Zct"
   },
   "source": [
    "Ahora, llama a `replace_wrong_genres()` y pásale tales argumentos para que retire los duplicados implícitos (`hip`, `hop` y `hip-hop`) y los reemplace por `hiphop`:"
   ]
  },
  {
   "cell_type": "markdown",
   "metadata": {},
   "source": [
    "<div class=\"alert alert-block alert-success\">\n",
    "<b>Comentario del revisor (1ra Iteracion)</b> <a class=“tocSkip”></a>\n",
    "\n",
    "Muy buen trabajo obteniendo los géneros y creando la función\n",
    "\n",
    "</div>"
   ]
  },
  {
   "cell_type": "code",
   "execution_count": 18,
   "metadata": {
    "id": "YN5i2hpmSo09"
   },
   "outputs": [
    {
     "name": "stdout",
     "output_type": "stream",
     "text": [
      "        user_id                              track            artist  \\\n",
      "0      FFB692EC                  Kamigata To Boots  The Mass Missile   \n",
      "1      55204538        Delayed Because of Accident  Andreas Rönnberg   \n",
      "2        20EC38                  Funiculì funiculà       Mario Lanza   \n",
      "3      A3DD03C9              Dragons in the Sunset        Fire + Ice   \n",
      "4      E2DC1FAE                        Soul People        Space Echo   \n",
      "...         ...                                ...               ...   \n",
      "65074  729CBB09                            My Name            McLean   \n",
      "65075  D08D4A55  Maybe One Day (feat. Black Spade)       Blu & Exile   \n",
      "65076  C5E3A0D5                          Jalopiina           unknown   \n",
      "65077  321D0506                      Freight Train     Chas McDevitt   \n",
      "65078  3A64EF84          Tell Me Sweet Little Lies      Monica Lopez   \n",
      "\n",
      "            genre         city      time        day  \n",
      "0            rock  Shelbyville  20:28:33  Wednesday  \n",
      "1            rock  Springfield  14:07:09     Friday  \n",
      "2             pop  Shelbyville  20:58:07  Wednesday  \n",
      "3            folk  Shelbyville  08:37:09     Monday  \n",
      "4           dance  Springfield  08:34:34     Monday  \n",
      "...           ...          ...       ...        ...  \n",
      "65074         rnb  Springfield  13:32:28  Wednesday  \n",
      "65075      hiphop  Shelbyville  10:00:00     Monday  \n",
      "65076  industrial  Springfield  20:09:26     Friday  \n",
      "65077        rock  Springfield  21:43:59     Friday  \n",
      "65078     country  Springfield  21:59:46     Friday  \n",
      "\n",
      "[61253 rows x 7 columns]\n"
     ]
    }
   ],
   "source": [
    "# Eliminar duplicados implícitos\n",
    "wrong_genres = ['hip', 'hop', 'hip-hop']\n",
    "correct_genre = 'hiphop'\n",
    "\n",
    "df = replace_wrong_genres(df, wrong_genres, correct_genre)\n",
    "print(df)"
   ]
  },
  {
   "cell_type": "markdown",
   "metadata": {
    "id": "zQKF16_RG15m"
   },
   "source": [
    "Asegúrate de que los nombres duplicados han sido eliminados. Muestra la lista de valores únicos de la columna `'genre'` una vez más:"
   ]
  },
  {
   "cell_type": "code",
   "execution_count": 19,
   "metadata": {
    "id": "wvixALnFG15m"
   },
   "outputs": [
    {
     "name": "stdout",
     "output_type": "stream",
     "text": [
      "['acid' 'acoustic' 'action' 'adult' 'africa' 'afrikaans' 'alternative'\n",
      " 'ambient' 'americana' 'animated' 'anime' 'arabesk' 'arabic' 'arena'\n",
      " 'argentinetango' 'art' 'audiobook' 'avantgarde' 'axé' 'baile' 'balkan'\n",
      " 'beats' 'bigroom' 'black' 'bluegrass' 'blues' 'bollywood' 'bossa'\n",
      " 'brazilian' 'breakbeat' 'breaks' 'broadway' 'cantautori' 'cantopop'\n",
      " 'canzone' 'caribbean' 'caucasian' 'celtic' 'chamber' 'children' 'chill'\n",
      " 'chinese' 'choral' 'christian' 'christmas' 'classical' 'classicmetal'\n",
      " 'club' 'colombian' 'comedy' 'conjazz' 'contemporary' 'country' 'cuban'\n",
      " 'dance' 'dancehall' 'dancepop' 'dark' 'death' 'deep' 'deutschrock'\n",
      " 'deutschspr' 'dirty' 'disco' 'dnb' 'documentary' 'downbeat' 'downtempo'\n",
      " 'drum' 'dub' 'dubstep' 'eastern' 'easy' 'electronic' 'electropop' 'emo'\n",
      " 'entehno' 'epicmetal' 'estrada' 'ethnic' 'eurofolk' 'european'\n",
      " 'experimental' 'extrememetal' 'fado' 'film' 'fitness' 'flamenco' 'folk'\n",
      " 'folklore' 'folkmetal' 'folkrock' 'folktronica' 'forró' 'frankreich'\n",
      " 'französisch' 'french' 'funk' 'future' 'gangsta' 'garage' 'german'\n",
      " 'ghazal' 'gitarre' 'glitch' 'gospel' 'gothic' 'grime' 'grunge' 'gypsy'\n",
      " 'handsup' \"hard'n'heavy\" 'hardcore' 'hardstyle' 'hardtechno' 'hiphop'\n",
      " 'historisch' 'holiday' 'horror' 'house' 'idm' 'independent' 'indian'\n",
      " 'indie' 'indipop' 'industrial' 'inspirational' 'instrumental'\n",
      " 'international' 'irish' 'jam' 'japanese' 'jazz' 'jewish' 'jpop' 'jungle'\n",
      " 'k-pop' 'karadeniz' 'karaoke' 'kayokyoku' 'korean' 'laiko' 'latin'\n",
      " 'latino' 'leftfield' 'local' 'lounge' 'loungeelectronic' 'lovers'\n",
      " 'malaysian' 'mandopop' 'marschmusik' 'meditative' 'mediterranean'\n",
      " 'melodic' 'metal' 'metalcore' 'mexican' 'middle' 'minimal'\n",
      " 'miscellaneous' 'modern' 'mood' 'mpb' 'muslim' 'native' 'neoklassik'\n",
      " 'neue' 'new' 'newage' 'newwave' 'nu' 'nujazz' 'numetal' 'oceania' 'old'\n",
      " 'opera' 'orchestral' 'other' 'piano' 'pop' 'popelectronic' 'popeurodance'\n",
      " 'post' 'posthardcore' 'postrock' 'power' 'progmetal' 'progressive'\n",
      " 'psychedelic' 'punjabi' 'punk' 'quebecois' 'ragga' 'ram' 'rancheras'\n",
      " 'rap' 'rave' 'reggae' 'reggaeton' 'regional' 'relax' 'religious' 'retro'\n",
      " 'rhythm' 'rnb' 'rnr' 'rock' 'rockabilly' 'romance' 'roots' 'ruspop'\n",
      " 'rusrap' 'rusrock' 'salsa' 'samba' 'schlager' 'self' 'sertanejo'\n",
      " 'shoegazing' 'showtunes' 'singer' 'ska' 'slow' 'smooth' 'soul' 'soulful'\n",
      " 'sound' 'soundtrack' 'southern' 'specialty' 'speech' 'spiritual' 'sport'\n",
      " 'stonerrock' 'surf' 'swing' 'synthpop' 'sängerportrait' 'tango'\n",
      " 'tanzorchester' 'taraftar' 'tech' 'techno' 'thrash' 'top' 'traditional'\n",
      " 'tradjazz' 'trance' 'tribal' 'trip' 'triphop' 'tropical' 'türk' 'türkçe'\n",
      " 'unknown' 'urban' 'uzbek' 'variété' 'vi' 'videogame' 'vocal' 'western'\n",
      " 'world' 'worldbeat' 'ïîï']\n"
     ]
    }
   ],
   "source": [
    "# Comprobación de duplicados implícitos\n",
    "print(df['genre'].sort_values().unique())\n",
    "\n"
   ]
  },
  {
   "cell_type": "markdown",
   "metadata": {
    "id": "ALgNbvF3VtPA"
   },
   "source": [
    "[Volver a Contenidos](#back)"
   ]
  },
  {
   "cell_type": "markdown",
   "metadata": {
    "id": "jz6a9-7HQUDd"
   },
   "source": [
    "### Tus observaciones <a id='data_preprocessing_conclusions'></a>\n",
    "\n",
    "`Describe brevemente lo que has notado al analizar duplicados, cómo abordaste sus eliminaciones y qué resultados obtuviste.`\n",
    "\n",
    "Es importante preparar bien los datos para el análisis, ya que los duplicados pueden causar errores en la interpretación de los mismos, por ejemplo, si no se corrige el género de hiphop, se podria pensar que son diferentes géneros y que se escuchan menos de lo que en realidad se escuchan. También es importante saber qué datos son más importantes para nuestr análisis, ya que así podemos sacar conclusiones más concretas y acertadas sobre nuestros datos."
   ]
  },
  {
   "cell_type": "markdown",
   "metadata": {},
   "source": [
    "<div class=\"alert alert-block alert-success\">\n",
    "<b>Comentario del revisor (1ra Iteracion)</b> <a class=“tocSkip”></a>\n",
    "\n",
    "Perfecto! Muy buen trabajo aplicando la función. Tus observaciones son bastante acertadas en cuanto a lo obtenido\n",
    "\n",
    "</div>"
   ]
  },
  {
   "cell_type": "markdown",
   "metadata": {
    "id": "eK1es74rVujj"
   },
   "source": [
    "[Volver a Contenidos](#back)"
   ]
  },
  {
   "cell_type": "markdown",
   "metadata": {
    "id": "WttZHXH0SqKk"
   },
   "source": [
    "## Etapa 3. Prueba de hipótesis <a id='hypothesis'></a>"
   ]
  },
  {
   "cell_type": "markdown",
   "metadata": {
    "id": "Im936VVi_Zcu"
   },
   "source": [
    "### Hipótesis: comparar el comportamiento del usuario o la usuaria en las dos ciudades <a id='activity'></a>"
   ]
  },
  {
   "cell_type": "markdown",
   "metadata": {
    "id": "nwt_MuaL_Zcu"
   },
   "source": [
    "La hipótesis afirma que existen diferencias en la forma en que los usuarios y las usuarias de Springfield y Shelbyville consumen música. Para comprobar esto, usa los datos de tres días de la semana: lunes, miércoles y viernes.\n",
    "\n",
    "* Agrupa a los usuarios y las usuarias por ciudad.\n",
    "* Compara el número de canciones que cada grupo reprodujo el lunes, el miércoles y el viernes.\n"
   ]
  },
  {
   "cell_type": "markdown",
   "metadata": {
    "id": "8Dw_YMmT_Zcu"
   },
   "source": [
    "Realiza cada cálculo por separado.\n",
    "\n",
    "El primer paso es evaluar la actividad del usuario en cada ciudad. Recuerda las etapas dividir-aplicar-combinar de las que hablamos anteriormente en la lección. Tu objetivo ahora es agrupar los datos por ciudad, aplicar el método apropiado para contar durante la etapa de aplicación y luego encontrar la cantidad de canciones reproducidas en cada grupo especificando la columna para obtener el recuento.\n",
    "\n",
    "A continuación se muestra un ejemplo de cómo debería verse el resultado final:\n",
    "`df.groupby(by='....')['column'].method()`Realiza cada cálculo por separado.\n",
    "\n",
    "Para evaluar la actividad de los usuarios y las usuarias en cada ciudad, agrupa los datos por ciudad y encuentra la cantidad de canciones reproducidas en cada grupo.\n",
    "\n"
   ]
  },
  {
   "cell_type": "code",
   "execution_count": 20,
   "metadata": {
    "id": "0_Qs96oh_Zcu"
   },
   "outputs": [
    {
     "name": "stdout",
     "output_type": "stream",
     "text": [
      "city\n",
      "Shelbyville    18512\n",
      "Springfield    42741\n",
      "Name: track, dtype: int64\n"
     ]
    }
   ],
   "source": [
    "# Contar las canciones reproducidas en cada ciudad\n",
    "\n",
    "track_count = df.groupby(by='city')['track'].count()\n",
    "print(track_count)\n"
   ]
  },
  {
   "cell_type": "markdown",
   "metadata": {
    "id": "t_Qx-3NewAnK"
   },
   "source": [
    "`Comenta tus observaciones aquí`\n",
    "\n",
    "Podemos observar que en Springfield se reproducen más canciones que en Shelbyville, más de el doble."
   ]
  },
  {
   "cell_type": "markdown",
   "metadata": {
    "id": "dzli3w8o_Zcu"
   },
   "source": [
    "Ahora agrupemos los datos por día de la semana y encontremos el número de canciones reproducidas el lunes, miércoles y viernes. Utiliza el mismo método que antes, pero ahora necesitamos una agrupación diferente.\n"
   ]
  },
  {
   "cell_type": "code",
   "execution_count": 21,
   "metadata": {
    "id": "uZMKjiJz_Zcu"
   },
   "outputs": [
    {
     "name": "stdout",
     "output_type": "stream",
     "text": [
      "day\n",
      "Friday       21840\n",
      "Monday       21354\n",
      "Wednesday    18059\n",
      "Name: track, dtype: int64\n"
     ]
    }
   ],
   "source": [
    "# Calcular las canciones reproducidas en cada uno de los tres días\n",
    "\n",
    "day_count = df.groupby(by='day')['track'].count()\n",
    "print(day_count)\n"
   ]
  },
  {
   "cell_type": "markdown",
   "metadata": {
    "id": "cC2tNrlL_Zcu"
   },
   "source": [
    "`Comenta tus observaciones aquí`\n",
    "El viernes es el día que más canciones se reproducen, seguido del lunes y por ultimo el miércoles."
   ]
  },
  {
   "cell_type": "markdown",
   "metadata": {},
   "source": [
    "<div class=\"alert alert-block alert-success\">\n",
    "<b>Comentario del revisor (1ra Iteracion)</b> <a class=“tocSkip”></a>\n",
    "\n",
    "Buen uso de groupby, recuerda que este método puede ayudarte a hacer cálculos en base a tus columnas cómo el conteo realizado, sumas, sacar promedios, entre otros.\n",
    "</div>"
   ]
  },
  {
   "cell_type": "markdown",
   "metadata": {
    "id": "POzs8bGa_Zcu"
   },
   "source": [
    "Ya sabes cómo contar entradas agrupándolas por ciudad o día. Ahora necesitas escribir una función que pueda contar entradas según ambos criterios simultáneamente.\n",
    "\n",
    "Crea la función `number_tracks()` para calcular el número de canciones reproducidas en un determinado día **y** ciudad. La función debe aceptar dos parámetros:\n",
    "\n",
    "- `day`: un día de la semana para filtrar. Por ejemplo, `'Monday'` (lunes).\n",
    "- `city`: una ciudad para filtrar. Por ejemplo, `'Springfield'`.\n",
    "\n",
    "Dentro de la función, aplicarás un filtrado consecutivo con indexación lógica.\n",
    "\n",
    "Primero filtra los datos por día y luego filtra la tabla resultante por ciudad.\n",
    "\n",
    "Después de filtrar los datos por dos criterios, cuenta el número de valores de la columna 'user_id' en la tabla resultante. Este recuento representa el número de entradas que estás buscando. Guarda el resultado en una nueva variable y devuélvelo desde la función."
   ]
  },
  {
   "cell_type": "code",
   "execution_count": 22,
   "metadata": {
    "id": "Nz3GdQB1_Zcu"
   },
   "outputs": [],
   "source": [
    "# Declara la función number_tracks() con dos parámetros: day= y city=.\n",
    "\n",
    "def number_tracks(df, day, city):\n",
    "\n",
    "    # Almacena las filas del DataFrame donde el valor en la columna 'day' es igual al parámetro day=\n",
    "    filtered_by_day = df[df['day'] == day]\n",
    "\n",
    "    # Filtra las filas donde el valor en la columna 'city' es igual al parámetro city=\n",
    "    filtered_by_city = filtered_by_day[filtered_by_day['city'] == city]\n",
    "\n",
    "    # Extrae la columna 'user_id' de la tabla filtrada y aplica el método count()\n",
    "    track_count = filtered_by_city['user_id'].count()\n",
    "\n",
    "    # Devolve el número de valores de la columna 'user_id'\n",
    "    return track_count\n"
   ]
  },
  {
   "cell_type": "markdown",
   "metadata": {},
   "source": [
    "<div class=\"alert alert-block alert-success\">\n",
    "<b>Comentario del revisor (1ra Iteracion)</b> <a class=“tocSkip”></a>\n",
    "\n",
    "Buen trabajo armando la función! Cómo recomendación también podrías hacer el filtrado en una sola línea aplicando tu código de esta forma:\n",
    "```Python\n",
    "day = df[(df['day'] == day) &  (df['city'] == city)]\n",
    "```\n",
    "</div>"
   ]
  },
  {
   "cell_type": "markdown",
   "metadata": {
    "id": "ytf7xFrFJQ2r"
   },
   "source": [
    "Llama a `number_tracks()` seis veces, cambiando los valores de los parámetros para que recuperes los datos de ambas ciudades para cada uno de los tres días."
   ]
  },
  {
   "cell_type": "code",
   "execution_count": 23,
   "metadata": {
    "id": "rJcRATNQ_Zcu"
   },
   "outputs": [
    {
     "name": "stdout",
     "output_type": "stream",
     "text": [
      "El número de canciones reproducidas en Springfield el lunes\n",
      "15740\n"
     ]
    }
   ],
   "source": [
    "# El número de canciones reproducidas en Springfield el lunes\n",
    "print('El número de canciones reproducidas en Springfield el lunes')\n",
    "print(number_tracks(df, 'Monday', 'Springfield'))\n"
   ]
  },
  {
   "cell_type": "code",
   "execution_count": 24,
   "metadata": {
    "id": "hq_ncZ5T_Zcu"
   },
   "outputs": [
    {
     "name": "stdout",
     "output_type": "stream",
     "text": [
      "El número de canciones reproducidas en Shelbyville el lunes\n",
      "5614\n"
     ]
    }
   ],
   "source": [
    "print('El número de canciones reproducidas en Shelbyville el lunes')\n",
    "print(number_tracks(df, 'Monday', 'Shelbyville'))\n"
   ]
  },
  {
   "cell_type": "code",
   "execution_count": 25,
   "metadata": {
    "id": "_NTy2VPU_Zcu"
   },
   "outputs": [
    {
     "name": "stdout",
     "output_type": "stream",
     "text": [
      "El número de canciones reproducidas en Springfield el miércoles\n",
      "11056\n"
     ]
    }
   ],
   "source": [
    "print('El número de canciones reproducidas en Springfield el miércoles')\n",
    "print(number_tracks(df, 'Wednesday', 'Springfield'))\n"
   ]
  },
  {
   "cell_type": "code",
   "execution_count": 26,
   "metadata": {
    "id": "j2y3TAwo_Zcu"
   },
   "outputs": [
    {
     "name": "stdout",
     "output_type": "stream",
     "text": [
      "El número de canciones reproducidas en Shelbyville el miércoles\n",
      "7003\n"
     ]
    }
   ],
   "source": [
    "print('El número de canciones reproducidas en Shelbyville el miércoles')\n",
    "print(number_tracks(df, 'Wednesday', 'Shelbyville'))\n"
   ]
  },
  {
   "cell_type": "code",
   "execution_count": 27,
   "metadata": {
    "id": "vYDw5u_K_Zcu"
   },
   "outputs": [
    {
     "name": "stdout",
     "output_type": "stream",
     "text": [
      "El número de canciones reproducidas en Springfield el viernes\n",
      "15945\n"
     ]
    }
   ],
   "source": [
    "print('El número de canciones reproducidas en Springfield el viernes')\n",
    "print(number_tracks(df, 'Friday', 'Springfield'))\n"
   ]
  },
  {
   "cell_type": "code",
   "execution_count": 28,
   "metadata": {
    "id": "8_yzFtW3_Zcu"
   },
   "outputs": [
    {
     "name": "stdout",
     "output_type": "stream",
     "text": [
      "El número de canciones reproducidas en Shelbyville el viernes\n",
      "5895\n"
     ]
    }
   ],
   "source": [
    "print('El número de canciones reproducidas en Shelbyville el viernes')\n",
    "print(number_tracks(df, 'Friday', 'Shelbyville'))\n"
   ]
  },
  {
   "cell_type": "markdown",
   "metadata": {
    "id": "-EgPIHYu_Zcu"
   },
   "source": [
    "**Conclusiones**\n",
    "\n",
    "`Comenta si la hipótesis es correcta o se debe rechazar. Explica tu razonamiento.`\n",
    "\n",
    "La hipótesis dice que la actividad difiere según el dia de la semana y dependiendo de la ciudad. Con la función anterior, podemos ver que en Springfield, los días que más canciones se reproducen son lunes y viernes; por lo contrario, en Shelbyville el día que más canciones se reproducen es el miércoles. Es por esto que la hipótesis debe ser rechazada aunque no totalmente, ya que no contamos con datos como población de cada ciudad o factores culturales/ geográficos o demográficos que puedan afetar estos datos. "
   ]
  },
  {
   "cell_type": "markdown",
   "metadata": {},
   "source": [
    "<div class=\"alert alert-block alert-success\">\n",
    "<b>Comentario del revisor (1ra Iteracion)</b> <a class=“tocSkip”></a>\n",
    "\n",
    "Muy bien utilizada la función! Cómo puedes observar el usar funciones ayuda a reducir la cantidad de código que se necesita para ejecutar acciones repetitivas. Bien redactada tu conclusión sobre este punto\n",
    "</div>"
   ]
  },
  {
   "cell_type": "markdown",
   "metadata": {
    "id": "p7nFQajCVw5B"
   },
   "source": [
    "[Volver a Contenidos](#back)"
   ]
  },
  {
   "cell_type": "markdown",
   "metadata": {
    "id": "ykKQ0N65_Zcv"
   },
   "source": [
    "# Conclusiones <a id='end'></a>"
   ]
  },
  {
   "cell_type": "markdown",
   "metadata": {
    "id": "tjUwbHb3_Zcv"
   },
   "source": [
    "`Resume aquí tus conclusiones sobre la hipótesis.`\n",
    "\n",
    "En este proyecto obtuvimos un conjunto de datos que contiene información valiosa para la empresa. Lo primero que hay que hacer siempre es revisar los datos, ya que si no los limpiamos, ordenamos y formateamos de forma correcta, pueden surgir errores en el procesamiento de los mismos. Es importante analizar qué estan diciendo los datos, asi como la información que falta o que está duplicada.\n",
    "Para la prueba de hipótesis, se realizó un pequeño análisis sobre cuántas canciones se escuchan en cada ciudad y cuántas canciones se escuchan por día. Estos datos nos parecían indicar que los viernes es el día que más canciones se reproducen, seguido por el lunes y el miércoles. Sin embargo, después de analizar estos dos factores en conjunto, con la funcion number_tracks, podemos ver que en realidad no hay una tendencia igual en ambas ciudades, sino que en Springfield se escucha más música el viernes, y por tener una mayor cantidad de reproducciones, sesgó nuestro conteo por día de todos los datos.\n",
    "En conclusión, estos datos no son suficientes para rechazar o aprobar la hipótesis, ya que tendríamos que tomar en cuenta otros datos que la empresa nos pudiera proporcionar."
   ]
  },
  {
   "cell_type": "markdown",
   "metadata": {},
   "source": [
    "<div class=\"alert alert-block alert-info\">\n",
    "<b>Comentario general (1ra Iteracion)</b> <a class=“tocSkip”></a>\n",
    "    \n",
    "\n",
    "Hola Natalia! Vas por muy buen camino para convertirte en Data Analyst, hiciste un muy buen uso de la librería pandas y tu manejo de Python es notable ya que pudiste armar muy bien la función para filtrar por ciudad y día.\n",
    "<br>\n",
    "    \n",
    "Usar funciones y el manejo de pandas será algo que veas en tu día a día cómo Data Analyst, por lo que es importante que los entiendas a la perfección.\n",
    "    \n",
    "<br>\n",
    "Saludos! 🦾\n",
    "</div>"
   ]
  },
  {
   "cell_type": "markdown",
   "metadata": {
    "id": "azLHu64yOIp7"
   },
   "source": [
    "### Nota\n",
    "En proyectos de investigación reales, la prueba de hipótesis estadística es más precisa y cuantitativa. También ten en cuenta que no siempre se pueden sacar conclusiones sobre una ciudad entera a partir de datos de una sola fuente.\n",
    "\n",
    "Aprenderás más sobre la prueba de hipótesis en el sprint de análisis estadístico de datos."
   ]
  },
  {
   "cell_type": "markdown",
   "metadata": {
    "id": "Ju4AHDSgV1FE"
   },
   "source": [
    "[Volver a Contenidos](#back)"
   ]
  },
  {
   "cell_type": "code",
   "execution_count": null,
   "metadata": {},
   "outputs": [],
   "source": []
  }
 ],
 "metadata": {
  "ExecuteTimeLog": [
   {
    "duration": 318,
    "start_time": "2024-09-05T17:28:06.471Z"
   },
   {
    "duration": 117,
    "start_time": "2024-09-05T17:28:44.367Z"
   },
   {
    "duration": 6,
    "start_time": "2024-09-05T17:28:53.890Z"
   },
   {
    "duration": 21,
    "start_time": "2024-09-05T17:29:14.158Z"
   },
   {
    "duration": 179,
    "start_time": "2024-09-05T17:42:41.695Z"
   },
   {
    "duration": 3,
    "start_time": "2024-09-05T17:43:04.553Z"
   },
   {
    "duration": 12,
    "start_time": "2024-09-05T17:45:57.020Z"
   },
   {
    "duration": 3,
    "start_time": "2024-09-05T17:46:11.621Z"
   },
   {
    "duration": 4,
    "start_time": "2024-09-05T17:46:26.545Z"
   },
   {
    "duration": 3,
    "start_time": "2024-09-05T17:59:35.698Z"
   },
   {
    "duration": 4,
    "start_time": "2024-09-05T18:00:16.761Z"
   },
   {
    "duration": 3,
    "start_time": "2024-09-05T18:00:37.889Z"
   },
   {
    "duration": 4,
    "start_time": "2024-09-05T18:01:45.022Z"
   },
   {
    "duration": 4,
    "start_time": "2024-09-05T18:01:55.894Z"
   },
   {
    "duration": 4,
    "start_time": "2024-09-05T18:02:28.132Z"
   },
   {
    "duration": 4,
    "start_time": "2024-09-05T18:03:17.851Z"
   },
   {
    "duration": 4,
    "start_time": "2024-09-05T18:06:38.197Z"
   },
   {
    "duration": 168,
    "start_time": "2024-09-05T18:06:40.665Z"
   },
   {
    "duration": 3,
    "start_time": "2024-09-05T18:07:02.155Z"
   },
   {
    "duration": 12,
    "start_time": "2024-09-05T18:07:31.051Z"
   },
   {
    "duration": 3,
    "start_time": "2024-09-05T18:07:43.975Z"
   },
   {
    "duration": 3,
    "start_time": "2024-09-05T18:07:51.325Z"
   },
   {
    "duration": 12,
    "start_time": "2024-09-05T18:08:24.826Z"
   },
   {
    "duration": 3,
    "start_time": "2024-09-05T18:08:33.741Z"
   },
   {
    "duration": 4,
    "start_time": "2024-09-05T18:08:45.075Z"
   },
   {
    "duration": 8,
    "start_time": "2024-09-05T18:11:14.244Z"
   },
   {
    "duration": 5,
    "start_time": "2024-09-05T18:11:43.135Z"
   },
   {
    "duration": 301,
    "start_time": "2024-09-05T18:12:03.301Z"
   },
   {
    "duration": 88,
    "start_time": "2024-09-05T18:12:04.918Z"
   },
   {
    "duration": 6,
    "start_time": "2024-09-05T18:12:08.143Z"
   },
   {
    "duration": 19,
    "start_time": "2024-09-05T18:12:11.063Z"
   },
   {
    "duration": 3,
    "start_time": "2024-09-05T18:12:16.558Z"
   },
   {
    "duration": 3,
    "start_time": "2024-09-05T18:12:19.317Z"
   },
   {
    "duration": 3,
    "start_time": "2024-09-05T18:12:21.376Z"
   },
   {
    "duration": 8,
    "start_time": "2024-09-05T18:12:24.084Z"
   },
   {
    "duration": 5,
    "start_time": "2024-09-05T18:12:26.545Z"
   },
   {
    "duration": 18,
    "start_time": "2024-09-05T18:14:35.366Z"
   },
   {
    "duration": 16,
    "start_time": "2024-09-05T18:14:44.989Z"
   },
   {
    "duration": 12,
    "start_time": "2024-09-05T18:18:06.797Z"
   },
   {
    "duration": 16,
    "start_time": "2024-09-05T18:18:09.209Z"
   },
   {
    "duration": 42,
    "start_time": "2024-09-05T18:19:34.340Z"
   },
   {
    "duration": 42,
    "start_time": "2024-09-05T18:20:07.076Z"
   },
   {
    "duration": 45,
    "start_time": "2024-09-05T18:20:08.556Z"
   },
   {
    "duration": 37,
    "start_time": "2024-09-05T18:20:10.110Z"
   },
   {
    "duration": 288,
    "start_time": "2024-09-05T18:21:17.653Z"
   },
   {
    "duration": 89,
    "start_time": "2024-09-05T18:21:18.982Z"
   },
   {
    "duration": 8,
    "start_time": "2024-09-05T18:21:20.942Z"
   },
   {
    "duration": 22,
    "start_time": "2024-09-05T18:21:23.045Z"
   },
   {
    "duration": 3,
    "start_time": "2024-09-05T18:21:26.919Z"
   },
   {
    "duration": 4,
    "start_time": "2024-09-05T18:21:28.982Z"
   },
   {
    "duration": 4,
    "start_time": "2024-09-05T18:21:30.893Z"
   },
   {
    "duration": 9,
    "start_time": "2024-09-05T18:21:35.472Z"
   },
   {
    "duration": 5,
    "start_time": "2024-09-05T18:21:36.998Z"
   },
   {
    "duration": 17,
    "start_time": "2024-09-05T18:21:40.280Z"
   },
   {
    "duration": 13,
    "start_time": "2024-09-05T18:21:44.611Z"
   },
   {
    "duration": 16,
    "start_time": "2024-09-05T18:21:48.897Z"
   },
   {
    "duration": 42,
    "start_time": "2024-09-05T18:21:52.068Z"
   },
   {
    "duration": 47,
    "start_time": "2024-09-05T18:21:53.880Z"
   },
   {
    "duration": 38,
    "start_time": "2024-09-05T18:21:55.712Z"
   },
   {
    "duration": 5,
    "start_time": "2024-09-05T18:22:56.797Z"
   },
   {
    "duration": 5,
    "start_time": "2024-09-05T18:23:07.620Z"
   },
   {
    "duration": 5,
    "start_time": "2024-09-05T18:23:21.071Z"
   },
   {
    "duration": 168,
    "start_time": "2024-09-05T18:23:37.833Z"
   },
   {
    "duration": 3,
    "start_time": "2024-09-05T18:26:47.317Z"
   },
   {
    "duration": 31,
    "start_time": "2024-09-05T18:26:52.070Z"
   },
   {
    "duration": 312,
    "start_time": "2024-09-05T18:27:02.513Z"
   },
   {
    "duration": 2,
    "start_time": "2024-09-05T18:27:49.192Z"
   },
   {
    "duration": 39,
    "start_time": "2024-09-05T18:28:26.202Z"
   },
   {
    "duration": 3,
    "start_time": "2024-09-05T18:28:36.841Z"
   },
   {
    "duration": 140,
    "start_time": "2024-09-05T18:29:21.250Z"
   },
   {
    "duration": 37,
    "start_time": "2024-09-05T18:30:00.852Z"
   },
   {
    "duration": 3,
    "start_time": "2024-09-05T18:30:13.607Z"
   },
   {
    "duration": 162,
    "start_time": "2024-09-05T18:30:33.801Z"
   },
   {
    "duration": 295,
    "start_time": "2024-09-05T18:30:44.247Z"
   },
   {
    "duration": 98,
    "start_time": "2024-09-05T18:30:45.047Z"
   },
   {
    "duration": 7,
    "start_time": "2024-09-05T18:30:45.764Z"
   },
   {
    "duration": 20,
    "start_time": "2024-09-05T18:30:46.364Z"
   },
   {
    "duration": 3,
    "start_time": "2024-09-05T18:30:48.671Z"
   },
   {
    "duration": 3,
    "start_time": "2024-09-05T18:30:50.053Z"
   },
   {
    "duration": 3,
    "start_time": "2024-09-05T18:30:50.957Z"
   },
   {
    "duration": 8,
    "start_time": "2024-09-05T18:30:51.765Z"
   },
   {
    "duration": 6,
    "start_time": "2024-09-05T18:30:52.792Z"
   },
   {
    "duration": 18,
    "start_time": "2024-09-05T18:30:54.637Z"
   },
   {
    "duration": 12,
    "start_time": "2024-09-05T18:30:56.185Z"
   },
   {
    "duration": 17,
    "start_time": "2024-09-05T18:30:57.509Z"
   },
   {
    "duration": 42,
    "start_time": "2024-09-05T18:30:59.068Z"
   },
   {
    "duration": 49,
    "start_time": "2024-09-05T18:31:00.202Z"
   },
   {
    "duration": 45,
    "start_time": "2024-09-05T18:31:01.220Z"
   },
   {
    "duration": 394,
    "start_time": "2024-09-05T18:31:03.265Z"
   },
   {
    "duration": 3,
    "start_time": "2024-09-05T18:31:37.723Z"
   },
   {
    "duration": 19,
    "start_time": "2024-09-05T18:35:13.219Z"
   },
   {
    "duration": 3,
    "start_time": "2024-09-05T18:35:17.167Z"
   },
   {
    "duration": 4,
    "start_time": "2024-09-05T18:35:18.717Z"
   },
   {
    "duration": 3,
    "start_time": "2024-09-05T18:35:20.740Z"
   },
   {
    "duration": 6,
    "start_time": "2024-09-05T18:35:22.818Z"
   },
   {
    "duration": 5,
    "start_time": "2024-09-05T18:35:27.127Z"
   },
   {
    "duration": 16,
    "start_time": "2024-09-05T18:35:31.533Z"
   },
   {
    "duration": 11,
    "start_time": "2024-09-05T18:35:33.752Z"
   },
   {
    "duration": 16,
    "start_time": "2024-09-05T18:35:34.959Z"
   },
   {
    "duration": 40,
    "start_time": "2024-09-05T18:35:36.394Z"
   },
   {
    "duration": 43,
    "start_time": "2024-09-05T18:35:37.192Z"
   },
   {
    "duration": 38,
    "start_time": "2024-09-05T18:35:37.633Z"
   },
   {
    "duration": 3,
    "start_time": "2024-09-05T18:35:40.503Z"
   },
   {
    "duration": 267,
    "start_time": "2024-09-05T19:26:56.880Z"
   },
   {
    "duration": 123,
    "start_time": "2024-09-05T19:26:58.678Z"
   },
   {
    "duration": 7,
    "start_time": "2024-09-05T19:27:00.604Z"
   },
   {
    "duration": 19,
    "start_time": "2024-09-05T19:27:02.822Z"
   },
   {
    "duration": 3,
    "start_time": "2024-09-05T19:27:19.886Z"
   },
   {
    "duration": 4,
    "start_time": "2024-09-05T19:27:23.219Z"
   },
   {
    "duration": 4,
    "start_time": "2024-09-05T19:27:30.232Z"
   },
   {
    "duration": 8,
    "start_time": "2024-09-05T19:27:33.936Z"
   },
   {
    "duration": 5,
    "start_time": "2024-09-05T19:27:37.260Z"
   },
   {
    "duration": 19,
    "start_time": "2024-09-05T19:27:40.009Z"
   },
   {
    "duration": 13,
    "start_time": "2024-09-05T19:27:47.653Z"
   },
   {
    "duration": 17,
    "start_time": "2024-09-05T19:27:50.423Z"
   },
   {
    "duration": 42,
    "start_time": "2024-09-05T19:27:54.165Z"
   },
   {
    "duration": 47,
    "start_time": "2024-09-05T19:27:55.807Z"
   },
   {
    "duration": 37,
    "start_time": "2024-09-05T19:27:57.456Z"
   },
   {
    "duration": 2,
    "start_time": "2024-09-05T19:27:59.855Z"
   },
   {
    "duration": 41,
    "start_time": "2024-09-05T19:29:53.068Z"
   },
   {
    "duration": 40,
    "start_time": "2024-09-05T19:30:22.199Z"
   },
   {
    "duration": 28,
    "start_time": "2024-09-05T19:31:06.756Z"
   },
   {
    "duration": 30,
    "start_time": "2024-09-05T19:31:33.021Z"
   },
   {
    "duration": 5,
    "start_time": "2024-09-05T19:54:35.476Z"
   },
   {
    "duration": 4,
    "start_time": "2024-09-05T19:54:41.590Z"
   },
   {
    "duration": 2,
    "start_time": "2024-09-05T19:55:58.500Z"
   },
   {
    "duration": 30,
    "start_time": "2024-09-05T19:56:03.267Z"
   },
   {
    "duration": 30,
    "start_time": "2024-09-05T19:56:06.856Z"
   },
   {
    "duration": 2,
    "start_time": "2024-09-05T19:56:23.187Z"
   },
   {
    "duration": 327,
    "start_time": "2024-09-05T21:30:07.949Z"
   },
   {
    "duration": 135,
    "start_time": "2024-09-05T21:30:09.249Z"
   },
   {
    "duration": 6,
    "start_time": "2024-09-05T21:30:10.380Z"
   },
   {
    "duration": 20,
    "start_time": "2024-09-05T21:30:13.642Z"
   },
   {
    "duration": 3,
    "start_time": "2024-09-05T21:30:17.365Z"
   },
   {
    "duration": 5,
    "start_time": "2024-09-05T21:30:19.130Z"
   },
   {
    "duration": 3,
    "start_time": "2024-09-05T21:30:20.694Z"
   },
   {
    "duration": 9,
    "start_time": "2024-09-05T21:30:23.863Z"
   },
   {
    "duration": 7,
    "start_time": "2024-09-05T21:30:25.863Z"
   },
   {
    "duration": 24,
    "start_time": "2024-09-05T21:30:29.758Z"
   },
   {
    "duration": 14,
    "start_time": "2024-09-05T21:30:31.566Z"
   },
   {
    "duration": 17,
    "start_time": "2024-09-05T21:30:33.045Z"
   },
   {
    "duration": 53,
    "start_time": "2024-09-05T21:30:34.944Z"
   },
   {
    "duration": 55,
    "start_time": "2024-09-05T21:30:35.851Z"
   },
   {
    "duration": 42,
    "start_time": "2024-09-05T21:30:37.308Z"
   },
   {
    "duration": 35,
    "start_time": "2024-09-05T21:30:38.962Z"
   },
   {
    "duration": 3,
    "start_time": "2024-09-05T21:39:57.235Z"
   },
   {
    "duration": 86,
    "start_time": "2024-09-05T21:39:58.593Z"
   },
   {
    "duration": 3,
    "start_time": "2024-09-05T21:44:18.050Z"
   },
   {
    "duration": 3,
    "start_time": "2024-09-05T21:45:42.278Z"
   },
   {
    "duration": 14,
    "start_time": "2024-09-05T21:45:44.163Z"
   },
   {
    "duration": 33,
    "start_time": "2024-09-05T21:46:05.877Z"
   },
   {
    "duration": 4,
    "start_time": "2024-09-05T21:46:54.684Z"
   },
   {
    "duration": 13,
    "start_time": "2024-09-05T21:46:55.884Z"
   },
   {
    "duration": 12,
    "start_time": "2024-09-05T21:47:21.199Z"
   },
   {
    "duration": 12,
    "start_time": "2024-09-05T21:47:30.918Z"
   },
   {
    "duration": 31,
    "start_time": "2024-09-05T21:47:41.196Z"
   },
   {
    "duration": 383,
    "start_time": "2024-09-05T21:48:07.764Z"
   },
   {
    "duration": 103,
    "start_time": "2024-09-05T21:48:09.285Z"
   },
   {
    "duration": 9,
    "start_time": "2024-09-05T21:48:10.666Z"
   },
   {
    "duration": 22,
    "start_time": "2024-09-05T21:48:13.017Z"
   },
   {
    "duration": 3,
    "start_time": "2024-09-05T21:48:17.534Z"
   },
   {
    "duration": 4,
    "start_time": "2024-09-05T21:48:19.861Z"
   },
   {
    "duration": 4,
    "start_time": "2024-09-05T21:48:23.700Z"
   },
   {
    "duration": 9,
    "start_time": "2024-09-05T21:48:27.598Z"
   },
   {
    "duration": 5,
    "start_time": "2024-09-05T21:48:38.412Z"
   },
   {
    "duration": 25,
    "start_time": "2024-09-05T21:48:41.387Z"
   },
   {
    "duration": 15,
    "start_time": "2024-09-05T21:48:43.601Z"
   },
   {
    "duration": 16,
    "start_time": "2024-09-05T21:48:45.348Z"
   },
   {
    "duration": 50,
    "start_time": "2024-09-05T21:48:47.481Z"
   },
   {
    "duration": 46,
    "start_time": "2024-09-05T21:48:48.516Z"
   },
   {
    "duration": 40,
    "start_time": "2024-09-05T21:48:50.088Z"
   },
   {
    "duration": 31,
    "start_time": "2024-09-05T21:48:51.859Z"
   },
   {
    "duration": 48,
    "start_time": "2024-09-05T21:49:09.478Z"
   },
   {
    "duration": 5,
    "start_time": "2024-09-05T21:49:14.913Z"
   },
   {
    "duration": 12,
    "start_time": "2024-09-05T21:49:16.624Z"
   },
   {
    "duration": 31,
    "start_time": "2024-09-05T21:49:23.430Z"
   },
   {
    "duration": 34,
    "start_time": "2024-09-05T21:49:35.364Z"
   },
   {
    "duration": 59,
    "start_time": "2024-09-05T21:51:55.545Z"
   },
   {
    "duration": 230,
    "start_time": "2024-09-05T21:52:05.961Z"
   },
   {
    "duration": 64,
    "start_time": "2024-09-05T21:52:23.911Z"
   },
   {
    "duration": 32,
    "start_time": "2024-09-05T21:52:33.433Z"
   },
   {
    "duration": 50,
    "start_time": "2024-09-05T21:52:51.549Z"
   },
   {
    "duration": 15,
    "start_time": "2024-09-05T22:01:22.160Z"
   },
   {
    "duration": 12,
    "start_time": "2024-09-05T22:01:29.720Z"
   },
   {
    "duration": 12,
    "start_time": "2024-09-05T22:01:54.680Z"
   },
   {
    "duration": 12,
    "start_time": "2024-09-05T22:02:45.213Z"
   },
   {
    "duration": 10,
    "start_time": "2024-09-05T22:02:54.740Z"
   },
   {
    "duration": 8,
    "start_time": "2024-09-05T22:04:29.710Z"
   },
   {
    "duration": 8,
    "start_time": "2024-09-05T22:04:33.898Z"
   },
   {
    "duration": 9,
    "start_time": "2024-09-05T22:04:55.584Z"
   },
   {
    "duration": 6,
    "start_time": "2024-09-05T22:22:23.849Z"
   },
   {
    "duration": 4,
    "start_time": "2024-09-05T22:22:29.413Z"
   },
   {
    "duration": 3,
    "start_time": "2024-09-05T22:22:34.444Z"
   },
   {
    "duration": 12,
    "start_time": "2024-09-05T22:23:47.477Z"
   },
   {
    "duration": 11,
    "start_time": "2024-09-05T22:24:09.777Z"
   },
   {
    "duration": 12,
    "start_time": "2024-09-05T22:24:19.100Z"
   },
   {
    "duration": 15,
    "start_time": "2024-09-05T22:24:41.464Z"
   },
   {
    "duration": 14,
    "start_time": "2024-09-05T22:24:59.620Z"
   },
   {
    "duration": 13,
    "start_time": "2024-09-05T22:25:01.484Z"
   },
   {
    "duration": 10,
    "start_time": "2024-09-05T22:25:05.089Z"
   },
   {
    "duration": 12,
    "start_time": "2024-09-05T22:25:05.682Z"
   },
   {
    "duration": 3,
    "start_time": "2024-09-05T22:27:00.930Z"
   },
   {
    "duration": 5,
    "start_time": "2024-09-05T22:27:10.109Z"
   },
   {
    "duration": 26,
    "start_time": "2024-09-05T22:27:21.657Z"
   },
   {
    "duration": 12,
    "start_time": "2024-09-05T22:27:47.354Z"
   },
   {
    "duration": 11,
    "start_time": "2024-09-05T22:28:02.313Z"
   },
   {
    "duration": 12,
    "start_time": "2024-09-05T22:28:51.997Z"
   },
   {
    "duration": 309,
    "start_time": "2024-09-05T22:28:58.837Z"
   },
   {
    "duration": 98,
    "start_time": "2024-09-05T22:28:59.149Z"
   },
   {
    "duration": 7,
    "start_time": "2024-09-05T22:28:59.251Z"
   },
   {
    "duration": 21,
    "start_time": "2024-09-05T22:28:59.259Z"
   },
   {
    "duration": 3,
    "start_time": "2024-09-05T22:28:59.283Z"
   },
   {
    "duration": 4,
    "start_time": "2024-09-05T22:28:59.288Z"
   },
   {
    "duration": 4,
    "start_time": "2024-09-05T22:28:59.293Z"
   },
   {
    "duration": 37,
    "start_time": "2024-09-05T22:28:59.299Z"
   },
   {
    "duration": 5,
    "start_time": "2024-09-05T22:28:59.338Z"
   },
   {
    "duration": 17,
    "start_time": "2024-09-05T22:28:59.345Z"
   },
   {
    "duration": 11,
    "start_time": "2024-09-05T22:28:59.363Z"
   },
   {
    "duration": 16,
    "start_time": "2024-09-05T22:28:59.375Z"
   },
   {
    "duration": 75,
    "start_time": "2024-09-05T22:28:59.393Z"
   },
   {
    "duration": 46,
    "start_time": "2024-09-05T22:28:59.471Z"
   },
   {
    "duration": 49,
    "start_time": "2024-09-05T22:28:59.519Z"
   },
   {
    "duration": 31,
    "start_time": "2024-09-05T22:28:59.570Z"
   },
   {
    "duration": 3,
    "start_time": "2024-09-05T22:28:59.603Z"
   },
   {
    "duration": 11,
    "start_time": "2024-09-05T22:28:59.631Z"
   },
   {
    "duration": 31,
    "start_time": "2024-09-05T22:28:59.644Z"
   },
   {
    "duration": 8,
    "start_time": "2024-09-05T22:28:59.677Z"
   },
   {
    "duration": 9,
    "start_time": "2024-09-05T22:28:59.686Z"
   },
   {
    "duration": 3,
    "start_time": "2024-09-05T22:28:59.696Z"
   },
   {
    "duration": 42,
    "start_time": "2024-09-05T22:28:59.701Z"
   },
   {
    "duration": 11,
    "start_time": "2024-09-05T22:28:59.745Z"
   },
   {
    "duration": 12,
    "start_time": "2024-09-05T22:28:59.758Z"
   },
   {
    "duration": 4,
    "start_time": "2024-09-05T22:28:59.772Z"
   },
   {
    "duration": 0,
    "start_time": "2024-09-05T22:28:59.778Z"
   },
   {
    "duration": 0,
    "start_time": "2024-09-05T22:28:59.780Z"
   },
   {
    "duration": 318,
    "start_time": "2024-09-05T22:29:21.056Z"
   },
   {
    "duration": 95,
    "start_time": "2024-09-05T22:29:21.376Z"
   },
   {
    "duration": 7,
    "start_time": "2024-09-05T22:29:21.473Z"
   },
   {
    "duration": 24,
    "start_time": "2024-09-05T22:29:21.484Z"
   },
   {
    "duration": 4,
    "start_time": "2024-09-05T22:29:21.510Z"
   },
   {
    "duration": 3,
    "start_time": "2024-09-05T22:29:21.532Z"
   },
   {
    "duration": 4,
    "start_time": "2024-09-05T22:29:21.537Z"
   },
   {
    "duration": 8,
    "start_time": "2024-09-05T22:29:21.542Z"
   },
   {
    "duration": 6,
    "start_time": "2024-09-05T22:29:21.552Z"
   },
   {
    "duration": 17,
    "start_time": "2024-09-05T22:29:21.562Z"
   },
   {
    "duration": 11,
    "start_time": "2024-09-05T22:29:21.581Z"
   },
   {
    "duration": 44,
    "start_time": "2024-09-05T22:29:21.594Z"
   },
   {
    "duration": 42,
    "start_time": "2024-09-05T22:29:21.640Z"
   },
   {
    "duration": 67,
    "start_time": "2024-09-05T22:29:21.683Z"
   },
   {
    "duration": 39,
    "start_time": "2024-09-05T22:29:21.752Z"
   },
   {
    "duration": 42,
    "start_time": "2024-09-05T22:29:21.792Z"
   },
   {
    "duration": 3,
    "start_time": "2024-09-05T22:29:21.836Z"
   },
   {
    "duration": 11,
    "start_time": "2024-09-05T22:29:21.841Z"
   },
   {
    "duration": 29,
    "start_time": "2024-09-05T22:29:21.853Z"
   },
   {
    "duration": 8,
    "start_time": "2024-09-05T22:29:21.884Z"
   },
   {
    "duration": 8,
    "start_time": "2024-09-05T22:29:21.893Z"
   },
   {
    "duration": 29,
    "start_time": "2024-09-05T22:29:21.902Z"
   },
   {
    "duration": 13,
    "start_time": "2024-09-05T22:29:21.933Z"
   },
   {
    "duration": 16,
    "start_time": "2024-09-05T22:29:21.948Z"
   },
   {
    "duration": 13,
    "start_time": "2024-09-05T22:29:21.967Z"
   },
   {
    "duration": 10,
    "start_time": "2024-09-05T22:29:21.982Z"
   },
   {
    "duration": 207,
    "start_time": "2024-09-05T22:29:21.994Z"
   },
   {
    "duration": 0,
    "start_time": "2024-09-05T22:29:22.203Z"
   },
   {
    "duration": 279,
    "start_time": "2024-09-05T22:29:31.809Z"
   },
   {
    "duration": 101,
    "start_time": "2024-09-05T22:29:32.090Z"
   },
   {
    "duration": 7,
    "start_time": "2024-09-05T22:29:32.195Z"
   },
   {
    "duration": 30,
    "start_time": "2024-09-05T22:29:32.205Z"
   },
   {
    "duration": 4,
    "start_time": "2024-09-05T22:29:32.237Z"
   },
   {
    "duration": 3,
    "start_time": "2024-09-05T22:29:32.242Z"
   },
   {
    "duration": 4,
    "start_time": "2024-09-05T22:29:32.247Z"
   },
   {
    "duration": 9,
    "start_time": "2024-09-05T22:29:32.252Z"
   },
   {
    "duration": 6,
    "start_time": "2024-09-05T22:29:32.262Z"
   },
   {
    "duration": 17,
    "start_time": "2024-09-05T22:29:32.272Z"
   },
   {
    "duration": 49,
    "start_time": "2024-09-05T22:29:32.290Z"
   },
   {
    "duration": 17,
    "start_time": "2024-09-05T22:29:32.341Z"
   },
   {
    "duration": 45,
    "start_time": "2024-09-05T22:29:32.360Z"
   },
   {
    "duration": 61,
    "start_time": "2024-09-05T22:29:32.409Z"
   },
   {
    "duration": 40,
    "start_time": "2024-09-05T22:29:32.471Z"
   },
   {
    "duration": 42,
    "start_time": "2024-09-05T22:29:32.513Z"
   },
   {
    "duration": 2,
    "start_time": "2024-09-05T22:29:32.557Z"
   },
   {
    "duration": 10,
    "start_time": "2024-09-05T22:29:32.561Z"
   },
   {
    "duration": 30,
    "start_time": "2024-09-05T22:29:32.573Z"
   },
   {
    "duration": 32,
    "start_time": "2024-09-05T22:29:32.605Z"
   },
   {
    "duration": 8,
    "start_time": "2024-09-05T22:29:32.639Z"
   },
   {
    "duration": 3,
    "start_time": "2024-09-05T22:29:32.649Z"
   },
   {
    "duration": 12,
    "start_time": "2024-09-05T22:29:32.654Z"
   },
   {
    "duration": 11,
    "start_time": "2024-09-05T22:29:32.667Z"
   },
   {
    "duration": 10,
    "start_time": "2024-09-05T22:29:32.680Z"
   },
   {
    "duration": 47,
    "start_time": "2024-09-05T22:29:32.692Z"
   },
   {
    "duration": 14,
    "start_time": "2024-09-05T22:29:32.740Z"
   },
   {
    "duration": 11,
    "start_time": "2024-09-05T22:29:32.758Z"
   },
   {
    "duration": 3,
    "start_time": "2024-09-05T22:30:31.841Z"
   },
   {
    "duration": 13,
    "start_time": "2024-09-05T22:30:32.986Z"
   },
   {
    "duration": 11,
    "start_time": "2024-09-05T22:30:33.968Z"
   },
   {
    "duration": 12,
    "start_time": "2024-09-05T22:30:34.589Z"
   },
   {
    "duration": 11,
    "start_time": "2024-09-05T22:30:35.201Z"
   },
   {
    "duration": 12,
    "start_time": "2024-09-05T22:30:35.807Z"
   },
   {
    "duration": 12,
    "start_time": "2024-09-05T22:30:36.983Z"
   },
   {
    "duration": 338,
    "start_time": "2024-09-05T22:43:50.147Z"
   },
   {
    "duration": 96,
    "start_time": "2024-09-05T22:43:51.902Z"
   },
   {
    "duration": 7,
    "start_time": "2024-09-05T22:43:53.019Z"
   },
   {
    "duration": 21,
    "start_time": "2024-09-05T22:43:55.348Z"
   },
   {
    "duration": 3,
    "start_time": "2024-09-05T22:44:01.980Z"
   },
   {
    "duration": 4,
    "start_time": "2024-09-05T22:44:04.333Z"
   },
   {
    "duration": 3,
    "start_time": "2024-09-05T22:44:05.746Z"
   },
   {
    "duration": 9,
    "start_time": "2024-09-05T22:44:07.363Z"
   },
   {
    "duration": 6,
    "start_time": "2024-09-05T22:44:09.079Z"
   },
   {
    "duration": 17,
    "start_time": "2024-09-05T22:44:15.826Z"
   },
   {
    "duration": 12,
    "start_time": "2024-09-05T22:44:22.138Z"
   },
   {
    "duration": 17,
    "start_time": "2024-09-05T22:44:25.795Z"
   },
   {
    "duration": 44,
    "start_time": "2024-09-05T22:44:29.807Z"
   },
   {
    "duration": 49,
    "start_time": "2024-09-05T22:44:32.550Z"
   },
   {
    "duration": 40,
    "start_time": "2024-09-05T22:44:35.168Z"
   },
   {
    "duration": 31,
    "start_time": "2024-09-05T22:44:38.995Z"
   },
   {
    "duration": 3,
    "start_time": "2024-09-05T22:44:41.652Z"
   },
   {
    "duration": 12,
    "start_time": "2024-09-05T22:44:42.990Z"
   },
   {
    "duration": 31,
    "start_time": "2024-09-05T22:44:47.483Z"
   },
   {
    "duration": 10,
    "start_time": "2024-09-05T22:44:54.284Z"
   },
   {
    "duration": 9,
    "start_time": "2024-09-05T22:44:56.629Z"
   },
   {
    "duration": 3,
    "start_time": "2024-09-05T22:44:58.970Z"
   },
   {
    "duration": 13,
    "start_time": "2024-09-05T22:45:00.302Z"
   },
   {
    "duration": 11,
    "start_time": "2024-09-05T22:45:01.189Z"
   },
   {
    "duration": 12,
    "start_time": "2024-09-05T22:45:02.396Z"
   },
   {
    "duration": 11,
    "start_time": "2024-09-05T22:45:04.330Z"
   },
   {
    "duration": 14,
    "start_time": "2024-09-05T22:45:05.742Z"
   },
   {
    "duration": 12,
    "start_time": "2024-09-05T22:45:06.947Z"
   },
   {
    "duration": 352,
    "start_time": "2024-09-05T22:45:52.806Z"
   },
   {
    "duration": 128,
    "start_time": "2024-09-05T22:45:53.160Z"
   },
   {
    "duration": 8,
    "start_time": "2024-09-05T22:45:53.290Z"
   },
   {
    "duration": 28,
    "start_time": "2024-09-05T22:45:53.300Z"
   },
   {
    "duration": 3,
    "start_time": "2024-09-05T22:45:53.330Z"
   },
   {
    "duration": 6,
    "start_time": "2024-09-05T22:45:53.335Z"
   },
   {
    "duration": 29,
    "start_time": "2024-09-05T22:45:53.343Z"
   },
   {
    "duration": 10,
    "start_time": "2024-09-05T22:45:53.374Z"
   },
   {
    "duration": 6,
    "start_time": "2024-09-05T22:45:53.386Z"
   },
   {
    "duration": 22,
    "start_time": "2024-09-05T22:45:53.395Z"
   },
   {
    "duration": 14,
    "start_time": "2024-09-05T22:45:53.419Z"
   },
   {
    "duration": 45,
    "start_time": "2024-09-05T22:45:53.435Z"
   },
   {
    "duration": 45,
    "start_time": "2024-09-05T22:45:53.482Z"
   },
   {
    "duration": 71,
    "start_time": "2024-09-05T22:45:53.528Z"
   },
   {
    "duration": 41,
    "start_time": "2024-09-05T22:45:53.601Z"
   },
   {
    "duration": 49,
    "start_time": "2024-09-05T22:45:53.644Z"
   },
   {
    "duration": 3,
    "start_time": "2024-09-05T22:45:53.695Z"
   },
   {
    "duration": 11,
    "start_time": "2024-09-05T22:45:53.701Z"
   },
   {
    "duration": 65,
    "start_time": "2024-09-05T22:45:53.714Z"
   },
   {
    "duration": 10,
    "start_time": "2024-09-05T22:45:53.781Z"
   },
   {
    "duration": 11,
    "start_time": "2024-09-05T22:45:53.793Z"
   },
   {
    "duration": 3,
    "start_time": "2024-09-05T22:45:53.805Z"
   },
   {
    "duration": 13,
    "start_time": "2024-09-05T22:45:53.810Z"
   },
   {
    "duration": 49,
    "start_time": "2024-09-05T22:45:53.825Z"
   },
   {
    "duration": 11,
    "start_time": "2024-09-05T22:45:53.876Z"
   },
   {
    "duration": 13,
    "start_time": "2024-09-05T22:45:53.889Z"
   },
   {
    "duration": 17,
    "start_time": "2024-09-05T22:45:53.904Z"
   },
   {
    "duration": 10,
    "start_time": "2024-09-05T22:45:53.924Z"
   }
  ],
  "colab": {
   "collapsed_sections": [
    "E0vqbgi9ay0H",
    "VUC88oWjTJw2"
   ],
   "provenance": []
  },
  "kernelspec": {
   "display_name": "Python 3 (ipykernel)",
   "language": "python",
   "name": "python3"
  },
  "language_info": {
   "codemirror_mode": {
    "name": "ipython",
    "version": 3
   },
   "file_extension": ".py",
   "mimetype": "text/x-python",
   "name": "python",
   "nbconvert_exporter": "python",
   "pygments_lexer": "ipython3",
   "version": "3.9.19"
  },
  "toc": {
   "base_numbering": 1,
   "nav_menu": {},
   "number_sections": true,
   "sideBar": true,
   "skip_h1_title": true,
   "title_cell": "Table of Contents",
   "title_sidebar": "Contents",
   "toc_cell": false,
   "toc_position": {},
   "toc_section_display": true,
   "toc_window_display": false
  }
 },
 "nbformat": 4,
 "nbformat_minor": 1
}
