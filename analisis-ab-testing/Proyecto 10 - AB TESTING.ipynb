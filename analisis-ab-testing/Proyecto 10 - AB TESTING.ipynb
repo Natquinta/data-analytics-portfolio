{
 "cells": [
  {
   "cell_type": "markdown",
   "metadata": {},
   "source": [
    "# Hola &#x1F600;,\n",
    "\n",
    "Soy **Hesus Garcia** – **\"Soy el único Hesus que conoces (y probablemente conocerás) 🌟\"** – Sí, como \"Jesús\", pero con una H que me hace único. Puede sonar raro, pero créeme, ¡no lo olvidarás! Como tu revisor en Triple-Ten, estoy aquí para guiarte y ayudarte a mejorar tu código. Si algo necesita un ajuste, no hay de qué preocuparse; ¡aquí estoy para hacer que tu trabajo brille con todo su potencial! ✨\n",
    "\n",
    "Cada vez que encuentre un detalle importante en tu código, te lo señalaré para que puedas corregirlo y así te prepares para un ambiente de trabajo real, donde el líder de tu equipo actuaría de manera similar. Si en algún momento no logras solucionar el problema, te daré más detalles para ayudarte en nuestra próxima oportunidad de revisión.\n",
    "\n",
    "Es importante que cuando encuentres un comentario, **no los muevas, no los modifiques, ni los borres**.\n",
    "\n",
    "---\n",
    "\n",
    "### Formato de Comentarios\n",
    "\n",
    "Revisaré cuidadosamente cada implementación en tu notebook para asegurar que cumpla con los requisitos y te daré comentarios de acuerdo al siguiente formato:\n",
    "\n",
    "\n",
    "<div class=\"alert alert-block alert-success\">\n",
    "<b>Comentario del revisor</b> <a class=\"tocSkip\"></a><br>\n",
    "    \n",
    "<b>Éxito</b> - ¡Excelente trabajo! Esta parte está bien implementada y contribuye significativamente al análisis de datos o al proyecto. Continúa aplicando estas buenas prácticas en futuras secciones.\n",
    "    \n",
    "</div>\n",
    "\n",
    "<div class=\"alert alert-block alert-warning\">\n",
    "<b>Comentario del revisor</b> <a class=\"tocSkip\"></a><br>\n",
    "    \n",
    "<b>Atención</b> ⚠️ - Este código está correcto, pero se puede optimizar. Considera implementar mejoras para que sea más eficiente y fácil de leer. Esto fortalecerá la calidad de tu proyecto.\n",
    "    \n",
    "</div>\n",
    "\n",
    "<div class=\"alert alert-block alert-danger\">\n",
    "<b>Comentario del revisor</b> <a class=\"tocSkip\"></a><br>\n",
    "    \n",
    "<b>A resolver</b> ❗ - Aquí hay un problema o error en el código que es necesario corregir para aprobar esta sección. Por favor, revisa y corrige este punto, ya que es fundamental para la validez del análisis y la precisión de los resultados.\n",
    "    \n",
    "</div>\n",
    "\n",
    "---\n",
    "\n",
    "Al final de cada revisión, recibirás un **Comentario General del Revisor** que incluirá:\n",
    "\n",
    "- **Aspectos positivos:** Un resumen de los puntos fuertes de tu proyecto.\n",
    "- **Áreas de mejora:** Sugerencias sobre aspectos donde puedes mejorar.\n",
    "- **Temas adicionales para investigar:** Ideas de temas opcionales que puedes explorar por tu cuenta para desarrollar aún más tus habilidades.\n",
    "\n",
    "Estos temas adicionales no son obligatorios en esta etapa, pero pueden serte útiles para profundizar en el futuro.\n",
    "\n",
    "---\n",
    "\n",
    "\n",
    "Esta estructura en viñetas facilita la lectura y comprensión de cada parte del comentario final.\n",
    "\n",
    "También puedes responderme de la siguiente manera si tienes alguna duda o quieres aclarar algo específico:\n",
    "\n",
    "\n",
    "<div class=\"alert alert-block alert-info\">\n",
    "<b>Respuesta del estudiante</b> <a class=\"tocSkip\"></a>\n",
    "    \n",
    "Aquí puedes escribir tu respuesta o pregunta sobre el comentario.\n",
    "    \n",
    "</div>\n",
    "\n",
    "\n",
    "**¡Empecemos!** &#x1F680;\n"
   ]
  },
  {
   "cell_type": "markdown",
   "metadata": {
    "toc": true
   },
   "source": [
    "<h1>Table of Contents<span class=\"tocSkip\"></span></h1>\n",
    "<div class=\"toc\"><ul class=\"toc-item\"><li><ul class=\"toc-item\"><li><span><a href=\"#Formato-de-Comentarios\" data-toc-modified-id=\"Formato-de-Comentarios-0.1\"><span class=\"toc-item-num\">0.1&nbsp;&nbsp;</span>Formato de Comentarios</a></span></li></ul></li><li><span><a href=\"#Introducción\" data-toc-modified-id=\"Introducción-1\"><span class=\"toc-item-num\">1&nbsp;&nbsp;</span>Introducción</a></span><ul class=\"toc-item\"><li><span><a href=\"#Objetivos\" data-toc-modified-id=\"Objetivos-1.1\"><span class=\"toc-item-num\">1.1&nbsp;&nbsp;</span>Objetivos</a></span></li></ul></li><li><span><a href=\"#Exploracion-y-corrección-de-datos\" data-toc-modified-id=\"Exploracion-y-corrección-de-datos-2\"><span class=\"toc-item-num\">2&nbsp;&nbsp;</span>Exploracion y corrección de datos</a></span><ul class=\"toc-item\"><li><span><a href=\"#Corrección-y-limpieza-de-datos\" data-toc-modified-id=\"Corrección-y-limpieza-de-datos-2.1\"><span class=\"toc-item-num\">2.1&nbsp;&nbsp;</span>Corrección y limpieza de datos</a></span></li></ul></li><li><span><a href=\"#Priorización-de-hipótesis\" data-toc-modified-id=\"Priorización-de-hipótesis-3\"><span class=\"toc-item-num\">3&nbsp;&nbsp;</span>Priorización de hipótesis</a></span></li><li><span><a href=\"#Análisis-del-Test-A/B\" data-toc-modified-id=\"Análisis-del-Test-A/B-4\"><span class=\"toc-item-num\">4&nbsp;&nbsp;</span>Análisis del Test A/B</a></span></li><li><span><a href=\"#Conclusiones\" data-toc-modified-id=\"Conclusiones-5\"><span class=\"toc-item-num\">5&nbsp;&nbsp;</span>Conclusiones</a></span></li></ul></div>"
   ]
  },
  {
   "cell_type": "markdown",
   "metadata": {},
   "source": [
    "# Proyecto Sprint 10: Tomar decisiones de negocio basadas en datos"
   ]
  },
  {
   "cell_type": "markdown",
   "metadata": {},
   "source": [
    "## Introducción"
   ]
  },
  {
   "cell_type": "markdown",
   "metadata": {},
   "source": [
    "En este proyecto se utilizará el análisis de pruebas A/B, en específico la prueba U de Mann Whitney para concluir si los resultados de la prueba nos dicen que las diferencias estadísticas entre los grupos son significativas o no. Se considerará un valor alpha de significación de 5%."
   ]
  },
  {
   "cell_type": "markdown",
   "metadata": {},
   "source": [
    "### Objetivos"
   ]
  },
  {
   "cell_type": "markdown",
   "metadata": {},
   "source": [
    "1. Priorizar las hipótesis recopiladas conforme a los frameworks ICE y RICE para aumentar los ingresos de la empresa.\n",
    "2. Analizar los resultados de la prueba A/B por ingresos, numero de pedidos por usuario y tamaño de pedidos para determinar las diferencias entre ambos grupos.\n",
    "3. Determinar la significancia de los resultados de la prueba para concluir si es necesario seguir con ella o pararla."
   ]
  },
  {
   "cell_type": "markdown",
   "metadata": {},
   "source": [
    "## Exploracion y corrección de datos"
   ]
  },
  {
   "cell_type": "code",
   "execution_count": 1,
   "metadata": {},
   "outputs": [],
   "source": [
    "# Importacion de librerias\n",
    "import pandas as pd\n",
    "import matplotlib.pyplot as plt\n",
    "import scipy.stats as stats\n",
    "import seaborn as sns\n",
    "import numpy as np\n"
   ]
  },
  {
   "cell_type": "code",
   "execution_count": 2,
   "metadata": {},
   "outputs": [],
   "source": [
    "# Lectura de los archivos\n",
    "\n",
    "hypothesis = pd.read_csv('/datasets/hypotheses_us.csv', sep = ';')\n",
    "orders = pd.read_csv('/datasets/orders_us.csv')\n",
    "visits = pd.read_csv('/datasets/visits_us.csv')"
   ]
  },
  {
   "cell_type": "code",
   "execution_count": 3,
   "metadata": {},
   "outputs": [
    {
     "name": "stdout",
     "output_type": "stream",
     "text": [
      "<class 'pandas.core.frame.DataFrame'>\n",
      "RangeIndex: 9 entries, 0 to 8\n",
      "Data columns (total 5 columns):\n",
      " #   Column      Non-Null Count  Dtype \n",
      "---  ------      --------------  ----- \n",
      " 0   Hypothesis  9 non-null      object\n",
      " 1   Reach       9 non-null      int64 \n",
      " 2   Impact      9 non-null      int64 \n",
      " 3   Confidence  9 non-null      int64 \n",
      " 4   Effort      9 non-null      int64 \n",
      "dtypes: int64(4), object(1)\n",
      "memory usage: 488.0+ bytes\n",
      "\n"
     ]
    },
    {
     "data": {
      "text/html": [
       "<div>\n",
       "<style scoped>\n",
       "    .dataframe tbody tr th:only-of-type {\n",
       "        vertical-align: middle;\n",
       "    }\n",
       "\n",
       "    .dataframe tbody tr th {\n",
       "        vertical-align: top;\n",
       "    }\n",
       "\n",
       "    .dataframe thead th {\n",
       "        text-align: right;\n",
       "    }\n",
       "</style>\n",
       "<table border=\"1\" class=\"dataframe\">\n",
       "  <thead>\n",
       "    <tr style=\"text-align: right;\">\n",
       "      <th></th>\n",
       "      <th>Reach</th>\n",
       "      <th>Impact</th>\n",
       "      <th>Confidence</th>\n",
       "      <th>Effort</th>\n",
       "    </tr>\n",
       "  </thead>\n",
       "  <tbody>\n",
       "    <tr>\n",
       "      <th>count</th>\n",
       "      <td>9.000000</td>\n",
       "      <td>9.000000</td>\n",
       "      <td>9.000000</td>\n",
       "      <td>9.000000</td>\n",
       "    </tr>\n",
       "    <tr>\n",
       "      <th>mean</th>\n",
       "      <td>4.777778</td>\n",
       "      <td>4.777778</td>\n",
       "      <td>5.555556</td>\n",
       "      <td>4.888889</td>\n",
       "    </tr>\n",
       "    <tr>\n",
       "      <th>std</th>\n",
       "      <td>3.153481</td>\n",
       "      <td>3.192874</td>\n",
       "      <td>3.045944</td>\n",
       "      <td>2.803767</td>\n",
       "    </tr>\n",
       "    <tr>\n",
       "      <th>min</th>\n",
       "      <td>1.000000</td>\n",
       "      <td>1.000000</td>\n",
       "      <td>1.000000</td>\n",
       "      <td>1.000000</td>\n",
       "    </tr>\n",
       "    <tr>\n",
       "      <th>25%</th>\n",
       "      <td>3.000000</td>\n",
       "      <td>3.000000</td>\n",
       "      <td>3.000000</td>\n",
       "      <td>3.000000</td>\n",
       "    </tr>\n",
       "    <tr>\n",
       "      <th>50%</th>\n",
       "      <td>3.000000</td>\n",
       "      <td>3.000000</td>\n",
       "      <td>7.000000</td>\n",
       "      <td>5.000000</td>\n",
       "    </tr>\n",
       "    <tr>\n",
       "      <th>75%</th>\n",
       "      <td>8.000000</td>\n",
       "      <td>7.000000</td>\n",
       "      <td>8.000000</td>\n",
       "      <td>6.000000</td>\n",
       "    </tr>\n",
       "    <tr>\n",
       "      <th>max</th>\n",
       "      <td>10.000000</td>\n",
       "      <td>10.000000</td>\n",
       "      <td>9.000000</td>\n",
       "      <td>10.000000</td>\n",
       "    </tr>\n",
       "  </tbody>\n",
       "</table>\n",
       "</div>"
      ],
      "text/plain": [
       "           Reach     Impact  Confidence     Effort\n",
       "count   9.000000   9.000000    9.000000   9.000000\n",
       "mean    4.777778   4.777778    5.555556   4.888889\n",
       "std     3.153481   3.192874    3.045944   2.803767\n",
       "min     1.000000   1.000000    1.000000   1.000000\n",
       "25%     3.000000   3.000000    3.000000   3.000000\n",
       "50%     3.000000   3.000000    7.000000   5.000000\n",
       "75%     8.000000   7.000000    8.000000   6.000000\n",
       "max    10.000000  10.000000    9.000000  10.000000"
      ]
     },
     "metadata": {},
     "output_type": "display_data"
    },
    {
     "name": "stdout",
     "output_type": "stream",
     "text": [
      "\n"
     ]
    },
    {
     "data": {
      "text/html": [
       "<div>\n",
       "<style scoped>\n",
       "    .dataframe tbody tr th:only-of-type {\n",
       "        vertical-align: middle;\n",
       "    }\n",
       "\n",
       "    .dataframe tbody tr th {\n",
       "        vertical-align: top;\n",
       "    }\n",
       "\n",
       "    .dataframe thead th {\n",
       "        text-align: right;\n",
       "    }\n",
       "</style>\n",
       "<table border=\"1\" class=\"dataframe\">\n",
       "  <thead>\n",
       "    <tr style=\"text-align: right;\">\n",
       "      <th></th>\n",
       "      <th>Hypothesis</th>\n",
       "      <th>Reach</th>\n",
       "      <th>Impact</th>\n",
       "      <th>Confidence</th>\n",
       "      <th>Effort</th>\n",
       "    </tr>\n",
       "  </thead>\n",
       "  <tbody>\n",
       "    <tr>\n",
       "      <th>0</th>\n",
       "      <td>Add two new channels for attracting traffic. T...</td>\n",
       "      <td>3</td>\n",
       "      <td>10</td>\n",
       "      <td>8</td>\n",
       "      <td>6</td>\n",
       "    </tr>\n",
       "    <tr>\n",
       "      <th>1</th>\n",
       "      <td>Launch your own delivery service. This will sh...</td>\n",
       "      <td>2</td>\n",
       "      <td>5</td>\n",
       "      <td>4</td>\n",
       "      <td>10</td>\n",
       "    </tr>\n",
       "    <tr>\n",
       "      <th>2</th>\n",
       "      <td>Add product recommendation blocks to the store...</td>\n",
       "      <td>8</td>\n",
       "      <td>3</td>\n",
       "      <td>7</td>\n",
       "      <td>3</td>\n",
       "    </tr>\n",
       "    <tr>\n",
       "      <th>3</th>\n",
       "      <td>Change the category structure. This will incre...</td>\n",
       "      <td>8</td>\n",
       "      <td>3</td>\n",
       "      <td>3</td>\n",
       "      <td>8</td>\n",
       "    </tr>\n",
       "    <tr>\n",
       "      <th>4</th>\n",
       "      <td>Change the background color on the main page. ...</td>\n",
       "      <td>3</td>\n",
       "      <td>1</td>\n",
       "      <td>1</td>\n",
       "      <td>1</td>\n",
       "    </tr>\n",
       "    <tr>\n",
       "      <th>5</th>\n",
       "      <td>Add a customer review page. This will increase...</td>\n",
       "      <td>3</td>\n",
       "      <td>2</td>\n",
       "      <td>2</td>\n",
       "      <td>3</td>\n",
       "    </tr>\n",
       "    <tr>\n",
       "      <th>6</th>\n",
       "      <td>Show banners with current offers and sales on ...</td>\n",
       "      <td>5</td>\n",
       "      <td>3</td>\n",
       "      <td>8</td>\n",
       "      <td>3</td>\n",
       "    </tr>\n",
       "    <tr>\n",
       "      <th>7</th>\n",
       "      <td>Add a subscription form to all the main pages....</td>\n",
       "      <td>10</td>\n",
       "      <td>7</td>\n",
       "      <td>8</td>\n",
       "      <td>5</td>\n",
       "    </tr>\n",
       "    <tr>\n",
       "      <th>8</th>\n",
       "      <td>Launch a promotion that gives users discounts ...</td>\n",
       "      <td>1</td>\n",
       "      <td>9</td>\n",
       "      <td>9</td>\n",
       "      <td>5</td>\n",
       "    </tr>\n",
       "  </tbody>\n",
       "</table>\n",
       "</div>"
      ],
      "text/plain": [
       "                                          Hypothesis  Reach  Impact  \\\n",
       "0  Add two new channels for attracting traffic. T...      3      10   \n",
       "1  Launch your own delivery service. This will sh...      2       5   \n",
       "2  Add product recommendation blocks to the store...      8       3   \n",
       "3  Change the category structure. This will incre...      8       3   \n",
       "4  Change the background color on the main page. ...      3       1   \n",
       "5  Add a customer review page. This will increase...      3       2   \n",
       "6  Show banners with current offers and sales on ...      5       3   \n",
       "7  Add a subscription form to all the main pages....     10       7   \n",
       "8  Launch a promotion that gives users discounts ...      1       9   \n",
       "\n",
       "   Confidence  Effort  \n",
       "0           8       6  \n",
       "1           4      10  \n",
       "2           7       3  \n",
       "3           3       8  \n",
       "4           1       1  \n",
       "5           2       3  \n",
       "6           8       3  \n",
       "7           8       5  \n",
       "8           9       5  "
      ]
     },
     "metadata": {},
     "output_type": "display_data"
    }
   ],
   "source": [
    "#Información de los datasets\n",
    "hypothesis.info()\n",
    "print()\n",
    "display(hypothesis.describe())\n",
    "print()\n",
    "display(hypothesis)"
   ]
  },
  {
   "cell_type": "markdown",
   "metadata": {},
   "source": [
    "Éste dataset contiene las hipótesis recuperadas y su score en los frameworks de ICE y RICE, se hará una evaluación de éstas métricas para saber cuáles se deben priorizar y probar primero. No tiene datos vacíos ni duplicados, y al ser pocos podemos visualizarlos todos."
   ]
  },
  {
   "cell_type": "code",
   "execution_count": 4,
   "metadata": {},
   "outputs": [
    {
     "name": "stdout",
     "output_type": "stream",
     "text": [
      "<class 'pandas.core.frame.DataFrame'>\n",
      "RangeIndex: 62 entries, 0 to 61\n",
      "Data columns (total 3 columns):\n",
      " #   Column  Non-Null Count  Dtype \n",
      "---  ------  --------------  ----- \n",
      " 0   date    62 non-null     object\n",
      " 1   group   62 non-null     object\n",
      " 2   visits  62 non-null     int64 \n",
      "dtypes: int64(1), object(2)\n",
      "memory usage: 1.6+ KB\n",
      "\n"
     ]
    },
    {
     "data": {
      "text/html": [
       "<div>\n",
       "<style scoped>\n",
       "    .dataframe tbody tr th:only-of-type {\n",
       "        vertical-align: middle;\n",
       "    }\n",
       "\n",
       "    .dataframe tbody tr th {\n",
       "        vertical-align: top;\n",
       "    }\n",
       "\n",
       "    .dataframe thead th {\n",
       "        text-align: right;\n",
       "    }\n",
       "</style>\n",
       "<table border=\"1\" class=\"dataframe\">\n",
       "  <thead>\n",
       "    <tr style=\"text-align: right;\">\n",
       "      <th></th>\n",
       "      <th>visits</th>\n",
       "    </tr>\n",
       "  </thead>\n",
       "  <tbody>\n",
       "    <tr>\n",
       "      <th>count</th>\n",
       "      <td>62.000000</td>\n",
       "    </tr>\n",
       "    <tr>\n",
       "      <th>mean</th>\n",
       "      <td>607.290323</td>\n",
       "    </tr>\n",
       "    <tr>\n",
       "      <th>std</th>\n",
       "      <td>114.400560</td>\n",
       "    </tr>\n",
       "    <tr>\n",
       "      <th>min</th>\n",
       "      <td>361.000000</td>\n",
       "    </tr>\n",
       "    <tr>\n",
       "      <th>25%</th>\n",
       "      <td>534.000000</td>\n",
       "    </tr>\n",
       "    <tr>\n",
       "      <th>50%</th>\n",
       "      <td>624.500000</td>\n",
       "    </tr>\n",
       "    <tr>\n",
       "      <th>75%</th>\n",
       "      <td>710.500000</td>\n",
       "    </tr>\n",
       "    <tr>\n",
       "      <th>max</th>\n",
       "      <td>770.000000</td>\n",
       "    </tr>\n",
       "  </tbody>\n",
       "</table>\n",
       "</div>"
      ],
      "text/plain": [
       "           visits\n",
       "count   62.000000\n",
       "mean   607.290323\n",
       "std    114.400560\n",
       "min    361.000000\n",
       "25%    534.000000\n",
       "50%    624.500000\n",
       "75%    710.500000\n",
       "max    770.000000"
      ]
     },
     "metadata": {},
     "output_type": "display_data"
    },
    {
     "name": "stdout",
     "output_type": "stream",
     "text": [
      "\n"
     ]
    },
    {
     "data": {
      "text/html": [
       "<div>\n",
       "<style scoped>\n",
       "    .dataframe tbody tr th:only-of-type {\n",
       "        vertical-align: middle;\n",
       "    }\n",
       "\n",
       "    .dataframe tbody tr th {\n",
       "        vertical-align: top;\n",
       "    }\n",
       "\n",
       "    .dataframe thead th {\n",
       "        text-align: right;\n",
       "    }\n",
       "</style>\n",
       "<table border=\"1\" class=\"dataframe\">\n",
       "  <thead>\n",
       "    <tr style=\"text-align: right;\">\n",
       "      <th></th>\n",
       "      <th>date</th>\n",
       "      <th>group</th>\n",
       "      <th>visits</th>\n",
       "    </tr>\n",
       "  </thead>\n",
       "  <tbody>\n",
       "    <tr>\n",
       "      <th>0</th>\n",
       "      <td>2019-08-01</td>\n",
       "      <td>A</td>\n",
       "      <td>719</td>\n",
       "    </tr>\n",
       "    <tr>\n",
       "      <th>1</th>\n",
       "      <td>2019-08-02</td>\n",
       "      <td>A</td>\n",
       "      <td>619</td>\n",
       "    </tr>\n",
       "    <tr>\n",
       "      <th>2</th>\n",
       "      <td>2019-08-03</td>\n",
       "      <td>A</td>\n",
       "      <td>507</td>\n",
       "    </tr>\n",
       "    <tr>\n",
       "      <th>3</th>\n",
       "      <td>2019-08-04</td>\n",
       "      <td>A</td>\n",
       "      <td>717</td>\n",
       "    </tr>\n",
       "    <tr>\n",
       "      <th>4</th>\n",
       "      <td>2019-08-05</td>\n",
       "      <td>A</td>\n",
       "      <td>756</td>\n",
       "    </tr>\n",
       "  </tbody>\n",
       "</table>\n",
       "</div>"
      ],
      "text/plain": [
       "         date group  visits\n",
       "0  2019-08-01     A     719\n",
       "1  2019-08-02     A     619\n",
       "2  2019-08-03     A     507\n",
       "3  2019-08-04     A     717\n",
       "4  2019-08-05     A     756"
      ]
     },
     "metadata": {},
     "output_type": "display_data"
    }
   ],
   "source": [
    "visits.info()\n",
    "print()\n",
    "display(visits.describe())\n",
    "print()\n",
    "display(visits.head()\n",
    ")"
   ]
  },
  {
   "cell_type": "markdown",
   "metadata": {},
   "source": [
    "En el dataset de visits no hay datos nulos, tiene la columna date que hay que convertir al tipo datetime, el grupo de la prueba y el número de visitas del día especificado. En este dataset hay que comprobar que no haya duplicados."
   ]
  },
  {
   "cell_type": "code",
   "execution_count": 5,
   "metadata": {},
   "outputs": [
    {
     "name": "stdout",
     "output_type": "stream",
     "text": [
      "<class 'pandas.core.frame.DataFrame'>\n",
      "RangeIndex: 1197 entries, 0 to 1196\n",
      "Data columns (total 5 columns):\n",
      " #   Column         Non-Null Count  Dtype  \n",
      "---  ------         --------------  -----  \n",
      " 0   transactionId  1197 non-null   int64  \n",
      " 1   visitorId      1197 non-null   int64  \n",
      " 2   date           1197 non-null   object \n",
      " 3   revenue        1197 non-null   float64\n",
      " 4   group          1197 non-null   object \n",
      "dtypes: float64(1), int64(2), object(2)\n",
      "memory usage: 46.9+ KB\n",
      "\n"
     ]
    },
    {
     "data": {
      "text/html": [
       "<div>\n",
       "<style scoped>\n",
       "    .dataframe tbody tr th:only-of-type {\n",
       "        vertical-align: middle;\n",
       "    }\n",
       "\n",
       "    .dataframe tbody tr th {\n",
       "        vertical-align: top;\n",
       "    }\n",
       "\n",
       "    .dataframe thead th {\n",
       "        text-align: right;\n",
       "    }\n",
       "</style>\n",
       "<table border=\"1\" class=\"dataframe\">\n",
       "  <thead>\n",
       "    <tr style=\"text-align: right;\">\n",
       "      <th></th>\n",
       "      <th>transactionId</th>\n",
       "      <th>visitorId</th>\n",
       "      <th>revenue</th>\n",
       "    </tr>\n",
       "  </thead>\n",
       "  <tbody>\n",
       "    <tr>\n",
       "      <th>count</th>\n",
       "      <td>1.197000e+03</td>\n",
       "      <td>1.197000e+03</td>\n",
       "      <td>1197.000000</td>\n",
       "    </tr>\n",
       "    <tr>\n",
       "      <th>mean</th>\n",
       "      <td>2.155621e+09</td>\n",
       "      <td>2.165960e+09</td>\n",
       "      <td>131.491646</td>\n",
       "    </tr>\n",
       "    <tr>\n",
       "      <th>std</th>\n",
       "      <td>1.229085e+09</td>\n",
       "      <td>1.236014e+09</td>\n",
       "      <td>603.004729</td>\n",
       "    </tr>\n",
       "    <tr>\n",
       "      <th>min</th>\n",
       "      <td>1.062393e+06</td>\n",
       "      <td>5.114589e+06</td>\n",
       "      <td>5.000000</td>\n",
       "    </tr>\n",
       "    <tr>\n",
       "      <th>25%</th>\n",
       "      <td>1.166776e+09</td>\n",
       "      <td>1.111826e+09</td>\n",
       "      <td>20.800000</td>\n",
       "    </tr>\n",
       "    <tr>\n",
       "      <th>50%</th>\n",
       "      <td>2.145194e+09</td>\n",
       "      <td>2.217985e+09</td>\n",
       "      <td>50.200000</td>\n",
       "    </tr>\n",
       "    <tr>\n",
       "      <th>75%</th>\n",
       "      <td>3.237740e+09</td>\n",
       "      <td>3.177606e+09</td>\n",
       "      <td>130.400000</td>\n",
       "    </tr>\n",
       "    <tr>\n",
       "      <th>max</th>\n",
       "      <td>4.293856e+09</td>\n",
       "      <td>4.283872e+09</td>\n",
       "      <td>19920.400000</td>\n",
       "    </tr>\n",
       "  </tbody>\n",
       "</table>\n",
       "</div>"
      ],
      "text/plain": [
       "       transactionId     visitorId       revenue\n",
       "count   1.197000e+03  1.197000e+03   1197.000000\n",
       "mean    2.155621e+09  2.165960e+09    131.491646\n",
       "std     1.229085e+09  1.236014e+09    603.004729\n",
       "min     1.062393e+06  5.114589e+06      5.000000\n",
       "25%     1.166776e+09  1.111826e+09     20.800000\n",
       "50%     2.145194e+09  2.217985e+09     50.200000\n",
       "75%     3.237740e+09  3.177606e+09    130.400000\n",
       "max     4.293856e+09  4.283872e+09  19920.400000"
      ]
     },
     "metadata": {},
     "output_type": "display_data"
    },
    {
     "name": "stdout",
     "output_type": "stream",
     "text": [
      "\n"
     ]
    },
    {
     "data": {
      "text/html": [
       "<div>\n",
       "<style scoped>\n",
       "    .dataframe tbody tr th:only-of-type {\n",
       "        vertical-align: middle;\n",
       "    }\n",
       "\n",
       "    .dataframe tbody tr th {\n",
       "        vertical-align: top;\n",
       "    }\n",
       "\n",
       "    .dataframe thead th {\n",
       "        text-align: right;\n",
       "    }\n",
       "</style>\n",
       "<table border=\"1\" class=\"dataframe\">\n",
       "  <thead>\n",
       "    <tr style=\"text-align: right;\">\n",
       "      <th></th>\n",
       "      <th>transactionId</th>\n",
       "      <th>visitorId</th>\n",
       "      <th>date</th>\n",
       "      <th>revenue</th>\n",
       "      <th>group</th>\n",
       "    </tr>\n",
       "  </thead>\n",
       "  <tbody>\n",
       "    <tr>\n",
       "      <th>0</th>\n",
       "      <td>3667963787</td>\n",
       "      <td>3312258926</td>\n",
       "      <td>2019-08-15</td>\n",
       "      <td>30.4</td>\n",
       "      <td>B</td>\n",
       "    </tr>\n",
       "    <tr>\n",
       "      <th>1</th>\n",
       "      <td>2804400009</td>\n",
       "      <td>3642806036</td>\n",
       "      <td>2019-08-15</td>\n",
       "      <td>15.2</td>\n",
       "      <td>B</td>\n",
       "    </tr>\n",
       "    <tr>\n",
       "      <th>2</th>\n",
       "      <td>2961555356</td>\n",
       "      <td>4069496402</td>\n",
       "      <td>2019-08-15</td>\n",
       "      <td>10.2</td>\n",
       "      <td>A</td>\n",
       "    </tr>\n",
       "    <tr>\n",
       "      <th>3</th>\n",
       "      <td>3797467345</td>\n",
       "      <td>1196621759</td>\n",
       "      <td>2019-08-15</td>\n",
       "      <td>155.1</td>\n",
       "      <td>B</td>\n",
       "    </tr>\n",
       "    <tr>\n",
       "      <th>4</th>\n",
       "      <td>2282983706</td>\n",
       "      <td>2322279887</td>\n",
       "      <td>2019-08-15</td>\n",
       "      <td>40.5</td>\n",
       "      <td>B</td>\n",
       "    </tr>\n",
       "  </tbody>\n",
       "</table>\n",
       "</div>"
      ],
      "text/plain": [
       "   transactionId   visitorId        date  revenue group\n",
       "0     3667963787  3312258926  2019-08-15     30.4     B\n",
       "1     2804400009  3642806036  2019-08-15     15.2     B\n",
       "2     2961555356  4069496402  2019-08-15     10.2     A\n",
       "3     3797467345  1196621759  2019-08-15    155.1     B\n",
       "4     2282983706  2322279887  2019-08-15     40.5     B"
      ]
     },
     "metadata": {},
     "output_type": "display_data"
    }
   ],
   "source": [
    "orders.info()\n",
    "print()\n",
    "display(orders.describe())\n",
    "print()\n",
    "display(orders.head()\n",
    ")"
   ]
  },
  {
   "cell_type": "markdown",
   "metadata": {},
   "source": [
    "En este dataset se muestra la fecha, el grupo de la prueba, el ingreso por usuario y el id de la compra y del usuario. Al igual que en el anterior, hay que convertir la fecha en tipo datetime y comprobar los duplicados. No tiene datos nulos en ninguna columna."
   ]
  },
  {
   "cell_type": "markdown",
   "metadata": {},
   "source": [
    "### Corrección y limpieza de datos"
   ]
  },
  {
   "cell_type": "code",
   "execution_count": 6,
   "metadata": {},
   "outputs": [
    {
     "name": "stdout",
     "output_type": "stream",
     "text": [
      "Duplicados en Visits:  0\n",
      "\n",
      "<class 'pandas.core.frame.DataFrame'>\n",
      "RangeIndex: 62 entries, 0 to 61\n",
      "Data columns (total 3 columns):\n",
      " #   Column  Non-Null Count  Dtype         \n",
      "---  ------  --------------  -----         \n",
      " 0   date    62 non-null     datetime64[ns]\n",
      " 1   group   62 non-null     object        \n",
      " 2   visits  62 non-null     int64         \n",
      "dtypes: datetime64[ns](1), int64(1), object(1)\n",
      "memory usage: 1.6+ KB\n"
     ]
    },
    {
     "data": {
      "text/plain": [
       "None"
      ]
     },
     "metadata": {},
     "output_type": "display_data"
    }
   ],
   "source": [
    "# Corregir tipos de datos \n",
    "visits['date'] = pd.to_datetime(visits['date'])\n",
    "\n",
    "#Duplicados\n",
    "print(\"Duplicados en Visits: \", visits.duplicated().sum())\n",
    "print()\n",
    "\n",
    "# Verificar cambios\n",
    "display(visits.info())"
   ]
  },
  {
   "cell_type": "markdown",
   "metadata": {},
   "source": [
    "No hay duplicados que corregir en visits, y se hizo la conversion del dato date al tipo datetime."
   ]
  },
  {
   "cell_type": "code",
   "execution_count": 7,
   "metadata": {},
   "outputs": [
    {
     "name": "stdout",
     "output_type": "stream",
     "text": [
      "Duplicados en Orders:  0\n",
      "\n",
      "<class 'pandas.core.frame.DataFrame'>\n",
      "RangeIndex: 1197 entries, 0 to 1196\n",
      "Data columns (total 5 columns):\n",
      " #   Column         Non-Null Count  Dtype         \n",
      "---  ------         --------------  -----         \n",
      " 0   transactionId  1197 non-null   int64         \n",
      " 1   visitorId      1197 non-null   int64         \n",
      " 2   date           1197 non-null   datetime64[ns]\n",
      " 3   revenue        1197 non-null   float64       \n",
      " 4   group          1197 non-null   object        \n",
      "dtypes: datetime64[ns](1), float64(1), int64(2), object(1)\n",
      "memory usage: 46.9+ KB\n"
     ]
    },
    {
     "data": {
      "text/plain": [
       "None"
      ]
     },
     "metadata": {},
     "output_type": "display_data"
    }
   ],
   "source": [
    "# Corregir tipos de datos \n",
    "orders['date'] = pd.to_datetime(orders['date'])\n",
    "\n",
    "#Duplicados\n",
    "print(\"Duplicados en Orders: \", orders.duplicated().sum())\n",
    "print()\n",
    "\n",
    "# Verificar cambios\n",
    "display(orders.info())"
   ]
  },
  {
   "cell_type": "markdown",
   "metadata": {},
   "source": [
    "No hay duplicados que corregir en orders, y se hizo la conversion del dato date al tipo datetime."
   ]
  },
  {
   "cell_type": "markdown",
   "metadata": {},
   "source": [
    "<div class=\"alert alert-block alert-success\"> \n",
    "<b>Comentario del revisor</b> <a class=\"tocSkip\"></a><br> \n",
    "<b>Éxito</b> - ¡Excelente trabajo en la exploración y corrección de datos! Has verificado correctamente los tipos de datos, convertido las fechas a formato datetime y validado que no existan valores nulos o duplicados. Esto es un paso fundamental para garantizar la calidad de los datos antes del análisis. Además, tu explicación es clara y bien estructurada, lo que facilita la comprensión del proceso. Sigue aplicando estas buenas prácticas en las siguientes etapas del proyecto. \n",
    "</div>"
   ]
  },
  {
   "cell_type": "markdown",
   "metadata": {},
   "source": [
    "## Priorización de hipótesis"
   ]
  },
  {
   "cell_type": "markdown",
   "metadata": {},
   "source": [
    "El primer paso de éste análisis es la priorización de las hipótesis recolectadas según los frameworks de ICE y RICE, según su alcance, impacto, confianza y esfuerzo. Primero se aplicará el framework ICE y después el RICE, para así comparar los resultados y obtener las hipótesis más relevantes para la prueba. "
   ]
  },
  {
   "cell_type": "code",
   "execution_count": 8,
   "metadata": {},
   "outputs": [
    {
     "data": {
      "text/html": [
       "<div>\n",
       "<style scoped>\n",
       "    .dataframe tbody tr th:only-of-type {\n",
       "        vertical-align: middle;\n",
       "    }\n",
       "\n",
       "    .dataframe tbody tr th {\n",
       "        vertical-align: top;\n",
       "    }\n",
       "\n",
       "    .dataframe thead th {\n",
       "        text-align: right;\n",
       "    }\n",
       "</style>\n",
       "<table border=\"1\" class=\"dataframe\">\n",
       "  <thead>\n",
       "    <tr style=\"text-align: right;\">\n",
       "      <th></th>\n",
       "      <th>Hypothesis</th>\n",
       "      <th>ICE</th>\n",
       "    </tr>\n",
       "  </thead>\n",
       "  <tbody>\n",
       "    <tr>\n",
       "      <th>8</th>\n",
       "      <td>Launch a promotion that gives users discounts ...</td>\n",
       "      <td>16.200000</td>\n",
       "    </tr>\n",
       "    <tr>\n",
       "      <th>0</th>\n",
       "      <td>Add two new channels for attracting traffic. T...</td>\n",
       "      <td>13.333333</td>\n",
       "    </tr>\n",
       "    <tr>\n",
       "      <th>7</th>\n",
       "      <td>Add a subscription form to all the main pages....</td>\n",
       "      <td>11.200000</td>\n",
       "    </tr>\n",
       "    <tr>\n",
       "      <th>6</th>\n",
       "      <td>Show banners with current offers and sales on ...</td>\n",
       "      <td>8.000000</td>\n",
       "    </tr>\n",
       "    <tr>\n",
       "      <th>2</th>\n",
       "      <td>Add product recommendation blocks to the store...</td>\n",
       "      <td>7.000000</td>\n",
       "    </tr>\n",
       "    <tr>\n",
       "      <th>1</th>\n",
       "      <td>Launch your own delivery service. This will sh...</td>\n",
       "      <td>2.000000</td>\n",
       "    </tr>\n",
       "    <tr>\n",
       "      <th>5</th>\n",
       "      <td>Add a customer review page. This will increase...</td>\n",
       "      <td>1.333333</td>\n",
       "    </tr>\n",
       "    <tr>\n",
       "      <th>3</th>\n",
       "      <td>Change the category structure. This will incre...</td>\n",
       "      <td>1.125000</td>\n",
       "    </tr>\n",
       "    <tr>\n",
       "      <th>4</th>\n",
       "      <td>Change the background color on the main page. ...</td>\n",
       "      <td>1.000000</td>\n",
       "    </tr>\n",
       "  </tbody>\n",
       "</table>\n",
       "</div>"
      ],
      "text/plain": [
       "                                          Hypothesis        ICE\n",
       "8  Launch a promotion that gives users discounts ...  16.200000\n",
       "0  Add two new channels for attracting traffic. T...  13.333333\n",
       "7  Add a subscription form to all the main pages....  11.200000\n",
       "6  Show banners with current offers and sales on ...   8.000000\n",
       "2  Add product recommendation blocks to the store...   7.000000\n",
       "1  Launch your own delivery service. This will sh...   2.000000\n",
       "5  Add a customer review page. This will increase...   1.333333\n",
       "3  Change the category structure. This will incre...   1.125000\n",
       "4  Change the background color on the main page. ...   1.000000"
      ]
     },
     "metadata": {},
     "output_type": "display_data"
    }
   ],
   "source": [
    "#framework ICE\n",
    "hypothesis['ICE'] = (hypothesis['Impact'] * hypothesis['Confidence'])/ hypothesis['Effort']\n",
    "\n",
    "display(hypothesis[['Hypothesis', 'ICE']].sort_values(by='ICE', ascending=False))"
   ]
  },
  {
   "cell_type": "code",
   "execution_count": 9,
   "metadata": {},
   "outputs": [
    {
     "data": {
      "text/html": [
       "<div>\n",
       "<style scoped>\n",
       "    .dataframe tbody tr th:only-of-type {\n",
       "        vertical-align: middle;\n",
       "    }\n",
       "\n",
       "    .dataframe tbody tr th {\n",
       "        vertical-align: top;\n",
       "    }\n",
       "\n",
       "    .dataframe thead th {\n",
       "        text-align: right;\n",
       "    }\n",
       "</style>\n",
       "<table border=\"1\" class=\"dataframe\">\n",
       "  <thead>\n",
       "    <tr style=\"text-align: right;\">\n",
       "      <th></th>\n",
       "      <th>Hypothesis</th>\n",
       "      <th>RICE</th>\n",
       "    </tr>\n",
       "  </thead>\n",
       "  <tbody>\n",
       "    <tr>\n",
       "      <th>7</th>\n",
       "      <td>Add a subscription form to all the main pages....</td>\n",
       "      <td>112.0</td>\n",
       "    </tr>\n",
       "    <tr>\n",
       "      <th>2</th>\n",
       "      <td>Add product recommendation blocks to the store...</td>\n",
       "      <td>56.0</td>\n",
       "    </tr>\n",
       "    <tr>\n",
       "      <th>0</th>\n",
       "      <td>Add two new channels for attracting traffic. T...</td>\n",
       "      <td>40.0</td>\n",
       "    </tr>\n",
       "    <tr>\n",
       "      <th>6</th>\n",
       "      <td>Show banners with current offers and sales on ...</td>\n",
       "      <td>40.0</td>\n",
       "    </tr>\n",
       "    <tr>\n",
       "      <th>8</th>\n",
       "      <td>Launch a promotion that gives users discounts ...</td>\n",
       "      <td>16.2</td>\n",
       "    </tr>\n",
       "    <tr>\n",
       "      <th>3</th>\n",
       "      <td>Change the category structure. This will incre...</td>\n",
       "      <td>9.0</td>\n",
       "    </tr>\n",
       "    <tr>\n",
       "      <th>1</th>\n",
       "      <td>Launch your own delivery service. This will sh...</td>\n",
       "      <td>4.0</td>\n",
       "    </tr>\n",
       "    <tr>\n",
       "      <th>5</th>\n",
       "      <td>Add a customer review page. This will increase...</td>\n",
       "      <td>4.0</td>\n",
       "    </tr>\n",
       "    <tr>\n",
       "      <th>4</th>\n",
       "      <td>Change the background color on the main page. ...</td>\n",
       "      <td>3.0</td>\n",
       "    </tr>\n",
       "  </tbody>\n",
       "</table>\n",
       "</div>"
      ],
      "text/plain": [
       "                                          Hypothesis   RICE\n",
       "7  Add a subscription form to all the main pages....  112.0\n",
       "2  Add product recommendation blocks to the store...   56.0\n",
       "0  Add two new channels for attracting traffic. T...   40.0\n",
       "6  Show banners with current offers and sales on ...   40.0\n",
       "8  Launch a promotion that gives users discounts ...   16.2\n",
       "3  Change the category structure. This will incre...    9.0\n",
       "1  Launch your own delivery service. This will sh...    4.0\n",
       "5  Add a customer review page. This will increase...    4.0\n",
       "4  Change the background color on the main page. ...    3.0"
      ]
     },
     "metadata": {},
     "output_type": "display_data"
    }
   ],
   "source": [
    "#framework RICE\n",
    "hypothesis['RICE'] = (hypothesis['Reach']* hypothesis['Impact']* hypothesis['Confidence'])/hypothesis['Effort']\n",
    "\n",
    "display(hypothesis[['Hypothesis','RICE']].sort_values(by='RICE', ascending=False))"
   ]
  },
  {
   "cell_type": "markdown",
   "metadata": {},
   "source": [
    "En el framework de ICE, las hipótesis 8, 0, 7, 6 y 2 son las más importantes, ya que tienen el mayor impacto con confianza y menor esfuerzo, sin embargo no se toma en cuenta el alcanze que puedan tener. Por otro lado, en el framework RICE las hipótesis más importantes aparecen en el siguiente orden: 7, 2, 0, 6 y 8. En ambos top 5 vemos las mismas hipótesis, pero con un orden diferente, lo que nos indica que son las que sedeberían priorizar. \n",
    "Como ICE no considera el alcanze, puede dar prioridad a iniciativas de alto impacto y confianza, aunque sean difíciles de ejecutar. RICE, en cambio, penaliza las hipótesis que requieren mucho esfuerzo, reduciendo su puntuación."
   ]
  },
  {
   "cell_type": "markdown",
   "metadata": {},
   "source": [
    "<div class=\"alert alert-block alert-success\"> \n",
    "<b>Comentario del revisor</b> <a class=\"tocSkip\"></a><br> \n",
    "<b>Éxito</b> - ¡Gran trabajo en la priorización de hipótesis! Aplicaste correctamente los frameworks ICE y RICE, explicando claramente sus diferencias y cómo influyen en la selección de hipótesis. Además, identificaste patrones clave en los resultados, lo que fortalece la toma de decisiones en la prueba. Sigue aplicando este enfoque analítico en los siguientes pasos.  \n",
    "</div>"
   ]
  },
  {
   "cell_type": "markdown",
   "metadata": {},
   "source": [
    "## Análisis del Test A/B"
   ]
  },
  {
   "cell_type": "markdown",
   "metadata": {},
   "source": [
    "A continuación, se hará el análisis de la prueba A/B con los datos de visits y orders. Primero se deben calcular las métricas acumuladas para el ingreso por grupo (A o B) y para el tamaño de pedido por grupo. "
   ]
  },
  {
   "cell_type": "code",
   "execution_count": 10,
   "metadata": {},
   "outputs": [
    {
     "data": {
      "text/html": [
       "<div>\n",
       "<style scoped>\n",
       "    .dataframe tbody tr th:only-of-type {\n",
       "        vertical-align: middle;\n",
       "    }\n",
       "\n",
       "    .dataframe tbody tr th {\n",
       "        vertical-align: top;\n",
       "    }\n",
       "\n",
       "    .dataframe thead th {\n",
       "        text-align: right;\n",
       "    }\n",
       "</style>\n",
       "<table border=\"1\" class=\"dataframe\">\n",
       "  <thead>\n",
       "    <tr style=\"text-align: right;\">\n",
       "      <th></th>\n",
       "      <th>date</th>\n",
       "      <th>group</th>\n",
       "      <th>orders</th>\n",
       "      <th>buyers</th>\n",
       "      <th>revenue</th>\n",
       "      <th>visitors</th>\n",
       "    </tr>\n",
       "  </thead>\n",
       "  <tbody>\n",
       "    <tr>\n",
       "      <th>0</th>\n",
       "      <td>2019-08-01</td>\n",
       "      <td>A</td>\n",
       "      <td>24</td>\n",
       "      <td>20</td>\n",
       "      <td>2356.8</td>\n",
       "      <td>719</td>\n",
       "    </tr>\n",
       "    <tr>\n",
       "      <th>1</th>\n",
       "      <td>2019-08-01</td>\n",
       "      <td>B</td>\n",
       "      <td>21</td>\n",
       "      <td>20</td>\n",
       "      <td>1620.0</td>\n",
       "      <td>713</td>\n",
       "    </tr>\n",
       "    <tr>\n",
       "      <th>2</th>\n",
       "      <td>2019-08-02</td>\n",
       "      <td>A</td>\n",
       "      <td>44</td>\n",
       "      <td>38</td>\n",
       "      <td>3860.3</td>\n",
       "      <td>1338</td>\n",
       "    </tr>\n",
       "    <tr>\n",
       "      <th>3</th>\n",
       "      <td>2019-08-02</td>\n",
       "      <td>B</td>\n",
       "      <td>45</td>\n",
       "      <td>43</td>\n",
       "      <td>4243.8</td>\n",
       "      <td>1294</td>\n",
       "    </tr>\n",
       "    <tr>\n",
       "      <th>4</th>\n",
       "      <td>2019-08-03</td>\n",
       "      <td>A</td>\n",
       "      <td>68</td>\n",
       "      <td>62</td>\n",
       "      <td>5675.5</td>\n",
       "      <td>1845</td>\n",
       "    </tr>\n",
       "  </tbody>\n",
       "</table>\n",
       "</div>"
      ],
      "text/plain": [
       "        date group  orders  buyers  revenue  visitors\n",
       "0 2019-08-01     A      24      20   2356.8       719\n",
       "1 2019-08-01     B      21      20   1620.0       713\n",
       "2 2019-08-02     A      44      38   3860.3      1338\n",
       "3 2019-08-02     B      45      43   4243.8      1294\n",
       "4 2019-08-03     A      68      62   5675.5      1845"
      ]
     },
     "metadata": {},
     "output_type": "display_data"
    }
   ],
   "source": [
    "datesGroups = orders[['date','group']].drop_duplicates()\n",
    "\n",
    "ordersAggregated= datesGroups.apply(\n",
    "    lambda x: orders[np.logical_and(orders['date'] <= x['date'], orders['group'] == x['group'])].agg({\n",
    "'date' : 'max',\n",
    "'group' : 'max',\n",
    "'transactionId' : pd.Series.nunique,\n",
    "'visitorId' : pd.Series.nunique,\n",
    "'revenue' : 'sum'}), axis=1).sort_values(by=['date','group'])\n",
    "\n",
    "visitorsAggregated = datesGroups.apply(\n",
    "    lambda x: visits[np.logical_and(visits['date'] <= x['date'] , visits['group'] == x['group'])].agg({\n",
    "        'date':'max','group': 'max', 'visits':'sum'}), axis=1).sort_values(by=['date','group'])\n",
    "\n",
    "cumulativeData = ordersAggregated.merge(visitorsAggregated, left_on=['date','group'], right_on=['date','group'])\n",
    "cumulativeData.columns= ['date', 'group', 'orders', 'buyers', 'revenue', 'visitors']\n",
    "\n",
    "display(cumulativeData.head())"
   ]
  },
  {
   "cell_type": "markdown",
   "metadata": {},
   "source": [
    "Se utilizó el método lambda y merge para crear un dataframe que nos diga la fecha, el grupo y cuantas visitas, compras e ingresos tuvieron acumulados. A continuación se separan los datos para los dos grupos y se grafican para poder compararlos."
   ]
  },
  {
   "cell_type": "code",
   "execution_count": 11,
   "metadata": {},
   "outputs": [],
   "source": [
    "cumulativeRevenueA = cumulativeData[cumulativeData['group'] == 'A'][['date', 'revenue', 'orders']]\n",
    "cumulativeRevenueB = cumulativeData[cumulativeData['group'] == 'B'][['date', 'revenue', 'orders']]\n"
   ]
  },
  {
   "cell_type": "code",
   "execution_count": 12,
   "metadata": {},
   "outputs": [
    {
     "data": {
      "image/png": "[encoded data removed]",
      "text/plain": [
       "<Figure size 1200x600 with 1 Axes>"
      ]
     },
     "metadata": {},
     "output_type": "display_data"
    }
   ],
   "source": [
    "# Ingreso acumulado por grupo\n",
    "plt.figure(figsize=(12,6))\n",
    "sns.lineplot(data=cumulativeRevenueA, x=\"date\", y=\"revenue\", label = 'A')\n",
    "sns.lineplot(data=cumulativeRevenueB, x=\"date\", y=\"revenue\", label = 'B')\n",
    "\n",
    "plt.title(\"Ingreso Acumulado por Grupo\")\n",
    "plt.xlabel(\"Fecha\")\n",
    "plt.ylabel(\"Ingreso Acumulado\")\n",
    "plt.legend(title=\"Grupo\")\n",
    "plt.show()\n",
    "\n"
   ]
  },
  {
   "cell_type": "markdown",
   "metadata": {},
   "source": [
    "En el gráfico se observa que el grupo B tiene ingresos más altos consistentemente, con un salto importante entre el 17 y 21 /08/2019. El grupo A tiene un ingreso que tiende a la alta pero sin saltos bruscos."
   ]
  },
  {
   "cell_type": "code",
   "execution_count": 13,
   "metadata": {},
   "outputs": [
    {
     "data": {
      "image/png": "[encoded data removed]",
      "text/plain": [
       "<Figure size 1200x600 with 1 Axes>"
      ]
     },
     "metadata": {},
     "output_type": "display_data"
    }
   ],
   "source": [
    "plt.figure(figsize=(12,6))\n",
    "plt.plot(cumulativeRevenueA['date'], cumulativeRevenueA['revenue']/cumulativeRevenueA['orders'], label='A')\n",
    "plt.plot(cumulativeRevenueB['date'], cumulativeRevenueB['revenue']/cumulativeRevenueB['orders'], label='B')\n",
    "plt.title(\"Tamaño de Pedido Promedio Acumulado por Grupo\")\n",
    "plt.xlabel(\"Fecha\")\n",
    "plt.ylabel(\"Tamaño Promedio de Pedido\")\n",
    "plt.legend(title=\"Grupo\")\n",
    "plt.show()"
   ]
  },
  {
   "cell_type": "markdown",
   "metadata": {},
   "source": [
    "En este gráfico observamos que el grupo B tambipen tiene en promedio pedidos consistentemente más altos, y se puede ver el mismo salto que en la gráfica anterior. Sin embargo en éste gráfico se observa que los pedidos del grupo A son más grandes durante el periodo previo al salto."
   ]
  },
  {
   "cell_type": "code",
   "execution_count": 26,
   "metadata": {},
   "outputs": [
    {
     "data": {
      "text/plain": [
       "<matplotlib.lines.Line2D at 0x7ff2ec1018e0>"
      ]
     },
     "execution_count": 26,
     "metadata": {},
     "output_type": "execute_result"
    },
    {
     "data": {
      "image/png": "[encoded data removed]",
      "text/plain": [
       "<Figure size 1200x600 with 1 Axes>"
      ]
     },
     "metadata": {},
     "output_type": "display_data"
    }
   ],
   "source": [
    "mergedCumulativeRevenue = cumulativeRevenueA.merge(cumulativeRevenueB, left_on='date', right_on='date', how='left', suffixes=['A', 'B'])\n",
    "\n",
    "#  gráfico de diferencia relativa para los tamaños de compra promedio\n",
    "plt.figure(figsize=(12,6))\n",
    "plt.plot(mergedCumulativeRevenue['date'], (mergedCumulativeRevenue['revenueB']/mergedCumulativeRevenue['ordersB'])/(mergedCumulativeRevenue['revenueA']/mergedCumulativeRevenue['ordersA'])-1)\n",
    "plt.title(\"Diferencia Relativa para los tamaños de pedido promedio\")\n",
    "plt.xlabel(\"Fecha\")\n",
    "plt.ylabel(\"Tamaño Promedio de Pedido\")\n",
    "plt.axhline(y=0, color='black', linestyle='--')"
   ]
  },
  {
   "cell_type": "markdown",
   "metadata": {},
   "source": [
    "En varios puntos, la diferencia entre los segmentos aumenta. Esto significa que debe haber algunos pedidos grandes y valores atípicos que se deberán tomar en cuenta cuando se calcule la significación estadística de la prueba"
   ]
  },
  {
   "cell_type": "code",
   "execution_count": 31,
   "metadata": {},
   "outputs": [
    {
     "data": {
      "image/png": "[encoded data removed]",
      "text/plain": [
       "<Figure size 1200x600 with 1 Axes>"
      ]
     },
     "metadata": {},
     "output_type": "display_data"
    }
   ],
   "source": [
    "# calcular la conversión acumulada\n",
    "cumulativeData['conversion'] = cumulativeData['orders']/cumulativeData['visitors']\n",
    "\n",
    "# seleccionar datos en el grupo \n",
    "cumulativeDataA = cumulativeData[cumulativeData['group']=='A']\n",
    "cumulativeDataB = cumulativeData[cumulativeData['group']=='B']\n",
    "\n",
    "# trazar los gráficos\n",
    "plt.figure(figsize=(12,6))\n",
    "plt.plot(cumulativeDataA['date'], cumulativeDataA['conversion'], label='A')\n",
    "plt.plot(cumulativeDataB['date'], cumulativeDataB['conversion'], label='B')\n",
    "plt.title(\"Tasa de Conversión Diaria por Grupo\")\n",
    "plt.xlabel(\"Fecha\")\n",
    "plt.ylabel(\"Tasa de Conversión\")\n",
    "plt.legend(title=\"Grupo\")\n",
    "plt.show()\n",
    "\n"
   ]
  },
  {
   "cell_type": "markdown",
   "metadata": {},
   "source": [
    "Al inicio, ambos tuvieron un pico de conversión, pero mientras el pico del grupo A se estabilizó hacia abajo, el grupo B mantuvo una conversión más alta."
   ]
  },
  {
   "cell_type": "code",
   "execution_count": 32,
   "metadata": {},
   "outputs": [
    {
     "data": {
      "image/png": "[encoded data removed]",
      "text/plain": [
       "<Figure size 1200x600 with 1 Axes>"
      ]
     },
     "metadata": {},
     "output_type": "display_data"
    }
   ],
   "source": [
    "# Gráfico de dispersión del número de pedidos por usuario\n",
    "orders_per_user = orders.groupby(\"visitorId\").agg({\"transactionId\": \"count\"}).reset_index()\n",
    "orders_per_user.columns = [\"visitorId\", \"num_orders\"]\n",
    "\n",
    "plt.figure(figsize=(12,6))\n",
    "sns.scatterplot(data=orders_per_user, x=\"visitorId\", y=\"num_orders\", alpha=0.5)\n",
    "plt.title(\"Número de Pedidos por Usuario\")\n",
    "plt.xlabel(\"Usuario\")\n",
    "plt.ylabel(\"Número de Pedidos\")\n",
    "plt.show()"
   ]
  },
  {
   "cell_type": "markdown",
   "metadata": {},
   "source": [
    "En éste gráfico se observa que la mayoría de los usuarios hacen entre 1 y 2 pedidos, podemos ver que hay algunos usuarios con comportamiento anormal que llegan a hacer más de 10 pedidos. Ésto puede afectar la visualización de los datos que tenemos y hay que tomar en cuenta éstos datos para hacer un análisis correto. Para eso, se calcula a continuación los percentiles 90, 95 y 99."
   ]
  },
  {
   "cell_type": "code",
   "execution_count": 37,
   "metadata": {},
   "outputs": [
    {
     "name": "stdout",
     "output_type": "stream",
     "text": [
      "Percentiles 90, 95 y 99:  [1. 2. 4.]\n"
     ]
    }
   ],
   "source": [
    "print('Percentiles 90, 95 y 99: ',np.percentile(orders_per_user['num_orders'], [90, 95, 99]))"
   ]
  },
  {
   "cell_type": "markdown",
   "metadata": {},
   "source": [
    "Como observamos en el gráfico, no más del 10% de los usuarios hicieron más de 1 pedido. Menos del 5% realizaron más de 2, y menos del 1% más de 4 pedidos. Es por esto que cualquier usuario que haya hecho más de 4 pedidos se considera una anomalía.\n",
    "Se hará el mismo proceso para analizar el ingreso por orden."
   ]
  },
  {
   "cell_type": "code",
   "execution_count": 38,
   "metadata": {},
   "outputs": [
    {
     "data": {
      "image/png": "[encoded data removed]",
      "text/plain": [
       "<Figure size 1200x600 with 1 Axes>"
      ]
     },
     "metadata": {},
     "output_type": "display_data"
    }
   ],
   "source": [
    "revenue_per_order = orders.groupby(\"transactionId\").agg({\"revenue\": \"sum\"}).reset_index()\n",
    "revenue_per_order.columns = [\"transactionId\", \"revenue\"]\n",
    "\n",
    "plt.figure(figsize=(12,6))\n",
    "sns.scatterplot(data=revenue_per_order, x=\"transactionId\", y=\"revenue\", alpha=0.5)\n",
    "plt.title(\"Ingresos por pedido\")\n",
    "plt.xlabel(\"Pedidos\")\n",
    "plt.ylabel(\"Ingresos\")\n",
    "plt.show()"
   ]
  },
  {
   "cell_type": "code",
   "execution_count": 40,
   "metadata": {},
   "outputs": [
    {
     "name": "stdout",
     "output_type": "stream",
     "text": [
      "Percentiles 90, 95 y 99:  [282.48  435.54  900.904]\n"
     ]
    }
   ],
   "source": [
    "print('Percentiles 90, 95 y 99: ',np.percentile(revenue_per_order['revenue'], [90, 95, 99]))"
   ]
  },
  {
   "cell_type": "markdown",
   "metadata": {},
   "source": [
    "A pesar de que podemos observar algunos pedidos con ingresos de hasta 20,000 , los percentiles nos demuestran que éstos datos son anomalías. El 90% de los usuarios generó un ingreso de 282.48 o menos, menos del 5% generaron 435.54 o más, y menos del 1% más de 900. Por lo que cualquier pedido con ingresos mayores a 900.904, se considera una anomalia."
   ]
  },
  {
   "cell_type": "markdown",
   "metadata": {},
   "source": [
    "A continuación se hará la prueba de la significancia estadística para los datos en bruto, sin eliminar las anomalías:"
   ]
  },
  {
   "cell_type": "code",
   "execution_count": 42,
   "metadata": {},
   "outputs": [
    {
     "name": "stdout",
     "output_type": "stream",
     "text": [
      "0.017\n",
      "0.138\n"
     ]
    }
   ],
   "source": [
    "ordersByUsersA = orders[orders['group']=='A'].groupby('visitorId', as_index=False).agg({'transactionId' : pd.Series.nunique})\n",
    "ordersByUsersA.columns = ['visitorId', 'orders']\n",
    "\n",
    "ordersByUsersB = orders[orders['group']=='B'].groupby('visitorId', as_index=False).agg({'transactionId' : pd.Series.nunique})\n",
    "ordersByUsersB.columns = ['visitorId', 'orders']\n",
    "\n",
    "sampleA = pd.concat([ordersByUsersA['orders'],pd.Series(0, index=np.arange(visits[visits['group']=='A']['visits'].sum() - len(ordersByUsersA['orders'])), name='orders')],axis=0)\n",
    "\n",
    "sampleB = pd.concat([ordersByUsersB['orders'],pd.Series(0, index=np.arange(visits[visits['group']=='B']['visits'].sum() - len(ordersByUsersB['orders'])), name='orders')],axis=0)\n",
    "\n",
    "print(\"{0:.3f}\".format(stats.mannwhitneyu(sampleA, sampleB)[1]))\n",
    "\n",
    "print(\"{0:.3f}\".format(sampleB.mean()/sampleA.mean()-1))"
   ]
  },
  {
   "cell_type": "markdown",
   "metadata": {},
   "source": [
    "El valor p es considerablemente inferior a 0.05 por lo que rechazamos la hipótesis nula. El análisis de datos sin procesar mostró que las tasas de conversión de los grupos tienen diferencias estadísticamente significativas. La ganancia de conversión relativa del grupo B en comparación con el grupo A es del 13.8%. "
   ]
  },
  {
   "cell_type": "code",
   "execution_count": 43,
   "metadata": {},
   "outputs": [
    {
     "name": "stdout",
     "output_type": "stream",
     "text": [
      "0.692\n",
      "0.252\n"
     ]
    }
   ],
   "source": [
    "print('{0:.3f}'.format(stats.mannwhitneyu(orders[orders['group']=='A']['revenue'], orders[orders['group']=='B']['revenue'])[1]))\n",
    "print('{0:.3f}'.format(orders[orders['group']=='B']['revenue'].mean()/orders[orders['group']=='A']['revenue'].mean()-1))"
   ]
  },
  {
   "cell_type": "markdown",
   "metadata": {},
   "source": [
    "El valor p es notablemente superior a 0.05, por lo que no hay motivo para rechazar la hipótesis nula y concluir que el tamaño promedio de los pedidos difiere entre los grupos. No obstante, el tamaño de pedido promedio para el grupo B es menor que para el grupo A.  "
   ]
  },
  {
   "cell_type": "code",
   "execution_count": 44,
   "metadata": {},
   "outputs": [
    {
     "name": "stdout",
     "output_type": "stream",
     "text": [
      "1099     148427295\n",
      "949      887908475\n",
      "744      888512513\n",
      "1103    1164614297\n",
      "1136    1307669133\n",
      "Name: visitorId, dtype: int64\n",
      "(15,)\n"
     ]
    }
   ],
   "source": [
    "usersWithManyOrders = pd.concat([ordersByUsersA[ordersByUsersA['orders'] > 4]['visitorId'], ordersByUsersB[ordersByUsersB['orders'] > 4]['visitorId']], axis = 0)\n",
    "usersWithExpensiveOrders = orders[orders['revenue'] > 900.904]['visitorId']\n",
    "abnormalUsers = pd.concat([usersWithManyOrders, usersWithExpensiveOrders], axis = 0).drop_duplicates().sort_values()\n",
    "print(abnormalUsers.head(5))\n",
    "print(abnormalUsers.shape)"
   ]
  },
  {
   "cell_type": "markdown",
   "metadata": {},
   "source": [
    "Encontramos 15 usuarios con comportamiento anómalo. Se deben volver a hacer las pruebas filtrando estos datos para ver cómo afectaron la significancia estadística en las pruebas."
   ]
  },
  {
   "cell_type": "code",
   "execution_count": 52,
   "metadata": {},
   "outputs": [],
   "source": [
    "sampleAFiltered= pd.concat(\n",
    "    [ordersByUsersA[np.logical_not(ordersByUsersA['visitorId'].isin(abnormalUsers))]['orders'],\n",
    "     pd.Series(0,index=np.arange(visits[visits['group']=='A']['visits'].sum() - len(ordersByUsersA['orders'])),\n",
    "               name='orders')],axis=0)\n",
    "\n",
    "sampleBFiltered= pd.concat(\n",
    "    [ordersByUsersA[np.logical_not(ordersByUsersA['visitorId'].isin(abnormalUsers))]['orders'],\n",
    "     pd.Series(0,index=np.arange(visits[visits['group']=='B']['visits'].sum() - len(ordersByUsersA['orders'])),\n",
    "               name='orders')],axis=0)"
   ]
  },
  {
   "cell_type": "code",
   "execution_count": 53,
   "metadata": {},
   "outputs": [
    {
     "name": "stdout",
     "output_type": "stream",
     "text": [
      "0.879\n",
      "-0.010\n"
     ]
    }
   ],
   "source": [
    "print(\"{0:.3f}\".format(stats.mannwhitneyu(sampleAFiltered, sampleBFiltered)[1]))\n",
    "print(\"{0:.3f}\".format(sampleBFiltered.mean()/sampleAFiltered.mean()-1))"
   ]
  },
  {
   "cell_type": "markdown",
   "metadata": {},
   "source": [
    "Los valores cambiaron al filtrar los datos anómalos, el valor p pasó de 0.017, a 0.879, lo que supera 0.05 por lo que hay que rechazar la hipótesis nula y concluir que no hay una diferencia significativa entre los grupos. Ahora hay que hacer la prueba con el tamaño de los pedidos filtrando los datos fuera de rango y ver si también cambian los resultados."
   ]
  },
  {
   "cell_type": "code",
   "execution_count": 54,
   "metadata": {},
   "outputs": [
    {
     "name": "stdout",
     "output_type": "stream",
     "text": [
      "0.819\n",
      "-0.006\n"
     ]
    }
   ],
   "source": [
    "print(\"{0:.3f}\".format(stats.mannwhitneyu(\n",
    "    orders[np.logical_and(\n",
    "        orders['group']=='A', \n",
    "        np.logical_not(orders['visitorId'].isin(abnormalUsers)))]['revenue'],  \n",
    "    orders[np.logical_and(\n",
    "        orders['group']=='B',  \n",
    "        np.logical_not(orders['visitorId'].isin(abnormalUsers)))]['revenue']  \n",
    ")[1]))  \n",
    "\n",
    "\n",
    "print(\"{0:.3f}\".format(\n",
    "    orders[np.logical_and(orders['group']=='B', \n",
    "           np.logical_not(orders['visitorId'].isin(abnormalUsers)))]['revenue'].mean() /  \n",
    "    orders[np.logical_and(orders['group']=='A',  \n",
    "           np.logical_not(orders['visitorId'].isin(abnormalUsers)))]['revenue'].mean() - 1))  "
   ]
  },
  {
   "cell_type": "markdown",
   "metadata": {},
   "source": [
    "A pesar de el filtrado, el valor p es sigue siendo superior a 0.05, por lo que no hay motivo para rechazar la hipótesis nula y concluir que el tamaño promedio de los pedidos es diferente entre los grupos."
   ]
  },
  {
   "cell_type": "markdown",
   "metadata": {},
   "source": [
    "## Conclusiones"
   ]
  },
  {
   "cell_type": "markdown",
   "metadata": {},
   "source": [
    "Los datos sin procesar nos dieron un resultado que muestra que la diferencias entre la cantidad de pedidos de los grupos son significativas, sin embargo al filtrar los datos, se reveló que éstas diferencias son significativas y las anomalías cambiaron su comportamiento.\n",
    "En cuanto a las ganancias, en ambos casos (datos brutos y datos filtrados) no se encontró una diferencia significativa entre los grupos."
   ]
  },
  {
   "cell_type": "markdown",
   "metadata": {},
   "source": [
    "Es por esto que se debe concluir la prueba y considerar que no hay diferencia entre los grupos. "
   ]
  },
  {
   "cell_type": "markdown",
   "metadata": {},
   "source": [
    "<div class=\"alert alert-block alert-success\"> \n",
    "<b>Comentario del revisor</b> <a class=\"tocSkip\"></a><br> \n",
    "<b>Éxito</b> - ¡Felicidades! Tu análisis del test A/B ha sido ejecutado de manera rigurosa y bien estructurada. Has aplicado correctamente las métricas acumuladas, visualizaciones clave y pruebas estadísticas para evaluar la diferencia entre los grupos. Además, tomaste en cuenta los valores atípicos y su impacto en los resultados, lo que demuestra un enfoque analítico sólido. La conclusión es clara y basada en evidencia, lo que refuerza la validez del estudio. Excelente trabajo en la limpieza de datos, la selección de pruebas y la interpretación de los resultados.  \n",
    "</div>"
   ]
  },
  {
   "cell_type": "markdown",
   "metadata": {
    "toc": true
   },
   "source": [
    "<h1>Table of Contents<span class=\"tocSkip\"></span></h1>\n",
    "<div class=\"toc\"><ul class=\"toc-item\"><li><span><a href=\"#Introducción\" data-toc-modified-id=\"Introducción-1\"><span class=\"toc-item-num\">1&nbsp;&nbsp;</span>Introducción</a></span><ul class=\"toc-item\"><li><span><a href=\"#Objetivos\" data-toc-modified-id=\"Objetivos-1.1\"><span class=\"toc-item-num\">1.1&nbsp;&nbsp;</span>Objetivos</a></span></li></ul></li><li><span><a href=\"#Exploracion-y-corrección-de-datos\" data-toc-modified-id=\"Exploracion-y-corrección-de-datos-2\"><span class=\"toc-item-num\">2&nbsp;&nbsp;</span>Exploracion y corrección de datos</a></span><ul class=\"toc-item\"><li><span><a href=\"#Corrección-y-limpieza-de-datos\" data-toc-modified-id=\"Corrección-y-limpieza-de-datos-2.1\"><span class=\"toc-item-num\">2.1&nbsp;&nbsp;</span>Corrección y limpieza de datos</a></span></li></ul></li><li><span><a href=\"#Priorización-de-hipótesis\" data-toc-modified-id=\"Priorización-de-hipótesis-3\"><span class=\"toc-item-num\">3&nbsp;&nbsp;</span>Priorización de hipótesis</a></span></li><li><span><a href=\"#Análisis-del-Test-A/B\" data-toc-modified-id=\"Análisis-del-Test-A/B-4\"><span class=\"toc-item-num\">4&nbsp;&nbsp;</span>Análisis del Test A/B</a></span></li><li><span><a href=\"#Conclusiones\" data-toc-modified-id=\"Conclusiones-5\"><span class=\"toc-item-num\">5&nbsp;&nbsp;</span>Conclusiones</a></span></li></ul></div>"
   ]
  },
  {
   "cell_type": "markdown",
   "metadata": {},
   "source": [
    "# Comentario general del revisor"
   ]
  },
  {
   "cell_type": "markdown",
   "metadata": {},
   "source": [
    "<div class=\"alert alert-block alert-success\">  \n",
    "<b>Comentario del revisor</b> <a class=\"tocSkip\"></a> \n",
    "    \n",
    "¡Felicidades Natalia! Tu proyecto está **aprobado**. Has demostrado un excelente manejo en el análisis de pruebas A/B, incluyendo la priorización de hipótesis, el cálculo de métricas acumuladas y el uso correcto de pruebas estadísticas. A continuación, destaco los puntos positivos y algunas áreas interesantes para seguir investigando:\n",
    "\n",
    "**Puntos Positivos:**\n",
    "- Limpieza y preparación de datos: Identificaste correctamente las transformaciones necesarias, como la conversión de fechas y la detección de duplicados, asegurando un análisis preciso.\n",
    "- Priorización efectiva de hipótesis: Comparaste correctamente los frameworks ICE y RICE, mostrando un entendimiento sólido sobre su aplicación y diferencias.\n",
    "- Análisis visual de los datos: Utilizaste gráficos efectivos para mostrar las tendencias de ingresos, tamaños de pedido y tasas de conversión, facilitando la interpretación de los resultados.\n",
    "- Detección y manejo de valores atípicos: Identificaste y filtraste anomalías en los datos, asegurando que los resultados fueran más representativos.\n",
    "- Pruebas estadísticas bien aplicadas: Elegiste correctamente la prueba de Mann-Whitney para evaluar la significancia de las diferencias entre los grupos y validaste los resultados con y sin valores atípicos.\n",
    "\n",
    "**Áreas para Seguir Investigando:**\n",
    "- Exploración de otras métricas de impacto: Aunque se evaluó la conversión y el tamaño del pedido, podrías investigar métricas adicionales como el valor de vida del cliente (CLV) para determinar la rentabilidad a largo plazo.\n",
    "- Análisis de segmentación de usuarios: Un enfoque más detallado por características de usuario (como frecuencia de compra o tipo de producto) podría brindar información más precisa sobre el comportamiento en cada grupo.\n",
    "- Pruebas A/B avanzadas: Explorar metodologías adicionales como el Bayesiano A/B Testing podría proporcionar una visión alternativa al enfoque clásico de pruebas de hipótesis.\n",
    "- Impacto de las anomalías en otros experimentos: Dado que las anomalías influyeron en los resultados, podrías analizar cómo afectan otras métricas de negocio y si deberían ser tratadas de manera diferente en futuros experimentos.\n",
    "\n",
    "¡Sigue así, estás haciendo un gran trabajo! 🚀  \n",
    "</div>"
   ]
  },
  {
   "cell_type": "code",
   "execution_count": null,
   "metadata": {},
   "outputs": [],
   "source": []
  }
 ],
 "metadata": {
  "ExecuteTimeLog": [
   {
    "duration": 2587,
    "start_time": "2025-01-30T17:20:35.765Z"
   },
   {
    "duration": 18,
    "start_time": "2025-01-30T17:22:06.187Z"
   },
   {
    "duration": 26,
    "start_time": "2025-01-30T17:22:40.272Z"
   },
   {
    "duration": 19,
    "start_time": "2025-01-30T17:23:15.906Z"
   },
   {
    "duration": 18,
    "start_time": "2025-01-30T17:23:49.493Z"
   },
   {
    "duration": 12,
    "start_time": "2025-01-30T17:24:33.671Z"
   },
   {
    "duration": 24,
    "start_time": "2025-01-30T17:24:34.594Z"
   },
   {
    "duration": 24,
    "start_time": "2025-01-30T17:24:52.450Z"
   },
   {
    "duration": 18,
    "start_time": "2025-01-30T17:24:53.747Z"
   },
   {
    "duration": 25,
    "start_time": "2025-01-30T17:25:09.035Z"
   },
   {
    "duration": 23,
    "start_time": "2025-01-30T17:42:23.305Z"
   },
   {
    "duration": 591,
    "start_time": "2025-01-30T17:45:29.151Z"
   },
   {
    "duration": 12,
    "start_time": "2025-01-30T17:45:42.364Z"
   },
   {
    "duration": 12,
    "start_time": "2025-01-30T17:45:49.820Z"
   },
   {
    "duration": 11,
    "start_time": "2025-01-30T17:46:43.312Z"
   },
   {
    "duration": 188,
    "start_time": "2025-01-30T18:17:04.541Z"
   },
   {
    "duration": 2562,
    "start_time": "2025-01-30T18:17:19.891Z"
   },
   {
    "duration": 20,
    "start_time": "2025-01-30T18:17:22.456Z"
   },
   {
    "duration": 32,
    "start_time": "2025-01-30T18:17:22.479Z"
   },
   {
    "duration": 18,
    "start_time": "2025-01-30T18:17:22.514Z"
   },
   {
    "duration": 22,
    "start_time": "2025-01-30T18:17:22.534Z"
   },
   {
    "duration": 11,
    "start_time": "2025-01-30T18:17:22.558Z"
   },
   {
    "duration": 47,
    "start_time": "2025-01-30T18:17:22.571Z"
   },
   {
    "duration": 631,
    "start_time": "2025-01-30T18:17:22.621Z"
   },
   {
    "duration": 8,
    "start_time": "2025-01-30T18:17:41.535Z"
   },
   {
    "duration": 9,
    "start_time": "2025-01-30T18:17:50.539Z"
   },
   {
    "duration": 12,
    "start_time": "2025-01-30T18:18:54.962Z"
   },
   {
    "duration": 505,
    "start_time": "2025-01-30T18:32:26.006Z"
   },
   {
    "duration": 193,
    "start_time": "2025-01-30T18:32:44.376Z"
   },
   {
    "duration": 214,
    "start_time": "2025-01-30T18:33:01.172Z"
   },
   {
    "duration": 196,
    "start_time": "2025-01-30T18:41:59.487Z"
   },
   {
    "duration": 300,
    "start_time": "2025-01-30T18:42:21.227Z"
   },
   {
    "duration": 276,
    "start_time": "2025-01-30T18:42:48.206Z"
   },
   {
    "duration": 232,
    "start_time": "2025-01-30T18:47:05.078Z"
   },
   {
    "duration": 136,
    "start_time": "2025-01-30T18:48:42.051Z"
   },
   {
    "duration": 190,
    "start_time": "2025-01-30T20:42:37.761Z"
   },
   {
    "duration": 190,
    "start_time": "2025-01-30T20:43:33.247Z"
   },
   {
    "duration": 183,
    "start_time": "2025-01-30T20:43:55.450Z"
   },
   {
    "duration": 221,
    "start_time": "2025-01-30T20:44:41.425Z"
   },
   {
    "duration": 224,
    "start_time": "2025-01-30T20:45:18.322Z"
   },
   {
    "duration": 137,
    "start_time": "2025-01-30T20:51:25.785Z"
   },
   {
    "duration": 267,
    "start_time": "2025-01-30T20:52:56.469Z"
   },
   {
    "duration": 178,
    "start_time": "2025-01-30T20:53:15.813Z"
   },
   {
    "duration": 193,
    "start_time": "2025-01-30T20:53:40.462Z"
   },
   {
    "duration": 6,
    "start_time": "2025-01-30T20:53:49.242Z"
   },
   {
    "duration": 185,
    "start_time": "2025-01-30T20:53:50.025Z"
   },
   {
    "duration": 5,
    "start_time": "2025-01-30T20:54:27.223Z"
   },
   {
    "duration": 194,
    "start_time": "2025-01-30T20:54:27.985Z"
   },
   {
    "duration": 130,
    "start_time": "2025-01-30T20:55:10.692Z"
   },
   {
    "duration": 170,
    "start_time": "2025-01-30T20:55:46.863Z"
   },
   {
    "duration": 2822,
    "start_time": "2025-01-31T15:59:09.879Z"
   },
   {
    "duration": 21,
    "start_time": "2025-01-31T15:59:12.704Z"
   },
   {
    "duration": 36,
    "start_time": "2025-01-31T15:59:14.542Z"
   },
   {
    "duration": 21,
    "start_time": "2025-01-31T15:59:17.422Z"
   },
   {
    "duration": 27,
    "start_time": "2025-01-31T15:59:19.569Z"
   },
   {
    "duration": 11,
    "start_time": "2025-01-31T15:59:21.892Z"
   },
   {
    "duration": 15,
    "start_time": "2025-01-31T15:59:24.150Z"
   },
   {
    "duration": 10,
    "start_time": "2025-01-31T15:59:26.959Z"
   },
   {
    "duration": 11,
    "start_time": "2025-01-31T15:59:27.989Z"
   },
   {
    "duration": 232,
    "start_time": "2025-01-31T15:59:38.001Z"
   },
   {
    "duration": 5,
    "start_time": "2025-01-31T16:00:41.889Z"
   },
   {
    "duration": 201,
    "start_time": "2025-01-31T16:00:43.500Z"
   },
   {
    "duration": 855,
    "start_time": "2025-01-31T16:01:21.299Z"
   },
   {
    "duration": 20,
    "start_time": "2025-01-31T16:01:22.157Z"
   },
   {
    "duration": 26,
    "start_time": "2025-01-31T16:01:22.178Z"
   },
   {
    "duration": 17,
    "start_time": "2025-01-31T16:01:22.206Z"
   },
   {
    "duration": 49,
    "start_time": "2025-01-31T16:01:22.226Z"
   },
   {
    "duration": 11,
    "start_time": "2025-01-31T16:01:22.277Z"
   },
   {
    "duration": 11,
    "start_time": "2025-01-31T16:01:22.290Z"
   },
   {
    "duration": 9,
    "start_time": "2025-01-31T16:01:22.303Z"
   },
   {
    "duration": 8,
    "start_time": "2025-01-31T16:01:22.313Z"
   },
   {
    "duration": 269,
    "start_time": "2025-01-31T16:01:22.323Z"
   },
   {
    "duration": 4,
    "start_time": "2025-01-31T16:01:22.594Z"
   },
   {
    "duration": 216,
    "start_time": "2025-01-31T16:01:22.600Z"
   },
   {
    "duration": 184,
    "start_time": "2025-01-31T16:01:22.818Z"
   },
   {
    "duration": 272,
    "start_time": "2025-01-31T16:01:23.004Z"
   },
   {
    "duration": 0,
    "start_time": "2025-01-31T16:01:23.278Z"
   },
   {
    "duration": 0,
    "start_time": "2025-01-31T16:01:23.279Z"
   },
   {
    "duration": 147,
    "start_time": "2025-01-31T16:07:41.981Z"
   },
   {
    "duration": 267,
    "start_time": "2025-01-31T16:08:41.859Z"
   },
   {
    "duration": 6,
    "start_time": "2025-01-31T16:09:55.694Z"
   },
   {
    "duration": 163,
    "start_time": "2025-01-31T16:09:59.670Z"
   },
   {
    "duration": 247,
    "start_time": "2025-01-31T16:10:06.168Z"
   },
   {
    "duration": 266,
    "start_time": "2025-01-31T16:10:25.055Z"
   },
   {
    "duration": 358,
    "start_time": "2025-01-31T16:11:26.891Z"
   },
   {
    "duration": 287,
    "start_time": "2025-01-31T16:11:47.040Z"
   },
   {
    "duration": 281,
    "start_time": "2025-01-31T16:12:08.759Z"
   },
   {
    "duration": 242,
    "start_time": "2025-01-31T16:13:01.702Z"
   },
   {
    "duration": 158,
    "start_time": "2025-01-31T16:13:25.787Z"
   },
   {
    "duration": 138,
    "start_time": "2025-01-31T16:16:31.886Z"
   },
   {
    "duration": 166,
    "start_time": "2025-01-31T16:16:54.295Z"
   },
   {
    "duration": 207,
    "start_time": "2025-01-31T16:18:08.743Z"
   },
   {
    "duration": 138,
    "start_time": "2025-01-31T16:19:12.926Z"
   },
   {
    "duration": 240,
    "start_time": "2025-01-31T16:23:20.561Z"
   },
   {
    "duration": 5,
    "start_time": "2025-01-31T16:25:11.321Z"
   },
   {
    "duration": 4,
    "start_time": "2025-01-31T16:26:05.720Z"
   },
   {
    "duration": 6,
    "start_time": "2025-01-31T16:26:29.386Z"
   },
   {
    "duration": 178,
    "start_time": "2025-01-31T16:31:29.535Z"
   },
   {
    "duration": 358,
    "start_time": "2025-01-31T16:32:07.898Z"
   },
   {
    "duration": 6,
    "start_time": "2025-01-31T16:32:20.783Z"
   },
   {
    "duration": 168,
    "start_time": "2025-01-31T17:05:27.818Z"
   },
   {
    "duration": 149,
    "start_time": "2025-01-31T17:06:15.169Z"
   },
   {
    "duration": 9,
    "start_time": "2025-01-31T17:09:50.867Z"
   },
   {
    "duration": 7,
    "start_time": "2025-01-31T17:12:55.528Z"
   },
   {
    "duration": 7,
    "start_time": "2025-01-31T17:19:00.195Z"
   },
   {
    "duration": 8,
    "start_time": "2025-01-31T17:19:23.478Z"
   },
   {
    "duration": 16,
    "start_time": "2025-01-31T17:19:27.069Z"
   },
   {
    "duration": 6,
    "start_time": "2025-01-31T17:19:33.091Z"
   },
   {
    "duration": 13,
    "start_time": "2025-01-31T17:19:33.896Z"
   },
   {
    "duration": 7,
    "start_time": "2025-01-31T17:19:56.266Z"
   },
   {
    "duration": 15,
    "start_time": "2025-01-31T17:19:58.663Z"
   },
   {
    "duration": 7,
    "start_time": "2025-01-31T17:20:53.127Z"
   },
   {
    "duration": 15,
    "start_time": "2025-01-31T17:20:54.048Z"
   },
   {
    "duration": 11,
    "start_time": "2025-01-31T17:26:10.682Z"
   }
  ],
  "kernelspec": {
   "display_name": "Python 3 (ipykernel)",
   "language": "python",
   "name": "python3"
  },
  "language_info": {
   "codemirror_mode": {
    "name": "ipython",
    "version": 3
   },
   "file_extension": ".py",
   "mimetype": "text/x-python",
   "name": "python",
   "nbconvert_exporter": "python",
   "pygments_lexer": "ipython3",
   "version": "3.9.19"
  },
  "toc": {
   "base_numbering": 1,
   "nav_menu": {},
   "number_sections": true,
   "sideBar": true,
   "skip_h1_title": true,
   "title_cell": "Table of Contents",
   "title_sidebar": "Contents",
   "toc_cell": true,
   "toc_position": {
    "height": "calc(100% - 180px)",
    "left": "10px",
    "top": "150px",
    "width": "165px"
   },
   "toc_section_display": true,
   "toc_window_display": true
  }
 },
 "nbformat": 4,
 "nbformat_minor": 2
}
