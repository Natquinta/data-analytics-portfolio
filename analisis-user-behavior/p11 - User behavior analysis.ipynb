{
 "cells": [
  {
   "cell_type": "markdown",
   "metadata": {},
   "source": [
    "<b>¡Hola Natalia!</b>\n",
    "\n",
    "Mi nombre es Alejandro Abia y tengo el gusto de revisar tu proyecto.\n",
    "\n",
    "A continuación, encontrarás mis comentarios en celdas pintadas de tres colores (verde, amarillo y rojo), a manera de semáforo. Por favor, <b>no las borres ni muevas de posición</b> mientras dure el proceso de revisión.\n",
    "\n",
    "<div class=\"alert alert-block alert-success\">\n",
    "<b>Éxito</b> <a class=\"tocSkip\"></a>\n",
    "En celdas verdes encontrarás comentarios en relación a tus aciertos y fortalezas.\n",
    "</div>\n",
    "<div class=\"alert alert-block alert-warning\">\n",
    "<b>Antención</b> <a class=\"tocSkip\"></a>\n",
    "Utilizaré el color amarillo para llamar tu atención, expresar algo importante o compartirte alguna idea de valor.\n",
    "</div>\n",
    "<div class=\"alert alert-block alert-danger\">\n",
    "<b>A resolver</b> <a class=\"tocSkip\"></a>\n",
    "En rojo emitiré aquellos puntos que deberás atender para aprobar la revisión.\n",
    "</div>\n",
    "<div class=\"alert alert-block alert-info\">\n",
    "<b>Comentario estudiante</b><a class=\"tocSkip\"></a>\n",
    "Es factible que, a lo largo del proceso de revisión, quieras dejarme comentarios. Si es el caso, por favor realízalo dentro de celdas azules como esta.\n",
    "</div>\n",
    "Respecto del proceso de revisión, tu proyecto será aceptado una vez que los comentarios en rojo hayan sido atendidos.\n",
    "¡Empecemos!"
   ]
  },
  {
   "cell_type": "markdown",
   "metadata": {},
   "source": [
    "# Proyecto del Módulo 2: Análisis de comportamiento del Usuario"
   ]
  },
  {
   "cell_type": "markdown",
   "metadata": {},
   "source": [
    "## Introducción\n"
   ]
  },
  {
   "cell_type": "markdown",
   "metadata": {},
   "source": [
    "En este proyecto, analizamos el comportamiento de los usuarios en la aplicación de una empresa de productos alimenticios, con un enfoque en el embudo de conversión y los resultados de un experimento A/A/B.\n",
    "\n",
    "Primero, evaluamos el embudo de eventos para identificar cuántos usuarios avanzan en cada etapa del proceso de compra y en qué puntos se produce la mayor pérdida de usuarios. Luego, realizamos un test A/A/B para determinar si un cambio en la tipografía de la aplicación afecta la interacción de los usuarios. Para ello, comparamos la frecuencia de eventos clave en dos grupos de control y un grupo de prueba utilizando pruebas de hipótesis estadísticas.\n",
    "\n"
   ]
  },
  {
   "cell_type": "markdown",
   "metadata": {},
   "source": [
    "### Objetivo"
   ]
  },
  {
   "cell_type": "markdown",
   "metadata": {},
   "source": [
    "Verificar la validez del experimento y determinar si la nueva tipografía tiene un impacto significativo en el comportamiento de los usuarios."
   ]
  },
  {
   "cell_type": "markdown",
   "metadata": {},
   "source": [
    "## Exploración y corrección de datos"
   ]
  },
  {
   "cell_type": "code",
   "execution_count": 1,
   "metadata": {},
   "outputs": [],
   "source": [
    "# Importacion de librerias\n",
    "import pandas as pd\n",
    "import matplotlib.pyplot as plt\n",
    "import scipy.stats as stats\n",
    "import seaborn as sns\n",
    "import numpy as np"
   ]
  },
  {
   "cell_type": "code",
   "execution_count": 2,
   "metadata": {},
   "outputs": [],
   "source": [
    "# Lectura de los archivos\n",
    "data = pd.read_csv('/datasets/logs_exp_us.csv', sep=\"\\t\" )\n"
   ]
  },
  {
   "cell_type": "code",
   "execution_count": 3,
   "metadata": {},
   "outputs": [
    {
     "name": "stdout",
     "output_type": "stream",
     "text": [
      "<class 'pandas.core.frame.DataFrame'>\n",
      "RangeIndex: 244126 entries, 0 to 244125\n",
      "Data columns (total 4 columns):\n",
      " #   Column          Non-Null Count   Dtype \n",
      "---  ------          --------------   ----- \n",
      " 0   EventName       244126 non-null  object\n",
      " 1   DeviceIDHash    244126 non-null  int64 \n",
      " 2   EventTimestamp  244126 non-null  int64 \n",
      " 3   ExpId           244126 non-null  int64 \n",
      "dtypes: int64(3), object(1)\n",
      "memory usage: 7.5+ MB\n",
      "\n"
     ]
    },
    {
     "data": {
      "text/html": [
       "<div>\n",
       "<style scoped>\n",
       "    .dataframe tbody tr th:only-of-type {\n",
       "        vertical-align: middle;\n",
       "    }\n",
       "\n",
       "    .dataframe tbody tr th {\n",
       "        vertical-align: top;\n",
       "    }\n",
       "\n",
       "    .dataframe thead th {\n",
       "        text-align: right;\n",
       "    }\n",
       "</style>\n",
       "<table border=\"1\" class=\"dataframe\">\n",
       "  <thead>\n",
       "    <tr style=\"text-align: right;\">\n",
       "      <th></th>\n",
       "      <th>DeviceIDHash</th>\n",
       "      <th>EventTimestamp</th>\n",
       "      <th>ExpId</th>\n",
       "    </tr>\n",
       "  </thead>\n",
       "  <tbody>\n",
       "    <tr>\n",
       "      <th>count</th>\n",
       "      <td>2.441260e+05</td>\n",
       "      <td>2.441260e+05</td>\n",
       "      <td>244126.000000</td>\n",
       "    </tr>\n",
       "    <tr>\n",
       "      <th>mean</th>\n",
       "      <td>4.627568e+18</td>\n",
       "      <td>1.564914e+09</td>\n",
       "      <td>247.022296</td>\n",
       "    </tr>\n",
       "    <tr>\n",
       "      <th>std</th>\n",
       "      <td>2.642425e+18</td>\n",
       "      <td>1.771343e+05</td>\n",
       "      <td>0.824434</td>\n",
       "    </tr>\n",
       "    <tr>\n",
       "      <th>min</th>\n",
       "      <td>6.888747e+15</td>\n",
       "      <td>1.564030e+09</td>\n",
       "      <td>246.000000</td>\n",
       "    </tr>\n",
       "    <tr>\n",
       "      <th>25%</th>\n",
       "      <td>2.372212e+18</td>\n",
       "      <td>1.564757e+09</td>\n",
       "      <td>246.000000</td>\n",
       "    </tr>\n",
       "    <tr>\n",
       "      <th>50%</th>\n",
       "      <td>4.623192e+18</td>\n",
       "      <td>1.564919e+09</td>\n",
       "      <td>247.000000</td>\n",
       "    </tr>\n",
       "    <tr>\n",
       "      <th>75%</th>\n",
       "      <td>6.932517e+18</td>\n",
       "      <td>1.565075e+09</td>\n",
       "      <td>248.000000</td>\n",
       "    </tr>\n",
       "    <tr>\n",
       "      <th>max</th>\n",
       "      <td>9.222603e+18</td>\n",
       "      <td>1.565213e+09</td>\n",
       "      <td>248.000000</td>\n",
       "    </tr>\n",
       "  </tbody>\n",
       "</table>\n",
       "</div>"
      ],
      "text/plain": [
       "       DeviceIDHash  EventTimestamp          ExpId\n",
       "count  2.441260e+05    2.441260e+05  244126.000000\n",
       "mean   4.627568e+18    1.564914e+09     247.022296\n",
       "std    2.642425e+18    1.771343e+05       0.824434\n",
       "min    6.888747e+15    1.564030e+09     246.000000\n",
       "25%    2.372212e+18    1.564757e+09     246.000000\n",
       "50%    4.623192e+18    1.564919e+09     247.000000\n",
       "75%    6.932517e+18    1.565075e+09     248.000000\n",
       "max    9.222603e+18    1.565213e+09     248.000000"
      ]
     },
     "metadata": {},
     "output_type": "display_data"
    },
    {
     "name": "stdout",
     "output_type": "stream",
     "text": [
      "\n"
     ]
    },
    {
     "data": {
      "text/html": [
       "<div>\n",
       "<style scoped>\n",
       "    .dataframe tbody tr th:only-of-type {\n",
       "        vertical-align: middle;\n",
       "    }\n",
       "\n",
       "    .dataframe tbody tr th {\n",
       "        vertical-align: top;\n",
       "    }\n",
       "\n",
       "    .dataframe thead th {\n",
       "        text-align: right;\n",
       "    }\n",
       "</style>\n",
       "<table border=\"1\" class=\"dataframe\">\n",
       "  <thead>\n",
       "    <tr style=\"text-align: right;\">\n",
       "      <th></th>\n",
       "      <th>EventName</th>\n",
       "      <th>DeviceIDHash</th>\n",
       "      <th>EventTimestamp</th>\n",
       "      <th>ExpId</th>\n",
       "    </tr>\n",
       "  </thead>\n",
       "  <tbody>\n",
       "    <tr>\n",
       "      <th>0</th>\n",
       "      <td>MainScreenAppear</td>\n",
       "      <td>4575588528974610257</td>\n",
       "      <td>1564029816</td>\n",
       "      <td>246</td>\n",
       "    </tr>\n",
       "    <tr>\n",
       "      <th>1</th>\n",
       "      <td>MainScreenAppear</td>\n",
       "      <td>7416695313311560658</td>\n",
       "      <td>1564053102</td>\n",
       "      <td>246</td>\n",
       "    </tr>\n",
       "    <tr>\n",
       "      <th>2</th>\n",
       "      <td>PaymentScreenSuccessful</td>\n",
       "      <td>3518123091307005509</td>\n",
       "      <td>1564054127</td>\n",
       "      <td>248</td>\n",
       "    </tr>\n",
       "    <tr>\n",
       "      <th>3</th>\n",
       "      <td>CartScreenAppear</td>\n",
       "      <td>3518123091307005509</td>\n",
       "      <td>1564054127</td>\n",
       "      <td>248</td>\n",
       "    </tr>\n",
       "    <tr>\n",
       "      <th>4</th>\n",
       "      <td>PaymentScreenSuccessful</td>\n",
       "      <td>6217807653094995999</td>\n",
       "      <td>1564055322</td>\n",
       "      <td>248</td>\n",
       "    </tr>\n",
       "  </tbody>\n",
       "</table>\n",
       "</div>"
      ],
      "text/plain": [
       "                 EventName         DeviceIDHash  EventTimestamp  ExpId\n",
       "0         MainScreenAppear  4575588528974610257      1564029816    246\n",
       "1         MainScreenAppear  7416695313311560658      1564053102    246\n",
       "2  PaymentScreenSuccessful  3518123091307005509      1564054127    248\n",
       "3         CartScreenAppear  3518123091307005509      1564054127    248\n",
       "4  PaymentScreenSuccessful  6217807653094995999      1564055322    248"
      ]
     },
     "metadata": {},
     "output_type": "display_data"
    }
   ],
   "source": [
    "#Información de los datasets\n",
    "data.info()\n",
    "print()\n",
    "display(data.describe())\n",
    "print()\n",
    "display(data. head())"
   ]
  },
  {
   "cell_type": "markdown",
   "metadata": {},
   "source": [
    "Los datos nos muestran las acciones que tomaron los clientes. La columna EventName muestra el evento, la columna DeviceIDHash es un identificador de usuario, el EventTimestamp muestra la hora en la que pasó y el ExpID muestra a qué grupo pertenecen en la prueba A/A/B. Se puede ver que no hay datos nulos en ninguna columna.\n",
    "Para preparar estos datos para el análisis es necesario comprobar la exsistencia de duplicados, cambiar los nombres de las columnas a snake_case para tener mejor estructura, cambiar el tipo de datos del Timestamp a tipo datetime y separar la fecha de la hora. \n"
   ]
  },
  {
   "cell_type": "markdown",
   "metadata": {},
   "source": [
    "### Limpieza y corrección de datos"
   ]
  },
  {
   "cell_type": "code",
   "execution_count": 4,
   "metadata": {},
   "outputs": [
    {
     "name": "stdout",
     "output_type": "stream",
     "text": [
      "Duplicados en Data:  413\n",
      "\n"
     ]
    }
   ],
   "source": [
    "#Duplicados\n",
    "print(\"Duplicados en Data: \", data.duplicated().sum())\n",
    "print()\n",
    "data.drop_duplicates(inplace = True)\n",
    "\n",
    "#cambiar nombres de columnas\n",
    "data.columns= ['event_name','device_id','timestamp', 'exp_id']\n",
    "\n",
    "#tipos de datos\n",
    "data['timestamp'] = pd.to_datetime(data['timestamp'], unit = 's')\n",
    "\n",
    "#separar fecha y hora\n",
    "data['event_date'] = data['timestamp'].dt.date\n",
    "data['event_date'] = pd.to_datetime(data['event_date'])\n"
   ]
  },
  {
   "cell_type": "markdown",
   "metadata": {},
   "source": [
    "<div class=\"alert alert-block alert-success\">\n",
    "<b>Celda [4]</b> <a class=\"tocSkip\"></a>\n",
    "La limpieza de datos es adecuada: se eliminan duplicados, se corrigen nombres de columnas y se convierten tipos de datos correctamente.</div>\n"
   ]
  },
  {
   "cell_type": "markdown",
   "metadata": {},
   "source": [
    "<div class=\"alert alert-block alert-warning\">\n",
    "<b>Celda [4]</b> <a class=\"tocSkip\"></a>\n",
    "Podrías optimizar la conversión de fechas y evitar crear una nueva columna innecesaria. En lugar de:\n",
    "\n",
    "<code>\n",
    "data['event_date'] = data['timestamp'].dt.date  \n",
    "data['event_date'] = pd.to_datetime(data['event_date'])  \n",
    "</code>\n",
    "\n",
    "Puedes directamente usar:\n",
    "\n",
    "<code>\n",
    "data['event_date'] = data['timestamp'].dt.floor('D')  \n",
    "</code>\n",
    "\n",
    "Esto reduce redundancia y mejora eficiencia.</div>\n"
   ]
  },
  {
   "cell_type": "code",
   "execution_count": 5,
   "metadata": {},
   "outputs": [
    {
     "name": "stdout",
     "output_type": "stream",
     "text": [
      "<class 'pandas.core.frame.DataFrame'>\n",
      "Int64Index: 243713 entries, 0 to 244125\n",
      "Data columns (total 5 columns):\n",
      " #   Column      Non-Null Count   Dtype         \n",
      "---  ------      --------------   -----         \n",
      " 0   event_name  243713 non-null  object        \n",
      " 1   device_id   243713 non-null  int64         \n",
      " 2   timestamp   243713 non-null  datetime64[ns]\n",
      " 3   exp_id      243713 non-null  int64         \n",
      " 4   event_date  243713 non-null  datetime64[ns]\n",
      "dtypes: datetime64[ns](2), int64(2), object(1)\n",
      "memory usage: 11.2+ MB\n"
     ]
    },
    {
     "data": {
      "text/plain": [
       "None"
      ]
     },
     "metadata": {},
     "output_type": "display_data"
    },
    {
     "name": "stdout",
     "output_type": "stream",
     "text": [
      "Duplicados en Data:  0\n"
     ]
    },
    {
     "data": {
      "text/html": [
       "<div>\n",
       "<style scoped>\n",
       "    .dataframe tbody tr th:only-of-type {\n",
       "        vertical-align: middle;\n",
       "    }\n",
       "\n",
       "    .dataframe tbody tr th {\n",
       "        vertical-align: top;\n",
       "    }\n",
       "\n",
       "    .dataframe thead th {\n",
       "        text-align: right;\n",
       "    }\n",
       "</style>\n",
       "<table border=\"1\" class=\"dataframe\">\n",
       "  <thead>\n",
       "    <tr style=\"text-align: right;\">\n",
       "      <th></th>\n",
       "      <th>event_name</th>\n",
       "      <th>device_id</th>\n",
       "      <th>timestamp</th>\n",
       "      <th>exp_id</th>\n",
       "      <th>event_date</th>\n",
       "    </tr>\n",
       "  </thead>\n",
       "  <tbody>\n",
       "    <tr>\n",
       "      <th>0</th>\n",
       "      <td>MainScreenAppear</td>\n",
       "      <td>4575588528974610257</td>\n",
       "      <td>2019-07-25 04:43:36</td>\n",
       "      <td>246</td>\n",
       "      <td>2019-07-25</td>\n",
       "    </tr>\n",
       "    <tr>\n",
       "      <th>1</th>\n",
       "      <td>MainScreenAppear</td>\n",
       "      <td>7416695313311560658</td>\n",
       "      <td>2019-07-25 11:11:42</td>\n",
       "      <td>246</td>\n",
       "      <td>2019-07-25</td>\n",
       "    </tr>\n",
       "    <tr>\n",
       "      <th>2</th>\n",
       "      <td>PaymentScreenSuccessful</td>\n",
       "      <td>3518123091307005509</td>\n",
       "      <td>2019-07-25 11:28:47</td>\n",
       "      <td>248</td>\n",
       "      <td>2019-07-25</td>\n",
       "    </tr>\n",
       "    <tr>\n",
       "      <th>3</th>\n",
       "      <td>CartScreenAppear</td>\n",
       "      <td>3518123091307005509</td>\n",
       "      <td>2019-07-25 11:28:47</td>\n",
       "      <td>248</td>\n",
       "      <td>2019-07-25</td>\n",
       "    </tr>\n",
       "    <tr>\n",
       "      <th>4</th>\n",
       "      <td>PaymentScreenSuccessful</td>\n",
       "      <td>6217807653094995999</td>\n",
       "      <td>2019-07-25 11:48:42</td>\n",
       "      <td>248</td>\n",
       "      <td>2019-07-25</td>\n",
       "    </tr>\n",
       "  </tbody>\n",
       "</table>\n",
       "</div>"
      ],
      "text/plain": [
       "                event_name            device_id           timestamp  exp_id  \\\n",
       "0         MainScreenAppear  4575588528974610257 2019-07-25 04:43:36     246   \n",
       "1         MainScreenAppear  7416695313311560658 2019-07-25 11:11:42     246   \n",
       "2  PaymentScreenSuccessful  3518123091307005509 2019-07-25 11:28:47     248   \n",
       "3         CartScreenAppear  3518123091307005509 2019-07-25 11:28:47     248   \n",
       "4  PaymentScreenSuccessful  6217807653094995999 2019-07-25 11:48:42     248   \n",
       "\n",
       "  event_date  \n",
       "0 2019-07-25  \n",
       "1 2019-07-25  \n",
       "2 2019-07-25  \n",
       "3 2019-07-25  \n",
       "4 2019-07-25  "
      ]
     },
     "metadata": {},
     "output_type": "display_data"
    }
   ],
   "source": [
    "# Verificar cambios\n",
    "display(data.info())\n",
    "print(\"Duplicados en Data: \", data.duplicated().sum())\n",
    "display(data.head())"
   ]
  },
  {
   "cell_type": "markdown",
   "metadata": {},
   "source": [
    "Ahora tenemos los datos limpios con nombres fáciles de manejar, tipos de datos correctos y sin duplicados para poder pasar a la siguiente parte del análisis."
   ]
  },
  {
   "cell_type": "markdown",
   "metadata": {},
   "source": [
    "## Estudiar y comprobar los datos\n"
   ]
  },
  {
   "cell_type": "code",
   "execution_count": 16,
   "metadata": {},
   "outputs": [
    {
     "name": "stdout",
     "output_type": "stream",
     "text": [
      "Número total de eventos: 243713\n",
      "Número total de usuarios únicos: 7551\n",
      "Eventos promedio por usuario: 32.27559263673685\n",
      "Periodo de tiempo: 2019-07-25 00:00:00  -  2019-08-07 00:00:00\n",
      "Usuarios por experimento:\n",
      "248    85582\n",
      "246    80181\n",
      "247    77950\n",
      "Name: exp_id, dtype: int64\n"
     ]
    }
   ],
   "source": [
    "#Análisis exploratorio\n",
    "print(\"Número total de eventos:\", data['event_name'].count())\n",
    "print(\"Número total de usuarios únicos:\", data['device_id'].nunique())\n",
    "print(\"Eventos promedio por usuario:\", data['event_name'].count() / data['device_id'].nunique())\n",
    "print(\"Periodo de tiempo:\", data['event_date'].min(), \" - \", data['event_date'].max())\n",
    "print('Usuarios por experimento:')\n",
    "print(data[\"exp_id\"].value_counts())\n"
   ]
  },
  {
   "cell_type": "markdown",
   "metadata": {},
   "source": [
    "Aqui podemos ver que hay 7,551 usuarios y que realizaron 243,713 eventos en total, promediando 32 eventos por usuario entre el 25 de julio y el 7 de agosto 2019. Vamos a visualizar los eventos dentro de las fechas para comprobar que tenemos los datos importantes en los que se aplicó la prueba"
   ]
  },
  {
   "cell_type": "code",
   "execution_count": 7,
   "metadata": {},
   "outputs": [
    {
     "data": {
      "image/png": "[encoded data removed]",
      "text/plain": [
       "<Figure size 1200x600 with 1 Axes>"
      ]
     },
     "metadata": {},
     "output_type": "display_data"
    }
   ],
   "source": [
    "# Visualizar distribución de eventos por fecha\n",
    "plt.figure(figsize=(12, 6))\n",
    "sns.histplot(data['timestamp'], bins=100)\n",
    "plt.title(\"Distribución de eventos a lo largo del tiempo\")\n",
    "plt.xticks(rotation=45)\n",
    "plt.show()\n"
   ]
  },
  {
   "cell_type": "markdown",
   "metadata": {},
   "source": [
    "<div class=\"alert alert-block alert-success\">\n",
    "<b>Celda [7]</b> <a class=\"tocSkip\"></a>\n",
    "La visualización de eventos a lo largo del tiempo es útil para identificar el inicio real del experimento. Filtrar desde el 1 de agosto mejora la validez del análisis.</div>\n"
   ]
  },
  {
   "cell_type": "markdown",
   "metadata": {},
   "source": [
    "En el gráfico se observa que los eventos no se estabilizan hasta el 1 de agosto, esto puede indicar que este día se comenzó la prueba de ofertas y los dias anteriores están modificando los datos. Se deben filtrar los datos y comarar las métricas con la exploración inicial."
   ]
  },
  {
   "cell_type": "code",
   "execution_count": 46,
   "metadata": {
    "scrolled": true
   },
   "outputs": [
    {
     "data": {
      "image/png": "[encoded data removed]",
      "text/plain": [
       "<Figure size 1200x600 with 1 Axes>"
      ]
     },
     "metadata": {},
     "output_type": "display_data"
    }
   ],
   "source": [
    "#filtrar datos desde la fecha que se estabilizan los pedidos\n",
    "df_filtered = data[data['timestamp'] >= '2019-08-01']\n",
    "\n",
    "# Visualizar distribución de eventos por fecha de datos filtrados\n",
    "plt.figure(figsize=(12, 6))\n",
    "sns.histplot(df_filtered['timestamp'], bins=100)\n",
    "plt.title(\"Distribución de eventos a lo largo del tiempo (filtrados)\")\n",
    "plt.xticks(rotation=45)\n",
    "plt.show()\n"
   ]
  },
  {
   "cell_type": "markdown",
   "metadata": {},
   "source": [
    "<div class=\"alert alert-block alert-warning\">\n",
    "<b>Celda [46]</b> <a class=\"tocSkip\"></a>\n",
    "El filtro <code>df_filtered = data[data['timestamp'] >= '2019-08-01']</code> puede incluir registros justo al inicio del día sin diferenciar la hora.  \n",
    "Si deseas filtrar exactamente desde el inicio del experimento, podrías hacer:\n",
    "\n",
    "<code>\n",
    "df_filtered = data[data['timestamp'] >= pd.Timestamp('2019-08-01 00:00:00')]\n",
    "</code>\n",
    "\n",
    "Esto garantiza que no se excluyan datos relevantes por error.</div>\n"
   ]
  },
  {
   "cell_type": "code",
   "execution_count": 47,
   "metadata": {},
   "outputs": [
    {
     "name": "stdout",
     "output_type": "stream",
     "text": [
      "Número total de eventos: 240887\n",
      "Número total de usuarios únicos: 7534\n",
      "Eventos promedio por usuario: 31.97332094504911\n",
      "Periodo de tiempo: 2019-08-01 00:00:00  -  2019-08-07 00:00:00\n",
      "Usuarios por experimento:\n",
      "248    84563\n",
      "246    79302\n",
      "247    77022\n",
      "Name: exp_id, dtype: int64\n"
     ]
    }
   ],
   "source": [
    "#Comparar cuantos usuarios hay y de que grupos son ya filtrados\n",
    "print(\"Número total de eventos:\", df_filtered['event_name'].count())\n",
    "print(\"Número total de usuarios únicos:\", df_filtered['device_id'].nunique())\n",
    "print(\"Eventos promedio por usuario:\", df_filtered['event_name'].count() / df_filtered['device_id'].nunique())\n",
    "print(\"Periodo de tiempo:\", df_filtered['event_date'].min(), \" - \", df_filtered['event_date'].max())\n",
    "print('Usuarios por experimento:')\n",
    "print(df_filtered[\"exp_id\"].value_counts())"
   ]
  },
  {
   "cell_type": "markdown",
   "metadata": {},
   "source": [
    "En comparación con los datos que incluyen fechas anteriores, en los datos filtrados tenemos 7,534 usuarios, es decir sí se excluyen algunos usuarios. El numero de eventos se redujo de 243,713 a 240,887 y el promedio de eventos por usuario se quedo prácticamente igual. También es importante notar que se cuenta con suficientes datos de cada experimento, por lo que podemos proceder con el análisis con los datos filtrados."
   ]
  },
  {
   "cell_type": "markdown",
   "metadata": {},
   "source": [
    "## Embudo de eventos"
   ]
  },
  {
   "cell_type": "markdown",
   "metadata": {},
   "source": [
    "Para el análisis del embudo, primero debemos ver qué valores hay en esta categoría y cuantas veces aparece cada evento."
   ]
  },
  {
   "cell_type": "code",
   "execution_count": 19,
   "metadata": {},
   "outputs": [
    {
     "data": {
      "text/plain": [
       "MainScreenAppear           117328\n",
       "OffersScreenAppear          46333\n",
       "CartScreenAppear            42303\n",
       "PaymentScreenSuccessful     33918\n",
       "Tutorial                     1005\n",
       "Name: event_name, dtype: int64"
      ]
     },
     "execution_count": 19,
     "metadata": {},
     "output_type": "execute_result"
    }
   ],
   "source": [
    "# Contar la cantidad de eventos únicos\n",
    "event_counts = df_filtered[\"event_name\"].value_counts()\n",
    "\n",
    "# Mostrar los eventos\n",
    "event_counts\n"
   ]
  },
  {
   "cell_type": "markdown",
   "metadata": {},
   "source": [
    "Visualizamos aquí el conteo de eventos que hay en el embudo. Podemos ver que la pantalla principal es la fase con mayor incidencia, después mostrar la oferta, el carrito y la confirmación de compra. El evento con menos incidencias es el tutorial, podría ser porque gran parte de los clientes no lo necesita y es por esto que no es parte del embudo real. A continuación se crea un data frame con el embudo y su conversión al siguiente paso."
   ]
  },
  {
   "cell_type": "code",
   "execution_count": 20,
   "metadata": {},
   "outputs": [
    {
     "data": {
      "text/html": [
       "<div>\n",
       "<style scoped>\n",
       "    .dataframe tbody tr th:only-of-type {\n",
       "        vertical-align: middle;\n",
       "    }\n",
       "\n",
       "    .dataframe tbody tr th {\n",
       "        vertical-align: top;\n",
       "    }\n",
       "\n",
       "    .dataframe thead th {\n",
       "        text-align: right;\n",
       "    }\n",
       "</style>\n",
       "<table border=\"1\" class=\"dataframe\">\n",
       "  <thead>\n",
       "    <tr style=\"text-align: right;\">\n",
       "      <th></th>\n",
       "      <th>Unique Users</th>\n",
       "      <th>Conversion Rate (%)</th>\n",
       "      <th>Next Step Conversion (%)</th>\n",
       "    </tr>\n",
       "  </thead>\n",
       "  <tbody>\n",
       "    <tr>\n",
       "      <th>MainScreenAppear</th>\n",
       "      <td>7419</td>\n",
       "      <td>100.000000</td>\n",
       "      <td>100.000000</td>\n",
       "    </tr>\n",
       "    <tr>\n",
       "      <th>OffersScreenAppear</th>\n",
       "      <td>4593</td>\n",
       "      <td>-38.091387</td>\n",
       "      <td>61.908613</td>\n",
       "    </tr>\n",
       "    <tr>\n",
       "      <th>CartScreenAppear</th>\n",
       "      <td>3734</td>\n",
       "      <td>-18.702373</td>\n",
       "      <td>81.297627</td>\n",
       "    </tr>\n",
       "    <tr>\n",
       "      <th>PaymentScreenSuccessful</th>\n",
       "      <td>3539</td>\n",
       "      <td>-5.222282</td>\n",
       "      <td>94.777718</td>\n",
       "    </tr>\n",
       "  </tbody>\n",
       "</table>\n",
       "</div>"
      ],
      "text/plain": [
       "                         Unique Users  Conversion Rate (%)  \\\n",
       "MainScreenAppear                 7419           100.000000   \n",
       "OffersScreenAppear               4593           -38.091387   \n",
       "CartScreenAppear                 3734           -18.702373   \n",
       "PaymentScreenSuccessful          3539            -5.222282   \n",
       "\n",
       "                         Next Step Conversion (%)  \n",
       "MainScreenAppear                       100.000000  \n",
       "OffersScreenAppear                      61.908613  \n",
       "CartScreenAppear                        81.297627  \n",
       "PaymentScreenSuccessful                 94.777718  "
      ]
     },
     "execution_count": 20,
     "metadata": {},
     "output_type": "execute_result"
    }
   ],
   "source": [
    "# Contar usuarios únicos en cada etapa del embudo\n",
    "funnel_stages = {\n",
    "    \"MainScreenAppear\": df_filtered[df_filtered[\"event_name\"] == \"MainScreenAppear\"][\"device_id\"].nunique(),\n",
    "    \"OffersScreenAppear\": df_filtered[df_filtered[\"event_name\"] == \"OffersScreenAppear\"][\"device_id\"].nunique(),\n",
    "    \"CartScreenAppear\": df_filtered[df_filtered[\"event_name\"] == \"CartScreenAppear\"][\"device_id\"].nunique(),\n",
    "    \"PaymentScreenSuccessful\": df_filtered[df_filtered[\"event_name\"] == \"PaymentScreenSuccessful\"][\"device_id\"].nunique()\n",
    "}\n",
    "\n",
    "# Convertir en DataFrame para mejor visualización\n",
    "funnel_df = pd.DataFrame.from_dict(funnel_stages, orient=\"index\", columns=[\"Unique Users\"])\n",
    "\n",
    "# Calcular tasas de conversión entre etapas\n",
    "funnel_df[\"Conversion Rate (%)\"] = funnel_df[\"Unique Users\"].pct_change().fillna(1) * 100\n",
    "funnel_df[\"Next Step Conversion (%)\"] = (funnel_df[\"Unique Users\"] / funnel_df[\"Unique Users\"].shift(1)).fillna(1) * 100\n",
    "\n",
    "\n",
    "# Mostrar resultados\n",
    "funnel_df\n"
   ]
  },
  {
   "cell_type": "markdown",
   "metadata": {},
   "source": [
    "<div class=\"alert alert-block alert-success\">\n",
    "<b>Celda [20]</b> <a class=\"tocSkip\"></a>\n",
    "El análisis del embudo es correcto y bien estructurado. Se identifican las tasas de conversión, resaltando el punto crítico donde más usuarios abandonan la compra.</div>\n"
   ]
  },
  {
   "cell_type": "markdown",
   "metadata": {},
   "source": [
    "<div class=\"alert alert-block alert-warning\">\n",
    "<b>Celda [20]</b> <a class=\"tocSkip\"></a>\n",
    "Considera visualizar el embudo con `seaborn.barplot()` para representar gráficamente las tasas de conversión:\n",
    "\n",
    "<code>\n",
    "plt.figure(figsize=(10,5))  \n",
    "sns.barplot(x=funnel_df.index, y=funnel_df['Unique Users'], color=\"blue\")  \n",
    "plt.title(\"Usuarios en cada etapa del embudo\")  \n",
    "plt.show()\n",
    "</code>\n",
    "\n",
    "Esto facilitaría la interpretación de los resultados.</div>\n"
   ]
  },
  {
   "cell_type": "markdown",
   "metadata": {},
   "source": [
    "Partimos de la página principal con el 100% de los usuarios, después se va reduciendo el numero de usuarios que avanzan en el embudo. El 62% pasan a la oferta en pantalla, de los cuales el 81% pasa a su carrito de compra, de los cuales el 94% completa su pedido.\n",
    "La etapa que pierde más usuarios es de la primera a la segunda, con una pérdida del 38.09%."
   ]
  },
  {
   "cell_type": "code",
   "execution_count": 24,
   "metadata": {},
   "outputs": [
    {
     "data": {
      "text/html": [
       "<div>\n",
       "<style scoped>\n",
       "    .dataframe tbody tr th:only-of-type {\n",
       "        vertical-align: middle;\n",
       "    }\n",
       "\n",
       "    .dataframe tbody tr th {\n",
       "        vertical-align: top;\n",
       "    }\n",
       "\n",
       "    .dataframe thead th {\n",
       "        text-align: right;\n",
       "    }\n",
       "</style>\n",
       "<table border=\"1\" class=\"dataframe\">\n",
       "  <thead>\n",
       "    <tr style=\"text-align: right;\">\n",
       "      <th></th>\n",
       "      <th>event_name</th>\n",
       "      <th>count</th>\n",
       "      <th>unique_users</th>\n",
       "      <th>user_proportion</th>\n",
       "    </tr>\n",
       "  </thead>\n",
       "  <tbody>\n",
       "    <tr>\n",
       "      <th>0</th>\n",
       "      <td>MainScreenAppear</td>\n",
       "      <td>117328</td>\n",
       "      <td>7419</td>\n",
       "      <td>98.473586</td>\n",
       "    </tr>\n",
       "    <tr>\n",
       "      <th>1</th>\n",
       "      <td>OffersScreenAppear</td>\n",
       "      <td>46333</td>\n",
       "      <td>4593</td>\n",
       "      <td>60.963632</td>\n",
       "    </tr>\n",
       "    <tr>\n",
       "      <th>2</th>\n",
       "      <td>CartScreenAppear</td>\n",
       "      <td>42303</td>\n",
       "      <td>3734</td>\n",
       "      <td>49.561986</td>\n",
       "    </tr>\n",
       "    <tr>\n",
       "      <th>3</th>\n",
       "      <td>PaymentScreenSuccessful</td>\n",
       "      <td>33918</td>\n",
       "      <td>3539</td>\n",
       "      <td>46.973719</td>\n",
       "    </tr>\n",
       "    <tr>\n",
       "      <th>4</th>\n",
       "      <td>Tutorial</td>\n",
       "      <td>1005</td>\n",
       "      <td>840</td>\n",
       "      <td>11.149456</td>\n",
       "    </tr>\n",
       "  </tbody>\n",
       "</table>\n",
       "</div>"
      ],
      "text/plain": [
       "                event_name   count  unique_users  user_proportion\n",
       "0         MainScreenAppear  117328          7419        98.473586\n",
       "1       OffersScreenAppear   46333          4593        60.963632\n",
       "2         CartScreenAppear   42303          3734        49.561986\n",
       "3  PaymentScreenSuccessful   33918          3539        46.973719\n",
       "4                 Tutorial    1005           840        11.149456"
      ]
     },
     "metadata": {},
     "output_type": "display_data"
    }
   ],
   "source": [
    "# Contar la frecuencia de cada evento y ordenarlos\n",
    "event_frequencies = df_filtered[\"event_name\"].value_counts().reset_index()\n",
    "event_frequencies.columns = [\"event_name\", \"count\"]\n",
    "\n",
    "# Contar la cantidad de usuarios únicos que realizaron cada evento\n",
    "unique_users_per_event = df_filtered.groupby(\"event_name\")[\"device_id\"].nunique().reset_index()\n",
    "unique_users_per_event.columns = [\"event_name\", \"unique_users\"]\n",
    "\n",
    "# Calcular la proporción de usuarios que realizaron cada acción\n",
    "unique_users_per_event['user_proportion'] = (unique_users_per_event[\"unique_users\"] / (df_filtered[\"device_id\"].nunique())) * 100\n",
    "\n",
    "# Unir tablas para ver frecuencia y usuarios \n",
    "event_analysis = event_frequencies.merge(unique_users_per_event, on=\"event_name\")\n",
    "\n",
    "# Ordenar \n",
    "event_analysis = event_analysis.sort_values(by=\"unique_users\", ascending=False)\n",
    "\n",
    "display(event_analysis)\n"
   ]
  },
  {
   "cell_type": "markdown",
   "metadata": {},
   "source": [
    "En este análisis de los eventos vemos en qué proporcion los usuarios totales pasaron por cada etapa. 98.5% utilizaron la pagina principal, 60% vieron la oferta, 49% vieron su carrito de compra y 46% de los usuarios totales hicieron una compra. Sólamente 11% de los usuarios utilizó el tutorial. "
   ]
  },
  {
   "cell_type": "markdown",
   "metadata": {},
   "source": [
    "## Resultados del experimento"
   ]
  },
  {
   "cell_type": "markdown",
   "metadata": {},
   "source": [
    "### Comparar grupos de control"
   ]
  },
  {
   "cell_type": "markdown",
   "metadata": {},
   "source": [
    "Primero, para analizar la significancia de la prueba, es necesariocomparar los grupos control (246 y 247) por lo que se debe calcular cuántos usuarios únicos hay en cada grupo experimental.\n"
   ]
  },
  {
   "cell_type": "code",
   "execution_count": 26,
   "metadata": {},
   "outputs": [
    {
     "data": {
      "text/html": [
       "<div>\n",
       "<style scoped>\n",
       "    .dataframe tbody tr th:only-of-type {\n",
       "        vertical-align: middle;\n",
       "    }\n",
       "\n",
       "    .dataframe tbody tr th {\n",
       "        vertical-align: top;\n",
       "    }\n",
       "\n",
       "    .dataframe thead th {\n",
       "        text-align: right;\n",
       "    }\n",
       "</style>\n",
       "<table border=\"1\" class=\"dataframe\">\n",
       "  <thead>\n",
       "    <tr style=\"text-align: right;\">\n",
       "      <th></th>\n",
       "      <th>exp_id</th>\n",
       "      <th>unique_users</th>\n",
       "    </tr>\n",
       "  </thead>\n",
       "  <tbody>\n",
       "    <tr>\n",
       "      <th>0</th>\n",
       "      <td>246</td>\n",
       "      <td>2484</td>\n",
       "    </tr>\n",
       "    <tr>\n",
       "      <th>1</th>\n",
       "      <td>247</td>\n",
       "      <td>2513</td>\n",
       "    </tr>\n",
       "    <tr>\n",
       "      <th>2</th>\n",
       "      <td>248</td>\n",
       "      <td>2537</td>\n",
       "    </tr>\n",
       "  </tbody>\n",
       "</table>\n",
       "</div>"
      ],
      "text/plain": [
       "   exp_id  unique_users\n",
       "0     246          2484\n",
       "1     247          2513\n",
       "2     248          2537"
      ]
     },
     "metadata": {},
     "output_type": "display_data"
    }
   ],
   "source": [
    "# Contar la cantidad de usuarios únicos en cada grupo \n",
    "users_per_group = df_filtered.groupby(\"exp_id\")[\"device_id\"].nunique().reset_index()\n",
    "users_per_group.columns = [\"exp_id\", \"unique_users\"]\n",
    "\n",
    "display(users_per_group)\n"
   ]
  },
  {
   "cell_type": "markdown",
   "metadata": {},
   "source": [
    "Los tres grupos tienen un número similar de usuarios, lo cual es bueno porque significa que la aleatorización probablemente funcionó bien y que se pueden comparar las muestras.\n",
    "\n",
    "Ahora, hay que verificar si los grupos de control (246 y 247) tienen diferencias significativas.\n",
    "\n",
    "1. Elegimos un evento popular (por ejemplo, MainScreenAppear).\n",
    "2. Vemos cuántos usuarios en cada grupo realizaron ese evento.\n",
    "3. Comparamos usando una prueba estadística para ver si hay diferencias significativas."
   ]
  },
  {
   "cell_type": "code",
   "execution_count": 30,
   "metadata": {},
   "outputs": [
    {
     "name": "stdout",
     "output_type": "stream",
     "text": [
      "Usuarios con MainScreenAppear en 246: 2450, en 247: 2476\n",
      "Valor p: 0.8494566142966455\n",
      "No hay diferencia significativa entre los grupos de control. Todo está bien para el experimento.\n"
     ]
    }
   ],
   "source": [
    "# Elegimos un evento clave, por ejemplo, 'MainScreenAppear'\n",
    "event_name = \"MainScreenAppear\"\n",
    "\n",
    "# Contar usuarios únicos que realizaron el evento en cada grupo de control (246 y 247)\n",
    "users_246 = df_filtered[(df_filtered[\"exp_id\"] == 246) & (df_filtered[\"event_name\"] == event_name)][\"device_id\"].nunique()\n",
    "users_247 = df_filtered[(df_filtered[\"exp_id\"] == 247) & (df_filtered[\"event_name\"] == event_name)][\"device_id\"].nunique()\n",
    "\n",
    "# Total de usuarios en cada grupo\n",
    "total_246 = users_per_group[users_per_group[\"exp_id\"] == 246][\"unique_users\"].values[0]\n",
    "total_247 = users_per_group[users_per_group[\"exp_id\"] == 247][\"unique_users\"].values[0]\n",
    "\n",
    "# Crear tabla de contingencia\n",
    "contingency_table = [[users_246, total_246 - users_246], \n",
    "                     [users_247, total_247 - users_247]]\n",
    "\n",
    "# Aplicar prueba chi-cuadrado\n",
    "chi2, p_value, _, _ = chi2_contingency(contingency_table)\n",
    "\n",
    "# Mostrar resultado\n",
    "print(f\"Usuarios con {event_name} en 246: {users_246}, en 247: {users_247}\")\n",
    "print(f\"Valor p: {p_value}\")\n",
    "\n",
    "if p_value < 0.05:\n",
    "    print(\"Hay una diferencia significativa entre los grupos de control. Puede haber un problema.\")\n",
    "else:\n",
    "    print(\"No hay diferencia significativa entre los grupos de control. Todo está bien para el experimento.\")\n"
   ]
  },
  {
   "cell_type": "markdown",
   "metadata": {},
   "source": [
    "El valor p = 0.849 es mucho mayor que 0.05, lo que significa que no hay una diferencia significativa entre los grupos de control. Podemos confiar en que los usuarios fueron asignados de manera aleatoria y que cualquier diferencia que encontremos en el grupo de prueba (248) será debido al cambio en las fuentes y no a problemas en la prueba."
   ]
  },
  {
   "cell_type": "markdown",
   "metadata": {},
   "source": [
    "### Comparar grupo de prueba con los grupos de control"
   ]
  },
  {
   "cell_type": "markdown",
   "metadata": {},
   "source": [
    "Ahora vamos a verificar si el grupo de prueba tiene diferencias con los grupos de control, con el mismo proceso de la comparacion entre 246 y 247. Para hacer más eficiente el código, se definirá una función que nos ayude a analizar las diferencias en todos los eventos."
   ]
  },
  {
   "cell_type": "code",
   "execution_count": 44,
   "metadata": {},
   "outputs": [],
   "source": [
    "def analizar_evento(df, event_name):\n",
    "    # Contar usuarios únicos que realizaron el evento en cada grupo\n",
    "    users_246 = df_filtered[(df_filtered[\"exp_id\"] == 246) & (df_filtered[\"event_name\"] == event_name)][\"device_id\"].nunique()\n",
    "    users_247 = df_filtered[(df_filtered[\"exp_id\"] == 247) & (df_filtered[\"event_name\"] == event_name)][\"device_id\"].nunique()\n",
    "    users_248 = df_filtered[(df_filtered[\"exp_id\"] == 248) & (df_filtered[\"event_name\"] == event_name)][\"device_id\"].nunique()\n",
    "\n",
    "    # Total de usuarios en cada grupo\n",
    "    total_246 = df_filtered[df_filtered[\"exp_id\"] == 246][\"device_id\"].nunique()\n",
    "    total_247 = df_filtered[df_filtered[\"exp_id\"] == 247][\"device_id\"].nunique()\n",
    "    total_248 = df_filtered[df_filtered[\"exp_id\"] == 248][\"device_id\"].nunique()\n",
    "\n",
    "\n",
    "    # Verificar si los dos grupos de control son similares\n",
    "    contingency_table_control = [[users_246, total_246 - users_246], \n",
    "                                 [users_247, total_247 - users_247]]\n",
    "    _, p_value_control, _, _ = chi2_contingency(contingency_table_control)\n",
    "\n",
    "    print(f\"Análisis del evento: {event_name}\")\n",
    "    print(f\"Usuarios con {event_name} en 246: {users_246}, en 247: {users_247}, en 248: {users_248}\")\n",
    "    \n",
    "    if p_value_control < 0.05:\n",
    "        print(\"Los grupos de control NO son equivalentes. Puede haber un problema.\")\n",
    "    else:\n",
    "        print(\"Los grupos de control son equivalentes. Podemos continuar con la comparación con el grupo de prueba.\")\n",
    "    \n",
    "    # Comparar el grupo de prueba con los controles combinados\n",
    "    users_control = users_246 + users_247\n",
    "    total_control = total_246 + total_247\n",
    "    \n",
    "    contingency_table = [[users_control, total_control - users_control], \n",
    "                         [users_248, total_248 - users_248]]\n",
    "    _, p_value_experiment, _, _ = chi2_contingency(contingency_table)\n",
    "\n",
    "    print(f\"Valor p entre grupo de prueba y controles: {p_value_experiment}\")\n",
    "    \n",
    "    if p_value_experiment < 0.05:\n",
    "        print(\"Hay una diferencia significativa con el grupo de prueba. El cambio de fuentes podría estar afectando.\")\n",
    "    else:\n",
    "        print(\"No hay diferencia significativa con el grupo de prueba. El cambio de fuentes no parece afectar.\")\n",
    "    \n",
    "    print(\"*-\" * 50)  # Separador visual\n",
    "\n",
    "\n"
   ]
  },
  {
   "cell_type": "markdown",
   "metadata": {},
   "source": [
    "<div class=\"alert alert-block alert-success\">\n",
    "<b>Celda [44]</b> <a class=\"tocSkip\"></a>\n",
    "El uso de una función para comparar los grupos de prueba y control es una excelente práctica, facilitando el análisis sistemático de los eventos clave.</div>\n"
   ]
  },
  {
   "cell_type": "markdown",
   "metadata": {},
   "source": [
    "Ahora se ejecuta la función para los eventos principales:"
   ]
  },
  {
   "cell_type": "code",
   "execution_count": 45,
   "metadata": {
    "scrolled": true
   },
   "outputs": [
    {
     "name": "stdout",
     "output_type": "stream",
     "text": [
      "Análisis del evento: MainScreenAppear\n",
      "Usuarios con MainScreenAppear en 246: 2450, en 247: 2476, en 248: 2493\n",
      "Los grupos de control son equivalentes. Podemos continuar con la comparación con el grupo de prueba.\n",
      "Valor p entre grupo de prueba y controles: 0.3423996534801834\n",
      "No hay diferencia significativa con el grupo de prueba. El cambio de fuentes no parece afectar.\n",
      "*-*-*-*-*-*-*-*-*-*-*-*-*-*-*-*-*-*-*-*-*-*-*-*-*-*-*-*-*-*-*-*-*-*-*-*-*-*-*-*-*-*-*-*-*-*-*-*-*-*-\n",
      "Análisis del evento: OffersScreenAppear\n",
      "Usuarios con OffersScreenAppear en 246: 1542, en 247: 1520, en 248: 1531\n",
      "Los grupos de control son equivalentes. Podemos continuar con la comparación con el grupo de prueba.\n",
      "Valor p entre grupo de prueba y controles: 0.44908322853530325\n",
      "No hay diferencia significativa con el grupo de prueba. El cambio de fuentes no parece afectar.\n",
      "*-*-*-*-*-*-*-*-*-*-*-*-*-*-*-*-*-*-*-*-*-*-*-*-*-*-*-*-*-*-*-*-*-*-*-*-*-*-*-*-*-*-*-*-*-*-*-*-*-*-\n",
      "Análisis del evento: CartScreenAppear\n",
      "Usuarios con CartScreenAppear en 246: 1266, en 247: 1238, en 248: 1230\n",
      "Los grupos de control son equivalentes. Podemos continuar con la comparación con el grupo de prueba.\n",
      "Valor p entre grupo de prueba y controles: 0.18986436746845747\n",
      "No hay diferencia significativa con el grupo de prueba. El cambio de fuentes no parece afectar.\n",
      "*-*-*-*-*-*-*-*-*-*-*-*-*-*-*-*-*-*-*-*-*-*-*-*-*-*-*-*-*-*-*-*-*-*-*-*-*-*-*-*-*-*-*-*-*-*-*-*-*-*-\n",
      "Análisis del evento: PaymentScreenSuccessful\n",
      "Usuarios con PaymentScreenSuccessful en 246: 1200, en 247: 1158, en 248: 1181\n",
      "Los grupos de control son equivalentes. Podemos continuar con la comparación con el grupo de prueba.\n",
      "Valor p entre grupo de prueba y controles: 0.6175255771354541\n",
      "No hay diferencia significativa con el grupo de prueba. El cambio de fuentes no parece afectar.\n",
      "*-*-*-*-*-*-*-*-*-*-*-*-*-*-*-*-*-*-*-*-*-*-*-*-*-*-*-*-*-*-*-*-*-*-*-*-*-*-*-*-*-*-*-*-*-*-*-*-*-*-\n"
     ]
    }
   ],
   "source": [
    "eventos_importantes = [\"MainScreenAppear\",\"OffersScreenAppear\", \"CartScreenAppear\", \"PaymentScreenSuccessful\"]\n",
    "for evento in eventos_importantes:\n",
    "    analizar_evento(df_filtered, evento)"
   ]
  },
  {
   "cell_type": "markdown",
   "metadata": {},
   "source": [
    "<div class=\"alert alert-block alert-warning\">\n",
    "<b>Celda [45]</b> <a class=\"tocSkip\"></a>\n",
    "Podrías hacer que la función <code>analizar_evento()</code> retorne un DataFrame en lugar de solo imprimir los valores. Esto permitiría visualizar los resultados más claramente:\n",
    "\n",
    "<code>\n",
    "def analizar_evento(df, event_name):\n",
    "    ...\n",
    "    return pd.DataFrame({\n",
    "        \"Evento\": [event_name],\n",
    "        \"Usuarios Control\": [users_control],\n",
    "        \"Usuarios Prueba\": [users_248],\n",
    "        \"Valor p\": [p_value_experiment]\n",
    "    })\n",
    "\n",
    "resultados = pd.concat([analizar_evento(df_filtered, e) for e in eventos_importantes])  \n",
    "display(resultados)\n",
    "</code>\n",
    "\n",
    "Esto facilita la revisión de los valores sin depender de la salida de consola.</div>\n"
   ]
  },
  {
   "cell_type": "markdown",
   "metadata": {},
   "source": [
    "Como se observa en el resultado de la función, no hay diferencias significativas en ninguno de los eventos clave entre los grupos de control y el grupo de prueba y el cambio de fuentes no afectó el comportamiento de los usuarios en ninguna etapa del embudo de ventas. Los grupos de control eran equivalentes, por lo que el experimento estuvo bien diseñado y podemos confiar en los resultados.\n",
    "\n"
   ]
  },
  {
   "cell_type": "markdown",
   "metadata": {},
   "source": [
    "El nivel de significancia estándar en pruebas de hipótesis suele ser 0.05 (5%), lo que significa que hay un 5% de probabilidad de cometer un error tipo I (rechazar la hipótesis nula cuando es verdadera).\n",
    "\n",
    "En este análisis, no especificamos un nivel de significancia explícito, pero como ningún valor p estuvo cerca de 0.05, podemos asumir que el umbral de 0.05 es razonable."
   ]
  },
  {
   "cell_type": "markdown",
   "metadata": {},
   "source": [
    "## Conclusiones"
   ]
  },
  {
   "cell_type": "markdown",
   "metadata": {},
   "source": [
    "Hemos realizado 4 pruebas estadísticas, una por cada evento clave:\n",
    "1. MainScreenAppear\n",
    "2. OffersScreenAppear\n",
    "3. CartScreenAppear\n",
    "4. PaymentScreenSuccessful\n",
    "\n",
    "Cada prueba compara el grupo de prueba (248) con los grupos de control (246 + 247).\n",
    "\n",
    "Si hubiéramos usado un nivel de significancia de 0.1 (10%), habría una probabilidad de:\n",
    "\n",
    "4 × 0.1 = 0.4\n",
    "\n",
    "de obtener al menos un falso positivo por azar (40% de riesgo).\n",
    "\n",
    "Para evitar falsos positivos en múltiples pruebas, podríamos aplicar corrección de Bonferroni dividiendo el nivel de significancia entre el número de pruebas (4) \n",
    "\n",
    "0.05 / 4 = 0.0125.\n",
    "\n",
    "\n",
    "Esto haría que solo consideremos significativas las diferencias con un p-valor menor a 0.0125.\n"
   ]
  },
  {
   "cell_type": "markdown",
   "metadata": {},
   "source": [
    "<div class=\"alert alert-block alert-success\">\n",
    "<b>Sección de Conclusión</b> <a class=\"tocSkip\"></a>\n",
    "Las conclusiones son bien argumentadas y justificadas con pruebas estadísticas. Se explican las implicaciones comerciales del experimento.</div>\n"
   ]
  },
  {
   "cell_type": "markdown",
   "metadata": {},
   "source": [
    "Dado que todos los valores p son bastante altos (muy por encima de 0.05), no hay necesidad de ajustar la significancia. Incluso con una corrección más estricta, nuestras conclusiones seguirían siendo las mismas.\n",
    "\n",
    "Es decir, en conclusión, mantener un nivel de significancia del 5% (0.05) es suficiente. El cambio de fuentes no afecta el comportamiento de los usuarios. Dado que las nuevas fuentes no afectan negativamente la interacción de los usuarios, se pueden implementar sin riesgo.\n",
    "\n",
    "Si la empresa quiere profundizar más, podría segmentar los datos (por dispositivo, edad, país) para ver si hay efectos en grupos específicos, hacer otro experimento con un diseño más agresivo (cambios en diseño + colores + botones o hacer un análisis de tiempos de sesión para ver si el diseño afecta cuánto tiempo pasan los usuarios en la app."
   ]
  },
  {
   "cell_type": "markdown",
   "metadata": {},
   "source": [
    "<div class=\"alert alert-block alert-success\">\n",
    "<b>Comentario Final</b> <a class=\"tocSkip\"></a>\n",
    "\n",
    "¡Excelente trabajo en este análisis de comportamiento del usuario! 👏  \n",
    "\n",
    "✅ **Limpieza de datos eficiente**: Eliminaste duplicados, corregiste nombres de columnas y transformaste los datos correctamente para su análisis.  \n",
    "✅ **Análisis exploratorio sólido**: Identificaste la cantidad de eventos y usuarios únicos, además de validar la estabilidad de los datos antes del experimento.  \n",
    "✅ **Embudo de conversión bien estructurado**: Calculaste tasas de conversión de manera precisa y detectaste el punto con mayor abandono de usuarios.  \n",
    "✅ **Uso correcto de pruebas estadísticas**: Aplicaste la prueba chi-cuadrado de forma adecuada para validar la aleatorización y evaluar el impacto del experimento.  \n",
    "✅ **Conclusiones bien fundamentadas**: Explicaste claramente los resultados y propusiste mejoras para futuros experimentos.  \n",
    "\n",
    "Con pequeños ajustes en la optimización del código, este análisis se vuelve aún más sólido y profesional. ¡Sigue así! 🚀  \n",
    "\n",
    "</div>\n"
   ]
  }
 ],
 "metadata": {
  "ExecuteTimeLog": [
   {
    "duration": 2524,
    "start_time": "2025-02-03T17:06:51.770Z"
   },
   {
    "duration": 573,
    "start_time": "2025-02-03T17:06:55.228Z"
   },
   {
    "duration": 608,
    "start_time": "2025-02-03T17:07:12.527Z"
   },
   {
    "duration": 3,
    "start_time": "2025-02-03T17:07:20.777Z"
   },
   {
    "duration": 228,
    "start_time": "2025-02-03T17:07:21.378Z"
   },
   {
    "duration": 2649,
    "start_time": "2025-02-03T18:29:40.853Z"
   },
   {
    "duration": 123,
    "start_time": "2025-02-03T18:29:43.936Z"
   },
   {
    "duration": 66,
    "start_time": "2025-02-03T18:29:59.398Z"
   },
   {
    "duration": 40,
    "start_time": "2025-02-03T18:30:22.167Z"
   },
   {
    "duration": 251,
    "start_time": "2025-02-03T18:37:57.868Z"
   },
   {
    "duration": 52,
    "start_time": "2025-02-03T18:38:03.455Z"
   },
   {
    "duration": 51,
    "start_time": "2025-02-03T18:38:10.209Z"
   },
   {
    "duration": 16,
    "start_time": "2025-02-03T18:40:37.847Z"
   },
   {
    "duration": 50,
    "start_time": "2025-02-03T18:41:11.628Z"
   },
   {
    "duration": 814,
    "start_time": "2025-02-03T18:41:26.407Z"
   },
   {
    "duration": 108,
    "start_time": "2025-02-03T18:41:27.223Z"
   },
   {
    "duration": 49,
    "start_time": "2025-02-03T18:41:27.333Z"
   },
   {
    "duration": 68,
    "start_time": "2025-02-03T18:41:27.385Z"
   },
   {
    "duration": 38,
    "start_time": "2025-02-03T18:42:06.063Z"
   },
   {
    "duration": 107,
    "start_time": "2025-02-03T18:45:22.419Z"
   },
   {
    "duration": 54,
    "start_time": "2025-02-03T18:45:23.787Z"
   },
   {
    "duration": 822,
    "start_time": "2025-02-03T18:46:23.951Z"
   },
   {
    "duration": 105,
    "start_time": "2025-02-03T18:46:24.775Z"
   },
   {
    "duration": 60,
    "start_time": "2025-02-03T18:46:24.882Z"
   },
   {
    "duration": 154,
    "start_time": "2025-02-03T18:46:24.945Z"
   },
   {
    "duration": 82,
    "start_time": "2025-02-03T18:46:25.101Z"
   },
   {
    "duration": 79,
    "start_time": "2025-02-03T18:46:57.763Z"
   },
   {
    "duration": 697,
    "start_time": "2025-02-03T18:48:29.889Z"
   },
   {
    "duration": 75,
    "start_time": "2025-02-03T18:48:33.852Z"
   },
   {
    "duration": 826,
    "start_time": "2025-02-03T18:48:50.209Z"
   },
   {
    "duration": 112,
    "start_time": "2025-02-03T18:48:51.037Z"
   },
   {
    "duration": 49,
    "start_time": "2025-02-03T18:48:51.151Z"
   },
   {
    "duration": 188,
    "start_time": "2025-02-03T18:48:51.202Z"
   },
   {
    "duration": 74,
    "start_time": "2025-02-03T18:48:51.392Z"
   },
   {
    "duration": 8,
    "start_time": "2025-02-03T18:52:04.183Z"
   },
   {
    "duration": 275,
    "start_time": "2025-02-03T18:53:35.741Z"
   },
   {
    "duration": 20,
    "start_time": "2025-02-03T18:53:39.656Z"
   },
   {
    "duration": 470,
    "start_time": "2025-02-03T18:55:08.854Z"
   },
   {
    "duration": 74,
    "start_time": "2025-02-03T18:55:20.743Z"
   },
   {
    "duration": 828,
    "start_time": "2025-02-03T18:57:48.586Z"
   },
   {
    "duration": 95,
    "start_time": "2025-02-03T18:57:49.419Z"
   },
   {
    "duration": 54,
    "start_time": "2025-02-03T18:57:49.516Z"
   },
   {
    "duration": 159,
    "start_time": "2025-02-03T18:57:49.572Z"
   },
   {
    "duration": 72,
    "start_time": "2025-02-03T18:57:49.733Z"
   },
   {
    "duration": 24,
    "start_time": "2025-02-03T18:57:49.807Z"
   },
   {
    "duration": 18,
    "start_time": "2025-02-03T18:57:49.833Z"
   },
   {
    "duration": 79,
    "start_time": "2025-02-03T18:57:49.853Z"
   },
   {
    "duration": 70,
    "start_time": "2025-02-03T19:17:31.911Z"
   },
   {
    "duration": 73,
    "start_time": "2025-02-03T19:18:08.129Z"
   },
   {
    "duration": 64,
    "start_time": "2025-02-03T19:18:20.026Z"
   },
   {
    "duration": 1586,
    "start_time": "2025-02-03T19:20:07.913Z"
   },
   {
    "duration": 799,
    "start_time": "2025-02-03T19:20:31.524Z"
   },
   {
    "duration": 21,
    "start_time": "2025-02-03T19:21:09.170Z"
   },
   {
    "duration": 222,
    "start_time": "2025-02-03T19:22:31.920Z"
   },
   {
    "duration": 10,
    "start_time": "2025-02-03T19:22:38.331Z"
   },
   {
    "duration": 821,
    "start_time": "2025-02-03T19:40:49.215Z"
   },
   {
    "duration": 9,
    "start_time": "2025-02-03T19:40:50.830Z"
   },
   {
    "duration": 19,
    "start_time": "2025-02-03T19:40:54.316Z"
   },
   {
    "duration": 80,
    "start_time": "2025-02-03T19:41:21.640Z"
   },
   {
    "duration": 20,
    "start_time": "2025-02-03T19:43:17.578Z"
   },
   {
    "duration": 68,
    "start_time": "2025-02-03T19:43:19.283Z"
   },
   {
    "duration": 19,
    "start_time": "2025-02-03T19:44:43.528Z"
   },
   {
    "duration": 18,
    "start_time": "2025-02-03T19:46:12.745Z"
   },
   {
    "duration": 18,
    "start_time": "2025-02-03T19:46:34.546Z"
   },
   {
    "duration": 803,
    "start_time": "2025-02-03T20:29:45.767Z"
   },
   {
    "duration": 9,
    "start_time": "2025-02-03T20:29:48.571Z"
   },
   {
    "duration": 18,
    "start_time": "2025-02-03T20:33:55.260Z"
   },
   {
    "duration": 62,
    "start_time": "2025-02-03T20:33:57.044Z"
   },
   {
    "duration": 186,
    "start_time": "2025-02-03T21:30:57.793Z"
   },
   {
    "duration": 2598,
    "start_time": "2025-02-03T21:31:04.083Z"
   },
   {
    "duration": 128,
    "start_time": "2025-02-03T21:31:06.684Z"
   },
   {
    "duration": 54,
    "start_time": "2025-02-03T21:31:06.814Z"
   },
   {
    "duration": 165,
    "start_time": "2025-02-03T21:31:06.870Z"
   },
   {
    "duration": 59,
    "start_time": "2025-02-03T21:31:07.038Z"
   },
   {
    "duration": 33,
    "start_time": "2025-02-03T21:31:07.099Z"
   },
   {
    "duration": 820,
    "start_time": "2025-02-03T21:31:07.134Z"
   },
   {
    "duration": 12,
    "start_time": "2025-02-03T21:31:07.956Z"
   },
   {
    "duration": 23,
    "start_time": "2025-02-03T21:31:07.969Z"
   },
   {
    "duration": 17,
    "start_time": "2025-02-03T21:31:07.994Z"
   },
   {
    "duration": 67,
    "start_time": "2025-02-03T21:31:08.032Z"
   },
   {
    "duration": 15,
    "start_time": "2025-02-03T21:31:08.101Z"
   },
   {
    "duration": 222,
    "start_time": "2025-02-03T21:32:06.204Z"
   },
   {
    "duration": 25,
    "start_time": "2025-02-03T21:32:10.784Z"
   },
   {
    "duration": 13,
    "start_time": "2025-02-03T21:32:25.752Z"
   },
   {
    "duration": 15,
    "start_time": "2025-02-03T21:33:09.775Z"
   },
   {
    "duration": 4,
    "start_time": "2025-02-03T21:33:20.101Z"
   },
   {
    "duration": 65,
    "start_time": "2025-02-03T21:37:25.662Z"
   },
   {
    "duration": 68,
    "start_time": "2025-02-03T21:37:37.606Z"
   },
   {
    "duration": 2628,
    "start_time": "2025-02-04T18:39:47.625Z"
   },
   {
    "duration": 131,
    "start_time": "2025-02-04T18:39:50.256Z"
   },
   {
    "duration": 62,
    "start_time": "2025-02-04T18:39:50.389Z"
   },
   {
    "duration": 163,
    "start_time": "2025-02-04T18:39:50.454Z"
   },
   {
    "duration": 59,
    "start_time": "2025-02-04T18:39:50.619Z"
   },
   {
    "duration": 42,
    "start_time": "2025-02-04T18:39:50.680Z"
   },
   {
    "duration": 812,
    "start_time": "2025-02-04T18:39:50.724Z"
   },
   {
    "duration": 10,
    "start_time": "2025-02-04T18:39:51.538Z"
   },
   {
    "duration": 20,
    "start_time": "2025-02-04T18:39:51.550Z"
   },
   {
    "duration": 39,
    "start_time": "2025-02-04T18:39:51.573Z"
   },
   {
    "duration": 60,
    "start_time": "2025-02-04T18:39:51.614Z"
   },
   {
    "duration": 93,
    "start_time": "2025-02-04T18:39:51.677Z"
   },
   {
    "duration": 17,
    "start_time": "2025-02-04T18:39:51.772Z"
   },
   {
    "duration": 20,
    "start_time": "2025-02-04T18:39:51.791Z"
   },
   {
    "duration": 432,
    "start_time": "2025-02-04T18:41:02.711Z"
   },
   {
    "duration": 25,
    "start_time": "2025-02-04T18:41:17.032Z"
   },
   {
    "duration": 13,
    "start_time": "2025-02-04T18:42:09.729Z"
   },
   {
    "duration": 25,
    "start_time": "2025-02-04T18:43:11.931Z"
   },
   {
    "duration": 21,
    "start_time": "2025-02-04T18:44:14.525Z"
   },
   {
    "duration": 68,
    "start_time": "2025-02-04T18:45:03.520Z"
   },
   {
    "duration": 61,
    "start_time": "2025-02-04T18:45:23.072Z"
   },
   {
    "duration": 109,
    "start_time": "2025-02-04T18:47:59.032Z"
   },
   {
    "duration": 75,
    "start_time": "2025-02-04T18:48:23.137Z"
   },
   {
    "duration": 71,
    "start_time": "2025-02-04T18:48:44.536Z"
   },
   {
    "duration": 28,
    "start_time": "2025-02-04T19:00:42.593Z"
   },
   {
    "duration": 25,
    "start_time": "2025-02-04T19:00:50.668Z"
   },
   {
    "duration": 20,
    "start_time": "2025-02-04T19:02:32.186Z"
   },
   {
    "duration": 34,
    "start_time": "2025-02-04T19:07:19.526Z"
   },
   {
    "duration": 36,
    "start_time": "2025-02-04T19:07:50.679Z"
   },
   {
    "duration": 41,
    "start_time": "2025-02-04T19:08:14.955Z"
   },
   {
    "duration": 18,
    "start_time": "2025-02-04T19:11:45.992Z"
   },
   {
    "duration": 21,
    "start_time": "2025-02-04T19:12:08.469Z"
   },
   {
    "duration": 20,
    "start_time": "2025-02-04T19:12:19.327Z"
   },
   {
    "duration": 25,
    "start_time": "2025-02-04T19:19:21.159Z"
   },
   {
    "duration": 6,
    "start_time": "2025-02-04T19:19:44.060Z"
   },
   {
    "duration": 171,
    "start_time": "2025-02-04T19:20:43.727Z"
   },
   {
    "duration": 199,
    "start_time": "2025-02-04T19:21:45.473Z"
   },
   {
    "duration": 13,
    "start_time": "2025-02-04T19:23:27.285Z"
   },
   {
    "duration": 253,
    "start_time": "2025-02-04T19:23:31.085Z"
   },
   {
    "duration": 6,
    "start_time": "2025-02-04T19:23:41.644Z"
   },
   {
    "duration": 201,
    "start_time": "2025-02-04T19:23:45.590Z"
   },
   {
    "duration": 7,
    "start_time": "2025-02-04T19:34:48.926Z"
   },
   {
    "duration": 240,
    "start_time": "2025-02-04T19:34:56.642Z"
   },
   {
    "duration": 9,
    "start_time": "2025-02-04T19:35:16.145Z"
   },
   {
    "duration": 263,
    "start_time": "2025-02-04T19:35:17.237Z"
   },
   {
    "duration": 880,
    "start_time": "2025-02-04T19:38:12.504Z"
   },
   {
    "duration": 35,
    "start_time": "2025-02-04T19:38:20.026Z"
   }
  ],
  "kernelspec": {
   "display_name": "Python 3 (ipykernel)",
   "language": "python",
   "name": "python3"
  },
  "language_info": {
   "codemirror_mode": {
    "name": "ipython",
    "version": 3
   },
   "file_extension": ".py",
   "mimetype": "text/x-python",
   "name": "python",
   "nbconvert_exporter": "python",
   "pygments_lexer": "ipython3",
   "version": "3.9.19"
  },
  "toc": {
   "base_numbering": 1,
   "nav_menu": {},
   "number_sections": true,
   "sideBar": true,
   "skip_h1_title": true,
   "title_cell": "Table of Contents",
   "title_sidebar": "Contents",
   "toc_cell": false,
   "toc_position": {
    "height": "calc(100% - 180px)",
    "left": "10px",
    "top": "150px",
    "width": "165.797px"
   },
   "toc_section_display": true,
   "toc_window_display": true
  }
 },
 "nbformat": 4,
 "nbformat_minor": 2
}
