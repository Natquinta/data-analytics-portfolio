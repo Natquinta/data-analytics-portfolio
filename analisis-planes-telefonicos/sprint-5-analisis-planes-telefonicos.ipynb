{
 "cells": [
  {
   "cell_type": "markdown",
   "metadata": {},
   "source": [
    "Hola &#x1F600;\n",
    "\n",
    "Soy **Hesus Garcia**  como \"Jesús\" pero con H. Sé que puede ser confuso al principio, pero una vez que lo recuerdes, ¡nunca lo olvidarás! &#x1F31D;\t. Como revisor de código de Triple-Ten, estoy emocionado de examinar tus proyectos y ayudarte a mejorar tus habilidades en programación. si has cometido algún error, no te preocupes, pues ¡estoy aquí para ayudarte a corregirlo y hacer que tu código brille! &#x1F31F;. Si encuentro algún detalle en tu código, te lo señalaré para que lo corrijas, ya que mi objetivo es ayudarte a prepararte para un ambiente de trabajo real, donde el líder de tu equipo actuaría de la misma manera. Si no puedes solucionar el problema, te proporcionaré más información en la próxima oportunidad. Cuando encuentres un comentario,  **por favor, no los muevas, no los modifiques ni los borres**. \n",
    "\n",
    "Revisaré cuidadosamente todas las implementaciones que has realizado para cumplir con los requisitos y te proporcionaré mis comentarios de la siguiente manera:\n",
    "\n",
    "\n",
    "<div class=\"alert alert-block alert-success\">\n",
    "<b>Comentario del revisor</b> <a class=“tocSkip”></a>\n",
    "Si todo está perfecto.\n",
    "</div>\n",
    "\n",
    "<div class=\"alert alert-block alert-warning\">\n",
    "<b>Comentario del revisor</b> <a class=“tocSkip”></a>\n",
    "Si tu código está bien pero se puede mejorar o hay algún detalle que le hace falta.\n",
    "</div>\n",
    "\n",
    "<div class=\"alert alert-block alert-danger\">\n",
    "<b>Comentario del revisor</b> <a class=“tocSkip”></a>\n",
    "Si de pronto hace falta algo o existe algún problema con tu código o conclusiones.\n",
    "</div>\n",
    "\n",
    "Puedes responderme de esta forma:\n",
    "<div class=\"alert alert-block alert-info\">\n",
    "<b>Respuesta del estudiante</b> <a class=“tocSkip”></a>\n",
    "</div>\n",
    "\n",
    "</br>\n",
    "\n",
    "**¡Empecemos!**  &#x1F680;"
   ]
  },
  {
   "cell_type": "markdown",
   "metadata": {
    "id": "VNddPNRQ0q0w"
   },
   "source": [
    "[Te proporcionamos algunos comentarios para orientarte mientras completas este proyecto. Pero debes asegurarte de eliminar todos los comentarios entre corchetes antes de entregar tu proyecto.]\n",
    "\n",
    "[Antes de sumergirte en el análisis de datos, explica por tu propia cuenta el propósito del proyecto y las acciones que planeas realizar.]\n",
    "\n",
    "[Ten en cuenta que estudiar, modificar y analizar datos es un proceso iterativo. Es normal volver a los pasos anteriores y corregirlos/ampliarlos para permitir nuevos pasos.]\n",
    "\n",
    "En éste projecto se realizará un análisis de de las tarifas para conocer el comportamiento de los clientes en cada una de ellas, así como determinar qué tarifa genera más ingresos para la empresa. Esta información es importante ya que le podrá ayudar a la empresa en la toma de desciciones en lo que refiere a estos planes y tarifas, para poder generar más ingresos y también dar un mejor servicio a los usuarios."
   ]
  },
  {
   "cell_type": "markdown",
   "metadata": {
    "id": "MQi4IPy70q0y"
   },
   "source": [
    "## Inicialización"
   ]
  },
  {
   "cell_type": "code",
   "execution_count": 1,
   "metadata": {
    "id": "MtYIuBxu0q0z"
   },
   "outputs": [],
   "source": [
    "# Cargar todas las librerías\n",
    "\n",
    "import pandas as pd\n",
    "import numpy as np \n",
    "from scipy import stats as st\n",
    "from matplotlib import pyplot as plt\n",
    "import seaborn as sns\n",
    "\n",
    "\n"
   ]
  },
  {
   "cell_type": "markdown",
   "metadata": {
    "id": "4ysWWC5i0q00"
   },
   "source": [
    "## Cargar datos"
   ]
  },
  {
   "cell_type": "markdown",
   "metadata": {
    "id": "3rYiDeEH0q0f"
   },
   "source": [
    "# ¿Cuál es la mejor tarifa?\n",
    "\n",
    "Trabajas como analista para el operador de telecomunicaciones Megaline. La empresa ofrece a sus clientes dos tarifas de prepago, Surf y Ultimate. El departamento comercial quiere saber cuál de las tarifas genera más ingresos para poder ajustar el presupuesto de publicidad.\n",
    "\n",
    "Vas a realizar un análisis preliminar de las tarifas basado en una selección de clientes relativamente pequeña. Tendrás los datos de 500 clientes de Megaline: quiénes son los clientes, de dónde son, qué tarifa usan, así como la cantidad de llamadas que hicieron y los mensajes de texto que enviaron en 2018. Tu trabajo es analizar el comportamiento de los clientes y determinar qué tarifa de prepago genera más ingresos."
   ]
  },
  {
   "cell_type": "markdown",
   "metadata": {},
   "source": [
    "<div class=\"alert alert-block alert-warning\">\n",
    "<b>Comentario del revisor</b> <a class=“tocSkip”></a>\n",
    "Considera la posibilidad de incluir una tabla de contenidos al inicio de tu proyecto. Esto no solo mejorará la estructura y presentación de tu análisis, sino que también facilitará la navegación y comprensión de los distintos temas tratados, especialmente para proyectos extensos con múltiples secciones y subsecciones. Una tabla de contenidos bien organizada puede mejorar significativamente la experiencia del lector y destacar la profesionalidad de tu trabajo.\n",
    "</div>\n"
   ]
  },
  {
   "cell_type": "code",
   "execution_count": 2,
   "metadata": {
    "id": "CCqPW7rS0q01"
   },
   "outputs": [],
   "source": [
    "# Carga los archivos de datos en diferentes DataFrames\n",
    "\n",
    "\n",
    "calls_df = pd.read_csv('/datasets/megaline_calls.csv')\n",
    "\n",
    "internet_df = pd.read_csv('/datasets/megaline_internet.csv')\n",
    "\n",
    "messages_df = pd.read_csv('/datasets/megaline_messages.csv')\n",
    "\n",
    "plans_df = pd.read_csv('/datasets/megaline_plans.csv')\n",
    "\n",
    "users_df = pd.read_csv('/datasets/megaline_users.csv')"
   ]
  },
  {
   "cell_type": "markdown",
   "metadata": {
    "id": "69qqoJ3r0q01"
   },
   "source": [
    "## Preparar los datos"
   ]
  },
  {
   "cell_type": "markdown",
   "metadata": {
    "id": "vUuZw80S0q01"
   },
   "source": [
    "[Los datos para este proyecto se dividen en varias tablas. Explora cada una para tener una comprensión inicial de los datos. Si es necesario, haz las correcciones requeridas en cada tabla.]"
   ]
  },
  {
   "cell_type": "code",
   "execution_count": 3,
   "metadata": {},
   "outputs": [
    {
     "name": "stdout",
     "output_type": "stream",
     "text": [
      "<class 'pandas.core.frame.DataFrame'>\n",
      "RangeIndex: 137735 entries, 0 to 137734\n",
      "Data columns (total 4 columns):\n",
      " #   Column     Non-Null Count   Dtype  \n",
      "---  ------     --------------   -----  \n",
      " 0   id         137735 non-null  object \n",
      " 1   user_id    137735 non-null  int64  \n",
      " 2   call_date  137735 non-null  object \n",
      " 3   duration   137735 non-null  float64\n",
      "dtypes: float64(1), int64(1), object(2)\n",
      "memory usage: 4.2+ MB\n"
     ]
    },
    {
     "data": {
      "text/html": [
       "<div>\n",
       "<style scoped>\n",
       "    .dataframe tbody tr th:only-of-type {\n",
       "        vertical-align: middle;\n",
       "    }\n",
       "\n",
       "    .dataframe tbody tr th {\n",
       "        vertical-align: top;\n",
       "    }\n",
       "\n",
       "    .dataframe thead th {\n",
       "        text-align: right;\n",
       "    }\n",
       "</style>\n",
       "<table border=\"1\" class=\"dataframe\">\n",
       "  <thead>\n",
       "    <tr style=\"text-align: right;\">\n",
       "      <th></th>\n",
       "      <th>id</th>\n",
       "      <th>user_id</th>\n",
       "      <th>call_date</th>\n",
       "      <th>duration</th>\n",
       "    </tr>\n",
       "  </thead>\n",
       "  <tbody>\n",
       "    <tr>\n",
       "      <th>0</th>\n",
       "      <td>1000_93</td>\n",
       "      <td>1000</td>\n",
       "      <td>2018-12-27</td>\n",
       "      <td>8.52</td>\n",
       "    </tr>\n",
       "    <tr>\n",
       "      <th>1</th>\n",
       "      <td>1000_145</td>\n",
       "      <td>1000</td>\n",
       "      <td>2018-12-27</td>\n",
       "      <td>13.66</td>\n",
       "    </tr>\n",
       "    <tr>\n",
       "      <th>2</th>\n",
       "      <td>1000_247</td>\n",
       "      <td>1000</td>\n",
       "      <td>2018-12-27</td>\n",
       "      <td>14.48</td>\n",
       "    </tr>\n",
       "    <tr>\n",
       "      <th>3</th>\n",
       "      <td>1000_309</td>\n",
       "      <td>1000</td>\n",
       "      <td>2018-12-28</td>\n",
       "      <td>5.76</td>\n",
       "    </tr>\n",
       "    <tr>\n",
       "      <th>4</th>\n",
       "      <td>1000_380</td>\n",
       "      <td>1000</td>\n",
       "      <td>2018-12-30</td>\n",
       "      <td>4.22</td>\n",
       "    </tr>\n",
       "  </tbody>\n",
       "</table>\n",
       "</div>"
      ],
      "text/plain": [
       "         id  user_id   call_date  duration\n",
       "0   1000_93     1000  2018-12-27      8.52\n",
       "1  1000_145     1000  2018-12-27     13.66\n",
       "2  1000_247     1000  2018-12-27     14.48\n",
       "3  1000_309     1000  2018-12-28      5.76\n",
       "4  1000_380     1000  2018-12-30      4.22"
      ]
     },
     "execution_count": 3,
     "metadata": {},
     "output_type": "execute_result"
    }
   ],
   "source": [
    "calls_df.info()\n",
    "calls_df.head()"
   ]
  },
  {
   "cell_type": "code",
   "execution_count": 4,
   "metadata": {},
   "outputs": [
    {
     "name": "stdout",
     "output_type": "stream",
     "text": [
      "<class 'pandas.core.frame.DataFrame'>\n",
      "RangeIndex: 104825 entries, 0 to 104824\n",
      "Data columns (total 4 columns):\n",
      " #   Column        Non-Null Count   Dtype  \n",
      "---  ------        --------------   -----  \n",
      " 0   id            104825 non-null  object \n",
      " 1   user_id       104825 non-null  int64  \n",
      " 2   session_date  104825 non-null  object \n",
      " 3   mb_used       104825 non-null  float64\n",
      "dtypes: float64(1), int64(1), object(2)\n",
      "memory usage: 3.2+ MB\n"
     ]
    },
    {
     "data": {
      "text/html": [
       "<div>\n",
       "<style scoped>\n",
       "    .dataframe tbody tr th:only-of-type {\n",
       "        vertical-align: middle;\n",
       "    }\n",
       "\n",
       "    .dataframe tbody tr th {\n",
       "        vertical-align: top;\n",
       "    }\n",
       "\n",
       "    .dataframe thead th {\n",
       "        text-align: right;\n",
       "    }\n",
       "</style>\n",
       "<table border=\"1\" class=\"dataframe\">\n",
       "  <thead>\n",
       "    <tr style=\"text-align: right;\">\n",
       "      <th></th>\n",
       "      <th>id</th>\n",
       "      <th>user_id</th>\n",
       "      <th>session_date</th>\n",
       "      <th>mb_used</th>\n",
       "    </tr>\n",
       "  </thead>\n",
       "  <tbody>\n",
       "    <tr>\n",
       "      <th>0</th>\n",
       "      <td>1000_13</td>\n",
       "      <td>1000</td>\n",
       "      <td>2018-12-29</td>\n",
       "      <td>89.86</td>\n",
       "    </tr>\n",
       "    <tr>\n",
       "      <th>1</th>\n",
       "      <td>1000_204</td>\n",
       "      <td>1000</td>\n",
       "      <td>2018-12-31</td>\n",
       "      <td>0.00</td>\n",
       "    </tr>\n",
       "    <tr>\n",
       "      <th>2</th>\n",
       "      <td>1000_379</td>\n",
       "      <td>1000</td>\n",
       "      <td>2018-12-28</td>\n",
       "      <td>660.40</td>\n",
       "    </tr>\n",
       "    <tr>\n",
       "      <th>3</th>\n",
       "      <td>1000_413</td>\n",
       "      <td>1000</td>\n",
       "      <td>2018-12-26</td>\n",
       "      <td>270.99</td>\n",
       "    </tr>\n",
       "    <tr>\n",
       "      <th>4</th>\n",
       "      <td>1000_442</td>\n",
       "      <td>1000</td>\n",
       "      <td>2018-12-27</td>\n",
       "      <td>880.22</td>\n",
       "    </tr>\n",
       "  </tbody>\n",
       "</table>\n",
       "</div>"
      ],
      "text/plain": [
       "         id  user_id session_date  mb_used\n",
       "0   1000_13     1000   2018-12-29    89.86\n",
       "1  1000_204     1000   2018-12-31     0.00\n",
       "2  1000_379     1000   2018-12-28   660.40\n",
       "3  1000_413     1000   2018-12-26   270.99\n",
       "4  1000_442     1000   2018-12-27   880.22"
      ]
     },
     "execution_count": 4,
     "metadata": {},
     "output_type": "execute_result"
    }
   ],
   "source": [
    "internet_df.info()\n",
    "internet_df.head()"
   ]
  },
  {
   "cell_type": "code",
   "execution_count": 5,
   "metadata": {},
   "outputs": [
    {
     "name": "stdout",
     "output_type": "stream",
     "text": [
      "<class 'pandas.core.frame.DataFrame'>\n",
      "RangeIndex: 76051 entries, 0 to 76050\n",
      "Data columns (total 3 columns):\n",
      " #   Column        Non-Null Count  Dtype \n",
      "---  ------        --------------  ----- \n",
      " 0   id            76051 non-null  object\n",
      " 1   user_id       76051 non-null  int64 \n",
      " 2   message_date  76051 non-null  object\n",
      "dtypes: int64(1), object(2)\n",
      "memory usage: 1.7+ MB\n"
     ]
    },
    {
     "data": {
      "text/html": [
       "<div>\n",
       "<style scoped>\n",
       "    .dataframe tbody tr th:only-of-type {\n",
       "        vertical-align: middle;\n",
       "    }\n",
       "\n",
       "    .dataframe tbody tr th {\n",
       "        vertical-align: top;\n",
       "    }\n",
       "\n",
       "    .dataframe thead th {\n",
       "        text-align: right;\n",
       "    }\n",
       "</style>\n",
       "<table border=\"1\" class=\"dataframe\">\n",
       "  <thead>\n",
       "    <tr style=\"text-align: right;\">\n",
       "      <th></th>\n",
       "      <th>id</th>\n",
       "      <th>user_id</th>\n",
       "      <th>message_date</th>\n",
       "    </tr>\n",
       "  </thead>\n",
       "  <tbody>\n",
       "    <tr>\n",
       "      <th>0</th>\n",
       "      <td>1000_125</td>\n",
       "      <td>1000</td>\n",
       "      <td>2018-12-27</td>\n",
       "    </tr>\n",
       "    <tr>\n",
       "      <th>1</th>\n",
       "      <td>1000_160</td>\n",
       "      <td>1000</td>\n",
       "      <td>2018-12-31</td>\n",
       "    </tr>\n",
       "    <tr>\n",
       "      <th>2</th>\n",
       "      <td>1000_223</td>\n",
       "      <td>1000</td>\n",
       "      <td>2018-12-31</td>\n",
       "    </tr>\n",
       "    <tr>\n",
       "      <th>3</th>\n",
       "      <td>1000_251</td>\n",
       "      <td>1000</td>\n",
       "      <td>2018-12-27</td>\n",
       "    </tr>\n",
       "    <tr>\n",
       "      <th>4</th>\n",
       "      <td>1000_255</td>\n",
       "      <td>1000</td>\n",
       "      <td>2018-12-26</td>\n",
       "    </tr>\n",
       "  </tbody>\n",
       "</table>\n",
       "</div>"
      ],
      "text/plain": [
       "         id  user_id message_date\n",
       "0  1000_125     1000   2018-12-27\n",
       "1  1000_160     1000   2018-12-31\n",
       "2  1000_223     1000   2018-12-31\n",
       "3  1000_251     1000   2018-12-27\n",
       "4  1000_255     1000   2018-12-26"
      ]
     },
     "execution_count": 5,
     "metadata": {},
     "output_type": "execute_result"
    }
   ],
   "source": [
    "messages_df.info()\n",
    "messages_df.head()"
   ]
  },
  {
   "cell_type": "code",
   "execution_count": 6,
   "metadata": {},
   "outputs": [
    {
     "name": "stdout",
     "output_type": "stream",
     "text": [
      "<class 'pandas.core.frame.DataFrame'>\n",
      "RangeIndex: 2 entries, 0 to 1\n",
      "Data columns (total 8 columns):\n",
      " #   Column                 Non-Null Count  Dtype  \n",
      "---  ------                 --------------  -----  \n",
      " 0   messages_included      2 non-null      int64  \n",
      " 1   mb_per_month_included  2 non-null      int64  \n",
      " 2   minutes_included       2 non-null      int64  \n",
      " 3   usd_monthly_pay        2 non-null      int64  \n",
      " 4   usd_per_gb             2 non-null      int64  \n",
      " 5   usd_per_message        2 non-null      float64\n",
      " 6   usd_per_minute         2 non-null      float64\n",
      " 7   plan_name              2 non-null      object \n",
      "dtypes: float64(2), int64(5), object(1)\n",
      "memory usage: 256.0+ bytes\n"
     ]
    },
    {
     "data": {
      "text/html": [
       "<div>\n",
       "<style scoped>\n",
       "    .dataframe tbody tr th:only-of-type {\n",
       "        vertical-align: middle;\n",
       "    }\n",
       "\n",
       "    .dataframe tbody tr th {\n",
       "        vertical-align: top;\n",
       "    }\n",
       "\n",
       "    .dataframe thead th {\n",
       "        text-align: right;\n",
       "    }\n",
       "</style>\n",
       "<table border=\"1\" class=\"dataframe\">\n",
       "  <thead>\n",
       "    <tr style=\"text-align: right;\">\n",
       "      <th></th>\n",
       "      <th>messages_included</th>\n",
       "      <th>mb_per_month_included</th>\n",
       "      <th>minutes_included</th>\n",
       "      <th>usd_monthly_pay</th>\n",
       "      <th>usd_per_gb</th>\n",
       "      <th>usd_per_message</th>\n",
       "      <th>usd_per_minute</th>\n",
       "      <th>plan_name</th>\n",
       "    </tr>\n",
       "  </thead>\n",
       "  <tbody>\n",
       "    <tr>\n",
       "      <th>0</th>\n",
       "      <td>50</td>\n",
       "      <td>15360</td>\n",
       "      <td>500</td>\n",
       "      <td>20</td>\n",
       "      <td>10</td>\n",
       "      <td>0.03</td>\n",
       "      <td>0.03</td>\n",
       "      <td>surf</td>\n",
       "    </tr>\n",
       "    <tr>\n",
       "      <th>1</th>\n",
       "      <td>1000</td>\n",
       "      <td>30720</td>\n",
       "      <td>3000</td>\n",
       "      <td>70</td>\n",
       "      <td>7</td>\n",
       "      <td>0.01</td>\n",
       "      <td>0.01</td>\n",
       "      <td>ultimate</td>\n",
       "    </tr>\n",
       "  </tbody>\n",
       "</table>\n",
       "</div>"
      ],
      "text/plain": [
       "   messages_included  mb_per_month_included  minutes_included  \\\n",
       "0                 50                  15360               500   \n",
       "1               1000                  30720              3000   \n",
       "\n",
       "   usd_monthly_pay  usd_per_gb  usd_per_message  usd_per_minute plan_name  \n",
       "0               20          10             0.03            0.03      surf  \n",
       "1               70           7             0.01            0.01  ultimate  "
      ]
     },
     "execution_count": 6,
     "metadata": {},
     "output_type": "execute_result"
    }
   ],
   "source": [
    "plans_df.info()\n",
    "plans_df.head()"
   ]
  },
  {
   "cell_type": "code",
   "execution_count": 7,
   "metadata": {},
   "outputs": [
    {
     "name": "stdout",
     "output_type": "stream",
     "text": [
      "<class 'pandas.core.frame.DataFrame'>\n",
      "RangeIndex: 500 entries, 0 to 499\n",
      "Data columns (total 8 columns):\n",
      " #   Column      Non-Null Count  Dtype \n",
      "---  ------      --------------  ----- \n",
      " 0   user_id     500 non-null    int64 \n",
      " 1   first_name  500 non-null    object\n",
      " 2   last_name   500 non-null    object\n",
      " 3   age         500 non-null    int64 \n",
      " 4   city        500 non-null    object\n",
      " 5   reg_date    500 non-null    object\n",
      " 6   plan        500 non-null    object\n",
      " 7   churn_date  34 non-null     object\n",
      "dtypes: int64(2), object(6)\n",
      "memory usage: 31.4+ KB\n"
     ]
    },
    {
     "data": {
      "text/html": [
       "<div>\n",
       "<style scoped>\n",
       "    .dataframe tbody tr th:only-of-type {\n",
       "        vertical-align: middle;\n",
       "    }\n",
       "\n",
       "    .dataframe tbody tr th {\n",
       "        vertical-align: top;\n",
       "    }\n",
       "\n",
       "    .dataframe thead th {\n",
       "        text-align: right;\n",
       "    }\n",
       "</style>\n",
       "<table border=\"1\" class=\"dataframe\">\n",
       "  <thead>\n",
       "    <tr style=\"text-align: right;\">\n",
       "      <th></th>\n",
       "      <th>user_id</th>\n",
       "      <th>first_name</th>\n",
       "      <th>last_name</th>\n",
       "      <th>age</th>\n",
       "      <th>city</th>\n",
       "      <th>reg_date</th>\n",
       "      <th>plan</th>\n",
       "      <th>churn_date</th>\n",
       "    </tr>\n",
       "  </thead>\n",
       "  <tbody>\n",
       "    <tr>\n",
       "      <th>0</th>\n",
       "      <td>1000</td>\n",
       "      <td>Anamaria</td>\n",
       "      <td>Bauer</td>\n",
       "      <td>45</td>\n",
       "      <td>Atlanta-Sandy Springs-Roswell, GA MSA</td>\n",
       "      <td>2018-12-24</td>\n",
       "      <td>ultimate</td>\n",
       "      <td>NaN</td>\n",
       "    </tr>\n",
       "    <tr>\n",
       "      <th>1</th>\n",
       "      <td>1001</td>\n",
       "      <td>Mickey</td>\n",
       "      <td>Wilkerson</td>\n",
       "      <td>28</td>\n",
       "      <td>Seattle-Tacoma-Bellevue, WA MSA</td>\n",
       "      <td>2018-08-13</td>\n",
       "      <td>surf</td>\n",
       "      <td>NaN</td>\n",
       "    </tr>\n",
       "    <tr>\n",
       "      <th>2</th>\n",
       "      <td>1002</td>\n",
       "      <td>Carlee</td>\n",
       "      <td>Hoffman</td>\n",
       "      <td>36</td>\n",
       "      <td>Las Vegas-Henderson-Paradise, NV MSA</td>\n",
       "      <td>2018-10-21</td>\n",
       "      <td>surf</td>\n",
       "      <td>NaN</td>\n",
       "    </tr>\n",
       "    <tr>\n",
       "      <th>3</th>\n",
       "      <td>1003</td>\n",
       "      <td>Reynaldo</td>\n",
       "      <td>Jenkins</td>\n",
       "      <td>52</td>\n",
       "      <td>Tulsa, OK MSA</td>\n",
       "      <td>2018-01-28</td>\n",
       "      <td>surf</td>\n",
       "      <td>NaN</td>\n",
       "    </tr>\n",
       "    <tr>\n",
       "      <th>4</th>\n",
       "      <td>1004</td>\n",
       "      <td>Leonila</td>\n",
       "      <td>Thompson</td>\n",
       "      <td>40</td>\n",
       "      <td>Seattle-Tacoma-Bellevue, WA MSA</td>\n",
       "      <td>2018-05-23</td>\n",
       "      <td>surf</td>\n",
       "      <td>NaN</td>\n",
       "    </tr>\n",
       "  </tbody>\n",
       "</table>\n",
       "</div>"
      ],
      "text/plain": [
       "   user_id first_name  last_name  age                                   city  \\\n",
       "0     1000   Anamaria      Bauer   45  Atlanta-Sandy Springs-Roswell, GA MSA   \n",
       "1     1001     Mickey  Wilkerson   28        Seattle-Tacoma-Bellevue, WA MSA   \n",
       "2     1002     Carlee    Hoffman   36   Las Vegas-Henderson-Paradise, NV MSA   \n",
       "3     1003   Reynaldo    Jenkins   52                          Tulsa, OK MSA   \n",
       "4     1004    Leonila   Thompson   40        Seattle-Tacoma-Bellevue, WA MSA   \n",
       "\n",
       "     reg_date      plan churn_date  \n",
       "0  2018-12-24  ultimate        NaN  \n",
       "1  2018-08-13      surf        NaN  \n",
       "2  2018-10-21      surf        NaN  \n",
       "3  2018-01-28      surf        NaN  \n",
       "4  2018-05-23      surf        NaN  "
      ]
     },
     "execution_count": 7,
     "metadata": {},
     "output_type": "execute_result"
    }
   ],
   "source": [
    "users_df.info()\n",
    "users_df.head()"
   ]
  },
  {
   "cell_type": "code",
   "execution_count": null,
   "metadata": {},
   "outputs": [],
   "source": []
  },
  {
   "cell_type": "code",
   "execution_count": null,
   "metadata": {},
   "outputs": [],
   "source": []
  },
  {
   "cell_type": "markdown",
   "metadata": {
    "id": "ohBhimvH0q01"
   },
   "source": [
    "## Tarifas"
   ]
  },
  {
   "cell_type": "code",
   "execution_count": 8,
   "metadata": {
    "id": "GptqP3Q40q02"
   },
   "outputs": [
    {
     "name": "stdout",
     "output_type": "stream",
     "text": [
      "<class 'pandas.core.frame.DataFrame'>\n",
      "RangeIndex: 2 entries, 0 to 1\n",
      "Data columns (total 8 columns):\n",
      " #   Column                 Non-Null Count  Dtype  \n",
      "---  ------                 --------------  -----  \n",
      " 0   messages_included      2 non-null      int64  \n",
      " 1   mb_per_month_included  2 non-null      int64  \n",
      " 2   minutes_included       2 non-null      int64  \n",
      " 3   usd_monthly_pay        2 non-null      int64  \n",
      " 4   usd_per_gb             2 non-null      int64  \n",
      " 5   usd_per_message        2 non-null      float64\n",
      " 6   usd_per_minute         2 non-null      float64\n",
      " 7   plan_name              2 non-null      object \n",
      "dtypes: float64(2), int64(5), object(1)\n",
      "memory usage: 256.0+ bytes\n"
     ]
    }
   ],
   "source": [
    "# Imprime la información general/resumida sobre el DataFrame de las tarifas\n",
    "\n",
    "plans_df.info()"
   ]
  },
  {
   "cell_type": "code",
   "execution_count": 9,
   "metadata": {
    "id": "64xzjwL70q02"
   },
   "outputs": [
    {
     "name": "stdout",
     "output_type": "stream",
     "text": [
      "   messages_included  mb_per_month_included  minutes_included  \\\n",
      "0                 50                  15360               500   \n",
      "1               1000                  30720              3000   \n",
      "\n",
      "   usd_monthly_pay  usd_per_gb  usd_per_message  usd_per_minute plan_name  \n",
      "0               20          10             0.03            0.03      surf  \n",
      "1               70           7             0.01            0.01  ultimate  \n"
     ]
    }
   ],
   "source": [
    "# Imprime una muestra de los datos para las tarifas\n",
    "\n",
    "print(plans_df)\n"
   ]
  },
  {
   "cell_type": "markdown",
   "metadata": {
    "id": "mEc_3_hs0q02"
   },
   "source": [
    "En la información general vemos que hay 8 columnas que nos indican las características de las tarifas. Las filas representan las tarifas, surf y ultimate. Un problema que surge es que el internet incluido por mes está en mb, mientras que en la información se nos dá en gb. También el cargo por internet extra está en gb, por lo que podemos convertir la columna de mb_per_month_included para que esté en la unidad correcta. Antes de hacer esta conversión es importante corroborar con la empresa que los datos sean correctos. \n",
    "Al realizar el resto del proyecto, podemos ver que en los usarios se mide el consumo en mb, por lo que es más conveniente dejar en mb el consumo incluido, para no hacer conversiones entre las unidades y evitar confusiones."
   ]
  },
  {
   "cell_type": "markdown",
   "metadata": {
    "id": "R3C05i1l0q03"
   },
   "source": [
    "## Corregir datos"
   ]
  },
  {
   "cell_type": "markdown",
   "metadata": {
    "id": "bIi8StZI0q03"
   },
   "source": []
  },
  {
   "cell_type": "code",
   "execution_count": 10,
   "metadata": {
    "id": "Y7SVmjGn0q03"
   },
   "outputs": [
    {
     "name": "stdout",
     "output_type": "stream",
     "text": [
      "   messages_included  mb_per_month_included  minutes_included  \\\n",
      "0                 50                  15360               500   \n",
      "1               1000                  30720              3000   \n",
      "\n",
      "   usd_monthly_pay  usd_per_gb  usd_per_message  usd_per_minute plan_name  \n",
      "0               20          10             0.03            0.03      surf  \n",
      "1               70           7             0.01            0.01  ultimate  \n"
     ]
    }
   ],
   "source": [
    "\n",
    "print(plans_df)"
   ]
  },
  {
   "cell_type": "markdown",
   "metadata": {
    "id": "LJir7bml0q03"
   },
   "source": [
    "## Enriquecer los datos"
   ]
  },
  {
   "cell_type": "markdown",
   "metadata": {
    "id": "eqADpCfg0q04"
   },
   "source": [
    "[Agrega factores adicionales a los datos si crees que pudieran ser útiles.]"
   ]
  },
  {
   "cell_type": "code",
   "execution_count": null,
   "metadata": {
    "id": "gfcIEuXV0q04"
   },
   "outputs": [],
   "source": []
  },
  {
   "cell_type": "markdown",
   "metadata": {
    "id": "1n2X6WXf0q04"
   },
   "source": [
    "## Usuarios/as"
   ]
  },
  {
   "cell_type": "code",
   "execution_count": 11,
   "metadata": {
    "id": "2NgjWFqx0q05"
   },
   "outputs": [
    {
     "name": "stdout",
     "output_type": "stream",
     "text": [
      "<class 'pandas.core.frame.DataFrame'>\n",
      "RangeIndex: 500 entries, 0 to 499\n",
      "Data columns (total 8 columns):\n",
      " #   Column      Non-Null Count  Dtype \n",
      "---  ------      --------------  ----- \n",
      " 0   user_id     500 non-null    int64 \n",
      " 1   first_name  500 non-null    object\n",
      " 2   last_name   500 non-null    object\n",
      " 3   age         500 non-null    int64 \n",
      " 4   city        500 non-null    object\n",
      " 5   reg_date    500 non-null    object\n",
      " 6   plan        500 non-null    object\n",
      " 7   churn_date  34 non-null     object\n",
      "dtypes: int64(2), object(6)\n",
      "memory usage: 31.4+ KB\n"
     ]
    }
   ],
   "source": [
    "# Imprime la información general/resumida sobre el DataFrame de usuarios\n",
    "\n",
    "users_df.info()\n"
   ]
  },
  {
   "cell_type": "code",
   "execution_count": 12,
   "metadata": {
    "id": "1IN1L9uh0q05"
   },
   "outputs": [
    {
     "data": {
      "text/html": [
       "<div>\n",
       "<style scoped>\n",
       "    .dataframe tbody tr th:only-of-type {\n",
       "        vertical-align: middle;\n",
       "    }\n",
       "\n",
       "    .dataframe tbody tr th {\n",
       "        vertical-align: top;\n",
       "    }\n",
       "\n",
       "    .dataframe thead th {\n",
       "        text-align: right;\n",
       "    }\n",
       "</style>\n",
       "<table border=\"1\" class=\"dataframe\">\n",
       "  <thead>\n",
       "    <tr style=\"text-align: right;\">\n",
       "      <th></th>\n",
       "      <th>user_id</th>\n",
       "      <th>first_name</th>\n",
       "      <th>last_name</th>\n",
       "      <th>age</th>\n",
       "      <th>city</th>\n",
       "      <th>reg_date</th>\n",
       "      <th>plan</th>\n",
       "      <th>churn_date</th>\n",
       "    </tr>\n",
       "  </thead>\n",
       "  <tbody>\n",
       "    <tr>\n",
       "      <th>0</th>\n",
       "      <td>1000</td>\n",
       "      <td>Anamaria</td>\n",
       "      <td>Bauer</td>\n",
       "      <td>45</td>\n",
       "      <td>Atlanta-Sandy Springs-Roswell, GA MSA</td>\n",
       "      <td>2018-12-24</td>\n",
       "      <td>ultimate</td>\n",
       "      <td>NaN</td>\n",
       "    </tr>\n",
       "    <tr>\n",
       "      <th>1</th>\n",
       "      <td>1001</td>\n",
       "      <td>Mickey</td>\n",
       "      <td>Wilkerson</td>\n",
       "      <td>28</td>\n",
       "      <td>Seattle-Tacoma-Bellevue, WA MSA</td>\n",
       "      <td>2018-08-13</td>\n",
       "      <td>surf</td>\n",
       "      <td>NaN</td>\n",
       "    </tr>\n",
       "    <tr>\n",
       "      <th>2</th>\n",
       "      <td>1002</td>\n",
       "      <td>Carlee</td>\n",
       "      <td>Hoffman</td>\n",
       "      <td>36</td>\n",
       "      <td>Las Vegas-Henderson-Paradise, NV MSA</td>\n",
       "      <td>2018-10-21</td>\n",
       "      <td>surf</td>\n",
       "      <td>NaN</td>\n",
       "    </tr>\n",
       "    <tr>\n",
       "      <th>3</th>\n",
       "      <td>1003</td>\n",
       "      <td>Reynaldo</td>\n",
       "      <td>Jenkins</td>\n",
       "      <td>52</td>\n",
       "      <td>Tulsa, OK MSA</td>\n",
       "      <td>2018-01-28</td>\n",
       "      <td>surf</td>\n",
       "      <td>NaN</td>\n",
       "    </tr>\n",
       "    <tr>\n",
       "      <th>4</th>\n",
       "      <td>1004</td>\n",
       "      <td>Leonila</td>\n",
       "      <td>Thompson</td>\n",
       "      <td>40</td>\n",
       "      <td>Seattle-Tacoma-Bellevue, WA MSA</td>\n",
       "      <td>2018-05-23</td>\n",
       "      <td>surf</td>\n",
       "      <td>NaN</td>\n",
       "    </tr>\n",
       "  </tbody>\n",
       "</table>\n",
       "</div>"
      ],
      "text/plain": [
       "   user_id first_name  last_name  age                                   city  \\\n",
       "0     1000   Anamaria      Bauer   45  Atlanta-Sandy Springs-Roswell, GA MSA   \n",
       "1     1001     Mickey  Wilkerson   28        Seattle-Tacoma-Bellevue, WA MSA   \n",
       "2     1002     Carlee    Hoffman   36   Las Vegas-Henderson-Paradise, NV MSA   \n",
       "3     1003   Reynaldo    Jenkins   52                          Tulsa, OK MSA   \n",
       "4     1004    Leonila   Thompson   40        Seattle-Tacoma-Bellevue, WA MSA   \n",
       "\n",
       "     reg_date      plan churn_date  \n",
       "0  2018-12-24  ultimate        NaN  \n",
       "1  2018-08-13      surf        NaN  \n",
       "2  2018-10-21      surf        NaN  \n",
       "3  2018-01-28      surf        NaN  \n",
       "4  2018-05-23      surf        NaN  "
      ]
     },
     "execution_count": 12,
     "metadata": {},
     "output_type": "execute_result"
    }
   ],
   "source": [
    "# Imprime una muestra de datos para usuarios\n",
    "\n",
    "users_df.head()"
   ]
  },
  {
   "cell_type": "markdown",
   "metadata": {
    "id": "dCZoUq4f0q06"
   },
   "source": [
    "[Describe lo que ves y observas en la información general y en la muestra de datos impresa para el precio de datos anterior. ¿Hay algún problema (tipos de datos no adecuados, datos ausentes, etc.) que pudieran necesitar investigación y cambios adicionales? ¿Cómo se puede arreglar?]\n",
    "\n",
    " En la informacion podemos ver que no hay ningun dato vacío en ninguna columna excepto por churn_date, en la que tenemos sólo 34 datos ya que la información nos dice que los datos ausentes representan a los usarios que siguen teniendo un plan a la fecha que se sacaron los datos. En esta tabla podemos ver de qué ciudad son los usarios, así como su nombre y edad y qué tarifa han contratado. La unica corrección es cambiar la fecha de registro y de cancelación a datos datetime ."
   ]
  },
  {
   "cell_type": "markdown",
   "metadata": {
    "id": "BX5FQh_I0q06"
   },
   "source": [
    "### Corregir los datos"
   ]
  },
  {
   "cell_type": "markdown",
   "metadata": {
    "id": "8OdKMwJv0q06"
   },
   "source": [
    "[Corrige los problemas obvios con los datos basándote en las observaciones iniciales.]"
   ]
  },
  {
   "cell_type": "code",
   "execution_count": 13,
   "metadata": {
    "id": "yUqX-K0C0q07"
   },
   "outputs": [
    {
     "name": "stdout",
     "output_type": "stream",
     "text": [
      "<class 'pandas.core.frame.DataFrame'>\n",
      "RangeIndex: 500 entries, 0 to 499\n",
      "Data columns (total 8 columns):\n",
      " #   Column      Non-Null Count  Dtype         \n",
      "---  ------      --------------  -----         \n",
      " 0   user_id     500 non-null    int64         \n",
      " 1   first_name  500 non-null    object        \n",
      " 2   last_name   500 non-null    object        \n",
      " 3   age         500 non-null    int64         \n",
      " 4   city        500 non-null    object        \n",
      " 5   reg_date    500 non-null    datetime64[ns]\n",
      " 6   plan        500 non-null    object        \n",
      " 7   churn_date  34 non-null     datetime64[ns]\n",
      "dtypes: datetime64[ns](2), int64(2), object(4)\n",
      "memory usage: 31.4+ KB\n"
     ]
    },
    {
     "data": {
      "text/html": [
       "<div>\n",
       "<style scoped>\n",
       "    .dataframe tbody tr th:only-of-type {\n",
       "        vertical-align: middle;\n",
       "    }\n",
       "\n",
       "    .dataframe tbody tr th {\n",
       "        vertical-align: top;\n",
       "    }\n",
       "\n",
       "    .dataframe thead th {\n",
       "        text-align: right;\n",
       "    }\n",
       "</style>\n",
       "<table border=\"1\" class=\"dataframe\">\n",
       "  <thead>\n",
       "    <tr style=\"text-align: right;\">\n",
       "      <th></th>\n",
       "      <th>user_id</th>\n",
       "      <th>first_name</th>\n",
       "      <th>last_name</th>\n",
       "      <th>age</th>\n",
       "      <th>city</th>\n",
       "      <th>reg_date</th>\n",
       "      <th>plan</th>\n",
       "      <th>churn_date</th>\n",
       "    </tr>\n",
       "  </thead>\n",
       "  <tbody>\n",
       "    <tr>\n",
       "      <th>0</th>\n",
       "      <td>1000</td>\n",
       "      <td>Anamaria</td>\n",
       "      <td>Bauer</td>\n",
       "      <td>45</td>\n",
       "      <td>Atlanta-Sandy Springs-Roswell, GA MSA</td>\n",
       "      <td>2018-12-24</td>\n",
       "      <td>ultimate</td>\n",
       "      <td>NaT</td>\n",
       "    </tr>\n",
       "    <tr>\n",
       "      <th>1</th>\n",
       "      <td>1001</td>\n",
       "      <td>Mickey</td>\n",
       "      <td>Wilkerson</td>\n",
       "      <td>28</td>\n",
       "      <td>Seattle-Tacoma-Bellevue, WA MSA</td>\n",
       "      <td>2018-08-13</td>\n",
       "      <td>surf</td>\n",
       "      <td>NaT</td>\n",
       "    </tr>\n",
       "    <tr>\n",
       "      <th>2</th>\n",
       "      <td>1002</td>\n",
       "      <td>Carlee</td>\n",
       "      <td>Hoffman</td>\n",
       "      <td>36</td>\n",
       "      <td>Las Vegas-Henderson-Paradise, NV MSA</td>\n",
       "      <td>2018-10-21</td>\n",
       "      <td>surf</td>\n",
       "      <td>NaT</td>\n",
       "    </tr>\n",
       "    <tr>\n",
       "      <th>3</th>\n",
       "      <td>1003</td>\n",
       "      <td>Reynaldo</td>\n",
       "      <td>Jenkins</td>\n",
       "      <td>52</td>\n",
       "      <td>Tulsa, OK MSA</td>\n",
       "      <td>2018-01-28</td>\n",
       "      <td>surf</td>\n",
       "      <td>NaT</td>\n",
       "    </tr>\n",
       "    <tr>\n",
       "      <th>4</th>\n",
       "      <td>1004</td>\n",
       "      <td>Leonila</td>\n",
       "      <td>Thompson</td>\n",
       "      <td>40</td>\n",
       "      <td>Seattle-Tacoma-Bellevue, WA MSA</td>\n",
       "      <td>2018-05-23</td>\n",
       "      <td>surf</td>\n",
       "      <td>NaT</td>\n",
       "    </tr>\n",
       "  </tbody>\n",
       "</table>\n",
       "</div>"
      ],
      "text/plain": [
       "   user_id first_name  last_name  age                                   city  \\\n",
       "0     1000   Anamaria      Bauer   45  Atlanta-Sandy Springs-Roswell, GA MSA   \n",
       "1     1001     Mickey  Wilkerson   28        Seattle-Tacoma-Bellevue, WA MSA   \n",
       "2     1002     Carlee    Hoffman   36   Las Vegas-Henderson-Paradise, NV MSA   \n",
       "3     1003   Reynaldo    Jenkins   52                          Tulsa, OK MSA   \n",
       "4     1004    Leonila   Thompson   40        Seattle-Tacoma-Bellevue, WA MSA   \n",
       "\n",
       "    reg_date      plan churn_date  \n",
       "0 2018-12-24  ultimate        NaT  \n",
       "1 2018-08-13      surf        NaT  \n",
       "2 2018-10-21      surf        NaT  \n",
       "3 2018-01-28      surf        NaT  \n",
       "4 2018-05-23      surf        NaT  "
      ]
     },
     "execution_count": 13,
     "metadata": {},
     "output_type": "execute_result"
    }
   ],
   "source": [
    "users_df['reg_date'] = pd.to_datetime(users_df['reg_date'])\n",
    "users_df['churn_date'] = pd.to_datetime(users_df['churn_date'])\n",
    "\n",
    "users_df.info()\n",
    "users_df.head()"
   ]
  },
  {
   "cell_type": "markdown",
   "metadata": {
    "id": "ycwuARJp0q07"
   },
   "source": [
    "### Enriquecer los datos"
   ]
  },
  {
   "cell_type": "markdown",
   "metadata": {
    "id": "96NIh4CJ0q08"
   },
   "source": [
    "[Agrega factores adicionales a los datos si crees que pudieran ser útiles.]"
   ]
  },
  {
   "cell_type": "code",
   "execution_count": null,
   "metadata": {
    "id": "iq0AaBS90q08"
   },
   "outputs": [],
   "source": []
  },
  {
   "cell_type": "markdown",
   "metadata": {
    "id": "o7MeKCid0q08"
   },
   "source": [
    "## Llamadas"
   ]
  },
  {
   "cell_type": "code",
   "execution_count": 14,
   "metadata": {
    "id": "6dDlnoDm0q08"
   },
   "outputs": [
    {
     "name": "stdout",
     "output_type": "stream",
     "text": [
      "<class 'pandas.core.frame.DataFrame'>\n",
      "RangeIndex: 137735 entries, 0 to 137734\n",
      "Data columns (total 4 columns):\n",
      " #   Column     Non-Null Count   Dtype  \n",
      "---  ------     --------------   -----  \n",
      " 0   id         137735 non-null  object \n",
      " 1   user_id    137735 non-null  int64  \n",
      " 2   call_date  137735 non-null  object \n",
      " 3   duration   137735 non-null  float64\n",
      "dtypes: float64(1), int64(1), object(2)\n",
      "memory usage: 4.2+ MB\n"
     ]
    }
   ],
   "source": [
    "# Imprime la información general/resumida sobre el DataFrame de las llamadas\n",
    "\n",
    "calls_df.info()"
   ]
  },
  {
   "cell_type": "code",
   "execution_count": 15,
   "metadata": {
    "id": "kuh1vlNB0q09"
   },
   "outputs": [
    {
     "data": {
      "text/html": [
       "<div>\n",
       "<style scoped>\n",
       "    .dataframe tbody tr th:only-of-type {\n",
       "        vertical-align: middle;\n",
       "    }\n",
       "\n",
       "    .dataframe tbody tr th {\n",
       "        vertical-align: top;\n",
       "    }\n",
       "\n",
       "    .dataframe thead th {\n",
       "        text-align: right;\n",
       "    }\n",
       "</style>\n",
       "<table border=\"1\" class=\"dataframe\">\n",
       "  <thead>\n",
       "    <tr style=\"text-align: right;\">\n",
       "      <th></th>\n",
       "      <th>id</th>\n",
       "      <th>user_id</th>\n",
       "      <th>call_date</th>\n",
       "      <th>duration</th>\n",
       "    </tr>\n",
       "  </thead>\n",
       "  <tbody>\n",
       "    <tr>\n",
       "      <th>0</th>\n",
       "      <td>1000_93</td>\n",
       "      <td>1000</td>\n",
       "      <td>2018-12-27</td>\n",
       "      <td>8.52</td>\n",
       "    </tr>\n",
       "    <tr>\n",
       "      <th>1</th>\n",
       "      <td>1000_145</td>\n",
       "      <td>1000</td>\n",
       "      <td>2018-12-27</td>\n",
       "      <td>13.66</td>\n",
       "    </tr>\n",
       "    <tr>\n",
       "      <th>2</th>\n",
       "      <td>1000_247</td>\n",
       "      <td>1000</td>\n",
       "      <td>2018-12-27</td>\n",
       "      <td>14.48</td>\n",
       "    </tr>\n",
       "    <tr>\n",
       "      <th>3</th>\n",
       "      <td>1000_309</td>\n",
       "      <td>1000</td>\n",
       "      <td>2018-12-28</td>\n",
       "      <td>5.76</td>\n",
       "    </tr>\n",
       "    <tr>\n",
       "      <th>4</th>\n",
       "      <td>1000_380</td>\n",
       "      <td>1000</td>\n",
       "      <td>2018-12-30</td>\n",
       "      <td>4.22</td>\n",
       "    </tr>\n",
       "  </tbody>\n",
       "</table>\n",
       "</div>"
      ],
      "text/plain": [
       "         id  user_id   call_date  duration\n",
       "0   1000_93     1000  2018-12-27      8.52\n",
       "1  1000_145     1000  2018-12-27     13.66\n",
       "2  1000_247     1000  2018-12-27     14.48\n",
       "3  1000_309     1000  2018-12-28      5.76\n",
       "4  1000_380     1000  2018-12-30      4.22"
      ]
     },
     "execution_count": 15,
     "metadata": {},
     "output_type": "execute_result"
    }
   ],
   "source": [
    "# Imprime una muestra de datos para las llamadas\n",
    "calls_df.head()\n"
   ]
  },
  {
   "cell_type": "markdown",
   "metadata": {
    "id": "DOAxYJSx0q09"
   },
   "source": [
    "[Describe lo que ves y observas en la información general y en la muestra de datos impresa para el precio de datos anterior. ¿Hay algún problema (tipos de datos no adecuados, datos ausentes, etc.) que pudieran necesitar investigación y cambios adicionales? ¿Cómo se puede arreglar?]\n",
    "\n",
    "En esta tabla no hay valores ausentes y se muestran todos los datos en el formato especificado en la información. La unica corrección es pasar la fecha de call_date a un tipo de dato datetime para poder accesar más facilmente a los años y meses de la fecha.\n",
    "\n",
    "La tabla calls (datos sobre las llamadas):\n",
    "id: identificador único de la llamada.\n",
    "call_date: fecha de la llamada.\n",
    "duration: duración de la llamada (en minutos).\n",
    "user_id: el identificador del usuario que realiza la llamada."
   ]
  },
  {
   "cell_type": "markdown",
   "metadata": {
    "id": "S7hzxmbX0q0-"
   },
   "source": [
    "### Corregir los datos"
   ]
  },
  {
   "cell_type": "markdown",
   "metadata": {
    "id": "YxWyAjD20q0-"
   },
   "source": [
    "[Corrige los problemas obvios con los datos basándote en las observaciones iniciales.]"
   ]
  },
  {
   "cell_type": "code",
   "execution_count": 16,
   "metadata": {
    "id": "S2r8xA4f0q0-"
   },
   "outputs": [
    {
     "name": "stdout",
     "output_type": "stream",
     "text": [
      "<class 'pandas.core.frame.DataFrame'>\n",
      "RangeIndex: 137735 entries, 0 to 137734\n",
      "Data columns (total 4 columns):\n",
      " #   Column     Non-Null Count   Dtype         \n",
      "---  ------     --------------   -----         \n",
      " 0   id         137735 non-null  object        \n",
      " 1   user_id    137735 non-null  int64         \n",
      " 2   call_date  137735 non-null  datetime64[ns]\n",
      " 3   duration   137735 non-null  float64       \n",
      "dtypes: datetime64[ns](1), float64(1), int64(1), object(1)\n",
      "memory usage: 4.2+ MB\n"
     ]
    }
   ],
   "source": [
    "calls_df['call_date'] = pd.to_datetime(calls_df['call_date'])\n",
    "calls_df.info()"
   ]
  },
  {
   "cell_type": "markdown",
   "metadata": {
    "id": "KrMgTrlG0q0_"
   },
   "source": [
    "### Enriquecer los datos"
   ]
  },
  {
   "cell_type": "markdown",
   "metadata": {
    "id": "a9MbmEvE0q0_"
   },
   "source": [
    "[Agrega factores adicionales a los datos si crees que pudieran ser útiles.]"
   ]
  },
  {
   "cell_type": "code",
   "execution_count": null,
   "metadata": {
    "id": "iZ1avpA_0q0_"
   },
   "outputs": [],
   "source": []
  },
  {
   "cell_type": "markdown",
   "metadata": {
    "id": "mOUZSi180q0_"
   },
   "source": [
    "## Mensajes"
   ]
  },
  {
   "cell_type": "code",
   "execution_count": 17,
   "metadata": {
    "id": "R-bYJpdV0q1A"
   },
   "outputs": [
    {
     "name": "stdout",
     "output_type": "stream",
     "text": [
      "<class 'pandas.core.frame.DataFrame'>\n",
      "RangeIndex: 76051 entries, 0 to 76050\n",
      "Data columns (total 3 columns):\n",
      " #   Column        Non-Null Count  Dtype \n",
      "---  ------        --------------  ----- \n",
      " 0   id            76051 non-null  object\n",
      " 1   user_id       76051 non-null  int64 \n",
      " 2   message_date  76051 non-null  object\n",
      "dtypes: int64(1), object(2)\n",
      "memory usage: 1.7+ MB\n"
     ]
    }
   ],
   "source": [
    "# Imprime la información general/resumida sobre el DataFrame de los mensajes\n",
    "\n",
    "messages_df.info()"
   ]
  },
  {
   "cell_type": "code",
   "execution_count": 18,
   "metadata": {
    "id": "mCEl2iGE0q1A"
   },
   "outputs": [
    {
     "name": "stdout",
     "output_type": "stream",
     "text": [
      "         id  user_id message_date\n",
      "0  1000_125     1000   2018-12-27\n",
      "1  1000_160     1000   2018-12-31\n",
      "2  1000_223     1000   2018-12-31\n",
      "3  1000_251     1000   2018-12-27\n",
      "4  1000_255     1000   2018-12-26\n"
     ]
    }
   ],
   "source": [
    "# Imprime una muestra de datos para los mensajes\n",
    "\n",
    "print(messages_df.head())\n"
   ]
  },
  {
   "cell_type": "markdown",
   "metadata": {
    "id": "04xDj7KH0q1A"
   },
   "source": [
    "[Describe lo que ves y observas en la información general y en la muestra de datos impresa para el precio de datos anterior. ¿Hay algún problema (tipos de datos no adecuados, datos ausentes, etc.) que pudieran necesitar investigación y cambios adicionales? ¿Cómo se puede arreglar?]"
   ]
  },
  {
   "cell_type": "markdown",
   "metadata": {
    "id": "Sprfak900q1B"
   },
   "source": [
    "### Corregir los datos"
   ]
  },
  {
   "cell_type": "markdown",
   "metadata": {
    "id": "eGw7d9j10q1B"
   },
   "source": [
    "[Corrige los problemas obvios con los datos basándote en las observaciones iniciales.]"
   ]
  },
  {
   "cell_type": "code",
   "execution_count": 19,
   "metadata": {
    "id": "vsllvkoa0q1B"
   },
   "outputs": [
    {
     "name": "stdout",
     "output_type": "stream",
     "text": [
      "<class 'pandas.core.frame.DataFrame'>\n",
      "RangeIndex: 76051 entries, 0 to 76050\n",
      "Data columns (total 3 columns):\n",
      " #   Column        Non-Null Count  Dtype         \n",
      "---  ------        --------------  -----         \n",
      " 0   id            76051 non-null  object        \n",
      " 1   user_id       76051 non-null  int64         \n",
      " 2   message_date  76051 non-null  datetime64[ns]\n",
      "dtypes: datetime64[ns](1), int64(1), object(1)\n",
      "memory usage: 1.7+ MB\n"
     ]
    }
   ],
   "source": [
    "messages_df['message_date'] = pd.to_datetime(messages_df['message_date'])\n",
    "messages_df.info()"
   ]
  },
  {
   "cell_type": "markdown",
   "metadata": {
    "id": "HvLid7iD0q1B"
   },
   "source": [
    "### Enriquecer los datos"
   ]
  },
  {
   "cell_type": "markdown",
   "metadata": {
    "id": "8nhPFKIe0q1C"
   },
   "source": [
    "[Agrega factores adicionales a los datos si crees que pudieran ser útiles.]"
   ]
  },
  {
   "cell_type": "code",
   "execution_count": null,
   "metadata": {
    "id": "zYEXZac10q1C"
   },
   "outputs": [],
   "source": []
  },
  {
   "cell_type": "markdown",
   "metadata": {
    "id": "bStkaxn40q1C"
   },
   "source": [
    "## Internet"
   ]
  },
  {
   "cell_type": "code",
   "execution_count": 20,
   "metadata": {
    "id": "e-Uz5qyn0q1C"
   },
   "outputs": [
    {
     "name": "stdout",
     "output_type": "stream",
     "text": [
      "<class 'pandas.core.frame.DataFrame'>\n",
      "RangeIndex: 104825 entries, 0 to 104824\n",
      "Data columns (total 4 columns):\n",
      " #   Column        Non-Null Count   Dtype  \n",
      "---  ------        --------------   -----  \n",
      " 0   id            104825 non-null  object \n",
      " 1   user_id       104825 non-null  int64  \n",
      " 2   session_date  104825 non-null  object \n",
      " 3   mb_used       104825 non-null  float64\n",
      "dtypes: float64(1), int64(1), object(2)\n",
      "memory usage: 3.2+ MB\n"
     ]
    }
   ],
   "source": [
    "# Imprime la información general/resumida sobre el DataFrame de internet\n",
    "\n",
    "internet_df.info()\n"
   ]
  },
  {
   "cell_type": "code",
   "execution_count": 21,
   "metadata": {
    "id": "9r3x_XLw0q1C"
   },
   "outputs": [
    {
     "data": {
      "text/html": [
       "<div>\n",
       "<style scoped>\n",
       "    .dataframe tbody tr th:only-of-type {\n",
       "        vertical-align: middle;\n",
       "    }\n",
       "\n",
       "    .dataframe tbody tr th {\n",
       "        vertical-align: top;\n",
       "    }\n",
       "\n",
       "    .dataframe thead th {\n",
       "        text-align: right;\n",
       "    }\n",
       "</style>\n",
       "<table border=\"1\" class=\"dataframe\">\n",
       "  <thead>\n",
       "    <tr style=\"text-align: right;\">\n",
       "      <th></th>\n",
       "      <th>id</th>\n",
       "      <th>user_id</th>\n",
       "      <th>message_date</th>\n",
       "    </tr>\n",
       "  </thead>\n",
       "  <tbody>\n",
       "    <tr>\n",
       "      <th>0</th>\n",
       "      <td>1000_125</td>\n",
       "      <td>1000</td>\n",
       "      <td>2018-12-27</td>\n",
       "    </tr>\n",
       "    <tr>\n",
       "      <th>1</th>\n",
       "      <td>1000_160</td>\n",
       "      <td>1000</td>\n",
       "      <td>2018-12-31</td>\n",
       "    </tr>\n",
       "    <tr>\n",
       "      <th>2</th>\n",
       "      <td>1000_223</td>\n",
       "      <td>1000</td>\n",
       "      <td>2018-12-31</td>\n",
       "    </tr>\n",
       "    <tr>\n",
       "      <th>3</th>\n",
       "      <td>1000_251</td>\n",
       "      <td>1000</td>\n",
       "      <td>2018-12-27</td>\n",
       "    </tr>\n",
       "    <tr>\n",
       "      <th>4</th>\n",
       "      <td>1000_255</td>\n",
       "      <td>1000</td>\n",
       "      <td>2018-12-26</td>\n",
       "    </tr>\n",
       "  </tbody>\n",
       "</table>\n",
       "</div>"
      ],
      "text/plain": [
       "         id  user_id message_date\n",
       "0  1000_125     1000   2018-12-27\n",
       "1  1000_160     1000   2018-12-31\n",
       "2  1000_223     1000   2018-12-31\n",
       "3  1000_251     1000   2018-12-27\n",
       "4  1000_255     1000   2018-12-26"
      ]
     },
     "execution_count": 21,
     "metadata": {},
     "output_type": "execute_result"
    }
   ],
   "source": [
    "# Imprime una muestra de datos para el tráfico de internet\n",
    "\n",
    "messages_df.head()\n"
   ]
  },
  {
   "cell_type": "markdown",
   "metadata": {
    "id": "EzOG5ik30q1D"
   },
   "source": [
    "[Describe lo que ves y observas en la información general y en la muestra de datos impresa para el precio de datos anterior. ¿Hay algún problema (tipos de datos no adecuados, datos ausentes, etc.) que pudieran necesitar investigación y cambios adicionales? ¿Cómo se puede arreglar?]"
   ]
  },
  {
   "cell_type": "markdown",
   "metadata": {
    "id": "yA0tkPFg0q1D"
   },
   "source": [
    "### Corregir los datos"
   ]
  },
  {
   "cell_type": "markdown",
   "metadata": {
    "id": "zlZMuIEK0q1D"
   },
   "source": [
    "[Corrige los problemas obvios con los datos basándote en las observaciones iniciales.]"
   ]
  },
  {
   "cell_type": "code",
   "execution_count": 22,
   "metadata": {
    "id": "zVeanzdd0q1E"
   },
   "outputs": [
    {
     "name": "stdout",
     "output_type": "stream",
     "text": [
      "<class 'pandas.core.frame.DataFrame'>\n",
      "RangeIndex: 104825 entries, 0 to 104824\n",
      "Data columns (total 4 columns):\n",
      " #   Column        Non-Null Count   Dtype         \n",
      "---  ------        --------------   -----         \n",
      " 0   id            104825 non-null  object        \n",
      " 1   user_id       104825 non-null  int64         \n",
      " 2   session_date  104825 non-null  datetime64[ns]\n",
      " 3   mb_used       104825 non-null  float64       \n",
      "dtypes: datetime64[ns](1), float64(1), int64(1), object(1)\n",
      "memory usage: 3.2+ MB\n"
     ]
    }
   ],
   "source": [
    "internet_df['session_date'] = pd.to_datetime(internet_df['session_date'])\n",
    "internet_df.info()"
   ]
  },
  {
   "cell_type": "markdown",
   "metadata": {
    "id": "e8_mLF4a0q1E"
   },
   "source": [
    "### Enriquecer los datos"
   ]
  },
  {
   "cell_type": "markdown",
   "metadata": {
    "id": "xhNdn2tE0q1E"
   },
   "source": [
    "[Agrega factores adicionales a los datos si crees que pudieran ser útiles.]"
   ]
  },
  {
   "cell_type": "code",
   "execution_count": null,
   "metadata": {
    "id": "ESiYPIEK0q1E"
   },
   "outputs": [],
   "source": []
  },
  {
   "cell_type": "markdown",
   "metadata": {
    "id": "3UA2cqIW0q1E"
   },
   "source": [
    "## Estudiar las condiciones de las tarifas"
   ]
  },
  {
   "cell_type": "markdown",
   "metadata": {
    "id": "T86Sqltq0q1F"
   },
   "source": [
    "[Es sumamente importante entender cómo funcionan las tarifas, cómo se les cobra a los usuarios en función de su plan de suscripción. Así que te sugerimos imprimir la información de la tarifa para ver una vez más sus condiciones.]"
   ]
  },
  {
   "cell_type": "code",
   "execution_count": 23,
   "metadata": {
    "id": "i409op8p0q1F"
   },
   "outputs": [
    {
     "name": "stdout",
     "output_type": "stream",
     "text": [
      "<class 'pandas.core.frame.DataFrame'>\n",
      "RangeIndex: 2 entries, 0 to 1\n",
      "Data columns (total 8 columns):\n",
      " #   Column                 Non-Null Count  Dtype  \n",
      "---  ------                 --------------  -----  \n",
      " 0   messages_included      2 non-null      int64  \n",
      " 1   mb_per_month_included  2 non-null      int64  \n",
      " 2   minutes_included       2 non-null      int64  \n",
      " 3   usd_monthly_pay        2 non-null      int64  \n",
      " 4   usd_per_gb             2 non-null      int64  \n",
      " 5   usd_per_message        2 non-null      float64\n",
      " 6   usd_per_minute         2 non-null      float64\n",
      " 7   plan_name              2 non-null      object \n",
      "dtypes: float64(2), int64(5), object(1)\n",
      "memory usage: 256.0+ bytes\n"
     ]
    }
   ],
   "source": [
    "# Imprime las condiciones de la tarifa y asegúrate de que te quedan claras\n",
    "\n",
    "plans_df.info()"
   ]
  },
  {
   "cell_type": "markdown",
   "metadata": {
    "id": "hMR1tP5d0q1F"
   },
   "source": [
    "## Agregar datos por usuario\n",
    "\n",
    "[Ahora que los datos están limpios, agrega los datos por usuario y por periodo para que solo haya un registro por usuario y por periodo. Esto facilitará mucho el análisis posterior.]"
   ]
  },
  {
   "cell_type": "code",
   "execution_count": 24,
   "metadata": {
    "id": "A332cedB0q1G"
   },
   "outputs": [
    {
     "name": "stdout",
     "output_type": "stream",
     "text": [
      "   user_id  call_date  id\n",
      "0     1000         12  16\n",
      "1     1001          8  27\n",
      "2     1001          9  49\n",
      "3     1001         10  65\n",
      "4     1001         11  64\n"
     ]
    }
   ],
   "source": [
    "# Calcula el número de llamadas hechas por cada usuario al mes. Guarda el resultado.\n",
    "\n",
    "monthly_calls_by_user = calls_df.groupby(['user_id' , calls_df['call_date'].dt.month])['id'].count().reset_index()\n",
    "\n",
    "print(monthly_calls_by_user.head())"
   ]
  },
  {
   "cell_type": "code",
   "execution_count": 25,
   "metadata": {
    "id": "aw2cmuql0q1G",
    "scrolled": true
   },
   "outputs": [
    {
     "name": "stdout",
     "output_type": "stream",
     "text": [
      "   user_id  call_date  duration\n",
      "0     1000         12    116.83\n",
      "1     1001          8    171.14\n",
      "2     1001          9    297.69\n",
      "3     1001         10    374.11\n",
      "4     1001         11    404.59\n"
     ]
    }
   ],
   "source": [
    "# Calcula la cantidad de minutos usados por cada usuario al mes. Guarda el resultado.\n",
    "minutes_per_month = calls_df.groupby(['user_id' , calls_df['call_date'].dt.month]).sum('duration').reset_index()\n",
    "print(minutes_per_month.head())"
   ]
  },
  {
   "cell_type": "code",
   "execution_count": 26,
   "metadata": {
    "id": "CcQvNHn60q1G"
   },
   "outputs": [
    {
     "name": "stdout",
     "output_type": "stream",
     "text": [
      "user_id  message_date\n",
      "1000     12              11\n",
      "1001     8               30\n",
      "         9               44\n",
      "         10              53\n",
      "         11              36\n",
      "Name: id, dtype: int64\n"
     ]
    }
   ],
   "source": [
    "# Calcula el número de mensajes enviados por cada usuario al mes. Guarda el resultado.\n",
    "monthly_messages_by_user = messages_df.groupby(['user_id' , messages_df['message_date'].dt.month])['id'].count()\n",
    "print(monthly_messages_by_user.head())"
   ]
  },
  {
   "cell_type": "code",
   "execution_count": 27,
   "metadata": {
    "id": "H1AqN2eG0q1H"
   },
   "outputs": [
    {
     "name": "stdout",
     "output_type": "stream",
     "text": [
      "   user_id  session_date   mb_used\n",
      "0     1000            12   1901.47\n",
      "1     1001             8   6919.15\n",
      "2     1001             9  13314.82\n",
      "3     1001            10  22330.49\n",
      "4     1001            11  18504.30\n"
     ]
    }
   ],
   "source": [
    "# Calcula el volumen del tráfico de Internet usado por cada usuario al mes. Guarda el resultado.\n",
    "monthly_internet_by_user = internet_df.groupby(['user_id' , internet_df['session_date'].dt.month]).sum('mb_used').reset_index()\n",
    "print(monthly_internet_by_user.head())"
   ]
  },
  {
   "cell_type": "markdown",
   "metadata": {
    "id": "VDfYXnj80q1H"
   },
   "source": [
    "[Junta los datos agregados en un DataFrame para que haya un registro que represente lo que consumió un usuario único en un mes determinado.]"
   ]
  },
  {
   "cell_type": "code",
   "execution_count": 28,
   "metadata": {
    "id": "FW99ykyf0q1H"
   },
   "outputs": [
    {
     "name": "stdout",
     "output_type": "stream",
     "text": [
      "   user_id  call_date_x  id_x  call_date_y  duration  id_y  session_date  \\\n",
      "0     1000           12    16           12    116.83    11            12   \n",
      "1     1001            8    27            8    171.14    30             8   \n",
      "2     1001            8    27            8    171.14    30             9   \n",
      "3     1001            8    27            8    171.14    30            10   \n",
      "4     1001            8    27            8    171.14    30            11   \n",
      "\n",
      "    mb_used  \n",
      "0   1901.47  \n",
      "1   6919.15  \n",
      "2  13314.82  \n",
      "3  22330.49  \n",
      "4  18504.30  \n",
      "   user_id  month  number_of_calls  call_minutes  number_of_messages   mb_used\n",
      "0     1000     12               16        116.83                  11   1901.47\n",
      "1     1001      8               27        171.14                  30   6919.15\n",
      "2     1001      8               27        171.14                  30  13314.82\n",
      "3     1001      8               27        171.14                  30  22330.49\n",
      "4     1001      8               27        171.14                  30  18504.30\n"
     ]
    }
   ],
   "source": [
    "# Fusiona los datos de llamadas, minutos, mensajes e Internet con base en user_id y month\n",
    "user_monthly_df = monthly_calls_by_user.merge(minutes_per_month, on = 'user_id').merge(monthly_messages_by_user, on = 'user_id').merge(monthly_internet_by_user, on='user_id')\n",
    "print(user_monthly_df.head())\n",
    "\n",
    "user_monthly_df = user_monthly_df.drop(columns = ['call_date_y', 'session_date'])\n",
    "user_monthly_df.columns=['user_id','month','number_of_calls','call_minutes','number_of_messages','mb_used']\n",
    "print(user_monthly_df.head())\n"
   ]
  },
  {
   "cell_type": "code",
   "execution_count": 29,
   "metadata": {
    "id": "0dNOXHag0q1H"
   },
   "outputs": [
    {
     "data": {
      "text/html": [
       "<div>\n",
       "<style scoped>\n",
       "    .dataframe tbody tr th:only-of-type {\n",
       "        vertical-align: middle;\n",
       "    }\n",
       "\n",
       "    .dataframe tbody tr th {\n",
       "        vertical-align: top;\n",
       "    }\n",
       "\n",
       "    .dataframe thead th {\n",
       "        text-align: right;\n",
       "    }\n",
       "</style>\n",
       "<table border=\"1\" class=\"dataframe\">\n",
       "  <thead>\n",
       "    <tr style=\"text-align: right;\">\n",
       "      <th></th>\n",
       "      <th>index</th>\n",
       "      <th>user_id</th>\n",
       "      <th>month</th>\n",
       "      <th>number_of_calls</th>\n",
       "      <th>call_minutes</th>\n",
       "      <th>number_of_messages</th>\n",
       "      <th>mb_used</th>\n",
       "      <th>plan</th>\n",
       "    </tr>\n",
       "  </thead>\n",
       "  <tbody>\n",
       "    <tr>\n",
       "      <th>0</th>\n",
       "      <td>0</td>\n",
       "      <td>1000</td>\n",
       "      <td>12</td>\n",
       "      <td>16</td>\n",
       "      <td>116.83</td>\n",
       "      <td>11</td>\n",
       "      <td>1901.47</td>\n",
       "      <td>ultimate</td>\n",
       "    </tr>\n",
       "    <tr>\n",
       "      <th>1</th>\n",
       "      <td>1</td>\n",
       "      <td>1001</td>\n",
       "      <td>8</td>\n",
       "      <td>27</td>\n",
       "      <td>171.14</td>\n",
       "      <td>30</td>\n",
       "      <td>6919.15</td>\n",
       "      <td>surf</td>\n",
       "    </tr>\n",
       "    <tr>\n",
       "      <th>2</th>\n",
       "      <td>2</td>\n",
       "      <td>1001</td>\n",
       "      <td>8</td>\n",
       "      <td>27</td>\n",
       "      <td>171.14</td>\n",
       "      <td>30</td>\n",
       "      <td>13314.82</td>\n",
       "      <td>surf</td>\n",
       "    </tr>\n",
       "    <tr>\n",
       "      <th>3</th>\n",
       "      <td>3</td>\n",
       "      <td>1001</td>\n",
       "      <td>8</td>\n",
       "      <td>27</td>\n",
       "      <td>171.14</td>\n",
       "      <td>30</td>\n",
       "      <td>22330.49</td>\n",
       "      <td>surf</td>\n",
       "    </tr>\n",
       "    <tr>\n",
       "      <th>4</th>\n",
       "      <td>4</td>\n",
       "      <td>1001</td>\n",
       "      <td>8</td>\n",
       "      <td>27</td>\n",
       "      <td>171.14</td>\n",
       "      <td>30</td>\n",
       "      <td>18504.30</td>\n",
       "      <td>surf</td>\n",
       "    </tr>\n",
       "  </tbody>\n",
       "</table>\n",
       "</div>"
      ],
      "text/plain": [
       "   index  user_id  month  number_of_calls  call_minutes  number_of_messages  \\\n",
       "0      0     1000     12               16        116.83                  11   \n",
       "1      1     1001      8               27        171.14                  30   \n",
       "2      2     1001      8               27        171.14                  30   \n",
       "3      3     1001      8               27        171.14                  30   \n",
       "4      4     1001      8               27        171.14                  30   \n",
       "\n",
       "    mb_used      plan  \n",
       "0   1901.47  ultimate  \n",
       "1   6919.15      surf  \n",
       "2  13314.82      surf  \n",
       "3  22330.49      surf  \n",
       "4  18504.30      surf  "
      ]
     },
     "execution_count": 29,
     "metadata": {},
     "output_type": "execute_result"
    }
   ],
   "source": [
    "# Añade la información de la tarifa\n",
    "users_plans = users_df[['user_id' , 'plan']]\n",
    "user_monthly_df = user_monthly_df.merge(users_plans,\n",
    "                     on = 'user_id').reset_index()\n",
    "user_monthly_df.head()\n"
   ]
  },
  {
   "cell_type": "markdown",
   "metadata": {
    "id": "1IwGo4wg0q1I"
   },
   "source": [
    "[Calcula los ingresos mensuales por usuario (resta el límite del paquete gratuito del número total de llamadas, mensajes de texto y datos; multiplica el resultado por el valor del plan de llamadas; añade la tarifa mensual en función del plan de llamadas). Nota: Dadas las condiciones del plan, ¡esto podría no ser tan trivial como un par de líneas! Así que no pasa nada si dedicas algo de tiempo a ello.]"
   ]
  },
  {
   "cell_type": "code",
   "execution_count": 30,
   "metadata": {
    "id": "5FGCf_c60q1I",
    "scrolled": false
   },
   "outputs": [
    {
     "data": {
      "text/html": [
       "<div>\n",
       "<style scoped>\n",
       "    .dataframe tbody tr th:only-of-type {\n",
       "        vertical-align: middle;\n",
       "    }\n",
       "\n",
       "    .dataframe tbody tr th {\n",
       "        vertical-align: top;\n",
       "    }\n",
       "\n",
       "    .dataframe thead th {\n",
       "        text-align: right;\n",
       "    }\n",
       "</style>\n",
       "<table border=\"1\" class=\"dataframe\">\n",
       "  <thead>\n",
       "    <tr style=\"text-align: right;\">\n",
       "      <th></th>\n",
       "      <th>index</th>\n",
       "      <th>user_id</th>\n",
       "      <th>month</th>\n",
       "      <th>number_of_calls</th>\n",
       "      <th>call_minutes</th>\n",
       "      <th>number_of_messages</th>\n",
       "      <th>mb_used</th>\n",
       "      <th>plan</th>\n",
       "      <th>total_due</th>\n",
       "    </tr>\n",
       "  </thead>\n",
       "  <tbody>\n",
       "    <tr>\n",
       "      <th>0</th>\n",
       "      <td>0</td>\n",
       "      <td>1000</td>\n",
       "      <td>12</td>\n",
       "      <td>16</td>\n",
       "      <td>116.83</td>\n",
       "      <td>11</td>\n",
       "      <td>1901.47</td>\n",
       "      <td>ultimate</td>\n",
       "      <td>70.0000</td>\n",
       "    </tr>\n",
       "    <tr>\n",
       "      <th>1</th>\n",
       "      <td>1</td>\n",
       "      <td>1001</td>\n",
       "      <td>8</td>\n",
       "      <td>27</td>\n",
       "      <td>171.14</td>\n",
       "      <td>30</td>\n",
       "      <td>6919.15</td>\n",
       "      <td>surf</td>\n",
       "      <td>20.0000</td>\n",
       "    </tr>\n",
       "    <tr>\n",
       "      <th>2</th>\n",
       "      <td>2</td>\n",
       "      <td>1001</td>\n",
       "      <td>8</td>\n",
       "      <td>27</td>\n",
       "      <td>171.14</td>\n",
       "      <td>30</td>\n",
       "      <td>13314.82</td>\n",
       "      <td>surf</td>\n",
       "      <td>20.0000</td>\n",
       "    </tr>\n",
       "    <tr>\n",
       "      <th>3</th>\n",
       "      <td>3</td>\n",
       "      <td>1001</td>\n",
       "      <td>8</td>\n",
       "      <td>27</td>\n",
       "      <td>171.14</td>\n",
       "      <td>30</td>\n",
       "      <td>22330.49</td>\n",
       "      <td>surf</td>\n",
       "      <td>89.7049</td>\n",
       "    </tr>\n",
       "    <tr>\n",
       "      <th>4</th>\n",
       "      <td>4</td>\n",
       "      <td>1001</td>\n",
       "      <td>8</td>\n",
       "      <td>27</td>\n",
       "      <td>171.14</td>\n",
       "      <td>30</td>\n",
       "      <td>18504.30</td>\n",
       "      <td>surf</td>\n",
       "      <td>51.4430</td>\n",
       "    </tr>\n",
       "  </tbody>\n",
       "</table>\n",
       "</div>"
      ],
      "text/plain": [
       "   index  user_id  month  number_of_calls  call_minutes  number_of_messages  \\\n",
       "0      0     1000     12               16        116.83                  11   \n",
       "1      1     1001      8               27        171.14                  30   \n",
       "2      2     1001      8               27        171.14                  30   \n",
       "3      3     1001      8               27        171.14                  30   \n",
       "4      4     1001      8               27        171.14                  30   \n",
       "\n",
       "    mb_used      plan  total_due  \n",
       "0   1901.47  ultimate    70.0000  \n",
       "1   6919.15      surf    20.0000  \n",
       "2  13314.82      surf    20.0000  \n",
       "3  22330.49      surf    89.7049  \n",
       "4  18504.30      surf    51.4430  "
      ]
     },
     "execution_count": 30,
     "metadata": {},
     "output_type": "execute_result"
    }
   ],
   "source": [
    "# Calcula el ingreso mensual para cada usuario\n",
    "\n",
    "#def y apply\n",
    "\n",
    "#Surf Pago mensual: $20.\n",
    "#500 minutos al mes, 50 SMS y 15 GB de datos.\n",
    "#Si se exceden los límites del paquete:\n",
    "#1 minuto: 3 centavos.\n",
    "#1 SMS: 3 centavos.\n",
    "#1 GB de datos: $10.\n",
    "\n",
    "#Ultimate\n",
    "#Pago mensual: $70.\n",
    "#3000 minutos al mes, 1000 SMS y 30 GB de datos.\n",
    "#Si se exceden los límites del paquete:\n",
    "#1 minuto: 1 centavo.\n",
    "#1 SMS: 1 centavo.\n",
    "#1 GB de datos: $7.\n",
    "\n",
    "\n",
    "def total_due (row):\n",
    "    if row['plan'] == 'surf':\n",
    "        base = 20\n",
    "        extra_minutes = max(0,row['call_minutes'] - 500) * 0.03\n",
    "        extra_messages = max(0,row['number_of_messages'] - 50 )* 0.03\n",
    "        extra_internet = max(0,row['mb_used'] - 15360) /1000 * 10\n",
    "        return base + extra_minutes + extra_messages + extra_internet\n",
    "    elif row['plan'] == 'ultimate':\n",
    "        base = 70\n",
    "        extra_minutes = max(0,row['call_minutes'] - 3000) * 0.01\n",
    "        extra_messages = max(0,row['number_of_messages'] - 1000 )* 0.01\n",
    "        extra_internet = max(0,row['mb_used'] - 30720) /1000 * 7\n",
    "        return base + extra_minutes + extra_messages + extra_internet\n",
    "\n",
    "user_monthly_df['total_due'] = user_monthly_df.apply(total_due, axis=1)\n",
    "\n",
    "user_monthly_df.head()\n"
   ]
  },
  {
   "cell_type": "markdown",
   "metadata": {},
   "source": [
    "<div class=\"alert alert-block alert-success\">\n",
    "<b>Comentario del revisor</b> <a class=\"tocSkip\"></a>\n",
    "¡Excelente trabajo en esta sección! Lograste agregar los datos de forma clara y eficiente, lo que facilita el análisis posterior. Aquí algunos puntos positivos a destacar:\n",
    "\n",
    "1. **Claridad en la fusión de datos:** La forma en que fusionaste los DataFrames por `user_id` y `month` es precisa y bien estructurada. Esto permite obtener un registro único por usuario y mes, lo que es esencial para el análisis de ingresos y comportamiento mensual.\n",
    "\n",
    "2. **Cálculo detallado de ingresos:** La función `total_due` está bien planteada, con reglas claras que reflejan las condiciones de cada plan. Esta lógica demuestra un buen entendimiento del problema y de las necesidades de negocio.\n",
    "\n",
    "3. **Organización del código:** El código está bien organizado y fácil de seguir, con un flujo lógico que facilita la comprensión del análisis. Las muestras de datos que imprimes después de cada paso son muy útiles para verificar que todo está funcionando correctamente.\n",
    "\n",
    "4. **Buena práctica en manejo de límites:** El uso de `max(0, ...)` para evitar valores negativos al calcular los cargos extra es una excelente práctica y asegura que los cálculos sean precisos.\n",
    "\n",
    "</div>\n"
   ]
  },
  {
   "cell_type": "markdown",
   "metadata": {},
   "source": [
    "<div class=\"alert alert-block alert-warning\">\n",
    "<b>Comentario del revisor</b> <a class=\"tocSkip\"></a>\n",
    "Aquí van algunos tips para mejorar esta sección:\n",
    "\n",
    "1. **Optimización del Código:** Aunque `apply()` funciona bien, tiende a ser más lento que las funciones vectorizadas. Puedes optimizar el cálculo de `total_due` usando operaciones vectorizadas en lugar de `apply()`, lo que mejorará el rendimiento cuando se trabaje con grandes volúmenes de datos.\n",
    "   \n",
    "2. **Renombrar Columnas:** En la fusión de DataFrames, usas `drop()` para eliminar columnas duplicadas. En lugar de confiar en la eliminación manual, puedes usar la opción `suffixes` en `merge()` para evitar duplicados y mantener el código más limpio.\n",
    "\n",
    "3. **Uso de `groupby`:** Para los cálculos mensuales de llamadas, mensajes e internet, podrías utilizar `agg()` en lugar de aplicar varias funciones `groupby()` por separado. Esto te permitirá calcular varias métricas en un solo paso, simplificando el código.\n",
    "\n",
    "4. **Comprobaciones Adicionales:** Es una buena idea hacer validaciones después de cada cálculo, como verificar si hay valores nulos o inconsistencias en los datos fusionados. Esto puede evitar errores en etapas posteriores del análisis.\n",
    "</div>\n"
   ]
  },
  {
   "cell_type": "markdown",
   "metadata": {
    "id": "-jtyHzJb0q1I"
   },
   "source": [
    "## Estudia el comportamiento de usuario"
   ]
  },
  {
   "cell_type": "markdown",
   "metadata": {
    "id": "AxU3Y0N70q1J"
   },
   "source": [
    "[Calcula algunas estadísticas descriptivas para los datos agregados y fusionados que nos sean útiles y que muestren un panorama general captado por los datos. Dibuja gráficos útiles para facilitar la comprensión. Dado que la tarea principal es comparar las tarifas y decidir cuál es más rentable, las estadísticas y gráficas deben calcularse por tarifa.]\n",
    "\n",
    "[En los comentarios hallarás pistas relevantes para las llamadas, pero no las hay para los mensajes e Internet. Sin embargo, el principio del estudio estadístico que se aplica para ellos es el mismo que para las llamadas.]"
   ]
  },
  {
   "cell_type": "markdown",
   "metadata": {
    "id": "vtW4CJEe0q1J"
   },
   "source": [
    "### Llamadas"
   ]
  },
  {
   "cell_type": "code",
   "execution_count": 31,
   "metadata": {
    "id": "Jf5v5--k0q1J"
   },
   "outputs": [
    {
     "name": "stdout",
     "output_type": "stream",
     "text": [
      "        plan  month  call_minutes\n",
      "0       surf      1    620.930833\n",
      "1       surf      2    473.899762\n",
      "2       surf      3    456.520301\n",
      "3       surf      4    467.926360\n",
      "4       surf      5    446.422378\n",
      "5       surf      6    452.088981\n",
      "6       surf      7    447.319219\n",
      "7       surf      8    444.194293\n",
      "8       surf      9    441.729081\n",
      "9       surf     10    441.071562\n",
      "10      surf     11    440.707486\n",
      "11      surf     12    441.785026\n",
      "12  ultimate      1    519.374444\n",
      "13  ultimate      2    465.555100\n",
      "14  ultimate      3    385.842729\n",
      "15  ultimate      4    419.907077\n",
      "16  ultimate      5    410.200790\n",
      "17  ultimate      6    423.735599\n",
      "18  ultimate      7    413.074801\n",
      "19  ultimate      8    419.108968\n",
      "20  ultimate      9    420.883518\n",
      "21  ultimate     10    417.929606\n",
      "22  ultimate     11    417.656312\n",
      "23  ultimate     12    417.557432\n"
     ]
    },
    {
     "data": {
      "image/png": "[encoded data removed]",
      "text/plain": [
       "<Figure size 640x480 with 1 Axes>"
      ]
     },
     "metadata": {},
     "output_type": "display_data"
    }
   ],
   "source": [
    "# Compara la duración promedio de llamadas por cada plan y por cada mes. Traza un gráfico de barras para visualizarla.\n",
    "avg_calls_per_plan_month = user_monthly_df.groupby(['plan', 'month'])['call_minutes'].mean().reset_index()\n",
    "print(avg_calls_per_plan_month)\n",
    "\n",
    "for plan in avg_calls_per_plan_month['plan'].unique():\n",
    "    plan_data = avg_calls_per_plan_month[avg_calls_per_plan_month['plan'] == plan]\n",
    "    plt.bar(plan_data['month'], plan_data['call_minutes'], label=plan, alpha = 0.5)\n",
    "\n",
    "plt.title('Promedio de minutos de llamada por mes y plan')\n",
    "plt.xlabel('Mes')\n",
    "plt.ylabel('Promedio de minutos')\n",
    "plt.xticks(rotation=45) \n",
    "plt.legend(title='Plan')\n",
    "\n",
    "\n",
    "plt.show()\n",
    "\n",
    "\n"
   ]
  },
  {
   "cell_type": "code",
   "execution_count": 32,
   "metadata": {
    "id": "QoLqW1S_0q1J"
   },
   "outputs": [
    {
     "data": {
      "image/png": "[encoded data removed]",
      "text/plain": [
       "<Figure size 640x480 with 1 Axes>"
      ]
     },
     "metadata": {},
     "output_type": "display_data"
    }
   ],
   "source": [
    "# Compara el número de minutos mensuales que necesitan los usuarios de cada plan. Traza un histograma.\n",
    "\n",
    "surf_call_minutes = user_monthly_df[user_monthly_df['plan'] == 'surf']['call_minutes']\n",
    "ultimate_call_minutes = user_monthly_df[user_monthly_df['plan'] == 'ultimate']['call_minutes']\n",
    "\n",
    "\n",
    "plt.hist(surf_call_minutes, alpha=0.5, label='Surf Plan', color='blue')\n",
    "\n",
    "plt.hist(ultimate_call_minutes, alpha=0.5, label='Ultimate Plan', color='orange')\n",
    "\n",
    "plt.title('Distribución de minutos de llamadas por plan y mes')\n",
    "plt.xlabel('Minutos de llamada')\n",
    "plt.ylabel('Frequencia')\n",
    "plt.legend(title='Plan')\n",
    "\n",
    "plt.show()"
   ]
  },
  {
   "cell_type": "markdown",
   "metadata": {
    "id": "bLS9T8OH0q1K"
   },
   "source": [
    "[Calcula la media y la variable de la duración de las llamadas para averiguar si los usuarios de los distintos planes se comportan de forma diferente al realizar sus llamadas.]"
   ]
  },
  {
   "cell_type": "code",
   "execution_count": 33,
   "metadata": {
    "id": "oSndbAnt0q1K"
   },
   "outputs": [
    {
     "name": "stdout",
     "output_type": "stream",
     "text": [
      "La media de minutos utilizados al mes por los usuarios del plan surf es 447.3255798274286\n",
      "La varianza de los minutos utilizados al mes por usuarios surf es de:  46077.915765000296\n",
      "La media de minutos utilizados al mes por los usuarios del plan ultimate es 420.28757931685675\n",
      "La varianza de los minutos utilizados al mes por usuarios ultimate es de:  51083.7196206861\n"
     ]
    }
   ],
   "source": [
    "print('La media de minutos utilizados al mes por los usuarios del plan surf es', surf_call_minutes.mean())\n",
    "\n",
    "\n",
    "print('La varianza de los minutos utilizados al mes por usuarios surf es de: ', np.var(surf_call_minutes))\n",
    "\n",
    "print('La media de minutos utilizados al mes por los usuarios del plan ultimate es', ultimate_call_minutes.mean())\n",
    "\n",
    "\n",
    "print('La varianza de los minutos utilizados al mes por usuarios ultimate es de: ', np.var(ultimate_call_minutes))\n"
   ]
  },
  {
   "cell_type": "markdown",
   "metadata": {
    "id": "r627zBO50q1K"
   },
   "source": [
    "El plan surf incluye 500 minutos de llamadas, el promedio de uso mensual para este plan es de 447.33 minutos, por lo que los clientes estan utilizando la mayoría de sus minutos disponibles, o aún más. Esto lo podemos ver en el histograma de arriba, ya que hay muchos usuarios del plan surf que se encuentran en el lado derecho de la distribución, indicando que con frecuencia utilizan más de los 500 minutos.\n",
    "\n",
    "El plan ultimate incluye 3,000 minutos de llamadas, sin embargo, el promedio de uso no cambia mucho rsi lo comparamos con el plan surf. Aqui podemos ver que el promedio de minutos utilizados al mes es un poco más bajo, en 420.23 minutos.\n",
    "\n",
    "También es importante considerar la cantidad de usuarios que tienen un plan u el otro, ya que puede afectar la apariencia de nuestros histogramas. Sin embargo vemos que los valores con mayor frecuencia en ambos casos se encuentran alrededor de los 400 minutos."
   ]
  },
  {
   "cell_type": "code",
   "execution_count": 34,
   "metadata": {
    "id": "nZzoRUKc0q1K"
   },
   "outputs": [
    {
     "data": {
      "text/plain": [
       "Text(0.5, 1.0, 'Distribución de los minutos de llamadas de usuarios de Surf')"
      ]
     },
     "execution_count": 34,
     "metadata": {},
     "output_type": "execute_result"
    },
    {
     "data": {
      "image/png": "[encoded data removed]",
      "text/plain": [
       "<Figure size 640x480 with 1 Axes>"
      ]
     },
     "metadata": {},
     "output_type": "display_data"
    }
   ],
   "source": [
    "# Traza un diagrama de caja para visualizar la distribución de la duración mensual de llamadas\n",
    "\n",
    "sns.boxplot(surf_call_minutes).set_title('Distribución de los minutos de llamadas de usuarios de Surf')\n"
   ]
  },
  {
   "cell_type": "markdown",
   "metadata": {},
   "source": [
    "Podemos ver en el diagrama de caja que el 50% de los datos se encuentran por debajo de los 500 minutos al mes que incluye el plan. También podemos ver que hay muchos valores atípicos de más de 1000 minutos, lo que puede dar una explicación de por qué se eleva el valor de la media y la varianza."
   ]
  },
  {
   "cell_type": "code",
   "execution_count": 35,
   "metadata": {},
   "outputs": [
    {
     "data": {
      "text/plain": [
       "Text(0.5, 1.0, 'Distribución de los minutos de llamadas de usuarios de Ultimate')"
      ]
     },
     "execution_count": 35,
     "metadata": {},
     "output_type": "execute_result"
    },
    {
     "data": {
      "image/png": "[encoded data removed]",
      "text/plain": [
       "<Figure size 640x480 with 1 Axes>"
      ]
     },
     "metadata": {},
     "output_type": "display_data"
    }
   ],
   "source": [
    "sns.boxplot(ultimate_call_minutes).set_title('Distribución de los minutos de llamadas de usuarios de Ultimate')\n"
   ]
  },
  {
   "cell_type": "markdown",
   "metadata": {},
   "source": [
    "En este otro diagrama, para el plan ultimate, podemos ver que la mediana es un poco más elevada que en el plan surf. La caja es un poco más gruesa y también tenemos valores atípicos que pueden elevar el valor de la media y la varianza. Sin embargo, ya que este plan incluye 3,000 minutos, ningún usuario está utilizando todos los minutos de su plan."
   ]
  },
  {
   "cell_type": "markdown",
   "metadata": {
    "id": "8idKy8Wh0q1L"
   },
   "source": [
    "### Mensajes"
   ]
  },
  {
   "cell_type": "code",
   "execution_count": 36,
   "metadata": {
    "id": "NXLxiTit0q1L",
    "scrolled": true
   },
   "outputs": [
    {
     "name": "stdout",
     "output_type": "stream",
     "text": [
      "        plan  month  number_of_messages\n",
      "0       surf      1           56.000000\n",
      "1       surf      2           35.873369\n",
      "2       surf      3           31.168494\n",
      "3       surf      4           36.069636\n",
      "4       surf      5           37.029162\n",
      "5       surf      6           36.360278\n",
      "6       surf      7           36.642653\n",
      "7       surf      8           37.188095\n",
      "8       surf      9           37.409008\n",
      "9       surf     10           37.500035\n",
      "10      surf     11           37.576044\n",
      "11      surf     12           37.995314\n",
      "12  ultimate      1           36.805556\n",
      "13  ultimate      2           34.540344\n",
      "14  ultimate      3           35.653059\n",
      "15  ultimate      4           45.397074\n",
      "16  ultimate      5           44.694356\n",
      "17  ultimate      6           44.900928\n",
      "18  ultimate      7           45.424522\n",
      "19  ultimate      8           45.599962\n",
      "20  ultimate      9           45.908274\n",
      "21  ultimate     10           46.742000\n",
      "22  ultimate     11           46.820729\n",
      "23  ultimate     12           46.826152\n"
     ]
    },
    {
     "data": {
      "image/png": "[encoded data removed]",
      "text/plain": [
       "<Figure size 640x480 with 1 Axes>"
      ]
     },
     "metadata": {},
     "output_type": "display_data"
    }
   ],
   "source": [
    "# Comprara el número de mensajes que tienden a enviar cada mes los usuarios de cada plan\n",
    "avg_messages_per_plan_month = user_monthly_df.groupby(['plan', 'month'])['number_of_messages'].mean().reset_index()\n",
    "print(avg_messages_per_plan_month)\n",
    "\n",
    "for plan in avg_messages_per_plan_month['plan'].unique():\n",
    "    plan_data = avg_messages_per_plan_month[avg_messages_per_plan_month['plan'] == plan]\n",
    "    plt.bar(plan_data['month'], plan_data['number_of_messages'], label=plan, alpha = 0.5)\n",
    "\n",
    "plt.title('Promedio de mensajes enviados por mes y plan')\n",
    "plt.xlabel('Mes')\n",
    "plt.ylabel('Mensajes')\n",
    "plt.xticks(rotation=45) \n",
    "plt.legend(title='Plan')\n",
    "\n",
    "\n",
    "plt.show()\n"
   ]
  },
  {
   "cell_type": "code",
   "execution_count": 37,
   "metadata": {
    "id": "GRI_R7xF0q1L"
   },
   "outputs": [
    {
     "data": {
      "image/png": "[encoded data removed]",
      "text/plain": [
       "<Figure size 640x480 with 1 Axes>"
      ]
     },
     "metadata": {},
     "output_type": "display_data"
    }
   ],
   "source": [
    "\n",
    "surf_messages = user_monthly_df[user_monthly_df['plan'] == 'surf']['number_of_messages']\n",
    "ultimate_messages = user_monthly_df[user_monthly_df['plan'] == 'ultimate']['number_of_messages']\n",
    "\n",
    "\n",
    "plt.hist(surf_messages, alpha=0.5, label='Surf Plan', color='blue')\n",
    "\n",
    "plt.hist(ultimate_messages, alpha=0.5, label='Ultimate Plan', color='orange')\n",
    "\n",
    "plt.title('Distribución de mensajes por plan y mes')\n",
    "plt.xlabel('mensajes')\n",
    "plt.ylabel('Frequencia')\n",
    "plt.legend(title='Plan')\n",
    "\n",
    "plt.show()"
   ]
  },
  {
   "cell_type": "code",
   "execution_count": 38,
   "metadata": {
    "id": "dtFwCGAp0q1M"
   },
   "outputs": [
    {
     "name": "stdout",
     "output_type": "stream",
     "text": [
      "La media de mensajes enviados al mes por los usuarios del plan surf es 36.98408072742466\n",
      "La varianza de los mensajes enviados al mes por usuarios surf es de:  853.5338757330434\n",
      "La media de mensajes enviados al mes por los usuarios del plan ultimate es 44.95224263569502\n",
      "La varianza de los mensajes enviados al mes por usuarios ultimate es de:  955.9734023139309\n"
     ]
    }
   ],
   "source": [
    "print('La media de mensajes enviados al mes por los usuarios del plan surf es', surf_messages.mean())\n",
    "\n",
    "\n",
    "print('La varianza de los mensajes enviados al mes por usuarios surf es de: ', np.var(surf_messages))\n",
    "\n",
    "print('La media de mensajes enviados al mes por los usuarios del plan ultimate es', ultimate_messages.mean())\n",
    "\n",
    "\n",
    "print('La varianza de los mensajes enviados al mes por usuarios ultimate es de: ', np.var(ultimate_messages))\n"
   ]
  },
  {
   "cell_type": "code",
   "execution_count": 39,
   "metadata": {},
   "outputs": [
    {
     "data": {
      "text/plain": [
       "Text(0.5, 1.0, 'Distribución de los mensajes de usuarios de Surf')"
      ]
     },
     "execution_count": 39,
     "metadata": {},
     "output_type": "execute_result"
    },
    {
     "data": {
      "image/png": "[encoded data removed]",
      "text/plain": [
       "<Figure size 640x480 with 1 Axes>"
      ]
     },
     "metadata": {},
     "output_type": "display_data"
    }
   ],
   "source": [
    "sns.boxplot(surf_messages).set_title('Distribución de los mensajes de usuarios de Surf')"
   ]
  },
  {
   "cell_type": "code",
   "execution_count": 40,
   "metadata": {},
   "outputs": [
    {
     "data": {
      "text/plain": [
       "Text(0.5, 1.0, 'Distribución de los mensajes de usuarios de Ultimate')"
      ]
     },
     "execution_count": 40,
     "metadata": {},
     "output_type": "execute_result"
    },
    {
     "data": {
      "image/png": "[encoded data removed]",
      "text/plain": [
       "<Figure size 640x480 with 1 Axes>"
      ]
     },
     "metadata": {},
     "output_type": "display_data"
    }
   ],
   "source": [
    "sns.boxplot(ultimate_messages).set_title('Distribución de los mensajes de usuarios de Ultimate')\n"
   ]
  },
  {
   "cell_type": "markdown",
   "metadata": {
    "id": "390SSL480q1M"
   },
   "source": [
    "El plan surf incluye 50 sms, podemos ver que el promedio de mensajes enviados al mes por usuarios de surf es de 37, y en el diagrama de caja podemos ver que el tercer quartil coincide con el 50, lo que nos quiere indicar que el 75% de nuestros usuarios utilizan 50 mensajes o menos al mes. En el histograma podemos ver que los valores con más frecuencia son los que se encuentran entre 25-50 mensajes al mes para éste plan. Sin embargo también podemos observar que hay valores que son atípicos y se salen del rango, es probable que éstos usarios puedan preferir cambiar al plan ultimate para que cumplan con su uso regular y tengan mayor nivel de saritisfacción. Estos valores fuera de rango son los que elevan el valor de la varianza.\n",
    "\n",
    "El plan ultimate incluye 1,000 sms y podemos ver que no hay usuarios que utilizan todos los mensajes de su plan. Sin embargo, sí utilizan más mensajes que los usuarios de surf. Esto se ve claramente en el primer gráfico de la sección en la que las barras para ultimate son consistentemente más altas que las de surf. En estos datos la media es más alta, siendo de 45 mensajes promedio al mes, y también encontramos una varianza más alta ya que hay un rango más grande de datos."
   ]
  },
  {
   "cell_type": "markdown",
   "metadata": {
    "id": "42YSypXz0q1M"
   },
   "source": [
    "### Internet"
   ]
  },
  {
   "cell_type": "code",
   "execution_count": 41,
   "metadata": {
    "id": "lSuKPtjh0q1M"
   },
   "outputs": [
    {
     "name": "stdout",
     "output_type": "stream",
     "text": [
      "        plan  month       mb_used\n",
      "0       surf      1  13801.314167\n",
      "1       surf      2  15975.103474\n",
      "2       surf      3  16513.759094\n",
      "3       surf      4  16644.322870\n",
      "4       surf      5  16641.907188\n",
      "5       surf      6  16853.886434\n",
      "6       surf      7  16829.197868\n",
      "7       surf      8  16928.087422\n",
      "8       surf      9  16898.012963\n",
      "9       surf     10  16870.173307\n",
      "10      surf     11  16906.121779\n",
      "11      surf     12  16898.389800\n",
      "12  ultimate      1  19512.131389\n",
      "13  ultimate      2  19735.772752\n",
      "14  ultimate      3  20975.734815\n",
      "15  ultimate      4  20186.535571\n",
      "16  ultimate      5  19860.160241\n",
      "17  ultimate      6  19142.322824\n",
      "18  ultimate      7  18921.458679\n",
      "19  ultimate      8  18733.765681\n",
      "20  ultimate      9  18714.964674\n",
      "21  ultimate     10  18723.593612\n",
      "22  ultimate     11  18745.652926\n",
      "23  ultimate     12  18745.670211\n"
     ]
    },
    {
     "data": {
      "image/png": "[encoded data removed]",
      "text/plain": [
       "<Figure size 640x480 with 1 Axes>"
      ]
     },
     "metadata": {},
     "output_type": "display_data"
    }
   ],
   "source": [
    "avg_internet_per_plan_month = user_monthly_df.groupby(['plan', 'month'])['mb_used'].mean().reset_index()\n",
    "print(avg_internet_per_plan_month)\n",
    "\n",
    "for plan in avg_internet_per_plan_month['plan'].unique():\n",
    "    plan_data = avg_internet_per_plan_month[avg_internet_per_plan_month['plan'] == plan]\n",
    "    plt.bar(plan_data['month'], plan_data['mb_used'], label=plan, alpha = 0.5)\n",
    "\n",
    "plt.title('Promedio de mb usados por mes y plan')\n",
    "plt.xlabel('Mes')\n",
    "plt.ylabel('MB usados')\n",
    "plt.xticks(rotation=45) \n",
    "plt.legend(title='Plan')\n",
    "\n",
    "\n",
    "plt.show()\n"
   ]
  },
  {
   "cell_type": "code",
   "execution_count": 42,
   "metadata": {
    "id": "wnh8jYXi0q1N"
   },
   "outputs": [
    {
     "data": {
      "image/png": "[encoded data removed]",
      "text/plain": [
       "<Figure size 640x480 with 1 Axes>"
      ]
     },
     "metadata": {},
     "output_type": "display_data"
    }
   ],
   "source": [
    "surf_internet = user_monthly_df[user_monthly_df['plan'] == 'surf']['mb_used']\n",
    "ultimate_internet = user_monthly_df[user_monthly_df['plan'] == 'ultimate']['mb_used']\n",
    "\n",
    "\n",
    "plt.hist(surf_internet, alpha=0.5, label='Surf Plan', color='blue')\n",
    "\n",
    "plt.hist(ultimate_internet, alpha=0.5, label='Ultimate Plan', color='orange')\n",
    "\n",
    "plt.title('Distribución de uso de internet por plan y mes')\n",
    "plt.xlabel('MB')\n",
    "plt.ylabel('Frequencia')\n",
    "plt.legend(title='Plan')\n",
    "\n",
    "plt.show()"
   ]
  },
  {
   "cell_type": "code",
   "execution_count": 43,
   "metadata": {
    "id": "5VlyJ9ry0q1N"
   },
   "outputs": [
    {
     "name": "stdout",
     "output_type": "stream",
     "text": [
      "La media de mb usados al mes por los usuarios del plan surf es 16808.58100917722\n",
      "La varianza de los mb usados al mes por usuarios surf es de:  50146163.8886085\n",
      "La media de mb usados al mes por los usuarios del plan ultimate es 19107.868789319695\n",
      "La varianza de los mb usados al mes por usuarios ultimate es de:  60541086.77931137\n"
     ]
    }
   ],
   "source": [
    "print('La media de mb usados al mes por los usuarios del plan surf es', surf_internet.mean())\n",
    "\n",
    "print('La varianza de los mb usados al mes por usuarios surf es de: ', np.var(surf_internet))\n",
    "\n",
    "print('La media de mb usados al mes por los usuarios del plan ultimate es', ultimate_internet.mean())\n",
    "\n",
    "print('La varianza de los mb usados al mes por usuarios ultimate es de: ', np.var(ultimate_internet))\n"
   ]
  },
  {
   "cell_type": "code",
   "execution_count": 44,
   "metadata": {},
   "outputs": [
    {
     "data": {
      "text/plain": [
       "Text(0.5, 1.0, 'Distribución de los mb usados por usuarios de Surf')"
      ]
     },
     "execution_count": 44,
     "metadata": {},
     "output_type": "execute_result"
    },
    {
     "data": {
      "image/png": "[encoded data removed]",
      "text/plain": [
       "<Figure size 640x480 with 1 Axes>"
      ]
     },
     "metadata": {},
     "output_type": "display_data"
    }
   ],
   "source": [
    "sns.boxplot(surf_internet).set_title('Distribución de los mb usados por usuarios de Surf')"
   ]
  },
  {
   "cell_type": "code",
   "execution_count": 45,
   "metadata": {},
   "outputs": [
    {
     "data": {
      "text/plain": [
       "Text(0.5, 1.0, 'Distribución de los mb usados por usuarios de Ultimate')"
      ]
     },
     "execution_count": 45,
     "metadata": {},
     "output_type": "execute_result"
    },
    {
     "data": {
      "image/png": "[encoded data removed]",
      "text/plain": [
       "<Figure size 640x480 with 1 Axes>"
      ]
     },
     "metadata": {},
     "output_type": "display_data"
    }
   ],
   "source": [
    "sns.boxplot(ultimate_internet).set_title('Distribución de los mb usados por usuarios de Ultimate')"
   ]
  },
  {
   "cell_type": "markdown",
   "metadata": {
    "id": "UN9zwuMP0q1N"
   },
   "source": [
    "El plan de surf incluye 15 GB, lo que es equivalente a 15360 mb de datos. El promedio de uso de datos para usuarios surf es de 16808, por lo que el promedio se excede casi por 1 gb de lo incluido en el plan. En el gráfico de barras podemos ver que los clientes de surf por lo general utilizan en promedio más del internet incluido en su plan, lo que resulta en cuotas extras. Podemos ver en el histograma que la frecuencia más alta es la del uso de alrededor de 20,000 mb, lo cual también excede lo incluido en el plan. También hay que tomar en cuenta que tenemos valores muy atípicos en este conjunto, como podemos observar en el diagrama de caja. Esto hace que la varianza se eleve mucho. En cuanto a la media, esta se ve afectada tanto por valores atípicos más altos y más bajos, y el valor de la mediana lo encontramos alrededor de los 15,000 mb. Estos datos nos ayudan a plantear la pregunta de por qué si los clientes se exceden del plan en muchas ocaciones, prefieren pagar las cuotas extra a contratar el siguiente plan.\n",
    "\n",
    "El plan ultimate incluye 30 GB que son 30720 mb. En promedio se utilizan 19107 mb al mes, lo cual es por debajo de lo incuido en el plan. En la gráfica de barras podemos observar que se mantiene alrededor de los 20,000 mb al mes. En el histograma podemos reiterar esto, ya que la mayor frecuencia se da en los valores de entre 15,000 a 20,000 mb mensuales, aunque en el histograma también podemos observar una mayor frecuencia en valores de hasta más de 40,000 mb mensuales, lo que sí excede el plan. Estos valores también los vemos como valores atípicos en el diagrama de caja y se reflejan también en el valor de la varianza. En el diagrama de caja podemos ver que la mayor parte de los usuarios se encuentran dentro del límite establecido, ya que el límite superior o Q4 apenas supera los 30,00 mb. Sin embargo sí encontramos usuarios que exceden el límite del plan y que tienen cargos extras.\n",
    "\n",
    "\n"
   ]
  },
  {
   "cell_type": "markdown",
   "metadata": {
    "id": "tCijq3260q1N"
   },
   "source": [
    "## Ingreso"
   ]
  },
  {
   "cell_type": "markdown",
   "metadata": {
    "id": "9nq5IAcy0q1O"
   },
   "source": [
    "[Del mismo modo que has estudiado el comportamiento de los usuarios, describe estadísticamente los ingresos de los planes.]"
   ]
  },
  {
   "cell_type": "code",
   "execution_count": 46,
   "metadata": {
    "id": "tz-dq_V00q1O"
   },
   "outputs": [
    {
     "name": "stdout",
     "output_type": "stream",
     "text": [
      "        plan  month  total_due\n",
      "0       surf      1  28.851183\n",
      "1       surf      2  40.686089\n",
      "2       surf      3  51.967956\n",
      "3       surf      4  53.288089\n",
      "4       surf      5  54.021068\n",
      "5       surf      6  56.126001\n",
      "6       surf      7  56.154326\n",
      "7       surf      8  57.039384\n",
      "8       surf      9  56.881962\n",
      "9       surf     10  56.818048\n",
      "10      surf     11  57.114465\n",
      "11      surf     12  57.080252\n",
      "12  ultimate      1  70.046851\n",
      "13  ultimate      2  70.058357\n",
      "14  ultimate      3  76.096341\n",
      "15  ultimate      4  74.915011\n",
      "16  ultimate      5  74.465517\n",
      "17  ultimate      6  73.651189\n",
      "18  ultimate      7  73.357696\n",
      "19  ultimate      8  73.213548\n",
      "20  ultimate      9  73.164114\n",
      "21  ultimate     10  73.248929\n",
      "22  ultimate     11  73.279830\n",
      "23  ultimate     12  73.278106\n"
     ]
    },
    {
     "data": {
      "image/png": "[encoded data removed]",
      "text/plain": [
       "<Figure size 640x480 with 1 Axes>"
      ]
     },
     "metadata": {},
     "output_type": "display_data"
    }
   ],
   "source": [
    "avg_income_per_plan_month = user_monthly_df.groupby(['plan', 'month'])['total_due'].mean().reset_index()\n",
    "print(avg_income_per_plan_month)\n",
    "\n",
    "for plan in avg_income_per_plan_month['plan'].unique():\n",
    "    plan_data = avg_income_per_plan_month[avg_income_per_plan_month['plan'] == plan]\n",
    "    plt.bar(plan_data['month'], plan_data['total_due'], label=plan, alpha = 0.5)\n",
    "\n",
    "plt.title('Promedio de ingreso por mes y plan')\n",
    "plt.xlabel('Mes')\n",
    "plt.ylabel('Promedio de ingreso')\n",
    "plt.xticks(rotation=45) \n",
    "plt.legend(title='Plan')\n",
    "\n",
    "\n",
    "plt.show()"
   ]
  },
  {
   "cell_type": "code",
   "execution_count": 47,
   "metadata": {
    "id": "0Y1v8ZUz0q1P"
   },
   "outputs": [
    {
     "data": {
      "image/png": "[encoded data removed]",
      "text/plain": [
       "<Figure size 640x480 with 1 Axes>"
      ]
     },
     "metadata": {},
     "output_type": "display_data"
    }
   ],
   "source": [
    "surf_income = user_monthly_df[user_monthly_df['plan'] == 'surf']['total_due']\n",
    "ultimate_income = user_monthly_df[user_monthly_df['plan'] == 'ultimate']['total_due']\n",
    "\n",
    "\n",
    "plt.hist(surf_income, bins = 15, alpha=0.5, label='Surf Plan', color='blue')\n",
    "\n",
    "plt.hist(ultimate_income, bins = 15, alpha=0.5, label='Ultimate Plan', color='orange')\n",
    "\n",
    "plt.title('Distribución de uso de ingresos por plan y mes')\n",
    "plt.xlabel('Ingreso')\n",
    "plt.ylabel('Frequencia')\n",
    "plt.legend(title='Plan')\n",
    "\n",
    "plt.show()"
   ]
  },
  {
   "cell_type": "code",
   "execution_count": 48,
   "metadata": {
    "id": "bYmwxyVh0q1P"
   },
   "outputs": [
    {
     "name": "stdout",
     "output_type": "stream",
     "text": [
      "La media de ingreso al mes por los usuarios del plan surf es 55.77045028287095\n",
      "La el valor máximo de ingreso del plan surf es 594.3530999999999\n",
      "La el valor ingresos totales del plan surf es 26429114.454999994\n",
      "La varianza de los ingreso al mes por usuarios surf es de:  2363.3170348067083\n",
      "La media de ingreso al mes por los usuarios del plan ultimate es 73.44049600432734\n",
      "La el valor máximo de ingreso del plan ultimate es 181.1273099999999\n",
      "La el valor ingresos totales del plan ultimate es 17344662.26283\n",
      "La varianza de los ingreso al mes por usuarios ultimate es de:  200.22504922496793\n"
     ]
    }
   ],
   "source": [
    "print('La media de ingreso al mes por los usuarios del plan surf es', surf_income.mean())\n",
    "print('La el valor máximo de ingreso del plan surf es', surf_income.max())\n",
    "print('La el valor ingresos totales del plan surf es', surf_income.sum())\n",
    "\n",
    "\n",
    "print('La varianza de los ingreso al mes por usuarios surf es de: ', np.var(surf_income))\n",
    "\n",
    "print('La media de ingreso al mes por los usuarios del plan ultimate es', ultimate_income.mean())\n",
    "print('La el valor máximo de ingreso del plan ultimate es', ultimate_income.max())\n",
    "print('La el valor ingresos totales del plan ultimate es', ultimate_income.sum())\n",
    "\n",
    "print('La varianza de los ingreso al mes por usuarios ultimate es de: ', np.var(ultimate_income))"
   ]
  },
  {
   "cell_type": "code",
   "execution_count": 49,
   "metadata": {},
   "outputs": [
    {
     "data": {
      "text/plain": [
       "Text(0.5, 1.0, 'Distribución de ingresos por usuarios de Surf')"
      ]
     },
     "execution_count": 49,
     "metadata": {},
     "output_type": "execute_result"
    },
    {
     "data": {
      "image/png": "[encoded data removed]",
      "text/plain": [
       "<Figure size 640x480 with 1 Axes>"
      ]
     },
     "metadata": {},
     "output_type": "display_data"
    }
   ],
   "source": [
    "sns.boxplot(surf_income).set_title('Distribución de ingresos por usuarios de Surf')"
   ]
  },
  {
   "cell_type": "code",
   "execution_count": 50,
   "metadata": {},
   "outputs": [
    {
     "data": {
      "text/plain": [
       "Text(0.5, 1.0, 'Distribución de ingresos por usuarios de Ultimate')"
      ]
     },
     "execution_count": 50,
     "metadata": {},
     "output_type": "execute_result"
    },
    {
     "data": {
      "image/png": "[encoded data removed]",
      "text/plain": [
       "<Figure size 640x480 with 1 Axes>"
      ]
     },
     "metadata": {},
     "output_type": "display_data"
    }
   ],
   "source": [
    "sns.boxplot(ultimate_income).set_title('Distribución de ingresos por usuarios de Ultimate')"
   ]
  },
  {
   "cell_type": "markdown",
   "metadata": {
    "id": "KAFidcXZ0q1P"
   },
   "source": [
    "El plan surf cuesta 20 al mes, sin embargo vemos que en promedio los usuarios pagan $55 al mes por los cargos extras. A partir de los análisis anteriores podemos pensar que la mayor parte de los extras vienen de consumo de internet, ya que tanto en llamadas como mensajes los usuarios suelen quedarse dentro de los límites del plan. En el primer gráfico de barras podemos ver que en ningun mes el promedio de ingreso por el plan surf es de 20 o menor, lo que nos indica que cada mes se están generando ingresos de los servicios extras. En el histograma podemos ver que con mayor frecuencia los usuarios de surf pagan menos de 70 al mes, por lo que a pesar de pagar consumo extra en cualquiera de los servicios, siguen prefiriendo este plan. Sin embargo también vemos que hay muchos usuarios de este plan que pagan por encima incluso del plan ultimate por su consumo extra, siendo el valor máximo 594. En el gráfico de caja podemos ver que la mayoría de los clientes pagan menos de 150, y la mediana se encuentra alrededor de 20, el valor base del plan. La el valor ingresos totales del plan surf fue de 26,429,114.45.\n",
    "\n",
    "El plan ultimate cuesta $70, y la mayor parte de los clientes se mantienen dentro de los parámetros de su plan por lo que el valor con más frecuencia (como podemos ver en el histograma) es de 70, y son menos clientes los que pagan cargos extras comparados con los usuarios del plan surf. El promedio de pago de los clientes ultimates es de 73, y vemos en el diagrama de caja que hay valores atípicos que pueden elevar esta media, ya que en el mismo podemos ver que casi todos los valores se encuentran en una línea recta sobre el 70. La el valor ingresos totales del plan ultimate es 17,344,662.26.\n"
   ]
  },
  {
   "cell_type": "markdown",
   "metadata": {},
   "source": [
    "<div class=\"alert alert-block alert-success\">\n",
    "<b>Comentario del revisor</b> <a class=“tocSkip”></a>\n",
    "\n",
    "¡Felicidades por completar esta sección con éxito! Has hecho un gran trabajo. Los valores esperados para esta sección se han cumplido con éxito gracias a tu dedicación y esfuerzo. Continúa así y sigue aprendiendo, ¡estoy seguro de que tendrás éxito en todo lo que te propongas!</div>\n"
   ]
  },
  {
   "cell_type": "markdown",
   "metadata": {
    "id": "ajJ7VKeI0q1Q"
   },
   "source": [
    "## Prueba las hipótesis estadísticas"
   ]
  },
  {
   "cell_type": "markdown",
   "metadata": {
    "id": "AdXAZ-yL0q1Q"
   },
   "source": [
    "\n",
    "Hipótesis: Los ingresos promedio de los usuarios de los planes \"Ultimate\" y \"Surf\" son diferentes.\n",
    "\n",
    "\n",
    "Hipótesis nula: Los ingresos promedio de los usuarios de los planes \"Ultimate\" y \"Surf\" son iguales.\n"
   ]
  },
  {
   "cell_type": "markdown",
   "metadata": {
    "id": "IQwa_hsh0q1Q"
   },
   "source": [
    "Vamos a realizar una prueba t de dos muestras con varianzas diferentes, las cuales ya se calcularon anteriormente"
   ]
  },
  {
   "cell_type": "code",
   "execution_count": 51,
   "metadata": {
    "id": "nFoPNlPq0q1R"
   },
   "outputs": [
    {
     "name": "stdout",
     "output_type": "stream",
     "text": [
      "valor p: 0.0\n",
      "Rechazamos la hipótesis nula\n"
     ]
    }
   ],
   "source": [
    "# Prueba las hipótesis\n",
    "    \n",
    "    \n",
    "results = st.ttest_ind(ultimate_income , surf_income, equal_var = False)\n",
    "\n",
    "print('valor p:', results.pvalue)\n",
    "\n",
    "alfa = 0.05\n",
    "if ( results.pvalue < alfa) :\n",
    "    print(\"Rechazamos la hipótesis nula\")\n",
    "else:\n",
    "    print(\"No podemos rechazar la hipótesis nula\")"
   ]
  },
  {
   "cell_type": "markdown",
   "metadata": {
    "id": "tCcAruM60q1R"
   },
   "source": [
    "\n",
    "Hipótesis: Los ingresos promedio de los usuarios del área NY-NJ y el resto son diferentes.\n",
    "\n",
    "\n",
    "Hipótesis nula:  Los ingresos promedio de los usuarios del área NY-NJ y el resto son iguales.\n"
   ]
  },
  {
   "cell_type": "markdown",
   "metadata": {
    "id": "LsBgitqj0q1R"
   },
   "source": []
  },
  {
   "cell_type": "code",
   "execution_count": 52,
   "metadata": {},
   "outputs": [
    {
     "name": "stdout",
     "output_type": "stream",
     "text": [
      "La varianza de los ingreso al mes por usuarios de NY-NJ es de:  1340.511460059503\n",
      "La varianza de los ingreso al mes por usuarios otras regiones es de:  1761.9463968026294\n",
      "valor p: 0.0\n",
      "Rechazamos la hipótesis nula\n"
     ]
    }
   ],
   "source": [
    "ny_nj_df = users_df[users_df['city'].str.contains('NY-NJ')]\n",
    "ny_nj_df = ny_nj_df.merge(user_monthly_df, on = 'user_id').reset_index()\n",
    "\n",
    "other_regions_df = users_df[~users_df['city'].str.contains('NY-NJ')]\n",
    "other_regions_df = other_regions_df.merge(user_monthly_df, on = 'user_id').reset_index()\n",
    "\n",
    "print('La varianza de los ingreso al mes por usuarios de NY-NJ es de: ', np.var(ny_nj_df['total_due']))\n",
    "print('La varianza de los ingreso al mes por usuarios otras regiones es de: ', np.var(other_regions_df['total_due']))\n",
    "\n",
    "results = st.ttest_ind(ny_nj_df['total_due'] , other_regions_df['total_due'], equal_var = False)\n",
    "\n",
    "print('valor p:', results.pvalue)\n",
    "\n",
    "alfa = 0.05\n",
    "if ( results.pvalue < alfa) :\n",
    "    print(\"Rechazamos la hipótesis nula\")\n",
    "else:\n",
    "    print(\"No podemos rechazar la hipótesis nula\")"
   ]
  },
  {
   "cell_type": "markdown",
   "metadata": {},
   "source": [
    "<div class=\"alert alert-block alert-success\">\n",
    "<b>Comentario del revisor</b> <a class=\"tocSkip\"></a>\n",
    "Muy buen uso de la prueba de hipótesis para comparar los ingresos entre los planes. Has aplicado correctamente la prueba t y presentado las conclusiones de manera clara y concisa.\n",
    "</div>"
   ]
  },
  {
   "cell_type": "markdown",
   "metadata": {},
   "source": [
    "Conclusiones Generales\n",
    "\n",
    "En el previo análisis se puede observar el comportamiento de los clientes de la empresa. Se analizaron los datos conforme al plan que contrataron los usuarios y su comportamiento a lo largo del año. En cuanto a llamadas y mensajes, por lo general las necesidades de los clientes están cubiertas ya que no se suelen exceder de los límites de los planes, sin embargo en el consumo de internet es diferente. Por lo general, vemos que los usuarios del plan surf exceden el internet incluido en su plan, sin embargo cuando analizamos cuánto están pagando por este servicio extra, en promedio es menos que lo que pagarían por subir de categoría al plan ultimate. Esto podría explicar porqué a pesar de consumir extras se quedan con éste plan.\n",
    "\n",
    "En el plan ultimate, la mayor parte de los clientes están conformes con lo que se incluye en su plan, ya que son atípicos los que se exceden de cualquier forma. \n",
    "\n",
    "También se observó que el plan surf genera más ingresos, con un total de 26,429,114.45 mientras que el plan ultimate genera 17,344,662.26. Podemos interpretar que a pesar de que el plan surf es más económico, por el volumen de su venta y el consumo extra que tienen los clientes en el cual el costo es más alto que los extras de ultimete, genera más el plan surf. "
   ]
  },
  {
   "cell_type": "markdown",
   "metadata": {},
   "source": [
    "<div class=\"alert alert-block alert-info\">\n",
    "<b>Comentario del revisor</b> <a class=\"tocSkip\"></a>\n",
    "Al escribir conclusiones finales, consiguiera las siguientes pauta para que reflejen efectivamente tus hallazgos y decisiones. \n",
    "<ul>\n",
    "    <li><b>Resumen de los Hallazgos Clave:</b> Incluye brevemente tus descubrimientos más importantes.</li>\n",
    "    <li><b>Impacto de tus Elecciones de Procesamiento de Datos:</b> Reflexiona sobre cómo tus decisiones influyeron en los resultados.</li>\n",
    "    <li><b>Relación con los Objetivos Iniciales:</b> Vincula tus hallazgos con los objetivos del proyecto.</li>\n",
    "    <li><b>Relevancia de los Hallazgos:</b> Discute la importancia de tus resultados para la empresa o usuarios.</li>\n",
    "    <li><b>Sugerencias y Recomendaciones:</b> Ofrece cualquier consejo basado en tus análisis.</li>\n",
    "    <li><b>Reflexiones Finales:</b> Concluye con tus pensamientos finales y aprendizajes del proyecto.</li>\n",
    "</ul>\n",
    "Recuerda que una conclusión efectiva resume tus hallazgos y proporciona insights y reflexiones sobre su impacto y relevancia. ¡Buena suerte en la etapa final!\n",
    "</div>\n"
   ]
  },
  {
   "cell_type": "markdown",
   "metadata": {},
   "source": [
    "### Comentario Final del Revisor\n",
    "<div class=\"alert alert-block alert-success\">\n",
    "<b>Comentario del revisor</b> <a class=\"tocSkip\"></a>\n",
    "\n",
    "¡Felicidades! Tu proyecto está **aprobado**. Has demostrado un excelente manejo de los datos y has aplicado un análisis sólido para llegar a conclusiones relevantes. A continuación, destaco los puntos positivos y algunas áreas interesantes para seguir investigando:\n",
    "\n",
    "#### Puntos Positivos:\n",
    "- **Carga y preparación de los datos:** Hiciste un gran trabajo al organizar y transformar los datos. La corrección de los tipos de datos y la agrupación de los mismos fue muy precisa.\n",
    "- **Análisis de ingresos y comportamiento de los usuarios:** Tus comparaciones entre los planes y el análisis del consumo de servicios adicionales, especialmente en el uso de internet, fue muy detallado y bien respaldado por visualizaciones.\n",
    "- **Prueba de hipótesis:** Implementaste pruebas estadísticas correctamente y llegaste a conclusiones significativas sobre las diferencias entre los planes.\n",
    "\n",
    "#### Áreas para Seguir Investigando:\n",
    "- **Visualización de datos:** Podrías ampliar el uso de gráficos para explorar más patrones en los datos, como la variabilidad regional en los ingresos o la distribución de usuarios por ciudad.\n",
    "- **Análisis de segmentación de usuarios:** Explora técnicas de **clustering** o **segmentación de mercado** para identificar diferentes perfiles de usuarios, lo cual podría ayudar a la empresa a personalizar sus planes.\n",
    "- **Optimización del código:** Profundiza en el uso de **funciones vectorizadas** en Pandas para optimizar el procesamiento de datos y reducir la complejidad de las funciones `apply`.\n",
    "\n",
    "¡Sigue adelante! Tu progreso es notable y tienes un gran futuro en el análisis de datos. 🚀💪😊\n",
    "</div>\n"
   ]
  }
 ],
 "metadata": {
  "ExecuteTimeLog": [
   {
    "duration": 828,
    "start_time": "2021-11-16T09:21:11.304Z"
   },
   {
    "duration": 893,
    "start_time": "2021-11-16T09:21:17.728Z"
   },
   {
    "duration": 1150,
    "start_time": "2021-11-16T09:21:29.568Z"
   },
   {
    "duration": 3,
    "start_time": "2021-11-16T09:24:14.495Z"
   },
   {
    "duration": 120,
    "start_time": "2021-11-16T09:24:46.630Z"
   },
   {
    "duration": 3,
    "start_time": "2021-11-16T09:28:27.882Z"
   },
   {
    "duration": 4,
    "start_time": "2021-11-16T09:29:54.281Z"
   },
   {
    "duration": 3,
    "start_time": "2021-11-16T09:30:45.936Z"
   },
   {
    "duration": 4,
    "start_time": "2021-11-16T09:31:06.300Z"
   },
   {
    "duration": 113,
    "start_time": "2021-11-16T09:31:37.208Z"
   },
   {
    "duration": 143,
    "start_time": "2021-11-16T09:31:48.656Z"
   },
   {
    "duration": 98,
    "start_time": "2021-11-16T09:31:55.678Z"
   },
   {
    "duration": 3,
    "start_time": "2021-11-16T09:32:08.535Z"
   },
   {
    "duration": 111,
    "start_time": "2021-11-16T09:32:10.120Z"
   },
   {
    "duration": 3,
    "start_time": "2021-11-16T09:32:15.732Z"
   },
   {
    "duration": 4,
    "start_time": "2021-11-16T09:32:29.423Z"
   },
   {
    "duration": 3,
    "start_time": "2021-11-16T10:03:03.074Z"
   },
   {
    "duration": 3,
    "start_time": "2021-11-16T10:10:01.288Z"
   },
   {
    "duration": 3,
    "start_time": "2021-11-16T10:10:46.923Z"
   },
   {
    "duration": 121,
    "start_time": "2021-11-16T10:37:46.494Z"
   },
   {
    "duration": 125,
    "start_time": "2021-11-16T10:38:20.632Z"
   },
   {
    "duration": 112,
    "start_time": "2021-11-16T10:46:53.001Z"
   },
   {
    "duration": 110,
    "start_time": "2021-11-16T10:48:25.775Z"
   },
   {
    "duration": 3,
    "start_time": "2021-11-16T10:50:18.720Z"
   },
   {
    "duration": 4,
    "start_time": "2021-11-16T10:50:37.649Z"
   },
   {
    "duration": 2,
    "start_time": "2021-11-16T10:50:51.884Z"
   },
   {
    "duration": 3,
    "start_time": "2021-11-16T10:51:56.237Z"
   },
   {
    "duration": 101,
    "start_time": "2021-11-16T10:53:13.791Z"
   },
   {
    "duration": 3,
    "start_time": "2021-11-16T10:55:59.186Z"
   },
   {
    "duration": 3,
    "start_time": "2021-11-16T10:56:10.751Z"
   },
   {
    "duration": 3,
    "start_time": "2021-11-16T10:56:49.038Z"
   },
   {
    "duration": 3,
    "start_time": "2021-11-16T10:56:49.174Z"
   },
   {
    "duration": 4,
    "start_time": "2021-11-16T10:56:49.414Z"
   },
   {
    "duration": 3,
    "start_time": "2021-11-16T10:56:49.680Z"
   },
   {
    "duration": 3,
    "start_time": "2021-11-16T10:56:50.370Z"
   },
   {
    "duration": 114,
    "start_time": "2021-11-16T10:59:34.518Z"
   },
   {
    "duration": 3,
    "start_time": "2021-11-16T11:01:41.201Z"
   },
   {
    "duration": 116,
    "start_time": "2021-11-16T11:01:48.754Z"
   },
   {
    "duration": 3,
    "start_time": "2021-11-16T11:02:16.685Z"
   },
   {
    "duration": 3,
    "start_time": "2021-11-16T11:02:19.479Z"
   },
   {
    "duration": 3,
    "start_time": "2021-11-16T11:02:47.067Z"
   },
   {
    "duration": 3,
    "start_time": "2021-11-16T11:02:49.353Z"
   },
   {
    "duration": 3,
    "start_time": "2021-11-16T11:03:07.835Z"
   },
   {
    "duration": 3,
    "start_time": "2021-11-16T11:03:07.953Z"
   },
   {
    "duration": 112,
    "start_time": "2021-11-16T11:07:52.072Z"
   },
   {
    "duration": 187,
    "start_time": "2021-11-16T11:09:23.468Z"
   },
   {
    "duration": 4,
    "start_time": "2021-11-16T11:10:01.455Z"
   },
   {
    "duration": 3,
    "start_time": "2021-11-16T11:10:05.069Z"
   },
   {
    "duration": 4,
    "start_time": "2021-11-16T11:10:13.376Z"
   },
   {
    "duration": 3,
    "start_time": "2021-11-16T11:10:14.434Z"
   },
   {
    "duration": 3,
    "start_time": "2021-11-16T11:10:22.853Z"
   },
   {
    "duration": 4,
    "start_time": "2021-11-16T11:27:29.279Z"
   },
   {
    "duration": 4,
    "start_time": "2021-11-16T11:29:08.919Z"
   },
   {
    "duration": 118,
    "start_time": "2021-11-16T11:29:46.703Z"
   },
   {
    "duration": 437,
    "start_time": "2021-11-16T11:36:02.181Z"
   },
   {
    "duration": 157,
    "start_time": "2021-11-16T11:36:14.388Z"
   },
   {
    "duration": 207,
    "start_time": "2021-11-16T11:47:15.898Z"
   },
   {
    "duration": 3,
    "start_time": "2021-11-16T11:53:52.092Z"
   },
   {
    "duration": 3,
    "start_time": "2021-11-16T11:53:52.236Z"
   },
   {
    "duration": 3,
    "start_time": "2021-11-16T11:59:12.005Z"
   },
   {
    "duration": 112,
    "start_time": "2021-11-16T12:00:33.446Z"
   },
   {
    "duration": 3,
    "start_time": "2021-11-16T12:02:14.453Z"
   },
   {
    "duration": 3,
    "start_time": "2021-11-16T12:02:39.512Z"
   },
   {
    "duration": 106,
    "start_time": "2021-11-16T12:03:03.460Z"
   },
   {
    "duration": 3,
    "start_time": "2021-11-17T20:37:21.139Z"
   },
   {
    "duration": 3,
    "start_time": "2021-11-17T20:37:22.229Z"
   },
   {
    "duration": 3,
    "start_time": "2021-11-17T20:38:38.806Z"
   },
   {
    "duration": 3,
    "start_time": "2021-11-17T20:38:41.958Z"
   },
   {
    "duration": 3,
    "start_time": "2021-11-17T20:43:46.551Z"
   },
   {
    "duration": 4,
    "start_time": "2021-11-17T20:58:21.835Z"
   },
   {
    "duration": 3,
    "start_time": "2021-11-17T20:59:21.872Z"
   },
   {
    "duration": 4,
    "start_time": "2021-11-17T20:59:45.352Z"
   },
   {
    "duration": 4,
    "start_time": "2021-11-17T20:59:49.646Z"
   },
   {
    "duration": 159,
    "start_time": "2021-11-17T21:02:26.949Z"
   },
   {
    "duration": 3,
    "start_time": "2021-11-17T21:03:53.461Z"
   },
   {
    "duration": 3,
    "start_time": "2021-11-17T21:03:53.694Z"
   },
   {
    "duration": 3,
    "start_time": "2021-11-17T21:05:28.145Z"
   },
   {
    "duration": 116,
    "start_time": "2021-11-17T21:05:57.787Z"
   },
   {
    "duration": 3,
    "start_time": "2021-11-17T21:06:37.993Z"
   },
   {
    "duration": 3,
    "start_time": "2021-11-17T21:06:38.261Z"
   },
   {
    "duration": 3,
    "start_time": "2021-11-17T21:11:54.358Z"
   },
   {
    "duration": 3,
    "start_time": "2021-11-17T21:12:43.846Z"
   },
   {
    "duration": 4,
    "start_time": "2021-11-17T21:13:08.773Z"
   },
   {
    "duration": 3,
    "start_time": "2021-11-17T21:14:44.441Z"
   },
   {
    "duration": 3,
    "start_time": "2021-11-17T21:15:42.059Z"
   },
   {
    "duration": 4,
    "start_time": "2021-11-17T21:15:51.995Z"
   },
   {
    "duration": 3,
    "start_time": "2021-11-17T21:15:53.923Z"
   },
   {
    "duration": 3,
    "start_time": "2021-11-17T21:15:55.282Z"
   },
   {
    "duration": 3,
    "start_time": "2021-11-17T21:16:28.492Z"
   },
   {
    "duration": 3,
    "start_time": "2021-11-17T21:16:32.603Z"
   },
   {
    "duration": 3,
    "start_time": "2021-11-17T21:17:06.941Z"
   },
   {
    "duration": 98,
    "start_time": "2021-11-17T21:18:05.733Z"
   },
   {
    "duration": 4,
    "start_time": "2021-11-17T21:21:35.255Z"
   },
   {
    "duration": 3,
    "start_time": "2021-11-17T21:21:37.804Z"
   },
   {
    "duration": 4,
    "start_time": "2021-11-17T21:23:06.071Z"
   },
   {
    "duration": 3,
    "start_time": "2021-11-17T21:23:24.799Z"
   },
   {
    "duration": 3,
    "start_time": "2021-11-17T21:23:32.591Z"
   },
   {
    "duration": 98,
    "start_time": "2021-11-17T21:28:31.559Z"
   },
   {
    "duration": 3,
    "start_time": "2021-11-17T21:28:45.448Z"
   },
   {
    "duration": 3,
    "start_time": "2021-11-17T21:29:17.303Z"
   },
   {
    "duration": 3,
    "start_time": "2021-11-17T21:29:29.617Z"
   },
   {
    "duration": 3,
    "start_time": "2021-11-17T21:29:32.681Z"
   },
   {
    "duration": 3,
    "start_time": "2021-11-17T21:36:11.474Z"
   },
   {
    "duration": 3,
    "start_time": "2021-11-17T21:36:14.791Z"
   },
   {
    "duration": 3,
    "start_time": "2021-11-17T21:36:53.943Z"
   },
   {
    "duration": 3,
    "start_time": "2021-11-17T21:36:56.165Z"
   },
   {
    "duration": 4,
    "start_time": "2021-11-17T21:37:16.590Z"
   },
   {
    "duration": 3,
    "start_time": "2021-11-17T21:37:22.702Z"
   },
   {
    "duration": 4,
    "start_time": "2021-11-17T21:38:03.479Z"
   },
   {
    "duration": 3,
    "start_time": "2021-11-17T21:38:08.601Z"
   },
   {
    "duration": 3,
    "start_time": "2021-11-17T21:38:12.928Z"
   },
   {
    "duration": 3,
    "start_time": "2021-11-17T21:38:48.896Z"
   },
   {
    "duration": 2,
    "start_time": "2021-11-17T21:38:49.171Z"
   },
   {
    "duration": 4,
    "start_time": "2021-11-17T21:39:57.889Z"
   },
   {
    "duration": 3,
    "start_time": "2021-11-17T21:39:58.057Z"
   },
   {
    "duration": 3,
    "start_time": "2021-11-17T21:41:20.108Z"
   },
   {
    "duration": 3,
    "start_time": "2021-11-17T21:41:20.629Z"
   },
   {
    "duration": 3,
    "start_time": "2021-11-17T21:42:49.136Z"
   },
   {
    "duration": 3,
    "start_time": "2021-11-17T21:43:15.137Z"
   },
   {
    "duration": 4,
    "start_time": "2021-11-17T21:43:16.766Z"
   },
   {
    "duration": 4,
    "start_time": "2021-11-17T21:43:31.711Z"
   },
   {
    "duration": 3,
    "start_time": "2021-11-17T21:43:36.312Z"
   },
   {
    "duration": 4,
    "start_time": "2021-11-17T21:45:08.825Z"
   },
   {
    "duration": 4,
    "start_time": "2021-11-17T21:45:10.119Z"
   },
   {
    "duration": 4,
    "start_time": "2021-11-17T21:45:13.748Z"
   },
   {
    "duration": 3,
    "start_time": "2021-11-17T21:45:22.219Z"
   },
   {
    "duration": 3,
    "start_time": "2021-11-17T21:45:33.412Z"
   },
   {
    "duration": 2,
    "start_time": "2021-11-17T21:46:01.885Z"
   },
   {
    "duration": 3,
    "start_time": "2021-11-17T21:46:03.628Z"
   },
   {
    "duration": 107,
    "start_time": "2021-11-17T21:47:32.512Z"
   },
   {
    "duration": 103,
    "start_time": "2021-11-17T21:50:36.243Z"
   },
   {
    "duration": 3,
    "start_time": "2021-11-18T06:28:31.440Z"
   },
   {
    "duration": 3,
    "start_time": "2021-11-18T06:29:00.168Z"
   },
   {
    "duration": 3,
    "start_time": "2021-11-18T06:31:27.008Z"
   },
   {
    "duration": 2,
    "start_time": "2021-11-18T06:35:34.288Z"
   },
   {
    "duration": 2,
    "start_time": "2021-11-18T06:38:04.527Z"
   },
   {
    "duration": 624,
    "start_time": "2024-10-02T15:25:39.015Z"
   },
   {
    "duration": 276,
    "start_time": "2024-10-02T15:25:41.068Z"
   },
   {
    "duration": 160,
    "start_time": "2024-10-02T15:25:55.813Z"
   },
   {
    "duration": 10,
    "start_time": "2024-10-02T15:26:33.281Z"
   },
   {
    "duration": 6,
    "start_time": "2024-10-02T15:26:52.284Z"
   },
   {
    "duration": 15,
    "start_time": "2024-10-02T15:28:28.269Z"
   },
   {
    "duration": 23,
    "start_time": "2024-10-02T15:28:44.040Z"
   },
   {
    "duration": 19,
    "start_time": "2024-10-02T15:29:14.424Z"
   },
   {
    "duration": 17,
    "start_time": "2024-10-02T15:30:00.469Z"
   },
   {
    "duration": 13,
    "start_time": "2024-10-02T15:30:03.533Z"
   },
   {
    "duration": 14,
    "start_time": "2024-10-02T15:30:09.111Z"
   },
   {
    "duration": 248,
    "start_time": "2024-10-02T15:49:02.425Z"
   },
   {
    "duration": 14,
    "start_time": "2024-10-02T15:50:53.275Z"
   },
   {
    "duration": 5,
    "start_time": "2024-10-02T15:51:09.262Z"
   },
   {
    "duration": 658,
    "start_time": "2024-10-02T15:52:21.927Z"
   },
   {
    "duration": 7,
    "start_time": "2024-10-02T15:52:57.144Z"
   },
   {
    "duration": 8,
    "start_time": "2024-10-02T15:54:49.244Z"
   },
   {
    "duration": 8,
    "start_time": "2024-10-02T15:55:07.864Z"
   },
   {
    "duration": 636,
    "start_time": "2024-10-02T16:38:36.754Z"
   },
   {
    "duration": 262,
    "start_time": "2024-10-02T16:38:37.392Z"
   },
   {
    "duration": 25,
    "start_time": "2024-10-02T16:38:37.658Z"
   },
   {
    "duration": 18,
    "start_time": "2024-10-02T16:38:37.686Z"
   },
   {
    "duration": 16,
    "start_time": "2024-10-02T16:38:37.706Z"
   },
   {
    "duration": 27,
    "start_time": "2024-10-02T16:38:37.723Z"
   },
   {
    "duration": 14,
    "start_time": "2024-10-02T16:38:37.752Z"
   },
   {
    "duration": 9,
    "start_time": "2024-10-02T16:38:37.768Z"
   },
   {
    "duration": 5,
    "start_time": "2024-10-02T16:38:37.779Z"
   },
   {
    "duration": 7,
    "start_time": "2024-10-02T16:38:37.787Z"
   },
   {
    "duration": 8,
    "start_time": "2024-10-02T16:38:37.796Z"
   },
   {
    "duration": 9,
    "start_time": "2024-10-02T16:38:37.843Z"
   },
   {
    "duration": 2,
    "start_time": "2024-10-02T16:38:37.854Z"
   },
   {
    "duration": 2,
    "start_time": "2024-10-02T16:38:37.858Z"
   },
   {
    "duration": 2,
    "start_time": "2024-10-02T16:38:37.863Z"
   },
   {
    "duration": 3,
    "start_time": "2024-10-02T16:38:37.866Z"
   },
   {
    "duration": 2,
    "start_time": "2024-10-02T16:38:37.870Z"
   },
   {
    "duration": 2,
    "start_time": "2024-10-02T16:38:37.874Z"
   },
   {
    "duration": 3,
    "start_time": "2024-10-02T16:38:37.877Z"
   },
   {
    "duration": 2,
    "start_time": "2024-10-02T16:38:37.882Z"
   },
   {
    "duration": 2,
    "start_time": "2024-10-02T16:38:37.885Z"
   },
   {
    "duration": 54,
    "start_time": "2024-10-02T16:38:37.889Z"
   },
   {
    "duration": 2,
    "start_time": "2024-10-02T16:38:37.945Z"
   },
   {
    "duration": 3,
    "start_time": "2024-10-02T16:38:37.949Z"
   },
   {
    "duration": 2,
    "start_time": "2024-10-02T16:38:37.954Z"
   },
   {
    "duration": 2,
    "start_time": "2024-10-02T16:38:37.958Z"
   },
   {
    "duration": 2,
    "start_time": "2024-10-02T16:38:37.962Z"
   },
   {
    "duration": 2,
    "start_time": "2024-10-02T16:38:37.968Z"
   },
   {
    "duration": 2,
    "start_time": "2024-10-02T16:38:37.972Z"
   },
   {
    "duration": 3,
    "start_time": "2024-10-02T16:38:37.975Z"
   },
   {
    "duration": 2,
    "start_time": "2024-10-02T16:38:37.980Z"
   },
   {
    "duration": 4,
    "start_time": "2024-10-02T16:38:37.984Z"
   },
   {
    "duration": 2,
    "start_time": "2024-10-02T16:38:37.990Z"
   },
   {
    "duration": 49,
    "start_time": "2024-10-02T16:38:37.994Z"
   },
   {
    "duration": 259,
    "start_time": "2024-10-02T16:40:06.517Z"
   },
   {
    "duration": 16,
    "start_time": "2024-10-02T16:40:16.634Z"
   },
   {
    "duration": 7,
    "start_time": "2024-10-02T16:40:28.798Z"
   },
   {
    "duration": 13,
    "start_time": "2024-10-02T16:40:51.448Z"
   },
   {
    "duration": 7,
    "start_time": "2024-10-02T16:41:01.784Z"
   },
   {
    "duration": 14,
    "start_time": "2024-10-02T16:41:41.790Z"
   },
   {
    "duration": 18,
    "start_time": "2024-10-02T16:41:49.633Z"
   },
   {
    "duration": 18,
    "start_time": "2024-10-02T16:41:57.543Z"
   },
   {
    "duration": 20,
    "start_time": "2024-10-02T16:42:05.845Z"
   },
   {
    "duration": 5,
    "start_time": "2024-10-02T16:42:26.898Z"
   },
   {
    "duration": 7,
    "start_time": "2024-10-02T16:44:36.914Z"
   },
   {
    "duration": 7,
    "start_time": "2024-10-02T16:44:51.706Z"
   },
   {
    "duration": 16,
    "start_time": "2024-10-02T17:00:45.798Z"
   },
   {
    "duration": 14,
    "start_time": "2024-10-02T17:02:54.115Z"
   },
   {
    "duration": 10,
    "start_time": "2024-10-02T17:03:08.838Z"
   },
   {
    "duration": 16,
    "start_time": "2024-10-02T17:03:25.514Z"
   },
   {
    "duration": 31,
    "start_time": "2024-10-02T17:04:10.056Z"
   },
   {
    "duration": 19,
    "start_time": "2024-10-02T17:04:58.296Z"
   },
   {
    "duration": 18,
    "start_time": "2024-10-02T17:06:48.607Z"
   },
   {
    "duration": 12,
    "start_time": "2024-10-02T17:10:46.423Z"
   },
   {
    "duration": 7,
    "start_time": "2024-10-02T17:10:48.044Z"
   },
   {
    "duration": 22,
    "start_time": "2024-10-02T17:10:59.131Z"
   },
   {
    "duration": 10,
    "start_time": "2024-10-02T17:11:16.677Z"
   },
   {
    "duration": 4,
    "start_time": "2024-10-02T17:11:18.660Z"
   },
   {
    "duration": 18,
    "start_time": "2024-10-02T17:11:27.359Z"
   },
   {
    "duration": 18,
    "start_time": "2024-10-02T17:11:53.711Z"
   },
   {
    "duration": 22,
    "start_time": "2024-10-02T17:14:35.692Z"
   },
   {
    "duration": 18,
    "start_time": "2024-10-02T17:14:57.215Z"
   },
   {
    "duration": 18,
    "start_time": "2024-10-02T17:14:59.666Z"
   },
   {
    "duration": 611,
    "start_time": "2024-10-02T17:15:24.782Z"
   },
   {
    "duration": 167,
    "start_time": "2024-10-02T17:15:25.396Z"
   },
   {
    "duration": 26,
    "start_time": "2024-10-02T17:15:25.565Z"
   },
   {
    "duration": 19,
    "start_time": "2024-10-02T17:15:25.594Z"
   },
   {
    "duration": 38,
    "start_time": "2024-10-02T17:15:25.614Z"
   },
   {
    "duration": 14,
    "start_time": "2024-10-02T17:15:25.654Z"
   },
   {
    "duration": 14,
    "start_time": "2024-10-02T17:15:25.670Z"
   },
   {
    "duration": 9,
    "start_time": "2024-10-02T17:15:25.686Z"
   },
   {
    "duration": 6,
    "start_time": "2024-10-02T17:15:25.697Z"
   },
   {
    "duration": 7,
    "start_time": "2024-10-02T17:15:25.744Z"
   },
   {
    "duration": 10,
    "start_time": "2024-10-02T17:15:25.753Z"
   },
   {
    "duration": 9,
    "start_time": "2024-10-02T17:15:25.764Z"
   },
   {
    "duration": 18,
    "start_time": "2024-10-02T17:15:25.775Z"
   },
   {
    "duration": 53,
    "start_time": "2024-10-02T17:15:25.796Z"
   },
   {
    "duration": 6,
    "start_time": "2024-10-02T17:15:25.851Z"
   },
   {
    "duration": 26,
    "start_time": "2024-10-02T17:15:25.860Z"
   },
   {
    "duration": 12,
    "start_time": "2024-10-02T17:15:25.888Z"
   },
   {
    "duration": 5,
    "start_time": "2024-10-02T17:15:25.902Z"
   },
   {
    "duration": 47,
    "start_time": "2024-10-02T17:15:25.909Z"
   },
   {
    "duration": 20,
    "start_time": "2024-10-02T17:15:25.958Z"
   },
   {
    "duration": 22,
    "start_time": "2024-10-02T17:15:25.979Z"
   },
   {
    "duration": 2,
    "start_time": "2024-10-02T17:15:26.003Z"
   },
   {
    "duration": 3,
    "start_time": "2024-10-02T17:15:26.007Z"
   },
   {
    "duration": 33,
    "start_time": "2024-10-02T17:15:26.011Z"
   },
   {
    "duration": 3,
    "start_time": "2024-10-02T17:15:26.046Z"
   },
   {
    "duration": 2,
    "start_time": "2024-10-02T17:15:26.051Z"
   },
   {
    "duration": 3,
    "start_time": "2024-10-02T17:15:26.055Z"
   },
   {
    "duration": 4,
    "start_time": "2024-10-02T17:15:26.063Z"
   },
   {
    "duration": 2,
    "start_time": "2024-10-02T17:15:26.068Z"
   },
   {
    "duration": 3,
    "start_time": "2024-10-02T17:15:26.072Z"
   },
   {
    "duration": 3,
    "start_time": "2024-10-02T17:15:26.076Z"
   },
   {
    "duration": 3,
    "start_time": "2024-10-02T17:15:26.080Z"
   },
   {
    "duration": 2,
    "start_time": "2024-10-02T17:15:26.085Z"
   },
   {
    "duration": 2,
    "start_time": "2024-10-02T17:15:26.089Z"
   },
   {
    "duration": 53,
    "start_time": "2024-10-02T17:15:26.092Z"
   },
   {
    "duration": 2,
    "start_time": "2024-10-02T17:15:26.147Z"
   },
   {
    "duration": 3,
    "start_time": "2024-10-02T17:15:26.151Z"
   },
   {
    "duration": 13,
    "start_time": "2024-10-02T17:15:52.832Z"
   },
   {
    "duration": 596,
    "start_time": "2024-10-02T17:16:46.395Z"
   },
   {
    "duration": 169,
    "start_time": "2024-10-02T17:16:46.994Z"
   },
   {
    "duration": 27,
    "start_time": "2024-10-02T17:16:47.165Z"
   },
   {
    "duration": 25,
    "start_time": "2024-10-02T17:16:47.194Z"
   },
   {
    "duration": 35,
    "start_time": "2024-10-02T17:16:47.221Z"
   },
   {
    "duration": 13,
    "start_time": "2024-10-02T17:16:47.258Z"
   },
   {
    "duration": 15,
    "start_time": "2024-10-02T17:16:47.273Z"
   },
   {
    "duration": 8,
    "start_time": "2024-10-02T17:16:47.289Z"
   },
   {
    "duration": 5,
    "start_time": "2024-10-02T17:16:47.300Z"
   },
   {
    "duration": 7,
    "start_time": "2024-10-02T17:16:47.345Z"
   },
   {
    "duration": 8,
    "start_time": "2024-10-02T17:16:47.354Z"
   },
   {
    "duration": 8,
    "start_time": "2024-10-02T17:16:47.364Z"
   },
   {
    "duration": 17,
    "start_time": "2024-10-02T17:16:47.374Z"
   },
   {
    "duration": 51,
    "start_time": "2024-10-02T17:16:47.393Z"
   },
   {
    "duration": 7,
    "start_time": "2024-10-02T17:16:47.446Z"
   },
   {
    "duration": 42,
    "start_time": "2024-10-02T17:16:47.455Z"
   },
   {
    "duration": 12,
    "start_time": "2024-10-02T17:16:47.498Z"
   },
   {
    "duration": 5,
    "start_time": "2024-10-02T17:16:47.512Z"
   },
   {
    "duration": 33,
    "start_time": "2024-10-02T17:16:47.519Z"
   },
   {
    "duration": 15,
    "start_time": "2024-10-02T17:16:47.554Z"
   },
   {
    "duration": 7,
    "start_time": "2024-10-02T17:16:47.571Z"
   },
   {
    "duration": 16,
    "start_time": "2024-10-02T17:16:47.580Z"
   },
   {
    "duration": 2,
    "start_time": "2024-10-02T17:16:47.598Z"
   },
   {
    "duration": 3,
    "start_time": "2024-10-02T17:16:47.602Z"
   },
   {
    "duration": 2,
    "start_time": "2024-10-02T17:16:47.607Z"
   },
   {
    "duration": 34,
    "start_time": "2024-10-02T17:16:47.610Z"
   },
   {
    "duration": 3,
    "start_time": "2024-10-02T17:16:47.646Z"
   },
   {
    "duration": 2,
    "start_time": "2024-10-02T17:16:47.653Z"
   },
   {
    "duration": 3,
    "start_time": "2024-10-02T17:16:47.656Z"
   },
   {
    "duration": 3,
    "start_time": "2024-10-02T17:16:47.660Z"
   },
   {
    "duration": 3,
    "start_time": "2024-10-02T17:16:47.665Z"
   },
   {
    "duration": 2,
    "start_time": "2024-10-02T17:16:47.670Z"
   },
   {
    "duration": 2,
    "start_time": "2024-10-02T17:16:47.674Z"
   },
   {
    "duration": 2,
    "start_time": "2024-10-02T17:16:47.678Z"
   },
   {
    "duration": 3,
    "start_time": "2024-10-02T17:16:47.681Z"
   },
   {
    "duration": 2,
    "start_time": "2024-10-02T17:16:47.686Z"
   },
   {
    "duration": 56,
    "start_time": "2024-10-02T17:16:47.689Z"
   },
   {
    "duration": 2,
    "start_time": "2024-10-02T17:16:47.749Z"
   },
   {
    "duration": 20,
    "start_time": "2024-10-02T17:17:08.287Z"
   },
   {
    "duration": 262,
    "start_time": "2024-10-02T17:47:34.462Z"
   },
   {
    "duration": 10,
    "start_time": "2024-10-02T17:47:40.244Z"
   },
   {
    "duration": 589,
    "start_time": "2024-10-07T18:46:51.452Z"
   },
   {
    "duration": 228,
    "start_time": "2024-10-07T18:46:52.043Z"
   },
   {
    "duration": 26,
    "start_time": "2024-10-07T18:46:52.272Z"
   },
   {
    "duration": 20,
    "start_time": "2024-10-07T18:46:52.300Z"
   },
   {
    "duration": 16,
    "start_time": "2024-10-07T18:46:52.322Z"
   },
   {
    "duration": 14,
    "start_time": "2024-10-07T18:46:52.339Z"
   },
   {
    "duration": 14,
    "start_time": "2024-10-07T18:46:52.355Z"
   },
   {
    "duration": 40,
    "start_time": "2024-10-07T18:46:52.371Z"
   },
   {
    "duration": 8,
    "start_time": "2024-10-07T18:46:52.413Z"
   },
   {
    "duration": 20,
    "start_time": "2024-10-07T18:46:52.425Z"
   },
   {
    "duration": 9,
    "start_time": "2024-10-07T18:46:52.447Z"
   },
   {
    "duration": 8,
    "start_time": "2024-10-07T18:46:52.457Z"
   },
   {
    "duration": 15,
    "start_time": "2024-10-07T18:46:52.466Z"
   },
   {
    "duration": 37,
    "start_time": "2024-10-07T18:46:52.483Z"
   },
   {
    "duration": 7,
    "start_time": "2024-10-07T18:46:52.522Z"
   },
   {
    "duration": 24,
    "start_time": "2024-10-07T18:46:52.530Z"
   },
   {
    "duration": 11,
    "start_time": "2024-10-07T18:46:52.556Z"
   },
   {
    "duration": 4,
    "start_time": "2024-10-07T18:46:52.569Z"
   },
   {
    "duration": 46,
    "start_time": "2024-10-07T18:46:52.575Z"
   },
   {
    "duration": 14,
    "start_time": "2024-10-07T18:46:52.622Z"
   },
   {
    "duration": 8,
    "start_time": "2024-10-07T18:46:52.638Z"
   },
   {
    "duration": 20,
    "start_time": "2024-10-07T18:46:52.648Z"
   },
   {
    "duration": 8,
    "start_time": "2024-10-07T18:46:52.669Z"
   },
   {
    "duration": 397,
    "start_time": "2024-10-07T18:46:52.706Z"
   },
   {
    "duration": 0,
    "start_time": "2024-10-07T18:46:53.105Z"
   },
   {
    "duration": 0,
    "start_time": "2024-10-07T18:46:53.107Z"
   },
   {
    "duration": 0,
    "start_time": "2024-10-07T18:46:53.108Z"
   },
   {
    "duration": 0,
    "start_time": "2024-10-07T18:46:53.110Z"
   },
   {
    "duration": 0,
    "start_time": "2024-10-07T18:46:53.112Z"
   },
   {
    "duration": 0,
    "start_time": "2024-10-07T18:46:53.113Z"
   },
   {
    "duration": 0,
    "start_time": "2024-10-07T18:46:53.114Z"
   },
   {
    "duration": 0,
    "start_time": "2024-10-07T18:46:53.115Z"
   },
   {
    "duration": 0,
    "start_time": "2024-10-07T18:46:53.117Z"
   },
   {
    "duration": 0,
    "start_time": "2024-10-07T18:46:53.118Z"
   },
   {
    "duration": 0,
    "start_time": "2024-10-07T18:46:53.119Z"
   },
   {
    "duration": 0,
    "start_time": "2024-10-07T18:46:53.121Z"
   },
   {
    "duration": 0,
    "start_time": "2024-10-07T18:46:53.122Z"
   },
   {
    "duration": 0,
    "start_time": "2024-10-07T18:46:53.123Z"
   },
   {
    "duration": 20,
    "start_time": "2024-10-07T18:50:06.808Z"
   },
   {
    "duration": 18,
    "start_time": "2024-10-07T18:50:52.474Z"
   },
   {
    "duration": 19,
    "start_time": "2024-10-07T18:52:54.537Z"
   },
   {
    "duration": 8,
    "start_time": "2024-10-07T18:55:48.871Z"
   },
   {
    "duration": 29,
    "start_time": "2024-10-07T18:56:24.431Z"
   },
   {
    "duration": 15,
    "start_time": "2024-10-07T18:58:35.597Z"
   },
   {
    "duration": 29,
    "start_time": "2024-10-07T18:58:58.470Z"
   },
   {
    "duration": 23,
    "start_time": "2024-10-07T18:59:47.912Z"
   },
   {
    "duration": 33,
    "start_time": "2024-10-07T19:00:04.322Z"
   },
   {
    "duration": 32,
    "start_time": "2024-10-07T19:00:12.277Z"
   },
   {
    "duration": 25,
    "start_time": "2024-10-07T19:00:19.847Z"
   },
   {
    "duration": 13,
    "start_time": "2024-10-07T19:01:10.430Z"
   },
   {
    "duration": 10,
    "start_time": "2024-10-07T19:01:28.619Z"
   },
   {
    "duration": 11,
    "start_time": "2024-10-07T19:02:02.207Z"
   },
   {
    "duration": 19,
    "start_time": "2024-10-07T19:02:16.377Z"
   },
   {
    "duration": 24,
    "start_time": "2024-10-07T19:02:27.927Z"
   },
   {
    "duration": 19,
    "start_time": "2024-10-07T19:03:00.743Z"
   },
   {
    "duration": 10,
    "start_time": "2024-10-07T19:03:16.357Z"
   },
   {
    "duration": 7,
    "start_time": "2024-10-07T19:03:28.963Z"
   },
   {
    "duration": 7,
    "start_time": "2024-10-07T19:04:23.663Z"
   },
   {
    "duration": 21,
    "start_time": "2024-10-07T19:06:04.360Z"
   },
   {
    "duration": 8,
    "start_time": "2024-10-07T19:06:09.243Z"
   },
   {
    "duration": 25,
    "start_time": "2024-10-07T19:07:02.602Z"
   },
   {
    "duration": 21,
    "start_time": "2024-10-07T19:07:03.513Z"
   },
   {
    "duration": 17,
    "start_time": "2024-10-07T19:07:40.625Z"
   },
   {
    "duration": 20,
    "start_time": "2024-10-07T19:08:05.852Z"
   },
   {
    "duration": 18,
    "start_time": "2024-10-07T19:14:07.960Z"
   },
   {
    "duration": 23,
    "start_time": "2024-10-07T19:14:20.288Z"
   },
   {
    "duration": 58,
    "start_time": "2024-10-07T19:17:20.525Z"
   },
   {
    "duration": 22,
    "start_time": "2024-10-07T19:18:03.796Z"
   },
   {
    "duration": 15,
    "start_time": "2024-10-07T19:21:21.030Z"
   },
   {
    "duration": 3,
    "start_time": "2024-10-07T19:21:26.930Z"
   },
   {
    "duration": 4,
    "start_time": "2024-10-07T19:21:34.687Z"
   },
   {
    "duration": 17,
    "start_time": "2024-10-07T19:21:57.879Z"
   },
   {
    "duration": 33,
    "start_time": "2024-10-07T19:23:14.927Z"
   },
   {
    "duration": 7,
    "start_time": "2024-10-07T19:23:32.060Z"
   },
   {
    "duration": 588,
    "start_time": "2024-10-07T19:23:54.664Z"
   },
   {
    "duration": 150,
    "start_time": "2024-10-07T19:23:55.256Z"
   },
   {
    "duration": 25,
    "start_time": "2024-10-07T19:23:55.408Z"
   },
   {
    "duration": 21,
    "start_time": "2024-10-07T19:23:55.436Z"
   },
   {
    "duration": 15,
    "start_time": "2024-10-07T19:23:55.459Z"
   },
   {
    "duration": 37,
    "start_time": "2024-10-07T19:23:55.476Z"
   },
   {
    "duration": 14,
    "start_time": "2024-10-07T19:23:55.515Z"
   },
   {
    "duration": 9,
    "start_time": "2024-10-07T19:23:55.531Z"
   },
   {
    "duration": 4,
    "start_time": "2024-10-07T19:23:55.542Z"
   },
   {
    "duration": 6,
    "start_time": "2024-10-07T19:23:55.549Z"
   },
   {
    "duration": 8,
    "start_time": "2024-10-07T19:23:55.557Z"
   },
   {
    "duration": 45,
    "start_time": "2024-10-07T19:23:55.567Z"
   },
   {
    "duration": 18,
    "start_time": "2024-10-07T19:23:55.614Z"
   },
   {
    "duration": 14,
    "start_time": "2024-10-07T19:23:55.634Z"
   },
   {
    "duration": 8,
    "start_time": "2024-10-07T19:23:55.650Z"
   },
   {
    "duration": 49,
    "start_time": "2024-10-07T19:23:55.659Z"
   },
   {
    "duration": 12,
    "start_time": "2024-10-07T19:23:55.710Z"
   },
   {
    "duration": 4,
    "start_time": "2024-10-07T19:23:55.725Z"
   },
   {
    "duration": 17,
    "start_time": "2024-10-07T19:23:55.731Z"
   },
   {
    "duration": 16,
    "start_time": "2024-10-07T19:23:55.750Z"
   },
   {
    "duration": 37,
    "start_time": "2024-10-07T19:23:55.768Z"
   },
   {
    "duration": 30,
    "start_time": "2024-10-07T19:23:55.807Z"
   },
   {
    "duration": 12,
    "start_time": "2024-10-07T19:23:55.840Z"
   },
   {
    "duration": 28,
    "start_time": "2024-10-07T19:23:55.854Z"
   },
   {
    "duration": 38,
    "start_time": "2024-10-07T19:23:55.883Z"
   },
   {
    "duration": 12,
    "start_time": "2024-10-07T19:23:55.923Z"
   },
   {
    "duration": 16,
    "start_time": "2024-10-07T19:23:55.937Z"
   },
   {
    "duration": 71,
    "start_time": "2024-10-07T19:23:55.958Z"
   },
   {
    "duration": 7,
    "start_time": "2024-10-07T19:23:56.031Z"
   },
   {
    "duration": 2,
    "start_time": "2024-10-07T19:23:56.040Z"
   },
   {
    "duration": 2,
    "start_time": "2024-10-07T19:23:56.044Z"
   },
   {
    "duration": 2,
    "start_time": "2024-10-07T19:23:56.048Z"
   },
   {
    "duration": 2,
    "start_time": "2024-10-07T19:23:56.052Z"
   },
   {
    "duration": 4,
    "start_time": "2024-10-07T19:23:56.055Z"
   },
   {
    "duration": 2,
    "start_time": "2024-10-07T19:23:56.062Z"
   },
   {
    "duration": 39,
    "start_time": "2024-10-07T19:23:56.066Z"
   },
   {
    "duration": 6,
    "start_time": "2024-10-07T19:23:56.107Z"
   },
   {
    "duration": 2,
    "start_time": "2024-10-07T19:23:56.117Z"
   },
   {
    "duration": 36,
    "start_time": "2024-10-07T19:24:47.960Z"
   },
   {
    "duration": 6,
    "start_time": "2024-10-07T19:25:23.161Z"
   },
   {
    "duration": 3,
    "start_time": "2024-10-07T19:25:28.997Z"
   },
   {
    "duration": 29,
    "start_time": "2024-10-07T19:25:50.880Z"
   },
   {
    "duration": 651,
    "start_time": "2024-10-07T19:26:33.705Z"
   },
   {
    "duration": 40,
    "start_time": "2024-10-07T19:27:11.096Z"
   },
   {
    "duration": 3,
    "start_time": "2024-10-07T19:27:32.410Z"
   },
   {
    "duration": 13,
    "start_time": "2024-10-07T19:27:42.573Z"
   },
   {
    "duration": 5,
    "start_time": "2024-10-07T19:27:53.594Z"
   },
   {
    "duration": 15,
    "start_time": "2024-10-07T19:28:43.812Z"
   },
   {
    "duration": 229,
    "start_time": "2024-10-07T19:28:49.298Z"
   },
   {
    "duration": 371,
    "start_time": "2024-10-07T19:29:09.525Z"
   },
   {
    "duration": 96,
    "start_time": "2024-10-07T19:29:28.830Z"
   },
   {
    "duration": 11,
    "start_time": "2024-10-07T19:31:06.292Z"
   },
   {
    "duration": 13,
    "start_time": "2024-10-07T19:31:37.681Z"
   },
   {
    "duration": 139,
    "start_time": "2024-10-07T19:33:40.970Z"
   },
   {
    "duration": 7,
    "start_time": "2024-10-07T19:34:21.043Z"
   },
   {
    "duration": 11,
    "start_time": "2024-10-07T19:34:38.792Z"
   },
   {
    "duration": 17,
    "start_time": "2024-10-07T19:35:36.509Z"
   },
   {
    "duration": 11,
    "start_time": "2024-10-07T19:36:12.339Z"
   },
   {
    "duration": 12,
    "start_time": "2024-10-07T19:36:17.226Z"
   },
   {
    "duration": 20,
    "start_time": "2024-10-07T19:36:37.867Z"
   },
   {
    "duration": 13,
    "start_time": "2024-10-07T19:37:07.227Z"
   },
   {
    "duration": 40,
    "start_time": "2024-10-07T19:39:30.939Z"
   },
   {
    "duration": 7,
    "start_time": "2024-10-07T19:39:53.376Z"
   },
   {
    "duration": 14,
    "start_time": "2024-10-07T19:40:06.308Z"
   },
   {
    "duration": 13,
    "start_time": "2024-10-07T19:41:00.177Z"
   },
   {
    "duration": 17,
    "start_time": "2024-10-07T19:41:07.026Z"
   },
   {
    "duration": 12,
    "start_time": "2024-10-07T19:41:08.283Z"
   },
   {
    "duration": 7,
    "start_time": "2024-10-07T19:41:16.381Z"
   },
   {
    "duration": 8,
    "start_time": "2024-10-07T19:46:32.914Z"
   },
   {
    "duration": 30,
    "start_time": "2024-10-07T19:47:54.432Z"
   },
   {
    "duration": 72,
    "start_time": "2024-10-07T19:48:21.299Z"
   },
   {
    "duration": 17,
    "start_time": "2024-10-07T19:48:50.022Z"
   },
   {
    "duration": 3,
    "start_time": "2024-10-07T19:48:52.694Z"
   },
   {
    "duration": 9,
    "start_time": "2024-10-07T19:49:47.961Z"
   },
   {
    "duration": 9,
    "start_time": "2024-10-07T19:50:02.090Z"
   },
   {
    "duration": 631,
    "start_time": "2024-10-07T22:31:12.523Z"
   },
   {
    "duration": 259,
    "start_time": "2024-10-07T22:31:13.156Z"
   },
   {
    "duration": 23,
    "start_time": "2024-10-07T22:31:13.417Z"
   },
   {
    "duration": 17,
    "start_time": "2024-10-07T22:31:13.441Z"
   },
   {
    "duration": 15,
    "start_time": "2024-10-07T22:31:13.460Z"
   },
   {
    "duration": 12,
    "start_time": "2024-10-07T22:31:13.476Z"
   },
   {
    "duration": 36,
    "start_time": "2024-10-07T22:31:13.489Z"
   },
   {
    "duration": 8,
    "start_time": "2024-10-07T22:31:13.527Z"
   },
   {
    "duration": 5,
    "start_time": "2024-10-07T22:31:13.537Z"
   },
   {
    "duration": 5,
    "start_time": "2024-10-07T22:31:13.544Z"
   },
   {
    "duration": 8,
    "start_time": "2024-10-07T22:31:13.551Z"
   },
   {
    "duration": 8,
    "start_time": "2024-10-07T22:31:13.560Z"
   },
   {
    "duration": 55,
    "start_time": "2024-10-07T22:31:13.569Z"
   },
   {
    "duration": 15,
    "start_time": "2024-10-07T22:31:13.627Z"
   },
   {
    "duration": 6,
    "start_time": "2024-10-07T22:31:13.643Z"
   },
   {
    "duration": 24,
    "start_time": "2024-10-07T22:31:13.650Z"
   },
   {
    "duration": 11,
    "start_time": "2024-10-07T22:31:13.676Z"
   },
   {
    "duration": 4,
    "start_time": "2024-10-07T22:31:13.689Z"
   },
   {
    "duration": 17,
    "start_time": "2024-10-07T22:31:13.724Z"
   },
   {
    "duration": 16,
    "start_time": "2024-10-07T22:31:13.743Z"
   },
   {
    "duration": 9,
    "start_time": "2024-10-07T22:31:13.760Z"
   },
   {
    "duration": 21,
    "start_time": "2024-10-07T22:31:13.770Z"
   },
   {
    "duration": 38,
    "start_time": "2024-10-07T22:31:13.793Z"
   },
   {
    "duration": 21,
    "start_time": "2024-10-07T22:31:13.832Z"
   },
   {
    "duration": 25,
    "start_time": "2024-10-07T22:31:13.855Z"
   },
   {
    "duration": 13,
    "start_time": "2024-10-07T22:31:13.882Z"
   },
   {
    "duration": 41,
    "start_time": "2024-10-07T22:31:13.897Z"
   },
   {
    "duration": 48,
    "start_time": "2024-10-07T22:31:13.940Z"
   },
   {
    "duration": 9,
    "start_time": "2024-10-07T22:31:13.990Z"
   },
   {
    "duration": 2,
    "start_time": "2024-10-07T22:31:14.000Z"
   },
   {
    "duration": 22,
    "start_time": "2024-10-07T22:31:14.003Z"
   },
   {
    "duration": 3,
    "start_time": "2024-10-07T22:31:14.027Z"
   },
   {
    "duration": 4,
    "start_time": "2024-10-07T22:31:14.031Z"
   },
   {
    "duration": 3,
    "start_time": "2024-10-07T22:31:14.036Z"
   },
   {
    "duration": 3,
    "start_time": "2024-10-07T22:31:14.040Z"
   },
   {
    "duration": 2,
    "start_time": "2024-10-07T22:31:14.045Z"
   },
   {
    "duration": 2,
    "start_time": "2024-10-07T22:31:14.049Z"
   },
   {
    "duration": 3,
    "start_time": "2024-10-07T22:31:14.053Z"
   },
   {
    "duration": 613,
    "start_time": "2024-10-08T21:51:38.436Z"
   },
   {
    "duration": 254,
    "start_time": "2024-10-08T21:51:40.338Z"
   },
   {
    "duration": 23,
    "start_time": "2024-10-08T21:51:41.893Z"
   },
   {
    "duration": 21,
    "start_time": "2024-10-08T21:51:42.892Z"
   },
   {
    "duration": 16,
    "start_time": "2024-10-08T21:51:43.657Z"
   },
   {
    "duration": 13,
    "start_time": "2024-10-08T21:51:44.443Z"
   },
   {
    "duration": 14,
    "start_time": "2024-10-08T21:51:45.167Z"
   },
   {
    "duration": 8,
    "start_time": "2024-10-08T21:51:47.773Z"
   },
   {
    "duration": 5,
    "start_time": "2024-10-08T21:51:48.406Z"
   },
   {
    "duration": 7,
    "start_time": "2024-10-08T21:51:50.398Z"
   },
   {
    "duration": 11,
    "start_time": "2024-10-08T21:51:52.432Z"
   },
   {
    "duration": 8,
    "start_time": "2024-10-08T21:51:53.066Z"
   },
   {
    "duration": 16,
    "start_time": "2024-10-08T21:51:54.670Z"
   },
   {
    "duration": 15,
    "start_time": "2024-10-08T21:51:57.399Z"
   },
   {
    "duration": 7,
    "start_time": "2024-10-08T21:51:58.125Z"
   },
   {
    "duration": 25,
    "start_time": "2024-10-08T21:51:59.952Z"
   },
   {
    "duration": 13,
    "start_time": "2024-10-08T21:52:01.378Z"
   },
   {
    "duration": 5,
    "start_time": "2024-10-08T21:52:01.562Z"
   },
   {
    "duration": 17,
    "start_time": "2024-10-08T21:52:02.524Z"
   },
   {
    "duration": 559,
    "start_time": "2024-10-08T21:52:21.682Z"
   },
   {
    "duration": 152,
    "start_time": "2024-10-08T21:52:22.243Z"
   },
   {
    "duration": 26,
    "start_time": "2024-10-08T21:52:22.396Z"
   },
   {
    "duration": 23,
    "start_time": "2024-10-08T21:52:22.424Z"
   },
   {
    "duration": 15,
    "start_time": "2024-10-08T21:52:22.450Z"
   },
   {
    "duration": 13,
    "start_time": "2024-10-08T21:52:22.467Z"
   },
   {
    "duration": 15,
    "start_time": "2024-10-08T21:52:22.504Z"
   },
   {
    "duration": 7,
    "start_time": "2024-10-08T21:52:22.521Z"
   },
   {
    "duration": 5,
    "start_time": "2024-10-08T21:52:22.530Z"
   },
   {
    "duration": 6,
    "start_time": "2024-10-08T21:52:22.536Z"
   },
   {
    "duration": 8,
    "start_time": "2024-10-08T21:52:22.544Z"
   },
   {
    "duration": 8,
    "start_time": "2024-10-08T21:52:22.553Z"
   },
   {
    "duration": 59,
    "start_time": "2024-10-08T21:52:22.563Z"
   },
   {
    "duration": 18,
    "start_time": "2024-10-08T21:52:22.626Z"
   },
   {
    "duration": 7,
    "start_time": "2024-10-08T21:52:22.645Z"
   },
   {
    "duration": 26,
    "start_time": "2024-10-08T21:52:22.654Z"
   },
   {
    "duration": 14,
    "start_time": "2024-10-08T21:52:22.706Z"
   },
   {
    "duration": 4,
    "start_time": "2024-10-08T21:52:22.721Z"
   },
   {
    "duration": 17,
    "start_time": "2024-10-08T21:52:22.727Z"
   },
   {
    "duration": 14,
    "start_time": "2024-10-08T21:52:22.745Z"
   },
   {
    "duration": 6,
    "start_time": "2024-10-08T21:52:22.761Z"
   },
   {
    "duration": 67,
    "start_time": "2024-10-08T21:52:22.769Z"
   },
   {
    "duration": 9,
    "start_time": "2024-10-08T21:52:22.838Z"
   },
   {
    "duration": 25,
    "start_time": "2024-10-08T21:52:22.850Z"
   },
   {
    "duration": 41,
    "start_time": "2024-10-08T21:52:22.877Z"
   },
   {
    "duration": 13,
    "start_time": "2024-10-08T21:52:22.920Z"
   },
   {
    "duration": 16,
    "start_time": "2024-10-08T21:52:22.935Z"
   },
   {
    "duration": 85,
    "start_time": "2024-10-08T21:52:22.953Z"
   },
   {
    "duration": 10,
    "start_time": "2024-10-08T21:52:23.039Z"
   },
   {
    "duration": 2,
    "start_time": "2024-10-08T21:52:23.050Z"
   },
   {
    "duration": 3,
    "start_time": "2024-10-08T21:52:23.054Z"
   },
   {
    "duration": 3,
    "start_time": "2024-10-08T21:52:23.058Z"
   },
   {
    "duration": 3,
    "start_time": "2024-10-08T21:52:23.063Z"
   },
   {
    "duration": 3,
    "start_time": "2024-10-08T21:52:23.067Z"
   },
   {
    "duration": 35,
    "start_time": "2024-10-08T21:52:23.071Z"
   },
   {
    "duration": 4,
    "start_time": "2024-10-08T21:52:23.108Z"
   },
   {
    "duration": 3,
    "start_time": "2024-10-08T21:52:23.114Z"
   },
   {
    "duration": 2,
    "start_time": "2024-10-08T21:52:23.119Z"
   },
   {
    "duration": 630,
    "start_time": "2024-10-08T21:53:10.315Z"
   },
   {
    "duration": 153,
    "start_time": "2024-10-08T21:53:10.948Z"
   },
   {
    "duration": 24,
    "start_time": "2024-10-08T21:53:11.103Z"
   },
   {
    "duration": 17,
    "start_time": "2024-10-08T21:53:11.130Z"
   },
   {
    "duration": 16,
    "start_time": "2024-10-08T21:53:11.148Z"
   },
   {
    "duration": 12,
    "start_time": "2024-10-08T21:53:11.166Z"
   },
   {
    "duration": 14,
    "start_time": "2024-10-08T21:53:11.204Z"
   },
   {
    "duration": 8,
    "start_time": "2024-10-08T21:53:11.220Z"
   },
   {
    "duration": 7,
    "start_time": "2024-10-08T21:53:11.230Z"
   },
   {
    "duration": 6,
    "start_time": "2024-10-08T21:53:11.240Z"
   },
   {
    "duration": 7,
    "start_time": "2024-10-08T21:53:11.248Z"
   },
   {
    "duration": 10,
    "start_time": "2024-10-08T21:53:11.257Z"
   },
   {
    "duration": 55,
    "start_time": "2024-10-08T21:53:11.268Z"
   },
   {
    "duration": 16,
    "start_time": "2024-10-08T21:53:11.324Z"
   },
   {
    "duration": 6,
    "start_time": "2024-10-08T21:53:11.342Z"
   },
   {
    "duration": 25,
    "start_time": "2024-10-08T21:53:11.350Z"
   },
   {
    "duration": 12,
    "start_time": "2024-10-08T21:53:11.405Z"
   },
   {
    "duration": 4,
    "start_time": "2024-10-08T21:53:11.419Z"
   },
   {
    "duration": 17,
    "start_time": "2024-10-08T21:53:11.425Z"
   },
   {
    "duration": 13,
    "start_time": "2024-10-08T21:53:11.444Z"
   },
   {
    "duration": 6,
    "start_time": "2024-10-08T21:53:11.458Z"
   },
   {
    "duration": 55,
    "start_time": "2024-10-08T21:53:11.465Z"
   },
   {
    "duration": 7,
    "start_time": "2024-10-08T21:53:11.522Z"
   },
   {
    "duration": 23,
    "start_time": "2024-10-08T21:53:11.531Z"
   },
   {
    "duration": 22,
    "start_time": "2024-10-08T21:53:11.556Z"
   },
   {
    "duration": 34,
    "start_time": "2024-10-08T21:53:11.580Z"
   },
   {
    "duration": 19,
    "start_time": "2024-10-08T21:53:11.615Z"
   },
   {
    "duration": 617,
    "start_time": "2024-10-08T21:53:11.638Z"
   },
   {
    "duration": 0,
    "start_time": "2024-10-08T21:53:12.258Z"
   },
   {
    "duration": 0,
    "start_time": "2024-10-08T21:53:12.259Z"
   },
   {
    "duration": 0,
    "start_time": "2024-10-08T21:53:12.261Z"
   },
   {
    "duration": 0,
    "start_time": "2024-10-08T21:53:12.262Z"
   },
   {
    "duration": 0,
    "start_time": "2024-10-08T21:53:12.263Z"
   },
   {
    "duration": 0,
    "start_time": "2024-10-08T21:53:12.265Z"
   },
   {
    "duration": 0,
    "start_time": "2024-10-08T21:53:12.267Z"
   },
   {
    "duration": 0,
    "start_time": "2024-10-08T21:53:12.268Z"
   },
   {
    "duration": 0,
    "start_time": "2024-10-08T21:53:12.270Z"
   },
   {
    "duration": 0,
    "start_time": "2024-10-08T21:53:12.271Z"
   },
   {
    "duration": 9,
    "start_time": "2024-10-08T21:55:33.974Z"
   },
   {
    "duration": 26,
    "start_time": "2024-10-08T21:56:05.630Z"
   },
   {
    "duration": 24,
    "start_time": "2024-10-08T21:56:18.333Z"
   },
   {
    "duration": 27,
    "start_time": "2024-10-08T21:56:32.214Z"
   },
   {
    "duration": 27,
    "start_time": "2024-10-08T21:56:33.724Z"
   },
   {
    "duration": 18,
    "start_time": "2024-10-08T21:56:42.626Z"
   },
   {
    "duration": 24,
    "start_time": "2024-10-08T21:57:03.024Z"
   },
   {
    "duration": 25,
    "start_time": "2024-10-08T21:57:03.691Z"
   },
   {
    "duration": 15,
    "start_time": "2024-10-08T21:57:04.365Z"
   },
   {
    "duration": 20,
    "start_time": "2024-10-08T21:57:06.848Z"
   },
   {
    "duration": 26,
    "start_time": "2024-10-08T21:57:47.833Z"
   },
   {
    "duration": 24,
    "start_time": "2024-10-08T22:03:12.726Z"
   },
   {
    "duration": 13,
    "start_time": "2024-10-08T22:05:51.364Z"
   },
   {
    "duration": 24,
    "start_time": "2024-10-08T22:07:01.310Z"
   },
   {
    "duration": 16,
    "start_time": "2024-10-08T22:07:34.433Z"
   },
   {
    "duration": 608,
    "start_time": "2024-10-08T22:07:50.535Z"
   },
   {
    "duration": 156,
    "start_time": "2024-10-08T22:07:51.145Z"
   },
   {
    "duration": 25,
    "start_time": "2024-10-08T22:07:51.303Z"
   },
   {
    "duration": 17,
    "start_time": "2024-10-08T22:07:51.330Z"
   },
   {
    "duration": 15,
    "start_time": "2024-10-08T22:07:51.349Z"
   },
   {
    "duration": 13,
    "start_time": "2024-10-08T22:07:51.365Z"
   },
   {
    "duration": 13,
    "start_time": "2024-10-08T22:07:51.406Z"
   },
   {
    "duration": 9,
    "start_time": "2024-10-08T22:07:51.420Z"
   },
   {
    "duration": 6,
    "start_time": "2024-10-08T22:07:51.431Z"
   },
   {
    "duration": 6,
    "start_time": "2024-10-08T22:07:51.440Z"
   },
   {
    "duration": 10,
    "start_time": "2024-10-08T22:07:51.448Z"
   },
   {
    "duration": 9,
    "start_time": "2024-10-08T22:07:51.460Z"
   },
   {
    "duration": 46,
    "start_time": "2024-10-08T22:07:51.470Z"
   },
   {
    "duration": 14,
    "start_time": "2024-10-08T22:07:51.518Z"
   },
   {
    "duration": 7,
    "start_time": "2024-10-08T22:07:51.534Z"
   },
   {
    "duration": 26,
    "start_time": "2024-10-08T22:07:51.543Z"
   },
   {
    "duration": 35,
    "start_time": "2024-10-08T22:07:51.571Z"
   },
   {
    "duration": 4,
    "start_time": "2024-10-08T22:07:51.608Z"
   },
   {
    "duration": 20,
    "start_time": "2024-10-08T22:07:51.613Z"
   },
   {
    "duration": 13,
    "start_time": "2024-10-08T22:07:51.635Z"
   },
   {
    "duration": 6,
    "start_time": "2024-10-08T22:07:51.650Z"
   },
   {
    "duration": 56,
    "start_time": "2024-10-08T22:07:51.658Z"
   },
   {
    "duration": 8,
    "start_time": "2024-10-08T22:07:51.716Z"
   },
   {
    "duration": 24,
    "start_time": "2024-10-08T22:07:51.726Z"
   },
   {
    "duration": 23,
    "start_time": "2024-10-08T22:07:51.752Z"
   },
   {
    "duration": 36,
    "start_time": "2024-10-08T22:07:51.777Z"
   },
   {
    "duration": 18,
    "start_time": "2024-10-08T22:07:51.814Z"
   },
   {
    "duration": 15,
    "start_time": "2024-10-08T22:07:51.835Z"
   },
   {
    "duration": 149,
    "start_time": "2024-10-08T22:07:51.851Z"
   },
   {
    "duration": 0,
    "start_time": "2024-10-08T22:07:52.005Z"
   },
   {
    "duration": 0,
    "start_time": "2024-10-08T22:07:52.006Z"
   },
   {
    "duration": 0,
    "start_time": "2024-10-08T22:07:52.008Z"
   },
   {
    "duration": 0,
    "start_time": "2024-10-08T22:07:52.009Z"
   },
   {
    "duration": 0,
    "start_time": "2024-10-08T22:07:52.010Z"
   },
   {
    "duration": 0,
    "start_time": "2024-10-08T22:07:52.012Z"
   },
   {
    "duration": 0,
    "start_time": "2024-10-08T22:07:52.014Z"
   },
   {
    "duration": 0,
    "start_time": "2024-10-08T22:07:52.015Z"
   },
   {
    "duration": 0,
    "start_time": "2024-10-08T22:07:52.016Z"
   },
   {
    "duration": 12,
    "start_time": "2024-10-08T22:08:14.313Z"
   },
   {
    "duration": 2,
    "start_time": "2024-10-08T22:08:26.831Z"
   },
   {
    "duration": 24,
    "start_time": "2024-10-08T22:08:37.582Z"
   },
   {
    "duration": 18,
    "start_time": "2024-10-08T22:08:45.568Z"
   },
   {
    "duration": 48,
    "start_time": "2024-10-08T22:12:41.703Z"
   },
   {
    "duration": 69,
    "start_time": "2024-10-08T22:14:47.213Z"
   },
   {
    "duration": 61,
    "start_time": "2024-10-08T22:15:29.351Z"
   },
   {
    "duration": 63,
    "start_time": "2024-10-08T22:16:57.844Z"
   },
   {
    "duration": 53,
    "start_time": "2024-10-08T22:17:10.675Z"
   },
   {
    "duration": 47,
    "start_time": "2024-10-08T22:17:26.007Z"
   },
   {
    "duration": 594,
    "start_time": "2024-10-08T22:17:42.150Z"
   },
   {
    "duration": 160,
    "start_time": "2024-10-08T22:17:42.746Z"
   },
   {
    "duration": 27,
    "start_time": "2024-10-08T22:17:42.909Z"
   },
   {
    "duration": 17,
    "start_time": "2024-10-08T22:17:42.939Z"
   },
   {
    "duration": 14,
    "start_time": "2024-10-08T22:17:42.958Z"
   },
   {
    "duration": 32,
    "start_time": "2024-10-08T22:17:42.974Z"
   },
   {
    "duration": 14,
    "start_time": "2024-10-08T22:17:43.009Z"
   },
   {
    "duration": 8,
    "start_time": "2024-10-08T22:17:43.025Z"
   },
   {
    "duration": 7,
    "start_time": "2024-10-08T22:17:43.034Z"
   },
   {
    "duration": 6,
    "start_time": "2024-10-08T22:17:43.044Z"
   },
   {
    "duration": 8,
    "start_time": "2024-10-08T22:17:43.051Z"
   },
   {
    "duration": 46,
    "start_time": "2024-10-08T22:17:43.061Z"
   },
   {
    "duration": 20,
    "start_time": "2024-10-08T22:17:43.108Z"
   },
   {
    "duration": 15,
    "start_time": "2024-10-08T22:17:43.130Z"
   },
   {
    "duration": 6,
    "start_time": "2024-10-08T22:17:43.148Z"
   },
   {
    "duration": 51,
    "start_time": "2024-10-08T22:17:43.156Z"
   },
   {
    "duration": 12,
    "start_time": "2024-10-08T22:17:43.210Z"
   },
   {
    "duration": 4,
    "start_time": "2024-10-08T22:17:43.224Z"
   },
   {
    "duration": 19,
    "start_time": "2024-10-08T22:17:43.230Z"
   },
   {
    "duration": 12,
    "start_time": "2024-10-08T22:17:43.251Z"
   },
   {
    "duration": 6,
    "start_time": "2024-10-08T22:17:43.265Z"
   },
   {
    "duration": 54,
    "start_time": "2024-10-08T22:17:43.273Z"
   },
   {
    "duration": 8,
    "start_time": "2024-10-08T22:17:43.329Z"
   },
   {
    "duration": 23,
    "start_time": "2024-10-08T22:17:43.339Z"
   },
   {
    "duration": 44,
    "start_time": "2024-10-08T22:17:43.363Z"
   },
   {
    "duration": 14,
    "start_time": "2024-10-08T22:17:43.408Z"
   },
   {
    "duration": 19,
    "start_time": "2024-10-08T22:17:43.423Z"
   },
   {
    "duration": 102,
    "start_time": "2024-10-08T22:17:43.446Z"
   },
   {
    "duration": 71,
    "start_time": "2024-10-08T22:17:43.550Z"
   },
   {
    "duration": 2,
    "start_time": "2024-10-08T22:17:43.623Z"
   },
   {
    "duration": 4,
    "start_time": "2024-10-08T22:17:43.626Z"
   },
   {
    "duration": 2,
    "start_time": "2024-10-08T22:17:43.632Z"
   },
   {
    "duration": 3,
    "start_time": "2024-10-08T22:17:43.636Z"
   },
   {
    "duration": 4,
    "start_time": "2024-10-08T22:17:43.640Z"
   },
   {
    "duration": 3,
    "start_time": "2024-10-08T22:17:43.645Z"
   },
   {
    "duration": 4,
    "start_time": "2024-10-08T22:17:43.650Z"
   },
   {
    "duration": 2,
    "start_time": "2024-10-08T22:17:43.656Z"
   },
   {
    "duration": 3,
    "start_time": "2024-10-08T22:17:43.659Z"
   },
   {
    "duration": 611,
    "start_time": "2024-10-08T22:27:38.730Z"
   },
   {
    "duration": 161,
    "start_time": "2024-10-08T22:27:39.343Z"
   },
   {
    "duration": 24,
    "start_time": "2024-10-08T22:27:39.506Z"
   },
   {
    "duration": 17,
    "start_time": "2024-10-08T22:27:39.533Z"
   },
   {
    "duration": 14,
    "start_time": "2024-10-08T22:27:39.552Z"
   },
   {
    "duration": 37,
    "start_time": "2024-10-08T22:27:39.568Z"
   },
   {
    "duration": 15,
    "start_time": "2024-10-08T22:27:39.607Z"
   },
   {
    "duration": 8,
    "start_time": "2024-10-08T22:27:39.624Z"
   },
   {
    "duration": 4,
    "start_time": "2024-10-08T22:27:39.634Z"
   },
   {
    "duration": 4,
    "start_time": "2024-10-08T22:27:39.641Z"
   },
   {
    "duration": 9,
    "start_time": "2024-10-08T22:27:39.646Z"
   },
   {
    "duration": 8,
    "start_time": "2024-10-08T22:27:39.656Z"
   },
   {
    "duration": 55,
    "start_time": "2024-10-08T22:27:39.665Z"
   },
   {
    "duration": 16,
    "start_time": "2024-10-08T22:27:39.721Z"
   },
   {
    "duration": 6,
    "start_time": "2024-10-08T22:27:39.739Z"
   },
   {
    "duration": 25,
    "start_time": "2024-10-08T22:27:39.747Z"
   },
   {
    "duration": 41,
    "start_time": "2024-10-08T22:27:39.774Z"
   },
   {
    "duration": 6,
    "start_time": "2024-10-08T22:27:39.816Z"
   },
   {
    "duration": 17,
    "start_time": "2024-10-08T22:27:39.824Z"
   },
   {
    "duration": 12,
    "start_time": "2024-10-08T22:27:39.843Z"
   },
   {
    "duration": 5,
    "start_time": "2024-10-08T22:27:39.857Z"
   },
   {
    "duration": 53,
    "start_time": "2024-10-08T22:27:39.864Z"
   },
   {
    "duration": 8,
    "start_time": "2024-10-08T22:27:39.919Z"
   },
   {
    "duration": 23,
    "start_time": "2024-10-08T22:27:39.929Z"
   },
   {
    "duration": 25,
    "start_time": "2024-10-08T22:27:39.954Z"
   },
   {
    "duration": 35,
    "start_time": "2024-10-08T22:27:39.981Z"
   },
   {
    "duration": 18,
    "start_time": "2024-10-08T22:27:40.018Z"
   },
   {
    "duration": 100,
    "start_time": "2024-10-08T22:27:40.040Z"
   },
   {
    "duration": 66,
    "start_time": "2024-10-08T22:27:40.142Z"
   },
   {
    "duration": 5,
    "start_time": "2024-10-08T22:27:40.210Z"
   },
   {
    "duration": 0,
    "start_time": "2024-10-08T22:27:40.217Z"
   },
   {
    "duration": 0,
    "start_time": "2024-10-08T22:27:40.218Z"
   },
   {
    "duration": 0,
    "start_time": "2024-10-08T22:27:40.219Z"
   },
   {
    "duration": 0,
    "start_time": "2024-10-08T22:27:40.221Z"
   },
   {
    "duration": 0,
    "start_time": "2024-10-08T22:27:40.222Z"
   },
   {
    "duration": 0,
    "start_time": "2024-10-08T22:27:40.222Z"
   },
   {
    "duration": 0,
    "start_time": "2024-10-08T22:27:40.223Z"
   },
   {
    "duration": 0,
    "start_time": "2024-10-08T22:27:40.225Z"
   },
   {
    "duration": 5,
    "start_time": "2024-10-08T22:38:09.457Z"
   },
   {
    "duration": 811,
    "start_time": "2024-10-08T22:43:21.173Z"
   },
   {
    "duration": 47,
    "start_time": "2024-10-08T22:44:41.764Z"
   },
   {
    "duration": 52,
    "start_time": "2024-10-08T22:45:11.207Z"
   },
   {
    "duration": 71,
    "start_time": "2024-10-08T22:46:24.633Z"
   },
   {
    "duration": 129,
    "start_time": "2024-10-08T22:47:00.705Z"
   },
   {
    "duration": 27,
    "start_time": "2024-10-08T22:48:30.355Z"
   },
   {
    "duration": 30,
    "start_time": "2024-10-08T22:49:31.708Z"
   },
   {
    "duration": 62,
    "start_time": "2024-10-08T22:49:49.614Z"
   },
   {
    "duration": 631,
    "start_time": "2024-10-08T22:50:10.616Z"
   },
   {
    "duration": 166,
    "start_time": "2024-10-08T22:50:11.249Z"
   },
   {
    "duration": 24,
    "start_time": "2024-10-08T22:50:11.417Z"
   },
   {
    "duration": 17,
    "start_time": "2024-10-08T22:50:11.442Z"
   },
   {
    "duration": 15,
    "start_time": "2024-10-08T22:50:11.463Z"
   },
   {
    "duration": 36,
    "start_time": "2024-10-08T22:50:11.479Z"
   },
   {
    "duration": 14,
    "start_time": "2024-10-08T22:50:11.516Z"
   },
   {
    "duration": 8,
    "start_time": "2024-10-08T22:50:11.531Z"
   },
   {
    "duration": 5,
    "start_time": "2024-10-08T22:50:11.541Z"
   },
   {
    "duration": 5,
    "start_time": "2024-10-08T22:50:11.548Z"
   },
   {
    "duration": 8,
    "start_time": "2024-10-08T22:50:11.554Z"
   },
   {
    "duration": 44,
    "start_time": "2024-10-08T22:50:11.564Z"
   },
   {
    "duration": 16,
    "start_time": "2024-10-08T22:50:11.610Z"
   },
   {
    "duration": 14,
    "start_time": "2024-10-08T22:50:11.630Z"
   },
   {
    "duration": 9,
    "start_time": "2024-10-08T22:50:11.645Z"
   },
   {
    "duration": 50,
    "start_time": "2024-10-08T22:50:11.655Z"
   },
   {
    "duration": 13,
    "start_time": "2024-10-08T22:50:11.707Z"
   },
   {
    "duration": 4,
    "start_time": "2024-10-08T22:50:11.721Z"
   },
   {
    "duration": 16,
    "start_time": "2024-10-08T22:50:11.727Z"
   },
   {
    "duration": 12,
    "start_time": "2024-10-08T22:50:11.745Z"
   },
   {
    "duration": 5,
    "start_time": "2024-10-08T22:50:11.759Z"
   },
   {
    "duration": 52,
    "start_time": "2024-10-08T22:50:11.766Z"
   },
   {
    "duration": 8,
    "start_time": "2024-10-08T22:50:11.820Z"
   },
   {
    "duration": 22,
    "start_time": "2024-10-08T22:50:11.830Z"
   },
   {
    "duration": 23,
    "start_time": "2024-10-08T22:50:11.854Z"
   },
   {
    "duration": 37,
    "start_time": "2024-10-08T22:50:11.878Z"
   },
   {
    "duration": 18,
    "start_time": "2024-10-08T22:50:11.918Z"
   },
   {
    "duration": 97,
    "start_time": "2024-10-08T22:50:11.938Z"
   },
   {
    "duration": 70,
    "start_time": "2024-10-08T22:50:12.037Z"
   },
   {
    "duration": 276,
    "start_time": "2024-10-08T22:50:12.109Z"
   },
   {
    "duration": 0,
    "start_time": "2024-10-08T22:50:12.387Z"
   },
   {
    "duration": 0,
    "start_time": "2024-10-08T22:50:12.388Z"
   },
   {
    "duration": 0,
    "start_time": "2024-10-08T22:50:12.389Z"
   },
   {
    "duration": 0,
    "start_time": "2024-10-08T22:50:12.390Z"
   },
   {
    "duration": 1,
    "start_time": "2024-10-08T22:50:12.391Z"
   },
   {
    "duration": 0,
    "start_time": "2024-10-08T22:50:12.393Z"
   },
   {
    "duration": 0,
    "start_time": "2024-10-08T22:50:12.405Z"
   },
   {
    "duration": 0,
    "start_time": "2024-10-08T22:50:12.406Z"
   },
   {
    "duration": 107,
    "start_time": "2024-10-08T22:50:28.329Z"
   },
   {
    "duration": 615,
    "start_time": "2024-10-08T22:50:54.229Z"
   },
   {
    "duration": 159,
    "start_time": "2024-10-08T22:50:54.847Z"
   },
   {
    "duration": 25,
    "start_time": "2024-10-08T22:50:55.008Z"
   },
   {
    "duration": 18,
    "start_time": "2024-10-08T22:50:55.036Z"
   },
   {
    "duration": 15,
    "start_time": "2024-10-08T22:50:55.056Z"
   },
   {
    "duration": 40,
    "start_time": "2024-10-08T22:50:55.073Z"
   },
   {
    "duration": 13,
    "start_time": "2024-10-08T22:50:55.115Z"
   },
   {
    "duration": 7,
    "start_time": "2024-10-08T22:50:55.130Z"
   },
   {
    "duration": 5,
    "start_time": "2024-10-08T22:50:55.140Z"
   },
   {
    "duration": 4,
    "start_time": "2024-10-08T22:50:55.148Z"
   },
   {
    "duration": 8,
    "start_time": "2024-10-08T22:50:55.154Z"
   },
   {
    "duration": 44,
    "start_time": "2024-10-08T22:50:55.163Z"
   },
   {
    "duration": 17,
    "start_time": "2024-10-08T22:50:55.209Z"
   },
   {
    "duration": 14,
    "start_time": "2024-10-08T22:50:55.228Z"
   },
   {
    "duration": 7,
    "start_time": "2024-10-08T22:50:55.243Z"
   },
   {
    "duration": 54,
    "start_time": "2024-10-08T22:50:55.252Z"
   },
   {
    "duration": 11,
    "start_time": "2024-10-08T22:50:55.308Z"
   },
   {
    "duration": 5,
    "start_time": "2024-10-08T22:50:55.320Z"
   },
   {
    "duration": 17,
    "start_time": "2024-10-08T22:50:55.326Z"
   },
   {
    "duration": 13,
    "start_time": "2024-10-08T22:50:55.345Z"
   },
   {
    "duration": 6,
    "start_time": "2024-10-08T22:50:55.360Z"
   },
   {
    "duration": 22,
    "start_time": "2024-10-08T22:50:55.404Z"
   },
   {
    "duration": 8,
    "start_time": "2024-10-08T22:50:55.428Z"
   },
   {
    "duration": 23,
    "start_time": "2024-10-08T22:50:55.438Z"
   },
   {
    "duration": 47,
    "start_time": "2024-10-08T22:50:55.464Z"
   },
   {
    "duration": 15,
    "start_time": "2024-10-08T22:50:55.513Z"
   },
   {
    "duration": 19,
    "start_time": "2024-10-08T22:50:55.529Z"
   },
   {
    "duration": 105,
    "start_time": "2024-10-08T22:50:55.551Z"
   },
   {
    "duration": 90,
    "start_time": "2024-10-08T22:50:55.657Z"
   },
   {
    "duration": 264,
    "start_time": "2024-10-08T22:50:55.749Z"
   },
   {
    "duration": 0,
    "start_time": "2024-10-08T22:50:56.015Z"
   },
   {
    "duration": 0,
    "start_time": "2024-10-08T22:50:56.016Z"
   },
   {
    "duration": 0,
    "start_time": "2024-10-08T22:50:56.017Z"
   },
   {
    "duration": 0,
    "start_time": "2024-10-08T22:50:56.019Z"
   },
   {
    "duration": 0,
    "start_time": "2024-10-08T22:50:56.020Z"
   },
   {
    "duration": 0,
    "start_time": "2024-10-08T22:50:56.021Z"
   },
   {
    "duration": 0,
    "start_time": "2024-10-08T22:50:56.021Z"
   },
   {
    "duration": 0,
    "start_time": "2024-10-08T22:50:56.022Z"
   },
   {
    "duration": 26,
    "start_time": "2024-10-08T22:51:40.936Z"
   },
   {
    "duration": 12,
    "start_time": "2024-10-08T22:51:51.013Z"
   },
   {
    "duration": 428,
    "start_time": "2024-10-08T22:53:06.430Z"
   },
   {
    "duration": 48,
    "start_time": "2024-10-08T22:54:01.506Z"
   },
   {
    "duration": 49,
    "start_time": "2024-10-08T22:54:51.761Z"
   },
   {
    "duration": 47,
    "start_time": "2024-10-08T22:54:56.833Z"
   },
   {
    "duration": 46,
    "start_time": "2024-10-08T22:55:12.083Z"
   },
   {
    "duration": 605,
    "start_time": "2024-10-08T22:55:39.243Z"
   },
   {
    "duration": 157,
    "start_time": "2024-10-08T22:55:39.850Z"
   },
   {
    "duration": 24,
    "start_time": "2024-10-08T22:55:40.009Z"
   },
   {
    "duration": 17,
    "start_time": "2024-10-08T22:55:40.036Z"
   },
   {
    "duration": 14,
    "start_time": "2024-10-08T22:55:40.054Z"
   },
   {
    "duration": 40,
    "start_time": "2024-10-08T22:55:40.070Z"
   },
   {
    "duration": 13,
    "start_time": "2024-10-08T22:55:40.112Z"
   },
   {
    "duration": 7,
    "start_time": "2024-10-08T22:55:40.127Z"
   },
   {
    "duration": 5,
    "start_time": "2024-10-08T22:55:40.135Z"
   },
   {
    "duration": 4,
    "start_time": "2024-10-08T22:55:40.143Z"
   },
   {
    "duration": 8,
    "start_time": "2024-10-08T22:55:40.149Z"
   },
   {
    "duration": 9,
    "start_time": "2024-10-08T22:55:40.158Z"
   },
   {
    "duration": 16,
    "start_time": "2024-10-08T22:55:40.206Z"
   },
   {
    "duration": 15,
    "start_time": "2024-10-08T22:55:40.223Z"
   },
   {
    "duration": 6,
    "start_time": "2024-10-08T22:55:40.240Z"
   },
   {
    "duration": 24,
    "start_time": "2024-10-08T22:55:40.248Z"
   },
   {
    "duration": 48,
    "start_time": "2024-10-08T22:55:40.273Z"
   },
   {
    "duration": 5,
    "start_time": "2024-10-08T22:55:40.324Z"
   },
   {
    "duration": 19,
    "start_time": "2024-10-08T22:55:40.330Z"
   },
   {
    "duration": 14,
    "start_time": "2024-10-08T22:55:40.351Z"
   },
   {
    "duration": 7,
    "start_time": "2024-10-08T22:55:40.366Z"
   },
   {
    "duration": 46,
    "start_time": "2024-10-08T22:55:40.374Z"
   },
   {
    "duration": 7,
    "start_time": "2024-10-08T22:55:40.422Z"
   },
   {
    "duration": 23,
    "start_time": "2024-10-08T22:55:40.431Z"
   },
   {
    "duration": 24,
    "start_time": "2024-10-08T22:55:40.455Z"
   },
   {
    "duration": 12,
    "start_time": "2024-10-08T22:55:40.505Z"
   },
   {
    "duration": 19,
    "start_time": "2024-10-08T22:55:40.519Z"
   },
   {
    "duration": 97,
    "start_time": "2024-10-08T22:55:40.542Z"
   },
   {
    "duration": 74,
    "start_time": "2024-10-08T22:55:40.641Z"
   },
   {
    "duration": 644,
    "start_time": "2024-10-08T22:55:40.718Z"
   },
   {
    "duration": 0,
    "start_time": "2024-10-08T22:55:41.364Z"
   },
   {
    "duration": 0,
    "start_time": "2024-10-08T22:55:41.365Z"
   },
   {
    "duration": 0,
    "start_time": "2024-10-08T22:55:41.366Z"
   },
   {
    "duration": 0,
    "start_time": "2024-10-08T22:55:41.368Z"
   },
   {
    "duration": 0,
    "start_time": "2024-10-08T22:55:41.369Z"
   },
   {
    "duration": 0,
    "start_time": "2024-10-08T22:55:41.370Z"
   },
   {
    "duration": 0,
    "start_time": "2024-10-08T22:55:41.372Z"
   },
   {
    "duration": 0,
    "start_time": "2024-10-08T22:55:41.373Z"
   },
   {
    "duration": 69,
    "start_time": "2024-10-08T22:56:13.986Z"
   },
   {
    "duration": 44,
    "start_time": "2024-10-08T22:56:17.740Z"
   },
   {
    "duration": 174,
    "start_time": "2024-10-09T15:57:32.395Z"
   },
   {
    "duration": 628,
    "start_time": "2024-10-09T15:57:47.543Z"
   },
   {
    "duration": 247,
    "start_time": "2024-10-09T15:57:48.174Z"
   },
   {
    "duration": 27,
    "start_time": "2024-10-09T15:57:48.422Z"
   },
   {
    "duration": 18,
    "start_time": "2024-10-09T15:57:48.452Z"
   },
   {
    "duration": 17,
    "start_time": "2024-10-09T15:57:48.472Z"
   },
   {
    "duration": 40,
    "start_time": "2024-10-09T15:57:48.491Z"
   },
   {
    "duration": 16,
    "start_time": "2024-10-09T15:57:48.534Z"
   },
   {
    "duration": 11,
    "start_time": "2024-10-09T15:57:48.552Z"
   },
   {
    "duration": 5,
    "start_time": "2024-10-09T15:57:48.565Z"
   },
   {
    "duration": 6,
    "start_time": "2024-10-09T15:57:48.574Z"
   },
   {
    "duration": 8,
    "start_time": "2024-10-09T15:57:48.582Z"
   },
   {
    "duration": 46,
    "start_time": "2024-10-09T15:57:48.592Z"
   },
   {
    "duration": 17,
    "start_time": "2024-10-09T15:57:48.641Z"
   },
   {
    "duration": 16,
    "start_time": "2024-10-09T15:57:48.659Z"
   },
   {
    "duration": 6,
    "start_time": "2024-10-09T15:57:48.677Z"
   },
   {
    "duration": 55,
    "start_time": "2024-10-09T15:57:48.685Z"
   },
   {
    "duration": 14,
    "start_time": "2024-10-09T15:57:48.742Z"
   },
   {
    "duration": 5,
    "start_time": "2024-10-09T15:57:48.758Z"
   },
   {
    "duration": 19,
    "start_time": "2024-10-09T15:57:48.765Z"
   },
   {
    "duration": 14,
    "start_time": "2024-10-09T15:57:48.786Z"
   },
   {
    "duration": 35,
    "start_time": "2024-10-09T15:57:48.801Z"
   },
   {
    "duration": 22,
    "start_time": "2024-10-09T15:57:48.837Z"
   },
   {
    "duration": 8,
    "start_time": "2024-10-09T15:57:48.860Z"
   },
   {
    "duration": 24,
    "start_time": "2024-10-09T15:57:48.870Z"
   },
   {
    "duration": 49,
    "start_time": "2024-10-09T15:57:48.896Z"
   },
   {
    "duration": 13,
    "start_time": "2024-10-09T15:57:48.947Z"
   },
   {
    "duration": 19,
    "start_time": "2024-10-09T15:57:48.962Z"
   },
   {
    "duration": 106,
    "start_time": "2024-10-09T15:57:48.984Z"
   },
   {
    "duration": 79,
    "start_time": "2024-10-09T15:57:49.091Z"
   },
   {
    "duration": 263,
    "start_time": "2024-10-09T15:57:49.172Z"
   },
   {
    "duration": 0,
    "start_time": "2024-10-09T15:57:49.437Z"
   },
   {
    "duration": 0,
    "start_time": "2024-10-09T15:57:49.438Z"
   },
   {
    "duration": 0,
    "start_time": "2024-10-09T15:57:49.439Z"
   },
   {
    "duration": 0,
    "start_time": "2024-10-09T15:57:49.440Z"
   },
   {
    "duration": 0,
    "start_time": "2024-10-09T15:57:49.441Z"
   },
   {
    "duration": 0,
    "start_time": "2024-10-09T15:57:49.442Z"
   },
   {
    "duration": 0,
    "start_time": "2024-10-09T15:57:49.443Z"
   },
   {
    "duration": 0,
    "start_time": "2024-10-09T15:57:49.444Z"
   },
   {
    "duration": 591,
    "start_time": "2024-10-09T15:58:09.779Z"
   },
   {
    "duration": 178,
    "start_time": "2024-10-09T15:58:10.372Z"
   },
   {
    "duration": 27,
    "start_time": "2024-10-09T15:58:10.552Z"
   },
   {
    "duration": 18,
    "start_time": "2024-10-09T15:58:10.581Z"
   },
   {
    "duration": 34,
    "start_time": "2024-10-09T15:58:10.601Z"
   },
   {
    "duration": 15,
    "start_time": "2024-10-09T15:58:10.637Z"
   },
   {
    "duration": 15,
    "start_time": "2024-10-09T15:58:10.653Z"
   },
   {
    "duration": 8,
    "start_time": "2024-10-09T15:58:10.669Z"
   },
   {
    "duration": 5,
    "start_time": "2024-10-09T15:58:10.679Z"
   },
   {
    "duration": 5,
    "start_time": "2024-10-09T15:58:10.686Z"
   },
   {
    "duration": 8,
    "start_time": "2024-10-09T15:58:10.731Z"
   },
   {
    "duration": 8,
    "start_time": "2024-10-09T15:58:10.741Z"
   },
   {
    "duration": 16,
    "start_time": "2024-10-09T15:58:10.751Z"
   },
   {
    "duration": 16,
    "start_time": "2024-10-09T15:58:10.771Z"
   },
   {
    "duration": 7,
    "start_time": "2024-10-09T15:58:10.789Z"
   },
   {
    "duration": 54,
    "start_time": "2024-10-09T15:58:10.798Z"
   },
   {
    "duration": 13,
    "start_time": "2024-10-09T15:58:10.854Z"
   },
   {
    "duration": 7,
    "start_time": "2024-10-09T15:58:10.869Z"
   },
   {
    "duration": 23,
    "start_time": "2024-10-09T15:58:10.877Z"
   },
   {
    "duration": 45,
    "start_time": "2024-10-09T15:58:10.902Z"
   },
   {
    "duration": 8,
    "start_time": "2024-10-09T15:58:10.952Z"
   },
   {
    "duration": 22,
    "start_time": "2024-10-09T15:58:10.963Z"
   },
   {
    "duration": 8,
    "start_time": "2024-10-09T15:58:10.988Z"
   },
   {
    "duration": 49,
    "start_time": "2024-10-09T15:58:10.999Z"
   },
   {
    "duration": 25,
    "start_time": "2024-10-09T15:58:11.049Z"
   },
   {
    "duration": 13,
    "start_time": "2024-10-09T15:58:11.076Z"
   },
   {
    "duration": 18,
    "start_time": "2024-10-09T15:58:11.091Z"
   },
   {
    "duration": 84,
    "start_time": "2024-10-09T15:58:11.132Z"
   },
   {
    "duration": 74,
    "start_time": "2024-10-09T15:58:11.231Z"
   },
   {
    "duration": 971,
    "start_time": "2024-10-09T15:58:11.307Z"
   },
   {
    "duration": 0,
    "start_time": "2024-10-09T15:58:12.280Z"
   },
   {
    "duration": 0,
    "start_time": "2024-10-09T15:58:12.282Z"
   },
   {
    "duration": 0,
    "start_time": "2024-10-09T15:58:12.283Z"
   },
   {
    "duration": 0,
    "start_time": "2024-10-09T15:58:12.284Z"
   },
   {
    "duration": 0,
    "start_time": "2024-10-09T15:58:12.285Z"
   },
   {
    "duration": 0,
    "start_time": "2024-10-09T15:58:12.286Z"
   },
   {
    "duration": 0,
    "start_time": "2024-10-09T15:58:12.287Z"
   },
   {
    "duration": 0,
    "start_time": "2024-10-09T15:58:12.288Z"
   },
   {
    "duration": 148,
    "start_time": "2024-10-09T15:58:44.820Z"
   },
   {
    "duration": 8247,
    "start_time": "2024-10-09T15:59:09.528Z"
   },
   {
    "duration": 8814,
    "start_time": "2024-10-09T15:59:42.000Z"
   },
   {
    "duration": 64,
    "start_time": "2024-10-09T16:09:31.773Z"
   },
   {
    "duration": 44,
    "start_time": "2024-10-09T16:13:13.748Z"
   },
   {
    "duration": 2736,
    "start_time": "2024-10-09T16:14:35.090Z"
   },
   {
    "duration": 226,
    "start_time": "2024-10-09T16:14:37.831Z"
   },
   {
    "duration": 22,
    "start_time": "2024-10-09T16:14:38.059Z"
   },
   {
    "duration": 20,
    "start_time": "2024-10-09T16:14:38.084Z"
   },
   {
    "duration": 32,
    "start_time": "2024-10-09T16:14:38.105Z"
   },
   {
    "duration": 15,
    "start_time": "2024-10-09T16:14:38.139Z"
   },
   {
    "duration": 14,
    "start_time": "2024-10-09T16:14:38.156Z"
   },
   {
    "duration": 9,
    "start_time": "2024-10-09T16:14:38.171Z"
   },
   {
    "duration": 5,
    "start_time": "2024-10-09T16:14:38.182Z"
   },
   {
    "duration": 5,
    "start_time": "2024-10-09T16:14:38.190Z"
   },
   {
    "duration": 9,
    "start_time": "2024-10-09T16:14:38.231Z"
   },
   {
    "duration": 8,
    "start_time": "2024-10-09T16:14:38.244Z"
   },
   {
    "duration": 18,
    "start_time": "2024-10-09T16:14:38.254Z"
   },
   {
    "duration": 15,
    "start_time": "2024-10-09T16:14:38.274Z"
   },
   {
    "duration": 7,
    "start_time": "2024-10-09T16:14:38.291Z"
   },
   {
    "duration": 29,
    "start_time": "2024-10-09T16:14:38.333Z"
   },
   {
    "duration": 11,
    "start_time": "2024-10-09T16:14:38.364Z"
   },
   {
    "duration": 4,
    "start_time": "2024-10-09T16:14:38.377Z"
   },
   {
    "duration": 18,
    "start_time": "2024-10-09T16:14:38.383Z"
   },
   {
    "duration": 15,
    "start_time": "2024-10-09T16:14:38.431Z"
   },
   {
    "duration": 7,
    "start_time": "2024-10-09T16:14:38.447Z"
   },
   {
    "duration": 25,
    "start_time": "2024-10-09T16:14:38.456Z"
   },
   {
    "duration": 10,
    "start_time": "2024-10-09T16:14:38.483Z"
   },
   {
    "duration": 49,
    "start_time": "2024-10-09T16:14:38.495Z"
   },
   {
    "duration": 26,
    "start_time": "2024-10-09T16:14:38.546Z"
   },
   {
    "duration": 14,
    "start_time": "2024-10-09T16:14:38.573Z"
   },
   {
    "duration": 45,
    "start_time": "2024-10-09T16:14:38.589Z"
   },
   {
    "duration": 93,
    "start_time": "2024-10-09T16:14:38.638Z"
   },
   {
    "duration": 82,
    "start_time": "2024-10-09T16:14:38.733Z"
   },
   {
    "duration": 8029,
    "start_time": "2024-10-09T16:14:38.817Z"
   },
   {
    "duration": 45,
    "start_time": "2024-10-09T16:14:46.848Z"
   },
   {
    "duration": 4,
    "start_time": "2024-10-09T16:14:46.894Z"
   },
   {
    "duration": 2,
    "start_time": "2024-10-09T16:14:46.900Z"
   },
   {
    "duration": 2,
    "start_time": "2024-10-09T16:14:46.904Z"
   },
   {
    "duration": 26,
    "start_time": "2024-10-09T16:14:46.907Z"
   },
   {
    "duration": 2,
    "start_time": "2024-10-09T16:14:46.935Z"
   },
   {
    "duration": 2,
    "start_time": "2024-10-09T16:14:46.939Z"
   },
   {
    "duration": 2,
    "start_time": "2024-10-09T16:14:46.943Z"
   },
   {
    "duration": 2,
    "start_time": "2024-10-09T16:18:10.848Z"
   },
   {
    "duration": 10,
    "start_time": "2024-10-09T16:20:15.988Z"
   },
   {
    "duration": 18,
    "start_time": "2024-10-09T16:21:38.009Z"
   },
   {
    "duration": 131,
    "start_time": "2024-10-09T16:23:19.203Z"
   },
   {
    "duration": 31,
    "start_time": "2024-10-09T16:23:27.583Z"
   },
   {
    "duration": 33,
    "start_time": "2024-10-09T16:23:48.726Z"
   },
   {
    "duration": 31,
    "start_time": "2024-10-09T16:23:53.759Z"
   },
   {
    "duration": 75,
    "start_time": "2024-10-09T16:24:43.470Z"
   },
   {
    "duration": 32,
    "start_time": "2024-10-09T16:27:36.152Z"
   },
   {
    "duration": 43,
    "start_time": "2024-10-09T16:27:37.317Z"
   },
   {
    "duration": 30,
    "start_time": "2024-10-09T17:04:09.122Z"
   },
   {
    "duration": 42,
    "start_time": "2024-10-09T17:04:10.732Z"
   },
   {
    "duration": 31,
    "start_time": "2024-10-09T17:04:25.454Z"
   },
   {
    "duration": 50,
    "start_time": "2024-10-09T17:04:48.667Z"
   },
   {
    "duration": 44,
    "start_time": "2024-10-09T17:04:54.547Z"
   },
   {
    "duration": 34,
    "start_time": "2024-10-09T17:05:11.029Z"
   },
   {
    "duration": 42,
    "start_time": "2024-10-09T17:05:23.692Z"
   },
   {
    "duration": 44,
    "start_time": "2024-10-09T17:05:27.130Z"
   },
   {
    "duration": 46,
    "start_time": "2024-10-09T17:05:41.519Z"
   },
   {
    "duration": 178,
    "start_time": "2024-10-09T17:09:42.827Z"
   },
   {
    "duration": 485,
    "start_time": "2024-10-09T17:10:09.672Z"
   },
   {
    "duration": 82,
    "start_time": "2024-10-09T17:10:35.579Z"
   },
   {
    "duration": 220,
    "start_time": "2024-10-09T17:10:48.673Z"
   },
   {
    "duration": 224,
    "start_time": "2024-10-09T17:11:14.014Z"
   },
   {
    "duration": 245,
    "start_time": "2024-10-09T17:19:42.477Z"
   },
   {
    "duration": 197,
    "start_time": "2024-10-09T17:19:58.405Z"
   },
   {
    "duration": 6,
    "start_time": "2024-10-09T17:20:51.682Z"
   },
   {
    "duration": 13,
    "start_time": "2024-10-09T17:21:11.037Z"
   },
   {
    "duration": 19,
    "start_time": "2024-10-09T17:21:30.879Z"
   },
   {
    "duration": 35,
    "start_time": "2024-10-09T17:21:56.441Z"
   },
   {
    "duration": 43,
    "start_time": "2024-10-09T17:24:06.780Z"
   },
   {
    "duration": 205,
    "start_time": "2024-10-09T17:24:14.560Z"
   },
   {
    "duration": 161,
    "start_time": "2024-10-09T17:24:47.117Z"
   },
   {
    "duration": 291,
    "start_time": "2024-10-09T17:25:03.160Z"
   },
   {
    "duration": 186,
    "start_time": "2024-10-09T17:25:26.213Z"
   },
   {
    "duration": 44,
    "start_time": "2024-10-09T17:28:17.860Z"
   },
   {
    "duration": 44,
    "start_time": "2024-10-09T17:28:29.857Z"
   },
   {
    "duration": 43,
    "start_time": "2024-10-09T17:28:44.451Z"
   },
   {
    "duration": 144,
    "start_time": "2024-10-09T17:28:59.189Z"
   },
   {
    "duration": 35,
    "start_time": "2024-10-09T17:29:31.772Z"
   },
   {
    "duration": 307,
    "start_time": "2024-10-09T17:32:33.701Z"
   },
   {
    "duration": 95,
    "start_time": "2024-10-09T17:34:00.012Z"
   },
   {
    "duration": 315,
    "start_time": "2024-10-09T17:34:16.006Z"
   },
   {
    "duration": 413,
    "start_time": "2024-10-09T17:41:53.524Z"
   },
   {
    "duration": 3,
    "start_time": "2024-10-09T17:46:04.139Z"
   },
   {
    "duration": 3,
    "start_time": "2024-10-09T17:46:58.807Z"
   },
   {
    "duration": 8,
    "start_time": "2024-10-09T17:48:09.973Z"
   },
   {
    "duration": 4,
    "start_time": "2024-10-09T17:48:29.076Z"
   },
   {
    "duration": 6,
    "start_time": "2024-10-09T17:49:52.978Z"
   },
   {
    "duration": 153,
    "start_time": "2024-10-09T17:52:04.149Z"
   },
   {
    "duration": 79,
    "start_time": "2024-10-09T17:52:24.589Z"
   },
   {
    "duration": 76,
    "start_time": "2024-10-09T17:53:22.949Z"
   },
   {
    "duration": 2615,
    "start_time": "2024-10-10T15:02:40.199Z"
   },
   {
    "duration": 266,
    "start_time": "2024-10-10T15:02:42.816Z"
   },
   {
    "duration": 25,
    "start_time": "2024-10-10T15:02:43.084Z"
   },
   {
    "duration": 25,
    "start_time": "2024-10-10T15:02:43.113Z"
   },
   {
    "duration": 19,
    "start_time": "2024-10-10T15:02:43.140Z"
   },
   {
    "duration": 17,
    "start_time": "2024-10-10T15:02:43.161Z"
   },
   {
    "duration": 30,
    "start_time": "2024-10-10T15:02:43.180Z"
   },
   {
    "duration": 18,
    "start_time": "2024-10-10T15:02:43.216Z"
   },
   {
    "duration": 6,
    "start_time": "2024-10-10T15:02:43.237Z"
   },
   {
    "duration": 6,
    "start_time": "2024-10-10T15:02:43.247Z"
   },
   {
    "duration": 11,
    "start_time": "2024-10-10T15:02:43.256Z"
   },
   {
    "duration": 12,
    "start_time": "2024-10-10T15:02:43.269Z"
   },
   {
    "duration": 63,
    "start_time": "2024-10-10T15:02:43.283Z"
   },
   {
    "duration": 17,
    "start_time": "2024-10-10T15:02:43.347Z"
   },
   {
    "duration": 8,
    "start_time": "2024-10-10T15:02:43.366Z"
   },
   {
    "duration": 61,
    "start_time": "2024-10-10T15:02:43.377Z"
   },
   {
    "duration": 13,
    "start_time": "2024-10-10T15:02:43.440Z"
   },
   {
    "duration": 5,
    "start_time": "2024-10-10T15:02:43.455Z"
   },
   {
    "duration": 19,
    "start_time": "2024-10-10T15:02:43.462Z"
   },
   {
    "duration": 15,
    "start_time": "2024-10-10T15:02:43.484Z"
   },
   {
    "duration": 36,
    "start_time": "2024-10-10T15:02:43.500Z"
   },
   {
    "duration": 22,
    "start_time": "2024-10-10T15:02:43.539Z"
   },
   {
    "duration": 12,
    "start_time": "2024-10-10T15:02:43.563Z"
   },
   {
    "duration": 24,
    "start_time": "2024-10-10T15:02:43.577Z"
   },
   {
    "duration": 48,
    "start_time": "2024-10-10T15:02:43.604Z"
   },
   {
    "duration": 14,
    "start_time": "2024-10-10T15:02:43.654Z"
   },
   {
    "duration": 19,
    "start_time": "2024-10-10T15:02:43.670Z"
   },
   {
    "duration": 139,
    "start_time": "2024-10-10T15:02:43.694Z"
   },
   {
    "duration": 76,
    "start_time": "2024-10-10T15:02:43.835Z"
   },
   {
    "duration": 8290,
    "start_time": "2024-10-10T15:02:43.913Z"
   },
   {
    "duration": 370,
    "start_time": "2024-10-10T15:02:52.205Z"
   },
   {
    "duration": 331,
    "start_time": "2024-10-10T15:02:52.577Z"
   },
   {
    "duration": 5,
    "start_time": "2024-10-10T15:02:52.910Z"
   },
   {
    "duration": 161,
    "start_time": "2024-10-10T15:02:52.917Z"
   },
   {
    "duration": 91,
    "start_time": "2024-10-10T15:02:53.081Z"
   },
   {
    "duration": 5,
    "start_time": "2024-10-10T15:02:53.174Z"
   },
   {
    "duration": 3,
    "start_time": "2024-10-10T15:02:53.181Z"
   },
   {
    "duration": 2,
    "start_time": "2024-10-10T15:02:53.186Z"
   },
   {
    "duration": 3,
    "start_time": "2024-10-10T15:02:53.190Z"
   },
   {
    "duration": 202,
    "start_time": "2024-10-10T15:15:00.247Z"
   },
   {
    "duration": 140,
    "start_time": "2024-10-10T15:15:20.438Z"
   },
   {
    "duration": 760,
    "start_time": "2024-10-10T15:21:58.491Z"
   },
   {
    "duration": 161,
    "start_time": "2024-10-10T15:22:01.574Z"
   },
   {
    "duration": 22,
    "start_time": "2024-10-10T15:22:04.285Z"
   },
   {
    "duration": 19,
    "start_time": "2024-10-10T15:22:05.204Z"
   },
   {
    "duration": 17,
    "start_time": "2024-10-10T15:22:05.757Z"
   },
   {
    "duration": 13,
    "start_time": "2024-10-10T15:22:06.425Z"
   },
   {
    "duration": 14,
    "start_time": "2024-10-10T15:22:06.834Z"
   },
   {
    "duration": 8,
    "start_time": "2024-10-10T15:22:08.887Z"
   },
   {
    "duration": 4,
    "start_time": "2024-10-10T15:22:09.598Z"
   },
   {
    "duration": 5,
    "start_time": "2024-10-10T15:22:48.170Z"
   },
   {
    "duration": 5,
    "start_time": "2024-10-10T15:22:56.374Z"
   },
   {
    "duration": 8,
    "start_time": "2024-10-10T15:22:59.620Z"
   },
   {
    "duration": 10,
    "start_time": "2024-10-10T15:23:00.302Z"
   },
   {
    "duration": 16,
    "start_time": "2024-10-10T15:23:02.114Z"
   },
   {
    "duration": 16,
    "start_time": "2024-10-10T15:23:06.177Z"
   },
   {
    "duration": 7,
    "start_time": "2024-10-10T15:23:06.828Z"
   },
   {
    "duration": 25,
    "start_time": "2024-10-10T15:23:09.038Z"
   },
   {
    "duration": 13,
    "start_time": "2024-10-10T15:23:10.975Z"
   },
   {
    "duration": 4,
    "start_time": "2024-10-10T15:23:11.392Z"
   },
   {
    "duration": 18,
    "start_time": "2024-10-10T15:23:14.274Z"
   },
   {
    "duration": 14,
    "start_time": "2024-10-10T15:23:17.300Z"
   },
   {
    "duration": 6,
    "start_time": "2024-10-10T15:23:18.167Z"
   },
   {
    "duration": 21,
    "start_time": "2024-10-10T15:23:20.246Z"
   },
   {
    "duration": 7,
    "start_time": "2024-10-10T15:23:22.842Z"
   },
   {
    "duration": 25,
    "start_time": "2024-10-10T15:23:23.911Z"
   },
   {
    "duration": 24,
    "start_time": "2024-10-10T15:23:24.667Z"
   },
   {
    "duration": 13,
    "start_time": "2024-10-10T15:23:25.352Z"
   },
   {
    "duration": 19,
    "start_time": "2024-10-10T15:23:26.424Z"
   },
   {
    "duration": 100,
    "start_time": "2024-10-10T15:23:27.780Z"
   },
   {
    "duration": 75,
    "start_time": "2024-10-10T15:23:28.586Z"
   },
   {
    "duration": 8028,
    "start_time": "2024-10-10T15:23:30.660Z"
   },
   {
    "duration": 63,
    "start_time": "2024-10-10T15:26:17.259Z"
   },
   {
    "duration": 297,
    "start_time": "2024-10-10T15:35:41.888Z"
   },
   {
    "duration": 53,
    "start_time": "2024-10-10T15:35:52.939Z"
   },
   {
    "duration": 45,
    "start_time": "2024-10-10T15:36:02.881Z"
   },
   {
    "duration": 295,
    "start_time": "2024-10-10T15:37:46.608Z"
   },
   {
    "duration": 312,
    "start_time": "2024-10-10T15:38:31.788Z"
   },
   {
    "duration": 186,
    "start_time": "2024-10-10T15:42:46.972Z"
   },
   {
    "duration": 18,
    "start_time": "2024-10-10T15:44:22.622Z"
   },
   {
    "duration": 341,
    "start_time": "2024-10-10T15:44:41.715Z"
   },
   {
    "duration": 190,
    "start_time": "2024-10-10T15:45:51.571Z"
   },
   {
    "duration": 207,
    "start_time": "2024-10-10T15:46:30.459Z"
   },
   {
    "duration": 371,
    "start_time": "2024-10-10T15:49:35.856Z"
   },
   {
    "duration": 5,
    "start_time": "2024-10-10T15:50:16.842Z"
   },
   {
    "duration": 5,
    "start_time": "2024-10-10T15:50:33.182Z"
   },
   {
    "duration": 6,
    "start_time": "2024-10-10T15:51:06.313Z"
   },
   {
    "duration": 7,
    "start_time": "2024-10-10T15:51:39.489Z"
   },
   {
    "duration": 243,
    "start_time": "2024-10-10T15:51:53.549Z"
   },
   {
    "duration": 7,
    "start_time": "2024-10-10T15:52:50.677Z"
   },
   {
    "duration": 112,
    "start_time": "2024-10-10T15:59:00.897Z"
   },
   {
    "duration": 393,
    "start_time": "2024-10-10T15:59:55.504Z"
   },
   {
    "duration": 114,
    "start_time": "2024-10-10T16:00:24.744Z"
   },
   {
    "duration": 170,
    "start_time": "2024-10-10T16:01:04.711Z"
   },
   {
    "duration": 114,
    "start_time": "2024-10-10T16:01:37.750Z"
   },
   {
    "duration": 111,
    "start_time": "2024-10-10T16:03:44.831Z"
   },
   {
    "duration": 83,
    "start_time": "2024-10-10T16:05:24.591Z"
   },
   {
    "duration": 266,
    "start_time": "2024-10-10T16:08:42.495Z"
   },
   {
    "duration": 200,
    "start_time": "2024-10-10T16:09:07.835Z"
   },
   {
    "duration": 302,
    "start_time": "2024-10-10T16:09:28.943Z"
   },
   {
    "duration": 191,
    "start_time": "2024-10-10T16:10:10.401Z"
   },
   {
    "duration": 183,
    "start_time": "2024-10-10T16:10:23.012Z"
   },
   {
    "duration": 43,
    "start_time": "2024-10-10T16:10:56.549Z"
   },
   {
    "duration": 84,
    "start_time": "2024-10-10T16:11:11.644Z"
   },
   {
    "duration": 185,
    "start_time": "2024-10-10T16:11:26.712Z"
   },
   {
    "duration": 195,
    "start_time": "2024-10-10T16:12:02.995Z"
   },
   {
    "duration": 184,
    "start_time": "2024-10-10T16:12:21.596Z"
   },
   {
    "duration": 322,
    "start_time": "2024-10-10T16:13:32.959Z"
   },
   {
    "duration": 183,
    "start_time": "2024-10-10T16:13:49.970Z"
   },
   {
    "duration": 275,
    "start_time": "2024-10-10T16:15:19.727Z"
   },
   {
    "duration": 6,
    "start_time": "2024-10-10T16:17:35.298Z"
   },
   {
    "duration": 112,
    "start_time": "2024-10-10T16:18:25.820Z"
   },
   {
    "duration": 90,
    "start_time": "2024-10-10T16:18:26.699Z"
   },
   {
    "duration": 120,
    "start_time": "2024-10-10T16:19:34.846Z"
   },
   {
    "duration": 116,
    "start_time": "2024-10-10T16:20:02.505Z"
   },
   {
    "duration": 250,
    "start_time": "2024-10-10T16:20:17.258Z"
   },
   {
    "duration": 5,
    "start_time": "2024-10-10T16:20:48.784Z"
   },
   {
    "duration": 115,
    "start_time": "2024-10-10T16:20:55.171Z"
   },
   {
    "duration": 92,
    "start_time": "2024-10-10T16:21:08.473Z"
   },
   {
    "duration": 119,
    "start_time": "2024-10-10T16:21:20.774Z"
   },
   {
    "duration": 98,
    "start_time": "2024-10-10T16:21:30.405Z"
   },
   {
    "duration": 201,
    "start_time": "2024-10-10T16:31:52.770Z"
   },
   {
    "duration": 217,
    "start_time": "2024-10-10T16:32:53.339Z"
   },
   {
    "duration": 9,
    "start_time": "2024-10-10T16:33:50.517Z"
   },
   {
    "duration": 4,
    "start_time": "2024-10-10T16:35:07.063Z"
   },
   {
    "duration": 158,
    "start_time": "2024-10-10T16:35:14.144Z"
   },
   {
    "duration": 126,
    "start_time": "2024-10-10T16:35:22.476Z"
   },
   {
    "duration": 124,
    "start_time": "2024-10-10T16:35:32.240Z"
   },
   {
    "duration": 196,
    "start_time": "2024-10-10T16:52:41.612Z"
   },
   {
    "duration": 663,
    "start_time": "2024-10-10T16:53:10.730Z"
   },
   {
    "duration": 200,
    "start_time": "2024-10-10T16:53:22.433Z"
   },
   {
    "duration": 331,
    "start_time": "2024-10-10T16:53:27.371Z"
   },
   {
    "duration": 8,
    "start_time": "2024-10-10T16:53:40.912Z"
   },
   {
    "duration": 138,
    "start_time": "2024-10-10T16:53:45.177Z"
   },
   {
    "duration": 118,
    "start_time": "2024-10-10T16:53:48.695Z"
   },
   {
    "duration": 193,
    "start_time": "2024-10-10T16:54:24.800Z"
   },
   {
    "duration": 221,
    "start_time": "2024-10-10T17:11:09.668Z"
   },
   {
    "duration": 213,
    "start_time": "2024-10-10T17:11:17.824Z"
   },
   {
    "duration": 248,
    "start_time": "2024-10-10T17:11:31.232Z"
   },
   {
    "duration": 812,
    "start_time": "2024-10-10T17:14:23.891Z"
   },
   {
    "duration": 170,
    "start_time": "2024-10-10T17:14:24.705Z"
   },
   {
    "duration": 22,
    "start_time": "2024-10-10T17:14:24.877Z"
   },
   {
    "duration": 18,
    "start_time": "2024-10-10T17:14:24.902Z"
   },
   {
    "duration": 22,
    "start_time": "2024-10-10T17:14:24.921Z"
   },
   {
    "duration": 14,
    "start_time": "2024-10-10T17:14:24.944Z"
   },
   {
    "duration": 16,
    "start_time": "2024-10-10T17:14:24.960Z"
   },
   {
    "duration": 9,
    "start_time": "2024-10-10T17:14:24.978Z"
   },
   {
    "duration": 43,
    "start_time": "2024-10-10T17:14:24.989Z"
   },
   {
    "duration": 5,
    "start_time": "2024-10-10T17:14:25.036Z"
   },
   {
    "duration": 9,
    "start_time": "2024-10-10T17:14:25.043Z"
   },
   {
    "duration": 10,
    "start_time": "2024-10-10T17:14:25.053Z"
   },
   {
    "duration": 19,
    "start_time": "2024-10-10T17:14:25.065Z"
   },
   {
    "duration": 48,
    "start_time": "2024-10-10T17:14:25.086Z"
   },
   {
    "duration": 7,
    "start_time": "2024-10-10T17:14:25.136Z"
   },
   {
    "duration": 27,
    "start_time": "2024-10-10T17:14:25.147Z"
   },
   {
    "duration": 14,
    "start_time": "2024-10-10T17:14:25.176Z"
   },
   {
    "duration": 5,
    "start_time": "2024-10-10T17:14:25.192Z"
   },
   {
    "duration": 19,
    "start_time": "2024-10-10T17:14:25.232Z"
   },
   {
    "duration": 15,
    "start_time": "2024-10-10T17:14:25.253Z"
   },
   {
    "duration": 7,
    "start_time": "2024-10-10T17:14:25.270Z"
   },
   {
    "duration": 22,
    "start_time": "2024-10-10T17:14:25.279Z"
   },
   {
    "duration": 35,
    "start_time": "2024-10-10T17:14:25.303Z"
   },
   {
    "duration": 25,
    "start_time": "2024-10-10T17:14:25.340Z"
   },
   {
    "duration": 26,
    "start_time": "2024-10-10T17:14:25.367Z"
   },
   {
    "duration": 43,
    "start_time": "2024-10-10T17:14:25.395Z"
   },
   {
    "duration": 19,
    "start_time": "2024-10-10T17:14:25.440Z"
   },
   {
    "duration": 99,
    "start_time": "2024-10-10T17:14:25.464Z"
   },
   {
    "duration": 84,
    "start_time": "2024-10-10T17:14:25.565Z"
   },
   {
    "duration": 7988,
    "start_time": "2024-10-10T17:14:25.651Z"
   },
   {
    "duration": 205,
    "start_time": "2024-10-10T17:14:33.642Z"
   },
   {
    "duration": 243,
    "start_time": "2024-10-10T17:14:33.849Z"
   },
   {
    "duration": 9,
    "start_time": "2024-10-10T17:14:34.094Z"
   },
   {
    "duration": 188,
    "start_time": "2024-10-10T17:14:34.105Z"
   },
   {
    "duration": 100,
    "start_time": "2024-10-10T17:14:34.295Z"
   },
   {
    "duration": 195,
    "start_time": "2024-10-10T17:14:34.397Z"
   },
   {
    "duration": 252,
    "start_time": "2024-10-10T17:14:34.594Z"
   },
   {
    "duration": 6,
    "start_time": "2024-10-10T17:14:34.847Z"
   },
   {
    "duration": 135,
    "start_time": "2024-10-10T17:14:34.855Z"
   },
   {
    "duration": 107,
    "start_time": "2024-10-10T17:14:34.993Z"
   },
   {
    "duration": 225,
    "start_time": "2024-10-10T17:14:35.102Z"
   },
   {
    "duration": 224,
    "start_time": "2024-10-10T17:14:35.329Z"
   },
   {
    "duration": 8,
    "start_time": "2024-10-10T17:14:35.555Z"
   },
   {
    "duration": 174,
    "start_time": "2024-10-10T17:14:35.565Z"
   },
   {
    "duration": 139,
    "start_time": "2024-10-10T17:14:35.741Z"
   },
   {
    "duration": 216,
    "start_time": "2024-10-10T17:14:35.882Z"
   },
   {
    "duration": 326,
    "start_time": "2024-10-10T17:14:36.100Z"
   },
   {
    "duration": 9,
    "start_time": "2024-10-10T17:14:36.428Z"
   },
   {
    "duration": 152,
    "start_time": "2024-10-10T17:14:36.439Z"
   },
   {
    "duration": 130,
    "start_time": "2024-10-10T17:14:36.593Z"
   },
   {
    "duration": 6,
    "start_time": "2024-10-10T17:14:36.725Z"
   },
   {
    "duration": 2,
    "start_time": "2024-10-10T17:14:36.733Z"
   },
   {
    "duration": 10,
    "start_time": "2024-10-10T17:17:39.689Z"
   },
   {
    "duration": 9,
    "start_time": "2024-10-10T17:26:37.649Z"
   },
   {
    "duration": 7,
    "start_time": "2024-10-10T17:27:42.998Z"
   },
   {
    "duration": 8,
    "start_time": "2024-10-10T17:32:03.915Z"
   },
   {
    "duration": 6,
    "start_time": "2024-10-10T17:33:49.388Z"
   },
   {
    "duration": 5,
    "start_time": "2024-10-10T17:37:04.135Z"
   },
   {
    "duration": 9,
    "start_time": "2024-10-10T17:39:31.744Z"
   },
   {
    "duration": 63,
    "start_time": "2024-10-10T17:42:37.332Z"
   },
   {
    "duration": 76,
    "start_time": "2024-10-10T17:42:49.470Z"
   },
   {
    "duration": 198,
    "start_time": "2024-10-10T17:45:04.700Z"
   },
   {
    "duration": 166,
    "start_time": "2024-10-10T17:45:19.542Z"
   },
   {
    "duration": 7,
    "start_time": "2024-10-10T17:46:03.804Z"
   },
   {
    "duration": 196,
    "start_time": "2024-10-10T17:47:17.804Z"
   },
   {
    "duration": 6,
    "start_time": "2024-10-10T17:47:25.784Z"
   },
   {
    "duration": 176,
    "start_time": "2024-10-10T18:02:47.463Z"
   },
   {
    "duration": 882,
    "start_time": "2024-10-10T18:07:57.637Z"
   },
   {
    "duration": 169,
    "start_time": "2024-10-10T18:07:58.521Z"
   },
   {
    "duration": 22,
    "start_time": "2024-10-10T18:07:58.692Z"
   },
   {
    "duration": 23,
    "start_time": "2024-10-10T18:07:58.717Z"
   },
   {
    "duration": 15,
    "start_time": "2024-10-10T18:07:58.741Z"
   },
   {
    "duration": 13,
    "start_time": "2024-10-10T18:07:58.759Z"
   },
   {
    "duration": 15,
    "start_time": "2024-10-10T18:07:58.773Z"
   },
   {
    "duration": 9,
    "start_time": "2024-10-10T18:07:58.789Z"
   },
   {
    "duration": 5,
    "start_time": "2024-10-10T18:07:58.833Z"
   },
   {
    "duration": 5,
    "start_time": "2024-10-10T18:07:58.842Z"
   },
   {
    "duration": 9,
    "start_time": "2024-10-10T18:07:58.849Z"
   },
   {
    "duration": 8,
    "start_time": "2024-10-10T18:07:58.860Z"
   },
   {
    "duration": 16,
    "start_time": "2024-10-10T18:07:58.870Z"
   },
   {
    "duration": 53,
    "start_time": "2024-10-10T18:07:58.888Z"
   },
   {
    "duration": 7,
    "start_time": "2024-10-10T18:07:58.943Z"
   },
   {
    "duration": 25,
    "start_time": "2024-10-10T18:07:58.952Z"
   },
   {
    "duration": 12,
    "start_time": "2024-10-10T18:07:58.979Z"
   },
   {
    "duration": 5,
    "start_time": "2024-10-10T18:07:58.992Z"
   },
   {
    "duration": 23,
    "start_time": "2024-10-10T18:07:59.031Z"
   },
   {
    "duration": 16,
    "start_time": "2024-10-10T18:07:59.056Z"
   },
   {
    "duration": 7,
    "start_time": "2024-10-10T18:07:59.073Z"
   },
   {
    "duration": 50,
    "start_time": "2024-10-10T18:07:59.082Z"
   },
   {
    "duration": 9,
    "start_time": "2024-10-10T18:07:59.134Z"
   },
   {
    "duration": 25,
    "start_time": "2024-10-10T18:07:59.145Z"
   },
   {
    "duration": 25,
    "start_time": "2024-10-10T18:07:59.172Z"
   },
   {
    "duration": 39,
    "start_time": "2024-10-10T18:07:59.199Z"
   },
   {
    "duration": 19,
    "start_time": "2024-10-10T18:07:59.239Z"
   },
   {
    "duration": 102,
    "start_time": "2024-10-10T18:07:59.263Z"
   },
   {
    "duration": 79,
    "start_time": "2024-10-10T18:07:59.367Z"
   },
   {
    "duration": 8086,
    "start_time": "2024-10-10T18:07:59.447Z"
   },
   {
    "duration": 236,
    "start_time": "2024-10-10T18:08:07.535Z"
   },
   {
    "duration": 247,
    "start_time": "2024-10-10T18:08:07.773Z"
   },
   {
    "duration": 16,
    "start_time": "2024-10-10T18:08:08.022Z"
   },
   {
    "duration": 191,
    "start_time": "2024-10-10T18:08:08.042Z"
   },
   {
    "duration": 104,
    "start_time": "2024-10-10T18:08:08.234Z"
   },
   {
    "duration": 208,
    "start_time": "2024-10-10T18:08:08.340Z"
   },
   {
    "duration": 265,
    "start_time": "2024-10-10T18:08:08.550Z"
   },
   {
    "duration": 14,
    "start_time": "2024-10-10T18:08:08.817Z"
   },
   {
    "duration": 128,
    "start_time": "2024-10-10T18:08:08.833Z"
   },
   {
    "duration": 113,
    "start_time": "2024-10-10T18:08:08.963Z"
   },
   {
    "duration": 220,
    "start_time": "2024-10-10T18:08:09.078Z"
   },
   {
    "duration": 227,
    "start_time": "2024-10-10T18:08:09.299Z"
   },
   {
    "duration": 8,
    "start_time": "2024-10-10T18:08:09.531Z"
   },
   {
    "duration": 170,
    "start_time": "2024-10-10T18:08:09.541Z"
   },
   {
    "duration": 148,
    "start_time": "2024-10-10T18:08:09.713Z"
   },
   {
    "duration": 217,
    "start_time": "2024-10-10T18:08:09.863Z"
   },
   {
    "duration": 327,
    "start_time": "2024-10-10T18:08:10.082Z"
   },
   {
    "duration": 12,
    "start_time": "2024-10-10T18:08:10.411Z"
   },
   {
    "duration": 146,
    "start_time": "2024-10-10T18:08:10.432Z"
   },
   {
    "duration": 130,
    "start_time": "2024-10-10T18:08:10.580Z"
   },
   {
    "duration": 7,
    "start_time": "2024-10-10T18:08:10.712Z"
   },
   {
    "duration": 204,
    "start_time": "2024-10-10T18:08:10.720Z"
   },
   {
    "duration": 3,
    "start_time": "2024-10-10T21:53:24.960Z"
   },
   {
    "duration": 8,
    "start_time": "2024-10-10T21:58:03.909Z"
   }
  ],
  "colab": {
   "provenance": []
  },
  "kernelspec": {
   "display_name": "Python 3 (ipykernel)",
   "language": "python",
   "name": "python3"
  },
  "language_info": {
   "codemirror_mode": {
    "name": "ipython",
    "version": 3
   },
   "file_extension": ".py",
   "mimetype": "text/x-python",
   "name": "python",
   "nbconvert_exporter": "python",
   "pygments_lexer": "ipython3",
   "version": "3.9.19"
  },
  "toc": {
   "base_numbering": 1,
   "nav_menu": {},
   "number_sections": true,
   "sideBar": true,
   "skip_h1_title": false,
   "title_cell": "Table of Contents",
   "title_sidebar": "Contents",
   "toc_cell": false,
   "toc_position": {
    "height": "calc(100% - 180px)",
    "left": "10px",
    "top": "150px",
    "width": "172.742px"
   },
   "toc_section_display": true,
   "toc_window_display": true
  }
 },
 "nbformat": 4,
 "nbformat_minor": 1
}
