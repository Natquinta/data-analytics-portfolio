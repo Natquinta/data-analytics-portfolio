{
 "cells": [
  {
   "cell_type": "markdown",
   "id": "190a6b52",
   "metadata": {},
   "source": [
    "# ¡Hola  !🙋🏻‍♂️\n",
    "\n",
    "Te escribe Lisandro Saez, soy revisor de código en Tripleten y tengo el agrado de revisar el proyecto que entregaste.\n",
    "\n",
    "Para simular la dinámica de un ambiente de trabajo, si veo algún error, en primer instancia solo los señalaré, dándote la oportunidad de encontrarlos y corregirlos por tu cuenta. En un trabajo real, el líder de tu equipo hará una dinámica similar. En caso de que no puedas resolver la tarea, te daré una información más precisa en la próxima revisión.\n",
    "\n",
    "Encontrarás mis comentarios más abajo - **por favor, no los muevas, no los modifiques ni los borres**.\n",
    "\n",
    "¿Cómo lo voy a hacer? Voy a leer detenidamente cada una de las implementaciones que has llevado a cabo para cumplir con lo solicitado. Verás los comentarios de esta forma:\n",
    "\n",
    "<div class=\"alert alert-block alert-success\">\n",
    "<b>Comentario del revisor</b> <a class=\"tocSkip\"></a>\n",
    "\n",
    "Si todo está perfecto.\n",
    "</div>\n",
    "\n",
    "\n",
    "<div class=\"alert alert-block alert-warning\">\n",
    "<b>Comentario del revisor</b> <a class=\"tocSkip\"></a>\n",
    "\n",
    "Si tu código está bien pero se puede mejorar o hay algún detalle que le hace falta. Se aceptan uno o dos comentarios de este tipo en el borrador, pero si hay más, deberías hacer las correcciones. Es como una tarea de prueba al solicitar un trabajo: muchos pequeños errores pueden hacer que un candidato sea rechazado.\n",
    "</div>\n",
    "\n",
    "<div class=\"alert alert-block alert-danger\">\n",
    "\n",
    "<b>Comentario del revisor</b> <a class=\"tocSkip\"></a>\n",
    "\n",
    "Si de pronto hace falta algo o existe algún problema con tu código o conclusiones.\n",
    "</div>\n",
    "\n",
    "Puedes responderme de esta forma (no te preocupes, no es obligatorio):\n",
    "\n",
    "<div class=\"alert alert-block alert-info\">\n",
    "<b>Respuesta del estudiante</b> <a class=\"tocSkip\"></a>\n",
    "\n",
    "Hola, muchas gracias por tus comentarios y la revisión.\n",
    "</div>\n",
    "\n",
    "¡Empecemos!"
   ]
  },
  {
   "cell_type": "markdown",
   "id": "3Xg_RQfnafXz",
   "metadata": {
    "id": "3Xg_RQfnafXz"
   },
   "source": [
    "# ¡Llena ese carrito!"
   ]
  },
  {
   "cell_type": "markdown",
   "id": "mhIvmmkW414q",
   "metadata": {
    "id": "mhIvmmkW414q"
   },
   "source": [
    "# Introducción\n",
    "\n",
    "Instacart es una plataforma de entregas de comestibles donde la clientela puede registrar un pedido y hacer que se lo entreguen, similar a Uber Eats y Door Dash.\n",
    "El conjunto de datos que te hemos proporcionado tiene modificaciones del original. Redujimos el tamaño del conjunto para que tus cálculos se hicieran más rápido e introdujimos valores ausentes y duplicados. Tuvimos cuidado de conservar las distribuciones de los datos originales cuando hicimos los cambios.\n",
    "\n",
    "Debes completar tres pasos. Para cada uno de ellos, escribe una breve introducción que refleje con claridad cómo pretendes resolver cada paso, y escribe párrafos explicatorios que justifiquen tus decisiones al tiempo que avanzas en tu solución.  También escribe una conclusión que resuma tus hallazgos y elecciones.\n"
   ]
  },
  {
   "cell_type": "markdown",
   "id": "3MbyzpOQZ5Or",
   "metadata": {
    "id": "3MbyzpOQZ5Or"
   },
   "source": [
    "## Diccionario de datos\n",
    "\n",
    "Hay cinco tablas en el conjunto de datos, y tendrás que usarlas todas para hacer el preprocesamiento de datos y el análisis exploratorio de datos. A continuación se muestra un diccionario de datos que enumera las columnas de cada tabla y describe los datos que contienen.\n",
    "\n",
    "- `instacart_orders.csv`: cada fila corresponde a un pedido en la aplicación Instacart.\n",
    "    - `'order_id'`: número de ID que identifica de manera única cada pedido.\n",
    "    - `'user_id'`: número de ID que identifica de manera única la cuenta de cada cliente.\n",
    "    - `'order_number'`: el número de veces que este cliente ha hecho un pedido.\n",
    "    - `'order_dow'`: día de la semana en que se hizo el pedido (0 si es domingo).\n",
    "    - `'order_hour_of_day'`: hora del día en que se hizo el pedido.\n",
    "    - `'days_since_prior_order'`: número de días transcurridos desde que este cliente hizo su pedido anterior.\n",
    "- `products.csv`: cada fila corresponde a un producto único que pueden comprar los clientes.\n",
    "    - `'product_id'`: número ID que identifica de manera única cada producto.\n",
    "    - `'product_name'`: nombre del producto.\n",
    "    - `'aisle_id'`: número ID que identifica de manera única cada categoría de pasillo de víveres.\n",
    "    - `'department_id'`: número ID que identifica de manera única cada departamento de víveres.\n",
    "- `order_products.csv`: cada fila corresponde a un artículo pedido en un pedido.\n",
    "    - `'order_id'`: número de ID que identifica de manera única cada pedido.\n",
    "    - `'product_id'`: número ID que identifica de manera única cada producto.\n",
    "    - `'add_to_cart_order'`: el orden secuencial en el que se añadió cada artículo en el carrito.\n",
    "    - `'reordered'`: 0 si el cliente nunca ha pedido este producto antes, 1 si lo ha pedido.\n",
    "- `aisles.csv`\n",
    "    - `'aisle_id'`: número ID que identifica de manera única cada categoría de pasillo de víveres.\n",
    "    - `'aisle'`: nombre del pasillo.\n",
    "- `departments.csv`\n",
    "    - `'department_id'`: número ID que identifica de manera única cada departamento de víveres.\n",
    "    - `'department'`: nombre del departamento."
   ]
  },
  {
   "cell_type": "markdown",
   "id": "n3Ha_cNSZ8lK",
   "metadata": {
    "id": "n3Ha_cNSZ8lK"
   },
   "source": [
    "# Paso 1. Descripción de los datos\n",
    "\n",
    "Lee los archivos de datos (`/datasets/instacart_orders.csv`, `/datasets/products.csv`, `/datasets/aisles.csv`, `/datasets/departments.csv` y `/datasets/order_products.csv`) con `pd.read_csv()` usando los parámetros adecuados para leer los datos correctamente. Verifica la información para cada DataFrame creado.\n"
   ]
  },
  {
   "cell_type": "markdown",
   "id": "OmlQPLlyaAfR",
   "metadata": {
    "id": "OmlQPLlyaAfR"
   },
   "source": [
    "## Plan de solución\n",
    "\n",
    "Primero se tienen que importar la librería pandas para poder leer los archivos csv en los que se encuentran los datos, y la libreria matplotlib para poder graficar los datos más adelante en el proyecto. Después, hay que asignar un nombre a cada DataFrame, que sea descriptivo, y leer los archivos. Al leerlos hay que imprimir su información para comprobar que el separador sea ',' o si no, colocar el parámetro necesario. En este caso todos los datos están separados por ';'. Imprimir la información de los datos también nos ayuda a saber cuántas filas y columnas hay en cada dataframe, así como cuanto valores nulos hay en cada columna y el tipo de datos que contienen (int, object, float, etc)."
   ]
  },
  {
   "cell_type": "code",
   "execution_count": 1,
   "id": "fbf1adab",
   "metadata": {
    "id": "fbf1adab"
   },
   "outputs": [],
   "source": [
    "import pandas as pd\n",
    "import matplotlib.pyplot as plt"
   ]
  },
  {
   "cell_type": "code",
   "execution_count": 2,
   "id": "ad36396d",
   "metadata": {
    "id": "ad36396d"
   },
   "outputs": [],
   "source": [
    "instacart_orders_df = pd.read_csv('/datasets/instacart_orders.csv', sep = ';')\n",
    "products_df =pd.read_csv('/datasets/products.csv', sep = ';')\n",
    "aisles_df = pd.read_csv('/datasets/aisles.csv', sep =';')\n",
    "departments_df = pd.read_csv('/datasets/departments.csv', sep =';')\n",
    "order_products_df = pd.read_csv('/datasets/order_products.csv', sep =';')"
   ]
  },
  {
   "cell_type": "markdown",
   "id": "e2dbb407",
   "metadata": {},
   "source": [
    "<div class=\"alert alert-block alert-success\">\n",
    "<b>Comentario del revisor</b> <a class=\"tocSkip\"></a>\n",
    "\n",
    "Bien hecho! Siempre es importante que pasemos el set de datos que estamos usando a `DataFrame`!</div>\n",
    "\n",
    "\n"
   ]
  },
  {
   "cell_type": "code",
   "execution_count": 3,
   "id": "ad6a1efa",
   "metadata": {
    "id": "ad6a1efa"
   },
   "outputs": [
    {
     "name": "stdout",
     "output_type": "stream",
     "text": [
      "<class 'pandas.core.frame.DataFrame'>\n",
      "RangeIndex: 478967 entries, 0 to 478966\n",
      "Data columns (total 6 columns):\n",
      " #   Column                  Non-Null Count   Dtype  \n",
      "---  ------                  --------------   -----  \n",
      " 0   order_id                478967 non-null  int64  \n",
      " 1   user_id                 478967 non-null  int64  \n",
      " 2   order_number            478967 non-null  int64  \n",
      " 3   order_dow               478967 non-null  int64  \n",
      " 4   order_hour_of_day       478967 non-null  int64  \n",
      " 5   days_since_prior_order  450148 non-null  float64\n",
      "dtypes: float64(1), int64(5)\n",
      "memory usage: 21.9 MB\n",
      "None\n"
     ]
    }
   ],
   "source": [
    "print (instacart_orders_df.info())\n"
   ]
  },
  {
   "cell_type": "code",
   "execution_count": 4,
   "id": "5130e05e",
   "metadata": {
    "id": "5130e05e"
   },
   "outputs": [
    {
     "name": "stdout",
     "output_type": "stream",
     "text": [
      "<class 'pandas.core.frame.DataFrame'>\n",
      "RangeIndex: 49694 entries, 0 to 49693\n",
      "Data columns (total 4 columns):\n",
      " #   Column         Non-Null Count  Dtype \n",
      "---  ------         --------------  ----- \n",
      " 0   product_id     49694 non-null  int64 \n",
      " 1   product_name   48436 non-null  object\n",
      " 2   aisle_id       49694 non-null  int64 \n",
      " 3   department_id  49694 non-null  int64 \n",
      "dtypes: int64(3), object(1)\n",
      "memory usage: 1.5+ MB\n",
      "None\n"
     ]
    }
   ],
   "source": [
    "print(products_df.info())"
   ]
  },
  {
   "cell_type": "code",
   "execution_count": 5,
   "id": "d8370c05",
   "metadata": {
    "id": "d8370c05"
   },
   "outputs": [
    {
     "name": "stdout",
     "output_type": "stream",
     "text": [
      "<class 'pandas.core.frame.DataFrame'>\n",
      "RangeIndex: 134 entries, 0 to 133\n",
      "Data columns (total 2 columns):\n",
      " #   Column    Non-Null Count  Dtype \n",
      "---  ------    --------------  ----- \n",
      " 0   aisle_id  134 non-null    int64 \n",
      " 1   aisle     134 non-null    object\n",
      "dtypes: int64(1), object(1)\n",
      "memory usage: 2.2+ KB\n",
      "None\n"
     ]
    }
   ],
   "source": [
    "print(aisles_df.info())"
   ]
  },
  {
   "cell_type": "code",
   "execution_count": 6,
   "id": "59e2090f",
   "metadata": {
    "id": "59e2090f"
   },
   "outputs": [
    {
     "name": "stdout",
     "output_type": "stream",
     "text": [
      "<class 'pandas.core.frame.DataFrame'>\n",
      "RangeIndex: 21 entries, 0 to 20\n",
      "Data columns (total 2 columns):\n",
      " #   Column         Non-Null Count  Dtype \n",
      "---  ------         --------------  ----- \n",
      " 0   department_id  21 non-null     int64 \n",
      " 1   department     21 non-null     object\n",
      "dtypes: int64(1), object(1)\n",
      "memory usage: 464.0+ bytes\n",
      "None\n"
     ]
    }
   ],
   "source": [
    "print(departments_df.info())"
   ]
  },
  {
   "cell_type": "code",
   "execution_count": 7,
   "id": "6fc81694",
   "metadata": {
    "id": "6fc81694"
   },
   "outputs": [
    {
     "name": "stdout",
     "output_type": "stream",
     "text": [
      "<class 'pandas.core.frame.DataFrame'>\n",
      "RangeIndex: 4545007 entries, 0 to 4545006\n",
      "Data columns (total 4 columns):\n",
      " #   Column             Non-Null Count    Dtype  \n",
      "---  ------             --------------    -----  \n",
      " 0   order_id           4545007 non-null  int64  \n",
      " 1   product_id         4545007 non-null  int64  \n",
      " 2   add_to_cart_order  4544171 non-null  float64\n",
      " 3   reordered          4545007 non-null  int64  \n",
      "dtypes: float64(1), int64(3)\n",
      "memory usage: 138.7 MB\n",
      "None\n"
     ]
    }
   ],
   "source": [
    "print(order_products_df.info(show_counts=True))"
   ]
  },
  {
   "cell_type": "markdown",
   "id": "t75BD19oaR5f",
   "metadata": {
    "id": "t75BD19oaR5f"
   },
   "source": [
    "## Conclusiones\n",
    "\n",
    "Todos estos archivos nos proporcionan datos muy útiles para hacer un análisis a profundidad. Fué importante ver los archivos originales, ya que los datos no estaban separados con ',' sino con ';' y hay que leerlos con éste parámetro.\n",
    "En el primer dataframe tenemos algunos valores vacios en 'days_since_prior_order', lo que podría indicar que esos clientes no tienen ninguna orden previa, y que es su primera compra. Todos los demás valores son non null, sin embargo algunos datos podrían convertirse en str para facilitar su manipulación.\n",
    "En el dataframe de products, faltan algunos nombres de productos. Hay que comprobar que estos no esten ya especificados con el mismo id de producto para corregir los datos.\n",
    "En el dataframe de order_profucts tenemos algunos valores ausentes en add_to_cart_order.\n",
    "Todos los demás dataframes no tienen valores ausentes.\n",
    "Hay que revisar el formato y los valores duplicados en todos los dataframes para poder continuar con el análisis."
   ]
  },
  {
   "cell_type": "markdown",
   "id": "6fd2621c",
   "metadata": {},
   "source": [
    "<div class=\"alert alert-block alert-success\">\n",
    "<b>Comentario del revisor</b> <a class=\"tocSkip\"></a>\n",
    "\n",
    "Te felicito por la precisión que muestras a la hora de realizar las observaciones!</div>\n"
   ]
  },
  {
   "cell_type": "markdown",
   "id": "8RJHqxVmaVsF",
   "metadata": {
    "id": "8RJHqxVmaVsF"
   },
   "source": [
    "# Paso 2. Preprocesamiento de los datos\n",
    "\n",
    "Preprocesa los datos de la siguiente manera:\n",
    "\n",
    "- Verifica y corrige los tipos de datos (por ejemplo, asegúrate de que las columnas de ID sean números enteros).\n",
    "- Identifica y completa los valores ausentes.\n",
    "- Identifica y elimina los valores duplicados.\n",
    "\n",
    "Asegúrate de explicar qué tipos de valores ausentes y duplicados encontraste, cómo los completaste o eliminaste y por qué usaste esos métodos. ¿Por qué crees que estos valores ausentes y duplicados pueden haber estado presentes en el conjunto de datos?"
   ]
  },
  {
   "cell_type": "markdown",
   "id": "p6poABZQaZYb",
   "metadata": {
    "id": "p6poABZQaZYb"
   },
   "source": [
    "## Plan de solución\n",
    "\n",
    "Para el preprocesamiento de datos primero hay que revisar duplicados en las filas y eliminarlos para limpiar nuestros dataframes, esto se puede hacer con .duplicates(), dropduplicates()\n",
    "Para tratar con valores ausentes podemos ver si afectan la integridad de nuestros datos, y tomar la decision de eliminarlos o de rellenarlos con un valor con el que podamos trabajar."
   ]
  },
  {
   "cell_type": "markdown",
   "id": "07357848-dc64-4156-9cc3-01ff4365226d",
   "metadata": {
    "id": "07357848-dc64-4156-9cc3-01ff4365226d"
   },
   "source": [
    "## Encuentra y elimina los valores duplicados (y describe cómo tomaste tus decisiones)."
   ]
  },
  {
   "cell_type": "markdown",
   "id": "f179f0a9",
   "metadata": {
    "id": "f179f0a9"
   },
   "source": [
    "### `instacart_orders` data frame"
   ]
  },
  {
   "cell_type": "code",
   "execution_count": 8,
   "id": "b99297a5-405a-463d-8535-9adc3da4ad74",
   "metadata": {
    "id": "b99297a5-405a-463d-8535-9adc3da4ad74"
   },
   "outputs": [
    {
     "name": "stdout",
     "output_type": "stream",
     "text": [
      "El número de duplicados 15\n",
      "\n",
      "        order_id  user_id  order_number  order_dow  order_hour_of_day  \\\n",
      "145574    794638    50898            24          3                  2   \n",
      "223105   2160484   107525            16          3                  2   \n",
      "230807   1918001   188546            14          3                  2   \n",
      "266232   1782114   106752             1          3                  2   \n",
      "273805   1112182   202304            84          3                  2   \n",
      "284038   2845099    31189            11          3                  2   \n",
      "311713   1021560    53767             3          3                  2   \n",
      "321100    408114    68324             4          3                  2   \n",
      "323900   1919531   191501            32          3                  2   \n",
      "345917   2232988    82565             1          3                  2   \n",
      "371905    391768    57671            19          3                  2   \n",
      "394347    467134    63189            21          3                  2   \n",
      "411408   1286742   183220            48          3                  2   \n",
      "415163   2282673    86751            49          3                  2   \n",
      "441599   2125197    14050            48          3                  2   \n",
      "\n",
      "        days_since_prior_order  \n",
      "145574                     2.0  \n",
      "223105                    30.0  \n",
      "230807                    16.0  \n",
      "266232                     NaN  \n",
      "273805                     6.0  \n",
      "284038                     7.0  \n",
      "311713                     9.0  \n",
      "321100                    18.0  \n",
      "323900                     7.0  \n",
      "345917                     NaN  \n",
      "371905                    10.0  \n",
      "394347                     2.0  \n",
      "411408                     4.0  \n",
      "415163                     2.0  \n",
      "441599                     3.0  \n"
     ]
    }
   ],
   "source": [
    "# Revisa si hay pedidos duplicados\n",
    "print('El número de duplicados',instacart_orders_df.duplicated().sum())\n",
    "print()\n",
    "\n",
    "print(instacart_orders_df[instacart_orders_df.duplicated()])"
   ]
  },
  {
   "cell_type": "markdown",
   "id": "PEkwUX_gvt5A",
   "metadata": {
    "id": "PEkwUX_gvt5A"
   },
   "source": [
    "¿Tienes líneas duplicadas? Si sí, ¿qué tienen en común?\n",
    "Se encontraron 15 duplicados, lo que tienen en común son las columnas 'order_dow' y 'order_hour_of_day'"
   ]
  },
  {
   "cell_type": "code",
   "execution_count": 9,
   "id": "0d44de5d",
   "metadata": {
    "id": "0d44de5d"
   },
   "outputs": [
    {
     "name": "stdout",
     "output_type": "stream",
     "text": [
      "        order_id  user_id  order_number  order_dow  order_hour_of_day  \\\n",
      "4838     2766110   162084            41          3                  2   \n",
      "5156     2190225   138285            18          3                  2   \n",
      "15506     553049    58599            13          3                  2   \n",
      "18420     382357   120200            19          3                  2   \n",
      "24691     690242    77357             2          3                  2   \n",
      "...          ...      ...           ...        ...                ...   \n",
      "457013   3384021    14881             6          3                  2   \n",
      "458816    910166   164782            18          3                  2   \n",
      "459635   1680532   106435             6          3                  2   \n",
      "468324    222962    54979            59          3                  2   \n",
      "477526   2592344    46860            38          3                  2   \n",
      "\n",
      "        days_since_prior_order  \n",
      "4838                      16.0  \n",
      "5156                      11.0  \n",
      "15506                      7.0  \n",
      "18420                     11.0  \n",
      "24691                      9.0  \n",
      "...                        ...  \n",
      "457013                    30.0  \n",
      "458816                     4.0  \n",
      "459635                    21.0  \n",
      "468324                     3.0  \n",
      "477526                     3.0  \n",
      "\n",
      "[121 rows x 6 columns]\n"
     ]
    }
   ],
   "source": [
    "# Basándote en tus hallazgos,\n",
    "# Verifica todos los pedidos que se hicieron el miércoles a las 2:00 a.m.\n",
    "\n",
    "print(instacart_orders_df[(instacart_orders_df['order_dow']==3)&(instacart_orders_df['order_hour_of_day'] ==2)])\n",
    "\n"
   ]
  },
  {
   "cell_type": "markdown",
   "id": "vu2OWyoqwOx5",
   "metadata": {
    "id": "vu2OWyoqwOx5"
   },
   "source": [
    "¿Qué sugiere este resultado?\n",
    "El resultado es un df de 121 elementos, por lo que nos da a entender que los 15 duplicados anteriores son idénticos y se pueden eliminar sin eliminar el resto de los pedidos que sí se hayan hecho un miércoles a las 2am."
   ]
  },
  {
   "cell_type": "code",
   "execution_count": 10,
   "id": "480563c7",
   "metadata": {
    "id": "480563c7"
   },
   "outputs": [],
   "source": [
    "# Elimina los pedidos duplicados\n",
    "instacart_orders_df.drop_duplicates(inplace = True)"
   ]
  },
  {
   "cell_type": "code",
   "execution_count": 11,
   "id": "0b2396a2",
   "metadata": {
    "id": "0b2396a2"
   },
   "outputs": [
    {
     "name": "stdout",
     "output_type": "stream",
     "text": [
      "El número de duplicados 0\n"
     ]
    }
   ],
   "source": [
    "# Vuelve a verificar si hay filas duplicadas\n",
    "print('El número de duplicados',instacart_orders_df.duplicated().sum())\n"
   ]
  },
  {
   "cell_type": "code",
   "execution_count": 12,
   "id": "f6113ef1",
   "metadata": {
    "id": "f6113ef1"
   },
   "outputs": [
    {
     "name": "stdout",
     "output_type": "stream",
     "text": [
      "<class 'pandas.core.frame.DataFrame'>\n",
      "Int64Index: 478952 entries, 0 to 478966\n",
      "Data columns (total 6 columns):\n",
      " #   Column                  Non-Null Count   Dtype  \n",
      "---  ------                  --------------   -----  \n",
      " 0   order_id                478952 non-null  int64  \n",
      " 1   user_id                 478952 non-null  int64  \n",
      " 2   order_number            478952 non-null  int64  \n",
      " 3   order_dow               478952 non-null  int64  \n",
      " 4   order_hour_of_day       478952 non-null  int64  \n",
      " 5   days_since_prior_order  450135 non-null  float64\n",
      "dtypes: float64(1), int64(5)\n",
      "memory usage: 25.6 MB\n",
      "\n",
      "False    478952\n",
      "dtype: int64\n"
     ]
    }
   ],
   "source": [
    "# Vuelve a verificar si hay IDs duplicados de pedidos\n",
    "instacart_orders_df.info()\n",
    "print()\n",
    "\n",
    "print(instacart_orders_df.duplicated(subset='order_id').value_counts())"
   ]
  },
  {
   "cell_type": "markdown",
   "id": "5e8905ae",
   "metadata": {
    "id": "5e8905ae"
   },
   "source": [
    "Para eliminar las 15 filas que tenían duplicados idénticos hay que utilizar inplace= True. Despues de eso, podemos ver que ya no hay duplicados explícitos en el dataframe. Volví a imprimir la información para saber cuántas entradas tenemos después de eliminar estos duplicados, y el resultado es 478,952. Después, para comprobar que no hay órdenes repedidas, busqué duplicados en la columna de 'order_id' ya que este numero es único para cada orden. Podemos ver que al contar los valores tenemos 478,952 False, lo que significa que ningún 'order_id' está duplicado en el dataset."
   ]
  },
  {
   "cell_type": "markdown",
   "id": "45e6bc46",
   "metadata": {
    "id": "45e6bc46"
   },
   "source": [
    "### `products` data frame"
   ]
  },
  {
   "cell_type": "code",
   "execution_count": 13,
   "id": "5f526b5b-8175-46fa-a0fd-441767d50e64",
   "metadata": {
    "id": "5f526b5b-8175-46fa-a0fd-441767d50e64"
   },
   "outputs": [
    {
     "name": "stdout",
     "output_type": "stream",
     "text": [
      "El número de duplicados 0\n",
      "\n",
      "Empty DataFrame\n",
      "Columns: [product_id, product_name, aisle_id, department_id]\n",
      "Index: []\n",
      "<class 'pandas.core.frame.DataFrame'>\n",
      "RangeIndex: 49694 entries, 0 to 49693\n",
      "Data columns (total 4 columns):\n",
      " #   Column         Non-Null Count  Dtype \n",
      "---  ------         --------------  ----- \n",
      " 0   product_id     49694 non-null  int64 \n",
      " 1   product_name   48436 non-null  object\n",
      " 2   aisle_id       49694 non-null  int64 \n",
      " 3   department_id  49694 non-null  int64 \n",
      "dtypes: int64(3), object(1)\n",
      "memory usage: 1.5+ MB\n"
     ]
    }
   ],
   "source": [
    "# Verifica si hay filas totalmente duplicadas\n",
    "print('El número de duplicados',products_df.duplicated().sum())\n",
    "print()\n",
    "\n",
    "print(products_df[products_df.duplicated()])\n",
    "\n",
    "products_df.info()"
   ]
  },
  {
   "cell_type": "code",
   "execution_count": 14,
   "id": "88daa4f4",
   "metadata": {
    "id": "88daa4f4"
   },
   "outputs": [
    {
     "name": "stdout",
     "output_type": "stream",
     "text": [
      "0\n"
     ]
    }
   ],
   "source": [
    "# Verifica si hay IDs duplicadas de productos\n",
    "print(products_df.duplicated(subset='product_id').sum())"
   ]
  },
  {
   "cell_type": "code",
   "execution_count": 15,
   "id": "c773f0bf",
   "metadata": {
    "id": "c773f0bf",
    "scrolled": false
   },
   "outputs": [
    {
     "name": "stdout",
     "output_type": "stream",
     "text": [
      "   product_id                product_name  aisle_id  department_id\n",
      "0           1  CHOCOLATE SANDWICH COOKIES        61             19\n",
      "\n",
      "Número de productos con nombre duplicado: 1361\n",
      "\n",
      "       product_id                                     product_name  aisle_id  \\\n",
      "71             72                                              NaN       100   \n",
      "109           110                                              NaN       100   \n",
      "296           297                                              NaN       100   \n",
      "416           417                                              NaN       100   \n",
      "436           437                                              NaN       100   \n",
      "...           ...                                              ...       ...   \n",
      "49689       49690                    HIGH PERFORMANCE ENERGY DRINK        64   \n",
      "49690       49691                    ORIGINAL PANCAKE & WAFFLE MIX       130   \n",
      "49691       49692  ORGANIC INSTANT OATMEAL LIGHT MAPLE BROWN SUGAR       130   \n",
      "49692       49693                           SPRING WATER BODY WASH       127   \n",
      "49693       49694                          BURRITO- STEAK & CHEESE        38   \n",
      "\n",
      "       department_id  \n",
      "71                21  \n",
      "109               21  \n",
      "296               21  \n",
      "416               21  \n",
      "436               21  \n",
      "...              ...  \n",
      "49689              7  \n",
      "49690             14  \n",
      "49691             14  \n",
      "49692             11  \n",
      "49693              1  \n",
      "\n",
      "[1361 rows x 4 columns]\n"
     ]
    }
   ],
   "source": [
    "# Revisa si hay nombres duplicados de productos (convierte los nombres a letras mayúsculas para compararlos mejor)\n",
    "products_df['product_name'] = products_df['product_name'].str.upper()\n",
    "\n",
    "print(products_df.head(1))\n",
    "print()\n",
    "print('Número de productos con nombre duplicado:',products_df.duplicated(subset='product_name').sum())\n",
    "print()\n",
    "print(products_df[products_df['product_name'].duplicated()])\n"
   ]
  },
  {
   "cell_type": "code",
   "execution_count": 16,
   "id": "01efd02e",
   "metadata": {
    "id": "01efd02e"
   },
   "outputs": [
    {
     "name": "stdout",
     "output_type": "stream",
     "text": [
      "Número de productos con nombre ausente: 1258\n",
      "Número de productos con nombre duplicado: 1361\n"
     ]
    }
   ],
   "source": [
    "# Revisa si hay nombres duplicados de productos no faltantes\n",
    "print('Número de productos con nombre ausente:',products_df['product_name'].isna().sum())\n",
    "\n",
    "print('Número de productos con nombre duplicado:',products_df.duplicated(subset='product_name').sum())\n"
   ]
  },
  {
   "cell_type": "markdown",
   "id": "9da8d293",
   "metadata": {
    "id": "9da8d293"
   },
   "source": [
    "Describe brevemente tus hallazgos y lo que hiciste con ellos.\n",
    "\n",
    "Al buscar los productos con nombre ausente vemos que tenemos 1258 productos sin nombre, sin embargo cada uno tiene su id de producto único, por lo que no se deben eliminar ya que solamente desconocemos el nombre.\n",
    "El resto de los duplicados por nombre también tienen un 1d único, por lo que se podría tratar del mismo producto con una presentación diferente en cuanto a tamaño, color, etc. Es por esto que no podemos eliminar los datos sólamente basándonos en el nombre. Especialmente si ya comprobamos que cada producto tiene un id único."
   ]
  },
  {
   "cell_type": "markdown",
   "id": "60f30db1",
   "metadata": {
    "id": "60f30db1"
   },
   "source": [
    "### `departments` data frame"
   ]
  },
  {
   "cell_type": "code",
   "execution_count": 17,
   "id": "fb410ad4-0fbf-4b80-bb09-23fdea79afe3",
   "metadata": {
    "id": "fb410ad4-0fbf-4b80-bb09-23fdea79afe3"
   },
   "outputs": [
    {
     "name": "stdout",
     "output_type": "stream",
     "text": [
      "<class 'pandas.core.frame.DataFrame'>\n",
      "RangeIndex: 21 entries, 0 to 20\n",
      "Data columns (total 2 columns):\n",
      " #   Column         Non-Null Count  Dtype \n",
      "---  ------         --------------  ----- \n",
      " 0   department_id  21 non-null     int64 \n",
      " 1   department     21 non-null     object\n",
      "dtypes: int64(1), object(1)\n",
      "memory usage: 464.0+ bytes\n",
      "El número de duplicados 0\n"
     ]
    }
   ],
   "source": [
    "# Revisa si hay filas totalmente duplicadas\n",
    "departments_df.info()\n",
    "\n",
    "print('El número de duplicados',departments_df.duplicated().sum())\n"
   ]
  },
  {
   "cell_type": "code",
   "execution_count": 18,
   "id": "332b12bb",
   "metadata": {
    "id": "332b12bb"
   },
   "outputs": [
    {
     "name": "stdout",
     "output_type": "stream",
     "text": [
      "El número de duplicados por ID: 0\n",
      "El número de duplicados por nombre: 0\n"
     ]
    }
   ],
   "source": [
    "# Revisa si hay IDs duplicadas de productos\n",
    "print('El número de duplicados por ID:',departments_df['department_id'].duplicated().sum())\n",
    "print('El número de duplicados por nombre:',departments_df['department'].duplicated().sum())\n"
   ]
  },
  {
   "cell_type": "markdown",
   "id": "bd30d78e",
   "metadata": {
    "id": "bd30d78e"
   },
   "source": [
    "No hay duplicados, por lo que no se necesita modificar los datos en ninguna forma."
   ]
  },
  {
   "cell_type": "markdown",
   "id": "889349c1",
   "metadata": {
    "id": "889349c1"
   },
   "source": [
    "### `aisles` data frame"
   ]
  },
  {
   "cell_type": "code",
   "execution_count": 19,
   "id": "9da89fb9-4679-40f5-ad0d-c34df753a3f8",
   "metadata": {
    "id": "9da89fb9-4679-40f5-ad0d-c34df753a3f8"
   },
   "outputs": [
    {
     "name": "stdout",
     "output_type": "stream",
     "text": [
      "<class 'pandas.core.frame.DataFrame'>\n",
      "RangeIndex: 134 entries, 0 to 133\n",
      "Data columns (total 2 columns):\n",
      " #   Column    Non-Null Count  Dtype \n",
      "---  ------    --------------  ----- \n",
      " 0   aisle_id  134 non-null    int64 \n",
      " 1   aisle     134 non-null    object\n",
      "dtypes: int64(1), object(1)\n",
      "memory usage: 2.2+ KB\n",
      "El número de duplicados 0\n"
     ]
    }
   ],
   "source": [
    "# Revisa si hay filas totalmente duplicadas\n",
    "aisles_df.info()\n",
    "print('El número de duplicados',aisles_df.duplicated().sum())\n"
   ]
  },
  {
   "cell_type": "code",
   "execution_count": 20,
   "id": "da7c2822",
   "metadata": {
    "id": "da7c2822"
   },
   "outputs": [
    {
     "name": "stdout",
     "output_type": "stream",
     "text": [
      "El número de duplicados por ID: 0\n",
      "El número de duplicados por nombre: 0\n"
     ]
    }
   ],
   "source": [
    "# Revisa si hay IDs duplicadas de productos\n",
    "print('El número de duplicados por ID:',aisles_df['aisle_id'].duplicated().sum())\n",
    "print('El número de duplicados por nombre:',aisles_df['aisle'].duplicated().sum())\n"
   ]
  },
  {
   "cell_type": "markdown",
   "id": "ac63826f",
   "metadata": {
    "id": "ac63826f"
   },
   "source": [
    "No hay duplicados, por lo que no se necesita modificar los datos en ninguna forma."
   ]
  },
  {
   "cell_type": "markdown",
   "id": "274cd06a",
   "metadata": {
    "id": "274cd06a"
   },
   "source": [
    "### `order_products` data frame"
   ]
  },
  {
   "cell_type": "code",
   "execution_count": 21,
   "id": "52326689-84a8-4b8f-a881-7c68780f62c9",
   "metadata": {
    "id": "52326689-84a8-4b8f-a881-7c68780f62c9"
   },
   "outputs": [
    {
     "name": "stdout",
     "output_type": "stream",
     "text": [
      "<class 'pandas.core.frame.DataFrame'>\n",
      "RangeIndex: 4545007 entries, 0 to 4545006\n",
      "Data columns (total 4 columns):\n",
      " #   Column             Dtype  \n",
      "---  ------             -----  \n",
      " 0   order_id           int64  \n",
      " 1   product_id         int64  \n",
      " 2   add_to_cart_order  float64\n",
      " 3   reordered          int64  \n",
      "dtypes: float64(1), int64(3)\n",
      "memory usage: 138.7 MB\n",
      "\n",
      "   order_id  product_id  add_to_cart_order  reordered\n",
      "0   2141543       11440               17.0          0\n",
      "1    567889        1560                1.0          1\n",
      "2   2261212       26683                1.0          1\n",
      "3    491251        8670               35.0          1\n",
      "4   2571142        1940                5.0          1\n",
      "\n",
      "El número de duplicados 0\n"
     ]
    }
   ],
   "source": [
    "# Revisa si hay filas totalmente duplicadas\n",
    "order_products_df.info()\n",
    "print()\n",
    "print(order_products_df.head())\n",
    "print()\n",
    "print('El número de duplicados',order_products_df.duplicated().sum())\n"
   ]
  },
  {
   "cell_type": "code",
   "execution_count": 22,
   "id": "7b861391",
   "metadata": {
    "id": "7b861391"
   },
   "outputs": [
    {
     "name": "stdout",
     "output_type": "stream",
     "text": [
      "El número de duplicados por ID: 4094961\n",
      "El número de duplicados por producto: 4499434\n"
     ]
    }
   ],
   "source": [
    "# Vuelve a verificar si hay cualquier otro duplicado engañoso\n",
    "print('El número de duplicados por ID:',order_products_df['order_id'].duplicated().sum())\n",
    "print('El número de duplicados por producto:',order_products_df['product_id'].duplicated().sum())\n"
   ]
  },
  {
   "cell_type": "markdown",
   "id": "0b890492",
   "metadata": {
    "id": "0b890492"
   },
   "source": [
    "Describe brevemente tus hallazgos y lo que hiciste con ellos.\n",
    "\n",
    "A pesar de que hay muchos duplicadoes por id de compra, no se pueden eliminar datos, ya que diferentes productos pueden tener el mismo 1d de compra si fueron agregados a ese carrito en específico.\n",
    "En cuanto a los duplicados por producto, tampoco se pueden modificar ya que esto solo nos indica que se pidió el mismo producto en diferentes órdenes por diferentes cleintes. "
   ]
  },
  {
   "cell_type": "markdown",
   "id": "1ac36bca",
   "metadata": {},
   "source": [
    "<div class=\"alert alert-block alert-success\">\n",
    "<b>Comentario del revisor</b> <a class=\"tocSkip\"></a>\n",
    "\n",
    "Te felicito por haber eliminado los duplicados! Es una parte fundamental del análisis de datos!\n",
    "</div>\n"
   ]
  },
  {
   "cell_type": "markdown",
   "id": "1e46de76",
   "metadata": {
    "id": "1e46de76"
   },
   "source": [
    "## Encuentra y elimina los valores ausentes\n",
    "\n",
    "Al trabajar con valores duplicados, pudimos observar que también nos falta investigar valores ausentes:\n",
    "\n",
    "* La columna `'product_name'` de la tabla products.\n",
    "* La columna `'days_since_prior_order'` de la tabla orders.\n",
    "* La columna `'add_to_cart_order'` de la tabla order_productos."
   ]
  },
  {
   "cell_type": "markdown",
   "id": "c0aebd78",
   "metadata": {
    "id": "c0aebd78"
   },
   "source": [
    "### `products` data frame"
   ]
  },
  {
   "cell_type": "code",
   "execution_count": 23,
   "id": "fe4a8b0f",
   "metadata": {
    "id": "fe4a8b0f"
   },
   "outputs": [
    {
     "name": "stdout",
     "output_type": "stream",
     "text": [
      "1258\n"
     ]
    }
   ],
   "source": [
    "# Encuentra los valores ausentes en la columna 'product_name'\n",
    "\n",
    "print(products_df['product_name'].isna().sum())"
   ]
  },
  {
   "cell_type": "markdown",
   "id": "-A6x1AbJhjkp",
   "metadata": {
    "id": "-A6x1AbJhjkp"
   },
   "source": [
    "Tenemos 1258 productos de los cuales no tenemos su nombre. Conocemos su id de producto, por lo que sabemos que son únicos."
   ]
  },
  {
   "cell_type": "code",
   "execution_count": 24,
   "id": "e96167bc",
   "metadata": {
    "id": "e96167bc"
   },
   "outputs": [
    {
     "name": "stdout",
     "output_type": "stream",
     "text": [
      "       product_id product_name  aisle_id  department_id\n",
      "37             38          NaN       100             21\n",
      "71             72          NaN       100             21\n",
      "109           110          NaN       100             21\n",
      "296           297          NaN       100             21\n",
      "416           417          NaN       100             21\n",
      "...           ...          ...       ...            ...\n",
      "49552       49553          NaN       100             21\n",
      "49574       49575          NaN       100             21\n",
      "49640       49641          NaN       100             21\n",
      "49663       49664          NaN       100             21\n",
      "49668       49669          NaN       100             21\n",
      "\n",
      "[1258 rows x 4 columns]\n"
     ]
    }
   ],
   "source": [
    "#  ¿Todos los nombres de productos ausentes están relacionados con el pasillo con ID 100?\n",
    "\n",
    "print(products_df[(products_df['product_name'].isna())&(products_df['aisle_id'] ==100)])"
   ]
  },
  {
   "cell_type": "markdown",
   "id": "WRpIfXRphpSL",
   "metadata": {
    "id": "WRpIfXRphpSL"
   },
   "source": [
    "Podemos ver que todos los productos que tienen un nombre ausente y tienen pasillo id 100, dan un total de 1258, los mismos que teniamos en el resultado anterior. Es por eso que sabemos que todos los productos sin nombre pertenecen al pasillo 100. Iguamente notamos que parece que todos los department pertenecen al 21, pero hay que comprobarlo."
   ]
  },
  {
   "cell_type": "code",
   "execution_count": 25,
   "id": "8fd0a541",
   "metadata": {
    "id": "8fd0a541"
   },
   "outputs": [
    {
     "name": "stdout",
     "output_type": "stream",
     "text": [
      "       product_id product_name  aisle_id  department_id\n",
      "37             38          NaN       100             21\n",
      "71             72          NaN       100             21\n",
      "109           110          NaN       100             21\n",
      "296           297          NaN       100             21\n",
      "416           417          NaN       100             21\n",
      "...           ...          ...       ...            ...\n",
      "49552       49553          NaN       100             21\n",
      "49574       49575          NaN       100             21\n",
      "49640       49641          NaN       100             21\n",
      "49663       49664          NaN       100             21\n",
      "49668       49669          NaN       100             21\n",
      "\n",
      "[1258 rows x 4 columns]\n"
     ]
    }
   ],
   "source": [
    "# ¿Todos los nombres de productos ausentes están relacionados con el departamento con ID 21?\n",
    "print(products_df[(products_df['product_name'].isna())&(products_df['aisle_id'] ==100)&(products_df['department_id']==21)])"
   ]
  },
  {
   "cell_type": "markdown",
   "id": "qDpdYn1Fht_I",
   "metadata": {
    "id": "qDpdYn1Fht_I"
   },
   "source": [
    "Comprobamos que los 1258 productos sin nombre pertenecen al pasillo 100 y al departamento 21. Podemos revisar los data frames que contienen la informacion sobre los pasillos y departamentos para saber cuáles son y determinar si podemos nombrar los productos."
   ]
  },
  {
   "cell_type": "code",
   "execution_count": 26,
   "id": "325c3464",
   "metadata": {
    "id": "325c3464"
   },
   "outputs": [
    {
     "name": "stdout",
     "output_type": "stream",
     "text": [
      "El pasillo con el ID 100 es: \n",
      " aisle_id        100\n",
      "aisle       missing\n",
      "Name: 99, dtype: object\n",
      "\n",
      "El departamento con el ID 21 es: \n",
      " department_id         21\n",
      "department       missing\n",
      "Name: 20, dtype: object\n"
     ]
    }
   ],
   "source": [
    "# Usa las tablas department y aisle para revisar los datos del pasillo con ID 100 y el departamento con ID 21.\n",
    "\n",
    "print('El pasillo con el ID 100 es: \\n', aisles_df.loc[99])\n",
    "print()\n",
    "print('El departamento con el ID 21 es: \\n', departments_df.loc[20])"
   ]
  },
  {
   "cell_type": "markdown",
   "id": "nqhSTUPhhvEJ",
   "metadata": {
    "id": "nqhSTUPhhvEJ"
   },
   "source": [
    "Describe brevemente cuáles son tus hallazgos\n",
    "Tanto el pasillo 100 como el departamento 21 no tienen nombres conocidos, sino que esta cmoo strings con la palabra 'faltante'."
   ]
  },
  {
   "cell_type": "code",
   "execution_count": 27,
   "id": "6b295120",
   "metadata": {
    "id": "6b295120"
   },
   "outputs": [
    {
     "name": "stdout",
     "output_type": "stream",
     "text": [
      "\n",
      "product_id            38\n",
      "product_name     Unknown\n",
      "aisle_id             100\n",
      "department_id         21\n",
      "Name: 37, dtype: object\n",
      "\n",
      "0\n"
     ]
    }
   ],
   "source": [
    "# Completa los nombres de productos ausentes con 'Unknown'\n",
    "products_df['product_name']= products_df['product_name'].fillna(value = 'Unknown')\n",
    "print()\n",
    "print(products_df.loc[37])\n",
    "print()\n",
    "print(products_df['product_name'].isna().sum())"
   ]
  },
  {
   "cell_type": "markdown",
   "id": "fc70e5ad",
   "metadata": {
    "id": "fc70e5ad"
   },
   "source": [
    "Describe brevemente tus hallazgos y lo que hiciste con ellos.\n",
    "Rellenamos los nombres ausentes con 'Unknown' ya que no sabemos qué producto es, a qué pasillo pertenece o a qué departamento pertenece. Sabemos el id de producto, y por eso debemos conservar los datos a pesar de no saber el nombre. Estos datos se tendrían que recuperar de la empresa para poder hacer un análisis más significativo."
   ]
  },
  {
   "cell_type": "markdown",
   "id": "7eb45c86",
   "metadata": {
    "id": "7eb45c86"
   },
   "source": [
    "### `orders` data frame"
   ]
  },
  {
   "cell_type": "code",
   "execution_count": 28,
   "id": "93e41d96",
   "metadata": {
    "id": "93e41d96"
   },
   "outputs": [
    {
     "name": "stdout",
     "output_type": "stream",
     "text": [
      "<class 'pandas.core.frame.DataFrame'>\n",
      "Int64Index: 478952 entries, 0 to 478966\n",
      "Data columns (total 6 columns):\n",
      " #   Column                  Non-Null Count   Dtype  \n",
      "---  ------                  --------------   -----  \n",
      " 0   order_id                478952 non-null  int64  \n",
      " 1   user_id                 478952 non-null  int64  \n",
      " 2   order_number            478952 non-null  int64  \n",
      " 3   order_dow               478952 non-null  int64  \n",
      " 4   order_hour_of_day       478952 non-null  int64  \n",
      " 5   days_since_prior_order  450135 non-null  float64\n",
      "dtypes: float64(1), int64(5)\n",
      "memory usage: 25.6 MB\n",
      "None\n"
     ]
    }
   ],
   "source": [
    "# Encuentra los valores ausentes\n",
    "print(instacart_orders_df.info())\n"
   ]
  },
  {
   "cell_type": "code",
   "execution_count": 29,
   "id": "166e5a86",
   "metadata": {
    "id": "166e5a86"
   },
   "outputs": [
    {
     "name": "stdout",
     "output_type": "stream",
     "text": [
      "28817\n"
     ]
    }
   ],
   "source": [
    "# ¿Hay algún valor ausente que no sea el primer pedido del cliente?\n",
    "print(instacart_orders_df['days_since_prior_order'].isna().sum())"
   ]
  },
  {
   "cell_type": "markdown",
   "id": "4e23d089",
   "metadata": {
    "id": "4e23d089"
   },
   "source": [
    "Describe brevemente tus hallazgos y lo que hiciste con ellos.\n",
    "Con ver la informacion del dataframe podemos ver que no tenemos valores ausentes en las primeras 5 columnas, en la última tenemos algunos valores ausentes. Por la naturaleza de estos datos, si es la primera orden del cliente ésta columna puede estar vacía, ya que no hay un valor para los días de su uiltima compra si es la primera. Esto nos indica que 28,817 compras de las registradas son compras de primera vez."
   ]
  },
  {
   "cell_type": "markdown",
   "id": "69dc9ca4",
   "metadata": {
    "id": "69dc9ca4"
   },
   "source": [
    "### `order_products` data frame"
   ]
  },
  {
   "cell_type": "code",
   "execution_count": 30,
   "id": "b8240253",
   "metadata": {
    "id": "b8240253"
   },
   "outputs": [
    {
     "name": "stdout",
     "output_type": "stream",
     "text": [
      "<class 'pandas.core.frame.DataFrame'>\n",
      "RangeIndex: 4545007 entries, 0 to 4545006\n",
      "Data columns (total 4 columns):\n",
      " #   Column             Non-Null Count    Dtype  \n",
      "---  ------             --------------    -----  \n",
      " 0   order_id           4545007 non-null  int64  \n",
      " 1   product_id         4545007 non-null  int64  \n",
      " 2   add_to_cart_order  4544171 non-null  float64\n",
      " 3   reordered          4545007 non-null  int64  \n",
      "dtypes: float64(1), int64(3)\n",
      "memory usage: 138.7 MB\n",
      "None\n",
      "\n",
      "En la columna add to cart order faltan:  836 valores\n"
     ]
    }
   ],
   "source": [
    "# Encuentra los valores ausentes\n",
    "print(order_products_df.info(show_counts=True))\n",
    "print()\n",
    "print('En la columna add to cart order faltan: ', order_products_df['add_to_cart_order'].isna().sum() ,'valores')"
   ]
  },
  {
   "cell_type": "code",
   "execution_count": 31,
   "id": "9a78e5ee",
   "metadata": {
    "id": "9a78e5ee"
   },
   "outputs": [
    {
     "name": "stdout",
     "output_type": "stream",
     "text": [
      "El mínimo valor en add to cart order:  1.0\n",
      "\n",
      "El máximo valor en add to cart order:  64.0\n"
     ]
    }
   ],
   "source": [
    "# ¿Cuáles son los valores mínimos y máximos en esta columna?\n",
    "print('El mínimo valor en add to cart order: ',order_products_df['add_to_cart_order'].min())\n",
    "print()\n",
    "print('El máximo valor en add to cart order: ',order_products_df['add_to_cart_order'].max())\n"
   ]
  },
  {
   "cell_type": "markdown",
   "id": "-Z2Ja215jW78",
   "metadata": {
    "id": "-Z2Ja215jW78"
   },
   "source": [
    "Describe brevemente cuáles son tus hallazgos.\n",
    "Faltan 836 valores en la columna add to cart order, y los valores que tenemos se encuentran entre 1 y 64."
   ]
  },
  {
   "cell_type": "code",
   "execution_count": 32,
   "id": "ab9d0c2b",
   "metadata": {
    "id": "ab9d0c2b",
    "scrolled": true
   },
   "outputs": [
    {
     "name": "stdout",
     "output_type": "stream",
     "text": [
      "         order_id  product_id  add_to_cart_order  reordered\n",
      "737       2449164        5068                NaN          0\n",
      "9926      1968313       43867                NaN          0\n",
      "14394     2926893       11688                NaN          0\n",
      "16418     1717990        4142                NaN          0\n",
      "30114     1959075       42828                NaN          1\n",
      "...           ...         ...                ...        ...\n",
      "4505662   1800005        7411                NaN          0\n",
      "4511400   1633337         260                NaN          0\n",
      "4517562    404157        9517                NaN          0\n",
      "4534112   1673227       17835                NaN          0\n",
      "4535739   1832957       17949                NaN          1\n",
      "\n",
      "[836 rows x 4 columns]\n"
     ]
    }
   ],
   "source": [
    "# Guarda todas las IDs de pedidos que tengan un valor ausente en 'add_to_cart_order'\n",
    "missing_cart_order_id = order_products_df.query('add_to_cart_order.isna()')\n",
    "print(missing_cart_order_id)"
   ]
  },
  {
   "cell_type": "code",
   "execution_count": 33,
   "id": "54c31695",
   "metadata": {
    "id": "54c31695"
   },
   "outputs": [
    {
     "name": "stdout",
     "output_type": "stream",
     "text": [
      "          product_id  add_to_cart_order  reordered\n",
      "order_id                                          \n",
      "9310               1                  0          1\n",
      "61355             63                  0         63\n",
      "102236            31                  0         31\n",
      "129627             5                  0          5\n",
      "165801             6                  0          6\n",
      "...              ...                ...        ...\n",
      "2999801            6                  0          6\n",
      "3125735           22                  0         22\n",
      "3308010           51                  0         51\n",
      "3347453            7                  0          7\n",
      "3383594            5                  0          5\n",
      "\n",
      "[70 rows x 3 columns]\n",
      "\n",
      "El valor mínimo contando el numero de product_id según el order_id es:  1\n",
      "El valor maximo contando el numero de product_id según el order_id es:  63\n"
     ]
    }
   ],
   "source": [
    "# ¿Todos los pedidos con valores ausentes tienen más de 64 productos?\n",
    "# Agrupa todos los pedidos con datos ausentes por su ID de pedido.\n",
    "# Cuenta el número de 'product_id' en cada pedido y revisa el valor mínimo del conteo.\n",
    "\n",
    "print(missing_cart_order_id.groupby('order_id').count())\n",
    "print()\n",
    "print('El valor mínimo contando el numero de product_id según el order_id es: ',missing_cart_order_id.groupby('order_id')['product_id'].count().min())\n",
    "\n",
    "print('El valor maximo contando el numero de product_id según el order_id es: ',missing_cart_order_id.groupby('order_id')['product_id'].count().max())\n"
   ]
  },
  {
   "cell_type": "markdown",
   "id": "p9V6pddtjglj",
   "metadata": {
    "id": "p9V6pddtjglj"
   },
   "source": [
    "Describe brevemente cuáles son tus hallazgos.\n",
    "\n",
    "Cuando agrupamos por order id, podemos ver que tenemos 70 órdenes en las cuales hay un valor ausente en su add to cart order. En éstas ordenes hay mínimo 1 producto y máximo 63 productos.\n"
   ]
  },
  {
   "cell_type": "code",
   "execution_count": 34,
   "id": "7a987d08",
   "metadata": {
    "id": "7a987d08"
   },
   "outputs": [
    {
     "name": "stdout",
     "output_type": "stream",
     "text": [
      "Valores ausentes en order_products: order_id             0\n",
      "product_id           0\n",
      "add_to_cart_order    0\n",
      "reordered            0\n",
      "dtype: int64\n",
      "\n",
      "order_id             int64\n",
      "product_id           int64\n",
      "add_to_cart_order    int64\n",
      "reordered            int64\n",
      "dtype: object\n"
     ]
    }
   ],
   "source": [
    "# Remplaza los valores ausentes en la columna 'add_to_cart? con 999 y convierte la columna al tipo entero.\n",
    "\n",
    "order_products_df['add_to_cart_order']= order_products_df['add_to_cart_order'].fillna(value = 999).astype('int64')\n",
    "print('Valores ausentes en order_products:',order_products_df.isna().sum())\n",
    "print()\n",
    "print(order_products_df.dtypes)\n"
   ]
  },
  {
   "cell_type": "markdown",
   "id": "fea4bcc7",
   "metadata": {
    "id": "fea4bcc7"
   },
   "source": [
    "Describe brevemente tus hallazgos y lo que hiciste con ellos.\n",
    "\n",
    "Remplazamos los valores ausentes con un número entero, ya que el orden de agregar al carrito de compra no puede ser un numero decimal. "
   ]
  },
  {
   "cell_type": "markdown",
   "id": "96eadbe7",
   "metadata": {},
   "source": [
    "<div class=\"alert alert-block alert-success\">\n",
    "<b>Comentario del revisor</b> <a class=\"tocSkip\"></a>\n",
    "\n",
    "Te felicito por haber eliminado los NaNs! Es una parte fundamental del análisis de datos!\n",
    "</div>"
   ]
  },
  {
   "cell_type": "markdown",
   "id": "RnplPFY1gSrb",
   "metadata": {
    "id": "RnplPFY1gSrb"
   },
   "source": [
    "## Conclusiones\n",
    "\n",
    "Escribe aquí tus conclusiones intermedias sobre el Paso 2. Preprocesamiento de los datos\n",
    "\n",
    "En el preprocesamiento de datos es imoportante tomar en cuenta que tenemos que limpiarlos para que podamos analizarlos. Para esto hay que tomar en cuenta duplicados y ausentes. En estos data frames habia algunos errores que corregir, como el reemplazar valores ausentes desconocidos por un dato con el que podamos trabajar, por ejemplo 'unknown'para los nombres que no conocemos, o 999 para el orden de añadir al carro. También hay que eliminar duplicados idénticos, teniendo mucho cuidado con no eliminar datos utiles en el proceso. Hay que comprobar que todos nuestros datos estén limpios y listos antes de comenzar el análisis."
   ]
  },
  {
   "cell_type": "markdown",
   "id": "UjrOIwTcz3ri",
   "metadata": {
    "id": "UjrOIwTcz3ri"
   },
   "source": [
    "# Paso 3. Análisis de los datos\n",
    "\n",
    "Una vez los datos estén procesados y listos, haz el siguiente análisis:"
   ]
  },
  {
   "cell_type": "markdown",
   "id": "turkish-kidney",
   "metadata": {
    "id": "turkish-kidney"
   },
   "source": [
    "# [A] Fácil (deben completarse todos para aprobar)\n",
    "\n",
    "1. Verifica que los valores en las columnas `'order_hour_of_day'` y `'order_dow'` en la tabla orders sean razonables (es decir, `'order_hour_of_day'` oscile entre 0 y 23 y `'order_dow'` oscile entre 0 y 6).\n",
    "2. Crea un gráfico que muestre el número de personas que hacen pedidos dependiendo de la hora del día.\n",
    "3. Crea un gráfico que muestre qué día de la semana la gente hace sus compras.\n",
    "4. Crea un gráfico que muestre el tiempo que la gente espera hasta hacer su siguiente pedido, y comenta sobre los valores mínimos y máximos."
   ]
  },
  {
   "cell_type": "markdown",
   "id": "short-capability",
   "metadata": {
    "id": "short-capability"
   },
   "source": [
    "### [A1] Verifica que los valores sean sensibles"
   ]
  },
  {
   "cell_type": "code",
   "execution_count": 35,
   "id": "growing-fruit",
   "metadata": {
    "id": "growing-fruit"
   },
   "outputs": [
    {
     "name": "stdout",
     "output_type": "stream",
     "text": [
      "el minimo de hora del dia: 0\n",
      "el maximo de hora del dia: 23\n"
     ]
    }
   ],
   "source": [
    "print('el minimo de hora del dia:',instacart_orders_df['order_hour_of_day'].min())\n",
    "print('el maximo de hora del dia:',instacart_orders_df['order_hour_of_day'].max())\n",
    "\n"
   ]
  },
  {
   "cell_type": "code",
   "execution_count": 36,
   "id": "accessory-malaysia",
   "metadata": {
    "id": "accessory-malaysia"
   },
   "outputs": [
    {
     "name": "stdout",
     "output_type": "stream",
     "text": [
      "el minimo de dia de la semana:  0\n",
      "el maximo de dia de la semana:  6\n"
     ]
    }
   ],
   "source": [
    "print('el minimo de dia de la semana: ',instacart_orders_df['order_dow'].min())\n",
    "print('el maximo de dia de la semana: ',instacart_orders_df['order_dow'].max())"
   ]
  },
  {
   "cell_type": "markdown",
   "id": "hmR2GNQ6lCsX",
   "metadata": {
    "id": "hmR2GNQ6lCsX"
   },
   "source": [
    "Los datos son correctos ya que tenemos 24 valores para hora del dia entre 0 y 23, y tenemos 7 valores para dia de la semana entre 0 y 6."
   ]
  },
  {
   "cell_type": "markdown",
   "id": "a6743a70",
   "metadata": {
    "id": "a6743a70"
   },
   "source": [
    "### [A2] Para cada hora del día, ¿cuántas personas hacen órdenes?"
   ]
  },
  {
   "cell_type": "code",
   "execution_count": 37,
   "id": "a36cca27",
   "metadata": {
    "id": "a36cca27"
   },
   "outputs": [
    {
     "data": {
      "image/png": "[encoded data removed]",
      "text/plain": [
       "<Figure size 640x480 with 1 Axes>"
      ]
     },
     "metadata": {},
     "output_type": "display_data"
    }
   ],
   "source": [
    "instacart_orders_df['order_hour_of_day'].plot(kind='hist',\n",
    "                                              bins = 24,\n",
    "                                             xlabel='Hora del día',\n",
    "                                             ylabel='Número de ordenes',\n",
    "                                             title = 'Órdenes según la hora del día',\n",
    "                                             )\n",
    "plt.show()"
   ]
  },
  {
   "cell_type": "markdown",
   "id": "11270eed",
   "metadata": {
    "id": "11270eed"
   },
   "source": [
    "En la gráfica vemos que las 0 y 5 horas se hacen la menor cantidad de pedidos, de ahí aumenta la cantidad de pedidos rápidamente, alcanzando su máximo a aproximadamente las 10 horas, se mantiene alta la cantidad de pedidos de 10 a 15 horas, para luego bajar durante el resto del día. \n"
   ]
  },
  {
   "cell_type": "markdown",
   "id": "documented-command",
   "metadata": {
    "id": "documented-command"
   },
   "source": [
    "### [A3] ¿Qué día de la semana compran víveres las personas?"
   ]
  },
  {
   "cell_type": "code",
   "execution_count": 38,
   "id": "chief-digit",
   "metadata": {
    "id": "chief-digit",
    "scrolled": true
   },
   "outputs": [
    {
     "data": {
      "image/png": "[encoded data removed]",
      "text/plain": [
       "<Figure size 640x480 with 1 Axes>"
      ]
     },
     "metadata": {},
     "output_type": "display_data"
    }
   ],
   "source": [
    "instacart_orders_df['order_dow'].plot(kind='hist',\n",
    "                                      bins = 7,\n",
    "                                             xlabel='Día de la semana',\n",
    "                                             ylabel='Número de ordenes',\n",
    "                                             title = 'Órdenes según el día de la semana',\n",
    "                                             )\n",
    "plt.show()"
   ]
  },
  {
   "cell_type": "markdown",
   "id": "dominant-lightning",
   "metadata": {
    "id": "dominant-lightning"
   },
   "source": [
    "\n",
    "En la gráfica podemos ver que el número de órdenes aumenta sobre todo el domingo (0) y lunes (1) puede ser que esto se deba a que las personas tienden a pedir su compra de alimentos el domingo o el lunes para prepararese para el resto de la semana. En los dias martes, miércoles y jueves (2, 3 y 4) se hacen la menor cantidad de órdenes, y en viernes y sabado sube un poco más la frecuencia."
   ]
  },
  {
   "cell_type": "markdown",
   "id": "cutting-concert",
   "metadata": {
    "id": "cutting-concert"
   },
   "source": [
    "### [A4] ¿Cuánto tiempo esperan las personas hasta hacer otro pedido? Comenta sobre los valores mínimos y máximos."
   ]
  },
  {
   "cell_type": "code",
   "execution_count": 39,
   "id": "c231f523",
   "metadata": {
    "id": "c231f523"
   },
   "outputs": [
    {
     "data": {
      "image/png": "[encoded data removed]",
      "text/plain": [
       "<Figure size 640x480 with 1 Axes>"
      ]
     },
     "metadata": {},
     "output_type": "display_data"
    }
   ],
   "source": [
    "instacart_orders_df['days_since_prior_order'].plot(kind = 'hist',\n",
    "                                                  title = 'Días desde su última compra',\n",
    "                                                  )\n",
    "plt.show()"
   ]
  },
  {
   "cell_type": "markdown",
   "id": "discrete-vertex",
   "metadata": {
    "id": "discrete-vertex"
   },
   "source": [
    "En esta gráfica podemos ver que los clientes vuleven a pedir una orden con más freciencia entre los 5 y 10 dias, aproximadamente 1 semana. Esto puede ser porque tienen el hábito de hacer 1 compra semanalmente. También hay un aumento en las compras después de 30 dias, lo que nos indicaría que hay clientes que hacen compras mensualmente."
   ]
  },
  {
   "cell_type": "markdown",
   "id": "tight-staff",
   "metadata": {
    "id": "tight-staff"
   },
   "source": [
    "# [B] Intermedio (deben completarse todos para aprobar)\n",
    "\n",
    "1. ¿Existe alguna diferencia entre las distribuciones `'order_hour_of_day'` de los miércoles y los sábados? Traza gráficos de barra de `'order_hour_of_day'` para ambos días en la misma figura y describe las diferencias que observes.\n",
    "2. Grafica la distribución para el número de órdenes que hacen los clientes (es decir, cuántos clientes hicieron solo 1 pedido, cuántos hicieron 2, cuántos 3, y así sucesivamente...).\n",
    "3. ¿Cuáles son los 20 principales productos que se piden con más frecuencia (muestra su identificación y nombre)?"
   ]
  },
  {
   "cell_type": "markdown",
   "id": "packed-classic",
   "metadata": {
    "id": "packed-classic"
   },
   "source": [
    "### [B1] Diferencia entre miércoles y sábados para  `'order_hour_of_day'`. Traza gráficos de barra para los dos días y describe las diferencias que veas."
   ]
  },
  {
   "cell_type": "code",
   "execution_count": 40,
   "id": "d89b8403",
   "metadata": {
    "id": "d89b8403"
   },
   "outputs": [],
   "source": [
    "#obtener datos para miercoles y sabado\n",
    "wednesday_orders = instacart_orders_df[instacart_orders_df['order_dow'] == 3]\n",
    "saturday_orders = instacart_orders_df[instacart_orders_df['order_dow'] == 6]\n",
    "\n"
   ]
  },
  {
   "cell_type": "code",
   "execution_count": 41,
   "id": "94e54e8a",
   "metadata": {
    "id": "94e54e8a"
   },
   "outputs": [],
   "source": [
    "#contar cuántas ordenes hay por hora en cada día\n",
    "wednesday_hours = wednesday_orders['order_hour_of_day'].value_counts().sort_index()\n",
    "saturday_hours = saturday_orders['order_hour_of_day'].value_counts().sort_index()\n",
    "\n"
   ]
  },
  {
   "cell_type": "code",
   "execution_count": 42,
   "id": "797c90a8",
   "metadata": {
    "id": "797c90a8"
   },
   "outputs": [],
   "source": [
    "# formar un df nuevo para graficar con plot\n",
    "hourly_counts_df = pd.DataFrame({\n",
    "    'Miércoles': wednesday_hours,\n",
    "    'Sábado': saturday_hours\n",
    "})\n",
    "\n"
   ]
  },
  {
   "cell_type": "code",
   "execution_count": 43,
   "id": "35bcea30",
   "metadata": {
    "id": "35bcea30"
   },
   "outputs": [
    {
     "data": {
      "image/png": "[encoded data removed]",
      "text/plain": [
       "<Figure size 640x480 with 1 Axes>"
      ]
     },
     "metadata": {},
     "output_type": "display_data"
    }
   ],
   "source": [
    "#graficar\n",
    "hourly_counts_df.plot(kind='bar',\n",
    "                     xlabel = 'Hora del día',\n",
    "                     ylabel= 'Número de pedidos',\n",
    "                     title= 'Número de pedidos por hora en Míércoles y Sábado',\n",
    "                     )\n",
    "\n",
    "plt.show()"
   ]
  },
  {
   "cell_type": "markdown",
   "id": "charitable-congo",
   "metadata": {
    "id": "charitable-congo"
   },
   "source": [
    "La distribución es similar, ya que entre las 0 y 6 horas no hay muchos pedidos en ninguno de los días. A partir de las 7 comienzan a elevarse los pedidos, y se mantienen altos hasta aprox las 16-17 horas, cuando comienzan a descender. Lo que podemos ver es que los sábados se hacen bastante más pedidos durante el medio día, podríamos asumir que es porque los clientes tienen más tiempo libre."
   ]
  },
  {
   "cell_type": "markdown",
   "id": "e3891143",
   "metadata": {
    "id": "e3891143"
   },
   "source": [
    "### [B2] ¿Cuál es la distribución para el número de pedidos por cliente?"
   ]
  },
  {
   "cell_type": "code",
   "execution_count": 44,
   "id": "d8c26c23",
   "metadata": {
    "id": "d8c26c23"
   },
   "outputs": [
    {
     "name": "stdout",
     "output_type": "stream",
     "text": [
      "0         11\n",
      "1          5\n",
      "2          4\n",
      "3         56\n",
      "4          2\n",
      "          ..\n",
      "478962     5\n",
      "478963     2\n",
      "478964    16\n",
      "478965     3\n",
      "478966    18\n",
      "Name: order_number, Length: 478952, dtype: int64\n"
     ]
    }
   ],
   "source": [
    "#contar cuantos pedidos ha hecho cada cliente\n",
    "pedido_por_cliente = instacart_orders_df['order_number']\n",
    "print(pedido_por_cliente)\n"
   ]
  },
  {
   "cell_type": "code",
   "execution_count": 45,
   "id": "00e69a66",
   "metadata": {
    "id": "00e69a66"
   },
   "outputs": [
    {
     "data": {
      "image/png": "[encoded data removed]",
      "text/plain": [
       "<Figure size 640x480 with 1 Axes>"
      ]
     },
     "metadata": {},
     "output_type": "display_data"
    }
   ],
   "source": [
    "#graficar\n",
    "pedido_por_cliente.plot(kind='hist',\n",
    "                        bins = 10,\n",
    "                        xlabel= 'Numero de órdenes por usuario',\n",
    "                       ylabel = 'Número de usuarios',\n",
    "                       title = 'Número de órdenes por usuarios')\n",
    "plt.show()"
   ]
  },
  {
   "cell_type": "markdown",
   "id": "d2eff7d5",
   "metadata": {
    "id": "d2eff7d5"
   },
   "source": [
    "Una gran parte de los clientes ha hecho menos de 10 órdenes, pero hay algunos que han hecho hasta 100."
   ]
  },
  {
   "cell_type": "markdown",
   "id": "54a0319c",
   "metadata": {
    "id": "54a0319c"
   },
   "source": [
    "### [B3] ¿Cuáles son los 20 productos más populares (muestra su ID y nombre)?"
   ]
  },
  {
   "cell_type": "code",
   "execution_count": 46,
   "id": "exterior-arizona",
   "metadata": {
    "id": "exterior-arizona",
    "scrolled": false
   },
   "outputs": [
    {
     "name": "stdout",
     "output_type": "stream",
     "text": [
      "<class 'pandas.core.frame.DataFrame'>\n",
      "Int64Index: 4545007 entries, 0 to 4545006\n",
      "Data columns (total 7 columns):\n",
      " #   Column             Non-Null Count    Dtype \n",
      "---  ------             --------------    ----- \n",
      " 0   product_id         4545007 non-null  int64 \n",
      " 1   product_name       4545007 non-null  object\n",
      " 2   aisle_id           4545007 non-null  int64 \n",
      " 3   department_id      4545007 non-null  int64 \n",
      " 4   order_id           4545007 non-null  int64 \n",
      " 5   add_to_cart_order  4545007 non-null  int64 \n",
      " 6   reordered          4545007 non-null  int64 \n",
      "dtypes: int64(6), object(1)\n",
      "memory usage: 277.4+ MB\n"
     ]
    }
   ],
   "source": [
    "#juntar los datos para hacer match entre ordenes y id\n",
    "merged_data = pd.merge(products_df,order_products_df, on = 'product_id')\n",
    "merged_data.info(show_counts=True )"
   ]
  },
  {
   "cell_type": "markdown",
   "id": "0e9ed465",
   "metadata": {},
   "source": [
    "<div class=\"alert alert-block alert-success\">\n",
    "<b>Comentario del revisor</b> <a class=\"tocSkip\"></a>\n",
    "\n",
    "Te felicito por el trabajo que realizaste a la hora de fusionar las tablas!</div>"
   ]
  },
  {
   "cell_type": "code",
   "execution_count": 47,
   "id": "universal-facial",
   "metadata": {
    "id": "universal-facial"
   },
   "outputs": [],
   "source": [
    "#agrupar y ordenar los datos segun nombre, id y ventas\n",
    "grouped_df = merged_data.groupby(['product_name', 'product_id']).size().reset_index(name='Pedidos')\n",
    "sorted_df = grouped_df.sort_values(by='Pedidos', ascending=False)"
   ]
  },
  {
   "cell_type": "code",
   "execution_count": 48,
   "id": "bbcdd20b",
   "metadata": {
    "id": "bbcdd20b"
   },
   "outputs": [
    {
     "name": "stdout",
     "output_type": "stream",
     "text": [
      "                   product_name  product_id  Pedidos\n",
      "3252                     BANANA       24852    66050\n",
      "3057     BAG OF ORGANIC BANANAS       13176    53297\n",
      "28719      ORGANIC STRAWBERRIES       21137    37039\n",
      "25873      ORGANIC BABY SPINACH       21903    33971\n",
      "27215      ORGANIC HASS AVOCADO       47209    29773\n",
      "25839           ORGANIC AVOCADO       47766    24689\n",
      "20096               LARGE LEMON       47626    21495\n",
      "38563              STRAWBERRIES       16797    20018\n",
      "21008                     LIMES       26209    19690\n",
      "29233        ORGANIC WHOLE MILK       27845    19600\n",
      "28208       ORGANIC RASPBERRIES       27966    19197\n",
      "29312      ORGANIC YELLOW ONION       22935    15898\n",
      "26938            ORGANIC GARLIC       24964    15292\n",
      "29350          ORGANIC ZUCCHINI       45007    14584\n",
      "26026       ORGANIC BLUEBERRIES       39275    13879\n",
      "10410            CUCUMBER KIRBY       49683    13675\n",
      "26919        ORGANIC FUJI APPLE       28204    12544\n",
      "27473             ORGANIC LEMON        5876    12232\n",
      "2331   APPLE HONEYCRISP ORGANIC        8277    11993\n",
      "27065    ORGANIC GRAPE TOMATOES       40706    11781\n"
     ]
    },
    {
     "data": {
      "image/png": "[encoded data removed]",
      "text/plain": [
       "<Figure size 640x480 with 1 Axes>"
      ]
     },
     "metadata": {},
     "output_type": "display_data"
    }
   ],
   "source": [
    "top_20 = sorted_df.head(20)\n",
    "print(top_20)\n",
    "\n",
    "top_20.plot(kind = 'bar',\n",
    "           x = 'product_name',\n",
    "           y = 'Pedidos',\n",
    "            title = 'Top 20 productos más populares',\n",
    "            xlabel = 'Producto',\n",
    "            ylabel = 'Ventas')\n",
    "\n",
    "plt.show()"
   ]
  },
  {
   "cell_type": "markdown",
   "id": "7df00f47",
   "metadata": {
    "id": "7df00f47"
   },
   "source": [
    "Las bananas son unos de los productos más populares, ya que los dos productos top son diferentes presentaciones de bananas. También podemos ver que varios de los productos más populares son organicos, como las fresas, espinacas, aguacate, leche, etc. Esto nos indica que nuestros consumidores piden más productos orgánicos. Otra tendencia que vemos es que todos los productos son de tipo pedeceeros, en su mayoría frutas y verduras. "
   ]
  },
  {
   "cell_type": "markdown",
   "id": "gross-theme",
   "metadata": {
    "id": "gross-theme"
   },
   "source": [
    "# [C] Difícil (deben completarse todos para aprobar)\n",
    "\n",
    "1. ¿Cuántos artículos suelen comprar las personas en un pedido? ¿Cómo es la distribución?\n",
    "2. ¿Cuáles son los 20 principales artículos que vuelven a pedirse con mayor frecuencia (muestra sus nombres e IDs de los productos)?\n",
    "3. Para cada producto, ¿cuál es la tasa de repetición del pedido (número de repeticiones de pedido/total de pedidos?\n",
    "4. Para cada cliente, ¿qué proporción de los productos que pidió ya los había pedido? Calcula la tasa de repetición de pedido para cada usuario en lugar de para cada producto.\n",
    "5. ¿Cuáles son los 20 principales artículos que la gente pone primero en sus carritos (muestra las IDs de los productos, sus nombres, y el número de veces en que fueron el primer artículo en añadirse al carrito)?"
   ]
  },
  {
   "cell_type": "markdown",
   "id": "romantic-deposit",
   "metadata": {
    "id": "romantic-deposit"
   },
   "source": [
    "### [C1] ¿Cuántos artículos compran normalmente las personas en un pedido? ¿Cómo es la distribución?"
   ]
  },
  {
   "cell_type": "code",
   "execution_count": 49,
   "id": "virtual-punch",
   "metadata": {
    "id": "virtual-punch"
   },
   "outputs": [
    {
     "name": "stdout",
     "output_type": "stream",
     "text": [
      "order_id\n",
      "4     13\n",
      "9     15\n",
      "11     5\n",
      "19     3\n",
      "20     8\n",
      "Name: product_id, dtype: int64\n"
     ]
    }
   ],
   "source": [
    "#encontrar cuantos productos hay en cada order id\n",
    "products_per_order = order_products_df.groupby('order_id')['product_id'].count()\n",
    "print(products_per_order.head())"
   ]
  },
  {
   "cell_type": "markdown",
   "id": "01c191b9",
   "metadata": {},
   "source": [
    "<div class=\"alert alert-block alert-success\">\n",
    "<b>Comentario del revisor</b> <a class=\"tocSkip\"></a>\n",
    "\n",
    "Gran trabajo utilizando `groupby()`!</div>\n",
    "\n"
   ]
  },
  {
   "cell_type": "code",
   "execution_count": 50,
   "id": "sensitive-breathing",
   "metadata": {
    "id": "sensitive-breathing"
   },
   "outputs": [],
   "source": [
    "#encontrar el promedio\n",
    "avg_products_per_order = products_per_order.mean()"
   ]
  },
  {
   "cell_type": "code",
   "execution_count": 51,
   "id": "73705752",
   "metadata": {},
   "outputs": [
    {
     "name": "stdout",
     "output_type": "stream",
     "text": [
      "En promedio, los clientes piden  10.098983215049127  por orden.\n",
      "El máximo de productos en una orden fué de   127  por orden.\n",
      "El mínimo de productos en una orden fué de   1  por orden.\n"
     ]
    },
    {
     "data": {
      "image/png": "[encoded data removed]",
      "text/plain": [
       "<Figure size 640x480 with 1 Axes>"
      ]
     },
     "metadata": {},
     "output_type": "display_data"
    }
   ],
   "source": [
    "#imprimir\n",
    "print('En promedio, los clientes piden ', avg_products_per_order , ' por orden.')\n",
    "\n",
    "print('El máximo de productos en una orden fué de  ', products_per_order.max() , ' por orden.')\n",
    "\n",
    "print('El mínimo de productos en una orden fué de  ', products_per_order.min() , ' por orden.')\n",
    "\n",
    "products_per_order.plot(kind = 'hist', title = 'Número de productos por pedido')\n",
    "plt.show()\n"
   ]
  },
  {
   "cell_type": "markdown",
   "id": "designed-mortality",
   "metadata": {
    "id": "designed-mortality"
   },
   "source": [
    "En promedio los clientes piden 10 productos por orden, siendo el valor mínimo de 1 producto y máximo de 127 productos por pedido. Podemos ver que la distribución está desplazada hacia la izquierda, ya que son muchos más los clientes que piden menos de 20 productos por orden."
   ]
  },
  {
   "cell_type": "markdown",
   "id": "5e6b5537",
   "metadata": {
    "id": "5e6b5537"
   },
   "source": [
    "### [C2] ¿Cuáles son los 20 principales artículos que vuelven a pedirse con mayor frecuencia (muestra sus nombres e IDs de los productos)?"
   ]
  },
  {
   "cell_type": "code",
   "execution_count": 52,
   "id": "9374e55a",
   "metadata": {
    "id": "9374e55a"
   },
   "outputs": [
    {
     "name": "stdout",
     "output_type": "stream",
     "text": [
      "   product_id                product_name  aisle_id  department_id  order_id  \\\n",
      "0           1  CHOCOLATE SANDWICH COOKIES        61             19   1104373   \n",
      "1           1  CHOCOLATE SANDWICH COOKIES        61             19   1774977   \n",
      "2           1  CHOCOLATE SANDWICH COOKIES        61             19    652770   \n",
      "3           1  CHOCOLATE SANDWICH COOKIES        61             19   1000035   \n",
      "4           1  CHOCOLATE SANDWICH COOKIES        61             19   1679949   \n",
      "\n",
      "   add_to_cart_order  reordered  \n",
      "0                 11          1  \n",
      "1                  4          1  \n",
      "2                 10          0  \n",
      "3                  6          1  \n",
      "4                  9          0  \n"
     ]
    }
   ],
   "source": [
    "#unir df para tener id y nombre\n",
    "reordered_count = pd.merge(products_df, order_products_df, on = 'product_id')\n",
    "print(reordered_count.head())"
   ]
  },
  {
   "cell_type": "code",
   "execution_count": 53,
   "id": "possible-change",
   "metadata": {
    "id": "possible-change",
    "scrolled": true
   },
   "outputs": [
    {
     "name": "stdout",
     "output_type": "stream",
     "text": [
      "product_id  product_name                                                     \n",
      "1           CHOCOLATE SANDWICH COOKIES                                           158\n",
      "2           ALL-SEASONS SALT                                                       0\n",
      "3           ROBUST GOLDEN UNSWEETENED OOLONG TEA                                  31\n",
      "4           SMART ONES CLASSIC FAVORITES MINI RIGATONI WITH VODKA CREAM SAUCE     25\n",
      "7           PURE COCONUT WATER WITH ORANGE                                         1\n",
      "                                                                                ... \n",
      "49690       HIGH PERFORMANCE ENERGY DRINK                                          4\n",
      "49691       ORIGINAL PANCAKE & WAFFLE MIX                                         31\n",
      "49692       ORGANIC INSTANT OATMEAL LIGHT MAPLE BROWN SUGAR                        5\n",
      "49693       SPRING WATER BODY WASH                                                11\n",
      "49694       BURRITO- STEAK & CHEESE                                                3\n",
      "Name: reordered, Length: 45573, dtype: int64\n"
     ]
    }
   ],
   "source": [
    "#agrupar por su id y nombre, y contar las veces que se reordenó\n",
    "products_reordered =reordered_count.groupby(['product_id','product_name'])['reordered'].sum()\n",
    "print(products_reordered)"
   ]
  },
  {
   "cell_type": "code",
   "execution_count": 54,
   "id": "professional-surfing",
   "metadata": {
    "id": "professional-surfing",
    "scrolled": true
   },
   "outputs": [
    {
     "name": "stdout",
     "output_type": "stream",
     "text": [
      "product_id  product_name            \n",
      "24852       BANANA                      55763\n",
      "13176       BAG OF ORGANIC BANANAS      44450\n",
      "21137       ORGANIC STRAWBERRIES        28639\n",
      "21903       ORGANIC BABY SPINACH        26233\n",
      "47209       ORGANIC HASS AVOCADO        23629\n",
      "47766       ORGANIC AVOCADO             18743\n",
      "27845       ORGANIC WHOLE MILK          16251\n",
      "47626       LARGE LEMON                 15044\n",
      "27966       ORGANIC RASPBERRIES         14748\n",
      "16797       STRAWBERRIES                13945\n",
      "26209       LIMES                       13327\n",
      "22935       ORGANIC YELLOW ONION        11145\n",
      "24964       ORGANIC GARLIC              10411\n",
      "45007       ORGANIC ZUCCHINI            10076\n",
      "49683       CUCUMBER KIRBY               9538\n",
      "28204       ORGANIC FUJI APPLE           8989\n",
      "8277        APPLE HONEYCRISP ORGANIC     8836\n",
      "39275       ORGANIC BLUEBERRIES          8799\n",
      "5876        ORGANIC LEMON                8412\n",
      "49235       ORGANIC HALF & HALF          8389\n",
      "Name: reordered, dtype: int64\n"
     ]
    }
   ],
   "source": [
    "#ordenar, seleccionar top 20 e imprimir\n",
    "top_20_reordered = products_reordered.sort_values(ascending = False).head(20)\n",
    "print(top_20_reordered)\n"
   ]
  },
  {
   "cell_type": "code",
   "execution_count": 55,
   "id": "48dd3658",
   "metadata": {
    "id": "48dd3658"
   },
   "outputs": [
    {
     "data": {
      "image/png": "[encoded data removed]",
      "text/plain": [
       "<Figure size 640x480 with 1 Axes>"
      ]
     },
     "metadata": {},
     "output_type": "display_data"
    }
   ],
   "source": [
    "#graficar\n",
    "\n",
    "top_20_reordered.plot(kind = 'bar',\n",
    "                      xlabel = 'Producto',\n",
    "                      ylabel = 'Número de veces que se re ordenó'\n",
    "                     )\n",
    "plt.show()"
   ]
  },
  {
   "cell_type": "markdown",
   "id": "80e70c74",
   "metadata": {
    "id": "80e70c74"
   },
   "source": [
    "Los productos más populares se vuelven a pedir por lo menos 1000 veces, muchos de los productos más re ordenados coinciden con los productos más populares, ocupando en ambos casos los primeros 2 lugares los 2 tipos de bananas."
   ]
  },
  {
   "cell_type": "markdown",
   "id": "9d312b14",
   "metadata": {
    "id": "9d312b14"
   },
   "source": [
    "### [C3] Para cada producto, ¿cuál es la proporción de las veces que se pide y que se vuelve a pedir?"
   ]
  },
  {
   "cell_type": "code",
   "execution_count": 56,
   "id": "8ae9f4b1",
   "metadata": {
    "id": "8ae9f4b1",
    "scrolled": true
   },
   "outputs": [
    {
     "name": "stdout",
     "output_type": "stream",
     "text": [
      "<class 'pandas.core.frame.DataFrame'>\n",
      "Int64Index: 4545007 entries, 0 to 4545006\n",
      "Data columns (total 6 columns):\n",
      " #   Column             Non-Null Count    Dtype \n",
      "---  ------             --------------    ----- \n",
      " 0   product_id         4545007 non-null  int64 \n",
      " 1   product_name       4545007 non-null  object\n",
      " 2   reordered          4545007 non-null  int64 \n",
      " 3   order_id           4545007 non-null  int64 \n",
      " 4   add_to_cart_order  4545007 non-null  int64 \n",
      " 5   sale               4545007 non-null  int64 \n",
      "dtypes: int64(5), object(1)\n",
      "memory usage: 242.7+ MB\n",
      "\n",
      "   product_id                product_name  reordered  order_id  \\\n",
      "0           1  CHOCOLATE SANDWICH COOKIES        158   1104373   \n",
      "1           1  CHOCOLATE SANDWICH COOKIES        158   1774977   \n",
      "2           1  CHOCOLATE SANDWICH COOKIES        158    652770   \n",
      "3           1  CHOCOLATE SANDWICH COOKIES        158   1000035   \n",
      "4           1  CHOCOLATE SANDWICH COOKIES        158   1679949   \n",
      "5           1  CHOCOLATE SANDWICH COOKIES        158   3004237   \n",
      "6           1  CHOCOLATE SANDWICH COOKIES        158   2811336   \n",
      "7           1  CHOCOLATE SANDWICH COOKIES        158   2149117   \n",
      "8           1  CHOCOLATE SANDWICH COOKIES        158   1715986   \n",
      "9           1  CHOCOLATE SANDWICH COOKIES        158   1604797   \n",
      "\n",
      "   add_to_cart_order  sale  \n",
      "0                 11     1  \n",
      "1                  4     1  \n",
      "2                 10     0  \n",
      "3                  6     1  \n",
      "4                  9     0  \n",
      "5                  6     1  \n",
      "6                  1     1  \n",
      "7                  1     1  \n",
      "8                  6     0  \n",
      "9                  6     1  \n"
     ]
    }
   ],
   "source": [
    "#crear un df con los pedidos y el numero de reordenes\n",
    "\n",
    "\n",
    "products_reordered_df =products_reordered.reset_index()\n",
    "products_reordered_df.columns = ['product_id','product_name','reordered']\n",
    "\n",
    "reorder_index_df = pd.merge(products_reordered_df,order_products_df, on ='product_id')\n",
    "\n",
    "\n",
    "\n",
    "reorder_index_df.columns=['product_id','product_name','reordered','order_id','add_to_cart_order','sale']\n",
    "\n",
    "reorder_index_df.info(show_counts=True)\n",
    "print()\n",
    "print(reorder_index_df.head(10))"
   ]
  },
  {
   "cell_type": "markdown",
   "id": "fb599f88",
   "metadata": {},
   "source": [
    "\n",
    "<div class=\"alert alert-block alert-success\">\n",
    "<b>Comentario del revisor</b> <a class=\"tocSkip\"></a>\n",
    "\n",
    "Te felicito por el trabajo que realizaste a la hora de fusionar las tablas!</div>"
   ]
  },
  {
   "cell_type": "code",
   "execution_count": 57,
   "id": "103e7fe1",
   "metadata": {
    "id": "103e7fe1"
   },
   "outputs": [
    {
     "name": "stdout",
     "output_type": "stream",
     "text": [
      "product_name                          product_id  reordered\n",
      "Unknown                               39480       0                1\n",
      "BREADED CHICKEN BREAST CUTLETS        43007       1                1\n",
      "Unknown                               29961       0                1\n",
      "LIME SHRIMP FLAVOR RAMEN NOODLE SOUP  19721       1                1\n",
      "Unknown                               29895       0                1\n",
      "                                                               ...  \n",
      "ORGANIC HASS AVOCADO                  47209       23629        29773\n",
      "ORGANIC BABY SPINACH                  21903       26233        33971\n",
      "ORGANIC STRAWBERRIES                  21137       28639        37039\n",
      "BAG OF ORGANIC BANANAS                13176       44450        53297\n",
      "BANANA                                24852       55763        66050\n",
      "Name: sale, Length: 45573, dtype: int64\n",
      "<class 'pandas.core.frame.DataFrame'>\n",
      "RangeIndex: 45573 entries, 0 to 45572\n",
      "Data columns (total 4 columns):\n",
      " #   Column        Non-Null Count  Dtype \n",
      "---  ------        --------------  ----- \n",
      " 0   product_name  45573 non-null  object\n",
      " 1   product_id    45573 non-null  int64 \n",
      " 2   reordered     45573 non-null  int64 \n",
      " 3   sale          45573 non-null  int64 \n",
      "dtypes: int64(3), object(1)\n",
      "memory usage: 1.4+ MB\n",
      "                               product_name  product_id  reordered   sale\n",
      "0                                   Unknown       39480          0      1\n",
      "1            BREADED CHICKEN BREAST CUTLETS       43007          1      1\n",
      "2                                   Unknown       29961          0      1\n",
      "3      LIME SHRIMP FLAVOR RAMEN NOODLE SOUP       19721          1      1\n",
      "4                                   Unknown       29895          0      1\n",
      "...                                     ...         ...        ...    ...\n",
      "45568                  ORGANIC HASS AVOCADO       47209      23629  29773\n",
      "45569                  ORGANIC BABY SPINACH       21903      26233  33971\n",
      "45570                  ORGANIC STRAWBERRIES       21137      28639  37039\n",
      "45571                BAG OF ORGANIC BANANAS       13176      44450  53297\n",
      "45572                                BANANA       24852      55763  66050\n",
      "\n",
      "[45573 rows x 4 columns]\n"
     ]
    }
   ],
   "source": [
    "reorder_index_df_grouped = reorder_index_df.groupby(['product_name','product_id', 'reordered'])['sale'].count().sort_values()\n",
    "print(reorder_index_df_grouped)\n",
    "\n",
    "reorder_index_df_grouped =reorder_index_df_grouped.reset_index()\n",
    "reorder_index_df_grouped.columns = ['product_name','product_id','reordered','sale']\n",
    "\n",
    "reorder_index_df_grouped.info()\n",
    "print(reorder_index_df_grouped)\n"
   ]
  },
  {
   "cell_type": "code",
   "execution_count": 58,
   "id": "social-individual",
   "metadata": {
    "id": "social-individual"
   },
   "outputs": [
    {
     "data": {
      "image/png": "[encoded data removed]",
      "text/plain": [
       "<Figure size 640x480 with 1 Axes>"
      ]
     },
     "metadata": {},
     "output_type": "display_data"
    },
    {
     "name": "stdout",
     "output_type": "stream",
     "text": [
      "En promedio, se reordenan los productos con un índice de  0.38670677893645006\n"
     ]
    }
   ],
   "source": [
    "top_reordered_df = reorder_index_df_grouped.tail(30)\n",
    "\n",
    "top_reordered_df.plot(kind='bar',\n",
    "                      x= 'product_name',\n",
    "                     y= ['sale', 'reordered'])\n",
    "\n",
    "\n",
    "plt.show()\n",
    "\n",
    "\n",
    "reorder_avg_index = (reorder_index_df_grouped['reordered']/ reorder_index_df_grouped['sale']).mean()\n",
    "print('En promedio, se reordenan los productos con un índice de ',reorder_avg_index)"
   ]
  },
  {
   "cell_type": "markdown",
   "id": "I10dEIAyldcO",
   "metadata": {
    "id": "I10dEIAyldcO"
   },
   "source": [
    "En la gráfica se muestran 30 de los productos más vendidos, en azul sus ventas totales y en naranja las ventas que representan a los clientes que re-ordenaron a este producto. Esto se puede deber a que la gente tiende a volver a pedir los productos que les gustan y que ya probaron"
   ]
  },
  {
   "cell_type": "markdown",
   "id": "subject-boxing",
   "metadata": {
    "id": "subject-boxing"
   },
   "source": [
    "### [C4] Para cada cliente, ¿qué proporción de sus productos ya los había pedido?"
   ]
  },
  {
   "cell_type": "code",
   "execution_count": 82,
   "id": "medical-couple",
   "metadata": {
    "id": "medical-couple",
    "scrolled": true
   },
   "outputs": [
    {
     "name": "stdout",
     "output_type": "stream",
     "text": [
      "<class 'pandas.core.frame.DataFrame'>\n",
      "Int64Index: 4545007 entries, 0 to 4545006\n",
      "Data columns (total 11 columns):\n",
      " #   Column                  Non-Null Count    Dtype  \n",
      "---  ------                  --------------    -----  \n",
      " 0   order_id                4545007 non-null  int64  \n",
      " 1   user_id                 4545007 non-null  int64  \n",
      " 2   order_number            4545007 non-null  int64  \n",
      " 3   order_dow               4545007 non-null  int64  \n",
      " 4   order_hour_of_day       4545007 non-null  int64  \n",
      " 5   days_since_prior_order  4253079 non-null  float64\n",
      " 6   product_id              4545007 non-null  int64  \n",
      " 7   product_name            4545007 non-null  object \n",
      " 8   reordered               4545007 non-null  int64  \n",
      " 9   add_to_cart_order       4545007 non-null  int64  \n",
      " 10  sale                    4545007 non-null  int64  \n",
      "dtypes: float64(1), int64(9), object(1)\n",
      "memory usage: 416.1+ MB\n",
      "user_id\n",
      "2          26\n",
      "4           2\n",
      "5          12\n",
      "6           4\n",
      "7          14\n",
      "         ... \n",
      "206203     27\n",
      "206206     21\n",
      "206207     46\n",
      "206208    125\n",
      "206209     25\n",
      "Name: reordered, Length: 149626, dtype: int64\n",
      "En promedio, se reordenan los productos con un índice de  7.0275487841445585\n"
     ]
    }
   ],
   "source": [
    "#Para cada cliente, ¿qué proporción de los productos que pidió ya los había pedido? Calcula la tasa de repetición de pedido para cada usuario en lugar de para cada producto.\n",
    "#necesito: user_id para identificar al cliente y contar reordered por cliente\n",
    "#juntar instacart orders (tiene al user y al id de pedido) con orders products (tiene el id de pedido)\n",
    "reorder_by_user = pd.merge(instacart_orders_df, reorder_index_df, on = 'order_id')\n",
    "reorder_by_user.info(show_counts=True)\n",
    "\n",
    "#agrupar por user, contar las ordenes y contar reordered\n",
    "orders_per_user = reorder_by_user.groupby(['user_id'])['reordered'].count()\n",
    "\n",
    "print(orders_per_user)\n",
    "\n",
    "#dividir ordenes/ reordered\n",
    "reorder_per_user_avg_index = (orders_per_user/ reorder_index_df_grouped['sale']).mean()\n",
    "\n",
    "print('En promedio, se reordenan los productos con un índice de ',reorder_per_user_avg_index)\n",
    "\n"
   ]
  },
  {
   "cell_type": "code",
   "execution_count": null,
   "id": "8892e4b4",
   "metadata": {
    "id": "8892e4b4"
   },
   "outputs": [],
   "source": []
  },
  {
   "cell_type": "markdown",
   "id": "BgJSvXDsleXz",
   "metadata": {
    "id": "BgJSvXDsleXz"
   },
   "source": [
    "En promedio los usuarios vuelven a ordenar 7 veces los productos que ya han pedido, nos puede indicar nuevamente que son sus productos de confianza y por eso eligen re- ordenarlos."
   ]
  },
  {
   "cell_type": "markdown",
   "id": "4350a951",
   "metadata": {},
   "source": [
    "<div class=\"alert alert-block alert-success\">\n",
    "<b>Comentario del revisor</b> <a class=\"tocSkip\"></a>\n",
    "\n",
    "Gran trabajo utilizando métricas tan complejas como lo son las proporciones. Bien hecho!</div>"
   ]
  },
  {
   "cell_type": "markdown",
   "id": "92d35137",
   "metadata": {
    "id": "92d35137"
   },
   "source": [
    "### [C5] ¿Cuáles son los 20 principales artículos que las personas ponen primero en sus carritos?"
   ]
  },
  {
   "cell_type": "code",
   "execution_count": 98,
   "id": "0ae57274",
   "metadata": {
    "id": "0ae57274",
    "scrolled": true
   },
   "outputs": [
    {
     "data": {
      "text/plain": [
       "product_name                                                 product_id\n",
       "Unknown                                                      39480         1\n",
       "BREADED CHICKEN BREAST CUTLETS                               43007         1\n",
       "Unknown                                                      29961         1\n",
       "LIME SHRIMP FLAVOR RAMEN NOODLE SOUP                         19721         1\n",
       "Unknown                                                      29895         1\n",
       "LIME-A-RITA MARGARITA WITH A TWIST                           48003         1\n",
       "Unknown                                                      29771         1\n",
       "LIMITED EDITION                                              17470         1\n",
       "LIMITED EDITION ICE CREAM                                    10454         1\n",
       "LINDOR HOLIDAY MIX                                           15580         1\n",
       "LIL BITS BANANA STRAWBERRY OATMEAL                           25984         1\n",
       "LINE EXPRESS™ EYELINER - SOFT BLACK 902                      5662          1\n",
       "LINT ROLLER REFILL                                           41822         1\n",
       "LIP BALM SUPERFRUIT BLISTER BOX                              48115         1\n",
       "LIP BALM- ORGANIC- LEMON LIME                                16458         1\n",
       "LIP RESCUE WITH ECO - HARVEST TEA TREE OIL                   4631          1\n",
       "LIP SHIMMER - FIG                                            41231         1\n",
       "Unknown                                                      29355         1\n",
       "LIQUID BLEACH                                                21364         1\n",
       "LIQUID CALCIUM MAGNESIUM CITRATE PLUS VITAMIN D3 STRAWBERRY  9023          1\n",
       "Name: add_to_cart_order, dtype: int64"
      ]
     },
     "execution_count": 98,
     "metadata": {},
     "output_type": "execute_result"
    }
   ],
   "source": [
    "#5. ¿Cuáles son los 20 principales artículos que la gente pone primero en\n",
    "#sus carritos (muestra las IDs de los productos,sus nombres, y el número de veces en que fueron el primer \n",
    "#artículo en añadirse al carrito)?\n",
    "\n",
    "reorder_by_user.groupby(['product_name' , 'product_id',])['add_to_cart_order'].count().sort_values().head(20)\n"
   ]
  },
  {
   "cell_type": "code",
   "execution_count": null,
   "id": "forty-netherlands",
   "metadata": {
    "id": "forty-netherlands",
    "scrolled": true
   },
   "outputs": [],
   "source": []
  },
  {
   "cell_type": "code",
   "execution_count": null,
   "id": "08e41ec2",
   "metadata": {
    "id": "08e41ec2"
   },
   "outputs": [],
   "source": []
  },
  {
   "cell_type": "markdown",
   "id": "28ce9872",
   "metadata": {
    "id": "28ce9872"
   },
   "source": [
    "Arriba se muestran los nombres de los productos que se añaden al carrito como el producto #1"
   ]
  },
  {
   "cell_type": "markdown",
   "id": "uITbFCEoDosC",
   "metadata": {
    "id": "uITbFCEoDosC"
   },
   "source": [
    "### Conclusion general del proyecto:"
   ]
  },
  {
   "cell_type": "markdown",
   "id": "69238ef3",
   "metadata": {
    "id": "Nk-4GS7mDwqY"
   },
   "source": [
    "A partir de todos los datos en las distintos dataframes, podemos conocer mucho sobre el comportamiento de los clientes y sus hábitos de compra. Por ejemplo, sabemos que tienden a hacer sus compras en domingo o lunes, y que compran más los fines de semana que entre semana. Tambbién sabemos que hay un voumen más grande de compras al medio día, y que éste volumen también varía según el fin de semana. En cuanto a qué productos perfieren los clientes, sabemos que prefierern productos orgánicos y que lo que más compran son productos perecederos como frutas, verduras y lácteos. Vemos una tendencia de que los clientes que ya pidieron um producto, tienen más probabilidad "
   ]
  },
  {
   "cell_type": "markdown",
   "id": "6457b2cd",
   "metadata": {},
   "source": [
    "<div class=\"alert alert-block alert-success\">\n",
    "<b>Comentario del revisor</b> <a class=\"tocSkip\"></a>\n",
    "\n",
    "Felicitaciones por el excelente trabajo que hiciste durante todo el sprint!</div>\n",
    "\n"
   ]
  }
 ],
 "metadata": {
  "ExecuteTimeLog": [
   {
    "duration": 2196,
    "start_time": "2024-09-11T23:01:26.335Z"
   },
   {
    "duration": 289,
    "start_time": "2024-09-11T23:01:28.533Z"
   },
   {
    "duration": 268,
    "start_time": "2024-09-11T23:02:45.485Z"
   },
   {
    "duration": 125,
    "start_time": "2024-09-11T23:03:27.331Z"
   },
   {
    "duration": 10,
    "start_time": "2024-09-11T23:04:11.757Z"
   },
   {
    "duration": 157,
    "start_time": "2024-09-11T23:04:55.253Z"
   },
   {
    "duration": 9,
    "start_time": "2024-09-11T23:05:10.204Z"
   },
   {
    "duration": 135,
    "start_time": "2024-09-11T23:05:22.253Z"
   },
   {
    "duration": 10,
    "start_time": "2024-09-11T23:05:22.764Z"
   },
   {
    "duration": 10,
    "start_time": "2024-09-11T23:05:23.496Z"
   },
   {
    "duration": 2,
    "start_time": "2024-09-11T23:07:48.678Z"
   },
   {
    "duration": 2201,
    "start_time": "2024-09-11T23:07:49.199Z"
   },
   {
    "duration": 11,
    "start_time": "2024-09-11T23:07:51.402Z"
   },
   {
    "duration": 11,
    "start_time": "2024-09-11T23:07:52.446Z"
   },
   {
    "duration": 8,
    "start_time": "2024-09-11T23:07:53.341Z"
   },
   {
    "duration": 8,
    "start_time": "2024-09-11T23:07:54.168Z"
   },
   {
    "duration": 7,
    "start_time": "2024-09-11T23:07:54.905Z"
   },
   {
    "duration": 875,
    "start_time": "2024-09-11T23:08:20.833Z"
   },
   {
    "duration": 11,
    "start_time": "2024-09-11T23:08:21.710Z"
   },
   {
    "duration": 10,
    "start_time": "2024-09-11T23:08:22.438Z"
   },
   {
    "duration": 8,
    "start_time": "2024-09-11T23:08:23.154Z"
   },
   {
    "duration": 9,
    "start_time": "2024-09-11T23:08:23.799Z"
   },
   {
    "duration": 8,
    "start_time": "2024-09-11T23:08:25.360Z"
   },
   {
    "duration": 21,
    "start_time": "2024-09-11T23:10:21.962Z"
   },
   {
    "duration": 430,
    "start_time": "2024-09-11T23:33:58.125Z"
   },
   {
    "duration": 913,
    "start_time": "2024-09-11T23:33:58.782Z"
   },
   {
    "duration": 10,
    "start_time": "2024-09-11T23:34:00.346Z"
   },
   {
    "duration": 10,
    "start_time": "2024-09-11T23:34:02.718Z"
   },
   {
    "duration": 9,
    "start_time": "2024-09-11T23:34:03.305Z"
   },
   {
    "duration": 8,
    "start_time": "2024-09-11T23:34:04.228Z"
   },
   {
    "duration": 25,
    "start_time": "2024-09-11T23:34:05.064Z"
   },
   {
    "duration": 86,
    "start_time": "2024-09-11T23:35:44.041Z"
   },
   {
    "duration": 161,
    "start_time": "2024-09-11T23:36:08.929Z"
   },
   {
    "duration": 82,
    "start_time": "2024-09-11T23:36:32.223Z"
   },
   {
    "duration": 270,
    "start_time": "2024-09-11T23:39:48.950Z"
   },
   {
    "duration": 164,
    "start_time": "2024-09-11T23:40:07.243Z"
   },
   {
    "duration": 95,
    "start_time": "2024-09-11T23:40:17.105Z"
   },
   {
    "duration": 88,
    "start_time": "2024-09-11T23:40:26.298Z"
   },
   {
    "duration": 2176,
    "start_time": "2024-09-12T22:33:33.236Z"
   },
   {
    "duration": 1011,
    "start_time": "2024-09-12T22:33:35.414Z"
   },
   {
    "duration": 11,
    "start_time": "2024-09-12T22:33:36.427Z"
   },
   {
    "duration": 10,
    "start_time": "2024-09-12T22:33:36.440Z"
   },
   {
    "duration": 7,
    "start_time": "2024-09-12T22:33:36.451Z"
   },
   {
    "duration": 8,
    "start_time": "2024-09-12T22:33:38.504Z"
   },
   {
    "duration": 22,
    "start_time": "2024-09-12T22:33:39.613Z"
   },
   {
    "duration": 87,
    "start_time": "2024-09-12T22:33:43.319Z"
   },
   {
    "duration": 160,
    "start_time": "2024-09-12T22:35:49.464Z"
   },
   {
    "duration": 162,
    "start_time": "2024-09-12T22:36:51.711Z"
   },
   {
    "duration": 158,
    "start_time": "2024-09-12T22:37:07.645Z"
   },
   {
    "duration": 11,
    "start_time": "2024-09-12T22:39:31.656Z"
   },
   {
    "duration": 99,
    "start_time": "2024-09-12T22:40:04.782Z"
   },
   {
    "duration": 2,
    "start_time": "2024-09-12T22:40:29.954Z"
   },
   {
    "duration": 7,
    "start_time": "2024-09-12T22:44:59.661Z"
   },
   {
    "duration": 4,
    "start_time": "2024-09-12T22:45:08.423Z"
   },
   {
    "duration": 139,
    "start_time": "2024-09-12T22:45:22.145Z"
   },
   {
    "duration": 4,
    "start_time": "2024-09-12T22:46:22.533Z"
   },
   {
    "duration": 3,
    "start_time": "2024-09-12T22:46:33.163Z"
   },
   {
    "duration": 2,
    "start_time": "2024-09-12T22:46:44.611Z"
   },
   {
    "duration": 10,
    "start_time": "2024-09-12T22:49:25.489Z"
   },
   {
    "duration": 4,
    "start_time": "2024-09-12T22:50:57.941Z"
   },
   {
    "duration": 4,
    "start_time": "2024-09-12T22:51:09.378Z"
   },
   {
    "duration": 4,
    "start_time": "2024-09-12T22:51:14.516Z"
   },
   {
    "duration": 4,
    "start_time": "2024-09-12T22:51:53.463Z"
   },
   {
    "duration": 12,
    "start_time": "2024-09-12T22:52:47.128Z"
   },
   {
    "duration": 11,
    "start_time": "2024-09-12T22:53:12.624Z"
   },
   {
    "duration": 403,
    "start_time": "2024-09-12T22:53:18.991Z"
   },
   {
    "duration": 932,
    "start_time": "2024-09-12T22:53:19.395Z"
   },
   {
    "duration": 12,
    "start_time": "2024-09-12T22:53:20.329Z"
   },
   {
    "duration": 10,
    "start_time": "2024-09-12T22:53:20.343Z"
   },
   {
    "duration": 7,
    "start_time": "2024-09-12T22:53:20.355Z"
   },
   {
    "duration": 8,
    "start_time": "2024-09-12T22:53:20.364Z"
   },
   {
    "duration": 50,
    "start_time": "2024-09-12T22:53:20.374Z"
   },
   {
    "duration": 174,
    "start_time": "2024-09-12T22:53:20.426Z"
   },
   {
    "duration": 100,
    "start_time": "2024-09-12T22:53:20.602Z"
   },
   {
    "duration": 0,
    "start_time": "2024-09-12T22:53:20.712Z"
   },
   {
    "duration": 0,
    "start_time": "2024-09-12T22:53:20.713Z"
   },
   {
    "duration": 0,
    "start_time": "2024-09-12T22:53:20.714Z"
   },
   {
    "duration": 0,
    "start_time": "2024-09-12T22:53:20.715Z"
   },
   {
    "duration": 0,
    "start_time": "2024-09-12T22:53:20.716Z"
   },
   {
    "duration": 0,
    "start_time": "2024-09-12T22:53:20.717Z"
   },
   {
    "duration": 0,
    "start_time": "2024-09-12T22:53:20.718Z"
   },
   {
    "duration": 0,
    "start_time": "2024-09-12T22:53:20.719Z"
   },
   {
    "duration": 0,
    "start_time": "2024-09-12T22:53:20.720Z"
   },
   {
    "duration": 0,
    "start_time": "2024-09-12T22:53:20.721Z"
   },
   {
    "duration": 0,
    "start_time": "2024-09-12T22:53:20.723Z"
   },
   {
    "duration": 0,
    "start_time": "2024-09-12T22:53:20.725Z"
   },
   {
    "duration": 0,
    "start_time": "2024-09-12T22:53:20.726Z"
   },
   {
    "duration": 0,
    "start_time": "2024-09-12T22:53:20.727Z"
   },
   {
    "duration": 0,
    "start_time": "2024-09-12T22:53:20.729Z"
   },
   {
    "duration": 0,
    "start_time": "2024-09-12T22:53:20.730Z"
   },
   {
    "duration": 0,
    "start_time": "2024-09-12T22:53:20.732Z"
   },
   {
    "duration": 0,
    "start_time": "2024-09-12T22:53:20.733Z"
   },
   {
    "duration": 0,
    "start_time": "2024-09-12T22:53:20.734Z"
   },
   {
    "duration": 0,
    "start_time": "2024-09-12T22:53:20.735Z"
   },
   {
    "duration": 0,
    "start_time": "2024-09-12T22:53:20.736Z"
   },
   {
    "duration": 0,
    "start_time": "2024-09-12T22:53:20.737Z"
   },
   {
    "duration": 0,
    "start_time": "2024-09-12T22:53:20.738Z"
   },
   {
    "duration": 0,
    "start_time": "2024-09-12T22:53:20.741Z"
   },
   {
    "duration": 0,
    "start_time": "2024-09-12T22:53:20.742Z"
   },
   {
    "duration": 7,
    "start_time": "2024-09-12T23:00:17.567Z"
   },
   {
    "duration": 391,
    "start_time": "2024-09-12T23:01:04.287Z"
   },
   {
    "duration": 900,
    "start_time": "2024-09-12T23:01:04.944Z"
   },
   {
    "duration": 12,
    "start_time": "2024-09-12T23:01:06.560Z"
   },
   {
    "duration": 10,
    "start_time": "2024-09-12T23:01:07.825Z"
   },
   {
    "duration": 9,
    "start_time": "2024-09-12T23:01:09.552Z"
   },
   {
    "duration": 9,
    "start_time": "2024-09-12T23:01:10.630Z"
   },
   {
    "duration": 24,
    "start_time": "2024-09-12T23:01:11.305Z"
   },
   {
    "duration": 166,
    "start_time": "2024-09-12T23:01:15.171Z"
   },
   {
    "duration": 8,
    "start_time": "2024-09-12T23:01:19.234Z"
   },
   {
    "duration": 100,
    "start_time": "2024-09-12T23:03:28.254Z"
   },
   {
    "duration": 86,
    "start_time": "2024-09-12T23:03:51.605Z"
   },
   {
    "duration": 100,
    "start_time": "2024-09-12T23:03:56.422Z"
   },
   {
    "duration": 93,
    "start_time": "2024-09-12T23:03:57.511Z"
   },
   {
    "duration": 50,
    "start_time": "2024-09-12T23:05:49.878Z"
   },
   {
    "duration": 49,
    "start_time": "2024-09-12T23:05:59.760Z"
   },
   {
    "duration": 2238,
    "start_time": "2024-09-13T17:05:56.506Z"
   },
   {
    "duration": 1043,
    "start_time": "2024-09-13T17:05:58.746Z"
   },
   {
    "duration": 12,
    "start_time": "2024-09-13T17:06:01.081Z"
   },
   {
    "duration": 11,
    "start_time": "2024-09-13T17:06:02.113Z"
   },
   {
    "duration": 9,
    "start_time": "2024-09-13T17:06:02.948Z"
   },
   {
    "duration": 9,
    "start_time": "2024-09-13T17:06:03.714Z"
   },
   {
    "duration": 24,
    "start_time": "2024-09-13T17:06:04.689Z"
   },
   {
    "duration": 171,
    "start_time": "2024-09-13T17:06:07.714Z"
   },
   {
    "duration": 8,
    "start_time": "2024-09-13T17:06:12.844Z"
   },
   {
    "duration": 423,
    "start_time": "2024-09-13T17:09:17.302Z"
   },
   {
    "duration": 918,
    "start_time": "2024-09-13T17:09:17.727Z"
   },
   {
    "duration": 12,
    "start_time": "2024-09-13T17:09:18.647Z"
   },
   {
    "duration": 10,
    "start_time": "2024-09-13T17:09:19.653Z"
   },
   {
    "duration": 9,
    "start_time": "2024-09-13T17:09:21.397Z"
   },
   {
    "duration": 8,
    "start_time": "2024-09-13T17:09:22.463Z"
   },
   {
    "duration": 28,
    "start_time": "2024-09-13T17:09:23.322Z"
   },
   {
    "duration": 171,
    "start_time": "2024-09-13T17:09:29.087Z"
   },
   {
    "duration": 13,
    "start_time": "2024-09-13T17:10:07.995Z"
   },
   {
    "duration": 108,
    "start_time": "2024-09-13T17:10:39.266Z"
   },
   {
    "duration": 91,
    "start_time": "2024-09-13T17:10:40.555Z"
   },
   {
    "duration": 54,
    "start_time": "2024-09-13T17:10:48.136Z"
   },
   {
    "duration": 42,
    "start_time": "2024-09-13T17:11:02.784Z"
   },
   {
    "duration": 50,
    "start_time": "2024-09-13T17:11:32.666Z"
   },
   {
    "duration": 21,
    "start_time": "2024-09-13T17:17:10.710Z"
   },
   {
    "duration": 6,
    "start_time": "2024-09-13T17:17:56.845Z"
   },
   {
    "duration": 6,
    "start_time": "2024-09-13T17:18:15.411Z"
   },
   {
    "duration": 21,
    "start_time": "2024-09-13T17:19:38.861Z"
   },
   {
    "duration": 166,
    "start_time": "2024-09-13T17:20:37.843Z"
   },
   {
    "duration": 13,
    "start_time": "2024-09-13T17:20:53.209Z"
   },
   {
    "duration": 160,
    "start_time": "2024-09-13T17:21:02.271Z"
   },
   {
    "duration": 2,
    "start_time": "2024-09-13T17:21:02.532Z"
   },
   {
    "duration": 482,
    "start_time": "2024-09-13T17:21:08.546Z"
   },
   {
    "duration": 437,
    "start_time": "2024-09-13T17:21:19.360Z"
   },
   {
    "duration": 920,
    "start_time": "2024-09-13T17:21:19.803Z"
   },
   {
    "duration": 11,
    "start_time": "2024-09-13T17:21:20.725Z"
   },
   {
    "duration": 9,
    "start_time": "2024-09-13T17:21:20.737Z"
   },
   {
    "duration": 7,
    "start_time": "2024-09-13T17:21:20.749Z"
   },
   {
    "duration": 7,
    "start_time": "2024-09-13T17:21:20.758Z"
   },
   {
    "duration": 57,
    "start_time": "2024-09-13T17:21:20.767Z"
   },
   {
    "duration": 196,
    "start_time": "2024-09-13T17:21:20.825Z"
   },
   {
    "duration": 8,
    "start_time": "2024-09-13T17:21:21.022Z"
   },
   {
    "duration": 109,
    "start_time": "2024-09-13T17:21:21.032Z"
   },
   {
    "duration": 92,
    "start_time": "2024-09-13T17:21:21.142Z"
   },
   {
    "duration": 54,
    "start_time": "2024-09-13T17:21:21.236Z"
   },
   {
    "duration": 31,
    "start_time": "2024-09-13T17:21:21.292Z"
   },
   {
    "duration": 4,
    "start_time": "2024-09-13T17:21:21.326Z"
   },
   {
    "duration": 25,
    "start_time": "2024-09-13T17:21:21.332Z"
   },
   {
    "duration": 4,
    "start_time": "2024-09-13T17:21:21.358Z"
   },
   {
    "duration": 4,
    "start_time": "2024-09-13T17:21:21.364Z"
   },
   {
    "duration": 2,
    "start_time": "2024-09-13T17:21:21.371Z"
   },
   {
    "duration": 35,
    "start_time": "2024-09-13T17:21:21.375Z"
   },
   {
    "duration": 2,
    "start_time": "2024-09-13T17:21:21.412Z"
   },
   {
    "duration": 3,
    "start_time": "2024-09-13T17:21:21.416Z"
   },
   {
    "duration": 3,
    "start_time": "2024-09-13T17:21:21.421Z"
   },
   {
    "duration": 3,
    "start_time": "2024-09-13T17:21:21.426Z"
   },
   {
    "duration": 3,
    "start_time": "2024-09-13T17:21:21.431Z"
   },
   {
    "duration": 3,
    "start_time": "2024-09-13T17:21:21.435Z"
   },
   {
    "duration": 2,
    "start_time": "2024-09-13T17:21:21.440Z"
   },
   {
    "duration": 2,
    "start_time": "2024-09-13T17:21:21.444Z"
   },
   {
    "duration": 3,
    "start_time": "2024-09-13T17:21:21.448Z"
   },
   {
    "duration": 3,
    "start_time": "2024-09-13T17:21:21.452Z"
   },
   {
    "duration": 3,
    "start_time": "2024-09-13T17:21:21.456Z"
   },
   {
    "duration": 3,
    "start_time": "2024-09-13T17:21:21.460Z"
   },
   {
    "duration": 3,
    "start_time": "2024-09-13T17:21:21.509Z"
   },
   {
    "duration": 2,
    "start_time": "2024-09-13T17:21:21.514Z"
   },
   {
    "duration": 3,
    "start_time": "2024-09-13T17:21:21.518Z"
   },
   {
    "duration": 245,
    "start_time": "2024-09-13T17:21:50.107Z"
   },
   {
    "duration": 27,
    "start_time": "2024-09-13T17:22:06.322Z"
   },
   {
    "duration": 148,
    "start_time": "2024-09-13T17:22:35.728Z"
   },
   {
    "duration": 418,
    "start_time": "2024-09-13T17:22:46.375Z"
   },
   {
    "duration": 971,
    "start_time": "2024-09-13T17:22:46.795Z"
   },
   {
    "duration": 12,
    "start_time": "2024-09-13T17:22:47.768Z"
   },
   {
    "duration": 10,
    "start_time": "2024-09-13T17:22:47.783Z"
   },
   {
    "duration": 9,
    "start_time": "2024-09-13T17:22:47.809Z"
   },
   {
    "duration": 8,
    "start_time": "2024-09-13T17:22:47.820Z"
   },
   {
    "duration": 22,
    "start_time": "2024-09-13T17:22:47.830Z"
   },
   {
    "duration": 219,
    "start_time": "2024-09-13T17:22:47.854Z"
   },
   {
    "duration": 8,
    "start_time": "2024-09-13T17:22:48.075Z"
   },
   {
    "duration": 112,
    "start_time": "2024-09-13T17:22:48.086Z"
   },
   {
    "duration": 93,
    "start_time": "2024-09-13T17:22:48.200Z"
   },
   {
    "duration": 68,
    "start_time": "2024-09-13T17:22:48.295Z"
   },
   {
    "duration": 23,
    "start_time": "2024-09-13T17:22:48.365Z"
   },
   {
    "duration": 20,
    "start_time": "2024-09-13T17:22:48.389Z"
   },
   {
    "duration": 16,
    "start_time": "2024-09-13T17:22:48.410Z"
   },
   {
    "duration": 2,
    "start_time": "2024-09-13T17:22:48.427Z"
   },
   {
    "duration": 3,
    "start_time": "2024-09-13T17:22:48.431Z"
   },
   {
    "duration": 3,
    "start_time": "2024-09-13T17:22:48.435Z"
   },
   {
    "duration": 2,
    "start_time": "2024-09-13T17:22:48.440Z"
   },
   {
    "duration": 3,
    "start_time": "2024-09-13T17:22:48.444Z"
   },
   {
    "duration": 2,
    "start_time": "2024-09-13T17:22:48.449Z"
   },
   {
    "duration": 3,
    "start_time": "2024-09-13T17:22:48.453Z"
   },
   {
    "duration": 2,
    "start_time": "2024-09-13T17:22:48.458Z"
   },
   {
    "duration": 3,
    "start_time": "2024-09-13T17:22:48.462Z"
   },
   {
    "duration": 44,
    "start_time": "2024-09-13T17:22:48.466Z"
   },
   {
    "duration": 2,
    "start_time": "2024-09-13T17:22:48.512Z"
   },
   {
    "duration": 2,
    "start_time": "2024-09-13T17:22:48.516Z"
   },
   {
    "duration": 2,
    "start_time": "2024-09-13T17:22:48.523Z"
   },
   {
    "duration": 3,
    "start_time": "2024-09-13T17:22:48.526Z"
   },
   {
    "duration": 2,
    "start_time": "2024-09-13T17:22:48.531Z"
   },
   {
    "duration": 3,
    "start_time": "2024-09-13T17:22:48.535Z"
   },
   {
    "duration": 3,
    "start_time": "2024-09-13T17:22:48.539Z"
   },
   {
    "duration": 2,
    "start_time": "2024-09-13T17:22:48.544Z"
   },
   {
    "duration": 4,
    "start_time": "2024-09-13T17:22:48.547Z"
   },
   {
    "duration": 318,
    "start_time": "2024-09-13T17:24:16.691Z"
   },
   {
    "duration": 163,
    "start_time": "2024-09-13T17:24:27.864Z"
   },
   {
    "duration": 414,
    "start_time": "2024-09-13T17:24:38.985Z"
   },
   {
    "duration": 927,
    "start_time": "2024-09-13T17:24:39.504Z"
   },
   {
    "duration": 12,
    "start_time": "2024-09-13T17:24:40.433Z"
   },
   {
    "duration": 10,
    "start_time": "2024-09-13T17:24:44.589Z"
   },
   {
    "duration": 8,
    "start_time": "2024-09-13T17:24:45.494Z"
   },
   {
    "duration": 8,
    "start_time": "2024-09-13T17:24:46.127Z"
   },
   {
    "duration": 23,
    "start_time": "2024-09-13T17:24:46.761Z"
   },
   {
    "duration": 179,
    "start_time": "2024-09-13T17:24:49.735Z"
   },
   {
    "duration": 9,
    "start_time": "2024-09-13T17:24:51.603Z"
   },
   {
    "duration": 94,
    "start_time": "2024-09-13T17:24:53.478Z"
   },
   {
    "duration": 93,
    "start_time": "2024-09-13T17:24:54.701Z"
   },
   {
    "duration": 57,
    "start_time": "2024-09-13T17:24:55.634Z"
   },
   {
    "duration": 22,
    "start_time": "2024-09-13T17:25:04.063Z"
   },
   {
    "duration": 5,
    "start_time": "2024-09-13T17:25:05.630Z"
   },
   {
    "duration": 22,
    "start_time": "2024-09-13T17:25:10.065Z"
   },
   {
    "duration": 3,
    "start_time": "2024-09-13T17:25:10.465Z"
   },
   {
    "duration": 26,
    "start_time": "2024-09-13T17:25:45.796Z"
   },
   {
    "duration": 32,
    "start_time": "2024-09-13T17:27:40.724Z"
   },
   {
    "duration": 50,
    "start_time": "2024-09-13T17:28:17.158Z"
   },
   {
    "duration": 206,
    "start_time": "2024-09-13T17:29:48.125Z"
   },
   {
    "duration": 33,
    "start_time": "2024-09-13T17:29:55.769Z"
   },
   {
    "duration": 30,
    "start_time": "2024-09-13T17:30:29.507Z"
   },
   {
    "duration": 31,
    "start_time": "2024-09-13T17:31:01.797Z"
   },
   {
    "duration": 30,
    "start_time": "2024-09-13T17:31:28.394Z"
   },
   {
    "duration": 31,
    "start_time": "2024-09-13T17:31:40.929Z"
   },
   {
    "duration": 33,
    "start_time": "2024-09-13T17:36:37.250Z"
   },
   {
    "duration": 28,
    "start_time": "2024-09-13T17:37:35.001Z"
   },
   {
    "duration": 164,
    "start_time": "2024-09-13T17:38:04.356Z"
   },
   {
    "duration": 429,
    "start_time": "2024-09-13T17:38:24.784Z"
   },
   {
    "duration": 924,
    "start_time": "2024-09-13T17:38:25.215Z"
   },
   {
    "duration": 13,
    "start_time": "2024-09-13T17:38:26.141Z"
   },
   {
    "duration": 9,
    "start_time": "2024-09-13T17:38:26.157Z"
   },
   {
    "duration": 8,
    "start_time": "2024-09-13T17:38:26.168Z"
   },
   {
    "duration": 30,
    "start_time": "2024-09-13T17:38:26.178Z"
   },
   {
    "duration": 24,
    "start_time": "2024-09-13T17:38:26.210Z"
   },
   {
    "duration": 197,
    "start_time": "2024-09-13T17:38:26.236Z"
   },
   {
    "duration": 7,
    "start_time": "2024-09-13T17:38:26.436Z"
   },
   {
    "duration": 115,
    "start_time": "2024-09-13T17:38:26.447Z"
   },
   {
    "duration": 95,
    "start_time": "2024-09-13T17:38:26.563Z"
   },
   {
    "duration": 71,
    "start_time": "2024-09-13T17:38:26.661Z"
   },
   {
    "duration": 26,
    "start_time": "2024-09-13T17:38:26.734Z"
   },
   {
    "duration": 5,
    "start_time": "2024-09-13T17:38:26.762Z"
   },
   {
    "duration": 45,
    "start_time": "2024-09-13T17:38:26.770Z"
   },
   {
    "duration": 3,
    "start_time": "2024-09-13T17:38:26.817Z"
   },
   {
    "duration": 3,
    "start_time": "2024-09-13T17:38:26.821Z"
   },
   {
    "duration": 2,
    "start_time": "2024-09-13T17:38:26.826Z"
   },
   {
    "duration": 3,
    "start_time": "2024-09-13T17:38:26.830Z"
   },
   {
    "duration": 3,
    "start_time": "2024-09-13T17:38:26.834Z"
   },
   {
    "duration": 2,
    "start_time": "2024-09-13T17:38:26.840Z"
   },
   {
    "duration": 2,
    "start_time": "2024-09-13T17:38:26.844Z"
   },
   {
    "duration": 2,
    "start_time": "2024-09-13T17:38:26.848Z"
   },
   {
    "duration": 2,
    "start_time": "2024-09-13T17:38:26.852Z"
   },
   {
    "duration": 3,
    "start_time": "2024-09-13T17:38:26.856Z"
   },
   {
    "duration": 3,
    "start_time": "2024-09-13T17:38:26.860Z"
   },
   {
    "duration": 3,
    "start_time": "2024-09-13T17:38:26.909Z"
   },
   {
    "duration": 2,
    "start_time": "2024-09-13T17:38:26.916Z"
   },
   {
    "duration": 3,
    "start_time": "2024-09-13T17:38:26.919Z"
   },
   {
    "duration": 3,
    "start_time": "2024-09-13T17:38:26.924Z"
   },
   {
    "duration": 3,
    "start_time": "2024-09-13T17:38:26.928Z"
   },
   {
    "duration": 3,
    "start_time": "2024-09-13T17:38:26.933Z"
   },
   {
    "duration": 3,
    "start_time": "2024-09-13T17:38:26.937Z"
   },
   {
    "duration": 4,
    "start_time": "2024-09-13T17:38:26.941Z"
   },
   {
    "duration": 15,
    "start_time": "2024-09-13T17:40:02.190Z"
   },
   {
    "duration": 189,
    "start_time": "2024-09-13T17:43:19.077Z"
   },
   {
    "duration": 5,
    "start_time": "2024-09-13T17:43:35.116Z"
   },
   {
    "duration": 36,
    "start_time": "2024-09-13T17:44:31.113Z"
   },
   {
    "duration": 41,
    "start_time": "2024-09-13T17:45:09.639Z"
   },
   {
    "duration": 33,
    "start_time": "2024-09-13T17:53:07.545Z"
   },
   {
    "duration": 31,
    "start_time": "2024-09-13T17:57:01.868Z"
   },
   {
    "duration": 14,
    "start_time": "2024-09-13T18:01:45.653Z"
   },
   {
    "duration": 20,
    "start_time": "2024-09-13T18:02:00.598Z"
   },
   {
    "duration": 455,
    "start_time": "2024-09-13T18:02:27.314Z"
   },
   {
    "duration": 908,
    "start_time": "2024-09-13T18:02:27.772Z"
   },
   {
    "duration": 11,
    "start_time": "2024-09-13T18:02:28.682Z"
   },
   {
    "duration": 14,
    "start_time": "2024-09-13T18:02:28.695Z"
   },
   {
    "duration": 7,
    "start_time": "2024-09-13T18:02:28.712Z"
   },
   {
    "duration": 7,
    "start_time": "2024-09-13T18:02:28.721Z"
   },
   {
    "duration": 32,
    "start_time": "2024-09-13T18:02:28.731Z"
   },
   {
    "duration": 205,
    "start_time": "2024-09-13T18:02:28.767Z"
   },
   {
    "duration": 7,
    "start_time": "2024-09-13T18:02:28.974Z"
   },
   {
    "duration": 110,
    "start_time": "2024-09-13T18:02:28.982Z"
   },
   {
    "duration": 90,
    "start_time": "2024-09-13T18:02:29.094Z"
   },
   {
    "duration": 64,
    "start_time": "2024-09-13T18:02:29.186Z"
   },
   {
    "duration": 27,
    "start_time": "2024-09-13T18:02:29.252Z"
   },
   {
    "duration": 4,
    "start_time": "2024-09-13T18:02:29.283Z"
   },
   {
    "duration": 44,
    "start_time": "2024-09-13T18:02:29.289Z"
   },
   {
    "duration": 17,
    "start_time": "2024-09-13T18:02:29.335Z"
   },
   {
    "duration": 4,
    "start_time": "2024-09-13T18:02:29.354Z"
   },
   {
    "duration": 3,
    "start_time": "2024-09-13T18:02:29.359Z"
   },
   {
    "duration": 5,
    "start_time": "2024-09-13T18:02:29.363Z"
   },
   {
    "duration": 3,
    "start_time": "2024-09-13T18:02:29.370Z"
   },
   {
    "duration": 3,
    "start_time": "2024-09-13T18:02:29.375Z"
   },
   {
    "duration": 2,
    "start_time": "2024-09-13T18:02:29.410Z"
   },
   {
    "duration": 3,
    "start_time": "2024-09-13T18:02:29.414Z"
   },
   {
    "duration": 3,
    "start_time": "2024-09-13T18:02:29.419Z"
   },
   {
    "duration": 2,
    "start_time": "2024-09-13T18:02:29.424Z"
   },
   {
    "duration": 3,
    "start_time": "2024-09-13T18:02:29.428Z"
   },
   {
    "duration": 3,
    "start_time": "2024-09-13T18:02:29.432Z"
   },
   {
    "duration": 3,
    "start_time": "2024-09-13T18:02:29.436Z"
   },
   {
    "duration": 3,
    "start_time": "2024-09-13T18:02:29.440Z"
   },
   {
    "duration": 3,
    "start_time": "2024-09-13T18:02:29.444Z"
   },
   {
    "duration": 2,
    "start_time": "2024-09-13T18:02:29.450Z"
   },
   {
    "duration": 2,
    "start_time": "2024-09-13T18:02:29.454Z"
   },
   {
    "duration": 51,
    "start_time": "2024-09-13T18:02:29.458Z"
   },
   {
    "duration": 24,
    "start_time": "2024-09-13T18:02:29.511Z"
   },
   {
    "duration": 466,
    "start_time": "2024-09-13T18:03:38.021Z"
   },
   {
    "duration": 920,
    "start_time": "2024-09-13T18:03:38.489Z"
   },
   {
    "duration": 11,
    "start_time": "2024-09-13T18:03:39.410Z"
   },
   {
    "duration": 10,
    "start_time": "2024-09-13T18:03:39.423Z"
   },
   {
    "duration": 7,
    "start_time": "2024-09-13T18:03:39.435Z"
   },
   {
    "duration": 8,
    "start_time": "2024-09-13T18:03:39.444Z"
   },
   {
    "duration": 23,
    "start_time": "2024-09-13T18:03:39.454Z"
   },
   {
    "duration": 181,
    "start_time": "2024-09-13T18:03:39.509Z"
   },
   {
    "duration": 19,
    "start_time": "2024-09-13T18:03:39.691Z"
   },
   {
    "duration": 107,
    "start_time": "2024-09-13T18:03:39.713Z"
   },
   {
    "duration": 100,
    "start_time": "2024-09-13T18:03:39.822Z"
   },
   {
    "duration": 63,
    "start_time": "2024-09-13T18:03:39.925Z"
   },
   {
    "duration": 48,
    "start_time": "2024-09-13T18:03:39.991Z"
   },
   {
    "duration": 7,
    "start_time": "2024-09-13T18:03:40.041Z"
   },
   {
    "duration": 41,
    "start_time": "2024-09-13T18:03:40.049Z"
   },
   {
    "duration": 26,
    "start_time": "2024-09-13T18:03:40.092Z"
   },
   {
    "duration": 3,
    "start_time": "2024-09-13T18:03:40.120Z"
   },
   {
    "duration": 3,
    "start_time": "2024-09-13T18:03:40.124Z"
   },
   {
    "duration": 3,
    "start_time": "2024-09-13T18:03:40.128Z"
   },
   {
    "duration": 3,
    "start_time": "2024-09-13T18:03:40.132Z"
   },
   {
    "duration": 3,
    "start_time": "2024-09-13T18:03:40.137Z"
   },
   {
    "duration": 3,
    "start_time": "2024-09-13T18:03:40.142Z"
   },
   {
    "duration": 3,
    "start_time": "2024-09-13T18:03:40.146Z"
   },
   {
    "duration": 3,
    "start_time": "2024-09-13T18:03:40.150Z"
   },
   {
    "duration": 3,
    "start_time": "2024-09-13T18:03:40.155Z"
   },
   {
    "duration": 3,
    "start_time": "2024-09-13T18:03:40.159Z"
   },
   {
    "duration": 2,
    "start_time": "2024-09-13T18:03:40.210Z"
   },
   {
    "duration": 2,
    "start_time": "2024-09-13T18:03:40.217Z"
   },
   {
    "duration": 2,
    "start_time": "2024-09-13T18:03:40.221Z"
   },
   {
    "duration": 3,
    "start_time": "2024-09-13T18:03:40.225Z"
   },
   {
    "duration": 4,
    "start_time": "2024-09-13T18:03:40.229Z"
   },
   {
    "duration": 2,
    "start_time": "2024-09-13T18:03:40.235Z"
   },
   {
    "duration": 3,
    "start_time": "2024-09-13T18:03:40.238Z"
   },
   {
    "duration": 3,
    "start_time": "2024-09-13T18:03:40.243Z"
   },
   {
    "duration": 5,
    "start_time": "2024-09-13T18:10:48.579Z"
   },
   {
    "duration": 4,
    "start_time": "2024-09-13T18:11:23.569Z"
   },
   {
    "duration": 9,
    "start_time": "2024-09-13T18:11:56.248Z"
   },
   {
    "duration": 4,
    "start_time": "2024-09-13T18:12:35.012Z"
   },
   {
    "duration": 4,
    "start_time": "2024-09-13T18:13:12.074Z"
   },
   {
    "duration": 10,
    "start_time": "2024-09-13T18:13:28.723Z"
   },
   {
    "duration": 4,
    "start_time": "2024-09-13T18:14:04.082Z"
   },
   {
    "duration": 806,
    "start_time": "2024-09-13T18:14:55.097Z"
   },
   {
    "duration": 302,
    "start_time": "2024-09-13T18:16:04.308Z"
   },
   {
    "duration": 110,
    "start_time": "2024-09-13T18:16:11.183Z"
   },
   {
    "duration": 795,
    "start_time": "2024-09-13T18:17:37.739Z"
   },
   {
    "duration": 192,
    "start_time": "2024-09-17T14:17:18.857Z"
   },
   {
    "duration": 2622,
    "start_time": "2024-09-17T14:17:34.725Z"
   },
   {
    "duration": 1166,
    "start_time": "2024-09-17T14:17:37.350Z"
   },
   {
    "duration": 17,
    "start_time": "2024-09-17T14:17:38.517Z"
   },
   {
    "duration": 13,
    "start_time": "2024-09-17T14:17:38.536Z"
   },
   {
    "duration": 9,
    "start_time": "2024-09-17T14:17:38.552Z"
   },
   {
    "duration": 7,
    "start_time": "2024-09-17T14:17:38.563Z"
   },
   {
    "duration": 24,
    "start_time": "2024-09-17T14:17:38.572Z"
   },
   {
    "duration": 198,
    "start_time": "2024-09-17T14:17:38.598Z"
   },
   {
    "duration": 8,
    "start_time": "2024-09-17T14:17:38.798Z"
   },
   {
    "duration": 112,
    "start_time": "2024-09-17T14:17:38.808Z"
   },
   {
    "duration": 109,
    "start_time": "2024-09-17T14:17:38.922Z"
   },
   {
    "duration": 63,
    "start_time": "2024-09-17T14:17:39.033Z"
   },
   {
    "duration": 45,
    "start_time": "2024-09-17T14:17:39.098Z"
   },
   {
    "duration": 5,
    "start_time": "2024-09-17T14:17:39.148Z"
   },
   {
    "duration": 45,
    "start_time": "2024-09-17T14:17:39.155Z"
   },
   {
    "duration": 30,
    "start_time": "2024-09-17T14:17:39.201Z"
   },
   {
    "duration": 10,
    "start_time": "2024-09-17T14:17:39.234Z"
   },
   {
    "duration": 4,
    "start_time": "2024-09-17T14:17:39.246Z"
   },
   {
    "duration": 12,
    "start_time": "2024-09-17T14:17:39.252Z"
   },
   {
    "duration": 5,
    "start_time": "2024-09-17T14:17:39.268Z"
   },
   {
    "duration": 993,
    "start_time": "2024-09-17T14:17:39.275Z"
   },
   {
    "duration": 209,
    "start_time": "2024-09-17T14:17:40.270Z"
   },
   {
    "duration": 5,
    "start_time": "2024-09-17T14:17:40.481Z"
   },
   {
    "duration": 2,
    "start_time": "2024-09-17T14:17:40.488Z"
   },
   {
    "duration": 3,
    "start_time": "2024-09-17T14:17:40.492Z"
   },
   {
    "duration": 3,
    "start_time": "2024-09-17T14:17:40.496Z"
   },
   {
    "duration": 3,
    "start_time": "2024-09-17T14:17:40.500Z"
   },
   {
    "duration": 2,
    "start_time": "2024-09-17T14:17:40.532Z"
   },
   {
    "duration": 2,
    "start_time": "2024-09-17T14:17:40.540Z"
   },
   {
    "duration": 2,
    "start_time": "2024-09-17T14:17:40.548Z"
   },
   {
    "duration": 7,
    "start_time": "2024-09-17T14:17:40.552Z"
   },
   {
    "duration": 2,
    "start_time": "2024-09-17T14:17:40.561Z"
   },
   {
    "duration": 2,
    "start_time": "2024-09-17T14:17:40.565Z"
   },
   {
    "duration": 3,
    "start_time": "2024-09-17T14:17:40.569Z"
   },
   {
    "duration": 6,
    "start_time": "2024-09-17T14:17:56.646Z"
   },
   {
    "duration": 467,
    "start_time": "2024-09-17T14:40:12.317Z"
   },
   {
    "duration": 1110,
    "start_time": "2024-09-17T14:40:12.787Z"
   },
   {
    "duration": 11,
    "start_time": "2024-09-17T14:40:13.899Z"
   },
   {
    "duration": 21,
    "start_time": "2024-09-17T14:40:13.911Z"
   },
   {
    "duration": 16,
    "start_time": "2024-09-17T14:40:13.936Z"
   },
   {
    "duration": 12,
    "start_time": "2024-09-17T14:40:13.955Z"
   },
   {
    "duration": 30,
    "start_time": "2024-09-17T14:40:13.969Z"
   },
   {
    "duration": 210,
    "start_time": "2024-09-17T14:40:14.002Z"
   },
   {
    "duration": 18,
    "start_time": "2024-09-17T14:40:14.214Z"
   },
   {
    "duration": 114,
    "start_time": "2024-09-17T14:40:14.234Z"
   },
   {
    "duration": 92,
    "start_time": "2024-09-17T14:40:14.350Z"
   },
   {
    "duration": 57,
    "start_time": "2024-09-17T14:40:14.444Z"
   },
   {
    "duration": 58,
    "start_time": "2024-09-17T14:40:14.503Z"
   },
   {
    "duration": 8,
    "start_time": "2024-09-17T14:40:14.568Z"
   },
   {
    "duration": 30,
    "start_time": "2024-09-17T14:40:14.580Z"
   },
   {
    "duration": 23,
    "start_time": "2024-09-17T14:40:14.611Z"
   },
   {
    "duration": 14,
    "start_time": "2024-09-17T14:40:14.638Z"
   },
   {
    "duration": 12,
    "start_time": "2024-09-17T14:40:14.654Z"
   },
   {
    "duration": 11,
    "start_time": "2024-09-17T14:40:14.668Z"
   },
   {
    "duration": 4,
    "start_time": "2024-09-17T14:40:14.681Z"
   },
   {
    "duration": 965,
    "start_time": "2024-09-17T14:40:14.686Z"
   },
   {
    "duration": 162,
    "start_time": "2024-09-17T14:40:15.653Z"
   },
   {
    "duration": 5,
    "start_time": "2024-09-17T14:40:15.817Z"
   },
   {
    "duration": 3,
    "start_time": "2024-09-17T14:40:15.831Z"
   },
   {
    "duration": 3,
    "start_time": "2024-09-17T14:40:15.835Z"
   },
   {
    "duration": 2,
    "start_time": "2024-09-17T14:40:15.840Z"
   },
   {
    "duration": 5,
    "start_time": "2024-09-17T14:40:15.844Z"
   },
   {
    "duration": 2,
    "start_time": "2024-09-17T14:40:15.851Z"
   },
   {
    "duration": 3,
    "start_time": "2024-09-17T14:40:15.855Z"
   },
   {
    "duration": 2,
    "start_time": "2024-09-17T14:40:15.860Z"
   },
   {
    "duration": 2,
    "start_time": "2024-09-17T14:40:15.864Z"
   },
   {
    "duration": 2,
    "start_time": "2024-09-17T14:40:15.868Z"
   },
   {
    "duration": 3,
    "start_time": "2024-09-17T14:40:15.872Z"
   },
   {
    "duration": 2,
    "start_time": "2024-09-17T14:40:15.877Z"
   },
   {
    "duration": 453,
    "start_time": "2024-09-17T14:46:15.644Z"
   },
   {
    "duration": 1003,
    "start_time": "2024-09-17T14:46:16.829Z"
   },
   {
    "duration": 21,
    "start_time": "2024-09-17T14:46:18.650Z"
   },
   {
    "duration": 12,
    "start_time": "2024-09-17T14:46:19.585Z"
   },
   {
    "duration": 9,
    "start_time": "2024-09-17T14:46:20.903Z"
   },
   {
    "duration": 9,
    "start_time": "2024-09-17T14:46:21.654Z"
   },
   {
    "duration": 32,
    "start_time": "2024-09-17T14:46:22.654Z"
   },
   {
    "duration": 196,
    "start_time": "2024-09-17T14:46:26.935Z"
   },
   {
    "duration": 9,
    "start_time": "2024-09-17T14:46:35.529Z"
   },
   {
    "duration": 111,
    "start_time": "2024-09-17T14:46:49.028Z"
   },
   {
    "duration": 102,
    "start_time": "2024-09-17T14:46:51.962Z"
   },
   {
    "duration": 59,
    "start_time": "2024-09-17T14:46:53.039Z"
   },
   {
    "duration": 28,
    "start_time": "2024-09-17T14:46:58.769Z"
   },
   {
    "duration": 6,
    "start_time": "2024-09-17T14:47:01.556Z"
   },
   {
    "duration": 44,
    "start_time": "2024-09-17T14:47:02.738Z"
   },
   {
    "duration": 14,
    "start_time": "2024-09-17T14:47:07.430Z"
   },
   {
    "duration": 9,
    "start_time": "2024-09-17T14:49:26.796Z"
   },
   {
    "duration": 4,
    "start_time": "2024-09-17T14:49:29.475Z"
   },
   {
    "duration": 10,
    "start_time": "2024-09-17T14:49:36.256Z"
   },
   {
    "duration": 4,
    "start_time": "2024-09-17T14:49:40.412Z"
   },
   {
    "duration": 870,
    "start_time": "2024-09-17T14:49:54.354Z"
   },
   {
    "duration": 191,
    "start_time": "2024-09-17T14:50:04.970Z"
   },
   {
    "duration": 6,
    "start_time": "2024-09-17T14:52:07.848Z"
   },
   {
    "duration": 2247,
    "start_time": "2024-09-17T20:30:35.709Z"
   },
   {
    "duration": 1104,
    "start_time": "2024-09-17T20:30:37.958Z"
   },
   {
    "duration": 12,
    "start_time": "2024-09-17T20:30:39.380Z"
   },
   {
    "duration": 11,
    "start_time": "2024-09-17T20:30:40.184Z"
   },
   {
    "duration": 9,
    "start_time": "2024-09-17T20:30:41.022Z"
   },
   {
    "duration": 10,
    "start_time": "2024-09-17T20:30:41.863Z"
   },
   {
    "duration": 23,
    "start_time": "2024-09-17T20:30:42.736Z"
   },
   {
    "duration": 170,
    "start_time": "2024-09-17T20:30:45.535Z"
   },
   {
    "duration": 8,
    "start_time": "2024-09-17T20:30:47.674Z"
   },
   {
    "duration": 110,
    "start_time": "2024-09-17T20:30:49.738Z"
   },
   {
    "duration": 85,
    "start_time": "2024-09-17T20:30:51.169Z"
   },
   {
    "duration": 60,
    "start_time": "2024-09-17T20:30:53.033Z"
   },
   {
    "duration": 26,
    "start_time": "2024-09-17T20:30:54.686Z"
   },
   {
    "duration": 5,
    "start_time": "2024-09-17T20:30:55.640Z"
   },
   {
    "duration": 32,
    "start_time": "2024-09-17T20:30:56.684Z"
   },
   {
    "duration": 14,
    "start_time": "2024-09-17T20:31:01.796Z"
   },
   {
    "duration": 10,
    "start_time": "2024-09-17T20:31:03.818Z"
   },
   {
    "duration": 5,
    "start_time": "2024-09-17T20:31:04.930Z"
   },
   {
    "duration": 12,
    "start_time": "2024-09-17T20:31:10.181Z"
   },
   {
    "duration": 3,
    "start_time": "2024-09-17T20:31:11.412Z"
   },
   {
    "duration": 808,
    "start_time": "2024-09-17T20:31:13.967Z"
   },
   {
    "duration": 122,
    "start_time": "2024-09-17T20:31:17.565Z"
   },
   {
    "duration": 5,
    "start_time": "2024-09-17T20:31:25.467Z"
   },
   {
    "duration": 100,
    "start_time": "2024-09-17T20:32:18.600Z"
   },
   {
    "duration": 2196,
    "start_time": "2024-09-18T15:29:03.384Z"
   },
   {
    "duration": 1036,
    "start_time": "2024-09-18T15:29:05.582Z"
   },
   {
    "duration": 15,
    "start_time": "2024-09-18T15:29:07.174Z"
   },
   {
    "duration": 10,
    "start_time": "2024-09-18T15:29:08.512Z"
   },
   {
    "duration": 8,
    "start_time": "2024-09-18T15:29:09.345Z"
   },
   {
    "duration": 9,
    "start_time": "2024-09-18T15:29:09.962Z"
   },
   {
    "duration": 24,
    "start_time": "2024-09-18T15:29:11.056Z"
   },
   {
    "duration": 181,
    "start_time": "2024-09-18T15:29:14.519Z"
   },
   {
    "duration": 10,
    "start_time": "2024-09-18T15:29:15.982Z"
   },
   {
    "duration": 96,
    "start_time": "2024-09-18T15:29:17.044Z"
   },
   {
    "duration": 89,
    "start_time": "2024-09-18T15:29:17.745Z"
   },
   {
    "duration": 59,
    "start_time": "2024-09-18T15:29:18.896Z"
   },
   {
    "duration": 28,
    "start_time": "2024-09-18T15:29:20.578Z"
   },
   {
    "duration": 6,
    "start_time": "2024-09-18T15:29:21.246Z"
   },
   {
    "duration": 30,
    "start_time": "2024-09-18T15:29:21.899Z"
   },
   {
    "duration": 15,
    "start_time": "2024-09-18T15:29:26.598Z"
   },
   {
    "duration": 10,
    "start_time": "2024-09-18T15:29:28.566Z"
   },
   {
    "duration": 5,
    "start_time": "2024-09-18T15:29:30.573Z"
   },
   {
    "duration": 10,
    "start_time": "2024-09-18T15:29:32.255Z"
   },
   {
    "duration": 4,
    "start_time": "2024-09-18T15:29:33.094Z"
   },
   {
    "duration": 782,
    "start_time": "2024-09-18T15:29:35.476Z"
   },
   {
    "duration": 119,
    "start_time": "2024-09-18T15:29:36.751Z"
   },
   {
    "duration": 5,
    "start_time": "2024-09-18T15:29:39.534Z"
   },
   {
    "duration": 222,
    "start_time": "2024-09-18T15:30:28.379Z"
   },
   {
    "duration": 15,
    "start_time": "2024-09-18T15:30:36.964Z"
   },
   {
    "duration": 430,
    "start_time": "2024-09-18T15:30:43.506Z"
   },
   {
    "duration": 7,
    "start_time": "2024-09-18T15:31:32.659Z"
   },
   {
    "duration": 7,
    "start_time": "2024-09-18T15:31:44.463Z"
   },
   {
    "duration": 9,
    "start_time": "2024-09-18T15:32:07.532Z"
   },
   {
    "duration": 12,
    "start_time": "2024-09-18T15:34:59.341Z"
   },
   {
    "duration": 13,
    "start_time": "2024-09-18T15:37:03.573Z"
   },
   {
    "duration": 5,
    "start_time": "2024-09-18T15:38:51.596Z"
   },
   {
    "duration": 4,
    "start_time": "2024-09-18T15:38:59.545Z"
   },
   {
    "duration": 5,
    "start_time": "2024-09-18T15:39:06.322Z"
   },
   {
    "duration": 16,
    "start_time": "2024-09-18T15:39:46.957Z"
   },
   {
    "duration": 54,
    "start_time": "2024-09-18T15:40:20.765Z"
   },
   {
    "duration": 489,
    "start_time": "2024-09-18T15:43:00.341Z"
   },
   {
    "duration": 13,
    "start_time": "2024-09-18T15:43:42.499Z"
   },
   {
    "duration": 14,
    "start_time": "2024-09-18T15:44:02.843Z"
   },
   {
    "duration": 16,
    "start_time": "2024-09-18T15:44:08.107Z"
   },
   {
    "duration": 25,
    "start_time": "2024-09-18T15:45:05.510Z"
   },
   {
    "duration": 15,
    "start_time": "2024-09-18T15:45:13.258Z"
   },
   {
    "duration": 3,
    "start_time": "2024-09-18T15:45:30.367Z"
   },
   {
    "duration": 5,
    "start_time": "2024-09-18T15:45:47.592Z"
   },
   {
    "duration": 5,
    "start_time": "2024-09-18T15:45:57.574Z"
   },
   {
    "duration": 5,
    "start_time": "2024-09-18T15:46:04.032Z"
   },
   {
    "duration": 3,
    "start_time": "2024-09-18T15:46:18.481Z"
   },
   {
    "duration": 4,
    "start_time": "2024-09-18T15:46:27.480Z"
   },
   {
    "duration": 4,
    "start_time": "2024-09-18T15:48:36.991Z"
   },
   {
    "duration": 3,
    "start_time": "2024-09-18T15:59:21.581Z"
   },
   {
    "duration": 9,
    "start_time": "2024-09-18T15:59:36.025Z"
   },
   {
    "duration": 4,
    "start_time": "2024-09-18T15:59:37.493Z"
   },
   {
    "duration": 5,
    "start_time": "2024-09-18T16:02:03.186Z"
   },
   {
    "duration": 17,
    "start_time": "2024-09-18T16:02:08.554Z"
   },
   {
    "duration": 122,
    "start_time": "2024-09-18T16:02:16.681Z"
   },
   {
    "duration": 30,
    "start_time": "2024-09-18T16:02:34.417Z"
   },
   {
    "duration": 162,
    "start_time": "2024-09-18T16:03:00.925Z"
   },
   {
    "duration": 453,
    "start_time": "2024-09-18T16:03:12.140Z"
   },
   {
    "duration": 916,
    "start_time": "2024-09-18T16:03:12.595Z"
   },
   {
    "duration": 12,
    "start_time": "2024-09-18T16:03:13.513Z"
   },
   {
    "duration": 10,
    "start_time": "2024-09-18T16:03:13.527Z"
   },
   {
    "duration": 8,
    "start_time": "2024-09-18T16:03:13.538Z"
   },
   {
    "duration": 9,
    "start_time": "2024-09-18T16:03:13.548Z"
   },
   {
    "duration": 59,
    "start_time": "2024-09-18T16:03:13.558Z"
   },
   {
    "duration": 183,
    "start_time": "2024-09-18T16:03:13.619Z"
   },
   {
    "duration": 12,
    "start_time": "2024-09-18T16:03:13.804Z"
   },
   {
    "duration": 110,
    "start_time": "2024-09-18T16:03:13.819Z"
   },
   {
    "duration": 94,
    "start_time": "2024-09-18T16:03:13.931Z"
   },
   {
    "duration": 64,
    "start_time": "2024-09-18T16:03:14.026Z"
   },
   {
    "duration": 37,
    "start_time": "2024-09-18T16:03:14.092Z"
   },
   {
    "duration": 5,
    "start_time": "2024-09-18T16:03:14.131Z"
   },
   {
    "duration": 29,
    "start_time": "2024-09-18T16:03:14.138Z"
   },
   {
    "duration": 10,
    "start_time": "2024-09-18T16:03:14.169Z"
   },
   {
    "duration": 9,
    "start_time": "2024-09-18T16:03:14.209Z"
   },
   {
    "duration": 3,
    "start_time": "2024-09-18T16:03:14.220Z"
   },
   {
    "duration": 8,
    "start_time": "2024-09-18T16:03:14.225Z"
   },
   {
    "duration": 3,
    "start_time": "2024-09-18T16:03:14.235Z"
   },
   {
    "duration": 840,
    "start_time": "2024-09-18T16:03:14.240Z"
   },
   {
    "duration": 131,
    "start_time": "2024-09-18T16:03:15.081Z"
   },
   {
    "duration": 6,
    "start_time": "2024-09-18T16:03:15.214Z"
   },
   {
    "duration": 11,
    "start_time": "2024-09-18T16:03:15.221Z"
   },
   {
    "duration": 8,
    "start_time": "2024-09-18T16:03:15.233Z"
   },
   {
    "duration": 5,
    "start_time": "2024-09-18T16:03:15.242Z"
   },
   {
    "duration": 9,
    "start_time": "2024-09-18T16:03:15.249Z"
   },
   {
    "duration": 3,
    "start_time": "2024-09-18T16:03:15.261Z"
   },
   {
    "duration": 6,
    "start_time": "2024-09-18T16:03:15.265Z"
   },
   {
    "duration": 37,
    "start_time": "2024-09-18T16:03:15.273Z"
   },
   {
    "duration": 3,
    "start_time": "2024-09-18T16:03:15.312Z"
   },
   {
    "duration": 2,
    "start_time": "2024-09-18T16:03:15.317Z"
   },
   {
    "duration": 3,
    "start_time": "2024-09-18T16:03:15.321Z"
   },
   {
    "duration": 4,
    "start_time": "2024-09-18T16:03:15.326Z"
   },
   {
    "duration": 324,
    "start_time": "2024-09-18T16:03:43.801Z"
   },
   {
    "duration": 430,
    "start_time": "2024-09-18T16:03:57.593Z"
   },
   {
    "duration": 919,
    "start_time": "2024-09-18T16:03:58.025Z"
   },
   {
    "duration": 12,
    "start_time": "2024-09-18T16:03:58.945Z"
   },
   {
    "duration": 11,
    "start_time": "2024-09-18T16:03:58.958Z"
   },
   {
    "duration": 8,
    "start_time": "2024-09-18T16:03:58.971Z"
   },
   {
    "duration": 35,
    "start_time": "2024-09-18T16:03:58.981Z"
   },
   {
    "duration": 24,
    "start_time": "2024-09-18T16:03:59.018Z"
   },
   {
    "duration": 198,
    "start_time": "2024-09-18T16:03:59.044Z"
   },
   {
    "duration": 9,
    "start_time": "2024-09-18T16:03:59.244Z"
   },
   {
    "duration": 101,
    "start_time": "2024-09-18T16:03:59.255Z"
   },
   {
    "duration": 98,
    "start_time": "2024-09-18T16:03:59.358Z"
   },
   {
    "duration": 64,
    "start_time": "2024-09-18T16:03:59.458Z"
   },
   {
    "duration": 27,
    "start_time": "2024-09-18T16:03:59.524Z"
   },
   {
    "duration": 5,
    "start_time": "2024-09-18T16:03:59.554Z"
   },
   {
    "duration": 51,
    "start_time": "2024-09-18T16:03:59.561Z"
   },
   {
    "duration": 11,
    "start_time": "2024-09-18T16:03:59.614Z"
   },
   {
    "duration": 9,
    "start_time": "2024-09-18T16:03:59.627Z"
   },
   {
    "duration": 4,
    "start_time": "2024-09-18T16:03:59.638Z"
   },
   {
    "duration": 9,
    "start_time": "2024-09-18T16:03:59.644Z"
   },
   {
    "duration": 4,
    "start_time": "2024-09-18T16:03:59.656Z"
   },
   {
    "duration": 862,
    "start_time": "2024-09-18T16:03:59.662Z"
   },
   {
    "duration": 132,
    "start_time": "2024-09-18T16:04:00.526Z"
   },
   {
    "duration": 5,
    "start_time": "2024-09-18T16:04:00.660Z"
   },
   {
    "duration": 8,
    "start_time": "2024-09-18T16:04:00.667Z"
   },
   {
    "duration": 9,
    "start_time": "2024-09-18T16:04:00.677Z"
   },
   {
    "duration": 25,
    "start_time": "2024-09-18T16:04:00.687Z"
   },
   {
    "duration": 351,
    "start_time": "2024-09-18T16:04:00.715Z"
   },
   {
    "duration": 0,
    "start_time": "2024-09-18T16:04:01.068Z"
   },
   {
    "duration": 0,
    "start_time": "2024-09-18T16:04:01.069Z"
   },
   {
    "duration": 0,
    "start_time": "2024-09-18T16:04:01.070Z"
   },
   {
    "duration": 0,
    "start_time": "2024-09-18T16:04:01.072Z"
   },
   {
    "duration": 0,
    "start_time": "2024-09-18T16:04:01.074Z"
   },
   {
    "duration": 0,
    "start_time": "2024-09-18T16:04:01.075Z"
   },
   {
    "duration": 0,
    "start_time": "2024-09-18T16:04:01.077Z"
   },
   {
    "duration": 4,
    "start_time": "2024-09-18T16:04:36.874Z"
   },
   {
    "duration": 31,
    "start_time": "2024-09-18T16:04:40.903Z"
   },
   {
    "duration": 462,
    "start_time": "2024-09-18T16:04:54.616Z"
   },
   {
    "duration": 915,
    "start_time": "2024-09-18T16:04:55.080Z"
   },
   {
    "duration": 16,
    "start_time": "2024-09-18T16:04:55.999Z"
   },
   {
    "duration": 10,
    "start_time": "2024-09-18T16:04:56.017Z"
   },
   {
    "duration": 8,
    "start_time": "2024-09-18T16:04:56.029Z"
   },
   {
    "duration": 8,
    "start_time": "2024-09-18T16:04:56.039Z"
   },
   {
    "duration": 23,
    "start_time": "2024-09-18T16:04:56.048Z"
   },
   {
    "duration": 214,
    "start_time": "2024-09-18T16:04:56.073Z"
   },
   {
    "duration": 21,
    "start_time": "2024-09-18T16:04:56.289Z"
   },
   {
    "duration": 98,
    "start_time": "2024-09-18T16:04:56.313Z"
   },
   {
    "duration": 95,
    "start_time": "2024-09-18T16:04:56.413Z"
   },
   {
    "duration": 58,
    "start_time": "2024-09-18T16:04:56.510Z"
   },
   {
    "duration": 42,
    "start_time": "2024-09-18T16:04:56.571Z"
   },
   {
    "duration": 5,
    "start_time": "2024-09-18T16:04:56.615Z"
   },
   {
    "duration": 29,
    "start_time": "2024-09-18T16:04:56.622Z"
   },
   {
    "duration": 11,
    "start_time": "2024-09-18T16:04:56.653Z"
   },
   {
    "duration": 10,
    "start_time": "2024-09-18T16:04:56.666Z"
   },
   {
    "duration": 32,
    "start_time": "2024-09-18T16:04:56.677Z"
   },
   {
    "duration": 12,
    "start_time": "2024-09-18T16:04:56.711Z"
   },
   {
    "duration": 21,
    "start_time": "2024-09-18T16:04:56.724Z"
   },
   {
    "duration": 839,
    "start_time": "2024-09-18T16:04:56.747Z"
   },
   {
    "duration": 147,
    "start_time": "2024-09-18T16:04:57.588Z"
   },
   {
    "duration": 5,
    "start_time": "2024-09-18T16:04:57.737Z"
   },
   {
    "duration": 8,
    "start_time": "2024-09-18T16:04:57.745Z"
   },
   {
    "duration": 7,
    "start_time": "2024-09-18T16:04:57.755Z"
   },
   {
    "duration": 4,
    "start_time": "2024-09-18T16:04:57.764Z"
   },
   {
    "duration": 6,
    "start_time": "2024-09-18T16:04:57.770Z"
   },
   {
    "duration": 3,
    "start_time": "2024-09-18T16:04:57.814Z"
   },
   {
    "duration": 3,
    "start_time": "2024-09-18T16:04:57.818Z"
   },
   {
    "duration": 3,
    "start_time": "2024-09-18T16:04:57.822Z"
   },
   {
    "duration": 2,
    "start_time": "2024-09-18T16:04:57.827Z"
   },
   {
    "duration": 3,
    "start_time": "2024-09-18T16:04:57.830Z"
   },
   {
    "duration": 3,
    "start_time": "2024-09-18T16:04:57.834Z"
   },
   {
    "duration": 2,
    "start_time": "2024-09-18T16:04:57.838Z"
   },
   {
    "duration": 4,
    "start_time": "2024-09-18T16:05:33.720Z"
   },
   {
    "duration": 319,
    "start_time": "2024-09-18T16:05:46.368Z"
   },
   {
    "duration": 445,
    "start_time": "2024-09-18T16:05:56.798Z"
   },
   {
    "duration": 944,
    "start_time": "2024-09-18T16:05:57.245Z"
   },
   {
    "duration": 19,
    "start_time": "2024-09-18T16:05:58.191Z"
   },
   {
    "duration": 11,
    "start_time": "2024-09-18T16:05:58.212Z"
   },
   {
    "duration": 8,
    "start_time": "2024-09-18T16:05:58.226Z"
   },
   {
    "duration": 8,
    "start_time": "2024-09-18T16:05:58.236Z"
   },
   {
    "duration": 23,
    "start_time": "2024-09-18T16:05:58.245Z"
   },
   {
    "duration": 211,
    "start_time": "2024-09-18T16:05:58.270Z"
   },
   {
    "duration": 8,
    "start_time": "2024-09-18T16:05:58.483Z"
   },
   {
    "duration": 107,
    "start_time": "2024-09-18T16:05:58.508Z"
   },
   {
    "duration": 94,
    "start_time": "2024-09-18T16:05:58.616Z"
   },
   {
    "duration": 56,
    "start_time": "2024-09-18T16:05:58.712Z"
   },
   {
    "duration": 39,
    "start_time": "2024-09-18T16:05:58.770Z"
   },
   {
    "duration": 5,
    "start_time": "2024-09-18T16:05:58.813Z"
   },
   {
    "duration": 29,
    "start_time": "2024-09-18T16:05:58.820Z"
   },
   {
    "duration": 11,
    "start_time": "2024-09-18T16:05:58.851Z"
   },
   {
    "duration": 9,
    "start_time": "2024-09-18T16:05:58.864Z"
   },
   {
    "duration": 35,
    "start_time": "2024-09-18T16:05:58.876Z"
   },
   {
    "duration": 14,
    "start_time": "2024-09-18T16:05:58.913Z"
   },
   {
    "duration": 6,
    "start_time": "2024-09-18T16:05:58.928Z"
   },
   {
    "duration": 917,
    "start_time": "2024-09-18T16:05:58.936Z"
   },
   {
    "duration": 131,
    "start_time": "2024-09-18T16:05:59.855Z"
   },
   {
    "duration": 4,
    "start_time": "2024-09-18T16:05:59.989Z"
   },
   {
    "duration": 19,
    "start_time": "2024-09-18T16:05:59.996Z"
   },
   {
    "duration": 11,
    "start_time": "2024-09-18T16:06:00.016Z"
   },
   {
    "duration": 7,
    "start_time": "2024-09-18T16:06:00.029Z"
   },
   {
    "duration": 8,
    "start_time": "2024-09-18T16:06:00.037Z"
   },
   {
    "duration": 3,
    "start_time": "2024-09-18T16:06:00.047Z"
   },
   {
    "duration": 3,
    "start_time": "2024-09-18T16:06:00.052Z"
   },
   {
    "duration": 2,
    "start_time": "2024-09-18T16:06:00.057Z"
   },
   {
    "duration": 3,
    "start_time": "2024-09-18T16:06:00.060Z"
   },
   {
    "duration": 2,
    "start_time": "2024-09-18T16:06:00.065Z"
   },
   {
    "duration": 42,
    "start_time": "2024-09-18T16:06:00.068Z"
   },
   {
    "duration": 2,
    "start_time": "2024-09-18T16:06:00.112Z"
   },
   {
    "duration": 430,
    "start_time": "2024-09-18T16:06:59.503Z"
   },
   {
    "duration": 906,
    "start_time": "2024-09-18T16:06:59.936Z"
   },
   {
    "duration": 12,
    "start_time": "2024-09-18T16:07:00.844Z"
   },
   {
    "duration": 10,
    "start_time": "2024-09-18T16:07:00.858Z"
   },
   {
    "duration": 8,
    "start_time": "2024-09-18T16:07:00.871Z"
   },
   {
    "duration": 33,
    "start_time": "2024-09-18T16:07:00.881Z"
   },
   {
    "duration": 24,
    "start_time": "2024-09-18T16:07:00.915Z"
   },
   {
    "duration": 192,
    "start_time": "2024-09-18T16:07:00.940Z"
   },
   {
    "duration": 7,
    "start_time": "2024-09-18T16:07:01.135Z"
   },
   {
    "duration": 109,
    "start_time": "2024-09-18T16:07:01.144Z"
   },
   {
    "duration": 92,
    "start_time": "2024-09-18T16:07:01.254Z"
   },
   {
    "duration": 66,
    "start_time": "2024-09-18T16:07:01.348Z"
   },
   {
    "duration": 27,
    "start_time": "2024-09-18T16:07:01.415Z"
   },
   {
    "duration": 5,
    "start_time": "2024-09-18T16:07:01.446Z"
   },
   {
    "duration": 30,
    "start_time": "2024-09-18T16:07:01.452Z"
   },
   {
    "duration": 36,
    "start_time": "2024-09-18T16:07:01.484Z"
   },
   {
    "duration": 15,
    "start_time": "2024-09-18T16:07:01.522Z"
   },
   {
    "duration": 4,
    "start_time": "2024-09-18T16:07:01.539Z"
   },
   {
    "duration": 11,
    "start_time": "2024-09-18T16:07:01.545Z"
   },
   {
    "duration": 4,
    "start_time": "2024-09-18T16:07:01.558Z"
   },
   {
    "duration": 816,
    "start_time": "2024-09-18T16:07:01.564Z"
   },
   {
    "duration": 133,
    "start_time": "2024-09-18T16:07:02.382Z"
   },
   {
    "duration": 5,
    "start_time": "2024-09-18T16:07:02.517Z"
   },
   {
    "duration": 8,
    "start_time": "2024-09-18T16:07:02.524Z"
   },
   {
    "duration": 8,
    "start_time": "2024-09-18T16:07:02.534Z"
   },
   {
    "duration": 5,
    "start_time": "2024-09-18T16:07:02.544Z"
   },
   {
    "duration": 11,
    "start_time": "2024-09-18T16:07:02.551Z"
   },
   {
    "duration": 3,
    "start_time": "2024-09-18T16:07:02.564Z"
   },
   {
    "duration": 41,
    "start_time": "2024-09-18T16:07:02.569Z"
   },
   {
    "duration": 3,
    "start_time": "2024-09-18T16:07:02.612Z"
   },
   {
    "duration": 3,
    "start_time": "2024-09-18T16:07:02.617Z"
   },
   {
    "duration": 3,
    "start_time": "2024-09-18T16:07:02.622Z"
   },
   {
    "duration": 2,
    "start_time": "2024-09-18T16:07:02.627Z"
   },
   {
    "duration": 2,
    "start_time": "2024-09-18T16:07:02.631Z"
   },
   {
    "duration": 203,
    "start_time": "2024-09-18T16:09:17.381Z"
   },
   {
    "duration": 11,
    "start_time": "2024-09-18T16:09:34.439Z"
   },
   {
    "duration": 4,
    "start_time": "2024-09-18T16:11:35.361Z"
   },
   {
    "duration": 14,
    "start_time": "2024-09-18T16:23:17.652Z"
   },
   {
    "duration": 8,
    "start_time": "2024-09-18T16:23:23.078Z"
   },
   {
    "duration": 21,
    "start_time": "2024-09-18T16:29:09.857Z"
   },
   {
    "duration": 20,
    "start_time": "2024-09-18T16:29:18.478Z"
   },
   {
    "duration": 5,
    "start_time": "2024-09-18T16:30:04.687Z"
   },
   {
    "duration": 27,
    "start_time": "2024-09-18T16:30:10.623Z"
   },
   {
    "duration": 49,
    "start_time": "2024-09-18T16:30:29.162Z"
   },
   {
    "duration": 30,
    "start_time": "2024-09-18T16:31:07.534Z"
   },
   {
    "duration": 31,
    "start_time": "2024-09-18T16:31:20.847Z"
   },
   {
    "duration": 29,
    "start_time": "2024-09-18T16:31:45.548Z"
   },
   {
    "duration": 31,
    "start_time": "2024-09-18T16:32:20.232Z"
   },
   {
    "duration": 26,
    "start_time": "2024-09-18T16:33:56.469Z"
   },
   {
    "duration": 21,
    "start_time": "2024-09-18T16:40:21.134Z"
   },
   {
    "duration": 3,
    "start_time": "2024-09-18T16:40:37.574Z"
   },
   {
    "duration": 14,
    "start_time": "2024-09-18T16:40:47.937Z"
   },
   {
    "duration": 3,
    "start_time": "2024-09-18T16:41:10.564Z"
   },
   {
    "duration": 5,
    "start_time": "2024-09-18T16:44:19.742Z"
   },
   {
    "duration": 700,
    "start_time": "2024-09-18T16:44:26.662Z"
   },
   {
    "duration": 20,
    "start_time": "2024-09-18T16:46:04.462Z"
   },
   {
    "duration": 24,
    "start_time": "2024-09-18T16:46:48.820Z"
   },
   {
    "duration": 20,
    "start_time": "2024-09-18T16:47:30.088Z"
   },
   {
    "duration": 4,
    "start_time": "2024-09-18T16:49:26.555Z"
   },
   {
    "duration": 78,
    "start_time": "2024-09-18T16:49:53.560Z"
   },
   {
    "duration": 2,
    "start_time": "2024-09-18T16:49:58.866Z"
   },
   {
    "duration": 3,
    "start_time": "2024-09-18T16:51:08.692Z"
   },
   {
    "duration": 22,
    "start_time": "2024-09-18T16:51:29.154Z"
   },
   {
    "duration": 266,
    "start_time": "2024-09-18T17:07:54.148Z"
   },
   {
    "duration": 230,
    "start_time": "2024-09-18T17:08:47.696Z"
   },
   {
    "duration": 251,
    "start_time": "2024-09-18T17:12:46.028Z"
   },
   {
    "duration": 22,
    "start_time": "2024-09-18T17:15:05.136Z"
   },
   {
    "duration": 7,
    "start_time": "2024-09-18T17:15:27.402Z"
   },
   {
    "duration": 6,
    "start_time": "2024-09-18T17:17:12.425Z"
   },
   {
    "duration": 6,
    "start_time": "2024-09-18T17:17:18.890Z"
   },
   {
    "duration": 7,
    "start_time": "2024-09-18T17:17:40.116Z"
   },
   {
    "duration": 7,
    "start_time": "2024-09-18T17:22:52.826Z"
   },
   {
    "duration": 7,
    "start_time": "2024-09-18T17:23:00.465Z"
   },
   {
    "duration": 8,
    "start_time": "2024-09-18T17:23:18.256Z"
   },
   {
    "duration": 22,
    "start_time": "2024-09-18T17:28:41.463Z"
   },
   {
    "duration": 20,
    "start_time": "2024-09-18T17:29:01.380Z"
   },
   {
    "duration": 20,
    "start_time": "2024-09-18T17:29:21.808Z"
   },
   {
    "duration": 22,
    "start_time": "2024-09-18T17:29:35.702Z"
   },
   {
    "duration": 745,
    "start_time": "2024-09-18T17:31:18.516Z"
   },
   {
    "duration": 738,
    "start_time": "2024-09-18T17:31:34.485Z"
   },
   {
    "duration": 15,
    "start_time": "2024-09-18T17:32:35.906Z"
   },
   {
    "duration": 487,
    "start_time": "2024-09-18T17:32:43.995Z"
   },
   {
    "duration": 5,
    "start_time": "2024-09-18T17:32:57.026Z"
   },
   {
    "duration": 6,
    "start_time": "2024-09-18T17:33:53.783Z"
   },
   {
    "duration": 8,
    "start_time": "2024-09-18T17:34:06.363Z"
   },
   {
    "duration": 10,
    "start_time": "2024-09-18T17:36:18.214Z"
   },
   {
    "duration": 9,
    "start_time": "2024-09-18T17:36:47.998Z"
   },
   {
    "duration": 9,
    "start_time": "2024-09-18T17:36:54.563Z"
   },
   {
    "duration": 9,
    "start_time": "2024-09-18T17:39:00.218Z"
   },
   {
    "duration": 25,
    "start_time": "2024-09-18T17:42:00.886Z"
   },
   {
    "duration": 45,
    "start_time": "2024-09-18T17:42:17.241Z"
   },
   {
    "duration": 44,
    "start_time": "2024-09-18T17:43:35.013Z"
   },
   {
    "duration": 32,
    "start_time": "2024-09-18T17:43:57.775Z"
   },
   {
    "duration": 36,
    "start_time": "2024-09-18T17:44:07.260Z"
   },
   {
    "duration": 26,
    "start_time": "2024-09-18T17:44:17.245Z"
   },
   {
    "duration": 35,
    "start_time": "2024-09-18T17:45:39.408Z"
   },
   {
    "duration": 5,
    "start_time": "2024-09-18T17:46:02.775Z"
   },
   {
    "duration": 34,
    "start_time": "2024-09-18T17:46:07.541Z"
   },
   {
    "duration": 3,
    "start_time": "2024-09-18T17:52:46.119Z"
   },
   {
    "duration": 5,
    "start_time": "2024-09-18T17:53:07.462Z"
   },
   {
    "duration": 4,
    "start_time": "2024-09-18T17:53:20.980Z"
   },
   {
    "duration": 4,
    "start_time": "2024-09-18T17:53:22.848Z"
   },
   {
    "duration": 4,
    "start_time": "2024-09-18T17:53:48.922Z"
   },
   {
    "duration": 4,
    "start_time": "2024-09-18T17:54:19.376Z"
   },
   {
    "duration": 6830,
    "start_time": "2024-09-18T17:58:05.463Z"
   },
   {
    "duration": 140,
    "start_time": "2024-09-18T18:00:26.347Z"
   },
   {
    "duration": 42,
    "start_time": "2024-09-18T18:00:47.461Z"
   },
   {
    "duration": 616,
    "start_time": "2024-09-18T18:00:54.630Z"
   },
   {
    "duration": 5,
    "start_time": "2024-09-18T18:02:04.485Z"
   },
   {
    "duration": 142,
    "start_time": "2024-09-18T18:02:09.828Z"
   },
   {
    "duration": 26,
    "start_time": "2024-09-18T18:02:17.878Z"
   },
   {
    "duration": 149,
    "start_time": "2024-09-18T18:02:22.262Z"
   },
   {
    "duration": 147,
    "start_time": "2024-09-18T18:04:03.134Z"
   },
   {
    "duration": 149,
    "start_time": "2024-09-18T18:06:13.630Z"
   },
   {
    "duration": 140,
    "start_time": "2024-09-18T18:07:12.190Z"
   },
   {
    "duration": 806,
    "start_time": "2024-09-18T18:44:37.074Z"
   },
   {
    "duration": 1292,
    "start_time": "2024-09-18T18:44:53.632Z"
   },
   {
    "duration": 131,
    "start_time": "2024-09-18T18:45:21.778Z"
   },
   {
    "duration": 134,
    "start_time": "2024-09-18T18:45:52.766Z"
   },
   {
    "duration": 137,
    "start_time": "2024-09-18T18:48:20.651Z"
   },
   {
    "duration": 129,
    "start_time": "2024-09-18T18:48:36.380Z"
   },
   {
    "duration": 147,
    "start_time": "2024-09-18T18:49:08.832Z"
   },
   {
    "duration": 146,
    "start_time": "2024-09-18T18:49:38.472Z"
   },
   {
    "duration": 139,
    "start_time": "2024-09-18T18:50:00.004Z"
   },
   {
    "duration": 381,
    "start_time": "2024-09-18T18:55:19.003Z"
   },
   {
    "duration": 464,
    "start_time": "2024-09-18T18:56:39.119Z"
   },
   {
    "duration": 917,
    "start_time": "2024-09-18T18:56:39.585Z"
   },
   {
    "duration": 13,
    "start_time": "2024-09-18T18:56:40.504Z"
   },
   {
    "duration": 9,
    "start_time": "2024-09-18T18:56:40.519Z"
   },
   {
    "duration": 7,
    "start_time": "2024-09-18T18:56:40.530Z"
   },
   {
    "duration": 7,
    "start_time": "2024-09-18T18:56:40.539Z"
   },
   {
    "duration": 23,
    "start_time": "2024-09-18T18:56:40.548Z"
   },
   {
    "duration": 209,
    "start_time": "2024-09-18T18:56:40.573Z"
   },
   {
    "duration": 8,
    "start_time": "2024-09-18T18:56:40.784Z"
   },
   {
    "duration": 120,
    "start_time": "2024-09-18T18:56:40.795Z"
   },
   {
    "duration": 103,
    "start_time": "2024-09-18T18:56:40.917Z"
   },
   {
    "duration": 61,
    "start_time": "2024-09-18T18:56:41.022Z"
   },
   {
    "duration": 44,
    "start_time": "2024-09-18T18:56:41.085Z"
   },
   {
    "duration": 5,
    "start_time": "2024-09-18T18:56:41.130Z"
   },
   {
    "duration": 29,
    "start_time": "2024-09-18T18:56:41.137Z"
   },
   {
    "duration": 10,
    "start_time": "2024-09-18T18:56:41.168Z"
   },
   {
    "duration": 34,
    "start_time": "2024-09-18T18:56:41.180Z"
   },
   {
    "duration": 4,
    "start_time": "2024-09-18T18:56:41.216Z"
   },
   {
    "duration": 9,
    "start_time": "2024-09-18T18:56:41.222Z"
   },
   {
    "duration": 4,
    "start_time": "2024-09-18T18:56:41.233Z"
   },
   {
    "duration": 845,
    "start_time": "2024-09-18T18:56:41.238Z"
   },
   {
    "duration": 129,
    "start_time": "2024-09-18T18:56:42.085Z"
   },
   {
    "duration": 5,
    "start_time": "2024-09-18T18:56:42.216Z"
   },
   {
    "duration": 9,
    "start_time": "2024-09-18T18:56:42.222Z"
   },
   {
    "duration": 8,
    "start_time": "2024-09-18T18:56:42.233Z"
   },
   {
    "duration": 4,
    "start_time": "2024-09-18T18:56:42.244Z"
   },
   {
    "duration": 11,
    "start_time": "2024-09-18T18:56:42.251Z"
   },
   {
    "duration": 50,
    "start_time": "2024-09-18T18:56:42.267Z"
   },
   {
    "duration": 4,
    "start_time": "2024-09-18T18:56:42.319Z"
   },
   {
    "duration": 25,
    "start_time": "2024-09-18T18:56:42.324Z"
   },
   {
    "duration": 31,
    "start_time": "2024-09-18T18:56:42.352Z"
   },
   {
    "duration": 28,
    "start_time": "2024-09-18T18:56:42.409Z"
   },
   {
    "duration": 9,
    "start_time": "2024-09-18T18:56:42.439Z"
   },
   {
    "duration": 65,
    "start_time": "2024-09-18T18:56:42.450Z"
   },
   {
    "duration": 4,
    "start_time": "2024-09-18T18:56:42.517Z"
   },
   {
    "duration": 4,
    "start_time": "2024-09-18T18:56:42.523Z"
   },
   {
    "duration": 178,
    "start_time": "2024-09-18T18:56:42.528Z"
   },
   {
    "duration": 148,
    "start_time": "2024-09-18T18:56:42.709Z"
   },
   {
    "duration": 146,
    "start_time": "2024-09-18T18:56:42.858Z"
   },
   {
    "duration": 160,
    "start_time": "2024-09-18T18:58:53.044Z"
   },
   {
    "duration": 495,
    "start_time": "2024-09-18T19:00:14.220Z"
   },
   {
    "duration": 1088,
    "start_time": "2024-09-18T19:00:14.717Z"
   },
   {
    "duration": 14,
    "start_time": "2024-09-18T19:00:15.806Z"
   },
   {
    "duration": 10,
    "start_time": "2024-09-18T19:00:15.823Z"
   },
   {
    "duration": 9,
    "start_time": "2024-09-18T19:00:15.834Z"
   },
   {
    "duration": 8,
    "start_time": "2024-09-18T19:00:15.845Z"
   },
   {
    "duration": 58,
    "start_time": "2024-09-18T19:00:15.855Z"
   },
   {
    "duration": 194,
    "start_time": "2024-09-18T19:00:15.915Z"
   },
   {
    "duration": 8,
    "start_time": "2024-09-18T19:00:16.111Z"
   },
   {
    "duration": 110,
    "start_time": "2024-09-18T19:00:16.122Z"
   },
   {
    "duration": 98,
    "start_time": "2024-09-18T19:00:16.234Z"
   },
   {
    "duration": 57,
    "start_time": "2024-09-18T19:00:16.334Z"
   },
   {
    "duration": 41,
    "start_time": "2024-09-18T19:00:16.393Z"
   },
   {
    "duration": 5,
    "start_time": "2024-09-18T19:00:16.436Z"
   },
   {
    "duration": 33,
    "start_time": "2024-09-18T19:00:16.443Z"
   },
   {
    "duration": 42,
    "start_time": "2024-09-18T19:00:16.478Z"
   },
   {
    "duration": 10,
    "start_time": "2024-09-18T19:00:16.523Z"
   },
   {
    "duration": 4,
    "start_time": "2024-09-18T19:00:16.536Z"
   },
   {
    "duration": 9,
    "start_time": "2024-09-18T19:00:16.542Z"
   },
   {
    "duration": 3,
    "start_time": "2024-09-18T19:00:16.553Z"
   },
   {
    "duration": 900,
    "start_time": "2024-09-18T19:00:16.558Z"
   },
   {
    "duration": 164,
    "start_time": "2024-09-18T19:00:17.460Z"
   },
   {
    "duration": 6,
    "start_time": "2024-09-18T19:00:17.626Z"
   },
   {
    "duration": 8,
    "start_time": "2024-09-18T19:00:17.634Z"
   },
   {
    "duration": 8,
    "start_time": "2024-09-18T19:00:17.645Z"
   },
   {
    "duration": 5,
    "start_time": "2024-09-18T19:00:17.655Z"
   },
   {
    "duration": 10,
    "start_time": "2024-09-18T19:00:17.661Z"
   },
   {
    "duration": 13,
    "start_time": "2024-09-18T19:00:17.709Z"
   },
   {
    "duration": 3,
    "start_time": "2024-09-18T19:00:17.724Z"
   },
   {
    "duration": 30,
    "start_time": "2024-09-18T19:00:17.729Z"
   },
   {
    "duration": 61,
    "start_time": "2024-09-18T19:00:17.761Z"
   },
   {
    "duration": 28,
    "start_time": "2024-09-18T19:00:17.824Z"
   },
   {
    "duration": 9,
    "start_time": "2024-09-18T19:00:17.854Z"
   },
   {
    "duration": 66,
    "start_time": "2024-09-18T19:00:17.864Z"
   },
   {
    "duration": 4,
    "start_time": "2024-09-18T19:00:17.932Z"
   },
   {
    "duration": 3,
    "start_time": "2024-09-18T19:00:17.938Z"
   },
   {
    "duration": 180,
    "start_time": "2024-09-18T19:00:17.943Z"
   },
   {
    "duration": 152,
    "start_time": "2024-09-18T19:00:18.125Z"
   },
   {
    "duration": 143,
    "start_time": "2024-09-18T19:00:18.279Z"
   },
   {
    "duration": 429,
    "start_time": "2024-09-18T19:02:24.492Z"
   },
   {
    "duration": 910,
    "start_time": "2024-09-18T19:02:24.924Z"
   },
   {
    "duration": 12,
    "start_time": "2024-09-18T19:02:25.836Z"
   },
   {
    "duration": 10,
    "start_time": "2024-09-18T19:02:25.850Z"
   },
   {
    "duration": 8,
    "start_time": "2024-09-18T19:02:25.862Z"
   },
   {
    "duration": 7,
    "start_time": "2024-09-18T19:02:25.871Z"
   },
   {
    "duration": 23,
    "start_time": "2024-09-18T19:02:25.908Z"
   },
   {
    "duration": 199,
    "start_time": "2024-09-18T19:02:25.933Z"
   },
   {
    "duration": 8,
    "start_time": "2024-09-18T19:02:26.134Z"
   },
   {
    "duration": 113,
    "start_time": "2024-09-18T19:02:26.146Z"
   },
   {
    "duration": 99,
    "start_time": "2024-09-18T19:02:26.260Z"
   },
   {
    "duration": 69,
    "start_time": "2024-09-18T19:02:26.361Z"
   },
   {
    "duration": 26,
    "start_time": "2024-09-18T19:02:26.432Z"
   },
   {
    "duration": 5,
    "start_time": "2024-09-18T19:02:26.461Z"
   },
   {
    "duration": 49,
    "start_time": "2024-09-18T19:02:26.468Z"
   },
   {
    "duration": 12,
    "start_time": "2024-09-18T19:02:26.519Z"
   },
   {
    "duration": 9,
    "start_time": "2024-09-18T19:02:26.533Z"
   },
   {
    "duration": 4,
    "start_time": "2024-09-18T19:02:26.543Z"
   },
   {
    "duration": 8,
    "start_time": "2024-09-18T19:02:26.549Z"
   },
   {
    "duration": 4,
    "start_time": "2024-09-18T19:02:26.559Z"
   },
   {
    "duration": 871,
    "start_time": "2024-09-18T19:02:26.565Z"
   },
   {
    "duration": 136,
    "start_time": "2024-09-18T19:02:27.438Z"
   },
   {
    "duration": 5,
    "start_time": "2024-09-18T19:02:27.576Z"
   },
   {
    "duration": 9,
    "start_time": "2024-09-18T19:02:27.583Z"
   },
   {
    "duration": 11,
    "start_time": "2024-09-18T19:02:27.610Z"
   },
   {
    "duration": 4,
    "start_time": "2024-09-18T19:02:27.623Z"
   },
   {
    "duration": 10,
    "start_time": "2024-09-18T19:02:27.629Z"
   },
   {
    "duration": 9,
    "start_time": "2024-09-18T19:02:27.643Z"
   },
   {
    "duration": 3,
    "start_time": "2024-09-18T19:02:27.654Z"
   },
   {
    "duration": 59,
    "start_time": "2024-09-18T19:02:27.659Z"
   },
   {
    "duration": 30,
    "start_time": "2024-09-18T19:02:27.721Z"
   },
   {
    "duration": 28,
    "start_time": "2024-09-18T19:02:27.753Z"
   },
   {
    "duration": 35,
    "start_time": "2024-09-18T19:02:27.783Z"
   },
   {
    "duration": 41,
    "start_time": "2024-09-18T19:02:27.820Z"
   },
   {
    "duration": 3,
    "start_time": "2024-09-18T19:02:27.863Z"
   },
   {
    "duration": 5,
    "start_time": "2024-09-18T19:02:27.868Z"
   },
   {
    "duration": 195,
    "start_time": "2024-09-18T19:02:27.875Z"
   },
   {
    "duration": 151,
    "start_time": "2024-09-18T19:02:28.071Z"
   },
   {
    "duration": 161,
    "start_time": "2024-09-18T19:02:28.224Z"
   },
   {
    "duration": 657,
    "start_time": "2024-09-18T19:02:28.387Z"
   },
   {
    "duration": 440,
    "start_time": "2024-09-18T19:06:00.172Z"
   },
   {
    "duration": 1084,
    "start_time": "2024-09-18T19:06:00.615Z"
   },
   {
    "duration": 16,
    "start_time": "2024-09-18T19:06:01.701Z"
   },
   {
    "duration": 10,
    "start_time": "2024-09-18T19:06:01.720Z"
   },
   {
    "duration": 9,
    "start_time": "2024-09-18T19:06:01.732Z"
   },
   {
    "duration": 9,
    "start_time": "2024-09-18T19:06:01.742Z"
   },
   {
    "duration": 57,
    "start_time": "2024-09-18T19:06:01.752Z"
   },
   {
    "duration": 177,
    "start_time": "2024-09-18T19:06:01.811Z"
   },
   {
    "duration": 19,
    "start_time": "2024-09-18T19:06:01.990Z"
   },
   {
    "duration": 104,
    "start_time": "2024-09-18T19:06:02.012Z"
   },
   {
    "duration": 102,
    "start_time": "2024-09-18T19:06:02.118Z"
   },
   {
    "duration": 63,
    "start_time": "2024-09-18T19:06:02.224Z"
   },
   {
    "duration": 37,
    "start_time": "2024-09-18T19:06:02.289Z"
   },
   {
    "duration": 5,
    "start_time": "2024-09-18T19:06:02.327Z"
   },
   {
    "duration": 30,
    "start_time": "2024-09-18T19:06:02.335Z"
   },
   {
    "duration": 13,
    "start_time": "2024-09-18T19:06:02.367Z"
   },
   {
    "duration": 35,
    "start_time": "2024-09-18T19:06:02.382Z"
   },
   {
    "duration": 4,
    "start_time": "2024-09-18T19:06:02.419Z"
   },
   {
    "duration": 9,
    "start_time": "2024-09-18T19:06:02.424Z"
   },
   {
    "duration": 4,
    "start_time": "2024-09-18T19:06:02.434Z"
   },
   {
    "duration": 870,
    "start_time": "2024-09-18T19:06:02.440Z"
   },
   {
    "duration": 184,
    "start_time": "2024-09-18T19:06:03.312Z"
   },
   {
    "duration": 10,
    "start_time": "2024-09-18T19:06:03.502Z"
   },
   {
    "duration": 13,
    "start_time": "2024-09-18T19:06:03.515Z"
   },
   {
    "duration": 13,
    "start_time": "2024-09-18T19:06:03.530Z"
   },
   {
    "duration": 5,
    "start_time": "2024-09-18T19:06:03.546Z"
   },
   {
    "duration": 14,
    "start_time": "2024-09-18T19:06:03.554Z"
   },
   {
    "duration": 49,
    "start_time": "2024-09-18T19:06:03.575Z"
   },
   {
    "duration": 9,
    "start_time": "2024-09-18T19:06:03.627Z"
   },
   {
    "duration": 42,
    "start_time": "2024-09-18T19:06:03.639Z"
   },
   {
    "duration": 63,
    "start_time": "2024-09-18T19:06:03.684Z"
   },
   {
    "duration": 34,
    "start_time": "2024-09-18T19:06:03.750Z"
   },
   {
    "duration": 30,
    "start_time": "2024-09-18T19:06:03.785Z"
   },
   {
    "duration": 45,
    "start_time": "2024-09-18T19:06:03.817Z"
   },
   {
    "duration": 4,
    "start_time": "2024-09-18T19:06:03.866Z"
   },
   {
    "duration": 5,
    "start_time": "2024-09-18T19:06:03.873Z"
   },
   {
    "duration": 219,
    "start_time": "2024-09-18T19:06:03.880Z"
   },
   {
    "duration": 164,
    "start_time": "2024-09-18T19:06:04.101Z"
   },
   {
    "duration": 149,
    "start_time": "2024-09-18T19:06:04.267Z"
   },
   {
    "duration": 140,
    "start_time": "2024-09-18T19:06:04.417Z"
   },
   {
    "duration": 2098,
    "start_time": "2024-09-18T21:17:42.890Z"
   },
   {
    "duration": 1088,
    "start_time": "2024-09-18T21:17:44.991Z"
   },
   {
    "duration": 11,
    "start_time": "2024-09-18T21:17:46.081Z"
   },
   {
    "duration": 9,
    "start_time": "2024-09-18T21:17:46.095Z"
   },
   {
    "duration": 9,
    "start_time": "2024-09-18T21:17:46.105Z"
   },
   {
    "duration": 28,
    "start_time": "2024-09-18T21:17:46.116Z"
   },
   {
    "duration": 22,
    "start_time": "2024-09-18T21:17:46.146Z"
   },
   {
    "duration": 175,
    "start_time": "2024-09-18T21:17:46.170Z"
   },
   {
    "duration": 7,
    "start_time": "2024-09-18T21:17:46.347Z"
   },
   {
    "duration": 104,
    "start_time": "2024-09-18T21:17:46.358Z"
   },
   {
    "duration": 90,
    "start_time": "2024-09-18T21:17:46.464Z"
   },
   {
    "duration": 55,
    "start_time": "2024-09-18T21:17:46.557Z"
   },
   {
    "duration": 36,
    "start_time": "2024-09-18T21:17:46.615Z"
   },
   {
    "duration": 5,
    "start_time": "2024-09-18T21:17:46.653Z"
   },
   {
    "duration": 28,
    "start_time": "2024-09-18T21:17:46.659Z"
   },
   {
    "duration": 10,
    "start_time": "2024-09-18T21:17:46.688Z"
   },
   {
    "duration": 7,
    "start_time": "2024-09-18T21:17:46.700Z"
   },
   {
    "duration": 37,
    "start_time": "2024-09-18T21:17:46.709Z"
   },
   {
    "duration": 8,
    "start_time": "2024-09-18T21:17:46.747Z"
   },
   {
    "duration": 4,
    "start_time": "2024-09-18T21:17:46.757Z"
   },
   {
    "duration": 748,
    "start_time": "2024-09-18T21:17:46.763Z"
   },
   {
    "duration": 115,
    "start_time": "2024-09-18T21:17:47.513Z"
   },
   {
    "duration": 12,
    "start_time": "2024-09-18T21:17:47.631Z"
   },
   {
    "duration": 7,
    "start_time": "2024-09-18T21:17:47.645Z"
   },
   {
    "duration": 8,
    "start_time": "2024-09-18T21:17:47.654Z"
   },
   {
    "duration": 3,
    "start_time": "2024-09-18T21:17:47.664Z"
   },
   {
    "duration": 7,
    "start_time": "2024-09-18T21:17:47.669Z"
   },
   {
    "duration": 9,
    "start_time": "2024-09-18T21:17:47.680Z"
   },
   {
    "duration": 3,
    "start_time": "2024-09-18T21:17:47.690Z"
   },
   {
    "duration": 65,
    "start_time": "2024-09-18T21:17:47.695Z"
   },
   {
    "duration": 28,
    "start_time": "2024-09-18T21:17:47.762Z"
   },
   {
    "duration": 27,
    "start_time": "2024-09-18T21:17:47.792Z"
   },
   {
    "duration": 27,
    "start_time": "2024-09-18T21:17:47.821Z"
   },
   {
    "duration": 40,
    "start_time": "2024-09-18T21:17:47.850Z"
   },
   {
    "duration": 4,
    "start_time": "2024-09-18T21:17:47.892Z"
   },
   {
    "duration": 4,
    "start_time": "2024-09-18T21:17:47.898Z"
   },
   {
    "duration": 182,
    "start_time": "2024-09-18T21:17:47.903Z"
   },
   {
    "duration": 149,
    "start_time": "2024-09-18T21:17:48.087Z"
   },
   {
    "duration": 139,
    "start_time": "2024-09-18T21:17:48.238Z"
   },
   {
    "duration": 159,
    "start_time": "2024-09-18T21:22:10.866Z"
   },
   {
    "duration": 421,
    "start_time": "2024-09-18T21:22:21.599Z"
   },
   {
    "duration": 1043,
    "start_time": "2024-09-18T21:22:22.022Z"
   },
   {
    "duration": 11,
    "start_time": "2024-09-18T21:22:23.069Z"
   },
   {
    "duration": 9,
    "start_time": "2024-09-18T21:22:23.083Z"
   },
   {
    "duration": 7,
    "start_time": "2024-09-18T21:22:23.094Z"
   },
   {
    "duration": 8,
    "start_time": "2024-09-18T21:22:23.103Z"
   },
   {
    "duration": 47,
    "start_time": "2024-09-18T21:22:23.112Z"
   },
   {
    "duration": 173,
    "start_time": "2024-09-18T21:22:23.161Z"
   },
   {
    "duration": 12,
    "start_time": "2024-09-18T21:22:23.336Z"
   },
   {
    "duration": 102,
    "start_time": "2024-09-18T21:22:23.351Z"
   },
   {
    "duration": 88,
    "start_time": "2024-09-18T21:22:23.455Z"
   },
   {
    "duration": 50,
    "start_time": "2024-09-18T21:22:23.544Z"
   },
   {
    "duration": 25,
    "start_time": "2024-09-18T21:22:23.596Z"
   },
   {
    "duration": 32,
    "start_time": "2024-09-18T21:22:23.622Z"
   },
   {
    "duration": 36,
    "start_time": "2024-09-18T21:22:23.656Z"
   },
   {
    "duration": 9,
    "start_time": "2024-09-18T21:22:23.694Z"
   },
   {
    "duration": 8,
    "start_time": "2024-09-18T21:22:23.705Z"
   },
   {
    "duration": 3,
    "start_time": "2024-09-18T21:22:23.716Z"
   },
   {
    "duration": 22,
    "start_time": "2024-09-18T21:22:23.722Z"
   },
   {
    "duration": 4,
    "start_time": "2024-09-18T21:22:23.745Z"
   },
   {
    "duration": 770,
    "start_time": "2024-09-18T21:22:23.751Z"
   },
   {
    "duration": 105,
    "start_time": "2024-09-18T21:22:24.524Z"
   },
   {
    "duration": 5,
    "start_time": "2024-09-18T21:22:24.631Z"
   },
   {
    "duration": 8,
    "start_time": "2024-09-18T21:22:24.643Z"
   },
   {
    "duration": 8,
    "start_time": "2024-09-18T21:22:24.653Z"
   },
   {
    "duration": 4,
    "start_time": "2024-09-18T21:22:24.662Z"
   },
   {
    "duration": 8,
    "start_time": "2024-09-18T21:22:24.668Z"
   },
   {
    "duration": 9,
    "start_time": "2024-09-18T21:22:24.680Z"
   },
   {
    "duration": 3,
    "start_time": "2024-09-18T21:22:24.691Z"
   },
   {
    "duration": 65,
    "start_time": "2024-09-18T21:22:24.695Z"
   },
   {
    "duration": 29,
    "start_time": "2024-09-18T21:22:24.761Z"
   },
   {
    "duration": 26,
    "start_time": "2024-09-18T21:22:24.792Z"
   },
   {
    "duration": 29,
    "start_time": "2024-09-18T21:22:24.820Z"
   },
   {
    "duration": 43,
    "start_time": "2024-09-18T21:22:24.851Z"
   },
   {
    "duration": 4,
    "start_time": "2024-09-18T21:22:24.896Z"
   },
   {
    "duration": 4,
    "start_time": "2024-09-18T21:22:24.901Z"
   },
   {
    "duration": 186,
    "start_time": "2024-09-18T21:22:24.906Z"
   },
   {
    "duration": 151,
    "start_time": "2024-09-18T21:22:25.093Z"
   },
   {
    "duration": 138,
    "start_time": "2024-09-18T21:22:25.246Z"
   },
   {
    "duration": 585,
    "start_time": "2024-09-18T21:22:25.386Z"
   },
   {
    "duration": 34,
    "start_time": "2024-09-18T21:24:59.239Z"
   },
   {
    "duration": 102,
    "start_time": "2024-09-18T21:25:44.330Z"
   },
   {
    "duration": 19,
    "start_time": "2024-09-18T21:31:00.758Z"
   },
   {
    "duration": 245,
    "start_time": "2024-09-18T21:31:40.101Z"
   },
   {
    "duration": 228,
    "start_time": "2024-09-18T21:40:16.811Z"
   },
   {
    "duration": 348,
    "start_time": "2024-09-18T21:40:39.555Z"
   },
   {
    "duration": 6,
    "start_time": "2024-09-18T21:44:21.646Z"
   },
   {
    "duration": 496,
    "start_time": "2024-09-18T21:48:07.942Z"
   },
   {
    "duration": 1133,
    "start_time": "2024-09-18T21:48:08.468Z"
   },
   {
    "duration": 12,
    "start_time": "2024-09-18T21:48:09.604Z"
   },
   {
    "duration": 11,
    "start_time": "2024-09-18T21:48:10.373Z"
   },
   {
    "duration": 9,
    "start_time": "2024-09-18T21:48:11.100Z"
   },
   {
    "duration": 8,
    "start_time": "2024-09-18T21:48:11.840Z"
   },
   {
    "duration": 25,
    "start_time": "2024-09-18T21:48:12.527Z"
   },
   {
    "duration": 198,
    "start_time": "2024-09-18T21:48:16.410Z"
   },
   {
    "duration": 10,
    "start_time": "2024-09-18T21:48:18.219Z"
   },
   {
    "duration": 108,
    "start_time": "2024-09-18T21:48:19.610Z"
   },
   {
    "duration": 99,
    "start_time": "2024-09-18T21:48:20.133Z"
   },
   {
    "duration": 67,
    "start_time": "2024-09-18T21:48:20.875Z"
   },
   {
    "duration": 29,
    "start_time": "2024-09-18T21:48:22.705Z"
   },
   {
    "duration": 5,
    "start_time": "2024-09-18T21:48:23.445Z"
   },
   {
    "duration": 32,
    "start_time": "2024-09-18T21:48:24.290Z"
   },
   {
    "duration": 12,
    "start_time": "2024-09-18T21:48:25.114Z"
   },
   {
    "duration": 10,
    "start_time": "2024-09-18T21:48:27.479Z"
   },
   {
    "duration": 3,
    "start_time": "2024-09-18T21:48:28.499Z"
   },
   {
    "duration": 10,
    "start_time": "2024-09-18T21:48:31.439Z"
   },
   {
    "duration": 4,
    "start_time": "2024-09-18T21:48:32.456Z"
   },
   {
    "duration": 925,
    "start_time": "2024-09-18T21:48:34.341Z"
   },
   {
    "duration": 201,
    "start_time": "2024-09-18T21:48:35.300Z"
   },
   {
    "duration": 5,
    "start_time": "2024-09-18T21:48:42.873Z"
   },
   {
    "duration": 11,
    "start_time": "2024-09-18T21:48:45.503Z"
   },
   {
    "duration": 10,
    "start_time": "2024-09-18T21:48:49.092Z"
   },
   {
    "duration": 4,
    "start_time": "2024-09-18T21:48:52.326Z"
   },
   {
    "duration": 10,
    "start_time": "2024-09-18T21:48:54.916Z"
   },
   {
    "duration": 11,
    "start_time": "2024-09-18T21:48:57.355Z"
   },
   {
    "duration": 5,
    "start_time": "2024-09-18T21:48:58.357Z"
   },
   {
    "duration": 28,
    "start_time": "2024-09-18T21:48:59.843Z"
   },
   {
    "duration": 33,
    "start_time": "2024-09-18T21:49:00.615Z"
   },
   {
    "duration": 31,
    "start_time": "2024-09-18T21:49:01.840Z"
   },
   {
    "duration": 10,
    "start_time": "2024-09-18T21:49:02.717Z"
   },
   {
    "duration": 46,
    "start_time": "2024-09-18T21:49:04.110Z"
   },
   {
    "duration": 4,
    "start_time": "2024-09-18T21:49:09.939Z"
   },
   {
    "duration": 4,
    "start_time": "2024-09-18T21:49:10.900Z"
   },
   {
    "duration": 171,
    "start_time": "2024-09-18T21:49:13.820Z"
   },
   {
    "duration": 149,
    "start_time": "2024-09-18T21:49:18.030Z"
   },
   {
    "duration": 148,
    "start_time": "2024-09-18T21:49:20.783Z"
   },
   {
    "duration": 204,
    "start_time": "2024-09-18T21:49:26.851Z"
   },
   {
    "duration": 242,
    "start_time": "2024-09-18T21:49:44.962Z"
   },
   {
    "duration": 0,
    "start_time": "2024-09-18T21:51:26.258Z"
   },
   {
    "duration": 3594,
    "start_time": "2024-09-18T21:51:41.982Z"
   },
   {
    "duration": 168,
    "start_time": "2024-09-18T21:54:59.841Z"
   },
   {
    "duration": 401,
    "start_time": "2024-09-18T21:55:08.704Z"
   },
   {
    "duration": 467,
    "start_time": "2024-09-18T21:55:18.585Z"
   },
   {
    "duration": 131,
    "start_time": "2024-09-18T21:55:36.316Z"
   },
   {
    "duration": 133,
    "start_time": "2024-09-18T21:56:11.449Z"
   },
   {
    "duration": 134,
    "start_time": "2024-09-18T21:57:59.088Z"
   },
   {
    "duration": 133,
    "start_time": "2024-09-18T21:58:08.053Z"
   },
   {
    "duration": 130,
    "start_time": "2024-09-18T21:58:17.033Z"
   },
   {
    "duration": 135,
    "start_time": "2024-09-18T21:58:43.044Z"
   },
   {
    "duration": 150,
    "start_time": "2024-09-18T21:59:04.456Z"
   },
   {
    "duration": 11,
    "start_time": "2024-09-18T22:00:12.792Z"
   },
   {
    "duration": 6,
    "start_time": "2024-09-18T22:00:13.587Z"
   },
   {
    "duration": 7,
    "start_time": "2024-09-18T22:00:14.259Z"
   },
   {
    "duration": 238,
    "start_time": "2024-09-18T22:00:15.086Z"
   },
   {
    "duration": 117,
    "start_time": "2024-09-18T22:02:27.738Z"
   },
   {
    "duration": 17,
    "start_time": "2024-09-18T22:02:31.735Z"
   },
   {
    "duration": 19,
    "start_time": "2024-09-18T22:02:56.874Z"
   },
   {
    "duration": 7,
    "start_time": "2024-09-18T22:05:51.251Z"
   },
   {
    "duration": 4,
    "start_time": "2024-09-18T22:05:55.951Z"
   },
   {
    "duration": 375,
    "start_time": "2024-09-18T22:06:00.781Z"
   },
   {
    "duration": 7,
    "start_time": "2024-09-18T22:11:34.347Z"
   },
   {
    "duration": 122,
    "start_time": "2024-09-18T22:11:37.387Z"
   },
   {
    "duration": 11,
    "start_time": "2024-09-18T22:13:03.737Z"
   },
   {
    "duration": 10,
    "start_time": "2024-09-18T22:13:12.404Z"
   },
   {
    "duration": 422,
    "start_time": "2024-09-18T22:13:22.791Z"
   },
   {
    "duration": 920,
    "start_time": "2024-09-18T22:13:23.215Z"
   },
   {
    "duration": 12,
    "start_time": "2024-09-18T22:13:24.137Z"
   },
   {
    "duration": 9,
    "start_time": "2024-09-18T22:13:24.152Z"
   },
   {
    "duration": 7,
    "start_time": "2024-09-18T22:13:24.162Z"
   },
   {
    "duration": 8,
    "start_time": "2024-09-18T22:13:24.171Z"
   },
   {
    "duration": 22,
    "start_time": "2024-09-18T22:13:24.180Z"
   },
   {
    "duration": 205,
    "start_time": "2024-09-18T22:13:24.204Z"
   },
   {
    "duration": 8,
    "start_time": "2024-09-18T22:13:24.411Z"
   },
   {
    "duration": 103,
    "start_time": "2024-09-18T22:13:24.422Z"
   },
   {
    "duration": 95,
    "start_time": "2024-09-18T22:13:24.527Z"
   },
   {
    "duration": 61,
    "start_time": "2024-09-18T22:13:24.624Z"
   },
   {
    "duration": 26,
    "start_time": "2024-09-18T22:13:24.687Z"
   },
   {
    "duration": 5,
    "start_time": "2024-09-18T22:13:24.715Z"
   },
   {
    "duration": 45,
    "start_time": "2024-09-18T22:13:24.722Z"
   },
   {
    "duration": 9,
    "start_time": "2024-09-18T22:13:24.769Z"
   },
   {
    "duration": 8,
    "start_time": "2024-09-18T22:13:24.780Z"
   },
   {
    "duration": 3,
    "start_time": "2024-09-18T22:13:24.790Z"
   },
   {
    "duration": 8,
    "start_time": "2024-09-18T22:13:24.795Z"
   },
   {
    "duration": 3,
    "start_time": "2024-09-18T22:13:24.804Z"
   },
   {
    "duration": 797,
    "start_time": "2024-09-18T22:13:24.843Z"
   },
   {
    "duration": 124,
    "start_time": "2024-09-18T22:13:25.643Z"
   },
   {
    "duration": 5,
    "start_time": "2024-09-18T22:13:25.768Z"
   },
   {
    "duration": 9,
    "start_time": "2024-09-18T22:13:25.775Z"
   },
   {
    "duration": 8,
    "start_time": "2024-09-18T22:13:25.785Z"
   },
   {
    "duration": 4,
    "start_time": "2024-09-18T22:13:25.794Z"
   },
   {
    "duration": 8,
    "start_time": "2024-09-18T22:13:25.800Z"
   },
   {
    "duration": 10,
    "start_time": "2024-09-18T22:13:25.842Z"
   },
   {
    "duration": 3,
    "start_time": "2024-09-18T22:13:25.853Z"
   },
   {
    "duration": 27,
    "start_time": "2024-09-18T22:13:25.858Z"
   },
   {
    "duration": 30,
    "start_time": "2024-09-18T22:13:25.886Z"
   },
   {
    "duration": 28,
    "start_time": "2024-09-18T22:13:25.942Z"
   },
   {
    "duration": 9,
    "start_time": "2024-09-18T22:13:25.972Z"
   },
   {
    "duration": 39,
    "start_time": "2024-09-18T22:13:25.982Z"
   },
   {
    "duration": 4,
    "start_time": "2024-09-18T22:13:26.043Z"
   },
   {
    "duration": 4,
    "start_time": "2024-09-18T22:13:26.049Z"
   },
   {
    "duration": 172,
    "start_time": "2024-09-18T22:13:26.055Z"
   },
   {
    "duration": 142,
    "start_time": "2024-09-18T22:13:26.229Z"
   },
   {
    "duration": 141,
    "start_time": "2024-09-18T22:13:26.373Z"
   },
   {
    "duration": 9,
    "start_time": "2024-09-18T22:13:26.516Z"
   },
   {
    "duration": 15,
    "start_time": "2024-09-18T22:13:26.527Z"
   },
   {
    "duration": 3,
    "start_time": "2024-09-18T22:13:26.544Z"
   },
   {
    "duration": 221,
    "start_time": "2024-09-18T22:13:26.549Z"
   },
   {
    "duration": 6,
    "start_time": "2024-09-18T22:13:26.772Z"
   },
   {
    "duration": 123,
    "start_time": "2024-09-18T22:13:26.780Z"
   },
   {
    "duration": 573,
    "start_time": "2024-09-18T22:13:26.904Z"
   },
   {
    "duration": 4,
    "start_time": "2024-09-18T22:14:12.174Z"
   },
   {
    "duration": 128,
    "start_time": "2024-09-18T22:14:15.796Z"
   },
   {
    "duration": 4,
    "start_time": "2024-09-18T22:16:31.550Z"
   },
   {
    "duration": 87,
    "start_time": "2024-09-18T22:17:40.342Z"
   },
   {
    "duration": 86,
    "start_time": "2024-09-18T22:28:58.734Z"
   },
   {
    "duration": 86,
    "start_time": "2024-09-18T22:29:17.262Z"
   },
   {
    "duration": 565,
    "start_time": "2024-09-18T22:35:21.475Z"
   },
   {
    "duration": 643,
    "start_time": "2024-09-18T22:35:39.421Z"
   },
   {
    "duration": 712,
    "start_time": "2024-09-18T22:36:02.999Z"
   },
   {
    "duration": 250,
    "start_time": "2024-09-18T22:37:22.277Z"
   },
   {
    "duration": 90,
    "start_time": "2024-09-19T00:01:59.707Z"
   },
   {
    "duration": 155,
    "start_time": "2024-09-19T14:39:08.767Z"
   },
   {
    "duration": 13,
    "start_time": "2024-09-19T14:39:16.768Z"
   },
   {
    "duration": 2177,
    "start_time": "2024-09-19T14:39:26.481Z"
   },
   {
    "duration": 1049,
    "start_time": "2024-09-19T14:39:28.660Z"
   },
   {
    "duration": 11,
    "start_time": "2024-09-19T14:39:29.711Z"
   },
   {
    "duration": 9,
    "start_time": "2024-09-19T14:39:29.733Z"
   },
   {
    "duration": 8,
    "start_time": "2024-09-19T14:39:29.743Z"
   },
   {
    "duration": 8,
    "start_time": "2024-09-19T14:39:29.753Z"
   },
   {
    "duration": 23,
    "start_time": "2024-09-19T14:39:29.762Z"
   },
   {
    "duration": 194,
    "start_time": "2024-09-19T14:39:29.788Z"
   },
   {
    "duration": 8,
    "start_time": "2024-09-19T14:39:29.983Z"
   },
   {
    "duration": 99,
    "start_time": "2024-09-19T14:39:29.994Z"
   },
   {
    "duration": 90,
    "start_time": "2024-09-19T14:39:30.095Z"
   },
   {
    "duration": 63,
    "start_time": "2024-09-19T14:39:30.188Z"
   },
   {
    "duration": 25,
    "start_time": "2024-09-19T14:39:30.253Z"
   },
   {
    "duration": 4,
    "start_time": "2024-09-19T14:39:30.279Z"
   },
   {
    "duration": 48,
    "start_time": "2024-09-19T14:39:30.285Z"
   },
   {
    "duration": 12,
    "start_time": "2024-09-19T14:39:30.335Z"
   },
   {
    "duration": 10,
    "start_time": "2024-09-19T14:39:30.348Z"
   },
   {
    "duration": 3,
    "start_time": "2024-09-19T14:39:30.360Z"
   },
   {
    "duration": 9,
    "start_time": "2024-09-19T14:39:30.365Z"
   },
   {
    "duration": 4,
    "start_time": "2024-09-19T14:39:30.375Z"
   },
   {
    "duration": 805,
    "start_time": "2024-09-19T14:39:30.381Z"
   },
   {
    "duration": 115,
    "start_time": "2024-09-19T14:39:31.188Z"
   },
   {
    "duration": 4,
    "start_time": "2024-09-19T14:39:31.305Z"
   },
   {
    "duration": 23,
    "start_time": "2024-09-19T14:39:31.311Z"
   },
   {
    "duration": 7,
    "start_time": "2024-09-19T14:39:31.336Z"
   },
   {
    "duration": 4,
    "start_time": "2024-09-19T14:39:31.345Z"
   },
   {
    "duration": 8,
    "start_time": "2024-09-19T14:39:31.350Z"
   },
   {
    "duration": 9,
    "start_time": "2024-09-19T14:39:31.362Z"
   },
   {
    "duration": 3,
    "start_time": "2024-09-19T14:39:31.373Z"
   },
   {
    "duration": 53,
    "start_time": "2024-09-19T14:39:31.378Z"
   },
   {
    "duration": 31,
    "start_time": "2024-09-19T14:39:31.433Z"
   },
   {
    "duration": 26,
    "start_time": "2024-09-19T14:39:31.466Z"
   },
   {
    "duration": 8,
    "start_time": "2024-09-19T14:39:31.495Z"
   },
   {
    "duration": 38,
    "start_time": "2024-09-19T14:39:31.531Z"
   },
   {
    "duration": 3,
    "start_time": "2024-09-19T14:39:31.571Z"
   },
   {
    "duration": 4,
    "start_time": "2024-09-19T14:39:31.576Z"
   },
   {
    "duration": 184,
    "start_time": "2024-09-19T14:39:31.582Z"
   },
   {
    "duration": 150,
    "start_time": "2024-09-19T14:39:31.769Z"
   },
   {
    "duration": 180,
    "start_time": "2024-09-19T14:39:31.921Z"
   },
   {
    "duration": 9,
    "start_time": "2024-09-19T14:39:32.103Z"
   },
   {
    "duration": 18,
    "start_time": "2024-09-19T14:39:32.113Z"
   },
   {
    "duration": 3,
    "start_time": "2024-09-19T14:39:32.133Z"
   },
   {
    "duration": 219,
    "start_time": "2024-09-19T14:39:32.138Z"
   },
   {
    "duration": 4,
    "start_time": "2024-09-19T14:39:32.359Z"
   },
   {
    "duration": 144,
    "start_time": "2024-09-19T14:39:32.364Z"
   },
   {
    "duration": 688,
    "start_time": "2024-09-19T14:39:32.509Z"
   },
   {
    "duration": 55,
    "start_time": "2024-09-19T14:39:33.199Z"
   },
   {
    "duration": 250,
    "start_time": "2024-09-19T14:39:43.467Z"
   },
   {
    "duration": 48,
    "start_time": "2024-09-19T14:39:50.824Z"
   },
   {
    "duration": 252,
    "start_time": "2024-09-19T14:40:09.655Z"
   },
   {
    "duration": 577,
    "start_time": "2024-09-19T14:41:25.672Z"
   },
   {
    "duration": 135,
    "start_time": "2024-09-19T14:41:52.736Z"
   },
   {
    "duration": 257,
    "start_time": "2024-09-19T14:42:03.449Z"
   },
   {
    "duration": 6,
    "start_time": "2024-09-19T14:42:20.508Z"
   },
   {
    "duration": 447,
    "start_time": "2024-09-19T14:42:26.521Z"
   },
   {
    "duration": 243,
    "start_time": "2024-09-19T14:43:38.339Z"
   },
   {
    "duration": 253,
    "start_time": "2024-09-19T14:43:55.634Z"
   },
   {
    "duration": 248,
    "start_time": "2024-09-19T14:44:02.472Z"
   },
   {
    "duration": 157,
    "start_time": "2024-09-19T14:45:39.664Z"
   },
   {
    "duration": 53,
    "start_time": "2024-09-19T14:45:50.465Z"
   },
   {
    "duration": 96,
    "start_time": "2024-09-19T14:46:29.783Z"
   },
   {
    "duration": 246,
    "start_time": "2024-09-19T14:46:56.749Z"
   },
   {
    "duration": 254,
    "start_time": "2024-09-19T14:47:05.252Z"
   },
   {
    "duration": 117,
    "start_time": "2024-09-19T14:47:57.218Z"
   },
   {
    "duration": 328,
    "start_time": "2024-09-19T14:48:47.380Z"
   },
   {
    "duration": 415,
    "start_time": "2024-09-19T14:49:16.925Z"
   },
   {
    "duration": 942,
    "start_time": "2024-09-19T14:49:17.342Z"
   },
   {
    "duration": 11,
    "start_time": "2024-09-19T14:49:18.286Z"
   },
   {
    "duration": 9,
    "start_time": "2024-09-19T14:49:18.299Z"
   },
   {
    "duration": 24,
    "start_time": "2024-09-19T14:49:18.309Z"
   },
   {
    "duration": 8,
    "start_time": "2024-09-19T14:49:18.334Z"
   },
   {
    "duration": 25,
    "start_time": "2024-09-19T14:49:18.343Z"
   },
   {
    "duration": 193,
    "start_time": "2024-09-19T14:49:18.369Z"
   },
   {
    "duration": 8,
    "start_time": "2024-09-19T14:49:18.565Z"
   },
   {
    "duration": 105,
    "start_time": "2024-09-19T14:49:18.576Z"
   },
   {
    "duration": 96,
    "start_time": "2024-09-19T14:49:18.683Z"
   },
   {
    "duration": 59,
    "start_time": "2024-09-19T14:49:18.781Z"
   },
   {
    "duration": 24,
    "start_time": "2024-09-19T14:49:18.842Z"
   },
   {
    "duration": 5,
    "start_time": "2024-09-19T14:49:18.868Z"
   },
   {
    "duration": 28,
    "start_time": "2024-09-19T14:49:18.874Z"
   },
   {
    "duration": 34,
    "start_time": "2024-09-19T14:49:18.904Z"
   },
   {
    "duration": 9,
    "start_time": "2024-09-19T14:49:18.940Z"
   },
   {
    "duration": 3,
    "start_time": "2024-09-19T14:49:18.951Z"
   },
   {
    "duration": 7,
    "start_time": "2024-09-19T14:49:18.955Z"
   },
   {
    "duration": 3,
    "start_time": "2024-09-19T14:49:18.964Z"
   },
   {
    "duration": 822,
    "start_time": "2024-09-19T14:49:18.969Z"
   },
   {
    "duration": 119,
    "start_time": "2024-09-19T14:49:19.795Z"
   },
   {
    "duration": 5,
    "start_time": "2024-09-19T14:49:19.916Z"
   },
   {
    "duration": 8,
    "start_time": "2024-09-19T14:49:19.931Z"
   },
   {
    "duration": 7,
    "start_time": "2024-09-19T14:49:19.940Z"
   },
   {
    "duration": 4,
    "start_time": "2024-09-19T14:49:19.949Z"
   },
   {
    "duration": 7,
    "start_time": "2024-09-19T14:49:19.955Z"
   },
   {
    "duration": 9,
    "start_time": "2024-09-19T14:49:19.967Z"
   },
   {
    "duration": 3,
    "start_time": "2024-09-19T14:49:19.978Z"
   },
   {
    "duration": 62,
    "start_time": "2024-09-19T14:49:19.983Z"
   },
   {
    "duration": 33,
    "start_time": "2024-09-19T14:49:20.047Z"
   },
   {
    "duration": 26,
    "start_time": "2024-09-19T14:49:20.082Z"
   },
   {
    "duration": 11,
    "start_time": "2024-09-19T14:49:20.131Z"
   },
   {
    "duration": 38,
    "start_time": "2024-09-19T14:49:20.143Z"
   },
   {
    "duration": 4,
    "start_time": "2024-09-19T14:49:20.183Z"
   },
   {
    "duration": 3,
    "start_time": "2024-09-19T14:49:20.190Z"
   },
   {
    "duration": 187,
    "start_time": "2024-09-19T14:49:20.195Z"
   },
   {
    "duration": 148,
    "start_time": "2024-09-19T14:49:20.384Z"
   },
   {
    "duration": 140,
    "start_time": "2024-09-19T14:49:20.534Z"
   },
   {
    "duration": 9,
    "start_time": "2024-09-19T14:49:20.676Z"
   },
   {
    "duration": 5,
    "start_time": "2024-09-19T14:49:20.687Z"
   },
   {
    "duration": 3,
    "start_time": "2024-09-19T14:49:20.694Z"
   },
   {
    "duration": 225,
    "start_time": "2024-09-19T14:49:20.699Z"
   },
   {
    "duration": 4,
    "start_time": "2024-09-19T14:49:20.931Z"
   },
   {
    "duration": 134,
    "start_time": "2024-09-19T14:49:20.937Z"
   },
   {
    "duration": 707,
    "start_time": "2024-09-19T14:49:21.073Z"
   },
   {
    "duration": 256,
    "start_time": "2024-09-19T14:49:21.782Z"
   },
   {
    "duration": 375,
    "start_time": "2024-09-19T14:49:22.040Z"
   },
   {
    "duration": 105,
    "start_time": "2024-09-19T14:49:47.889Z"
   },
   {
    "duration": 111,
    "start_time": "2024-09-19T14:50:05.691Z"
   },
   {
    "duration": 122,
    "start_time": "2024-09-19T14:50:41.768Z"
   },
   {
    "duration": 554,
    "start_time": "2024-09-19T14:53:02.044Z"
   },
   {
    "duration": 456,
    "start_time": "2024-09-19T14:53:44.218Z"
   },
   {
    "duration": 180,
    "start_time": "2024-09-19T14:53:53.816Z"
   },
   {
    "duration": 360,
    "start_time": "2024-09-19T14:54:12.407Z"
   },
   {
    "duration": 191,
    "start_time": "2024-09-19T14:54:23.425Z"
   },
   {
    "duration": 121,
    "start_time": "2024-09-19T14:54:35.426Z"
   },
   {
    "duration": 429,
    "start_time": "2024-09-19T15:05:51.142Z"
   },
   {
    "duration": 438,
    "start_time": "2024-09-19T15:06:33.412Z"
   },
   {
    "duration": 433,
    "start_time": "2024-09-19T15:07:13.498Z"
   },
   {
    "duration": 6,
    "start_time": "2024-09-19T15:07:14.848Z"
   },
   {
    "duration": 428,
    "start_time": "2024-09-19T15:08:08.531Z"
   },
   {
    "duration": 5,
    "start_time": "2024-09-19T15:08:10.970Z"
   },
   {
    "duration": 4,
    "start_time": "2024-09-19T15:08:30.159Z"
   },
   {
    "duration": 269,
    "start_time": "2024-09-19T15:13:36.470Z"
   },
   {
    "duration": 228,
    "start_time": "2024-09-19T17:44:32.871Z"
   },
   {
    "duration": 2495,
    "start_time": "2024-09-19T17:44:42.183Z"
   },
   {
    "duration": 1107,
    "start_time": "2024-09-19T17:44:44.681Z"
   },
   {
    "duration": 20,
    "start_time": "2024-09-19T17:44:45.790Z"
   },
   {
    "duration": 11,
    "start_time": "2024-09-19T17:44:45.812Z"
   },
   {
    "duration": 8,
    "start_time": "2024-09-19T17:44:45.825Z"
   },
   {
    "duration": 9,
    "start_time": "2024-09-19T17:44:45.835Z"
   },
   {
    "duration": 23,
    "start_time": "2024-09-19T17:44:45.846Z"
   },
   {
    "duration": 238,
    "start_time": "2024-09-19T17:44:45.871Z"
   },
   {
    "duration": 10,
    "start_time": "2024-09-19T17:44:46.111Z"
   },
   {
    "duration": 114,
    "start_time": "2024-09-19T17:44:46.123Z"
   },
   {
    "duration": 91,
    "start_time": "2024-09-19T17:44:46.239Z"
   },
   {
    "duration": 56,
    "start_time": "2024-09-19T17:44:46.332Z"
   },
   {
    "duration": 37,
    "start_time": "2024-09-19T17:44:46.390Z"
   },
   {
    "duration": 6,
    "start_time": "2024-09-19T17:44:46.432Z"
   },
   {
    "duration": 33,
    "start_time": "2024-09-19T17:44:46.440Z"
   },
   {
    "duration": 10,
    "start_time": "2024-09-19T17:44:46.474Z"
   },
   {
    "duration": 10,
    "start_time": "2024-09-19T17:44:46.509Z"
   },
   {
    "duration": 4,
    "start_time": "2024-09-19T17:44:46.520Z"
   },
   {
    "duration": 10,
    "start_time": "2024-09-19T17:44:46.526Z"
   },
   {
    "duration": 6,
    "start_time": "2024-09-19T17:44:46.538Z"
   },
   {
    "duration": 924,
    "start_time": "2024-09-19T17:44:46.545Z"
   },
   {
    "duration": 164,
    "start_time": "2024-09-19T17:44:47.471Z"
   },
   {
    "duration": 5,
    "start_time": "2024-09-19T17:44:47.637Z"
   },
   {
    "duration": 8,
    "start_time": "2024-09-19T17:44:47.644Z"
   },
   {
    "duration": 9,
    "start_time": "2024-09-19T17:44:47.654Z"
   },
   {
    "duration": 5,
    "start_time": "2024-09-19T17:44:47.664Z"
   },
   {
    "duration": 42,
    "start_time": "2024-09-19T17:44:47.670Z"
   },
   {
    "duration": 11,
    "start_time": "2024-09-19T17:44:47.715Z"
   },
   {
    "duration": 14,
    "start_time": "2024-09-19T17:44:47.727Z"
   },
   {
    "duration": 43,
    "start_time": "2024-09-19T17:44:47.744Z"
   },
   {
    "duration": 50,
    "start_time": "2024-09-19T17:44:47.789Z"
   },
   {
    "duration": 27,
    "start_time": "2024-09-19T17:44:47.842Z"
   },
   {
    "duration": 10,
    "start_time": "2024-09-19T17:44:47.872Z"
   },
   {
    "duration": 63,
    "start_time": "2024-09-19T17:44:47.884Z"
   },
   {
    "duration": 3,
    "start_time": "2024-09-19T17:44:47.950Z"
   },
   {
    "duration": 4,
    "start_time": "2024-09-19T17:44:47.956Z"
   },
   {
    "duration": 184,
    "start_time": "2024-09-19T17:44:47.961Z"
   },
   {
    "duration": 148,
    "start_time": "2024-09-19T17:44:48.148Z"
   },
   {
    "duration": 199,
    "start_time": "2024-09-19T17:44:48.298Z"
   },
   {
    "duration": 17,
    "start_time": "2024-09-19T17:44:48.499Z"
   },
   {
    "duration": 6,
    "start_time": "2024-09-19T17:44:48.521Z"
   },
   {
    "duration": 3,
    "start_time": "2024-09-19T17:44:48.528Z"
   },
   {
    "duration": 235,
    "start_time": "2024-09-19T17:44:48.533Z"
   },
   {
    "duration": 4,
    "start_time": "2024-09-19T17:44:48.770Z"
   },
   {
    "duration": 145,
    "start_time": "2024-09-19T17:44:48.777Z"
   },
   {
    "duration": 713,
    "start_time": "2024-09-19T17:44:48.924Z"
   },
   {
    "duration": 454,
    "start_time": "2024-09-19T17:44:49.640Z"
   },
   {
    "duration": 244,
    "start_time": "2024-09-19T17:44:50.097Z"
   },
   {
    "duration": 310,
    "start_time": "2024-09-19T17:44:50.343Z"
   },
   {
    "duration": 248,
    "start_time": "2024-09-19T17:47:45.446Z"
   },
   {
    "duration": 4,
    "start_time": "2024-09-19T17:48:32.511Z"
   },
   {
    "duration": 3,
    "start_time": "2024-09-19T17:49:46.334Z"
   },
   {
    "duration": 256,
    "start_time": "2024-09-19T17:50:31.672Z"
   },
   {
    "duration": 373,
    "start_time": "2024-09-19T17:51:57.258Z"
   },
   {
    "duration": 218,
    "start_time": "2024-09-19T17:53:30.998Z"
   },
   {
    "duration": 141,
    "start_time": "2024-09-19T17:54:05.871Z"
   },
   {
    "duration": 310,
    "start_time": "2024-09-19T17:54:24.889Z"
   },
   {
    "duration": 7813,
    "start_time": "2024-09-19T17:55:42.270Z"
   },
   {
    "duration": 256,
    "start_time": "2024-09-19T17:57:13.374Z"
   },
   {
    "duration": 481,
    "start_time": "2024-09-19T17:59:32.028Z"
   },
   {
    "duration": 1022,
    "start_time": "2024-09-19T17:59:32.511Z"
   },
   {
    "duration": 12,
    "start_time": "2024-09-19T17:59:33.534Z"
   },
   {
    "duration": 9,
    "start_time": "2024-09-19T17:59:33.549Z"
   },
   {
    "duration": 9,
    "start_time": "2024-09-19T17:59:33.560Z"
   },
   {
    "duration": 8,
    "start_time": "2024-09-19T17:59:33.571Z"
   },
   {
    "duration": 48,
    "start_time": "2024-09-19T17:59:33.581Z"
   },
   {
    "duration": 198,
    "start_time": "2024-09-19T17:59:33.631Z"
   },
   {
    "duration": 10,
    "start_time": "2024-09-19T17:59:33.831Z"
   },
   {
    "duration": 121,
    "start_time": "2024-09-19T17:59:33.844Z"
   },
   {
    "duration": 101,
    "start_time": "2024-09-19T17:59:33.967Z"
   },
   {
    "duration": 69,
    "start_time": "2024-09-19T17:59:34.069Z"
   },
   {
    "duration": 25,
    "start_time": "2024-09-19T17:59:34.140Z"
   },
   {
    "duration": 5,
    "start_time": "2024-09-19T17:59:34.167Z"
   },
   {
    "duration": 46,
    "start_time": "2024-09-19T17:59:34.174Z"
   },
   {
    "duration": 10,
    "start_time": "2024-09-19T17:59:34.223Z"
   },
   {
    "duration": 9,
    "start_time": "2024-09-19T17:59:34.235Z"
   },
   {
    "duration": 3,
    "start_time": "2024-09-19T17:59:34.246Z"
   },
   {
    "duration": 8,
    "start_time": "2024-09-19T17:59:34.252Z"
   },
   {
    "duration": 5,
    "start_time": "2024-09-19T17:59:34.262Z"
   },
   {
    "duration": 845,
    "start_time": "2024-09-19T17:59:34.269Z"
   },
   {
    "duration": 162,
    "start_time": "2024-09-19T17:59:35.115Z"
   },
   {
    "duration": 6,
    "start_time": "2024-09-19T17:59:35.279Z"
   },
   {
    "duration": 22,
    "start_time": "2024-09-19T17:59:35.287Z"
   },
   {
    "duration": 10,
    "start_time": "2024-09-19T17:59:35.311Z"
   },
   {
    "duration": 4,
    "start_time": "2024-09-19T17:59:35.324Z"
   },
   {
    "duration": 10,
    "start_time": "2024-09-19T17:59:35.330Z"
   },
   {
    "duration": 9,
    "start_time": "2024-09-19T17:59:35.344Z"
   },
   {
    "duration": 4,
    "start_time": "2024-09-19T17:59:35.355Z"
   },
   {
    "duration": 65,
    "start_time": "2024-09-19T17:59:35.360Z"
   },
   {
    "duration": 30,
    "start_time": "2024-09-19T17:59:35.427Z"
   },
   {
    "duration": 27,
    "start_time": "2024-09-19T17:59:35.459Z"
   },
   {
    "duration": 9,
    "start_time": "2024-09-19T17:59:35.509Z"
   },
   {
    "duration": 40,
    "start_time": "2024-09-19T17:59:35.520Z"
   },
   {
    "duration": 3,
    "start_time": "2024-09-19T17:59:35.562Z"
   },
   {
    "duration": 5,
    "start_time": "2024-09-19T17:59:35.567Z"
   },
   {
    "duration": 189,
    "start_time": "2024-09-19T17:59:35.575Z"
   },
   {
    "duration": 149,
    "start_time": "2024-09-19T17:59:35.767Z"
   },
   {
    "duration": 145,
    "start_time": "2024-09-19T17:59:35.918Z"
   },
   {
    "duration": 9,
    "start_time": "2024-09-19T17:59:36.066Z"
   },
   {
    "duration": 4,
    "start_time": "2024-09-19T17:59:36.077Z"
   },
   {
    "duration": 3,
    "start_time": "2024-09-19T17:59:36.083Z"
   },
   {
    "duration": 235,
    "start_time": "2024-09-19T17:59:36.088Z"
   },
   {
    "duration": 4,
    "start_time": "2024-09-19T17:59:36.325Z"
   },
   {
    "duration": 143,
    "start_time": "2024-09-19T17:59:36.331Z"
   },
   {
    "duration": 725,
    "start_time": "2024-09-19T17:59:36.477Z"
   },
   {
    "duration": 474,
    "start_time": "2024-09-19T17:59:37.204Z"
   },
   {
    "duration": 249,
    "start_time": "2024-09-19T17:59:37.680Z"
   },
   {
    "duration": 305,
    "start_time": "2024-09-19T17:59:37.931Z"
   },
   {
    "duration": 3,
    "start_time": "2024-09-19T17:59:38.238Z"
   },
   {
    "duration": 145,
    "start_time": "2024-09-19T17:59:38.243Z"
   },
   {
    "duration": 141,
    "start_time": "2024-09-19T18:00:59.379Z"
   },
   {
    "duration": 473,
    "start_time": "2024-09-19T18:03:27.990Z"
   },
   {
    "duration": 983,
    "start_time": "2024-09-19T18:03:28.465Z"
   },
   {
    "duration": 12,
    "start_time": "2024-09-19T18:03:29.449Z"
   },
   {
    "duration": 10,
    "start_time": "2024-09-19T18:03:29.462Z"
   },
   {
    "duration": 8,
    "start_time": "2024-09-19T18:03:29.475Z"
   },
   {
    "duration": 29,
    "start_time": "2024-09-19T18:03:29.485Z"
   },
   {
    "duration": 23,
    "start_time": "2024-09-19T18:03:29.516Z"
   },
   {
    "duration": 210,
    "start_time": "2024-09-19T18:03:29.541Z"
   },
   {
    "duration": 12,
    "start_time": "2024-09-19T18:03:29.753Z"
   },
   {
    "duration": 145,
    "start_time": "2024-09-19T18:03:29.774Z"
   },
   {
    "duration": 98,
    "start_time": "2024-09-19T18:03:29.921Z"
   },
   {
    "duration": 92,
    "start_time": "2024-09-19T18:03:30.021Z"
   },
   {
    "duration": 29,
    "start_time": "2024-09-19T18:03:30.115Z"
   },
   {
    "duration": 5,
    "start_time": "2024-09-19T18:03:30.149Z"
   },
   {
    "duration": 72,
    "start_time": "2024-09-19T18:03:30.156Z"
   },
   {
    "duration": 27,
    "start_time": "2024-09-19T18:03:30.230Z"
   },
   {
    "duration": 23,
    "start_time": "2024-09-19T18:03:30.261Z"
   },
   {
    "duration": 5,
    "start_time": "2024-09-19T18:03:30.287Z"
   },
   {
    "duration": 19,
    "start_time": "2024-09-19T18:03:30.296Z"
   },
   {
    "duration": 5,
    "start_time": "2024-09-19T18:03:30.317Z"
   },
   {
    "duration": 1004,
    "start_time": "2024-09-19T18:03:30.324Z"
   },
   {
    "duration": 149,
    "start_time": "2024-09-19T18:03:31.329Z"
   },
   {
    "duration": 5,
    "start_time": "2024-09-19T18:03:31.481Z"
   },
   {
    "duration": 25,
    "start_time": "2024-09-19T18:03:31.488Z"
   },
   {
    "duration": 9,
    "start_time": "2024-09-19T18:03:31.515Z"
   },
   {
    "duration": 4,
    "start_time": "2024-09-19T18:03:31.526Z"
   },
   {
    "duration": 9,
    "start_time": "2024-09-19T18:03:31.532Z"
   },
   {
    "duration": 10,
    "start_time": "2024-09-19T18:03:31.542Z"
   },
   {
    "duration": 4,
    "start_time": "2024-09-19T18:03:31.553Z"
   },
   {
    "duration": 63,
    "start_time": "2024-09-19T18:03:31.558Z"
   },
   {
    "duration": 30,
    "start_time": "2024-09-19T18:03:31.623Z"
   },
   {
    "duration": 28,
    "start_time": "2024-09-19T18:03:31.655Z"
   },
   {
    "duration": 35,
    "start_time": "2024-09-19T18:03:31.685Z"
   },
   {
    "duration": 41,
    "start_time": "2024-09-19T18:03:31.722Z"
   },
   {
    "duration": 4,
    "start_time": "2024-09-19T18:03:31.765Z"
   },
   {
    "duration": 4,
    "start_time": "2024-09-19T18:03:31.771Z"
   },
   {
    "duration": 195,
    "start_time": "2024-09-19T18:03:31.777Z"
   },
   {
    "duration": 141,
    "start_time": "2024-09-19T18:03:31.974Z"
   },
   {
    "duration": 146,
    "start_time": "2024-09-19T18:03:32.117Z"
   },
   {
    "duration": 9,
    "start_time": "2024-09-19T18:03:32.265Z"
   },
   {
    "duration": 4,
    "start_time": "2024-09-19T18:03:32.279Z"
   },
   {
    "duration": 3,
    "start_time": "2024-09-19T18:03:32.285Z"
   },
   {
    "duration": 239,
    "start_time": "2024-09-19T18:03:32.289Z"
   },
   {
    "duration": 5,
    "start_time": "2024-09-19T18:03:32.530Z"
   },
   {
    "duration": 144,
    "start_time": "2024-09-19T18:03:32.537Z"
   },
   {
    "duration": 715,
    "start_time": "2024-09-19T18:03:32.683Z"
   },
   {
    "duration": 457,
    "start_time": "2024-09-19T18:03:33.400Z"
   },
   {
    "duration": 226,
    "start_time": "2024-09-19T18:03:33.859Z"
   },
   {
    "duration": 274,
    "start_time": "2024-09-19T18:03:34.088Z"
   },
   {
    "duration": 4,
    "start_time": "2024-09-19T18:03:34.364Z"
   },
   {
    "duration": 152,
    "start_time": "2024-09-19T18:03:34.370Z"
   },
   {
    "duration": 139,
    "start_time": "2024-09-19T18:03:46.546Z"
   },
   {
    "duration": 101,
    "start_time": "2024-09-19T18:07:54.197Z"
   },
   {
    "duration": 306,
    "start_time": "2024-09-19T18:08:29.060Z"
   },
   {
    "duration": 306,
    "start_time": "2024-09-19T18:09:18.472Z"
   },
   {
    "duration": 179,
    "start_time": "2024-09-19T18:10:37.373Z"
   },
   {
    "duration": 28,
    "start_time": "2024-09-19T18:10:58.614Z"
   },
   {
    "duration": 5,
    "start_time": "2024-09-19T18:12:26.004Z"
   },
   {
    "duration": 383,
    "start_time": "2024-09-19T18:12:32.679Z"
   },
   {
    "duration": 44,
    "start_time": "2024-09-19T18:14:15.169Z"
   },
   {
    "duration": 101,
    "start_time": "2024-09-19T18:14:27.318Z"
   },
   {
    "duration": 4,
    "start_time": "2024-09-19T18:14:35.771Z"
   },
   {
    "duration": 19,
    "start_time": "2024-09-19T18:14:50.308Z"
   },
   {
    "duration": 21,
    "start_time": "2024-09-19T18:23:40.059Z"
   },
   {
    "duration": 4,
    "start_time": "2024-09-19T18:23:41.437Z"
   },
   {
    "duration": 91,
    "start_time": "2024-09-19T18:23:55.872Z"
   },
   {
    "duration": 4,
    "start_time": "2024-09-19T18:24:13.418Z"
   },
   {
    "duration": 93,
    "start_time": "2024-09-19T18:24:23.042Z"
   },
   {
    "duration": 3,
    "start_time": "2024-09-19T18:24:23.525Z"
   },
   {
    "duration": 102,
    "start_time": "2024-09-19T18:24:35.841Z"
   },
   {
    "duration": 3,
    "start_time": "2024-09-19T18:24:37.072Z"
   },
   {
    "duration": 493,
    "start_time": "2024-09-19T18:26:29.816Z"
   },
   {
    "duration": 207,
    "start_time": "2024-09-19T18:26:34.188Z"
   },
   {
    "duration": 434,
    "start_time": "2024-09-19T18:27:06.038Z"
   },
   {
    "duration": 205,
    "start_time": "2024-09-19T18:27:07.649Z"
   },
   {
    "duration": 301,
    "start_time": "2024-09-19T18:29:34.825Z"
   },
   {
    "duration": 297,
    "start_time": "2024-09-19T18:29:47.255Z"
   },
   {
    "duration": 28,
    "start_time": "2024-09-19T18:31:03.161Z"
   },
   {
    "duration": 4,
    "start_time": "2024-09-19T18:31:21.094Z"
   },
   {
    "duration": 97,
    "start_time": "2024-09-19T18:32:50.625Z"
   },
   {
    "duration": 174,
    "start_time": "2024-09-19T18:33:14.162Z"
   },
   {
    "duration": 4,
    "start_time": "2024-09-19T18:33:52.769Z"
   },
   {
    "duration": 180,
    "start_time": "2024-09-19T18:33:54.165Z"
   },
   {
    "duration": 184,
    "start_time": "2024-09-19T18:34:34.615Z"
   },
   {
    "duration": 42,
    "start_time": "2024-09-19T18:37:12.911Z"
   },
   {
    "duration": 100,
    "start_time": "2024-09-19T18:37:28.071Z"
   },
   {
    "duration": 7,
    "start_time": "2024-09-19T18:37:32.621Z"
   },
   {
    "duration": 6,
    "start_time": "2024-09-19T18:38:11.067Z"
   },
   {
    "duration": 4,
    "start_time": "2024-09-19T18:38:43.004Z"
   },
   {
    "duration": 157,
    "start_time": "2024-09-19T18:38:43.844Z"
   },
   {
    "duration": 4,
    "start_time": "2024-09-19T18:39:12.312Z"
   },
   {
    "duration": 16,
    "start_time": "2024-09-19T18:39:21.625Z"
   },
   {
    "duration": 440,
    "start_time": "2024-09-19T18:39:43.504Z"
   },
   {
    "duration": 929,
    "start_time": "2024-09-19T18:39:43.946Z"
   },
   {
    "duration": 10,
    "start_time": "2024-09-19T18:39:44.877Z"
   },
   {
    "duration": 21,
    "start_time": "2024-09-19T18:39:44.890Z"
   },
   {
    "duration": 8,
    "start_time": "2024-09-19T18:39:44.913Z"
   },
   {
    "duration": 7,
    "start_time": "2024-09-19T18:39:44.923Z"
   },
   {
    "duration": 24,
    "start_time": "2024-09-19T18:39:44.931Z"
   },
   {
    "duration": 204,
    "start_time": "2024-09-19T18:39:44.957Z"
   },
   {
    "duration": 9,
    "start_time": "2024-09-19T18:39:45.163Z"
   },
   {
    "duration": 110,
    "start_time": "2024-09-19T18:39:45.174Z"
   },
   {
    "duration": 98,
    "start_time": "2024-09-19T18:39:45.285Z"
   },
   {
    "duration": 68,
    "start_time": "2024-09-19T18:39:45.385Z"
   },
   {
    "duration": 26,
    "start_time": "2024-09-19T18:39:45.455Z"
   },
   {
    "duration": 5,
    "start_time": "2024-09-19T18:39:45.482Z"
   },
   {
    "duration": 43,
    "start_time": "2024-09-19T18:39:45.489Z"
   },
   {
    "duration": 9,
    "start_time": "2024-09-19T18:39:45.534Z"
   },
   {
    "duration": 8,
    "start_time": "2024-09-19T18:39:45.544Z"
   },
   {
    "duration": 4,
    "start_time": "2024-09-19T18:39:45.554Z"
   },
   {
    "duration": 10,
    "start_time": "2024-09-19T18:39:45.559Z"
   },
   {
    "duration": 5,
    "start_time": "2024-09-19T18:39:45.571Z"
   },
   {
    "duration": 834,
    "start_time": "2024-09-19T18:39:45.610Z"
   },
   {
    "duration": 122,
    "start_time": "2024-09-19T18:39:46.446Z"
   },
   {
    "duration": 5,
    "start_time": "2024-09-19T18:39:46.570Z"
   },
   {
    "duration": 32,
    "start_time": "2024-09-19T18:39:46.577Z"
   },
   {
    "duration": 29,
    "start_time": "2024-09-19T18:39:46.611Z"
   },
   {
    "duration": 15,
    "start_time": "2024-09-19T18:39:46.642Z"
   },
   {
    "duration": 11,
    "start_time": "2024-09-19T18:39:46.658Z"
   },
   {
    "duration": 9,
    "start_time": "2024-09-19T18:39:46.674Z"
   },
   {
    "duration": 3,
    "start_time": "2024-09-19T18:39:46.685Z"
   },
   {
    "duration": 30,
    "start_time": "2024-09-19T18:39:46.690Z"
   },
   {
    "duration": 31,
    "start_time": "2024-09-19T18:39:46.722Z"
   },
   {
    "duration": 27,
    "start_time": "2024-09-19T18:39:46.756Z"
   },
   {
    "duration": 26,
    "start_time": "2024-09-19T18:39:46.785Z"
   },
   {
    "duration": 40,
    "start_time": "2024-09-19T18:39:46.813Z"
   },
   {
    "duration": 4,
    "start_time": "2024-09-19T18:39:46.855Z"
   },
   {
    "duration": 4,
    "start_time": "2024-09-19T18:39:46.860Z"
   },
   {
    "duration": 188,
    "start_time": "2024-09-19T18:39:46.866Z"
   },
   {
    "duration": 155,
    "start_time": "2024-09-19T18:39:47.056Z"
   },
   {
    "duration": 167,
    "start_time": "2024-09-19T18:39:47.213Z"
   },
   {
    "duration": 9,
    "start_time": "2024-09-19T18:39:47.382Z"
   },
   {
    "duration": 18,
    "start_time": "2024-09-19T18:39:47.393Z"
   },
   {
    "duration": 4,
    "start_time": "2024-09-19T18:39:47.413Z"
   },
   {
    "duration": 222,
    "start_time": "2024-09-19T18:39:47.420Z"
   },
   {
    "duration": 3,
    "start_time": "2024-09-19T18:39:47.644Z"
   },
   {
    "duration": 146,
    "start_time": "2024-09-19T18:39:47.649Z"
   },
   {
    "duration": 717,
    "start_time": "2024-09-19T18:39:47.797Z"
   },
   {
    "duration": 455,
    "start_time": "2024-09-19T18:39:48.516Z"
   },
   {
    "duration": 252,
    "start_time": "2024-09-19T18:39:48.973Z"
   },
   {
    "duration": 333,
    "start_time": "2024-09-19T18:39:49.227Z"
   },
   {
    "duration": 2,
    "start_time": "2024-09-19T18:39:49.563Z"
   },
   {
    "duration": 151,
    "start_time": "2024-09-19T18:39:49.567Z"
   },
   {
    "duration": 2,
    "start_time": "2024-09-19T18:39:49.720Z"
   },
   {
    "duration": 145,
    "start_time": "2024-09-19T18:39:49.724Z"
   },
   {
    "duration": 0,
    "start_time": "2024-09-19T18:39:49.871Z"
   },
   {
    "duration": 0,
    "start_time": "2024-09-19T18:39:49.872Z"
   },
   {
    "duration": 4,
    "start_time": "2024-09-19T18:40:38.245Z"
   },
   {
    "duration": 286,
    "start_time": "2024-09-19T18:40:45.374Z"
   },
   {
    "duration": 511,
    "start_time": "2024-09-19T18:40:46.822Z"
   },
   {
    "duration": 44,
    "start_time": "2024-09-19T18:41:27.304Z"
   },
   {
    "duration": 5,
    "start_time": "2024-09-19T18:41:28.741Z"
   },
   {
    "duration": 4,
    "start_time": "2024-09-19T18:41:41.141Z"
   },
   {
    "duration": 189,
    "start_time": "2024-09-19T18:41:45.090Z"
   },
   {
    "duration": 103,
    "start_time": "2024-09-19T18:42:22.489Z"
   },
   {
    "duration": 4,
    "start_time": "2024-09-19T18:42:23.288Z"
   },
   {
    "duration": 316,
    "start_time": "2024-09-19T18:42:34.987Z"
   },
   {
    "duration": 35,
    "start_time": "2024-09-19T18:42:36.190Z"
   },
   {
    "duration": 4,
    "start_time": "2024-09-19T18:42:37.921Z"
   },
   {
    "duration": 185,
    "start_time": "2024-09-19T18:42:40.268Z"
   },
   {
    "duration": 43,
    "start_time": "2024-09-19T18:43:38.612Z"
   },
   {
    "duration": 109,
    "start_time": "2024-09-19T18:43:47.021Z"
   },
   {
    "duration": 6,
    "start_time": "2024-09-19T18:43:48.271Z"
   },
   {
    "duration": 5,
    "start_time": "2024-09-19T18:44:06.249Z"
   },
   {
    "duration": 163,
    "start_time": "2024-09-19T18:44:10.238Z"
   },
   {
    "duration": 42,
    "start_time": "2024-09-19T18:45:01.559Z"
   },
   {
    "duration": 559,
    "start_time": "2024-09-19T18:46:31.953Z"
   },
   {
    "duration": 439,
    "start_time": "2024-09-19T18:46:52.373Z"
   },
   {
    "duration": 6,
    "start_time": "2024-09-19T18:46:54.119Z"
   },
   {
    "duration": 203,
    "start_time": "2024-09-19T18:46:57.866Z"
   },
   {
    "duration": 5,
    "start_time": "2024-09-19T18:47:37.602Z"
   },
   {
    "duration": 202,
    "start_time": "2024-09-19T18:47:40.731Z"
   },
   {
    "duration": 20,
    "start_time": "2024-09-19T18:49:12.211Z"
   },
   {
    "duration": 8,
    "start_time": "2024-09-19T18:50:06.018Z"
   },
   {
    "duration": 205,
    "start_time": "2024-09-19T18:50:07.482Z"
   },
   {
    "duration": 15,
    "start_time": "2024-09-19T18:50:19.708Z"
   },
   {
    "duration": 188,
    "start_time": "2024-09-19T18:50:20.540Z"
   },
   {
    "duration": 15,
    "start_time": "2024-09-19T18:50:41.275Z"
   },
   {
    "duration": 431,
    "start_time": "2024-09-19T18:50:51.651Z"
   },
   {
    "duration": 9,
    "start_time": "2024-09-19T18:50:52.936Z"
   },
   {
    "duration": 221,
    "start_time": "2024-09-19T18:50:54.849Z"
   },
   {
    "duration": 565,
    "start_time": "2024-09-19T18:53:42.265Z"
   },
   {
    "duration": 455,
    "start_time": "2024-09-19T18:53:43.878Z"
   },
   {
    "duration": 12,
    "start_time": "2024-09-19T18:53:45.469Z"
   },
   {
    "duration": 6,
    "start_time": "2024-09-19T18:54:15.028Z"
   },
   {
    "duration": 442,
    "start_time": "2024-09-19T18:54:18.541Z"
   },
   {
    "duration": 14,
    "start_time": "2024-09-19T18:54:19.713Z"
   },
   {
    "duration": 450,
    "start_time": "2024-09-19T18:54:30.513Z"
   },
   {
    "duration": 7,
    "start_time": "2024-09-19T18:54:31.579Z"
   },
   {
    "duration": 204,
    "start_time": "2024-09-19T18:54:33.130Z"
   },
   {
    "duration": 21,
    "start_time": "2024-09-19T18:54:43.196Z"
   },
   {
    "duration": 5,
    "start_time": "2024-09-19T18:56:05.690Z"
   },
   {
    "duration": 8,
    "start_time": "2024-09-19T18:56:13.762Z"
   },
   {
    "duration": 15,
    "start_time": "2024-09-19T19:00:09.538Z"
   },
   {
    "duration": 16,
    "start_time": "2024-09-19T19:00:15.516Z"
   },
   {
    "duration": 18,
    "start_time": "2024-09-19T19:00:19.595Z"
   },
   {
    "duration": 539,
    "start_time": "2024-09-19T19:00:27.633Z"
   },
   {
    "duration": 1163,
    "start_time": "2024-09-19T19:00:28.174Z"
   },
   {
    "duration": 12,
    "start_time": "2024-09-19T19:00:29.339Z"
   },
   {
    "duration": 12,
    "start_time": "2024-09-19T19:00:29.352Z"
   },
   {
    "duration": 10,
    "start_time": "2024-09-19T19:00:29.369Z"
   },
   {
    "duration": 30,
    "start_time": "2024-09-19T19:00:29.381Z"
   },
   {
    "duration": 25,
    "start_time": "2024-09-19T19:00:29.413Z"
   },
   {
    "duration": 206,
    "start_time": "2024-09-19T19:00:29.439Z"
   },
   {
    "duration": 8,
    "start_time": "2024-09-19T19:00:29.647Z"
   },
   {
    "duration": 123,
    "start_time": "2024-09-19T19:00:29.657Z"
   },
   {
    "duration": 108,
    "start_time": "2024-09-19T19:00:29.782Z"
   },
   {
    "duration": 67,
    "start_time": "2024-09-19T19:00:29.892Z"
   },
   {
    "duration": 31,
    "start_time": "2024-09-19T19:00:29.961Z"
   },
   {
    "duration": 6,
    "start_time": "2024-09-19T19:00:30.008Z"
   },
   {
    "duration": 38,
    "start_time": "2024-09-19T19:00:30.016Z"
   },
   {
    "duration": 19,
    "start_time": "2024-09-19T19:00:30.056Z"
   },
   {
    "duration": 33,
    "start_time": "2024-09-19T19:00:30.077Z"
   },
   {
    "duration": 4,
    "start_time": "2024-09-19T19:00:30.112Z"
   },
   {
    "duration": 12,
    "start_time": "2024-09-19T19:00:30.117Z"
   },
   {
    "duration": 5,
    "start_time": "2024-09-19T19:00:30.132Z"
   },
   {
    "duration": 931,
    "start_time": "2024-09-19T19:00:30.139Z"
   },
   {
    "duration": 213,
    "start_time": "2024-09-19T19:00:31.072Z"
   },
   {
    "duration": 7,
    "start_time": "2024-09-19T19:00:31.287Z"
   },
   {
    "duration": 23,
    "start_time": "2024-09-19T19:00:31.296Z"
   },
   {
    "duration": 9,
    "start_time": "2024-09-19T19:00:31.321Z"
   },
   {
    "duration": 5,
    "start_time": "2024-09-19T19:00:31.332Z"
   },
   {
    "duration": 10,
    "start_time": "2024-09-19T19:00:31.338Z"
   },
   {
    "duration": 10,
    "start_time": "2024-09-19T19:00:31.350Z"
   },
   {
    "duration": 8,
    "start_time": "2024-09-19T19:00:31.362Z"
   },
   {
    "duration": 59,
    "start_time": "2024-09-19T19:00:31.372Z"
   },
   {
    "duration": 44,
    "start_time": "2024-09-19T19:00:31.433Z"
   },
   {
    "duration": 55,
    "start_time": "2024-09-19T19:00:31.480Z"
   },
   {
    "duration": 14,
    "start_time": "2024-09-19T19:00:31.537Z"
   },
   {
    "duration": 56,
    "start_time": "2024-09-19T19:00:31.553Z"
   },
   {
    "duration": 5,
    "start_time": "2024-09-19T19:00:31.611Z"
   },
   {
    "duration": 4,
    "start_time": "2024-09-19T19:00:31.618Z"
   },
   {
    "duration": 188,
    "start_time": "2024-09-19T19:00:31.624Z"
   },
   {
    "duration": 151,
    "start_time": "2024-09-19T19:00:31.814Z"
   },
   {
    "duration": 150,
    "start_time": "2024-09-19T19:00:31.967Z"
   },
   {
    "duration": 10,
    "start_time": "2024-09-19T19:00:32.118Z"
   },
   {
    "duration": 5,
    "start_time": "2024-09-19T19:00:32.134Z"
   },
   {
    "duration": 5,
    "start_time": "2024-09-19T19:00:32.143Z"
   },
   {
    "duration": 263,
    "start_time": "2024-09-19T19:00:32.150Z"
   },
   {
    "duration": 4,
    "start_time": "2024-09-19T19:00:32.415Z"
   },
   {
    "duration": 148,
    "start_time": "2024-09-19T19:00:32.422Z"
   },
   {
    "duration": 729,
    "start_time": "2024-09-19T19:00:32.573Z"
   },
   {
    "duration": 464,
    "start_time": "2024-09-19T19:00:33.303Z"
   },
   {
    "duration": 241,
    "start_time": "2024-09-19T19:00:33.769Z"
   },
   {
    "duration": 286,
    "start_time": "2024-09-19T19:00:34.012Z"
   },
   {
    "duration": 3,
    "start_time": "2024-09-19T19:00:34.300Z"
   },
   {
    "duration": 150,
    "start_time": "2024-09-19T19:00:34.309Z"
   },
   {
    "duration": 583,
    "start_time": "2024-09-19T19:00:34.461Z"
   },
   {
    "duration": 443,
    "start_time": "2024-09-19T19:00:35.045Z"
   },
   {
    "duration": 7,
    "start_time": "2024-09-19T19:00:35.489Z"
   },
   {
    "duration": 256,
    "start_time": "2024-09-19T19:00:35.498Z"
   },
   {
    "duration": 279,
    "start_time": "2024-09-19T19:00:35.756Z"
   },
   {
    "duration": 83,
    "start_time": "2024-09-19T19:00:59.715Z"
   },
   {
    "duration": 31,
    "start_time": "2024-09-19T19:01:49.953Z"
   },
   {
    "duration": 596,
    "start_time": "2024-09-19T19:02:01.981Z"
   },
   {
    "duration": 448,
    "start_time": "2024-09-19T19:02:48.733Z"
   },
   {
    "duration": 495,
    "start_time": "2024-09-19T19:05:58.910Z"
   },
   {
    "duration": 949,
    "start_time": "2024-09-19T19:05:59.410Z"
   },
   {
    "duration": 14,
    "start_time": "2024-09-19T19:06:00.361Z"
   },
   {
    "duration": 12,
    "start_time": "2024-09-19T19:06:00.379Z"
   },
   {
    "duration": 22,
    "start_time": "2024-09-19T19:06:00.395Z"
   },
   {
    "duration": 8,
    "start_time": "2024-09-19T19:06:00.419Z"
   },
   {
    "duration": 23,
    "start_time": "2024-09-19T19:06:00.429Z"
   },
   {
    "duration": 206,
    "start_time": "2024-09-19T19:06:00.455Z"
   },
   {
    "duration": 9,
    "start_time": "2024-09-19T19:06:00.663Z"
   },
   {
    "duration": 110,
    "start_time": "2024-09-19T19:06:00.676Z"
   },
   {
    "duration": 99,
    "start_time": "2024-09-19T19:06:00.788Z"
   },
   {
    "duration": 70,
    "start_time": "2024-09-19T19:06:00.889Z"
   },
   {
    "duration": 30,
    "start_time": "2024-09-19T19:06:00.961Z"
   },
   {
    "duration": 18,
    "start_time": "2024-09-19T19:06:00.994Z"
   },
   {
    "duration": 39,
    "start_time": "2024-09-19T19:06:01.014Z"
   },
   {
    "duration": 17,
    "start_time": "2024-09-19T19:06:01.058Z"
   },
   {
    "duration": 12,
    "start_time": "2024-09-19T19:06:01.076Z"
   },
   {
    "duration": 4,
    "start_time": "2024-09-19T19:06:01.110Z"
   },
   {
    "duration": 14,
    "start_time": "2024-09-19T19:06:01.116Z"
   },
   {
    "duration": 3,
    "start_time": "2024-09-19T19:06:01.133Z"
   },
   {
    "duration": 830,
    "start_time": "2024-09-19T19:06:01.138Z"
   },
   {
    "duration": 139,
    "start_time": "2024-09-19T19:06:01.970Z"
   },
   {
    "duration": 4,
    "start_time": "2024-09-19T19:06:02.112Z"
   },
   {
    "duration": 11,
    "start_time": "2024-09-19T19:06:02.118Z"
   },
   {
    "duration": 11,
    "start_time": "2024-09-19T19:06:02.131Z"
   },
   {
    "duration": 6,
    "start_time": "2024-09-19T19:06:02.144Z"
   },
   {
    "duration": 10,
    "start_time": "2024-09-19T19:06:02.153Z"
   },
   {
    "duration": 43,
    "start_time": "2024-09-19T19:06:02.170Z"
   },
   {
    "duration": 4,
    "start_time": "2024-09-19T19:06:02.216Z"
   },
   {
    "duration": 36,
    "start_time": "2024-09-19T19:06:02.222Z"
   },
   {
    "duration": 65,
    "start_time": "2024-09-19T19:06:02.260Z"
   },
   {
    "duration": 32,
    "start_time": "2024-09-19T19:06:02.327Z"
   },
   {
    "duration": 10,
    "start_time": "2024-09-19T19:06:02.361Z"
   },
   {
    "duration": 73,
    "start_time": "2024-09-19T19:06:02.372Z"
   },
   {
    "duration": 5,
    "start_time": "2024-09-19T19:06:02.447Z"
   },
   {
    "duration": 7,
    "start_time": "2024-09-19T19:06:02.454Z"
   },
   {
    "duration": 181,
    "start_time": "2024-09-19T19:06:02.463Z"
   },
   {
    "duration": 170,
    "start_time": "2024-09-19T19:06:02.646Z"
   },
   {
    "duration": 160,
    "start_time": "2024-09-19T19:06:02.818Z"
   },
   {
    "duration": 9,
    "start_time": "2024-09-19T19:06:02.980Z"
   },
   {
    "duration": 18,
    "start_time": "2024-09-19T19:06:02.991Z"
   },
   {
    "duration": 3,
    "start_time": "2024-09-19T19:06:03.011Z"
   },
   {
    "duration": 229,
    "start_time": "2024-09-19T19:06:03.016Z"
   },
   {
    "duration": 6,
    "start_time": "2024-09-19T19:06:03.248Z"
   },
   {
    "duration": 152,
    "start_time": "2024-09-19T19:06:03.260Z"
   },
   {
    "duration": 724,
    "start_time": "2024-09-19T19:06:03.414Z"
   },
   {
    "duration": 469,
    "start_time": "2024-09-19T19:06:04.140Z"
   },
   {
    "duration": 259,
    "start_time": "2024-09-19T19:06:04.611Z"
   },
   {
    "duration": 292,
    "start_time": "2024-09-19T19:06:04.872Z"
   },
   {
    "duration": 4,
    "start_time": "2024-09-19T19:06:05.166Z"
   },
   {
    "duration": 173,
    "start_time": "2024-09-19T19:06:05.172Z"
   },
   {
    "duration": 639,
    "start_time": "2024-09-19T19:06:05.347Z"
   },
   {
    "duration": 484,
    "start_time": "2024-09-19T19:06:05.988Z"
   },
   {
    "duration": 8,
    "start_time": "2024-09-19T19:06:06.474Z"
   },
   {
    "duration": 252,
    "start_time": "2024-09-19T19:06:06.485Z"
   },
   {
    "duration": 633,
    "start_time": "2024-09-19T19:06:06.739Z"
   },
   {
    "duration": 513,
    "start_time": "2024-09-19T19:06:27.431Z"
   },
   {
    "duration": 493,
    "start_time": "2024-09-19T19:13:06.091Z"
   },
   {
    "duration": 113,
    "start_time": "2024-09-19T19:14:02.672Z"
   },
   {
    "duration": 25,
    "start_time": "2024-09-19T19:14:31.086Z"
   },
   {
    "duration": 428,
    "start_time": "2024-09-19T19:15:52.482Z"
   },
   {
    "duration": 947,
    "start_time": "2024-09-19T19:15:52.913Z"
   },
   {
    "duration": 12,
    "start_time": "2024-09-19T19:15:53.862Z"
   },
   {
    "duration": 10,
    "start_time": "2024-09-19T19:15:53.876Z"
   },
   {
    "duration": 23,
    "start_time": "2024-09-19T19:15:53.890Z"
   },
   {
    "duration": 9,
    "start_time": "2024-09-19T19:15:53.915Z"
   },
   {
    "duration": 27,
    "start_time": "2024-09-19T19:15:53.925Z"
   },
   {
    "duration": 212,
    "start_time": "2024-09-19T19:15:53.953Z"
   },
   {
    "duration": 9,
    "start_time": "2024-09-19T19:15:54.169Z"
   },
   {
    "duration": 111,
    "start_time": "2024-09-19T19:15:54.180Z"
   },
   {
    "duration": 96,
    "start_time": "2024-09-19T19:15:54.293Z"
   },
   {
    "duration": 60,
    "start_time": "2024-09-19T19:15:54.391Z"
   },
   {
    "duration": 36,
    "start_time": "2024-09-19T19:15:54.453Z"
   },
   {
    "duration": 16,
    "start_time": "2024-09-19T19:15:54.494Z"
   },
   {
    "duration": 33,
    "start_time": "2024-09-19T19:15:54.513Z"
   },
   {
    "duration": 13,
    "start_time": "2024-09-19T19:15:54.548Z"
   },
   {
    "duration": 12,
    "start_time": "2024-09-19T19:15:54.563Z"
   },
   {
    "duration": 4,
    "start_time": "2024-09-19T19:15:54.577Z"
   },
   {
    "duration": 11,
    "start_time": "2024-09-19T19:15:54.610Z"
   },
   {
    "duration": 5,
    "start_time": "2024-09-19T19:15:54.624Z"
   },
   {
    "duration": 900,
    "start_time": "2024-09-19T19:15:54.630Z"
   },
   {
    "duration": 170,
    "start_time": "2024-09-19T19:15:55.532Z"
   },
   {
    "duration": 7,
    "start_time": "2024-09-19T19:15:55.705Z"
   },
   {
    "duration": 10,
    "start_time": "2024-09-19T19:15:55.715Z"
   },
   {
    "duration": 10,
    "start_time": "2024-09-19T19:15:55.727Z"
   },
   {
    "duration": 5,
    "start_time": "2024-09-19T19:15:55.738Z"
   },
   {
    "duration": 9,
    "start_time": "2024-09-19T19:15:55.744Z"
   },
   {
    "duration": 10,
    "start_time": "2024-09-19T19:15:55.755Z"
   },
   {
    "duration": 4,
    "start_time": "2024-09-19T19:15:55.767Z"
   },
   {
    "duration": 30,
    "start_time": "2024-09-19T19:15:55.811Z"
   },
   {
    "duration": 31,
    "start_time": "2024-09-19T19:15:55.844Z"
   },
   {
    "duration": 56,
    "start_time": "2024-09-19T19:15:55.876Z"
   },
   {
    "duration": 9,
    "start_time": "2024-09-19T19:15:55.934Z"
   },
   {
    "duration": 49,
    "start_time": "2024-09-19T19:15:55.945Z"
   },
   {
    "duration": 5,
    "start_time": "2024-09-19T19:15:56.010Z"
   },
   {
    "duration": 4,
    "start_time": "2024-09-19T19:15:56.017Z"
   },
   {
    "duration": 186,
    "start_time": "2024-09-19T19:15:56.023Z"
   },
   {
    "duration": 141,
    "start_time": "2024-09-19T19:15:56.211Z"
   },
   {
    "duration": 145,
    "start_time": "2024-09-19T19:15:56.354Z"
   },
   {
    "duration": 15,
    "start_time": "2024-09-19T19:15:56.501Z"
   },
   {
    "duration": 5,
    "start_time": "2024-09-19T19:15:56.521Z"
   },
   {
    "duration": 3,
    "start_time": "2024-09-19T19:15:56.528Z"
   },
   {
    "duration": 259,
    "start_time": "2024-09-19T19:15:56.534Z"
   },
   {
    "duration": 4,
    "start_time": "2024-09-19T19:15:56.795Z"
   },
   {
    "duration": 140,
    "start_time": "2024-09-19T19:15:56.801Z"
   },
   {
    "duration": 763,
    "start_time": "2024-09-19T19:15:56.943Z"
   },
   {
    "duration": 496,
    "start_time": "2024-09-19T19:15:57.709Z"
   },
   {
    "duration": 243,
    "start_time": "2024-09-19T19:15:58.206Z"
   },
   {
    "duration": 288,
    "start_time": "2024-09-19T19:15:58.452Z"
   },
   {
    "duration": 3,
    "start_time": "2024-09-19T19:15:58.742Z"
   },
   {
    "duration": 162,
    "start_time": "2024-09-19T19:15:58.747Z"
   },
   {
    "duration": 599,
    "start_time": "2024-09-19T19:15:58.911Z"
   },
   {
    "duration": 464,
    "start_time": "2024-09-19T19:15:59.512Z"
   },
   {
    "duration": 7,
    "start_time": "2024-09-19T19:15:59.979Z"
   },
   {
    "duration": 225,
    "start_time": "2024-09-19T19:15:59.988Z"
   },
   {
    "duration": 3,
    "start_time": "2024-09-19T19:16:00.215Z"
   },
   {
    "duration": 100,
    "start_time": "2024-09-19T19:19:35.154Z"
   },
   {
    "duration": 183,
    "start_time": "2024-09-19T19:20:25.314Z"
   },
   {
    "duration": 19,
    "start_time": "2024-09-19T19:20:29.736Z"
   },
   {
    "duration": 23,
    "start_time": "2024-09-19T19:22:43.205Z"
   },
   {
    "duration": 21,
    "start_time": "2024-09-19T19:22:52.967Z"
   },
   {
    "duration": 583,
    "start_time": "2024-09-19T19:23:18.601Z"
   },
   {
    "duration": 572,
    "start_time": "2024-09-19T19:23:33.251Z"
   },
   {
    "duration": 606,
    "start_time": "2024-09-19T19:23:45.966Z"
   },
   {
    "duration": 729,
    "start_time": "2024-09-19T19:23:56.291Z"
   },
   {
    "duration": 729,
    "start_time": "2024-09-19T19:24:17.759Z"
   },
   {
    "duration": 742,
    "start_time": "2024-09-19T19:24:23.167Z"
   },
   {
    "duration": 476,
    "start_time": "2024-09-19T19:29:49.662Z"
   },
   {
    "duration": 77,
    "start_time": "2024-09-19T19:40:49.298Z"
   },
   {
    "duration": 725,
    "start_time": "2024-09-19T19:40:57.821Z"
   },
   {
    "duration": 476,
    "start_time": "2024-09-19T19:41:00.195Z"
   },
   {
    "duration": 237,
    "start_time": "2024-09-19T19:41:34.564Z"
   },
   {
    "duration": 705,
    "start_time": "2024-09-19T19:41:41.729Z"
   },
   {
    "duration": 497,
    "start_time": "2024-09-19T19:41:43.243Z"
   },
   {
    "duration": 719,
    "start_time": "2024-09-19T19:43:12.032Z"
   },
   {
    "duration": 756,
    "start_time": "2024-09-19T19:43:26.685Z"
   },
   {
    "duration": 548,
    "start_time": "2024-09-19T19:43:37.671Z"
   },
   {
    "duration": 45,
    "start_time": "2024-09-19T19:43:59.236Z"
   },
   {
    "duration": 709,
    "start_time": "2024-09-19T19:44:09.982Z"
   },
   {
    "duration": 513,
    "start_time": "2024-09-19T19:44:11.468Z"
   },
   {
    "duration": 731,
    "start_time": "2024-09-19T19:45:17.688Z"
   },
   {
    "duration": 958,
    "start_time": "2024-09-19T19:45:19.643Z"
   },
   {
    "duration": 5,
    "start_time": "2024-09-19T19:45:59.963Z"
   },
   {
    "duration": 74,
    "start_time": "2024-09-19T19:46:03.862Z"
   },
   {
    "duration": 69,
    "start_time": "2024-09-19T19:47:05.387Z"
   },
   {
    "duration": 2183,
    "start_time": "2024-09-19T21:42:03.766Z"
   },
   {
    "duration": 1046,
    "start_time": "2024-09-19T21:42:05.952Z"
   },
   {
    "duration": 11,
    "start_time": "2024-09-19T21:42:06.999Z"
   },
   {
    "duration": 21,
    "start_time": "2024-09-19T21:42:07.012Z"
   },
   {
    "duration": 7,
    "start_time": "2024-09-19T21:42:07.035Z"
   },
   {
    "duration": 7,
    "start_time": "2024-09-19T21:42:07.044Z"
   },
   {
    "duration": 22,
    "start_time": "2024-09-19T21:42:07.053Z"
   },
   {
    "duration": 202,
    "start_time": "2024-09-19T21:42:07.077Z"
   },
   {
    "duration": 7,
    "start_time": "2024-09-19T21:42:07.281Z"
   },
   {
    "duration": 112,
    "start_time": "2024-09-19T21:42:07.291Z"
   },
   {
    "duration": 89,
    "start_time": "2024-09-19T21:42:07.404Z"
   },
   {
    "duration": 60,
    "start_time": "2024-09-19T21:42:07.494Z"
   },
   {
    "duration": 25,
    "start_time": "2024-09-19T21:42:07.555Z"
   },
   {
    "duration": 5,
    "start_time": "2024-09-19T21:42:07.581Z"
   },
   {
    "duration": 44,
    "start_time": "2024-09-19T21:42:07.588Z"
   },
   {
    "duration": 9,
    "start_time": "2024-09-19T21:42:07.634Z"
   },
   {
    "duration": 19,
    "start_time": "2024-09-19T21:42:07.645Z"
   },
   {
    "duration": 4,
    "start_time": "2024-09-19T21:42:07.672Z"
   },
   {
    "duration": 8,
    "start_time": "2024-09-19T21:42:07.677Z"
   },
   {
    "duration": 3,
    "start_time": "2024-09-19T21:42:07.687Z"
   },
   {
    "duration": 804,
    "start_time": "2024-09-19T21:42:07.692Z"
   },
   {
    "duration": 105,
    "start_time": "2024-09-19T21:42:08.498Z"
   },
   {
    "duration": 5,
    "start_time": "2024-09-19T21:42:08.605Z"
   },
   {
    "duration": 23,
    "start_time": "2024-09-19T21:42:08.612Z"
   },
   {
    "duration": 8,
    "start_time": "2024-09-19T21:42:08.637Z"
   },
   {
    "duration": 4,
    "start_time": "2024-09-19T21:42:08.647Z"
   },
   {
    "duration": 9,
    "start_time": "2024-09-19T21:42:08.653Z"
   },
   {
    "duration": 9,
    "start_time": "2024-09-19T21:42:08.666Z"
   },
   {
    "duration": 3,
    "start_time": "2024-09-19T21:42:08.677Z"
   },
   {
    "duration": 61,
    "start_time": "2024-09-19T21:42:08.681Z"
   },
   {
    "duration": 30,
    "start_time": "2024-09-19T21:42:08.744Z"
   },
   {
    "duration": 26,
    "start_time": "2024-09-19T21:42:08.776Z"
   },
   {
    "duration": 28,
    "start_time": "2024-09-19T21:42:08.805Z"
   },
   {
    "duration": 37,
    "start_time": "2024-09-19T21:42:08.835Z"
   },
   {
    "duration": 4,
    "start_time": "2024-09-19T21:42:08.874Z"
   },
   {
    "duration": 3,
    "start_time": "2024-09-19T21:42:08.879Z"
   },
   {
    "duration": 184,
    "start_time": "2024-09-19T21:42:08.884Z"
   },
   {
    "duration": 142,
    "start_time": "2024-09-19T21:42:09.070Z"
   },
   {
    "duration": 153,
    "start_time": "2024-09-19T21:42:09.214Z"
   },
   {
    "duration": 9,
    "start_time": "2024-09-19T21:42:09.369Z"
   },
   {
    "duration": 5,
    "start_time": "2024-09-19T21:42:09.380Z"
   },
   {
    "duration": 3,
    "start_time": "2024-09-19T21:42:09.387Z"
   },
   {
    "duration": 267,
    "start_time": "2024-09-19T21:42:09.392Z"
   },
   {
    "duration": 4,
    "start_time": "2024-09-19T21:42:09.661Z"
   },
   {
    "duration": 136,
    "start_time": "2024-09-19T21:42:09.667Z"
   },
   {
    "duration": 719,
    "start_time": "2024-09-19T21:42:09.805Z"
   },
   {
    "duration": 439,
    "start_time": "2024-09-19T21:42:10.526Z"
   },
   {
    "duration": 222,
    "start_time": "2024-09-19T21:42:10.966Z"
   },
   {
    "duration": 250,
    "start_time": "2024-09-19T21:42:11.190Z"
   },
   {
    "duration": 3,
    "start_time": "2024-09-19T21:42:11.441Z"
   },
   {
    "duration": 147,
    "start_time": "2024-09-19T21:42:11.446Z"
   },
   {
    "duration": 561,
    "start_time": "2024-09-19T21:42:11.595Z"
   },
   {
    "duration": 430,
    "start_time": "2024-09-19T21:42:12.158Z"
   },
   {
    "duration": 5,
    "start_time": "2024-09-19T21:42:12.590Z"
   },
   {
    "duration": 213,
    "start_time": "2024-09-19T21:42:12.597Z"
   },
   {
    "duration": 688,
    "start_time": "2024-09-19T21:42:12.812Z"
   },
   {
    "duration": 518,
    "start_time": "2024-09-19T21:42:13.502Z"
   },
   {
    "duration": 4,
    "start_time": "2024-09-19T21:43:25.268Z"
   },
   {
    "duration": 8,
    "start_time": "2024-09-19T21:43:42.268Z"
   },
   {
    "duration": 7,
    "start_time": "2024-09-19T21:44:04.880Z"
   },
   {
    "duration": 649,
    "start_time": "2024-09-19T21:46:52.154Z"
   },
   {
    "duration": 51,
    "start_time": "2024-09-19T21:47:45.453Z"
   },
   {
    "duration": 448,
    "start_time": "2024-09-19T21:49:17.331Z"
   },
   {
    "duration": 932,
    "start_time": "2024-09-19T21:49:17.782Z"
   },
   {
    "duration": 17,
    "start_time": "2024-09-19T21:49:18.715Z"
   },
   {
    "duration": 9,
    "start_time": "2024-09-19T21:49:18.733Z"
   },
   {
    "duration": 7,
    "start_time": "2024-09-19T21:49:18.744Z"
   },
   {
    "duration": 7,
    "start_time": "2024-09-19T21:49:18.753Z"
   },
   {
    "duration": 23,
    "start_time": "2024-09-19T21:49:18.762Z"
   },
   {
    "duration": 185,
    "start_time": "2024-09-19T21:49:18.787Z"
   },
   {
    "duration": 8,
    "start_time": "2024-09-19T21:49:18.974Z"
   },
   {
    "duration": 105,
    "start_time": "2024-09-19T21:49:18.984Z"
   },
   {
    "duration": 84,
    "start_time": "2024-09-19T21:49:19.090Z"
   },
   {
    "duration": 62,
    "start_time": "2024-09-19T21:49:19.176Z"
   },
   {
    "duration": 27,
    "start_time": "2024-09-19T21:49:19.239Z"
   },
   {
    "duration": 5,
    "start_time": "2024-09-19T21:49:19.271Z"
   },
   {
    "duration": 54,
    "start_time": "2024-09-19T21:49:19.277Z"
   },
   {
    "duration": 10,
    "start_time": "2024-09-19T21:49:19.333Z"
   },
   {
    "duration": 8,
    "start_time": "2024-09-19T21:49:19.345Z"
   },
   {
    "duration": 4,
    "start_time": "2024-09-19T21:49:19.354Z"
   },
   {
    "duration": 9,
    "start_time": "2024-09-19T21:49:19.360Z"
   },
   {
    "duration": 3,
    "start_time": "2024-09-19T21:49:19.370Z"
   },
   {
    "duration": 785,
    "start_time": "2024-09-19T21:49:19.375Z"
   },
   {
    "duration": 114,
    "start_time": "2024-09-19T21:49:20.163Z"
   },
   {
    "duration": 5,
    "start_time": "2024-09-19T21:49:20.278Z"
   },
   {
    "duration": 8,
    "start_time": "2024-09-19T21:49:20.285Z"
   },
   {
    "duration": 8,
    "start_time": "2024-09-19T21:49:20.294Z"
   },
   {
    "duration": 28,
    "start_time": "2024-09-19T21:49:20.304Z"
   },
   {
    "duration": 9,
    "start_time": "2024-09-19T21:49:20.335Z"
   },
   {
    "duration": 10,
    "start_time": "2024-09-19T21:49:20.346Z"
   },
   {
    "duration": 4,
    "start_time": "2024-09-19T21:49:20.358Z"
   },
   {
    "duration": 27,
    "start_time": "2024-09-19T21:49:20.364Z"
   },
   {
    "duration": 58,
    "start_time": "2024-09-19T21:49:20.393Z"
   },
   {
    "duration": 27,
    "start_time": "2024-09-19T21:49:20.453Z"
   },
   {
    "duration": 8,
    "start_time": "2024-09-19T21:49:20.482Z"
   },
   {
    "duration": 63,
    "start_time": "2024-09-19T21:49:20.492Z"
   },
   {
    "duration": 4,
    "start_time": "2024-09-19T21:49:20.557Z"
   },
   {
    "duration": 4,
    "start_time": "2024-09-19T21:49:20.563Z"
   },
   {
    "duration": 177,
    "start_time": "2024-09-19T21:49:20.568Z"
   },
   {
    "duration": 142,
    "start_time": "2024-09-19T21:49:20.747Z"
   },
   {
    "duration": 141,
    "start_time": "2024-09-19T21:49:20.891Z"
   },
   {
    "duration": 9,
    "start_time": "2024-09-19T21:49:21.034Z"
   },
   {
    "duration": 4,
    "start_time": "2024-09-19T21:49:21.047Z"
   },
   {
    "duration": 3,
    "start_time": "2024-09-19T21:49:21.053Z"
   },
   {
    "duration": 237,
    "start_time": "2024-09-19T21:49:21.058Z"
   },
   {
    "duration": 3,
    "start_time": "2024-09-19T21:49:21.297Z"
   },
   {
    "duration": 145,
    "start_time": "2024-09-19T21:49:21.302Z"
   },
   {
    "duration": 710,
    "start_time": "2024-09-19T21:49:21.450Z"
   },
   {
    "duration": 459,
    "start_time": "2024-09-19T21:49:22.161Z"
   },
   {
    "duration": 221,
    "start_time": "2024-09-19T21:49:22.622Z"
   },
   {
    "duration": 234,
    "start_time": "2024-09-19T21:49:22.845Z"
   },
   {
    "duration": 3,
    "start_time": "2024-09-19T21:49:23.081Z"
   },
   {
    "duration": 141,
    "start_time": "2024-09-19T21:49:23.086Z"
   },
   {
    "duration": 560,
    "start_time": "2024-09-19T21:49:23.232Z"
   },
   {
    "duration": 429,
    "start_time": "2024-09-19T21:49:23.795Z"
   },
   {
    "duration": 10,
    "start_time": "2024-09-19T21:49:24.225Z"
   },
   {
    "duration": 201,
    "start_time": "2024-09-19T21:49:24.237Z"
   },
   {
    "duration": 671,
    "start_time": "2024-09-19T21:49:24.440Z"
   },
   {
    "duration": 510,
    "start_time": "2024-09-19T21:49:25.113Z"
   },
   {
    "duration": 0,
    "start_time": "2024-09-19T21:51:34.143Z"
   },
   {
    "duration": 84,
    "start_time": "2024-09-19T21:51:37.714Z"
   },
   {
    "duration": 103,
    "start_time": "2024-09-19T21:51:38.741Z"
   },
   {
    "duration": 84,
    "start_time": "2024-09-19T21:51:57.742Z"
   },
   {
    "duration": 20519,
    "start_time": "2024-09-19T21:51:58.613Z"
   },
   {
    "duration": 0,
    "start_time": "2024-09-19T21:53:23.395Z"
   },
   {
    "duration": 894,
    "start_time": "2024-09-19T21:53:30.475Z"
   },
   {
    "duration": 13,
    "start_time": "2024-09-19T21:54:02.882Z"
   },
   {
    "duration": 93,
    "start_time": "2024-09-19T21:54:08.677Z"
   },
   {
    "duration": 98,
    "start_time": "2024-09-19T21:54:18.437Z"
   },
   {
    "duration": 2,
    "start_time": "2024-09-19T21:54:25.820Z"
   },
   {
    "duration": 3,
    "start_time": "2024-09-19T21:54:31.537Z"
   },
   {
    "duration": 102,
    "start_time": "2024-09-19T21:54:38.135Z"
   },
   {
    "duration": 105,
    "start_time": "2024-09-19T21:55:00.427Z"
   },
   {
    "duration": 60,
    "start_time": "2024-09-19T21:55:26.818Z"
   },
   {
    "duration": 112,
    "start_time": "2024-09-19T21:55:27.661Z"
   },
   {
    "duration": 66,
    "start_time": "2024-09-19T21:56:22.803Z"
   },
   {
    "duration": 457,
    "start_time": "2024-09-19T21:57:11.982Z"
   },
   {
    "duration": 966,
    "start_time": "2024-09-19T21:57:12.442Z"
   },
   {
    "duration": 12,
    "start_time": "2024-09-19T21:57:13.411Z"
   },
   {
    "duration": 16,
    "start_time": "2024-09-19T21:57:13.424Z"
   },
   {
    "duration": 8,
    "start_time": "2024-09-19T21:57:13.442Z"
   },
   {
    "duration": 8,
    "start_time": "2024-09-19T21:57:13.452Z"
   },
   {
    "duration": 24,
    "start_time": "2024-09-19T21:57:13.462Z"
   },
   {
    "duration": 226,
    "start_time": "2024-09-19T21:57:13.488Z"
   },
   {
    "duration": 17,
    "start_time": "2024-09-19T21:57:13.716Z"
   },
   {
    "duration": 115,
    "start_time": "2024-09-19T21:57:13.735Z"
   },
   {
    "duration": 101,
    "start_time": "2024-09-19T21:57:13.851Z"
   },
   {
    "duration": 57,
    "start_time": "2024-09-19T21:57:13.954Z"
   },
   {
    "duration": 41,
    "start_time": "2024-09-19T21:57:14.013Z"
   },
   {
    "duration": 5,
    "start_time": "2024-09-19T21:57:14.058Z"
   },
   {
    "duration": 32,
    "start_time": "2024-09-19T21:57:14.065Z"
   },
   {
    "duration": 33,
    "start_time": "2024-09-19T21:57:14.100Z"
   },
   {
    "duration": 9,
    "start_time": "2024-09-19T21:57:14.136Z"
   },
   {
    "duration": 4,
    "start_time": "2024-09-19T21:57:14.147Z"
   },
   {
    "duration": 8,
    "start_time": "2024-09-19T21:57:14.153Z"
   },
   {
    "duration": 5,
    "start_time": "2024-09-19T21:57:14.163Z"
   },
   {
    "duration": 902,
    "start_time": "2024-09-19T21:57:14.170Z"
   },
   {
    "duration": 161,
    "start_time": "2024-09-19T21:57:15.075Z"
   },
   {
    "duration": 4,
    "start_time": "2024-09-19T21:57:15.238Z"
   },
   {
    "duration": 9,
    "start_time": "2024-09-19T21:57:15.244Z"
   },
   {
    "duration": 8,
    "start_time": "2024-09-19T21:57:15.255Z"
   },
   {
    "duration": 5,
    "start_time": "2024-09-19T21:57:15.264Z"
   },
   {
    "duration": 8,
    "start_time": "2024-09-19T21:57:15.271Z"
   },
   {
    "duration": 9,
    "start_time": "2024-09-19T21:57:15.281Z"
   },
   {
    "duration": 41,
    "start_time": "2024-09-19T21:57:15.292Z"
   },
   {
    "duration": 26,
    "start_time": "2024-09-19T21:57:15.335Z"
   },
   {
    "duration": 33,
    "start_time": "2024-09-19T21:57:15.362Z"
   },
   {
    "duration": 52,
    "start_time": "2024-09-19T21:57:15.397Z"
   },
   {
    "duration": 10,
    "start_time": "2024-09-19T21:57:15.450Z"
   },
   {
    "duration": 50,
    "start_time": "2024-09-19T21:57:15.461Z"
   },
   {
    "duration": 5,
    "start_time": "2024-09-19T21:57:15.531Z"
   },
   {
    "duration": 5,
    "start_time": "2024-09-19T21:57:15.538Z"
   },
   {
    "duration": 198,
    "start_time": "2024-09-19T21:57:15.546Z"
   },
   {
    "duration": 148,
    "start_time": "2024-09-19T21:57:15.746Z"
   },
   {
    "duration": 145,
    "start_time": "2024-09-19T21:57:15.896Z"
   },
   {
    "duration": 10,
    "start_time": "2024-09-19T21:57:16.043Z"
   },
   {
    "duration": 4,
    "start_time": "2024-09-19T21:57:16.057Z"
   },
   {
    "duration": 3,
    "start_time": "2024-09-19T21:57:16.063Z"
   },
   {
    "duration": 243,
    "start_time": "2024-09-19T21:57:16.067Z"
   },
   {
    "duration": 4,
    "start_time": "2024-09-19T21:57:16.312Z"
   },
   {
    "duration": 144,
    "start_time": "2024-09-19T21:57:16.318Z"
   },
   {
    "duration": 719,
    "start_time": "2024-09-19T21:57:16.464Z"
   },
   {
    "duration": 454,
    "start_time": "2024-09-19T21:57:17.185Z"
   },
   {
    "duration": 238,
    "start_time": "2024-09-19T21:57:17.642Z"
   },
   {
    "duration": 305,
    "start_time": "2024-09-19T21:57:17.882Z"
   },
   {
    "duration": 3,
    "start_time": "2024-09-19T21:57:18.189Z"
   },
   {
    "duration": 154,
    "start_time": "2024-09-19T21:57:18.194Z"
   },
   {
    "duration": 583,
    "start_time": "2024-09-19T21:57:18.350Z"
   },
   {
    "duration": 442,
    "start_time": "2024-09-19T21:57:18.935Z"
   },
   {
    "duration": 6,
    "start_time": "2024-09-19T21:57:19.379Z"
   },
   {
    "duration": 218,
    "start_time": "2024-09-19T21:57:19.387Z"
   },
   {
    "duration": 725,
    "start_time": "2024-09-19T21:57:19.607Z"
   },
   {
    "duration": 531,
    "start_time": "2024-09-19T21:57:20.334Z"
   },
   {
    "duration": 7,
    "start_time": "2024-09-19T22:00:43.093Z"
   },
   {
    "duration": 2,
    "start_time": "2024-09-19T22:01:27.770Z"
   },
   {
    "duration": 134,
    "start_time": "2024-09-19T22:01:47.660Z"
   },
   {
    "duration": 172,
    "start_time": "2024-09-19T22:01:54.268Z"
   },
   {
    "duration": 155,
    "start_time": "2024-09-19T22:02:07.662Z"
   },
   {
    "duration": 93,
    "start_time": "2024-09-19T22:02:21.554Z"
   },
   {
    "duration": 111,
    "start_time": "2024-09-19T22:02:31.331Z"
   },
   {
    "duration": 105,
    "start_time": "2024-09-19T22:03:04.306Z"
   },
   {
    "duration": 186,
    "start_time": "2024-09-19T22:03:19.652Z"
   },
   {
    "duration": 510,
    "start_time": "2024-09-19T22:03:56.226Z"
   },
   {
    "duration": 219,
    "start_time": "2024-09-19T22:04:04.450Z"
   },
   {
    "duration": 220,
    "start_time": "2024-09-19T22:05:34.052Z"
   },
   {
    "duration": 13,
    "start_time": "2024-09-19T22:06:53.284Z"
   },
   {
    "duration": 0,
    "start_time": "2024-09-19T22:08:38.514Z"
   },
   {
    "duration": 297,
    "start_time": "2024-09-19T22:08:40.353Z"
   },
   {
    "duration": 296,
    "start_time": "2024-09-19T22:09:22.671Z"
   },
   {
    "duration": 618,
    "start_time": "2024-09-19T22:10:41.357Z"
   },
   {
    "duration": 293,
    "start_time": "2024-09-19T22:11:14.519Z"
   },
   {
    "duration": 780,
    "start_time": "2024-09-19T22:13:57.610Z"
   },
   {
    "duration": 498,
    "start_time": "2024-09-19T22:13:58.702Z"
   },
   {
    "duration": 321,
    "start_time": "2024-09-19T22:14:00.311Z"
   },
   {
    "duration": 15,
    "start_time": "2024-09-19T22:14:27.706Z"
   },
   {
    "duration": 5,
    "start_time": "2024-09-19T22:16:03.490Z"
   },
   {
    "duration": 5,
    "start_time": "2024-09-19T22:16:10.322Z"
   },
   {
    "duration": 14,
    "start_time": "2024-09-19T22:16:23.058Z"
   },
   {
    "duration": 203,
    "start_time": "2024-09-19T22:16:32.172Z"
   },
   {
    "duration": 206,
    "start_time": "2024-09-19T22:17:44.087Z"
   },
   {
    "duration": 243,
    "start_time": "2024-09-19T22:17:53.412Z"
   },
   {
    "duration": 16,
    "start_time": "2024-09-19T22:20:11.861Z"
   },
   {
    "duration": 565,
    "start_time": "2024-09-19T22:20:29.884Z"
   },
   {
    "duration": 2491,
    "start_time": "2024-09-19T22:20:58.707Z"
   },
   {
    "duration": 2501,
    "start_time": "2024-09-19T22:21:28.614Z"
   },
   {
    "duration": 156,
    "start_time": "2024-09-19T22:21:55.870Z"
   },
   {
    "duration": 451,
    "start_time": "2024-09-19T22:22:04.884Z"
   },
   {
    "duration": 1137,
    "start_time": "2024-09-19T22:22:05.337Z"
   },
   {
    "duration": 12,
    "start_time": "2024-09-19T22:22:06.476Z"
   },
   {
    "duration": 9,
    "start_time": "2024-09-19T22:22:06.490Z"
   },
   {
    "duration": 8,
    "start_time": "2024-09-19T22:22:06.502Z"
   },
   {
    "duration": 8,
    "start_time": "2024-09-19T22:22:06.531Z"
   },
   {
    "duration": 24,
    "start_time": "2024-09-19T22:22:06.542Z"
   },
   {
    "duration": 194,
    "start_time": "2024-09-19T22:22:06.568Z"
   },
   {
    "duration": 8,
    "start_time": "2024-09-19T22:22:06.764Z"
   },
   {
    "duration": 106,
    "start_time": "2024-09-19T22:22:06.774Z"
   },
   {
    "duration": 89,
    "start_time": "2024-09-19T22:22:06.881Z"
   },
   {
    "duration": 61,
    "start_time": "2024-09-19T22:22:06.971Z"
   },
   {
    "duration": 24,
    "start_time": "2024-09-19T22:22:07.034Z"
   },
   {
    "duration": 5,
    "start_time": "2024-09-19T22:22:07.062Z"
   },
   {
    "duration": 27,
    "start_time": "2024-09-19T22:22:07.069Z"
   },
   {
    "duration": 33,
    "start_time": "2024-09-19T22:22:07.098Z"
   },
   {
    "duration": 9,
    "start_time": "2024-09-19T22:22:07.133Z"
   },
   {
    "duration": 3,
    "start_time": "2024-09-19T22:22:07.144Z"
   },
   {
    "duration": 8,
    "start_time": "2024-09-19T22:22:07.149Z"
   },
   {
    "duration": 3,
    "start_time": "2024-09-19T22:22:07.159Z"
   },
   {
    "duration": 808,
    "start_time": "2024-09-19T22:22:07.164Z"
   },
   {
    "duration": 124,
    "start_time": "2024-09-19T22:22:07.974Z"
   },
   {
    "duration": 5,
    "start_time": "2024-09-19T22:22:08.101Z"
   },
   {
    "duration": 8,
    "start_time": "2024-09-19T22:22:08.108Z"
   },
   {
    "duration": 22,
    "start_time": "2024-09-19T22:22:08.117Z"
   },
   {
    "duration": 7,
    "start_time": "2024-09-19T22:22:08.140Z"
   },
   {
    "duration": 9,
    "start_time": "2024-09-19T22:22:08.148Z"
   },
   {
    "duration": 9,
    "start_time": "2024-09-19T22:22:08.159Z"
   },
   {
    "duration": 3,
    "start_time": "2024-09-19T22:22:08.169Z"
   },
   {
    "duration": 27,
    "start_time": "2024-09-19T22:22:08.174Z"
   },
   {
    "duration": 32,
    "start_time": "2024-09-19T22:22:08.234Z"
   },
   {
    "duration": 25,
    "start_time": "2024-09-19T22:22:08.267Z"
   },
   {
    "duration": 8,
    "start_time": "2024-09-19T22:22:08.294Z"
   },
   {
    "duration": 64,
    "start_time": "2024-09-19T22:22:08.304Z"
   },
   {
    "duration": 4,
    "start_time": "2024-09-19T22:22:08.370Z"
   },
   {
    "duration": 4,
    "start_time": "2024-09-19T22:22:08.375Z"
   },
   {
    "duration": 184,
    "start_time": "2024-09-19T22:22:08.381Z"
   },
   {
    "duration": 143,
    "start_time": "2024-09-19T22:22:08.567Z"
   },
   {
    "duration": 143,
    "start_time": "2024-09-19T22:22:08.712Z"
   },
   {
    "duration": 9,
    "start_time": "2024-09-19T22:22:08.857Z"
   },
   {
    "duration": 4,
    "start_time": "2024-09-19T22:22:08.870Z"
   },
   {
    "duration": 3,
    "start_time": "2024-09-19T22:22:08.876Z"
   },
   {
    "duration": 228,
    "start_time": "2024-09-19T22:22:08.882Z"
   },
   {
    "duration": 4,
    "start_time": "2024-09-19T22:22:09.112Z"
   },
   {
    "duration": 144,
    "start_time": "2024-09-19T22:22:09.118Z"
   },
   {
    "duration": 708,
    "start_time": "2024-09-19T22:22:09.264Z"
   },
   {
    "duration": 460,
    "start_time": "2024-09-19T22:22:09.973Z"
   },
   {
    "duration": 241,
    "start_time": "2024-09-19T22:22:10.435Z"
   },
   {
    "duration": 245,
    "start_time": "2024-09-19T22:22:10.677Z"
   },
   {
    "duration": 3,
    "start_time": "2024-09-19T22:22:10.923Z"
   },
   {
    "duration": 141,
    "start_time": "2024-09-19T22:22:10.928Z"
   },
   {
    "duration": 561,
    "start_time": "2024-09-19T22:22:11.071Z"
   },
   {
    "duration": 455,
    "start_time": "2024-09-19T22:22:11.634Z"
   },
   {
    "duration": 5,
    "start_time": "2024-09-19T22:22:12.091Z"
   },
   {
    "duration": 209,
    "start_time": "2024-09-19T22:22:12.098Z"
   },
   {
    "duration": 699,
    "start_time": "2024-09-19T22:22:12.309Z"
   },
   {
    "duration": 504,
    "start_time": "2024-09-19T22:22:13.010Z"
   },
   {
    "duration": 374,
    "start_time": "2024-09-19T22:22:13.516Z"
   },
   {
    "duration": 252,
    "start_time": "2024-09-19T22:22:13.892Z"
   },
   {
    "duration": 2488,
    "start_time": "2024-09-19T22:22:14.147Z"
   },
   {
    "duration": 50,
    "start_time": "2024-09-19T22:23:29.501Z"
   },
   {
    "duration": 56,
    "start_time": "2024-09-19T22:24:14.498Z"
   },
   {
    "duration": 495,
    "start_time": "2024-09-19T22:24:35.160Z"
   },
   {
    "duration": 5,
    "start_time": "2024-09-19T22:24:57.870Z"
   },
   {
    "duration": 490,
    "start_time": "2024-09-19T22:25:02.453Z"
   },
   {
    "duration": 522,
    "start_time": "2024-09-19T22:25:32.762Z"
   },
   {
    "duration": 465,
    "start_time": "2024-09-19T22:26:20.029Z"
   },
   {
    "duration": 304,
    "start_time": "2024-09-19T22:27:08.715Z"
   },
   {
    "duration": 291,
    "start_time": "2024-09-19T22:27:39.866Z"
   },
   {
    "duration": 497,
    "start_time": "2024-09-19T22:27:52.653Z"
   },
   {
    "duration": 527,
    "start_time": "2024-09-19T22:28:13.400Z"
   },
   {
    "duration": 399,
    "start_time": "2024-09-19T22:28:36.582Z"
   },
   {
    "duration": 160,
    "start_time": "2024-09-19T22:31:07.469Z"
   },
   {
    "duration": 509,
    "start_time": "2024-09-19T22:31:53.136Z"
   },
   {
    "duration": 494,
    "start_time": "2024-09-19T22:32:30.699Z"
   },
   {
    "duration": 6,
    "start_time": "2024-09-19T22:33:24.129Z"
   },
   {
    "duration": 30,
    "start_time": "2024-09-19T22:33:49.652Z"
   },
   {
    "duration": 404,
    "start_time": "2024-09-19T22:36:55.618Z"
   },
   {
    "duration": 919,
    "start_time": "2024-09-19T22:36:56.024Z"
   },
   {
    "duration": 12,
    "start_time": "2024-09-19T22:36:56.945Z"
   },
   {
    "duration": 9,
    "start_time": "2024-09-19T22:36:56.959Z"
   },
   {
    "duration": 7,
    "start_time": "2024-09-19T22:36:56.970Z"
   },
   {
    "duration": 8,
    "start_time": "2024-09-19T22:36:56.978Z"
   },
   {
    "duration": 46,
    "start_time": "2024-09-19T22:36:56.987Z"
   },
   {
    "duration": 178,
    "start_time": "2024-09-19T22:36:57.035Z"
   },
   {
    "duration": 16,
    "start_time": "2024-09-19T22:36:57.214Z"
   },
   {
    "duration": 104,
    "start_time": "2024-09-19T22:36:57.233Z"
   },
   {
    "duration": 84,
    "start_time": "2024-09-19T22:36:57.338Z"
   },
   {
    "duration": 55,
    "start_time": "2024-09-19T22:36:57.431Z"
   },
   {
    "duration": 25,
    "start_time": "2024-09-19T22:36:57.488Z"
   },
   {
    "duration": 21,
    "start_time": "2024-09-19T22:36:57.515Z"
   },
   {
    "duration": 33,
    "start_time": "2024-09-19T22:36:57.538Z"
   },
   {
    "duration": 10,
    "start_time": "2024-09-19T22:36:57.572Z"
   },
   {
    "duration": 9,
    "start_time": "2024-09-19T22:36:57.584Z"
   },
   {
    "duration": 3,
    "start_time": "2024-09-19T22:36:57.595Z"
   },
   {
    "duration": 37,
    "start_time": "2024-09-19T22:36:57.600Z"
   },
   {
    "duration": 4,
    "start_time": "2024-09-19T22:36:57.639Z"
   },
   {
    "duration": 831,
    "start_time": "2024-09-19T22:36:57.644Z"
   },
   {
    "duration": 125,
    "start_time": "2024-09-19T22:36:58.477Z"
   },
   {
    "duration": 4,
    "start_time": "2024-09-19T22:36:58.604Z"
   },
   {
    "duration": 8,
    "start_time": "2024-09-19T22:36:58.610Z"
   },
   {
    "duration": 19,
    "start_time": "2024-09-19T22:36:58.619Z"
   },
   {
    "duration": 4,
    "start_time": "2024-09-19T22:36:58.641Z"
   },
   {
    "duration": 8,
    "start_time": "2024-09-19T22:36:58.646Z"
   },
   {
    "duration": 9,
    "start_time": "2024-09-19T22:36:58.658Z"
   },
   {
    "duration": 3,
    "start_time": "2024-09-19T22:36:58.669Z"
   },
   {
    "duration": 58,
    "start_time": "2024-09-19T22:36:58.673Z"
   },
   {
    "duration": 29,
    "start_time": "2024-09-19T22:36:58.733Z"
   },
   {
    "duration": 27,
    "start_time": "2024-09-19T22:36:58.764Z"
   },
   {
    "duration": 8,
    "start_time": "2024-09-19T22:36:58.793Z"
   },
   {
    "duration": 64,
    "start_time": "2024-09-19T22:36:58.803Z"
   },
   {
    "duration": 4,
    "start_time": "2024-09-19T22:36:58.869Z"
   },
   {
    "duration": 4,
    "start_time": "2024-09-19T22:36:58.874Z"
   },
   {
    "duration": 178,
    "start_time": "2024-09-19T22:36:58.880Z"
   },
   {
    "duration": 142,
    "start_time": "2024-09-19T22:36:59.060Z"
   },
   {
    "duration": 141,
    "start_time": "2024-09-19T22:36:59.204Z"
   },
   {
    "duration": 9,
    "start_time": "2024-09-19T22:36:59.347Z"
   },
   {
    "duration": 5,
    "start_time": "2024-09-19T22:36:59.358Z"
   },
   {
    "duration": 3,
    "start_time": "2024-09-19T22:36:59.364Z"
   },
   {
    "duration": 241,
    "start_time": "2024-09-19T22:36:59.369Z"
   },
   {
    "duration": 4,
    "start_time": "2024-09-19T22:36:59.612Z"
   },
   {
    "duration": 141,
    "start_time": "2024-09-19T22:36:59.618Z"
   },
   {
    "duration": 708,
    "start_time": "2024-09-19T22:36:59.760Z"
   },
   {
    "duration": 449,
    "start_time": "2024-09-19T22:37:00.470Z"
   },
   {
    "duration": 231,
    "start_time": "2024-09-19T22:37:00.921Z"
   },
   {
    "duration": 252,
    "start_time": "2024-09-19T22:37:01.153Z"
   },
   {
    "duration": 3,
    "start_time": "2024-09-19T22:37:01.407Z"
   },
   {
    "duration": 148,
    "start_time": "2024-09-19T22:37:01.412Z"
   },
   {
    "duration": 572,
    "start_time": "2024-09-19T22:37:01.561Z"
   },
   {
    "duration": 436,
    "start_time": "2024-09-19T22:37:02.135Z"
   },
   {
    "duration": 7,
    "start_time": "2024-09-19T22:37:02.573Z"
   },
   {
    "duration": 208,
    "start_time": "2024-09-19T22:37:02.582Z"
   },
   {
    "duration": 676,
    "start_time": "2024-09-19T22:37:02.792Z"
   },
   {
    "duration": 500,
    "start_time": "2024-09-19T22:37:03.470Z"
   },
   {
    "duration": 344,
    "start_time": "2024-09-19T22:37:03.972Z"
   },
   {
    "duration": 277,
    "start_time": "2024-09-19T22:37:04.317Z"
   },
   {
    "duration": 2210,
    "start_time": "2024-09-20T05:27:39.297Z"
   },
   {
    "duration": 1042,
    "start_time": "2024-09-20T05:27:41.509Z"
   },
   {
    "duration": 11,
    "start_time": "2024-09-20T05:27:42.553Z"
   },
   {
    "duration": 10,
    "start_time": "2024-09-20T05:27:42.565Z"
   },
   {
    "duration": 8,
    "start_time": "2024-09-20T05:27:42.578Z"
   },
   {
    "duration": 10,
    "start_time": "2024-09-20T05:27:42.588Z"
   },
   {
    "duration": 57,
    "start_time": "2024-09-20T05:27:42.599Z"
   },
   {
    "duration": 178,
    "start_time": "2024-09-20T05:27:42.658Z"
   },
   {
    "duration": 8,
    "start_time": "2024-09-20T05:27:42.843Z"
   },
   {
    "duration": 108,
    "start_time": "2024-09-20T05:27:42.853Z"
   },
   {
    "duration": 93,
    "start_time": "2024-09-20T05:27:42.963Z"
   },
   {
    "duration": 57,
    "start_time": "2024-09-20T05:27:43.058Z"
   },
   {
    "duration": 42,
    "start_time": "2024-09-20T05:27:43.117Z"
   },
   {
    "duration": 5,
    "start_time": "2024-09-20T05:27:43.163Z"
   },
   {
    "duration": 28,
    "start_time": "2024-09-20T05:27:43.170Z"
   },
   {
    "duration": 10,
    "start_time": "2024-09-20T05:27:43.199Z"
   },
   {
    "duration": 33,
    "start_time": "2024-09-20T05:27:43.211Z"
   },
   {
    "duration": 4,
    "start_time": "2024-09-20T05:27:43.246Z"
   },
   {
    "duration": 9,
    "start_time": "2024-09-20T05:27:43.251Z"
   },
   {
    "duration": 3,
    "start_time": "2024-09-20T05:27:43.262Z"
   },
   {
    "duration": 815,
    "start_time": "2024-09-20T05:27:43.268Z"
   },
   {
    "duration": 135,
    "start_time": "2024-09-20T05:27:44.085Z"
   },
   {
    "duration": 5,
    "start_time": "2024-09-20T05:27:44.222Z"
   },
   {
    "duration": 21,
    "start_time": "2024-09-20T05:27:44.228Z"
   },
   {
    "duration": 8,
    "start_time": "2024-09-20T05:27:44.250Z"
   },
   {
    "duration": 4,
    "start_time": "2024-09-20T05:27:44.260Z"
   },
   {
    "duration": 9,
    "start_time": "2024-09-20T05:27:44.266Z"
   },
   {
    "duration": 10,
    "start_time": "2024-09-20T05:27:44.276Z"
   },
   {
    "duration": 3,
    "start_time": "2024-09-20T05:27:44.288Z"
   },
   {
    "duration": 63,
    "start_time": "2024-09-20T05:27:44.293Z"
   },
   {
    "duration": 33,
    "start_time": "2024-09-20T05:27:44.358Z"
   },
   {
    "duration": 28,
    "start_time": "2024-09-20T05:27:44.393Z"
   },
   {
    "duration": 9,
    "start_time": "2024-09-20T05:27:44.443Z"
   },
   {
    "duration": 40,
    "start_time": "2024-09-20T05:27:44.454Z"
   },
   {
    "duration": 4,
    "start_time": "2024-09-20T05:27:44.496Z"
   },
   {
    "duration": 4,
    "start_time": "2024-09-20T05:27:44.502Z"
   },
   {
    "duration": 206,
    "start_time": "2024-09-20T05:27:44.507Z"
   },
   {
    "duration": 148,
    "start_time": "2024-09-20T05:27:44.716Z"
   },
   {
    "duration": 173,
    "start_time": "2024-09-20T05:27:44.866Z"
   },
   {
    "duration": 9,
    "start_time": "2024-09-20T05:27:45.042Z"
   },
   {
    "duration": 6,
    "start_time": "2024-09-20T05:27:45.056Z"
   },
   {
    "duration": 3,
    "start_time": "2024-09-20T05:27:45.064Z"
   },
   {
    "duration": 235,
    "start_time": "2024-09-20T05:27:45.069Z"
   },
   {
    "duration": 4,
    "start_time": "2024-09-20T05:27:45.306Z"
   },
   {
    "duration": 143,
    "start_time": "2024-09-20T05:27:45.312Z"
   },
   {
    "duration": 714,
    "start_time": "2024-09-20T05:27:45.457Z"
   },
   {
    "duration": 447,
    "start_time": "2024-09-20T05:27:46.173Z"
   },
   {
    "duration": 226,
    "start_time": "2024-09-20T05:27:46.621Z"
   },
   {
    "duration": 267,
    "start_time": "2024-09-20T05:27:46.850Z"
   },
   {
    "duration": 3,
    "start_time": "2024-09-20T05:27:47.119Z"
   },
   {
    "duration": 151,
    "start_time": "2024-09-20T05:27:47.124Z"
   },
   {
    "duration": 586,
    "start_time": "2024-09-20T05:27:47.277Z"
   },
   {
    "duration": 434,
    "start_time": "2024-09-20T05:27:47.865Z"
   },
   {
    "duration": 6,
    "start_time": "2024-09-20T05:27:48.301Z"
   },
   {
    "duration": 208,
    "start_time": "2024-09-20T05:27:48.310Z"
   },
   {
    "duration": 723,
    "start_time": "2024-09-20T05:27:48.520Z"
   },
   {
    "duration": 499,
    "start_time": "2024-09-20T05:27:49.244Z"
   },
   {
    "duration": 294,
    "start_time": "2024-09-20T05:27:49.744Z"
   },
   {
    "duration": 250,
    "start_time": "2024-09-20T05:27:50.043Z"
   },
   {
    "duration": 3,
    "start_time": "2024-09-20T05:29:05.315Z"
   },
   {
    "duration": 720,
    "start_time": "2024-09-20T05:30:05.975Z"
   },
   {
    "duration": 2,
    "start_time": "2024-09-20T05:30:52.539Z"
   },
   {
    "duration": 734,
    "start_time": "2024-09-20T05:39:50.839Z"
   },
   {
    "duration": 701,
    "start_time": "2024-09-20T05:40:10.608Z"
   },
   {
    "duration": 709,
    "start_time": "2024-09-20T05:40:23.816Z"
   },
   {
    "duration": 838,
    "start_time": "2024-09-20T05:41:33.212Z"
   },
   {
    "duration": 976,
    "start_time": "2024-09-20T05:42:08.311Z"
   },
   {
    "duration": 867,
    "start_time": "2024-09-20T05:42:17.569Z"
   },
   {
    "duration": 930,
    "start_time": "2024-09-20T05:43:48.996Z"
   },
   {
    "duration": 903,
    "start_time": "2024-09-20T05:44:16.595Z"
   },
   {
    "duration": 922,
    "start_time": "2024-09-20T05:44:35.962Z"
   },
   {
    "duration": 974,
    "start_time": "2024-09-20T05:44:59.678Z"
   },
   {
    "duration": 1730,
    "start_time": "2024-09-20T05:46:03.440Z"
   },
   {
    "duration": 1826,
    "start_time": "2024-09-20T05:46:40.394Z"
   },
   {
    "duration": 1761,
    "start_time": "2024-09-20T05:47:23.995Z"
   },
   {
    "duration": 1782,
    "start_time": "2024-09-20T05:47:29.017Z"
   },
   {
    "duration": 2110,
    "start_time": "2024-09-20T05:48:20.071Z"
   },
   {
    "duration": 4,
    "start_time": "2024-09-20T05:50:09.399Z"
   },
   {
    "duration": 1755,
    "start_time": "2024-09-20T05:50:16.435Z"
   },
   {
    "duration": 2157,
    "start_time": "2024-09-20T05:50:50.566Z"
   },
   {
    "duration": 1666,
    "start_time": "2024-09-20T05:51:06.829Z"
   },
   {
    "duration": 1717,
    "start_time": "2024-09-20T05:51:21.369Z"
   },
   {
    "duration": 368,
    "start_time": "2024-09-20T05:54:54.932Z"
   },
   {
    "duration": 807,
    "start_time": "2024-09-20T05:55:47.516Z"
   },
   {
    "duration": 800,
    "start_time": "2024-09-20T05:56:03.967Z"
   },
   {
    "duration": 742,
    "start_time": "2024-09-20T05:56:16.020Z"
   },
   {
    "duration": 779,
    "start_time": "2024-09-20T05:56:32.998Z"
   },
   {
    "duration": 721,
    "start_time": "2024-09-20T05:56:45.823Z"
   },
   {
    "duration": 735,
    "start_time": "2024-09-20T05:56:56.710Z"
   },
   {
    "duration": 753,
    "start_time": "2024-09-20T05:57:28.562Z"
   },
   {
    "duration": 735,
    "start_time": "2024-09-20T05:57:51.394Z"
   },
   {
    "duration": 738,
    "start_time": "2024-09-20T05:58:11.282Z"
   },
   {
    "duration": 723,
    "start_time": "2024-09-20T05:58:46.847Z"
   },
   {
    "duration": 741,
    "start_time": "2024-09-20T05:58:58.184Z"
   },
   {
    "duration": 815,
    "start_time": "2024-09-20T05:59:09.016Z"
   },
   {
    "duration": 718,
    "start_time": "2024-09-20T05:59:33.082Z"
   },
   {
    "duration": 722,
    "start_time": "2024-09-20T05:59:43.278Z"
   },
   {
    "duration": 752,
    "start_time": "2024-09-20T05:59:58.444Z"
   },
   {
    "duration": 5,
    "start_time": "2024-09-20T06:02:25.345Z"
   }
  ],
  "colab": {
   "provenance": []
  },
  "kernelspec": {
   "display_name": "Python 3 (ipykernel)",
   "language": "python",
   "name": "python3"
  },
  "language_info": {
   "codemirror_mode": {
    "name": "ipython",
    "version": 3
   },
   "file_extension": ".py",
   "mimetype": "text/x-python",
   "name": "python",
   "nbconvert_exporter": "python",
   "pygments_lexer": "ipython3",
   "version": "3.9.19"
  },
  "toc": {
   "base_numbering": 1,
   "nav_menu": {},
   "number_sections": true,
   "sideBar": true,
   "skip_h1_title": true,
   "title_cell": "Table of Contents",
   "title_sidebar": "Contents",
   "toc_cell": false,
   "toc_position": {},
   "toc_section_display": true,
   "toc_window_display": false
  },
  "vscode": {
   "interpreter": {
    "hash": "01a7be9ec63e704a62cefc5fe7a4756944464ee731be31632bdf42a4cb4688cf"
   }
  }
 },
 "nbformat": 4,
 "nbformat_minor": 5
}
